{
 "cells": [
  {
   "attachments": {},
   "cell_type": "markdown",
   "metadata": {},
   "source": [
    "## 정보검색\n",
    "1. Vector Space Model\n",
    "2. Indexing\n",
    "3. Inverted Document\n",
    "4. Weighting\n",
    "5. Retrieving\n"
   ]
  },
  {
   "cell_type": "markdown",
   "metadata": {},
   "source": [
    "- TF/IDF\n",
    "![7](https://user-images.githubusercontent.com/38183218/43502447-e3624b86-9595-11e8-895b-150ed944052c.jpg)"
   ]
  },
  {
   "cell_type": "markdown",
   "metadata": {},
   "source": [
    "- Similarity\n",
    "![8](https://user-images.githubusercontent.com/38183218/43502459-f96733f6-9595-11e8-8094-60a1791d8daa.jpg)\n",
    "![9](https://user-images.githubusercontent.com/38183218/43502460-f991e916-9595-11e8-880c-6295e33fdf91.jpg)"
   ]
  },
  {
   "cell_type": "markdown",
   "metadata": {},
   "source": [
    "실습: 뉴스doc을 구축해보자"
   ]
  },
  {
   "cell_type": "code",
   "execution_count": 85,
   "metadata": {},
   "outputs": [],
   "source": [
    "import requests\n",
    "from bs4 import BeautifulSoup\n",
    "import glob\n",
    "import re\n",
    "import nltk\n",
    "from konlpy.tag import Kkma"
   ]
  },
  {
   "cell_type": "code",
   "execution_count": 2,
   "metadata": {},
   "outputs": [],
   "source": [
    "resp = requests.get(\"http://media.daum.net\")"
   ]
  },
  {
   "cell_type": "code",
   "execution_count": 6,
   "metadata": {},
   "outputs": [],
   "source": [
    "soup = BeautifulSoup(resp.content,'lxml')"
   ]
  },
  {
   "cell_type": "code",
   "execution_count": 15,
   "metadata": {},
   "outputs": [],
   "source": [
    "aList = soup.select('.list_headline  a.link_txt')"
   ]
  },
  {
   "cell_type": "code",
   "execution_count": 20,
   "metadata": {},
   "outputs": [],
   "source": [
    "links = []\n",
    "for a in aList:\n",
    "    links.append(a.get('href'))"
   ]
  },
  {
   "cell_type": "code",
   "execution_count": 21,
   "metadata": {},
   "outputs": [
    {
     "data": {
      "text/plain": [
       "['http://v.media.daum.net/v/20180801141138247',\n",
       " 'http://v.media.daum.net/v/20180801140951174',\n",
       " 'http://v.media.daum.net/v/20180801140921160',\n",
       " 'http://v.media.daum.net/v/20180801140802122',\n",
       " 'http://v.media.daum.net/v/20180801140622059',\n",
       " 'http://v.media.daum.net/v/20180801140406973',\n",
       " 'http://v.media.daum.net/v/20180801140352961',\n",
       " 'http://v.media.daum.net/v/20180801140009800',\n",
       " 'http://v.media.daum.net/v/20180801140007797',\n",
       " 'http://v.media.daum.net/v/20180801140007793',\n",
       " 'http://v.media.daum.net/v/20180801140004784',\n",
       " 'http://v.media.daum.net/v/20180801135922758']"
      ]
     },
     "execution_count": 21,
     "metadata": {},
     "output_type": "execute_result"
    }
   ],
   "source": [
    "links"
   ]
  },
  {
   "cell_type": "code",
   "execution_count": 39,
   "metadata": {},
   "outputs": [],
   "source": [
    "news_docs = []\n",
    "for link in links:\n",
    "    resp = requests.get(link)\n",
    "    news_soup = BeautifulSoup(resp.content,'lxml')\n",
    "    \n",
    "    title = news_soup.find('title')\n",
    "    pars = news_soup.select('.article_view p ')\n",
    "    article = ''.join([par.text for par in pars if len(par)>0])\n",
    "    news_docs.append((title.text, article))"
   ]
  },
  {
   "cell_type": "code",
   "execution_count": 58,
   "metadata": {},
   "outputs": [
    {
     "data": {
      "text/plain": [
       "('강원도 홍천 40.3도..우리나라 기상관측 이래 역대 최고(2보) | Daum 뉴스',\n",
       " '(서울=연합뉴스) 김승욱 기자 = 강원도 홍천의 수은주가 1일 40.3도까지 치솟아 기상관측 이래 역대 최고기온을 갈아치웠다.기상청에 따르면 이날 오후 1시 59시께 40.1도를 기록한 뒤 오후 2시 1분께 40.3도로 기온이 더 올랐다.우리나라 기상관측 역대 최고 온도다.부산·인천 1904년, 서울 1907년 등 현대적인 기상관측 장비가 도입된 20세기 초반 이래 전국에서 40도를 돌파한 적은 1942년 8월 1일 대구(40.0도)가 유일했다.앞서 경북 의성은 올해 7월 27일 39.9도, 충북 추풍령은 1939년 7월 21일 39.8도를 기록한 바 있다.ksw08@yna.co.kr')"
      ]
     },
     "execution_count": 58,
     "metadata": {},
     "output_type": "execute_result"
    }
   ],
   "source": [
    "news_docs[0]"
   ]
  },
  {
   "cell_type": "code",
   "execution_count": 41,
   "metadata": {},
   "outputs": [
    {
     "data": {
      "text/plain": [
       "12"
      ]
     },
     "execution_count": 41,
     "metadata": {},
     "output_type": "execute_result"
    }
   ],
   "source": [
    "len(news_docs)"
   ]
  },
  {
   "cell_type": "code",
   "execution_count": 52,
   "metadata": {},
   "outputs": [],
   "source": [
    "for i in range(len(news_docs)):\n",
    "    with open('docs/news_docs{0}.txt'.format(i),'w',encoding='utf-8') as fp:\n",
    "        fp.write(news_docs[i][0]+'\\n'+news_docs[i][1])"
   ]
  },
  {
   "cell_type": "code",
   "execution_count": 69,
   "metadata": {},
   "outputs": [],
   "source": [
    "fileList = glob.glob('/Users/Chankoo/Desktop/GitHub/python/docs/*')"
   ]
  },
  {
   "cell_type": "code",
   "execution_count": 112,
   "metadata": {},
   "outputs": [
    {
     "name": "stdout",
     "output_type": "stream",
     "text": [
      "강원도\n",
      "['강원', '원도']\n",
      "홍천\n",
      "['홍천']\n",
      "40\n",
      "['40']\n",
      "3도\n",
      "['3도']\n",
      "우리나라\n",
      "['우리', '리나', '나라']\n",
      "기상관측\n",
      "['기상', '상관', '관측']\n",
      "이래\n",
      "['이래']\n",
      "역대\n",
      "['역대']\n",
      "최고\n",
      "['최고']\n",
      "2보\n",
      "['2보']\n",
      "뉴스\n",
      "['뉴스']\n",
      "서울\n",
      "['서울']\n",
      "연합뉴스\n",
      "['연합', '합뉴', '뉴스']\n",
      "김승욱\n",
      "['김승', '승욱']\n",
      "기자\n",
      "['기자']\n",
      "강원도\n",
      "['강원', '원도']\n",
      "홍천의\n",
      "['홍천', '천의']\n",
      "수은주가\n",
      "['수은', '은주', '주가']\n",
      "1일\n",
      "['1일']\n",
      "40\n",
      "['40']\n",
      "3도까지\n",
      "['3도', '도까', '까지']\n",
      "치솟아\n",
      "['치솟', '솟아']\n",
      "기상관측\n",
      "['기상', '상관', '관측']\n",
      "이래\n",
      "['이래']\n",
      "역대\n",
      "['역대']\n",
      "최고기온을\n",
      "['최고', '고기', '기온', '온을']\n",
      "갈아치웠다\n",
      "['갈아', '아치', '치웠', '웠다']\n",
      "기상청에\n",
      "['기상', '상청', '청에']\n",
      "따르면\n",
      "['따르', '르면']\n",
      "이날\n",
      "['이날']\n",
      "오후\n",
      "['오후']\n",
      "1시\n",
      "['1시']\n",
      "59시께\n",
      "['59', '9시', '시께']\n",
      "40\n",
      "['40']\n",
      "1도를\n",
      "['1도', '도를']\n",
      "기록한\n",
      "['기록', '록한']\n",
      "뒤\n",
      "[]\n",
      "오후\n",
      "['오후']\n",
      "2시\n",
      "['2시']\n",
      "1분께\n",
      "['1분', '분께']\n",
      "40\n",
      "['40']\n",
      "3도로\n",
      "['3도', '도로']\n",
      "기온이\n",
      "['기온', '온이']\n",
      "더\n",
      "[]\n",
      "올랐다\n",
      "['올랐', '랐다']\n",
      "우리나라\n",
      "['우리', '리나', '나라']\n",
      "기상관측\n",
      "['기상', '상관', '관측']\n",
      "역대\n",
      "['역대']\n",
      "최고\n",
      "['최고']\n",
      "온도다\n",
      "['온도', '도다']\n",
      "부산\n",
      "['부산']\n",
      "인천\n",
      "['인천']\n",
      "1904년\n",
      "['19', '90', '04', '4년']\n",
      "서울\n",
      "['서울']\n",
      "1907년\n",
      "['19', '90', '07', '7년']\n",
      "등\n",
      "[]\n",
      "현대적인\n",
      "['현대', '대적', '적인']\n",
      "기상관측\n",
      "['기상', '상관', '관측']\n",
      "장비가\n",
      "['장비', '비가']\n",
      "도입된\n",
      "['도입', '입된']\n",
      "20세기\n",
      "['20', '0세', '세기']\n",
      "초반\n",
      "['초반']\n",
      "이래\n",
      "['이래']\n",
      "전국에서\n",
      "['전국', '국에', '에서']\n",
      "40도를\n",
      "['40', '0도', '도를']\n",
      "돌파한\n",
      "['돌파', '파한']\n",
      "적은\n",
      "['적은']\n",
      "1942년\n",
      "['19', '94', '42', '2년']\n",
      "8월\n",
      "['8월']\n",
      "1일\n",
      "['1일']\n",
      "대구\n",
      "['대구']\n",
      "40\n",
      "['40']\n",
      "0도\n",
      "['0도']\n",
      "가\n",
      "[]\n",
      "유일했다\n",
      "['유일', '일했', '했다']\n",
      "앞서\n",
      "['앞서']\n",
      "경북\n",
      "['경북']\n",
      "의성은\n",
      "['의성', '성은']\n",
      "올해\n",
      "['올해']\n",
      "7월\n",
      "['7월']\n",
      "27일\n",
      "['27', '7일']\n",
      "39\n",
      "['39']\n",
      "9도\n",
      "['9도']\n",
      "충북\n",
      "['충북']\n",
      "추풍령은\n",
      "['추풍', '풍령', '령은']\n",
      "1939년\n",
      "['19', '93', '39', '9년']\n",
      "7월\n",
      "['7월']\n",
      "21일\n",
      "['21', '1일']\n",
      "39\n",
      "['39']\n",
      "8도를\n",
      "['8도', '도를']\n",
      "기록한\n",
      "['기록', '록한']\n",
      "바\n",
      "[]\n",
      "있다\n",
      "['있다']\n",
      "08\n",
      "['08']\n"
     ]
    }
   ],
   "source": [
    "for file in fileList[:1]: \n",
    "    with open(file,'r',encoding='utf-8') as fp:\n",
    "        content = fp.read()\n",
    "        content = re.sub(r\"[\\s]{2,}\",\"\",content) # strip\n",
    "        for sentence in nltk.sent_tokenize(content):\n",
    "            words = nltk.regexp_tokenize(sentence, r\"[0-9ㄱ-ㅎㅏ-ㅣ가-힛]+\") # 한글 tokenizing을 위해 regexp를 쓴다\n",
    "            for word in words:\n",
    "                tokens = []\n",
    "                for i in range(len(word)):\n",
    "                    if i+1<len(word): # 1음절, 마지막음절 제거\n",
    "                        tokens.append(word[i:i+2]) # bigram으로 자름\n",
    "                print(word)\n",
    "                print(tokens, end='\\n')"
   ]
  },
  {
   "cell_type": "code",
   "execution_count": 110,
   "metadata": {},
   "outputs": [
    {
     "name": "stdout",
     "output_type": "stream",
     "text": [
      "185\n"
     ]
    }
   ],
   "source": [
    "unq_nouns = [] # vetorize를 위해 unique한 noun을 뽑아낸다\n",
    "\n",
    "for sentence in nltk.sent_tokenize(content):\n",
    "    nouns = []\n",
    "    for word in nltk.word_tokenize(sentence):\n",
    "        nouns.extend(Kkma().nouns(word))\n",
    "        nouns = list(set(nouns))\n",
    "    unq_nouns.extend(nouns)\n",
    "\n",
    "unq_nouns = list(set(unq_nouns))\n",
    "print(len(unq_nouns)) # 차원의 수"
   ]
  },
  {
   "cell_type": "code",
   "execution_count": null,
   "metadata": {},
   "outputs": [],
   "source": []
  }
 ],
 "metadata": {
  "kernelspec": {
   "display_name": "Python 3",
   "language": "python",
   "name": "python3"
  },
  "language_info": {
   "codemirror_mode": {
    "name": "ipython",
    "version": 3
   },
   "file_extension": ".py",
   "mimetype": "text/x-python",
   "name": "python",
   "nbconvert_exporter": "python",
   "pygments_lexer": "ipython3",
   "version": "3.6.4"
  }
 },
 "nbformat": 4,
 "nbformat_minor": 2
}
