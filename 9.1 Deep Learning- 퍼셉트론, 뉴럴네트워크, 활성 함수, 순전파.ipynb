{
 "cells": [
  {
   "cell_type": "markdown",
   "metadata": {},
   "source": [
    "### Deep learning\n",
    "\n",
    "#### AI > ML > DL\n",
    "\n",
    "- ai: 인간의 지능을 특정 부분에서 흉내낸 기계, 포괄적인 개념\n",
    "\n",
    "- ml: ai의 하위개념, 모델 학습 과정에서 parameter를 기계가 찾아줌\n",
    "\n",
    "- dl: ml중 뉴럴넷 이용하는 기계\n",
    "\n",
    "#### dl 성공요인 : \n",
    "- feature 요인이 적다, 알아서 골라줌\n",
    "- 기존보다 훨씬 좋은 성능\n",
    "- GPU의 발달, 네트워크 학습시 mat mul이 훨씬 빨라짐"
   ]
  },
  {
   "cell_type": "markdown",
   "metadata": {},
   "source": [
    "### Perceptron\n",
    "- logistic regression과 유사\n",
    "\n",
    "- 인풋을 받아 아웃풋을 내어놓는다\n",
    "\n",
    "- 다수의 신호를 입력으로 받아 하나의 신호를 출력\n",
    "- 이진 값만 가짐\n",
    "     - 1: 신호가 흐름\n",
    "     - 0: 신호가 흐르지 않음\n",
    "     \n",
    "![1](https://user-images.githubusercontent.com/38183218/43946493-609b3fc8-9cc0-11e8-98df-9b7c7db31549.PNG)\n",
    "\n"
   ]
  },
  {
   "cell_type": "code",
   "execution_count": 1,
   "metadata": {},
   "outputs": [],
   "source": [
    "import numpy as np\n",
    "import matplotlib.pylab as plt"
   ]
  },
  {
   "cell_type": "markdown",
   "metadata": {},
   "source": [
    "#### Gates 구현"
   ]
  },
  {
   "cell_type": "markdown",
   "metadata": {},
   "source": [
    "![2](https://user-images.githubusercontent.com/38183218/43946494-60c9269a-9cc0-11e8-8890-7f7ae18ad647.PNG)\n"
   ]
  },
  {
   "cell_type": "code",
   "execution_count": 2,
   "metadata": {},
   "outputs": [],
   "source": [
    "def AND(x1,x2):\n",
    "    x = np.array([x1,x2])\n",
    "    w = np.array([0.5,0.5])\n",
    "    b = -0.7\n",
    "    tmp = np.sum(w*x) + b\n",
    "    if tmp <=0:\n",
    "        return 0\n",
    "    else:\n",
    "        return 1"
   ]
  },
  {
   "cell_type": "markdown",
   "metadata": {},
   "source": [
    "![3](https://user-images.githubusercontent.com/38183218/43946496-6105787a-9cc0-11e8-87e3-37447a04460a.PNG)"
   ]
  },
  {
   "cell_type": "code",
   "execution_count": 21,
   "metadata": {},
   "outputs": [],
   "source": [
    "def NAND(x1,x2):\n",
    "    x = np.array([x1,x2])\n",
    "    w = np.array([-0.5 ,-0.5])\n",
    "    b = 0.7\n",
    "    tmp = np.sum(w*x) + b\n",
    "    if tmp<=0:\n",
    "        return 0\n",
    "    else:\n",
    "        return 1"
   ]
  },
  {
   "cell_type": "code",
   "execution_count": 6,
   "metadata": {},
   "outputs": [],
   "source": [
    "def OR(x1,x2):\n",
    "    x = np.array([x1,x2])\n",
    "    w = np.array([0.5, 0.5])\n",
    "    b = -0.2\n",
    "    tmp = np.sum(w*x) + b\n",
    "    if tmp<=0:\n",
    "        return 0\n",
    "    else:\n",
    "        return 1"
   ]
  },
  {
   "cell_type": "markdown",
   "metadata": {},
   "source": [
    "#### XOR 게이트\n",
    "- 배타적 논리합\n",
    "- x1,x2 중 한쪽이 1일때만 1을 출력\n",
    "- 직선(단층 퍼셉트론)으로 표현할 수 없다\n",
    "\n",
    "![](http://toritris.weebly.com/uploads/1/4/1/3/14134854/3587654.jpg?323)\n",
    "\n",
    "- 다층 퍼셉트론으로 해결"
   ]
  },
  {
   "cell_type": "code",
   "execution_count": 23,
   "metadata": {},
   "outputs": [],
   "source": [
    "def XOR(x1,x2):\n",
    "    s1 = NAND(x1,x2)\n",
    "    s2 = OR(x1,x2)\n",
    "    y = AND(s1,s2)\n",
    "    return y"
   ]
  },
  {
   "cell_type": "code",
   "execution_count": 24,
   "metadata": {},
   "outputs": [
    {
     "name": "stdout",
     "output_type": "stream",
     "text": [
      "AND: (0, 0) -> 0\n",
      "NAND: (0, 0) -> 1\n",
      "OR: (0, 0) -> 0\n",
      "AND: (1, 0) -> 0\n",
      "NAND: (1, 0) -> 1\n",
      "OR: (1, 0) -> 1\n",
      "AND: (0, 1) -> 0\n",
      "NAND: (0, 1) -> 1\n",
      "OR: (0, 1) -> 1\n",
      "AND: (1, 1) -> 1\n",
      "NAND: (1, 1) -> 0\n",
      "OR: (1, 1) -> 1\n",
      "\n",
      "\n",
      "XOR: (0, 0) -> 0\n",
      "XOR: (1, 0) -> 1\n",
      "XOR: (0, 1) -> 1\n",
      "XOR: (1, 1) -> 0\n"
     ]
    }
   ],
   "source": [
    "if __name__==\"__main__\":\n",
    "    for xs in [(0,0),(1,0),(0,1),(1,1)]:\n",
    "        y1 = AND(xs[0],xs[1])\n",
    "        y2 = NAND(xs[0],xs[1])\n",
    "        y3 = OR(xs[0],xs[1])\n",
    "        \n",
    "        print(\"AND: \"+str(xs)+\" -> \"+str(y1))\n",
    "        print(\"NAND: \"+str(xs)+\" -> \"+str(y2))\n",
    "        print(\"OR: \"+str(xs)+\" -> \"+str(y3))\n",
    "    \n",
    "    print(\"\\n\")\n",
    "    for xs in [(0,0),(1,0),(0,1),(1,1)]:\n",
    "        y4 = XOR(xs[0],xs[1])\n",
    "        print(\"XOR: \"+str(xs)+\" -> \"+str(y4))"
   ]
  },
  {
   "cell_type": "code",
   "execution_count": null,
   "metadata": {},
   "outputs": [],
   "source": []
  },
  {
   "cell_type": "markdown",
   "metadata": {},
   "source": [
    "#### Linear Classification\n",
    "![3](https://user-images.githubusercontent.com/38183218/45800306-791bc680-bceb-11e8-9600-a6ef2c0a987f.PNG)\n",
    "\n",
    "- Each __row__ of weight matrix corresponds to some __template__ for __one of the classes__\n",
    "- Inner producted by given stretched pixels(column), we can compute the similarity with the class\n",
    "\n"
   ]
  },
  {
   "cell_type": "markdown",
   "metadata": {},
   "source": [
    "![4](https://user-images.githubusercontent.com/38183218/45800717-ba60a600-bcec-11e8-9cf0-1d6f46d1e4b7.PNG)\n",
    "- 예를 들면, the ship template는 많은 blue pixcels 를 지닌다 \n",
    "    - 그러므로 바다와 같은 이미지와 매칭되었을때 높은 score를 도출한다\n",
    "    \n",
    "- 한계는 only learning one template for each class"
   ]
  },
  {
   "cell_type": "code",
   "execution_count": null,
   "metadata": {},
   "outputs": [],
   "source": []
  },
  {
   "cell_type": "markdown",
   "metadata": {},
   "source": [
    "### Neural Network\n",
    "- 인간의 뇌를 본따 레이어를 여러개 쌓은 네트워크\n",
    "- 각 레이어마다 아웃풋을 내어놓는데 이를 활성함수를 이용해 변환한다\n",
    "\n",
    "![4](https://user-images.githubusercontent.com/38183218/43946497-6133c248-9cc0-11e8-9253-0137e90dc148.PNG)\n",
    "\n",
    "- 퍼셉트론의 한계는 가중치를 결정하는 작업을 수동으로 했다는 것이다\u000b",
    "\n",
    "- AND, OR 게이트 함수 만들때 가중치에 여러개의 답이 있었는데, 적절한 값을 찍어서 정했었다\n",
    "- 반면, 신경망은 가중치를 데이터를 학습한 모델이 정해준다"
   ]
  },
  {
   "cell_type": "code",
   "execution_count": 28,
   "metadata": {},
   "outputs": [],
   "source": [
    "#step\n",
    "def step_function(x):\n",
    "    return np.array(x>0, dtype = np.int)\n",
    "\n",
    "#시그모이드\n",
    "def sigmoid(x):\n",
    "    return 1 / (1+np.exp(-x))\n",
    "\n",
    "#ReLu\n",
    "def relu(x):\n",
    "    return np.maximum(0, x)\n",
    "\n",
    "X = np.arange(-7.0, 7.0, 0.1)"
   ]
  },
  {
   "cell_type": "code",
   "execution_count": 29,
   "metadata": {},
   "outputs": [
    {
     "data": {
      "text/plain": [
       "(-0.1, 1.1)"
      ]
     },
     "execution_count": 29,
     "metadata": {},
     "output_type": "execute_result"
    },
    {
     "data": {
      "image/png": "[encoded data removed]",
      "text/plain": [
       "<matplotlib.figure.Figure at 0x2953c97c390>"
      ]
     },
     "metadata": {},
     "output_type": "display_data"
    }
   ],
   "source": [
    "Y1 = step_function(X)\n",
    "plt.plot(X,Y1)\n",
    "plt.ylim(-0.1,1.1)"
   ]
  },
  {
   "cell_type": "code",
   "execution_count": 30,
   "metadata": {},
   "outputs": [
    {
     "data": {
      "text/plain": [
       "(-0.1, 1.1)"
      ]
     },
     "execution_count": 30,
     "metadata": {},
     "output_type": "execute_result"
    },
    {
     "data": {
      "image/png": "[encoded data removed]",
      "text/plain": [
       "<matplotlib.figure.Figure at 0x2953c9dc518>"
      ]
     },
     "metadata": {},
     "output_type": "display_data"
    }
   ],
   "source": [
    "Y2 = sigmoid(X)\n",
    "plt.plot(X,Y2)\n",
    "plt.ylim(-0.1,1.1)\n"
   ]
  },
  {
   "cell_type": "markdown",
   "metadata": {},
   "source": [
    "#### 계단함수와 시그모이드 비교\n",
    "- 공통점 \n",
    "    - 큰 관점에서 보면 같은 모양. 둘 다 입력이 작을 때의 출력은 0에 가깝고, 입력이 커지면 출력이 1에 가까워지는 구조 \n",
    "    - 비선형 함수\n",
    "- 차이점  \n",
    "    - ＇매끄러움＇ 의 차이 \n",
    "    - 매끄럽다는 것은 출력값이 연속적으로 변화한다는 뜻 \n",
    "    - 매끈함이 신경망 학습에서 아주 중요한 역할을 하게 됨\n",
    "    \n",
    "    \n"
   ]
  },
  {
   "cell_type": "markdown",
   "metadata": {},
   "source": [
    "- 시그모이드의 한계\n",
    "    - 'kill' the gradients : 크거나 작은 값에 대해 0 or 1로 고정되어 미분안되는 문제 + gradient 크기 최대가 0.25 이하\n",
    "    - are not zero-centered:  인풋뉴런이 postive 일 경우 W에 대한 gradient가 언제나 모두 postive 하거나 모두 negative하게됨 -> 지그재그 path만 가능해서 최적화 안되는 문제\n",
    "    - exp() is a bit compute expensive: 연산이 부담됨\n",
    "  \n",
    "  \n",
    "- tanh(x)는? (= 2\\*sigmoid -1 )\n",
    "    - Squashes numbers to range [-1,1]\n",
    "    - zero centered\n",
    "    -----------------------------------\n",
    "    - but still kills gradients when saturated\n",
    "\n",
    "![대체 텍스트](https://taewanmerepo.github.io/2017/12/tanh/010.jpg)\n",
    "![대체 텍스트](https://taewanmerepo.github.io/2017/12/tanh/020.jpg)"
   ]
  },
  {
   "cell_type": "markdown",
   "metadata": {},
   "source": [
    "- ReLu\n",
    "    - Does not saturate( in +region): since 미분값이 0 or 1, 1로 gradient 계속 흘러도(멱수로 쌓여도) still 1\n",
    "    - computationally effcient(6배 정도)\n",
    "    - converge much faster than sigmoid or tanh\n",
    "    - deep하게 레이어 쌓을때 진리\n",
    "    ------------------------------------\n",
    "    - but - not zero centered\n",
    "    - An annoyance -> killing the gradient on the half of the regime\n",
    "    - bad ReLus존재해 아예 죽어버림, initialization이 중요"
   ]
  },
  {
   "cell_type": "code",
   "execution_count": 32,
   "metadata": {},
   "outputs": [
    {
     "data": {
      "text/plain": [
       "(-0.1, 7.5)"
      ]
     },
     "execution_count": 32,
     "metadata": {},
     "output_type": "execute_result"
    },
    {
     "data": {
      "image/png": "[encoded data removed]",
      "text/plain": [
       "<matplotlib.figure.Figure at 0x2953ca5e080>"
      ]
     },
     "metadata": {},
     "output_type": "display_data"
    }
   ],
   "source": [
    "Y3 = relu(X)\n",
    "plt.plot(X,Y3)\n",
    "plt.ylim(-0.1,7.5)"
   ]
  },
  {
   "cell_type": "markdown",
   "metadata": {},
   "source": [
    "![대체 텍스트](https://cdn-images-1.medium.com/max/1600/1*g0yxlK8kEBw8uA1f82XQdA.png)"
   ]
  },
  {
   "cell_type": "markdown",
   "metadata": {},
   "source": [
    "- Leaky ReLU\n",
    "![1](https://user-images.githubusercontent.com/38183218/45797252-b0847600-bcdf-11e8-8fc7-aad0fc81109a.PNG)\n",
    "\n",
    "- ELU\n",
    "![2](https://user-images.githubusercontent.com/38183218/45797255-b11d0c80-bcdf-11e8-9d83-926133656924.PNG)"
   ]
  },
  {
   "cell_type": "markdown",
   "metadata": {},
   "source": [
    "#### 3층 신경망\n",
    "![](https://user-images.githubusercontent.com/38183218/43989674-a52a74a0-9d89-11e8-9d5e-d7288fce7d5d.PNG)\n",
    "![](https://user-images.githubusercontent.com/38183218/43989675-a553c148-9d89-11e8-8a72-29e2ccb2a915.PNG)"
   ]
  },
  {
   "cell_type": "markdown",
   "metadata": {},
   "source": [
    "![](https://user-images.githubusercontent.com/38183218/43989676-a57e0d4a-9d89-11e8-842b-83a5e050f5d5.PNG)\n",
    "![](https://user-images.githubusercontent.com/38183218/43989677-a5a94d0c-9d89-11e8-9453-6d100e8c16df.PNG)"
   ]
  },
  {
   "cell_type": "markdown",
   "metadata": {},
   "source": [
    "#### 출력층 설계하기\n",
    "분류(Classification)와 추정(Estimation, 회귀(Regression))에 모두 사용 가능, 시그마로 표기해 활성함수와 다름을 명시\n",
    "- 추정의 경우\n",
    "     - 항등 함수(identity function)\n",
    "- 분류의 경우\n",
    "    - 소프트맥수 함수(softmax function)\n",
    "        - 출력값은 0과 1 사이\n",
    "        - 총합은 1\n",
    "        - 확률로 해석 가능\n",
    "\n",
    "![5](https://user-images.githubusercontent.com/38183218/43946498-6164fe30-9cc0-11e8-84cf-1a11601790b0.PNG)"
   ]
  },
  {
   "cell_type": "markdown",
   "metadata": {},
   "source": [
    "소프트 맥스 함수 구현"
   ]
  },
  {
   "cell_type": "code",
   "execution_count": 37,
   "metadata": {},
   "outputs": [],
   "source": [
    "def softmax(a):\n",
    "    exp_a=np.exp(a)\n",
    "    sum_exp_a=np.sum(exp_a)\n",
    "    y=exp_a/sum_exp_a\n",
    "    return y\n"
   ]
  },
  {
   "cell_type": "markdown",
   "metadata": {},
   "source": [
    " - 구현상 문제점\n",
    "     - 지수 함수는 쉽게 큰 값을 출력함\n",
    "         - exp(10) > 20,000, exp(100) > 10…..0, 40개 넘음\n",
    "         - 이러한 큰 값끼리의 나눗셈은 수치가 불안정해짐\n",
    "\n",
    " - 해결\n",
    "     - 분모, 분자에서 동일한 값(입력 신호 중 최댓값)을 빼줌"
   ]
  },
  {
   "cell_type": "code",
   "execution_count": 34,
   "metadata": {},
   "outputs": [],
   "source": [
    "def softmax(a):\n",
    "    c = np.max(a)\n",
    "    exp_a= np.exp(a-c)\n",
    "    sum_exp_a = np.sum(exp_a)\n",
    "    y = exp_a/sum_exp_a\n",
    "    return y"
   ]
  },
  {
   "cell_type": "code",
   "execution_count": 35,
   "metadata": {},
   "outputs": [],
   "source": [
    "class Network_3f:\n",
    "    def __init__(self,W1,b1,W2,b2,W3,b3):\n",
    "        self.network = {}\n",
    "        self.network['W1'] = W1\n",
    "        self.network['b1'] = b1\n",
    "        self.network['W2'] = W2\n",
    "        self.network['b2'] = b2\n",
    "        self.network['W3'] = W3\n",
    "        self.network['b3'] = b3\n",
    "        \n",
    "    def forward(self,x):\n",
    "        a1 = np.dot(x,self.network['W1'])+self.network['b1']\n",
    "        z1 = sigmoid(a1)\n",
    "        a2 = np.dot(z1,self.network['W2'])+self.network['b2']\n",
    "        z2 = sigmoid(a2)\n",
    "        a3 = np.dot(z2,self.network['W3']) + self.network['b3']\n",
    "        y = softmax(a3)\n",
    "        return y"
   ]
  },
  {
   "cell_type": "code",
   "execution_count": 36,
   "metadata": {},
   "outputs": [
    {
     "name": "stdout",
     "output_type": "stream",
     "text": [
      "[0.40625907 0.59374093]\n"
     ]
    }
   ],
   "source": [
    "W1 = np.array([[0.1,0.3,0.5], [0.2,0.4,0.6]])\n",
    "b1 = np.array([0.1, 0.2, 0.3])\n",
    "W2 = np.array([[0.1,0.4], [0.2,0.5],[0.3,0.6]])\n",
    "b2 = np.array([0.1,0.2])\n",
    "W3 = np.array([[0.1,0.3], [0.2,0.4]])\n",
    "b3 = np.array([0.1,0.2])\n",
    "\n",
    "net1 = Network_3f(W1,b1,W2,b2,W3,b3)\n",
    "x = np.array([1.0,0.5])\n",
    "y = net1.forward(x)\n",
    "print(y)"
   ]
  },
  {
   "cell_type": "markdown",
   "metadata": {},
   "source": [
    "#### MNIST DataSet"
   ]
  },
  {
   "cell_type": "code",
   "execution_count": 44,
   "metadata": {},
   "outputs": [
    {
     "name": "stdout",
     "output_type": "stream",
     "text": [
      "Extracting samples/MNIST_data/train-images-idx3-ubyte.gz\n",
      "Extracting samples/MNIST_data/train-labels-idx1-ubyte.gz\n",
      "Extracting samples/MNIST_data/t10k-images-idx3-ubyte.gz\n",
      "Extracting samples/MNIST_data/t10k-labels-idx1-ubyte.gz\n"
     ]
    }
   ],
   "source": [
    "from tensorflow.examples.tutorials.mnist import input_data\n",
    "\n",
    "import warnings\n",
    "# warnings.(\"ignore\")\n",
    "\n",
    "mnist = input_data.read_data_sets(\"samples/MNIST_data/\", one_hot=True)"
   ]
  },
  {
   "cell_type": "code",
   "execution_count": 52,
   "metadata": {},
   "outputs": [
    {
     "name": "stdout",
     "output_type": "stream",
     "text": [
      "(55000, 784) (10000, 784)\n"
     ]
    }
   ],
   "source": [
    "print(mnist.train.images.shape, mnist.test.images.shape)"
   ]
  },
  {
   "cell_type": "code",
   "execution_count": 58,
   "metadata": {},
   "outputs": [
    {
     "data": {
      "text/plain": [
       "array([0., 0., 0., 0., 0., 0., 0., 1., 0., 0.])"
      ]
     },
     "execution_count": 58,
     "metadata": {},
     "output_type": "execute_result"
    }
   ],
   "source": [
    "mnist.train.labels[0]"
   ]
  },
  {
   "cell_type": "code",
   "execution_count": 59,
   "metadata": {},
   "outputs": [],
   "source": [
    "X_train, X_test, y_train, y_test = mnist.train.images, mnist.test.images, mnist.train.labels, mnist.test.labels"
   ]
  },
  {
   "cell_type": "code",
   "execution_count": 61,
   "metadata": {},
   "outputs": [],
   "source": [
    "img = X_train[0].reshape(28,28)"
   ]
  },
  {
   "cell_type": "code",
   "execution_count": 63,
   "metadata": {},
   "outputs": [
    {
     "data": {
      "text/plain": [
       "<matplotlib.image.AxesImage at 0x295445dcc88>"
      ]
     },
     "execution_count": 63,
     "metadata": {},
     "output_type": "execute_result"
    },
    {
     "data": {
      "image/png": "[encoded data removed]",
      "text/plain": [
       "<matplotlib.figure.Figure at 0x2954306a780>"
      ]
     },
     "metadata": {},
     "output_type": "display_data"
    }
   ],
   "source": [
    "plt.imshow(img,cmap='Greys')"
   ]
  },
  {
   "cell_type": "code",
   "execution_count": 68,
   "metadata": {},
   "outputs": [],
   "source": [
    "np.random.seed(180811)"
   ]
  },
  {
   "cell_type": "code",
   "execution_count": 83,
   "metadata": {},
   "outputs": [],
   "source": [
    "W1 = np.random.normal(size=(784,50))\n",
    "b1 = np.ones((1,50))\n",
    "\n",
    "W2 = np.random.normal(size=(50,100))\n",
    "b2 = np.ones((1,100))\n",
    "\n",
    "W3 = np.random.normal(size=(100,10))\n",
    "b3 = np.ones((1,10))\n",
    "\n",
    "net_3f = Network_3f(W1,b1,W2,b2,W3,b3)\n",
    "\n",
    "y = net_3f.forward(X_train)"
   ]
  },
  {
   "cell_type": "code",
   "execution_count": 85,
   "metadata": {},
   "outputs": [],
   "source": [
    "def predict(network, X):\n",
    "    W1, W2, W3 = network['W1'], network['W2'], network['W3']\n",
    "    b1, b2, b3 = network['b1'], network['b2'], network['b3']\n",
    "    \n",
    "    a1 = np.dot(X,W1)+b1\n",
    "    z1 = sigmoid(a1)\n",
    "    a2 = np.dot(z1,W2)+b2\n",
    "    z2 = sigmoid(a2)\n",
    "    a3 = np.dot(z2,W3)+b3\n",
    "    y = softmax(a3)\n",
    "    \n",
    "    return y"
   ]
  },
  {
   "cell_type": "code",
   "execution_count": 102,
   "metadata": {},
   "outputs": [
    {
     "data": {
      "text/plain": [
       "0.09909090909090909"
      ]
     },
     "execution_count": 102,
     "metadata": {},
     "output_type": "execute_result"
    }
   ],
   "source": [
    "# 랜덤 가중치, 순전파 1회의 accuracy\n",
    "np.sum(np.argmax(predict(net_3f.network, X_train), axis=1) == np.argmax(y_train,axis=1))/len(y_train)"
   ]
  },
  {
   "cell_type": "code",
   "execution_count": null,
   "metadata": {},
   "outputs": [],
   "source": []
  }
 ],
 "metadata": {
  "kernelspec": {
   "display_name": "Python 3",
   "language": "python",
   "name": "python3"
  },
  "language_info": {
   "codemirror_mode": {
    "name": "ipython",
    "version": 3
   },
   "file_extension": ".py",
   "mimetype": "text/x-python",
   "name": "python",
   "nbconvert_exporter": "python",
   "pygments_lexer": "ipython3",
   "version": "3.6.4"
  }
 },
 "nbformat": 4,
 "nbformat_minor": 2
}
