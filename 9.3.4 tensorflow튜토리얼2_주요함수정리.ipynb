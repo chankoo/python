{
 "cells": [
  {
   "cell_type": "markdown",
   "metadata": {},
   "source": [
    "출처:\n",
    "\n",
    "https://github.com/zerosum99/tensorflow_ipynb/blob/master/tensorflow%20300_%ED%85%90%EC%84%9C%ED%94%8C%EB%A1%9C%EC%9A%B0%20%EC%A3%BC%EC%9A%94%20%ED%95%A8%EC%88%98%20%EC%B2%98%EB%A6%AC%2020170331.ipynb\n"
   ]
  },
  {
   "cell_type": "code",
   "execution_count": 9,
   "metadata": {},
   "outputs": [],
   "source": [
    "import tensorflow as tf\n",
    "import numpy as np"
   ]
  },
  {
   "cell_type": "markdown",
   "metadata": {},
   "source": [
    "### Arithmetic Operators\n",
    "tf.add(x, y, name=None)\n",
    "\n",
    "tf.sub(x, y, name=None)\n",
    "\n",
    "tf.mul(x, y, name=None),     tf.scalar_mul(scalar, x)\n",
    "\n",
    "tf.div(x, y, name=None),         tf.mod(x, y, name=None)\n",
    "\n",
    "tf.truediv(x, y, name=None),     tf.floordiv(x, y, name=None)\n",
    "\n",
    "tf.cross(a, b, name=None)"
   ]
  },
  {
   "cell_type": "code",
   "execution_count": 4,
   "metadata": {},
   "outputs": [
    {
     "name": "stdout",
     "output_type": "stream",
     "text": [
      "[5 7 9]\n",
      "[-3 -3 -3]\n",
      "[ 4 10 18]\n",
      "[3 6 9]\n",
      "[4 2 2]\n",
      "[0 1 0]\n",
      "[4.  2.5 2. ]\n",
      "[4 2 2]\n",
      "[-3  6 -3]\n"
     ]
    }
   ],
   "source": [
    "a = tf.constant([1,2,3])\n",
    "b = tf.constant([4,5,6])\n",
    "\n",
    "add = tf.add(a,b)\n",
    "sub = tf.subtract(a,b) # 버전업데이트 이후 메소드명 바뀜\n",
    "mul = tf.multiply(a,b) # 버전업데이트 이후 메소드명 바뀜\n",
    "sca = tf.scalar_mul(3,a)\n",
    "\n",
    "div = tf.div(b,a) # 정수 나누기\n",
    "mod = tf.mod(b,a)\n",
    "\n",
    "trdiv = tf.truediv(b,a)\n",
    "fldiv = tf.floordiv(b,a)\n",
    "cro   = tf.cross(a,b)\n",
    "\n",
    "with tf.Session() as sess :\n",
    "    print(add.eval())\n",
    "    print(sub.eval())\n",
    "    print(mul.eval())\n",
    "    print(sca.eval())\n",
    "    print(div.eval())\n",
    "    print(mod.eval())\n",
    "    print(trdiv.eval())\n",
    "    print(fldiv.eval())\n",
    "    \n",
    "    # 벡터곱 처리 [a1b2-a2b1,a3b1-a1b3, a2b3-a3b2 ]\n",
    "    # [5, 12, 12 ] [8,6,15]\n",
    "    print(cro.eval())"
   ]
  },
  {
   "cell_type": "markdown",
   "metadata": {},
   "source": [
    "### 복소수\n",
    "tf.complex\n",
    "\n",
    "tf.conj\n",
    "\n",
    "tf.imag\n",
    "\n",
    "tf.real"
   ]
  },
  {
   "cell_type": "code",
   "execution_count": 25,
   "metadata": {},
   "outputs": [
    {
     "name": "stdout",
     "output_type": "stream",
     "text": [
      "[2.25+4.75j 3.25+5.75j]\n",
      "[2.25-4.75j 3.25-5.75j]\n",
      "[2.25 3.25]\n",
      "[4.75 5.75]\n"
     ]
    }
   ],
   "source": [
    "real = tf.constant([2.25, 3.25], name=\"real\")\n",
    "imag  = tf.constant([4.75, 5.75], name=\"imag\")\n",
    "com = tf.complex(real, imag) \n",
    "\n",
    "with tf.Session() as sess :\n",
    "    print(sess.run(com))\n",
    "    print(sess.run(tf.conj(com)))\n",
    "    print(sess.run(tf.real(com)))\n",
    "    print(sess.run(tf.imag(com)))"
   ]
  },
  {
   "cell_type": "markdown",
   "metadata": {},
   "source": [
    "### Basic Math Functions\n",
    "tf.reciprocal\n",
    "\n",
    "tf.square\n",
    "\n",
    "tf.round\n",
    "\n",
    "tf.sqrt,     tf.rsqrt\n",
    "\n",
    "tf.pow,     tf.exp,     tf.expm1\n",
    "\n",
    "tf.log,tf.log1p\n",
    "\n",
    "tf.ceil,     tf.floor\n",
    "\n",
    "tf.maximum, tf.minimum\n",
    "\n",
    "tf.cos, tf.sin, tf.tan\n",
    "\n",
    "tf.lbeta\n",
    "\n",
    "tf.acos, tf.asin, tf.atan\n",
    "\n",
    "tf.lgamma\n",
    "\n",
    "tf.digamma\n",
    "\n",
    "tf.erf, tf.erfc\n",
    "\n",
    "tf.squared_difference\n",
    "\n",
    "tf.igamma\n",
    "\n",
    "tf.igammac\n",
    "\n",
    "tf.zeta\n",
    "\n",
    "tf.polygamma\n",
    "\n",
    "tf.betainc\n",
    "\n",
    "tf.rint\n"
   ]
  },
  {
   "cell_type": "code",
   "execution_count": 5,
   "metadata": {},
   "outputs": [
    {
     "name": "stdout",
     "output_type": "stream",
     "text": [
      "[5 7 9]\n"
     ]
    }
   ],
   "source": [
    "# 리스트 내의 텐서들 값을 더하기 : tf.add_n\n",
    "a = tf.constant([1,2,3])\n",
    "b = tf.constant([4,5,6])\n",
    "\n",
    "# 텐서를 가진 리스트 처리\n",
    "l =[]\n",
    "l.append(a)\n",
    "l.append(b)\n",
    "addn = tf.add_n(l)\n",
    "\n",
    "with tf.Session() as sess :\n",
    "    print(addn.eval())"
   ]
  },
  {
   "cell_type": "code",
   "execution_count": 6,
   "metadata": {},
   "outputs": [
    {
     "name": "stdout",
     "output_type": "stream",
     "text": [
      "[1 2 3]\n",
      "[1 2 3]\n",
      "[-1 -1 -1]\n",
      "[1 1 1]\n",
      "[0 0 0]\n"
     ]
    }
   ],
   "source": [
    "# 텐서 내의 부호 처리 : sign, negative, abs\n",
    "a = tf.constant([-1,-2,-3])\n",
    "b = tf.constant([4,5,6])\n",
    "c = tf.constant([0,0,0])\n",
    "\n",
    "ab = tf.abs(a)\n",
    "neg = tf.negative(a)\n",
    "# 음수이면 -1\n",
    "sig = tf.sign(a)\n",
    "# 양수이면 1\n",
    "sig1 = tf.sign(b)\n",
    "\n",
    "# 0이면 0\n",
    "sig0 = tf.sign(c)\n",
    "\n",
    "with tf.Session() as sess :\n",
    "    print(ab.eval())\n",
    "    print(neg.eval())\n",
    "    print(sig.eval())\n",
    "    print(sig1.eval())\n",
    "    print(sig0.eval())"
   ]
  },
  {
   "cell_type": "markdown",
   "metadata": {},
   "source": [
    "### Matrix Math Functions\n",
    "\n",
    "tf.matrix_diag\n",
    "\n",
    "tf.matrix_diag_part\n",
    "\n",
    "tf.matrix_band_part\n",
    "\n",
    "tf.matrix_set_diag\n",
    "\n",
    "tf.matrix_transpose\n",
    "\n",
    "tf.norm\n",
    "\n",
    "tf.cholesky\n",
    "\n",
    "tf.cholesky_solve\n",
    "\n",
    "tf.matrix_solve\n",
    "\n",
    "tf.matrix_triangular_solve\n",
    "\n",
    "tf.matrix_solve_ls\n",
    "\n",
    "tf.qr\n",
    "\n",
    "tf.self_adjoint_eig\n",
    "\n",
    "tf.self_adjoint_eigvals\n",
    "\n",
    "tf.svd"
   ]
  },
  {
   "cell_type": "code",
   "execution_count": 10,
   "metadata": {},
   "outputs": [
    {
     "name": "stdout",
     "output_type": "stream",
     "text": [
      "[[1. 2.]\n",
      " [3. 4.]]\n",
      "[2 2]\n",
      "-2.0\n",
      "[[-2.0000002   1.0000001 ]\n",
      " [ 1.5000001  -0.50000006]]\n",
      "[[-2.   1. ]\n",
      " [ 1.5 -0.5]]\n",
      "[[ 1.0000002e+00  0.0000000e+00]\n",
      " [-1.1920929e-07  1.0000000e+00]]\n"
     ]
    }
   ],
   "source": [
    "# 행렬식과 역행렬 구하기\n",
    "# 행렬식을 먼저 구해서 0이 아니어야 역행렬을 구할 수 있다\n",
    "\n",
    "x = tf.Variable([[1, 2], [3,4]],dtype=tf.float32)\n",
    "\n",
    "init = tf.global_variables_initializer()\n",
    "\n",
    "with tf.Session() as sess:\n",
    "    sess.run(init)\n",
    "\n",
    "    print(sess.run(x))\n",
    "    print(sess.run(tf.shape(x)))\n",
    "    print(sess.run(tf.matrix_determinant(x)))\n",
    "\n",
    "    xi = sess.run(tf.matrix_inverse(x))\n",
    "\n",
    "    print(xi)\n",
    "    print(np.linalg.inv([[1, 2], [3,4]]))\n",
    "\n",
    "    print(sess.run(tf.matmul(xi,x)))"
   ]
  },
  {
   "cell_type": "code",
   "execution_count": 8,
   "metadata": {},
   "outputs": [
    {
     "name": "stdout",
     "output_type": "stream",
     "text": [
      "[[1. 0.]\n",
      " [0. 1.]]\n",
      "[[1. 0. 0.]\n",
      " [0. 1. 0.]\n",
      " [0. 0. 1.]]\n"
     ]
    }
   ],
   "source": [
    "# 단위 행렬 만들기\n",
    "#eye(num_rows, num_columns=None, batch_shape=None, dtype=tf.float32, name=None)\n",
    "\n",
    "sess = tf.Session()\n",
    "print(sess.run(tf.eye(2)))\n",
    "print(sess.run(tf.eye(3,3)))\n",
    "sess.close()"
   ]
  },
  {
   "cell_type": "code",
   "execution_count": 11,
   "metadata": {},
   "outputs": [
    {
     "name": "stdout",
     "output_type": "stream",
     "text": [
      "[[1 2 3]\n",
      " [4 5 6]]\n",
      "[[1 4]\n",
      " [2 5]\n",
      " [3 6]]\n",
      "[[14 32]\n",
      " [32 77]]\n"
     ]
    }
   ],
   "source": [
    "# 전치행렬 및 행렬곱(matmul)\n",
    "x = tf.constant([[1, 2, 3], [4, 5, 6]])\n",
    "\n",
    "ax = tf.matmul(x,tf.transpose(x))\n",
    "\n",
    "sess = tf.Session()\n",
    "print(sess.run(x))\n",
    "print(sess.run(tf.transpose(x)))\n",
    "\n",
    "print(sess.run(ax))\n",
    "\n",
    "sess.close()"
   ]
  },
  {
   "cell_type": "code",
   "execution_count": 12,
   "metadata": {},
   "outputs": [
    {
     "name": "stdout",
     "output_type": "stream",
     "text": [
      "[[1 2 3]\n",
      " [4 5 6]\n",
      " [7 8 9]]\n",
      "15\n"
     ]
    }
   ],
   "source": [
    "# 대각행렬의 합\n",
    "x = tf.constant([[1, 2, 3], [4, 5, 6],[7,8,9]])\n",
    "\n",
    "sess = tf.Session()\n",
    "print(sess.run(x))\n",
    "print(sess.run(tf.trace(x)))\n",
    "\n",
    "sess.close()"
   ]
  },
  {
   "cell_type": "code",
   "execution_count": 13,
   "metadata": {},
   "outputs": [
    {
     "name": "stdout",
     "output_type": "stream",
     "text": [
      "[0 1 2 3]\n",
      "[[0 0 0 0]\n",
      " [0 1 0 0]\n",
      " [0 0 2 0]\n",
      " [0 0 0 3]]\n",
      "[0 1 2 3]\n"
     ]
    }
   ],
   "source": [
    "# 대각행렬 처리 : diag, 대각행렬 값만 추출 diag_part\n",
    "ma = np.arange(4)\n",
    "print(ma)\n",
    "\n",
    "# 특정 벡터의 값을 대각행렬에 세팅\n",
    "diag = tf.diag(ma)\n",
    "\n",
    "with tf.Session() as sess :\n",
    "    print(diag.eval())\n",
    "    print(tf.diag_part(diag.eval()).eval())"
   ]
  },
  {
   "cell_type": "markdown",
   "metadata": {},
   "source": [
    "### Reduction\n",
    "tf.reduce_logsumexp\n",
    "\n",
    "tf.einsum"
   ]
  },
  {
   "cell_type": "code",
   "execution_count": 14,
   "metadata": {},
   "outputs": [
    {
     "name": "stdout",
     "output_type": "stream",
     "text": [
      "-6\n",
      "-6\n"
     ]
    }
   ],
   "source": [
    "# 내부 원소에 대한 합과 곱 : tf.reduce_sum, tf.reduce_prod\n",
    "\n",
    "a = tf.constant([-1,-2,-3])\n",
    "re_s = tf.reduce_sum(a)\n",
    "re_p = tf.reduce_prod(a)\n",
    "\n",
    "with tf.Session() as sess :\n",
    "    print(re_s.eval())\n",
    "    print(re_p.eval())"
   ]
  },
  {
   "cell_type": "code",
   "execution_count": 15,
   "metadata": {},
   "outputs": [
    {
     "name": "stdout",
     "output_type": "stream",
     "text": [
      "[-3 -6 -9]\n"
     ]
    }
   ],
   "source": [
    "# 텐서로 구성된 리스트 내의 원소들을 더하기\n",
    "a = tf.constant([-1,-2,-3])\n",
    "re_s = tf.accumulate_n([a,a,a])\n",
    "\n",
    "\n",
    "with tf.Session() as sess :\n",
    "    print(re_s.eval())"
   ]
  },
  {
   "cell_type": "code",
   "execution_count": 16,
   "metadata": {},
   "outputs": [
    {
     "name": "stdout",
     "output_type": "stream",
     "text": [
      "3\n",
      "1\n"
     ]
    }
   ],
   "source": [
    "# 원소들에 대한 평균(mean), 원소들이 zero가 아닌 경우\n",
    "a = tf.constant([0,0,0,1,2,3])\n",
    "re_s = tf.count_nonzero(a)\n",
    "re_p = tf.reduce_mean(a)\n",
    "\n",
    "with tf.Session() as sess :\n",
    "    print(re_s.eval())\n",
    "    print(re_p.eval())"
   ]
  },
  {
   "cell_type": "code",
   "execution_count": 17,
   "metadata": {},
   "outputs": [
    {
     "name": "stdout",
     "output_type": "stream",
     "text": [
      "-3\n",
      "-1\n"
     ]
    }
   ],
   "source": [
    "# 내부 원소들에 대한 min/max\n",
    "a = tf.constant([-1,-2,-3])\n",
    "re_s = tf.reduce_min(a)\n",
    "re_p = tf.reduce_max(a)\n",
    "\n",
    "with tf.Session() as sess :\n",
    "    print(re_s.eval())\n",
    "    print(re_p.eval())"
   ]
  },
  {
   "cell_type": "code",
   "execution_count": 19,
   "metadata": {},
   "outputs": [
    {
     "name": "stdout",
     "output_type": "stream",
     "text": [
      "False\n",
      "True\n"
     ]
    }
   ],
   "source": [
    "# 내부 원소들에 대한 True/False check\n",
    "a = tf.constant([True,False,True])\n",
    "re_s = tf.reduce_all(a)\n",
    "re_p = tf.reduce_any(a)\n",
    "\n",
    "with tf.Session() as sess :\n",
    "    print(re_s.eval())\n",
    "    print(re_p.eval())"
   ]
  },
  {
   "cell_type": "markdown",
   "metadata": {},
   "source": [
    "### Scan\n",
    "누적하는 값을 생성"
   ]
  },
  {
   "cell_type": "code",
   "execution_count": 20,
   "metadata": {},
   "outputs": [
    {
     "name": "stdout",
     "output_type": "stream",
     "text": [
      "[-1 -3 -6]\n",
      "[-1  2 -6]\n"
     ]
    }
   ],
   "source": [
    "a = tf.constant([-1,-2,-3])\n",
    "re_s = tf.cumsum(a)\n",
    "re_p = tf.cumprod(a)\n",
    "\n",
    "with tf.Session() as sess :\n",
    "    print(re_s.eval())\n",
    "    print(re_p.eval())"
   ]
  },
  {
   "cell_type": "markdown",
   "metadata": {},
   "source": [
    "### Segment\n",
    "\n",
    "tf.segment_prod\n",
    "\n",
    "tf.segment_min\n",
    "\n",
    "tf.segment_max\n",
    "\n",
    "tf.segment_mean\n",
    "\n",
    "tf.unsorted_segment_sum\n",
    "\n",
    "tf.sparse_segment_sum\n",
    "\n",
    "tf.sparse_segment_mean\n",
    "\n",
    "tf.sparse_segment_sqrt_n"
   ]
  },
  {
   "cell_type": "markdown",
   "metadata": {},
   "source": [
    "### segment id 나누기\n",
    "segment_ids = [0,1,1]은 첫번째 와 나머지 합으로 분리\n",
    "\n",
    "segment_ids = [0,0,0]은 하나로 합치기\n",
    "\n",
    "segment_ids = [0,0,1]은 첫번째와 두번째를 합하고  나머지를 분리"
   ]
  },
  {
   "cell_type": "code",
   "execution_count": 22,
   "metadata": {},
   "outputs": [
    {
     "name": "stdout",
     "output_type": "stream",
     "text": [
      "[[1 2 3 4]\n",
      " [4 4 4 4]]\n",
      "[[5 6 7 8]]\n",
      "[[0 0 0 0]\n",
      " [5 6 7 8]]\n"
     ]
    }
   ],
   "source": [
    "c = tf.constant([[1,2,3,4], [-1,-2,-3,-4], [5,6,7,8]])\n",
    "seg_s = tf.segment_sum(c, tf.constant([0, 1, 1]))\n",
    "seg_s0 = tf.segment_sum(c, tf.constant([0,0,0]))\n",
    "seg_s1 = tf.segment_sum(c, tf.constant([0,0,1]))\n",
    "\n",
    "with tf.Session() as sess :\n",
    "    print(seg_s.eval())\n",
    "    print(seg_s0.eval())\n",
    "    print(seg_s1.eval())"
   ]
  },
  {
   "cell_type": "markdown",
   "metadata": {},
   "source": [
    "### Sequence Comparison and Indexing\n",
    "tf.setdiff1d\n",
    "\n",
    "tf.where\n",
    "\n",
    "tf.edit_distance\n",
    "\n",
    "tf.invert_permutation"
   ]
  },
  {
   "cell_type": "code",
   "execution_count": 23,
   "metadata": {},
   "outputs": [
    {
     "name": "stdout",
     "output_type": "stream",
     "text": [
      "[1 1 1 1]\n",
      "[3 0 3]\n"
     ]
    }
   ],
   "source": [
    "# 최소값과 최대값 index 알아보기\n",
    "c = tf.constant([[1,2,3,4], [-1,-2,-3,-4], [5,6,7,8]])\n",
    "\n",
    "# 열단위로 최소값 \n",
    "seg_min = tf.argmin(c,0) \n",
    "# 행단위로 최대값\n",
    "seg_max = tf.argmax(c,1) \n",
    "\n",
    "with tf.Session() as sess :\n",
    "    print(seg_min.eval())\n",
    "    print(seg_max.eval())"
   ]
  },
  {
   "cell_type": "code",
   "execution_count": 24,
   "metadata": {},
   "outputs": [
    {
     "name": "stdout",
     "output_type": "stream",
     "text": [
      "Unique(y=array([1, 3, 4, 5, 7], dtype=int32), idx=array([0, 0, 0, 1, 1, 2, 3, 4], dtype=int32))\n"
     ]
    }
   ],
   "source": [
    "# 동일한 원소들을 확인하기\n",
    "\n",
    "c = tf.constant([1,1,1,3,3,4,5,7])\n",
    "\n",
    "seg_u = tf.unique(c) \n",
    "\n",
    "\n",
    "with tf.Session() as sess :\n",
    "    print(sess.run(seg_u))"
   ]
  },
  {
   "cell_type": "code",
   "execution_count": null,
   "metadata": {},
   "outputs": [],
   "source": []
  }
 ],
 "metadata": {
  "kernelspec": {
   "display_name": "Python 3",
   "language": "python",
   "name": "python3"
  },
  "language_info": {
   "codemirror_mode": {
    "name": "ipython",
    "version": 3
   },
   "file_extension": ".py",
   "mimetype": "text/x-python",
   "name": "python",
   "nbconvert_exporter": "python",
   "pygments_lexer": "ipython3",
   "version": "3.6.7"
  }
 },
 "nbformat": 4,
 "nbformat_minor": 2
}
