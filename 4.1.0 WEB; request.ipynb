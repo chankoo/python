{
 "cells": [
  {
   "cell_type": "markdown",
   "metadata": {},
   "source": [
    "### WEB\n",
    "\n",
    "request와 response로 구성\n",
    "    - request\n",
    "        - get방식 : (주소로 전달, 주소에 쿼리 노출, 주소에 제한있기에 큰 데이터전송불가)\n",
    "        - post방식 : (form으로 전달, 로그인등, 주소값 노출x)\n",
    "        - 패킷 : 헤더와 바디로 나누어 요청\n",
    "\n",
    "웹브라우저가 http를 통해 서버에 헤더를 붙여 request하면 \n",
    "\n",
    "서버 역시 헤더에 정보를 붙여 response, html코드화하고\n",
    "\n",
    "웹브라우져가 렌더링 통해 화면을 띄우는 구조\n",
    "\n",
    "하위에 TCP/IP \n"
   ]
  },
  {
   "cell_type": "markdown",
   "metadata": {},
   "source": [
    "### HTTP\n",
    "__HyperText Transfer Protocol__: Hyper Txt이용한 웹의 통신규약\n",
    "\n",
    "http의 특성 \n",
    "    - human readable, header가 텍스트\n",
    "    - stateless, 서버딴에 사용자특성 저장x\n",
    "    - connectionless"
   ]
  },
  {
   "cell_type": "markdown",
   "metadata": {},
   "source": [
    "### urllib vs requests\n",
    "\n",
    "#### urllib \n",
    "- human readable 하지않음\n",
    "\n",
    "#### requests \n",
    "- human readable\n",
    "- http protocol을 사람이 효과적으로 사용할수있게 만들어주는 패키지\n",
    "- http://docs.python-requests.org/en/master/user/quickstart/"
   ]
  },
  {
   "cell_type": "code",
   "execution_count": 1,
   "metadata": {},
   "outputs": [],
   "source": [
    "import requests"
   ]
  },
  {
   "cell_type": "code",
   "execution_count": 2,
   "metadata": {},
   "outputs": [],
   "source": [
    "resp = requests.get(\"http://daum.net\") #get방식, 브라우저로 resp받으면 화면이 뜨는 것"
   ]
  },
  {
   "cell_type": "code",
   "execution_count": 3,
   "metadata": {},
   "outputs": [
    {
     "data": {
      "text/plain": [
       "requests.models.Response"
      ]
     },
     "execution_count": 3,
     "metadata": {},
     "output_type": "execute_result"
    }
   ],
   "source": [
    "type(resp)"
   ]
  },
  {
   "cell_type": "code",
   "execution_count": 4,
   "metadata": {},
   "outputs": [
    {
     "data": {
      "text/plain": [
       "b'<!DOCTYPE html>\\n<html lang=\"ko\" class=\"\">\\n<head>\\n<meta charset=\"utf-8\"/>\\n<title>Daum</title>\\n<meta property=\"og:url\" content=\"https://www.daum.net/\">\\n<meta property=\"og:type\" content=\"website\">\\n<meta property=\"og:title\" content=\"Daum\">\\n<meta property=\"og:image\" content=\"//i1.daumcdn.net/svc/image/U03/common_icon/5587C4E4012FCD0001\">\\n<meta property=\"og:description\" content=\"\\xeb\\x82\\x98\\xec\\x9d\\x98 \\xea\\xb4\\x80\\xec\\x8b\\xac \\xec\\xbd\\x98\\xed\\x85\\x90\\xec\\xb8\\xa0\\xeb\\xa5\\xbc \\xea\\xb0\\x80\\xec\\x9e\\xa5 \\xec\\xa6\\x90\\xea\\xb2\\x81\\xea\\xb2\\x8c \\xeb\\xb3\\xbc \\xec\\x88\\x98 \\xec\\x9e\\x88\\xeb\\x8a\\x94 Daum\">\\n<meta name=\"msapplication-task\" content=\"name=Daum;action-uri=https://www.daum.net/;icon-uri=/favicon.ico\">\\n<meta name=\"msapplication-task\" content=\"name=\\xeb\\xaf\\xb8\\xeb\\x94\\x94\\xec\\x96\\xb4\\xeb\\x8b\\xa4\\xec\\x9d\\x8c;action-uri=http://media.daum.net/;icon-uri=/media_favicon.ico\">\\n<meta name=\"msapplication-task\" content=\"name=\\xeb\\xa9\\x94\\xec\\x9d\\xbc;action-uri=http://mail.daum.net;icon-uri=/mail_favicon.ico\">\\n<meta name=\"referrer\" content=\"origin\">\\n<link rel=\"search\" type=\"application/opensearchdescription+xml\" href=\"//search.daum.net/OpenSearch.xml\" title=\"\\xeb\\x8b\\xa4\\xec\\x9d\\x8c\">\\n<style type=\"text/css\">\\n@charset \"utf-8\";\\nbody,div'"
      ]
     },
     "execution_count": 4,
     "metadata": {},
     "output_type": "execute_result"
    }
   ],
   "source": [
    "resp.content[:1000] # bytes"
   ]
  },
  {
   "cell_type": "code",
   "execution_count": 5,
   "metadata": {},
   "outputs": [
    {
     "data": {
      "text/plain": [
       "'<!DOCTYPE html>\\n<html lang=\"ko\" class=\"\">\\n<head>\\n<meta charset=\"utf-8\"/>\\n<title>Daum</title>\\n<meta property=\"og:url\" content=\"https://www.daum.net/\">\\n<meta property=\"og:type\" content=\"website\">\\n<meta property=\"og:title\" content=\"Daum\">\\n<meta property=\"og:image\" content=\"//i1.daumcdn.net/svc/image/U03/common_icon/5587C4E4012FCD0001\">\\n<meta property=\"og:description\" content=\"나의 관심 콘텐츠를 가장 즐겁게 볼 수 있는 Daum\">\\n<meta name=\"msapplication-task\" content=\"name=Daum;action-uri=https://www.daum.net/;icon-uri=/favicon.ico\">\\n<meta name=\"msapplication-task\" content=\"name=미디어다음;action-uri=http://media.daum.net/;icon-uri=/media_favicon.ico\">\\n<meta name=\"msapplication-task\" content=\"name=메일;action-uri=http://mail.daum.net;icon-uri=/mail_favicon.ico\">\\n<meta name=\"referrer\" content=\"origin\">\\n<link rel=\"search\" type=\"application/opensearchdescription+xml\" href=\"//search.daum.net/OpenSearch.xml\" title=\"다음\">\\n<style type=\"text/css\">\\n@charset \"utf-8\";\\nbody,div,dl,dt,dd,ul,ol,li,h1,h2,h3,h4,h5,h6,pre,code,form,f'"
      ]
     },
     "execution_count": 5,
     "metadata": {},
     "output_type": "execute_result"
    }
   ],
   "source": [
    "resp.text[:1000] #str"
   ]
  },
  {
   "cell_type": "markdown",
   "metadata": {},
   "source": [
    "### urllib "
   ]
  },
  {
   "cell_type": "markdown",
   "metadata": {},
   "source": [
    "urllib is a package that collects several modules for working with URLs namely:\n",
    "\n",
    "- urllib.request for opening and reading URLs.\n",
    "- urllib.error containing the exceptions raised by urllib.request\n",
    "- urllib.parse for parsing URLs.\n",
    "- urllib.robotparser for parsing robots.txt files."
   ]
  },
  {
   "cell_type": "code",
   "execution_count": 6,
   "metadata": {},
   "outputs": [],
   "source": [
    "url = 'https://s-i.huffpost.com/gen/5071754/thumbs/o-THE-570.jpg?6'"
   ]
  },
  {
   "cell_type": "code",
   "execution_count": 7,
   "metadata": {},
   "outputs": [
    {
     "name": "stdout",
     "output_type": "stream",
     "text": [
      "<class 'bytes'>\n",
      "<class 'str'>\n"
     ]
    }
   ],
   "source": [
    "import urllib.request\n",
    "with urllib.request.urlopen('http://python.org/') as response:\n",
    "    html = response.read()\n",
    "    print(type(html))\n",
    "    print(type(html.decode(\"utf-8\")))"
   ]
  },
  {
   "cell_type": "code",
   "execution_count": 8,
   "metadata": {},
   "outputs": [],
   "source": [
    "import urllib.request\n",
    "filename, headers = urllib.request.urlretrieve('http://python.org/')\n",
    "html = open(filename)"
   ]
  },
  {
   "cell_type": "code",
   "execution_count": 9,
   "metadata": {},
   "outputs": [
    {
     "data": {
      "text/plain": [
       "'<!doctype html>\\n<!--[if lt IE 7]>   <html class=\"no-js ie6 lt-ie7 lt-ie8 lt-ie9\">   <![endif]-->\\n<!--[if IE 7]>      <html class=\"no-js ie7 lt-ie8 lt-ie9\">          <![endif]-->\\n<!--[if IE 8]>      <html class=\"no-js ie8 lt-ie9\">                 <![endif]-->\\n<!--[if gt IE 8]><!--><html class=\"no-js\" lang=\"en\" dir=\"ltr\">  <!--<![endif]-->\\n\\n<head>\\n    <meta charset=\"utf-8\">\\n    <meta http-equiv=\"X-UA-Compatible\" content=\"IE=edge\">\\n\\n    <link rel=\"prefetch\" href=\"//ajax.googleapis.com/ajax/libs/jquery/1.8.2/jquery.min.js\">\\n\\n    <meta name=\"application-name\" content=\"Python.org\">\\n    <meta name=\"msapplication-tooltip\" content=\"The official home of the Python Programming Language\">\\n    <meta name=\"apple-mobile-web-app-title\" content=\"Python.org\">\\n    <meta name=\"apple-mobile-web-app-capable\" content=\"yes\">\\n    <meta name=\"apple-mobile-web-app-status-bar-style\" content=\"black\">\\n\\n    <meta name=\"viewport\" content=\"width=device-width, initial-scale=1.0\">\\n    <meta name=\"HandheldFriendly\" conte'"
      ]
     },
     "execution_count": 9,
     "metadata": {},
     "output_type": "execute_result"
    }
   ],
   "source": [
    "html.read()[:1000]"
   ]
  },
  {
   "cell_type": "code",
   "execution_count": 11,
   "metadata": {},
   "outputs": [
    {
     "data": {
      "text/plain": [
       "('moon111.png', <http.client.HTTPMessage at 0x28b6fd9cf60>)"
      ]
     },
     "execution_count": 11,
     "metadata": {},
     "output_type": "execute_result"
    }
   ],
   "source": [
    "import urllib\n",
    "urllib.request.urlretrieve(url, \"moon111.png\")"
   ]
  },
  {
   "cell_type": "markdown",
   "metadata": {},
   "source": [
    "# requests "
   ]
  },
  {
   "cell_type": "markdown",
   "metadata": {},
   "source": [
    "- Keep-Alive & Connection Pooling\n",
    "- International Domains and URLs\n",
    "- Sessions with Cookie Persistence\n",
    "- Browser-style SSL Verification\n",
    "- Automatic Content Decoding\n",
    "- Basic/Digest Authentication\n",
    "- Elegant Key/Value Cookies\n",
    "- Automatic Decompression\n",
    "- Unicode Response Bodies\n",
    "- HTTP(S) Proxy Support\n",
    "- Multipart File Uploads\n",
    "- Streaming Downloads\n",
    "- Connection Timeouts\n",
    "- Chunked Requests\n",
    "- .netrc Support"
   ]
  },
  {
   "cell_type": "code",
   "execution_count": null,
   "metadata": {},
   "outputs": [],
   "source": []
  }
 ],
 "metadata": {
  "kernelspec": {
   "display_name": "Python 3",
   "language": "python",
   "name": "python3"
  },
  "language_info": {
   "codemirror_mode": {
    "name": "ipython",
    "version": 3
   },
   "file_extension": ".py",
   "mimetype": "text/x-python",
   "name": "python",
   "nbconvert_exporter": "python",
   "pygments_lexer": "ipython3",
   "version": "3.6.4"
  }
 },
 "nbformat": 4,
 "nbformat_minor": 2
}
