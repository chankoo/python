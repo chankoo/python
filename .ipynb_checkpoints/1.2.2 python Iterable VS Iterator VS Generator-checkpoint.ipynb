{
 "cells": [
  {
   "cell_type": "markdown",
   "metadata": {},
   "source": [
    "## Iterable, Iterator, Generator 정리\n",
    "- Containers\n",
    "- Iterables\n",
    "- Iterators\n",
    "- Generators\n",
    "    - a generator expression\n",
    "    - conprehensions (list, set, dict)\n",
    "\n",
    "ref : https://nvie.com/posts/iterators-vs-generators/"
   ]
  },
  {
   "cell_type": "markdown",
   "metadata": {},
   "source": [
    "![](https://nvie.com/img/relationships.png)\n"
   ]
  },
  {
   "cell_type": "markdown",
   "metadata": {},
   "source": [
    "### Containers\n",
    "- list :*sequence, mutable*\n",
    "- set, frozenset :*non-sequence*\n",
    "- dict,defaultdict, OrderedDict :*mutable*\n",
    "- tuple, namedtuple :*sequence, immutable*\n",
    "- str :*sequence, immutable*"
   ]
  },
  {
   "cell_type": "markdown",
   "metadata": {},
   "source": [
    "일반적인 컨테이너의 개념과 비슷하다. \n",
    "\n",
    "구체적으로, 컨테이너의 요소는 멤버쉽 연산의 대상이된다"
   ]
  },
  {
   "cell_type": "markdown",
   "metadata": {},
   "source": [
    "### Iterables\n",
    "컨테이너 대부분은 iterable이다. 그러나 open files, open sockets 등 다른 많은 것들 또한 iterable인데, iterable은 infinite source of data를 지칭한다\n",
    "\n",
    "결국 iterable은 __iterator__ 를 내어놓는 어떠한 object를 의미한다"
   ]
  },
  {
   "cell_type": "code",
   "execution_count": 4,
   "metadata": {},
   "outputs": [
    {
     "name": "stdout",
     "output_type": "stream",
     "text": [
      "1\n",
      "2\n",
      "3\n"
     ]
    }
   ],
   "source": [
    "x = [1, 2, 3]\n",
    "for el in x:\n",
    "    print(el)"
   ]
  },
  {
   "cell_type": "markdown",
   "metadata": {},
   "source": [
    "![](https://nvie.com/img/iterable-vs-iterator.png)\n",
    "x는 iterable인 리스트이고 for문의 내부에서 iter() 즉, GET_ITER로 iterator 객체를 만들어 내어놓는다\n",
    "\n",
    "FOR_ITER 는next()를 부르는 것과 같은데 반복적으로 모든 element를 부른다"
   ]
  },
  {
   "cell_type": "code",
   "execution_count": 5,
   "metadata": {},
   "outputs": [
    {
     "name": "stdout",
     "output_type": "stream",
     "text": [
      "  1           0 SETUP_LOOP              12 (to 14)\n",
      "              2 LOAD_NAME                0 (x)\n",
      "              4 GET_ITER\n",
      "        >>    6 FOR_ITER                 4 (to 12)\n",
      "              8 STORE_NAME               1 (_)\n",
      "             10 JUMP_ABSOLUTE            6\n",
      "        >>   12 POP_BLOCK\n",
      "        >>   14 LOAD_CONST               0 (None)\n",
      "             16 RETURN_VALUE\n"
     ]
    }
   ],
   "source": [
    "import dis\n",
    "x = [1, 2, 3]\n",
    "dis.dis('for _ in x: pass')"
   ]
  },
  {
   "cell_type": "markdown",
   "metadata": {},
   "source": [
    "### Iterators\n",
    "그러면 iterator는 무엇일까? 간단히 말하자면 the next value를 가진 a value factory이다.\n",
    "\n",
    "iterator는 또한 iterable이기도 하다. __iter__() 메소드를 갖기 때문이다."
   ]
  },
  {
   "cell_type": "code",
   "execution_count": 6,
   "metadata": {},
   "outputs": [
    {
     "data": {
      "text/plain": [
       "14"
      ]
     },
     "execution_count": 6,
     "metadata": {},
     "output_type": "execute_result"
    }
   ],
   "source": [
    "from itertools import count\n",
    "counter = count(start=13)\n",
    "next(counter)\n",
    "next(counter)"
   ]
  },
  {
   "cell_type": "code",
   "execution_count": 8,
   "metadata": {},
   "outputs": [
    {
     "name": "stdout",
     "output_type": "stream",
     "text": [
      "red\n",
      "white\n",
      "blue\n",
      "red\n"
     ]
    }
   ],
   "source": [
    "from itertools import cycle\n",
    "colors = cycle(['red', 'white', 'blue'])\n",
    "for i in range(4):\n",
    "    print(next(colors))"
   ]
  },
  {
   "cell_type": "markdown",
   "metadata": {},
   "source": [
    "__Central idea: a lazy factory__\n",
    "\n",
    "From the outside, the iterator is like a lazy factory that is idle until you ask it for a value, which is when it starts to buzz and produce a single value, after which it turns idle again."
   ]
  },
  {
   "cell_type": "markdown",
   "metadata": {},
   "source": [
    "### Generators\n",
    "generator는 iteratord의 the enegant kind이다.\n",
    "메모리/CPU 효율이 더 좋고, 코드길이 또한 줄인다.\n",
    "\n",
    "관계를 요약하자면,\n",
    "\n",
    "1. 모든 generator가 iterator이다\n",
    "2. 모든 generator가 lazy factory이다\n",
    "\n",
    "\n"
   ]
  },
  {
   "cell_type": "markdown",
   "metadata": {},
   "source": [
    "#### Types of Generator\n",
    "두가지 타입의 generator가 있는데 함수와 표현식이다.\n",
    "\n",
    "generator 함수는 body에 yield 키워드를 갖는다. \n",
    "\n",
    "generator 표현식은 set,dict comprehension으로 얻어진다.(tuple은?)\n"
   ]
  },
  {
   "cell_type": "code",
   "execution_count": 14,
   "metadata": {},
   "outputs": [
    {
     "name": "stdout",
     "output_type": "stream",
     "text": [
      "<class 'generator'>\n"
     ]
    },
    {
     "data": {
      "text/plain": [
       "[1, 1, 2, 3, 5, 8, 13, 21, 34]"
      ]
     },
     "execution_count": 14,
     "metadata": {},
     "output_type": "execute_result"
    }
   ],
   "source": [
    "def fib():\n",
    "    prev, curr = 0, 1\n",
    "    while True:\n",
    "        if curr>50:\n",
    "            break\n",
    "        yield curr\n",
    "        prev, curr = curr, prev + curr\n",
    "f= fib()\n",
    "print(type(f))\n",
    "[el for el in f]"
   ]
  },
  {
   "cell_type": "code",
   "execution_count": 18,
   "metadata": {},
   "outputs": [
    {
     "name": "stdout",
     "output_type": "stream",
     "text": [
      "<class 'generator'> \n",
      " <generator object <genexpr> at 0x0000017EB9A0BD00>\n"
     ]
    }
   ],
   "source": [
    "tuple_comp = (x * x for x in [1,2,3,4,5])\n",
    "print(type(tuple_comp),'\\n',tuple_comp)"
   ]
  },
  {
   "cell_type": "code",
   "execution_count": null,
   "metadata": {},
   "outputs": [],
   "source": []
  }
 ],
 "metadata": {
  "kernelspec": {
   "display_name": "Python 3",
   "language": "python",
   "name": "python3"
  },
  "language_info": {
   "codemirror_mode": {
    "name": "ipython",
    "version": 3
   },
   "file_extension": ".py",
   "mimetype": "text/x-python",
   "name": "python",
   "nbconvert_exporter": "python",
   "pygments_lexer": "ipython3",
   "version": "3.6.4"
  }
 },
 "nbformat": 4,
 "nbformat_minor": 2
}
