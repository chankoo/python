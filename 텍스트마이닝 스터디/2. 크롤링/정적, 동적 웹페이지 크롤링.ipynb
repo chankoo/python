{
 "cells": [
  {
   "cell_type": "markdown",
   "metadata": {},
   "source": [
    "# 1. 정적 웹페이지 크롤링 - bs4"
   ]
  },
  {
   "cell_type": "code",
   "execution_count": 1,
   "metadata": {},
   "outputs": [],
   "source": [
    "import requests\n",
    "from bs4 import BeautifulSoup"
   ]
  },
  {
   "cell_type": "code",
   "execution_count": 2,
   "metadata": {},
   "outputs": [],
   "source": [
    "url = 'http://www.inven.co.kr/board/battlegrounds/5046/98413?category=%EC%9E%A1%EB%8B%B4'"
   ]
  },
  {
   "cell_type": "code",
   "execution_count": 3,
   "metadata": {},
   "outputs": [
    {
     "data": {
      "text/plain": [
       "<function requests.api.get>"
      ]
     },
     "execution_count": 3,
     "metadata": {},
     "output_type": "execute_result"
    }
   ],
   "source": [
    "source_code = requests.get(url)\n",
    "requests.get"
   ]
  },
  {
   "cell_type": "code",
   "execution_count": 4,
   "metadata": {},
   "outputs": [],
   "source": [
    "plain_text = source_code.text"
   ]
  },
  {
   "cell_type": "code",
   "execution_count": 5,
   "metadata": {},
   "outputs": [
    {
     "data": {
      "text/plain": [
       "'<!DOCTYPE HTML PUBLIC \"-//W3C//DTD HTML 4.0 Transitional//EN\">\\r\\n<html>\\r\\n\\t<head>\\r\\n\\t\\t<meta http-equiv=\"content-type\" content=\"text/html; charset=utf-8\" />\\n<meta http-equiv=\"X-UA-Compatible\" content=\"IE=EDGE\" />\\n<meta name=\"keywords\" content=\"배틀그라운드,BattleGrounds,배틀그라운드 인벤,배틀그라운드 공략,배틀그라운드 전술,배틀그라운드 무기,배틀그라운드 맵,배틀그라운드 지도,배틀그라운드 대회,배틀그라운드 전적,배틀그라운드 전적 검색,배틀그라운드 인벤 전체 게시판,배틀그라운드 인벤 : 8배율 확대 축소됨?? - 배틀그라운드 인벤 전체 게시판 - 배틀그라운드 인벤,인벤,게시판\" />\\n<meta name=\"description\" content=\"패치할때 팔배율 4배율처럼 축소된다고했는데나만 모르고 안쓰고있는건가?\" />\\n<meta name=\"naver-site-verification\" content=\"2d9a1e9b33a47eacdcf78b30e4993622b2e26548\"/>\\n<meta name=\"inven-site\" content=\"battlegrounds\"/>\\n<meta name=\"inven-sitename\" content=\"배틀그라운드\"/>\\n<meta property=\"og:title\" content=\"배틀그라운드 인벤 : 8배율 확대 축소됨?? - 배틀그라운드 인벤 전체 게시판\" />\\n<meta name=\"title\" content=\"배틀그라운드 인벤 : 8배율 확대 축소됨?? - 배틀그라운드 인벤 전체 게시판 - 배틀그라운드 인벤\" />\\n<meta id=\"inven-verification\" name=\"inven-verification\" content=\"7eb28b3bb0323463e00f777d8e17febbbe7ddb7936b8a3c3b2d1119a2c5069a'"
      ]
     },
     "execution_count": 5,
     "metadata": {},
     "output_type": "execute_result"
    }
   ],
   "source": [
    "plain_text[:1000]"
   ]
  },
  {
   "cell_type": "code",
   "execution_count": 6,
   "metadata": {},
   "outputs": [],
   "source": [
    "soup = BeautifulSoup(plain_text, 'lxml')"
   ]
  },
  {
   "cell_type": "code",
   "execution_count": 10,
   "metadata": {},
   "outputs": [
    {
     "data": {
      "text/plain": [
       "'<td valign=\"TOP\"><script type=\"text/javascript\">\\r\\n\\t// 본문보기/감추기 버튼\\r\\n\\t\\tfunction viewArticle() {\\r\\n\\t\\t\\tvar articleObj = document.getElementById(\\'tbArticle\\');\\r\\n\\t\\t\\tvar bttnObj = document.getElementById(\\'bttnViewArticle\\');\\r\\n\\t\\t\\tif (articleObj.className == \\'showContent\\') {\\r\\n\\t\\t\\t\\tarticleObj.className = \\'hideContent\\';\\r\\n\\t\\t\\t\\tbttnObj.innerHTML = \\'[본문 보기]\\';\\r\\n\\t\\t\\t} else {\\r\\n\\t\\t\\t\\tarticleObj.className = \\'showContent\\';\\r\\n\\t\\t\\t\\tbttnObj.innerHTML = \\'[본문 감추기]\\';\\r\\n\\t\\t\\t}\\r\\n\\t\\t}\\r\\n\\t\\tfunction need_login_message() {\\r\\n\\t\\t\\talert(\\'\\\\n\\\\n회원전용입니다. 로그인을 하셔야 합니다.\\\\n\\\\n\\');\\r\\n\\t\\t}\\r\\n</script>\\n<!-- ADOP SEO Tag S-->\\n<div class=\"articleView \">\\n<div class=\"powerbbsTopLeftButtons\" style=\"height:18px;\">\\n<a href=\"javascript:void(0);\" onclick=\"document.getElementById(\\'viewUrl\\').style.display=\\'inline\\';\" onfocus=\"this.blur();\" style=\"float:left;display:inline;width:51px;height:15px;overflow:hidden;\"><img border=\"0\" height=\"15\" src=\"http://static.inven.co.kr/image/common/bttn_51x15_gray1_copy.gif\" width=\"51\"/></a>\\n<script src=\"http://www.inven.co.kr/c'"
      ]
     },
     "execution_count": 10,
     "metadata": {},
     "output_type": "execute_result"
    }
   ],
   "source": [
    "# soup에서 'td'로 시작하는 tag를 갖고 있는 값을 모두 찾습니다.\n",
    "title_list = soup.find('td')\n",
    "str(title_list)[:1000]"
   ]
  },
  {
   "cell_type": "code",
   "execution_count": 11,
   "metadata": {},
   "outputs": [],
   "source": [
    "# soup에서 'td'로 시작하는 tag값 안에 'div'로 시작하는 tag값을 갖고 있는 값을 모두 찾습니다.\n",
    "title_list = soup.select('td > div')"
   ]
  },
  {
   "cell_type": "code",
   "execution_count": 12,
   "metadata": {},
   "outputs": [],
   "source": [
    "# soup에서 'div'로 시작하는 tag를 갖고 있고 id가 powerbbsContent인 모든 값을 찾습니다. \n",
    "title_list = soup.find_all('div',{'id':'powerbbsContent'})"
   ]
  },
  {
   "cell_type": "code",
   "execution_count": 13,
   "metadata": {},
   "outputs": [
    {
     "name": "stdout",
     "output_type": "stream",
     "text": [
      "패치할때 팔배율 4배율처럼 축소된다고했는데나만 모르고 안쓰고있는건가?\n"
     ]
    }
   ],
   "source": [
    "for title_list in soup.find_all('div',{'id':'powerbbsContent'}):\n",
    "        title = title_list.text\n",
    "        print(title)"
   ]
  },
  {
   "cell_type": "code",
   "execution_count": null,
   "metadata": {
    "collapsed": true
   },
   "outputs": [],
   "source": []
  },
  {
   "cell_type": "markdown",
   "metadata": {},
   "source": [
    "# 응용해보자~~"
   ]
  },
  {
   "cell_type": "code",
   "execution_count": 14,
   "metadata": {},
   "outputs": [],
   "source": [
    "def hohoho(max_pages):   \n",
    "    page = 98353\n",
    "    while page < max_pages:\n",
    "        page = page+1\n",
    "        url = 'http://www.inven.co.kr/board/battlegrounds/5046/'+str(page)+'?category=%EC%9E%A1%EB%8B%B4'\n",
    "        source_code = requests.get(url)\n",
    "        plain_text = source_code.text\n",
    "        soup = BeautifulSoup(plain_text, 'lxml')\n",
    "        \n",
    "        # soup에서 'td'로 시작하는 tag를 갖고 있고 class가 t_subject인 모든 값을 찾습니다. \n",
    "        for n in soup.find_all('div',{'id':'powerbbsContent'}):\n",
    "            print(n.text)"
   ]
  },
  {
   "cell_type": "code",
   "execution_count": 15,
   "metadata": {},
   "outputs": [
    {
     "name": "stdout",
     "output_type": "stream",
     "text": [
      "이번시즌목표는 2700!\n",
      "배그 실행시 항상 3뚝쓴 사람이 서있는 화면에서 로딩이 멈춥니다 해결방법좀 알려주세요 ㅠㅠ\n",
      "친구랑 겜하는데 (친구가 저보다 더 배린이임) 얘가 10에 6~7은 먼저 적 발견하는데(보자마자 쏘는게 문제일뿐) 항상 어디있는지 못찾음(얘가 마라마 저어어어어어 멀~~~리 있는 돌산에 듀오 한팀 있는걸 발견함 내가 못찾는건지 신기할 따름)얘가 브리핑을 못해서 그런가 생각도 하지만솔로에서도 제가 발견하는 사거리가 그리 멀지 않은것 같음그래도 제 시야가 너무 노안인듯 ㅠ... 다른사람하고 해도 내가 찾는거보다 비중이 많은특히 에란겔 산에서 나무끼고 있으면 답도없는\n",
      "마격 부탁드립니다.\n",
      "VPN 사용시 매치에서 추방핵으로 벤될시 그 컴퓨터 자체를 밴ip밴 도입부탁한다\n",
      "이번에 배틀그라운드 하려고 컴퓨터 부품 사려는데 아래 내용 확인하고보완할 점 있으면 얘기점 !1. 모니터 : ZOWIE XL2411P 144Hz 24인치 게이밍모니터2. 메인보드 : GIGABYTE Z370 HD3 듀러블에디션 피씨디렉트3. CPU : 인텔 코어i7-8700 (커피레이크) (정품)4. RAM : 삼성전자 DDR4 PC4-19200 RAM 8G (2개)5. VGA : MSI GTX 1070Ti 8G6. 파워 : 700W\n",
      "0승인게팩트인데 제가운영그런걸잘못해가지고..빡ㄱㆍㄷ수님들조언좀부탁드립니다\n",
      "우가우가 잘 안들어가서 그러는데벤츠 지금 ksv 두팀 코칭 맡고있냐? 태준이방송에서 숙소에 아직 있어가지고\n",
      "내컴퓨터에 아프리카 프로그램깔면 뭔가 바이러스 깔리는 기분이야....\n",
      "무슨 무반동이 일상화내 애네는 ㄹㅇ 엠16  점사 쏘는데같은 점에 다박히시네ㅋㅋㅋㅋㅋ 80미터 거리에서\n",
      "방금 무슨 마가 꼈나 싶을 정도로초반에 파밍을 아무리 해도 5탄 총이 안나오고3킬 했는데도 5탄 총이 안나오는거임..탑5에서 결국 애매한거리에서 ak로 일기토 붙어서 졌는데...ak가 거의 안써본 총인지라 내 샷발이 확연히 딸려서 졌음....총 못먹은 내 탓이고 시체 파밍해도 안나온건 운이니까 뭘 탓할 수는 없는데유저들이 ak를 너무 기피하고 5탄총만 찾는건 밸런스적으로 좀 고치긴 해야 할 듯 싶음..뭔 5탄 아니면 중장거리는 답이 없어;\n",
      "램4기가랑 cpu눈 쓰고 있는거고 hdd1테라 쓰고 있는데 저렇게 맞추면 중옵은 무리겠죠??\n",
      "5탄총들은 전부 중장거리가 가능한데 AKM은 중거리도 힘들고 근거리가 여포인데문제는 내가 부무장이 덥배라서...\n",
      "ㅈㄱㄴ\n",
      "난 0.86 / 520시간임님들은?\n",
      " 제목대로.. 질문 다른사람들 같은 경우 호흡 맞추는 스쿼드일때가 스텟 더높은거 같아보이는데 저는 랜쿼드로 중국인들이던 한국이던 상관없이 영어나 중국어로 방향+포인트로 적위치 알려주는 톡만 하는데 스쿼드때는 다들 잘하는 사람들이고, 파밍 위치도 랜쿼드랑 별반 다를건 없고 걍 호흡이 안맞는걸까요 그나마 차이라고 느껴지는게 템포차이인거같은데 랜쿼드애들은 대부분 약간 버로우할려는 경향이 많고, 스쿼드는 템포를 좀 빠르게 하는 타입 정도인데 요차이가 스텟에 영향이 클까요\n",
      "이것도 지금 거품이에요??\n",
      "헉헉ㅋㅋㅋ이제 노란색 추리닝 상하의하고 스쿨자켓하고 만다린자켓같은거 다 팔아버려야지이거만끼고다닐거임 헉헉\n",
      "전 솔로가 좋던데제가 혼자서 하고싶은대로 이것저것 해볼 수 있어서막 스쿼드하면 배린이라 오더 하는 사람 말따라 졸졸 따라다니면서 하니까 좀 찝찝하고듀오는 잘하는 사람하고 하면 너무 리드되고 못하는 사람하고 하면 너무 답답하구(저도 개못하지만...ㅠ)대신 산에서 갑자기 뒤통수 맞고 죽으면 개놀람과 빡침이 올라오는건 좀..저는 듀오까지는 재밋는데 스쿼두는 아직 모르겠음 판수도 적고\n",
      "월요일이라서 가격이 순간적으로 떨어진거같은데 몇일뒤에 팔까요?\n",
      "아시아 2100대 솔로 핵 존나많아서 한본썹 1200으로 돌렷는데 또핵이네 ㅋㅋㅋㅋㅋㅋㅋㅋㅋㅋ 300미터 거리에서 스카 소음기 단발로 5방 한큐에 맞춰서 잘하는가 싶어서 전적검색했더니 헤드율 42% ㅋㅋㅋㅋㅋㅋㅋㅋㅋㅋㅋㅋㅋㅋㅋㅋㅋㅋㅋㅋㅋㅋㅋㅋㅋㅋㅋ 어딜가도 핵전쟁이네 ㄹㅇ 한동안 카배해야겟음 스팀보면 샷발은 프로게이머 수준인데 센스가 전부 배린이임 99퍼는 중국인이지만;;\n",
      "우리는 둠 울펜스타인으로 다져진 인생이자나둠 2400bps모뎀으로 전화세 20만씩내며 다져진 인생이자나화팅\n",
      "배그도 상당한 타격이 있을듯\n",
      "지금 제가 4770쓰는중인데 1070쓰는데도 프레임이 70~130나와서 불편해서 그런데 걍 지금 컴 팔고 8세대를 사야될까요?\n",
      "후드 다들 흰색이 이쁘다 하는데왜 내눈에는 검은색이 더 이쁜지...흰색은 뭔가 질릴거 같고..무슨색쓰지\n",
      "보급에서 EDD 슈트 나오고 폭뎀 감소 이동속도  감소 걸고 오직 수류탄 섬광 연막 치료랑 부스트만 사용가능 총기는 나오는데 총알 안 나오고 유탄발사기 몇몇 총 착용 가능 이런거 나오면 재밌을 듯 유탄발사기 안 달리는 SR 나오면 찝찝하고 ㅋㅋㅋ\n",
      "저번주에 노란색 체크무늬 1만원에 사기로 했습니다.근데 제가 거래하기 며칠전에 비밀번호를 변경했는데(자꾸 중국이랑 베트남에서 접속시도가 있어서...) 그거 때문에 거래지연이 되었더라고요?전 그런줄 모르고 스팀 친추 맺고 바로 입금 시켰는데 거래지연 때문에 거래 제안이 안된다고 해서 비밀번호 바꿔서 그런거라고 저도 방금 알았다고 하니까 그럼 거래지연 풀리는 21일에 준다고 하더라고요.착한 사람이구나 생각해서 알았다고 했는데 받기로 한 21일 오전 7시쯤... 네이버 카페에 보니 그 사람이 노란색 체크무늬 옷 1만원에 판다고 올렸더라고요..혹시나 해서 제가 산다고 올렸던 글 보니까 그 사람 댓글 지우고 카톡 차단에 스팀 친추삭제 ㅋㅋㅋ겨우 만원 가지고 신고하기도 뭣해서 그냥 묻어뒀네요...뭐 제가 거래 지연때문에 제때 거래를 못한거니까 그냥 솔직히 \"돈이 궁했다.\" 등의 변명이라도 하고 안주면 이해해줄텐데....결국 오늘 스팀 장터에서 8300원에 샀습니다 ㅋㅋㅋ\n",
      "4명에서 집있으면 집들어가서 양동으로 잡을수 있는데 솔로는 그냥 죽어야대네 진짜\n",
      "그 소리에 깜짝깜짝 놀라서총맞을때 공황상태옴...그 소리만 꺼도 침착하게 할수 있을것같은데 ;ㅡ;)a\n",
      "데미지 38에서 40으로 상향된거 뭐 좋습니다근데 다른 많은 좋은 총들때매저 같은 헨타이들 아니고서VSS 쳐다도 안보는게 현실임여개인적으로 샷건도 앵간한 실제 총기처럼 멀리까지 잘 맞는데VSS라고 못할 이유는 없다고 봅니다일단 탄속은 기존 330인데 원작처럼 '290'으로 낮추고데미지 올려달란거 아닙니다원작처럼 방탄복 '무효화'를 시켰으면 좋겠습니다물론 다 무시하면 사기니까1렙 조끼는 기존 30퍼 방어니까 30퍼의 50퍼만 방탄적용다시 말해서 30퍼센트에서 15퍼센트 방어로 변경40×(0.7+0.15) = 34계산식 설명 >>기존 70퍼뎀만 받던 1렙이 85퍼뎀을 받음결론 >> 34 68 102로'3방 컷'2렙 조끼는 기존 40퍼 방어니까 40퍼의 40퍼 방탄적용다시 말해서 40퍼센트 방어에서 24퍼센트 방어로 변경40×(0.6+0.16) = 30.4계산식 설명 >> 기존 60퍼뎀만 받던 2렙이 76퍼뎀을 받음결론 >> 30.4 60.8 91.2 121.6로'4방 컷'3렙 조끼는 기존 55퍼 방어니까 55퍼의 30퍼 방탄적용다시 말해서 55퍼센트 방어에서 38.5퍼센트 방어로 변경40×(0.45+0.165) = 24.6계산식 설명 >> 기존 45퍼뎀만 받던 3렙이 61.5퍼뎀을 받음결론 >> 24.6 49.2 73.8 98.4 123로'5방 컷'이렇게 되면 쓸만해질 것 같습니다.물론 탄속 느리니까 물 관통력도 적용 잘 되어야겠지요?아직 뚝배기에 대해서도 적용을 해야할지는 잘 모르겠어요.그리고 추가로 VSS는 SMG정도의 무게(2.9kg)인데 달리기 속도는SMG 정도로 보정해야한다 생각합니다.\n",
      "에란겔 대기실에서 ㅋㅋㅋㅋㅋ날다람쥐 오지게하네 존나웃김 ㅋㅋㅋ\n",
      "홍보하러 오는새끼들이 하나같이 배그욕하면서 오라고 꼬심;\n",
      "그건 근접에선 ar보다 글록이 더 낫다는소리에요?아니면 그냥 총알 떨어질때 대비해서 드는거에요?\n",
      "그런 사람들 오더해서 치킨먹여주면자기들이 정말 잘해서 이기는줄 알고이길때 뽕만 기억하고 팡탈은 기억못하는 행복회로돌리며자기가 고수가 된줄만 앎\n",
      "흠.......................\n",
      "왜 스쿼드만 안되지\n",
      "어쩔수 없겠지..최근 그래프 구글링으로 보면 중국유저만 압도적으로 올라가고..한국 조금 나머지는 ....인거 같은데이런 상태에서 어쩌면 당연히 중국신경쓰겠지 뭐 별수 있나이미 동접 300만 일때 중국 비중이 70퍼이상을거 같은데.... 60 퍼는 진작에 넘었고\n",
      "새로교체해서 문구넣음누구보다빠르게남들과는다르게 동생들택배갖다주께!\n",
      "회사동료와 회식중 배그 이야기나옴동료중 한번두 안해봤다고 해보고 싶다고함피방 와서 스팀구매후 같이 듀오로 배그하는데이친구 곧 잘함 물어보니 레인보우 자주했다고함첫째판은 그냥 돌아댕기다 즉사두번째판 어찌 어찌 탑텐진입 이게 웬걸 부동산투자성공마지막 자기장까지 우리 주위로 펼쳐짐 적들 사방서뛰어오기 바쁨 하나둘 잡다보니 치킨을 먹음나두 집중한지라 그제서야 옆을 보니 가슴움켜지고숨을 헐떡이더니 동료 쓰러짐  알바생이 바로 119부르고난리가 남 구급차에서 응급조치중 의식찾음병원도착해서 검사받고 하루입원치료결정 의사선생님이급성부정맥으로 심한 스트레스가 원인이라고함자초지정설명하니 너무 긴장을 해서 그럴수있다고함졸지에 게임하나 추천했다가 동료 장례식 치를뻔 함퇴원하고 회사들어온 이세끼 하는 말 존나 재밌다회사만 아니면 뒤통수 후려칠뻔 했음여러분 게임은 게임일뿐\n",
      "하얀상자 뜨면 팔까 깔까그것이 문제로다...\n",
      "앵간한 총은 다나온거 같은데  요즘 신총 나오는거보면 비슷비슷기본스팩은 최악에  파츠 드랍율 똥망인데다 모으면 엑조디아마냥 세지는 로또총같은게 나올려나..\n",
      "열쇠가 구매가 안됨 \n",
      "배율 8배율처럼 확대축소 가능하게데미지 약간 상향보급에서만 등장, 전용탄 60발, 방어구 무시\n",
      "모신나강대신 카구팔 나온 이유 옛날에 봤던거 같던데 기억이 안나네\n",
      "거의 근접 녹이기용임?원거리에서는 별로 힘 발휘가 안되나요?엄청먼거리말고 적당히 먼거리\n",
      "소음기달고 차바퀴 터칠때 빅재미던데\n"
     ]
    }
   ],
   "source": [
    "hohoho(98411)"
   ]
  },
  {
   "cell_type": "code",
   "execution_count": null,
   "metadata": {
    "collapsed": true
   },
   "outputs": [],
   "source": []
  },
  {
   "cell_type": "markdown",
   "metadata": {},
   "source": [
    "# 파싱한 텍스트를 csv파일로 저장해보자~!!"
   ]
  },
  {
   "cell_type": "code",
   "execution_count": 15,
   "metadata": {
    "collapsed": true
   },
   "outputs": [],
   "source": [
    "f=open(\"배그.csv\",\"w\")\n",
    "def hohoho(max_pages):   \n",
    "    page = 98313\n",
    "    while page < max_pages:\n",
    "        page = page+1\n",
    "        url = 'http://www.inven.co.kr/board/battlegrounds/5046/'+str(page)+'?category=%EC%9E%A1%EB%8B%B4'\n",
    "        source_code = requests.get(url)\n",
    "        plain_text = source_code.text\n",
    "        soup = BeautifulSoup(plain_text, 'lxml')\n",
    "# soup에서 'td'로 시작하는 tag를 갖고 있고 class가 t_subject인 모든 값을 찾습니다. \n",
    "        for n in soup.find_all('div',{'id':'powerbbsContent'}):\n",
    "            print(n.text)\n",
    "        try:\n",
    "            f.write(n.text)\n",
    "            f.write('\\n')\n",
    "        except:\n",
    "            pass\n",
    "    f.close()"
   ]
  },
  {
   "cell_type": "code",
   "execution_count": null,
   "metadata": {
    "collapsed": true
   },
   "outputs": [],
   "source": []
  },
  {
   "cell_type": "markdown",
   "metadata": {},
   "source": [
    "# 2. 동적웹페이지 - selenium, bs4"
   ]
  },
  {
   "cell_type": "code",
   "execution_count": 16,
   "metadata": {},
   "outputs": [],
   "source": [
    "import urllib.request\n",
    "from bs4 import BeautifulSoup\n",
    "from selenium import webdriver\n",
    "from selenium.webdriver.common.action_chains import ActionChains\n",
    "import time"
   ]
  },
  {
   "cell_type": "code",
   "execution_count": 17,
   "metadata": {},
   "outputs": [],
   "source": [
    "driver_path = 'chromedriver.exe'\n",
    "url_tvcast = \"http://tv.naver.com/cjenm.produce101s2/clips\""
   ]
  },
  {
   "cell_type": "code",
   "execution_count": 18,
   "metadata": {},
   "outputs": [],
   "source": [
    "driver = webdriver.Chrome(driver_path)\n",
    "driver.get(url_tvcast)\n",
    "actions = ActionChains(driver)"
   ]
  },
  {
   "cell_type": "code",
   "execution_count": 19,
   "metadata": {},
   "outputs": [
    {
     "name": "stdout",
     "output_type": "stream",
     "text": [
      "＜PRODUCE 48 = PRODUCE101 + AKB48＞\n",
      "＂국민 프로듀서님, 그동안 감사했습니다!＂ㅣFINAL 생방송 데뷔 평가 현장 비하인드\n",
      "[101 비하인드] ＜FINAL 생방송 데뷔 평가＞ 리허설 현장 공개!\n",
      "[최종회] 마지막 데뷔 멤버로 합류하게 될 연습생은?\n",
      "[최종회] 최종 순위 발표식의 1위를 차지할 연습생은?\n",
      "[최종회] 또 다른 시작의 주인공! 최종 순위 발표식 9위\n",
      "[단독/최종회] 101 연습생을 찾아온 손님은?\n",
      "[최종회] ′연습생들과의 첫 만남!′ 사전 미팅 영상\n",
      "[단독/최종회] ＜이 자리에 (Always)＞ Final 생방송 무대\n",
      "[최종회] ＜Hands on Me＞ Final 데뷔 평가 무대\n",
      "[최종회] ＜Super Hot＞ Final 데뷔 평가 무대\n",
      "[단독/최종회] ＜나야 나＞ Final 생방송 무대\n",
      "[단독/선공개] 데뷔 평가 곡 녹음 현장\n",
      "[101 스페셜] 국.프가 묻는다!\n",
      "[예고/최종회] 과연 오늘 밤의 주인공은? ▶FINAL 생방송 데뷔 평가◀\n",
      "[단독] 센터 영상평가ㅣ하성운 ♬ Super Hot\n",
      "[단독] 센터 영상평가ㅣ최민기 ♬ Super Hot\n",
      "[단독] 센터 영상평가ㅣ임영민 ♬ Super Hot\n",
      "[단독] 센터 영상평가ㅣ이대휘 ♬ Super Hot\n",
      "[단독] 센터 영상평가ㅣ유선호 ♬ Super Hot\n",
      "[단독] 센터 영상평가ㅣ안형섭 ♬ Super Hot\n",
      "[단독] 센터 영상평가ㅣ라이관린 ♬ Super Hot\n",
      "[단독] 센터 영상평가ㅣ김종현 ♬ Super Hot\n",
      "[단독] 센터 영상평가ㅣ김사무엘 ♬ Super Hot\n",
      "[단독] 센터 영상평가ㅣ강동호 ♬ Super Hot\n",
      "[단독] 센터 영상평가ㅣ황민현 ♬ Hands on Me\n",
      "[단독] 센터 영상평가ㅣ주학년 ♬ Hands on Me\n",
      "[단독] 센터 영상평가ㅣ정세운 ♬ Hands on Me\n",
      "[단독] 센터 영상평가ㅣ윤지성 ♬ Hands on Me\n",
      "[단독] 센터 영상평가ㅣ옹성우 ♬ Hands on Me\n"
     ]
    }
   ],
   "source": [
    "has_more = True\n",
    "\n",
    "while has_more:\n",
    "    time.sleep(5.0)\n",
    "    more = driver.find_elements_by_class_name('bt_more')[0]\n",
    "    try:\n",
    "        more.click()                                     \n",
    "    except:\n",
    "        has_more = False\n",
    "        break\n",
    "\n",
    "html = driver.page_source\n",
    "soup = BeautifulSoup(html, 'html.parser')\n",
    "notices = soup.select('dl.cds_info > dt.title > a > tooltip')\n",
    "\n",
    "for n in notices:\n",
    "    print(n.text)"
   ]
  },
  {
   "cell_type": "code",
   "execution_count": 20,
   "metadata": {},
   "outputs": [
    {
     "data": {
      "text/plain": [
       "<selenium.webdriver.remote.webelement.WebElement (session=\"744a8ad7b3d1a02699a7098b05e204b8\", element=\"0.9814083579149999-1\")>"
      ]
     },
     "execution_count": 20,
     "metadata": {},
     "output_type": "execute_result"
    }
   ],
   "source": [
    "driver.find_elements_by_class_name('bt_more')[0]"
   ]
  },
  {
   "cell_type": "code",
   "execution_count": null,
   "metadata": {
    "collapsed": true
   },
   "outputs": [],
   "source": []
  },
  {
   "cell_type": "markdown",
   "metadata": {},
   "source": [
    "# 동적 웹페이지2 - 페이스북 대나무숲"
   ]
  },
  {
   "cell_type": "code",
   "execution_count": 21,
   "metadata": {},
   "outputs": [],
   "source": [
    "import urllib.request\n",
    "from bs4 import BeautifulSoup\n",
    "from selenium import webdriver\n",
    "from selenium.webdriver.common.action_chains import ActionChains\n",
    "from selenium.webdriver.common.keys import Keys \n",
    "import time"
   ]
  },
  {
   "cell_type": "code",
   "execution_count": 22,
   "metadata": {},
   "outputs": [],
   "source": [
    "driver_path = 'chromedriver.exe'\n",
    "url = \"https://www.facebook.org\""
   ]
  },
  {
   "cell_type": "code",
   "execution_count": 23,
   "metadata": {},
   "outputs": [],
   "source": [
    "driver = webdriver.Chrome(driver_path)\n",
    "driver.get(url)\n",
    "actions = ActionChains(driver)"
   ]
  },
  {
   "cell_type": "code",
   "execution_count": 25,
   "metadata": {},
   "outputs": [],
   "source": [
    "usr = \"ckbaek1125@gmail.com\" \n",
    "pwd = \"  \"  #각자의 비밀번호 넣으면 된다\n",
    "\n",
    "assert \"Facebook\" in driver.title \n",
    "# elem = driver.find_element_by_id(\"email\") \n",
    "# elem.send_keys(usr) \n",
    "# elem = driver.find_element_by_id(\"pass\") \n",
    "# elem.send_keys(pwd) \n",
    "# elem.send_keys(Keys.RETURN) \n",
    "\n",
    "# elem.click() "
   ]
  },
  {
   "cell_type": "code",
   "execution_count": 24,
   "metadata": {},
   "outputs": [],
   "source": [
    "f=open(\"korea1.csv\",\"w\")\n",
    "def spider(max_pages):   \n",
    "    page = 32093\n",
    "    while page < max_pages:\n",
    "        time.sleep(1.5)\n",
    "        page = page+1\n",
    "        url = 'https://www.facebook.com/hashtag/'+str(page)+'번째포효?source=feed_text&story_id=690382401165076'\n",
    "        driver.get(url)\n",
    "        html = driver.page_source\n",
    "        soup = BeautifulSoup(html, 'html.parser')\n",
    "# soup에서 'td'로 시작하는 tag를 갖고 있고 class가 t_subject인 모든 값을 찾습니다. \n",
    "        notices = soup.find_all('div',{'class':'_5pbx userContent _22jv _3576'})\n",
    "        for n in notices:\n",
    "            print(n.text)\n",
    "        try:\n",
    "            f.write(n.text)\n",
    "            f.write('\\n')\n",
    "        except:\n",
    "            pass\n",
    "    f.close()"
   ]
  },
  {
   "cell_type": "code",
   "execution_count": 25,
   "metadata": {},
   "outputs": [
    {
     "name": "stdout",
     "output_type": "stream",
     "text": [
      "#32094번째포효 #이과드립 1. 밀려드는 시험에 찌든것같아 Dρv/η fresh! 하고자 휴학을 고민중이에요... 진지한 조언좀 해주세오 그럼 이만.. . . . . . . . 뿡 2. 저는 구경꾼이온인가봐요 ㅠㅠ 연애에 있어서 전혀 반응비스무리한 거에 참여해본 적도 없고 매일매일이 반응없이 단조로워요... 알짜이온은 엌떻게 되는 걸까요? 알짜이온처럼 살고 싶다!!!! 나도 반응하고 싶다~~~ 에잇 촉매만도 못 한 삶ㅠㅠ 더 보기\n",
      "#32095번째포효 저는 2009년에 처음으로 야구를 본 베이징 세대입니다. 당시 야구를 처음 알고 그 해 우승했던 팀을 쫓게 되었죠... 저는 잘하는 팀인줄 알았는데 8년을 다시 기다렸어요. 8년동안 왜 이 팀을 응원했는지 모르겠다고 매일 후회했는데, 우승하고 나서야 알겠더라고요. 매번 있는 우승도 아니었고 해서 너무 기분이 좋아요.... 선수들 모두 고맙고 잘 해줘서 자랑스럽네요! 사랑해요~ 호랑이 짱짱맨 더 보기\n",
      "#32096번째포효 마음껏 아파하세요. 우리나라 고등학생들을 괴롭히는 병이 두 가지, '대입병'과 '눈칫병'이 있어요. 대입병. 대입이라는 잣대 아래서 모든 게 하찮아지고, 마치 대학교 이름이 내 삶을 평가하는 것처럼 느껴지는, 고등학생들 뿐 아니라 슬프게도 우리나라 국민 전체의 90퍼센트 이상이 앓고 있는 병. 이 병은 우리 학생들에게 너무 많은 아픔을 주었어요. 스스로의 정체성을 형성하고 미래에 대해 한창 고민할 시기에 이 병은 계속해서 우리에게 자책만을 안겨 주었죠.... 학업 스트레스, 결코 가벼운 아픔이 아니에요. 그런데 우리들은 이걸 누구나 겪고 지나가는 것이기 때문에, 스스로 괜찮다고 말해 버리는 눈칫병을 앓고 있어요. 아픈 건 잘못한 게 아니에요. 이건 몸이든 마음이든 마찬가지입니다. 마음껏 아파하세요. 아프면 아프다고 말하고 좋아하는 노래를 듣거나 크게 소리도 질러보고 때론 가까운 사람에게 안겨 참았던 눈물을 터뜨리기도 하는 그런 삶. 어찌 보면 당연한 삶이지만 우리들은 수험생에 가까워질수록 이걸 참 어려워해요. 아파도 되는 걸 잊어버려요. 우리가 짊어지고 가는 것들은 결코 가벼운 무게들이 아니에요. 다른 사람들이 잘 버티고 있다는 사실 따위는 절대 당신의 아픔을 합리화시키는 말이 될 수 없어요. 진짜 강한 사람은 안 아픈 사람이 아니라 많은 아픔을 딛고 일어나는 사람이래요. 당신이 이때껏 많이 아팠다면, 많이 힘들었다면 그건 당신이 그만큼 강한 사람이라는 뜻이에요. 자기 자신을 조금만 더 사랑해 주세요. 지치고 힘들 때면, 자신의 가슴에 손을 올리고 스스로를 위로해 보세요. 누군가에게 가장 큰 위로를 줄 수 있는 사람은 결국 자기 자신입니다. 다른 사람에게 미움받지 않으려고 당신을 아프게 하는 건 희생이 아니라 스스로에 대한 폭력이에요. 친구들에게는 절대 들지 않는 엄격한 잣대를 스스로에게만 내세울 필요는 없어요. 아프면 잠시 쉬어도 괜찮아요. 힘들어해도 괜찮아요. 울어도 괜찮아요. 나는 감히 당신의 아픔을 헤아려 줄 수 없으니, 당신 스스로가 헤아려 주세요. 오늘은 나 많이 아팠다고, 힘들었다고 솔직하게 고백해 보는 건 어떨까요. 나의 생은 미친 듯이 사랑을 찾아 헤메었으나 단 한번도 스스로를 사랑하지 않았노라 (질투는 나의 힘, 기형도) -한숨에 둘러싸인 많은 후배님들과 수능을 다시 준비하는 친구들 선배들, 그리고 나로 인해 너무나 아파하던 1년 전의 나 자신에게- 더 보기\n",
      "#32097번째포효 대숲 안녕!!!! 오늘 제 이야기 꼭 올려주셨음 해요. 꼭이요. 대숲 저는 뚱뚱한 여자에요. 아니, 뚱뚱했었어요. 17학번으로 입학할때만해도 키161에 90키로 조금 안되는 그런 몸매였어요. 처음부터 이렇게까지 뚱뚱한건 아니었는데 고1때까지만 해도 60키로초반? 정도였거든요. (사실 날씬한건 아니었지만..) 고2, 고3때 죽어라 공부하고 스트레스를 다 먹는걸로 풀었더니 진짜 훅 찌더라구요.... 주변에서 제 대학 합격소식을 듣고 다들 축하해주는게 아니라 제 몸을 걱정하셨어요. 안그래도 공대로 진학하는데 남자들이 너 아무도 안놀아준다, 못어울린다 하면서요. 그런데 전 별로 걱정이 안됬던게 전 평생 통통~뚱뚱 하게 살아오면서 저 스스로 난 한번도 차별을 받은적이 없다고 생각하면서 살아왔어요. 실제로 느껴본적도 없구요. 제가 급격하게 살이쪄도 제 주변 친구들은 한명도 떠나가지 않았고, 고2때는 남자친구도 있었어요. 그리고 대인관계도 좋은편이라고 생각했구요. 그래서 그냥 괜찮아~ 난 매력으로 승부할꺼야! 라고 생각했었어요. 그 후 3월 저는 꿈꾸던 고대에서의 생활을 시작했어요. 처음에는 나쁘지 않았어요. 정확히 말하면 여름방학 전까지는 나쁘지 않았어요. 같은과 남자동기랑은 한명도 친해지지못했지만, 같은과 여자동기와 친해졌고 둘이 같이 다니는게 너무 재미있었거든요. 그리고 제가 여고를 나와서 남자동기를 불편해하기도 했고, 그 친구들도 저를 어렵게 생각해서 아무도 말을 안거는거라고 생각했어요. 저도 남자가 어색해서 말을 못걸었으니까. 1학기 중반쯤이 되자 과에서 가장 예쁜 친구 한명과 그 다음으로 예쁜친구 한명 그니까 예쁜친구2명을 중심으로 무리가 하나 생겼어요. 제 과에서 그 두 친구가 가장 남자동기와 잘 지냈고 다른 애들은 그럭저럭. 반면에 저는 아무와도 친하지 않았었죠. 선배와의 친분도 같았어요. 저는 밥사주겠다는 선배가 한명도 없었어요. 나중에 알고보니 그 두 친구는 첫달을 거의 다 얻어먹으면서 다녔더라구요ㅋㅋㅋ 암튼 저는 그때까지만 해도 그 두 친구가 성격이 좋아서 그렇다고 생각해서 전혀! 서운하거나 하지 않았어요. 근데요 제가 여름방학에 살을 쫙 빼고 돌아와 2학기를 생활해보니, 제가 진짜 그동안 많은 차별과 무의식의 무시를 받아왔다는것을 완전 느꼈어요. 제가 1월부터 지금까지 계속 다이어트를 하고있는데 1학기 종강때가 75키로? 정도였었고 여름방학때 진짜 운동만해서 이번 개강날 56.2kg 처음으로 앞자리 5를 찍었어요. 지금은 조금더 빠져서 52~50정도?에요. 2학기가 시작하자 마자 많은 남자동기들이 술자리, 볼링장, 당구장 등등 에 오지 않겠냐고 했고 많은 선배님들이 모르는거 있음 물어보라는 말을 헤어지는 인사뒤에 붙여주셨구요, 점심시간에 만나면 밥도 사주시고 하더라구요. 이게무슨.. 저랑 1학기때 같이 있었으면서 2학기가 되니 갑자기 저를 대하는 태도가 달라지더라구요. 화장하는거나 옷입는 스타일은 바뀌지 않았으니 아무래도 살이 이유겠죠? 저는 대우받으려고 뺀건 아니지만 진짜 삶이 바뀐다는게 무슨 이야기인지 알 것 같아요. 그리고 너무 화나요. 제가 둔했더라구요. 같은 사람인데 받지 못했던 것들, 당연한것도 저에게는 힘든일이었다는게 단지 뚱뚱하다는 이유때문이었다니. 그때의 저는 인식하지 못했으니 그냥 넘어간건데, 상대방은 그냥 아무말도 못하는 호구로 봤겠죠. 저는 진짜 우리나라는 그런 차별이 적다고, 가끔 인터넷에 뜨는글은 다 오버한거라고 생각했는데 아니에요 제가 완전 오해했더라구요. 정말 너무 속상하고 화가나고 치사해요. '나'는 바뀐게 고작 몸매뿐인데 성격도 그대로고 옷입는것도 심지어 남자를 불편해하는것도 그대론데 주변 남자분들은 제가 아무리 밀어내도 계속 가까워지려고 노력하세요ㅋㅋㅋ 결국 뚱뚱하면 대인관계를 형성하는게 힘들다는 말이 맞는것같아요. 제가 피부로 느끼고 있거든요. 사람과 친해지는게 이렇게 쉽고 가벼운일인지 몰랐어요. 지금까지는 친해지려면 많은 시간과 노력을 통해 친해졌었는데... 모두를 일반화 하려는건 아닌데, 그래도 제가 느낀건 꼭 이야기 하고싶었어요. 제발 진짜 제발 차별하지 말아주세요. 물론 제 중,고등학교 친구들, 지금 여자동기친구 처럼 저 그대로를 받아주는 사람도 있지만 아닌 사람이 훠얼씬 많더라구요.  저는 아마 앞으로 사람을 볼  때 '내가 뚱뚱했다면 이렇게 해줬을까?'라고 의심부터 할 것같네요. 속상한 현실입니다... 더 보기\n",
      "#32098번째포효 학생회 선거철이 다가왔나봅니다. 투표함도 보이고 팜플렛도 보이고 하네요. 앞으로 새로 들어설 학생회 여러분께 건의드릴게 있어서 글을 써봅니다. 저희 학교는 새터때 사발식을 합니다. 예전에는 토할정도로 먹였다고 들었는데 요즘은 한잔씩만 마시게 하는 등 굉장히 상식적으로 바뀐 곳들이 많죠. 새터때 이걸 왜 하는지 들었는데 뭐 고려대 선배님들이 일제 경찰서 앞에서 막걸리를 먹고 토한데서 비롯했다 하더라고요. 그 정신을 이으려고 하는거라고요.  그런데요, 양이 줄었다고 이것이 괜찮은 걸까요? 정신을 잇는다는 이유로 합리화해도 되는걸까요?... 그 양이 줄었다고 해도 사발식이 주는 위압감은 그대로입니다. 막걸리 찬간지 뭔지를 부르면서, 똑바로 안부르냐면서 위압감을 주고 쓸데없이 강압적인 분위기를 조성합니다. 선택이라고요? 물론 안하겠다 하면 뺄 수도 있고 술 못마시는 사람은 미리 말하라고 하지만 대학생활을 처음 해보는 새내기들이 이를 거부하고 안하는 것이 쉬울까요? 그리고 제가 새터 때 들은건 아픈사람 빼고는 가자라는 말이었습니다. 싫었지만 안아팠으니까 그냥 따라갔습니다. 뭐...많은 분들이 겪으셨겠지만 따라가서 겪은 사발식은 끔찍했죠.  선배들의 정신을 잇는다고요? 다른 학교 친구들이 비웃더군요. 무슨 말도안되는 소리냐고. 저도 말도 안되는 소리라고 생각합니다. 실제로 선배님들이 그러셨는지도 모르겠고, 그러셨다고 하더라도 그 정신은 후배들 위압감이나 주면서 술먹이라는 것이 아니라 부정한 억압에 대한 저항일 것입니다. 근데 지금 무엇을 하고 있습니까. 강당같은데서 막걸리 찬가같은 노래나 부르며 술먹이는게 전부입니다. 거기에 도대체 어떤 저항정신이 깃들어 있다는 겁니까? 할거면 괜히 이런 쓸데없는 짓을 해서 선후배 간에 미안하거나 혹은 멀게 느껴지게하는 감정 들게하지말고 더 의미있는걸 찾아보는게 좋지 않겠습니까? 저는 새로 들어설 학생회 여러분들이 사발식을 없애는데 노력을 기울이셨으면 합니다. 긴 전통이라 없애기 어렵고, 추진하고 싶다면 학생 대표로 학생회끼리 하는 것도 괜찮을 것 같습니다. 굳이 아무것도 모르는 새내기들 끌어들이지 말고 추진하고싶은 사람들끼리 하는거죠. 중잔같은데서 공개적으로 할수도 있고요. (정신을 잇는쪽으로, 더 건설적으로요.) 새터에서 행하는 사발식은 새내기들에.대한 일방적인 폭력입니다. 저도 후배들에게 그 짓을 결코 하고싶지 않습니다. 실제로 이것 때문에 새터에 가지 않겠다는 동기도 있고요. 부디 후배들이 폭력을 겪지 않을 수 있도록, 선배들이 원치않는 폭력을 휘두르지 않을 수 있도록 부디 개선이나 폐지에 힘써주시기 바랍니다. 감사합니다. 더 보기\n"
     ]
    },
    {
     "ename": "KeyboardInterrupt",
     "evalue": "",
     "output_type": "error",
     "traceback": [
      "\u001b[1;31m---------------------------------------------------------------------------\u001b[0m",
      "\u001b[1;31mKeyboardInterrupt\u001b[0m                         Traceback (most recent call last)",
      "\u001b[1;32m<ipython-input-25-eb722e19a71f>\u001b[0m in \u001b[0;36m<module>\u001b[1;34m()\u001b[0m\n\u001b[1;32m----> 1\u001b[1;33m \u001b[0mspider\u001b[0m\u001b[1;33m(\u001b[0m\u001b[1;36m32500\u001b[0m\u001b[1;33m)\u001b[0m\u001b[1;33m\u001b[0m\u001b[0m\n\u001b[0m",
      "\u001b[1;32m<ipython-input-24-3f5ba3e90a03>\u001b[0m in \u001b[0;36mspider\u001b[1;34m(max_pages)\u001b[0m\n\u001b[0;32m      6\u001b[0m         \u001b[0mpage\u001b[0m \u001b[1;33m=\u001b[0m \u001b[0mpage\u001b[0m\u001b[1;33m+\u001b[0m\u001b[1;36m1\u001b[0m\u001b[1;33m\u001b[0m\u001b[0m\n\u001b[0;32m      7\u001b[0m         \u001b[0murl\u001b[0m \u001b[1;33m=\u001b[0m \u001b[1;34m'https://www.facebook.com/hashtag/'\u001b[0m\u001b[1;33m+\u001b[0m\u001b[0mstr\u001b[0m\u001b[1;33m(\u001b[0m\u001b[0mpage\u001b[0m\u001b[1;33m)\u001b[0m\u001b[1;33m+\u001b[0m\u001b[1;34m'번째포효?source=feed_text&story_id=690382401165076'\u001b[0m\u001b[1;33m\u001b[0m\u001b[0m\n\u001b[1;32m----> 8\u001b[1;33m         \u001b[0mdriver\u001b[0m\u001b[1;33m.\u001b[0m\u001b[0mget\u001b[0m\u001b[1;33m(\u001b[0m\u001b[0murl\u001b[0m\u001b[1;33m)\u001b[0m\u001b[1;33m\u001b[0m\u001b[0m\n\u001b[0m\u001b[0;32m      9\u001b[0m         \u001b[0mhtml\u001b[0m \u001b[1;33m=\u001b[0m \u001b[0mdriver\u001b[0m\u001b[1;33m.\u001b[0m\u001b[0mpage_source\u001b[0m\u001b[1;33m\u001b[0m\u001b[0m\n\u001b[0;32m     10\u001b[0m         \u001b[0msoup\u001b[0m \u001b[1;33m=\u001b[0m \u001b[0mBeautifulSoup\u001b[0m\u001b[1;33m(\u001b[0m\u001b[0mhtml\u001b[0m\u001b[1;33m,\u001b[0m \u001b[1;34m'html.parser'\u001b[0m\u001b[1;33m)\u001b[0m\u001b[1;33m\u001b[0m\u001b[0m\n",
      "\u001b[1;32m~\\Anaconda3\\lib\\site-packages\\selenium\\webdriver\\remote\\webdriver.py\u001b[0m in \u001b[0;36mget\u001b[1;34m(self, url)\u001b[0m\n\u001b[0;32m    322\u001b[0m         \u001b[0mLoads\u001b[0m \u001b[0ma\u001b[0m \u001b[0mweb\u001b[0m \u001b[0mpage\u001b[0m \u001b[1;32min\u001b[0m \u001b[0mthe\u001b[0m \u001b[0mcurrent\u001b[0m \u001b[0mbrowser\u001b[0m \u001b[0msession\u001b[0m\u001b[1;33m.\u001b[0m\u001b[1;33m\u001b[0m\u001b[0m\n\u001b[0;32m    323\u001b[0m         \"\"\"\n\u001b[1;32m--> 324\u001b[1;33m         \u001b[0mself\u001b[0m\u001b[1;33m.\u001b[0m\u001b[0mexecute\u001b[0m\u001b[1;33m(\u001b[0m\u001b[0mCommand\u001b[0m\u001b[1;33m.\u001b[0m\u001b[0mGET\u001b[0m\u001b[1;33m,\u001b[0m \u001b[1;33m{\u001b[0m\u001b[1;34m'url'\u001b[0m\u001b[1;33m:\u001b[0m \u001b[0murl\u001b[0m\u001b[1;33m}\u001b[0m\u001b[1;33m)\u001b[0m\u001b[1;33m\u001b[0m\u001b[0m\n\u001b[0m\u001b[0;32m    325\u001b[0m \u001b[1;33m\u001b[0m\u001b[0m\n\u001b[0;32m    326\u001b[0m     \u001b[1;33m@\u001b[0m\u001b[0mproperty\u001b[0m\u001b[1;33m\u001b[0m\u001b[0m\n",
      "\u001b[1;32m~\\Anaconda3\\lib\\site-packages\\selenium\\webdriver\\remote\\webdriver.py\u001b[0m in \u001b[0;36mexecute\u001b[1;34m(self, driver_command, params)\u001b[0m\n\u001b[0;32m    308\u001b[0m \u001b[1;33m\u001b[0m\u001b[0m\n\u001b[0;32m    309\u001b[0m         \u001b[0mparams\u001b[0m \u001b[1;33m=\u001b[0m \u001b[0mself\u001b[0m\u001b[1;33m.\u001b[0m\u001b[0m_wrap_value\u001b[0m\u001b[1;33m(\u001b[0m\u001b[0mparams\u001b[0m\u001b[1;33m)\u001b[0m\u001b[1;33m\u001b[0m\u001b[0m\n\u001b[1;32m--> 310\u001b[1;33m         \u001b[0mresponse\u001b[0m \u001b[1;33m=\u001b[0m \u001b[0mself\u001b[0m\u001b[1;33m.\u001b[0m\u001b[0mcommand_executor\u001b[0m\u001b[1;33m.\u001b[0m\u001b[0mexecute\u001b[0m\u001b[1;33m(\u001b[0m\u001b[0mdriver_command\u001b[0m\u001b[1;33m,\u001b[0m \u001b[0mparams\u001b[0m\u001b[1;33m)\u001b[0m\u001b[1;33m\u001b[0m\u001b[0m\n\u001b[0m\u001b[0;32m    311\u001b[0m         \u001b[1;32mif\u001b[0m \u001b[0mresponse\u001b[0m\u001b[1;33m:\u001b[0m\u001b[1;33m\u001b[0m\u001b[0m\n\u001b[0;32m    312\u001b[0m             \u001b[0mself\u001b[0m\u001b[1;33m.\u001b[0m\u001b[0merror_handler\u001b[0m\u001b[1;33m.\u001b[0m\u001b[0mcheck_response\u001b[0m\u001b[1;33m(\u001b[0m\u001b[0mresponse\u001b[0m\u001b[1;33m)\u001b[0m\u001b[1;33m\u001b[0m\u001b[0m\n",
      "\u001b[1;32m~\\Anaconda3\\lib\\site-packages\\selenium\\webdriver\\remote\\remote_connection.py\u001b[0m in \u001b[0;36mexecute\u001b[1;34m(self, command, params)\u001b[0m\n\u001b[0;32m    464\u001b[0m         \u001b[0mdata\u001b[0m \u001b[1;33m=\u001b[0m \u001b[0mutils\u001b[0m\u001b[1;33m.\u001b[0m\u001b[0mdump_json\u001b[0m\u001b[1;33m(\u001b[0m\u001b[0mparams\u001b[0m\u001b[1;33m)\u001b[0m\u001b[1;33m\u001b[0m\u001b[0m\n\u001b[0;32m    465\u001b[0m         \u001b[0murl\u001b[0m \u001b[1;33m=\u001b[0m \u001b[1;34m'%s%s'\u001b[0m \u001b[1;33m%\u001b[0m \u001b[1;33m(\u001b[0m\u001b[0mself\u001b[0m\u001b[1;33m.\u001b[0m\u001b[0m_url\u001b[0m\u001b[1;33m,\u001b[0m \u001b[0mpath\u001b[0m\u001b[1;33m)\u001b[0m\u001b[1;33m\u001b[0m\u001b[0m\n\u001b[1;32m--> 466\u001b[1;33m         \u001b[1;32mreturn\u001b[0m \u001b[0mself\u001b[0m\u001b[1;33m.\u001b[0m\u001b[0m_request\u001b[0m\u001b[1;33m(\u001b[0m\u001b[0mcommand_info\u001b[0m\u001b[1;33m[\u001b[0m\u001b[1;36m0\u001b[0m\u001b[1;33m]\u001b[0m\u001b[1;33m,\u001b[0m \u001b[0murl\u001b[0m\u001b[1;33m,\u001b[0m \u001b[0mbody\u001b[0m\u001b[1;33m=\u001b[0m\u001b[0mdata\u001b[0m\u001b[1;33m)\u001b[0m\u001b[1;33m\u001b[0m\u001b[0m\n\u001b[0m\u001b[0;32m    467\u001b[0m \u001b[1;33m\u001b[0m\u001b[0m\n\u001b[0;32m    468\u001b[0m     \u001b[1;32mdef\u001b[0m \u001b[0m_request\u001b[0m\u001b[1;33m(\u001b[0m\u001b[0mself\u001b[0m\u001b[1;33m,\u001b[0m \u001b[0mmethod\u001b[0m\u001b[1;33m,\u001b[0m \u001b[0murl\u001b[0m\u001b[1;33m,\u001b[0m \u001b[0mbody\u001b[0m\u001b[1;33m=\u001b[0m\u001b[1;32mNone\u001b[0m\u001b[1;33m)\u001b[0m\u001b[1;33m:\u001b[0m\u001b[1;33m\u001b[0m\u001b[0m\n",
      "\u001b[1;32m~\\Anaconda3\\lib\\site-packages\\selenium\\webdriver\\remote\\remote_connection.py\u001b[0m in \u001b[0;36m_request\u001b[1;34m(self, method, url, body)\u001b[0m\n\u001b[0;32m    488\u001b[0m             \u001b[1;32mtry\u001b[0m\u001b[1;33m:\u001b[0m\u001b[1;33m\u001b[0m\u001b[0m\n\u001b[0;32m    489\u001b[0m                 \u001b[0mself\u001b[0m\u001b[1;33m.\u001b[0m\u001b[0m_conn\u001b[0m\u001b[1;33m.\u001b[0m\u001b[0mrequest\u001b[0m\u001b[1;33m(\u001b[0m\u001b[0mmethod\u001b[0m\u001b[1;33m,\u001b[0m \u001b[0mparsed_url\u001b[0m\u001b[1;33m.\u001b[0m\u001b[0mpath\u001b[0m\u001b[1;33m,\u001b[0m \u001b[0mbody\u001b[0m\u001b[1;33m,\u001b[0m \u001b[0mheaders\u001b[0m\u001b[1;33m)\u001b[0m\u001b[1;33m\u001b[0m\u001b[0m\n\u001b[1;32m--> 490\u001b[1;33m                 \u001b[0mresp\u001b[0m \u001b[1;33m=\u001b[0m \u001b[0mself\u001b[0m\u001b[1;33m.\u001b[0m\u001b[0m_conn\u001b[0m\u001b[1;33m.\u001b[0m\u001b[0mgetresponse\u001b[0m\u001b[1;33m(\u001b[0m\u001b[1;33m)\u001b[0m\u001b[1;33m\u001b[0m\u001b[0m\n\u001b[0m\u001b[0;32m    491\u001b[0m             \u001b[1;32mexcept\u001b[0m \u001b[1;33m(\u001b[0m\u001b[0mhttplib\u001b[0m\u001b[1;33m.\u001b[0m\u001b[0mHTTPException\u001b[0m\u001b[1;33m,\u001b[0m \u001b[0msocket\u001b[0m\u001b[1;33m.\u001b[0m\u001b[0merror\u001b[0m\u001b[1;33m)\u001b[0m\u001b[1;33m:\u001b[0m\u001b[1;33m\u001b[0m\u001b[0m\n\u001b[0;32m    492\u001b[0m                 \u001b[0mself\u001b[0m\u001b[1;33m.\u001b[0m\u001b[0m_conn\u001b[0m\u001b[1;33m.\u001b[0m\u001b[0mclose\u001b[0m\u001b[1;33m(\u001b[0m\u001b[1;33m)\u001b[0m\u001b[1;33m\u001b[0m\u001b[0m\n",
      "\u001b[1;32m~\\Anaconda3\\lib\\http\\client.py\u001b[0m in \u001b[0;36mgetresponse\u001b[1;34m(self)\u001b[0m\n\u001b[0;32m   1329\u001b[0m         \u001b[1;32mtry\u001b[0m\u001b[1;33m:\u001b[0m\u001b[1;33m\u001b[0m\u001b[0m\n\u001b[0;32m   1330\u001b[0m             \u001b[1;32mtry\u001b[0m\u001b[1;33m:\u001b[0m\u001b[1;33m\u001b[0m\u001b[0m\n\u001b[1;32m-> 1331\u001b[1;33m                 \u001b[0mresponse\u001b[0m\u001b[1;33m.\u001b[0m\u001b[0mbegin\u001b[0m\u001b[1;33m(\u001b[0m\u001b[1;33m)\u001b[0m\u001b[1;33m\u001b[0m\u001b[0m\n\u001b[0m\u001b[0;32m   1332\u001b[0m             \u001b[1;32mexcept\u001b[0m \u001b[0mConnectionError\u001b[0m\u001b[1;33m:\u001b[0m\u001b[1;33m\u001b[0m\u001b[0m\n\u001b[0;32m   1333\u001b[0m                 \u001b[0mself\u001b[0m\u001b[1;33m.\u001b[0m\u001b[0mclose\u001b[0m\u001b[1;33m(\u001b[0m\u001b[1;33m)\u001b[0m\u001b[1;33m\u001b[0m\u001b[0m\n",
      "\u001b[1;32m~\\Anaconda3\\lib\\http\\client.py\u001b[0m in \u001b[0;36mbegin\u001b[1;34m(self)\u001b[0m\n\u001b[0;32m    295\u001b[0m         \u001b[1;31m# read until we get a non-100 response\u001b[0m\u001b[1;33m\u001b[0m\u001b[1;33m\u001b[0m\u001b[0m\n\u001b[0;32m    296\u001b[0m         \u001b[1;32mwhile\u001b[0m \u001b[1;32mTrue\u001b[0m\u001b[1;33m:\u001b[0m\u001b[1;33m\u001b[0m\u001b[0m\n\u001b[1;32m--> 297\u001b[1;33m             \u001b[0mversion\u001b[0m\u001b[1;33m,\u001b[0m \u001b[0mstatus\u001b[0m\u001b[1;33m,\u001b[0m \u001b[0mreason\u001b[0m \u001b[1;33m=\u001b[0m \u001b[0mself\u001b[0m\u001b[1;33m.\u001b[0m\u001b[0m_read_status\u001b[0m\u001b[1;33m(\u001b[0m\u001b[1;33m)\u001b[0m\u001b[1;33m\u001b[0m\u001b[0m\n\u001b[0m\u001b[0;32m    298\u001b[0m             \u001b[1;32mif\u001b[0m \u001b[0mstatus\u001b[0m \u001b[1;33m!=\u001b[0m \u001b[0mCONTINUE\u001b[0m\u001b[1;33m:\u001b[0m\u001b[1;33m\u001b[0m\u001b[0m\n\u001b[0;32m    299\u001b[0m                 \u001b[1;32mbreak\u001b[0m\u001b[1;33m\u001b[0m\u001b[0m\n",
      "\u001b[1;32m~\\Anaconda3\\lib\\http\\client.py\u001b[0m in \u001b[0;36m_read_status\u001b[1;34m(self)\u001b[0m\n\u001b[0;32m    256\u001b[0m \u001b[1;33m\u001b[0m\u001b[0m\n\u001b[0;32m    257\u001b[0m     \u001b[1;32mdef\u001b[0m \u001b[0m_read_status\u001b[0m\u001b[1;33m(\u001b[0m\u001b[0mself\u001b[0m\u001b[1;33m)\u001b[0m\u001b[1;33m:\u001b[0m\u001b[1;33m\u001b[0m\u001b[0m\n\u001b[1;32m--> 258\u001b[1;33m         \u001b[0mline\u001b[0m \u001b[1;33m=\u001b[0m \u001b[0mstr\u001b[0m\u001b[1;33m(\u001b[0m\u001b[0mself\u001b[0m\u001b[1;33m.\u001b[0m\u001b[0mfp\u001b[0m\u001b[1;33m.\u001b[0m\u001b[0mreadline\u001b[0m\u001b[1;33m(\u001b[0m\u001b[0m_MAXLINE\u001b[0m \u001b[1;33m+\u001b[0m \u001b[1;36m1\u001b[0m\u001b[1;33m)\u001b[0m\u001b[1;33m,\u001b[0m \u001b[1;34m\"iso-8859-1\"\u001b[0m\u001b[1;33m)\u001b[0m\u001b[1;33m\u001b[0m\u001b[0m\n\u001b[0m\u001b[0;32m    259\u001b[0m         \u001b[1;32mif\u001b[0m \u001b[0mlen\u001b[0m\u001b[1;33m(\u001b[0m\u001b[0mline\u001b[0m\u001b[1;33m)\u001b[0m \u001b[1;33m>\u001b[0m \u001b[0m_MAXLINE\u001b[0m\u001b[1;33m:\u001b[0m\u001b[1;33m\u001b[0m\u001b[0m\n\u001b[0;32m    260\u001b[0m             \u001b[1;32mraise\u001b[0m \u001b[0mLineTooLong\u001b[0m\u001b[1;33m(\u001b[0m\u001b[1;34m\"status line\"\u001b[0m\u001b[1;33m)\u001b[0m\u001b[1;33m\u001b[0m\u001b[0m\n",
      "\u001b[1;32m~\\Anaconda3\\lib\\socket.py\u001b[0m in \u001b[0;36mreadinto\u001b[1;34m(self, b)\u001b[0m\n\u001b[0;32m    584\u001b[0m         \u001b[1;32mwhile\u001b[0m \u001b[1;32mTrue\u001b[0m\u001b[1;33m:\u001b[0m\u001b[1;33m\u001b[0m\u001b[0m\n\u001b[0;32m    585\u001b[0m             \u001b[1;32mtry\u001b[0m\u001b[1;33m:\u001b[0m\u001b[1;33m\u001b[0m\u001b[0m\n\u001b[1;32m--> 586\u001b[1;33m                 \u001b[1;32mreturn\u001b[0m \u001b[0mself\u001b[0m\u001b[1;33m.\u001b[0m\u001b[0m_sock\u001b[0m\u001b[1;33m.\u001b[0m\u001b[0mrecv_into\u001b[0m\u001b[1;33m(\u001b[0m\u001b[0mb\u001b[0m\u001b[1;33m)\u001b[0m\u001b[1;33m\u001b[0m\u001b[0m\n\u001b[0m\u001b[0;32m    587\u001b[0m             \u001b[1;32mexcept\u001b[0m \u001b[0mtimeout\u001b[0m\u001b[1;33m:\u001b[0m\u001b[1;33m\u001b[0m\u001b[0m\n\u001b[0;32m    588\u001b[0m                 \u001b[0mself\u001b[0m\u001b[1;33m.\u001b[0m\u001b[0m_timeout_occurred\u001b[0m \u001b[1;33m=\u001b[0m \u001b[1;32mTrue\u001b[0m\u001b[1;33m\u001b[0m\u001b[0m\n",
      "\u001b[1;31mKeyboardInterrupt\u001b[0m: "
     ]
    }
   ],
   "source": [
    "spider(32500)"
   ]
  },
  {
   "cell_type": "code",
   "execution_count": null,
   "metadata": {
    "collapsed": true
   },
   "outputs": [],
   "source": []
  },
  {
   "cell_type": "code",
   "execution_count": null,
   "metadata": {
    "collapsed": true
   },
   "outputs": [],
   "source": []
  }
 ],
 "metadata": {
  "kernelspec": {
   "display_name": "Python 3",
   "language": "python",
   "name": "python3"
  },
  "language_info": {
   "codemirror_mode": {
    "name": "ipython",
    "version": 3
   },
   "file_extension": ".py",
   "mimetype": "text/x-python",
   "name": "python",
   "nbconvert_exporter": "python",
   "pygments_lexer": "ipython3",
   "version": "3.6.4"
  }
 },
 "nbformat": 4,
 "nbformat_minor": 2
}
