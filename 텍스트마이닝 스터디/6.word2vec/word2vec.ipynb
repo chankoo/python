{
 "cells": [
  {
   "cell_type": "code",
   "execution_count": 26,
   "metadata": {},
   "outputs": [],
   "source": [
    "##w word2vec을 쓰기 위해서 gensim을 다운받아야 한다\n",
    "## terminal에 easy_install -U gensim 혹은 pip install --upgrade gensim을 친다\n",
    "\n",
    "#설치오류시 참고\n",
    "##https://blog.naver.com/sans223/221274010123\n",
    "##https://blog.naver.com/ddonae_/221190968528\n",
    "\n",
    "from glob import glob\n",
    "from codecs import open as codecs_open\n",
    "from nltk.tokenize import PunktSentenceTokenizer\n",
    "from nltk.corpus import stopwords\n",
    "from re import sub\n",
    "import re\n",
    "from gensim.models.word2vec import Word2Vec\n",
    "from os import path, mkdir\n",
    "from multiprocessing import cpu_count\n",
    "from sklearn.manifold import TSNE\n",
    "from pandas import DataFrame\n",
    "from matplotlib import pyplot as plt"
   ]
  },
  {
   "cell_type": "code",
   "execution_count": 2,
   "metadata": {},
   "outputs": [
    {
     "data": {
      "text/plain": [
       "['books\\\\HPBook1.txt',\n",
       " 'books\\\\HPBook2.txt',\n",
       " 'books\\\\HPBook3.txt',\n",
       " 'books\\\\HPBook4.txt',\n",
       " 'books\\\\HPBook5.txt',\n",
       " 'books\\\\HPBook6.txt',\n",
       " 'books\\\\HPBook7.txt',\n",
       " 'books\\\\HPBook8.txt']"
      ]
     },
     "execution_count": 2,
     "metadata": {},
     "output_type": "execute_result"
    }
   ],
   "source": [
    "## 경로를 지정하고 파일을 읽어온다 바탕화면에 다운로드 할 경우 Users와 user를 본인 컴에 맞게 지정할 것\n",
    "\n",
    "def read_books(location):\n",
    "    if path.exists(location):\n",
    "        return sorted(glob(path.join(location, \"*.txt\")))\n",
    "    else:\n",
    "        raise NotADirectoryError(location)\n",
    "books = read_books(r'''books''')\n",
    "read_books(r'''books''')"
   ]
  },
  {
   "cell_type": "code",
   "execution_count": 3,
   "metadata": {},
   "outputs": [
    {
     "name": "stdout",
     "output_type": "stream",
     "text": [
      "Reading books\\HPBook1.txt\n",
      "Corpus is now 449988 characters long\n",
      "Reading books\\HPBook2.txt\n",
      "Corpus is now 949340 characters long\n",
      "Reading books\\HPBook3.txt\n",
      "Corpus is now 1575163 characters long\n",
      "Reading books\\HPBook4.txt\n",
      "Corpus is now 2688627 characters long\n",
      "Reading books\\HPBook5.txt\n",
      "Corpus is now 4204918 characters long\n",
      "Reading books\\HPBook6.txt\n",
      "Corpus is now 5209621 characters long\n",
      "Reading books\\HPBook7.txt\n",
      "Corpus is now 6404966 characters long\n",
      "Reading books\\HPBook8.txt\n",
      "Corpus is now 6681889 characters long\n"
     ]
    }
   ],
   "source": [
    "## corpus 생성\n",
    "def create_corpus(books):\n",
    "    raw_corpus = u''\n",
    "    for book in books:\n",
    "        print(\"Reading {0}\".format(book))\n",
    "        with codecs_open(book, 'r', 'utf-8') as book_file:\n",
    "            raw_corpus += book_file.read()\n",
    "        print(\"Corpus is now {0} characters long\".format(len(raw_corpus)))\n",
    "    return raw_corpus\n",
    "raw_corpus2 = create_corpus(books)\n",
    "\n",
    "##뒤에 불용어 처리할때 (stop_word) 소문자 감안 하여 미리 소문자로 바꿔준다 (현중 : 나중에 바꾸는 것을 추천, 대문자 필요할 때 있으니까)\n",
    "raw_corpus = raw_corpus2.lower()"
   ]
  },
  {
   "cell_type": "code",
   "execution_count": 4,
   "metadata": {},
   "outputs": [],
   "source": [
    "## 문장 단위의 token을 생성 \n",
    "def tokenize_corpus(raw_corpus):\n",
    "    tokenizer = PunktSentenceTokenizer()\n",
    "    return tokenizer.tokenize(raw_corpus)\n",
    "\n",
    "tokenize_corpus(raw_corpus)\n",
    "token = tokenize_corpus(raw_corpus)\n",
    "\n"
   ]
  },
  {
   "cell_type": "code",
   "execution_count": 5,
   "metadata": {},
   "outputs": [
    {
     "data": {
      "text/plain": [
       "['chapter', 'one', 'r', 'n', 'r', 'n', 'r', 'nthe', 'boy', 'lived']"
      ]
     },
     "execution_count": 5,
     "metadata": {},
     "output_type": "execute_result"
    }
   ],
   "source": [
    "#문장 단위의 token을 word로 쪼갠다\n",
    "def sentence_to_words_list(token):\n",
    "    stop_words = stopwords.words('english')\n",
    "    words = re.sub(\"[^a-zA-Z]\", \" \", str(token)).split()\n",
    "    return [word for word in words if word not in stop_words]\n",
    "tokens = sentence_to_words_list(token)\n",
    "sentence_to_words_list(token)[:10]"
   ]
  },
  {
   "cell_type": "code",
   "execution_count": 6,
   "metadata": {},
   "outputs": [
    {
     "name": "stdout",
     "output_type": "stream",
     "text": [
      "The corpus contains 598,608 tokens\n"
     ]
    }
   ],
   "source": [
    "## 세글자 이상의 단어만 수집하기로 한다(r, n 이런 것 때문에!) 시간이 걸린다 \n",
    "def tokens_to_words(tokens):\n",
    "    words = [sentence_to_words_list(token) for token in tokens if len(token) > 2]\n",
    "    print(\"The corpus contains {0:,} tokens\".format(sum([len(word) for word in words])))\n",
    "    return words\n",
    "\n",
    "words = tokens_to_words(tokens)"
   ]
  },
  {
   "cell_type": "code",
   "execution_count": 32,
   "metadata": {},
   "outputs": [],
   "source": [
    "## workers = multiprocessing.cpu_count(), \n",
    "##min_count = 50 등등장횟수 50이하인 단어는 제외, \n",
    "##size=100 100개의 차원으로 embedding\n",
    "## sg=0 이면 CBOW sg=1이면 skip.gram  (sg=skip.gram)\n",
    "\n",
    "def we_build_vocab(words, num_features, min_word_count, num_workers, context_size):\n",
    "    word2vec = Word2Vec(sg=1, size=num_features,   min_count=min_word_count, workers=num_workers,\n",
    "                        window=context_size)\n",
    "    print(\"Building Vocabulary\")\n",
    "    word2vec.build_vocab(words)\n",
    "    return word2vec"
   ]
  },
  {
   "cell_type": "code",
   "execution_count": 33,
   "metadata": {},
   "outputs": [
    {
     "name": "stdout",
     "output_type": "stream",
     "text": [
      "Building Vocabulary\n"
     ]
    }
   ],
   "source": [
    "num_core = cpu_count() #cpu코어수\n",
    "model = we_build_vocab(words,100,10,num_core,10)\n",
    "\n",
    "##모델을 저장하고 불러와서 다시 training시킬 수 있다\n",
    "model.save(r'''model.w2v''')"
   ]
  },
  {
   "cell_type": "code",
   "execution_count": 34,
   "metadata": {},
   "outputs": [],
   "source": [
    "model = Word2Vec.load(r'''model.w2v''')"
   ]
  },
  {
   "cell_type": "code",
   "execution_count": 35,
   "metadata": {},
   "outputs": [
    {
     "data": {
      "text/plain": [
       "array([-3.8269784e-03, -4.2447266e-03,  1.2146755e-03,  4.8904167e-03,\n",
       "       -4.2943354e-03,  4.1775098e-03,  1.3317904e-03,  3.6220807e-03,\n",
       "       -3.1647910e-03,  2.4758272e-03, -7.6457032e-04,  2.5229319e-03,\n",
       "       -3.2154997e-03,  3.3201820e-03,  4.2926517e-04,  4.6483167e-03,\n",
       "       -1.6485803e-03, -3.7357928e-03, -4.9854093e-03,  3.5624406e-03,\n",
       "       -3.2670645e-03,  3.5705063e-03, -3.2203796e-03, -2.4692717e-03,\n",
       "        2.5174180e-03, -4.7771023e-03,  1.4445025e-03, -4.9913730e-03,\n",
       "        3.4583197e-03,  1.8944334e-03,  9.4780326e-04, -1.1078820e-03,\n",
       "        4.7583017e-03, -1.5001372e-03,  6.4859254e-05, -1.0841993e-03,\n",
       "       -1.1292922e-03, -2.2622776e-04,  2.7669119e-03, -5.3064636e-04,\n",
       "        2.3072229e-03,  4.5138202e-03, -3.1283458e-03,  2.7498386e-03,\n",
       "       -1.5055855e-03,  1.4567362e-03, -1.7339169e-03, -3.0715507e-03,\n",
       "        2.3156058e-03, -2.2996222e-03,  1.7018850e-03, -2.6322942e-04,\n",
       "        2.3116946e-04,  1.0518220e-03,  1.2749835e-03, -8.4810407e-04,\n",
       "        3.7128013e-03,  2.2804119e-04,  3.8837006e-03,  1.9752143e-03,\n",
       "       -2.1782977e-04,  2.9792287e-03, -4.9955416e-03, -1.5686043e-03,\n",
       "       -8.6293898e-05,  3.8841481e-03, -3.1497288e-03, -3.1125179e-04,\n",
       "        2.2936501e-03,  8.7437534e-04,  4.4795605e-03,  2.7085125e-04,\n",
       "        4.5198720e-04,  4.5016862e-04, -3.6606479e-03, -2.4105296e-03,\n",
       "        1.0160661e-03, -2.2324924e-03, -1.5164684e-03,  4.3941429e-03,\n",
       "        3.0998714e-04,  6.3434790e-04,  3.6690398e-03, -3.4910454e-03,\n",
       "        2.2553187e-03, -4.6059038e-03,  1.0030178e-03,  3.3718173e-03,\n",
       "        2.6526938e-03, -4.2254701e-03,  3.7087703e-03,  4.1516093e-03,\n",
       "        4.2203991e-03, -3.9752023e-03, -1.2572189e-03,  9.4981981e-04,\n",
       "        3.8939759e-03, -1.6239341e-03, -5.8208348e-04,  8.4771187e-04],\n",
       "      dtype=float32)"
      ]
     },
     "execution_count": 35,
     "metadata": {},
     "output_type": "execute_result"
    }
   ],
   "source": [
    "#'볼드모트' 를 임베딩한 벡터\n",
    "model.wv['voldemort']"
   ]
  },
  {
   "cell_type": "code",
   "execution_count": 24,
   "metadata": {},
   "outputs": [],
   "source": [
    "## word_vector와 내장함수로 여러가지를 구해볼 수 있다\n",
    "def word_correlation(word_vector, a, b, c):\n",
    "    return word_vector.most_similar_cosmul(positive=[a, c], negative=[b])[0][0]\n",
    "\n",
    "\n",
    "def word_find_most_similar(word_vector, word):\n",
    "    return word_vector.most_similar(word)[0][0]\n",
    "\n",
    "\n",
    "def word_odd_one(word_vector, phrase):\n",
    "    return word_vector.doesnt_match(phrase.split())\n",
    "\n",
    "def similarity(word_vector,a,b):\n",
    "    return word_vector.similarity(a,b)\n",
    "\n"
   ]
  },
  {
   "cell_type": "code",
   "execution_count": 31,
   "metadata": {},
   "outputs": [
    {
     "name": "stdout",
     "output_type": "stream",
     "text": [
      "flickered\n",
      "calmly\n",
      "stranger\n",
      "-0.07626212479083816\n"
     ]
    }
   ],
   "source": [
    "## 현재 학습이 제대로 안됨\n",
    "print(word_correlation(model.wv, 'harry', 'voldemort', 'ron'))\n",
    "print(word_find_most_similar(model.wv, 'ron'))\n",
    "print(word_odd_one(model.wv,'He had been hugged by a complete stranger'))\n",
    "print(similarity(model.wv,'harry','ron'))"
   ]
  },
  {
   "cell_type": "code",
   "execution_count": null,
   "metadata": {
    "collapsed": true
   },
   "outputs": [],
   "source": []
  }
 ],
 "metadata": {
  "kernelspec": {
   "display_name": "Python 3",
   "language": "python",
   "name": "python3"
  },
  "language_info": {
   "codemirror_mode": {
    "name": "ipython",
    "version": 3
   },
   "file_extension": ".py",
   "mimetype": "text/x-python",
   "name": "python",
   "nbconvert_exporter": "python",
   "pygments_lexer": "ipython3",
   "version": "3.6.4"
  }
 },
 "nbformat": 4,
 "nbformat_minor": 2
}
