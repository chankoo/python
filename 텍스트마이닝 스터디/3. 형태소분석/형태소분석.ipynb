{
 "cells": [
  {
   "cell_type": "code",
   "execution_count": 1,
   "metadata": {},
   "outputs": [],
   "source": [
    "from collections import Counter #count 위함\n",
    "from konlpy.tag import Twitter #형태소분석 위함\n",
    "import pandas as pd\n",
    "import numpy as np\n",
    "import pytagcloud"
   ]
  },
  {
   "cell_type": "code",
   "execution_count": 2,
   "metadata": {},
   "outputs": [],
   "source": [
    "f = open('kyungHeeBamboo.csv',encoding='utf-8')\n",
    "#f2 = pd.read_csv('kyungHeeBamboo.csv') DataFrame으로 읽음"
   ]
  },
  {
   "cell_type": "code",
   "execution_count": 3,
   "metadata": {},
   "outputs": [],
   "source": [
    "data = f.read()"
   ]
  },
  {
   "cell_type": "code",
   "execution_count": 4,
   "metadata": {},
   "outputs": [
    {
     "data": {
      "text/plain": [
       "'\\ufeff지운 줄 알았어 너의 기억들을... 노랫말 하나에 너가 보고싶어 너의 위로가 너와의 통화가 너와의 연애가..... 우린 서로 안맞는다고 우린 서로 아닌거 같다고 우린 서로 좋아했지만 이제 그만 하자며... 바쁜 나날이었어 너가 생각나지 않을만큼 근데 바빠서 그랬을까  핸드폰에 여전히 너가 있어 너의 마지막 메세지를 봤어 무슨 심정이었을까..... 난 무슨 미련때문에 이럴까 모진 말로 헤어지자 했는데 너의 마지막 말처럼 너는 잘 지내고 있니? 나는 잘 지내고 있니?                                                         \\n코디가 매일매일 코디해주고 머리해주고 화장해주면 좋겠다 아침마다 너무 귀찮아                                                        \\n새벽 감성에 젖어 다시 이렇게 한 줌의 글을 남겨본다. 나를 여자로 보지 않는 너. 그런 너를 좋아하는 것 같은 나. 홧김에 마음을 말해버리면 혹시나 부담스러워할까봐 털어놓지도 못하고 나는 오늘도 끙끙 대며 마음을 깨지 못하고 있다. 지금의 상태가 좋지는 않지만 너와의 관계가 아예 끊어지는 것도 싫다. 고백하고 싶은 마음은 몇 번 들었지만 가볍게 행동했다가는 너를 잃을 것 같다. 몇 번이고 티를 냈지만 너는 내가 너를 좋아한다고 생각조차 하지 않는다. 나는 너를 좋아해. 좋아한다고 말하고 싶다. 이미 메모장에는 너한테 털어놓을 것들이 빽빽히 쌓여있다. 아무 말도 안하고 마음이 통할 수만 있다면 얼마나 좋을지 생각을 해본다. 그리고 너가 내 마음을 알아봐주길. 나를 그저 동생이라고만 보지 말아주길. 나도 이런 오글거리는 글을 남길만큼 감성적이고 소녀 같은 마음을 가진 여자라는 것을 알아주길.                                                        \\n안녕하세요 국캠설캠 둘 다 수업듣는 회기거주생입니다 ㅎㅎ 제가 설국버스에 대해서 바뀌었으면하는 부분이 있는데요 학우분들 얘기도 들어보고 어'"
      ]
     },
     "execution_count": 4,
     "metadata": {},
     "output_type": "execute_result"
    }
   ],
   "source": [
    "data[0:1000]"
   ]
  },
  {
   "cell_type": "code",
   "execution_count": 5,
   "metadata": {},
   "outputs": [],
   "source": [
    "nlp = Twitter() "
   ]
  },
  {
   "cell_type": "code",
   "execution_count": 6,
   "metadata": {},
   "outputs": [
    {
     "data": {
      "text/plain": [
       "konlpy.tag._twitter.Twitter"
      ]
     },
     "execution_count": 6,
     "metadata": {},
     "output_type": "execute_result"
    }
   ],
   "source": [
    "type(nlp)"
   ]
  },
  {
   "cell_type": "code",
   "execution_count": 7,
   "metadata": {},
   "outputs": [],
   "source": [
    "nouns = nlp.nouns(data)"
   ]
  },
  {
   "cell_type": "code",
   "execution_count": 8,
   "metadata": {},
   "outputs": [
    {
     "data": {
      "text/plain": [
       "[('\\ufeff', 'Foreign'),\n",
       " ('지운', 'Verb'),\n",
       " ('줄', 'Noun'),\n",
       " ('알', 'Verb'),\n",
       " ('았', 'PreEomi'),\n",
       " ('어', 'Eomi'),\n",
       " ('너', 'Noun'),\n",
       " ('의', 'Josa'),\n",
       " ('기억', 'Noun'),\n",
       " ('들', 'Suffix')]"
      ]
     },
     "execution_count": 8,
     "metadata": {},
     "output_type": "execute_result"
    }
   ],
   "source": [
    "nlp.pos(data)[0:10]"
   ]
  },
  {
   "cell_type": "code",
   "execution_count": 13,
   "metadata": {},
   "outputs": [
    {
     "data": {
      "text/plain": [
       "['줄', '너', '기억', '노랫말', '하나', '너', '너', '위로', '너', '통화']"
      ]
     },
     "execution_count": 13,
     "metadata": {},
     "output_type": "execute_result"
    }
   ],
   "source": [
    "nouns[0:10]"
   ]
  },
  {
   "cell_type": "code",
   "execution_count": 9,
   "metadata": {},
   "outputs": [],
   "source": [
    "count = Counter(nouns)"
   ]
  },
  {
   "cell_type": "code",
   "execution_count": 14,
   "metadata": {},
   "outputs": [
    {
     "data": {
      "text/plain": [
       "[('너', 9179),\n",
       " ('것', 7539),\n",
       " ('내', 7532),\n",
       " ('사람', 7481),\n",
       " ('나', 7189),\n",
       " ('그', 6999),\n",
       " ('저', 6964),\n",
       " ('제', 5973),\n",
       " ('너무', 5270),\n",
       " ('때', 5019),\n",
       " ('친구', 4410),\n",
       " ('말', 4283),\n",
       " ('수', 3718),\n",
       " ('생각', 3482),\n",
       " ('더', 3355)]"
      ]
     },
     "execution_count": 14,
     "metadata": {},
     "output_type": "execute_result"
    }
   ],
   "source": [
    "tags2 = count.most_common(15);tags2"
   ]
  },
  {
   "cell_type": "code",
   "execution_count": 15,
   "metadata": {},
   "outputs": [
    {
     "data": {
      "text/plain": [
       "[{'color': (74, 180, 70), 'size': 430, 'tag': '너'},\n",
       " {'color': (117, 11, 153), 'size': 368, 'tag': '것'},\n",
       " {'color': (157, 200, 87), 'size': 367, 'tag': '내'},\n",
       " {'color': (100, 167, 54), 'size': 365, 'tag': '사람'},\n",
       " {'color': (86, 119, 42), 'size': 354, 'tag': '나'},\n",
       " {'color': (47, 92, 55), 'size': 347, 'tag': '그'},\n",
       " {'color': (174, 81, 132), 'size': 345, 'tag': '저'},\n",
       " {'color': (186, 171, 143), 'size': 306, 'tag': '제'},\n",
       " {'color': (118, 55, 145), 'size': 277, 'tag': '너무'},\n",
       " {'color': (219, 167, 110), 'size': 266, 'tag': '때'}]"
      ]
     },
     "execution_count": 15,
     "metadata": {},
     "output_type": "execute_result"
    }
   ],
   "source": [
    "taglist = pytagcloud.make_tags(tags2, maxsize=300)\n",
    "taglist[:10]"
   ]
  },
  {
   "cell_type": "code",
   "execution_count": 17,
   "metadata": {},
   "outputs": [],
   "source": [
    "pytagcloud.create_tag_image(taglist, 'wordcloud1.png', size=(900, 600), fontname='Noto Sans CJK', rectangular=True)"
   ]
  },
  {
   "cell_type": "code",
   "execution_count": 33,
   "metadata": {
    "collapsed": true
   },
   "outputs": [],
   "source": [
    "f.close()"
   ]
  },
  {
   "cell_type": "code",
   "execution_count": null,
   "metadata": {
    "collapsed": true
   },
   "outputs": [],
   "source": []
  }
 ],
 "metadata": {
  "kernelspec": {
   "display_name": "Python 3",
   "language": "python",
   "name": "python3"
  },
  "language_info": {
   "codemirror_mode": {
    "name": "ipython",
    "version": 3
   },
   "file_extension": ".py",
   "mimetype": "text/x-python",
   "name": "python",
   "nbconvert_exporter": "python",
   "pygments_lexer": "ipython3",
   "version": "3.6.4"
  }
 },
 "nbformat": 4,
 "nbformat_minor": 2
}
