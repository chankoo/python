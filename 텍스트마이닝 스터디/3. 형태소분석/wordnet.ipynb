{
 "cells": [
  {
   "cell_type": "code",
   "execution_count": 2,
   "metadata": {},
   "outputs": [],
   "source": [
    "# pip install nltk를 통해 설치\n",
    "from nltk.corpus import wordnet"
   ]
  },
  {
   "cell_type": "code",
   "execution_count": 3,
   "metadata": {
    "scrolled": true
   },
   "outputs": [],
   "source": [
    "import nltk\n",
    "#nltk.download('wordnet')"
   ]
  },
  {
   "cell_type": "code",
   "execution_count": 15,
   "metadata": {},
   "outputs": [],
   "source": [
    "# 단어와 관련된 synset 찾기\n",
    "synsets = wordnet.synsets(\"tag\")"
   ]
  },
  {
   "cell_type": "code",
   "execution_count": 16,
   "metadata": {},
   "outputs": [
    {
     "data": {
      "text/plain": [
       "[Synset('tag.n.01'),\n",
       " Synset('tag.n.02'),\n",
       " Synset('rag.n.01'),\n",
       " Synset('tag.n.04'),\n",
       " Synset('tag.n.05'),\n",
       " Synset('tag.v.01'),\n",
       " Synset('tag.v.02'),\n",
       " Synset('tag.v.03'),\n",
       " Synset('chase.v.01'),\n",
       " Synset('tag.v.05')]"
      ]
     },
     "execution_count": 16,
     "metadata": {},
     "output_type": "execute_result"
    }
   ],
   "source": [
    "# tag 관련된 의미들 나열\n",
    "synsets"
   ]
  },
  {
   "cell_type": "code",
   "execution_count": 17,
   "metadata": {},
   "outputs": [
    {
     "name": "stdout",
     "output_type": "stream",
     "text": [
      "tag.n.01\n"
     ]
    }
   ],
   "source": [
    "print(synsets[0].name())"
   ]
  },
  {
   "cell_type": "code",
   "execution_count": 18,
   "metadata": {},
   "outputs": [
    {
     "name": "stdout",
     "output_type": "stream",
     "text": [
      "tag\n"
     ]
    }
   ],
   "source": [
    "# 단어표시\n",
    "print(synsets[0].lemmas()[0].name())"
   ]
  },
  {
   "cell_type": "code",
   "execution_count": 23,
   "metadata": {},
   "outputs": [
    {
     "name": "stdout",
     "output_type": "stream",
     "text": [
      "a label associated with something for the purpose of identification\n"
     ]
    }
   ],
   "source": [
    "# 단어의 정의\n",
    "print(synsets[1].definition())"
   ]
  },
  {
   "cell_type": "code",
   "execution_count": 22,
   "metadata": {},
   "outputs": [
    {
     "name": "stdout",
     "output_type": "stream",
     "text": [
      "['semantic tags were attached in order to identify different meanings of the word']\n"
     ]
    }
   ],
   "source": [
    "# 단어의 예문\n",
    "print(synsets[1].examples())"
   ]
  },
  {
   "cell_type": "code",
   "execution_count": 9,
   "metadata": {},
   "outputs": [],
   "source": [
    "# 동의어, 반의어 뽑는 함수\n",
    "synonyms = []\n",
    "antonyms = []\n",
    " \n",
    "for syn in wordnet.synsets(\"good\"):\n",
    "    for l in syn.lemmas():\n",
    "        synonyms.append(l.name())\n",
    "        if l.antonyms():\n",
    "            antonyms.append(l.antonyms()[0].name())"
   ]
  },
  {
   "cell_type": "code",
   "execution_count": 10,
   "metadata": {
    "scrolled": true
   },
   "outputs": [
    {
     "name": "stdout",
     "output_type": "stream",
     "text": [
      "{'unspoiled', 'dear', 'well', 'salutary', 'skilful', 'right', 'skillful', 'trade_good', 'unspoilt', 'serious', 'full', 'effective', 'ripe', 'adept', 'proficient', 'soundly', 'thoroughly', 'good', 'secure', 'just', 'honorable', 'in_effect', 'commodity', 'estimable', 'sound', 'safe', 'in_force', 'upright', 'respectable', 'beneficial', 'near', 'goodness', 'undecomposed', 'practiced', 'dependable', 'expert', 'honest'}\n"
     ]
    }
   ],
   "source": [
    "# 동의어\n",
    "print(set(synonyms))"
   ]
  },
  {
   "cell_type": "code",
   "execution_count": 11,
   "metadata": {},
   "outputs": [
    {
     "name": "stdout",
     "output_type": "stream",
     "text": [
      "{'evil', 'ill', 'bad', 'badness', 'evilness'}\n"
     ]
    }
   ],
   "source": [
    "# 반의어\n",
    "print(set(antonyms))"
   ]
  },
  {
   "cell_type": "code",
   "execution_count": 12,
   "metadata": {},
   "outputs": [
    {
     "name": "stdout",
     "output_type": "stream",
     "text": [
      "0.9090909090909091\n"
     ]
    }
   ],
   "source": [
    "# 유사도 측정\n",
    "w1 = wordnet.synset('ship.n.01')\n",
    "w2 = wordnet.synset('boat.n.01')\n",
    "print(w1.wup_similarity(w2))"
   ]
  },
  {
   "cell_type": "code",
   "execution_count": 13,
   "metadata": {},
   "outputs": [
    {
     "name": "stdout",
     "output_type": "stream",
     "text": [
      "0.8333333333333334\n"
     ]
    }
   ],
   "source": [
    "w3 = wordnet.synset('university.n.01')\n",
    "w4 = wordnet.synset('college.n.01')\n",
    "print(w4.wup_similarity(w3))"
   ]
  },
  {
   "cell_type": "code",
   "execution_count": 14,
   "metadata": {},
   "outputs": [
    {
     "name": "stdout",
     "output_type": "stream",
     "text": [
      "0.13333333333333333\n"
     ]
    }
   ],
   "source": [
    "w1 = wordnet.synset('ship.v.01')\n",
    "w2 = wordnet.synset('boat.n.01')\n",
    "print(w1.wup_similarity(w2))"
   ]
  },
  {
   "cell_type": "code",
   "execution_count": null,
   "metadata": {},
   "outputs": [],
   "source": []
  }
 ],
 "metadata": {
  "kernelspec": {
   "display_name": "Python 3",
   "language": "python",
   "name": "python3"
  },
  "language_info": {
   "codemirror_mode": {
    "name": "ipython",
    "version": 3
   },
   "file_extension": ".py",
   "mimetype": "text/x-python",
   "name": "python",
   "nbconvert_exporter": "python",
   "pygments_lexer": "ipython3",
   "version": "3.6.4"
  }
 },
 "nbformat": 4,
 "nbformat_minor": 2
}
