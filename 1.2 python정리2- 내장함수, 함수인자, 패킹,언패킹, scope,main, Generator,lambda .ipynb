{
 "cells": [
  {
   "cell_type": "markdown",
   "metadata": {},
   "source": [
    "- 내장 함수\n",
    "- 가변인자, 키워드인자/ 패킹, 언패킹 정리\n",
    "- scope\n",
    "- main\n",
    "- Generator, lambda\n",
    "- Exception handling\n"
   ]
  },
  {
   "cell_type": "markdown",
   "metadata": {},
   "source": [
    "### 내장함수"
   ]
  },
  {
   "cell_type": "code",
   "execution_count": 50,
   "metadata": {},
   "outputs": [
    {
     "data": {
      "text/plain": [
       "['abs',\n",
       " 'all',\n",
       " 'any',\n",
       " 'ascii',\n",
       " 'bin',\n",
       " 'bool',\n",
       " 'bytearray',\n",
       " 'bytes',\n",
       " 'callable',\n",
       " 'chr',\n",
       " 'classmethod',\n",
       " 'compile',\n",
       " 'complex',\n",
       " 'copyright',\n",
       " 'credits',\n",
       " 'delattr',\n",
       " 'dict',\n",
       " 'dir',\n",
       " 'display',\n",
       " 'divmod',\n",
       " 'enumerate',\n",
       " 'eval',\n",
       " 'exec',\n",
       " 'filter',\n",
       " 'float',\n",
       " 'format',\n",
       " 'frozenset',\n",
       " 'get_ipython',\n",
       " 'getattr',\n",
       " 'globals',\n",
       " 'hasattr',\n",
       " 'hash',\n",
       " 'help',\n",
       " 'hex',\n",
       " 'id',\n",
       " 'input',\n",
       " 'int',\n",
       " 'isinstance',\n",
       " 'issubclass',\n",
       " 'iter',\n",
       " 'len',\n",
       " 'license',\n",
       " 'list',\n",
       " 'locals',\n",
       " 'map',\n",
       " 'max',\n",
       " 'memoryview',\n",
       " 'min',\n",
       " 'next',\n",
       " 'object',\n",
       " 'oct',\n",
       " 'open',\n",
       " 'ord',\n",
       " 'pow',\n",
       " 'print',\n",
       " 'property',\n",
       " 'range',\n",
       " 'repr',\n",
       " 'reversed',\n",
       " 'round',\n",
       " 'set',\n",
       " 'setattr',\n",
       " 'slice',\n",
       " 'sorted',\n",
       " 'staticmethod',\n",
       " 'str',\n",
       " 'sum',\n",
       " 'super',\n",
       " 'tuple',\n",
       " 'type',\n",
       " 'vars',\n",
       " 'zip']"
      ]
     },
     "execution_count": 50,
     "metadata": {},
     "output_type": "execute_result"
    }
   ],
   "source": [
    "dir(__builtins__)[-72:]"
   ]
  },
  {
   "cell_type": "code",
   "execution_count": 51,
   "metadata": {},
   "outputs": [],
   "source": [
    "#iterable : str, list, tuple, set, dict (__iter__ 메소드를 갖는 객체들)"
   ]
  },
  {
   "cell_type": "code",
   "execution_count": 52,
   "metadata": {},
   "outputs": [
    {
     "name": "stdout",
     "output_type": "stream",
     "text": [
      "[(0, 'red'), (1, 'yellow'), (2, 'blue')]\n",
      "(0, 'red')\n",
      "(1, 'yellow')\n",
      "(2, 'blue')\n"
     ]
    }
   ],
   "source": [
    "L = ['red', 'yellow', 'blue']\n",
    "E = enumerate(L)  #yields pairs containing a count and a value \n",
    "EL = list(E)\n",
    "print(EL)\n",
    "\n",
    "for i in enumerate(L):\n",
    "    print(i)\n"
   ]
  },
  {
   "cell_type": "code",
   "execution_count": 57,
   "metadata": {},
   "outputs": [
    {
     "name": "stdout",
     "output_type": "stream",
     "text": [
      "True True True\n"
     ]
    }
   ],
   "source": [
    "print(isinstance(1, int),\n",
    "    isinstance(3.5, float),\n",
    "    isinstance([1], list))"
   ]
  },
  {
   "cell_type": "code",
   "execution_count": 58,
   "metadata": {},
   "outputs": [
    {
     "data": {
      "text/plain": [
       "[(1, 8, 10), (3, 9, 20), (5, 7, 30)]"
      ]
     },
     "execution_count": 58,
     "metadata": {},
     "output_type": "execute_result"
    }
   ],
   "source": [
    "list(zip([1,3,5],[2,4,6]))\n",
    "#[(1, 2), (3, 4), (5, 6)]\n",
    "\n",
    "list(zip([1,2,3], \"abc\"))\n",
    "#[(1, 'a'), (2, 'b'), (3, 'c')]\n",
    "\n",
    "list(zip([1,3,5],{7,8,9}, (10,20,30)))\n",
    "#[(1, 8, 10), (3, 9, 20), (5, 7, 30)]\n"
   ]
  },
  {
   "cell_type": "code",
   "execution_count": 74,
   "metadata": {},
   "outputs": [
    {
     "name": "stdout",
     "output_type": "stream",
     "text": [
      "[5, 4, 3, 2, 1]\n"
     ]
    }
   ],
   "source": [
    "num = [2,3,1,5,4]\n",
    "print(sorted(num,reverse=True))"
   ]
  },
  {
   "cell_type": "code",
   "execution_count": 75,
   "metadata": {},
   "outputs": [
    {
     "data": {
      "text/plain": [
       "['yellow', 'green', 'blue', 'red']"
      ]
     },
     "execution_count": 75,
     "metadata": {},
     "output_type": "execute_result"
    }
   ],
   "source": [
    "colors = ['red', 'green', 'blue', 'yellow']\n",
    "len_sorted_colors = sorted(colors,key=len,reverse=True)\n",
    "len_sorted_colors"
   ]
  },
  {
   "cell_type": "markdown",
   "metadata": {},
   "source": [
    "### 인수(기본값, args, kwargs)"
   ]
  },
  {
   "cell_type": "code",
   "execution_count": 76,
   "metadata": {},
   "outputs": [
    {
     "name": "stdout",
     "output_type": "stream",
     "text": [
      "반지름: 3 면적: 28.26\n",
      "반지름: 3 면적: 28.26\n",
      "반지름: 3 면적: 28.26\n",
      "반지름: 3 면적: 28.26\n"
     ]
    }
   ],
   "source": [
    "def circle_area(radius, pi):\n",
    "    area = pi * (radius ** 2)\n",
    "    return area\n",
    "\n",
    "if __name__ == '__main__':\n",
    "    print('반지름:', 3, '면적:', circle_area(3, 3.14))\n",
    "    print('반지름:', 3, '면적:', circle_area(3, pi=3.14)) #keyword argument\n",
    "    print('반지름:', 3, '면적:', circle_area(radius=3, pi = 3.14))\n",
    "    print('반지름:', 3, '면적:', circle_area(pi = 3.14, radius=3)) #reversing position OK"
   ]
  },
  {
   "cell_type": "code",
   "execution_count": 78,
   "metadata": {},
   "outputs": [
    {
     "name": "stdout",
     "output_type": "stream",
     "text": [
      "local variable {'rads': (3, 4, 5), 'pi': 3.141592653589793}\n",
      "[28.274333882308138, 50.26548245743669, 78.53981633974483]\n",
      "\n",
      "local variable {'rads': (6, 7), 'pi': 3.141592653589793}\n",
      "[113.09733552923255, 153.93804002589985]\n"
     ]
    }
   ],
   "source": [
    "import math\n",
    "def circle_area(pi,*rads): #variable parameter\n",
    "    print('local variable',locals())\n",
    "    areas=[]\n",
    "    for rad in rads:\n",
    "        area = pi*rad**2\n",
    "        areas.append(area)\n",
    "    return areas\n",
    "\n",
    "if __name__=='__main__':\n",
    "    print(circle_area(math.pi,3,4,5))\n",
    "    print('')\n",
    "    print(circle_area(math.pi,6,7))"
   ]
  },
  {
   "cell_type": "code",
   "execution_count": 79,
   "metadata": {},
   "outputs": [
    {
     "name": "stdout",
     "output_type": "stream",
     "text": [
      "[28.26, 50.24, 78.5]\n",
      "[113.04, 153.86]\n"
     ]
    }
   ],
   "source": [
    "def circle_area(pi, radiuses):# circle_not_variable_parameter\n",
    "    areas = []\n",
    "\n",
    "    for radius in radiuses:\n",
    "        area = pi * (radius ** 2)\n",
    "        areas.append(area)\n",
    "    return areas\n",
    "if __name__ == '__main__':\n",
    "    print(circle_area(3.14, (3, 4, 5) ))\n",
    "    print(circle_area(3.14, (6, 7) ))"
   ]
  },
  {
   "cell_type": "code",
   "execution_count": 94,
   "metadata": {},
   "outputs": [
    {
     "name": "stdout",
     "output_type": "stream",
     "text": [
      "area:  28.26\n",
      "area:  28.27\n",
      "line_color : 파랑\n",
      "area_color : 노랑\n",
      "\n",
      "area:  78.5\n",
      "area:  78.54\n",
      "polygon_name : 원\n",
      "value : 면적\n"
     ]
    }
   ],
   "source": [
    "#가변 인수 리스트는 튜플로 처리된다.\n",
    "#정의되지 않은 키워드 인수는 사전으로 처리된다.\n",
    "def circle_area(rad,*pis:float,**info:str):\n",
    "    for pi in pis:\n",
    "        area = pi*rad**2\n",
    "        print('area: ',round(area,2))\n",
    "    for key in info:\n",
    "        print(key,':',info[key])\n",
    "              \n",
    "circle_area(3, 3.14, 3.1415, line_color='파랑', area_color = '노랑')\n",
    "print()\n",
    "circle_area(5, 3.14, 3.1415, polygon_name='원', value = '면적')"
   ]
  },
  {
   "cell_type": "code",
   "execution_count": 92,
   "metadata": {},
   "outputs": [
    {
     "name": "stdout",
     "output_type": "stream",
     "text": [
      "local var:  {'kargs': {'k': 1, 'i': 2}, 'args': (3, 4, 5), 'y': 2, 'x': 1}\n",
      "18\n",
      "local var:  {'kargs': {'k': 1, 'i': 2}, 'args': (3, 4, 5), 'y': 2, 'x': 1}\n",
      "18\n",
      "local var:  {'kargs': {}, 'args': (), 'y': 2, 'x': 1}\n",
      "3\n"
     ]
    }
   ],
   "source": [
    "def add5(x,y,*args,**kargs)->int:\n",
    "    print('local var: ',locals())\n",
    "    Sum=sumj=0\n",
    "    \n",
    "    Sum=x+y\n",
    "    for i in args:\n",
    "        Sum+=i\n",
    "    for k,j in kargs.items():\n",
    "        sumj += j\n",
    "    return Sum+sumj\n",
    "\n",
    "print(add5(1,2,*(3,4,5),**dict(k=1,i=2)))\n",
    "print(add5(1,2,3,4,5, k=1, i=2))\n",
    "print(add5(1,2))"
   ]
  },
  {
   "cell_type": "code",
   "execution_count": 97,
   "metadata": {},
   "outputs": [
    {
     "name": "stdout",
     "output_type": "stream",
     "text": [
      "{'pis': <class 'float'>, 'info': <class 'str'>} \n",
      " {'return': <class 'int'>}\n"
     ]
    }
   ],
   "source": [
    "#Annotations\n",
    "print(circle_area.__annotations__, '\\n', add5.__annotations__)"
   ]
  },
  {
   "cell_type": "markdown",
   "metadata": {},
   "source": [
    "#### 가변인자, 키워드인자/ 패킹, 언패킹 정리\n",
    "헷갈리니 우선 역할 다르다고 생각하자\n",
    "\n",
    "1. __def foo(\\*args, \\*\\*kwargs)__ : 함수정의 시 가변, 키워드 인자를 받는다고 시그니처 선언\n",
    "\n",
    "2. __\\*a, b = 1,2,3,4__ : a에 패킹\n",
    "\n",
    "3. __foo(\\*container)__: container를 __언패킹__ 하여 args로전달 ( 그냥 foo(container) 했을때와 비교)\n",
    "\n",
    "4. __foo(\\*\\*dict)__ : dict을 __언패킹__ 하여 kwargs로 전달 (그냥 foo(dict)과 비교)\n",
    "\n",
    "5. __foo(s=123)__: 보통의 키워드인자 전달"
   ]
  },
  {
   "cell_type": "code",
   "execution_count": 8,
   "metadata": {},
   "outputs": [],
   "source": [
    "#1\n",
    "def foo(*args,**kwargs):\n",
    "    print(args)\n",
    "    print(kwargs)"
   ]
  },
  {
   "cell_type": "code",
   "execution_count": 9,
   "metadata": {},
   "outputs": [
    {
     "data": {
      "text/plain": [
       "[1, 2, 3]"
      ]
     },
     "execution_count": 9,
     "metadata": {},
     "output_type": "execute_result"
    }
   ],
   "source": [
    "#2\n",
    "*a,b = 1,2,3,4\n",
    "a"
   ]
  },
  {
   "cell_type": "code",
   "execution_count": 10,
   "metadata": {},
   "outputs": [
    {
     "name": "stdout",
     "output_type": "stream",
     "text": [
      "(1, 2, 3)\n",
      "{}\n"
     ]
    }
   ],
   "source": [
    "#3\n",
    "foo(*a)"
   ]
  },
  {
   "cell_type": "code",
   "execution_count": 11,
   "metadata": {},
   "outputs": [
    {
     "name": "stdout",
     "output_type": "stream",
     "text": [
      "([1, 2, 3],)\n",
      "{}\n"
     ]
    }
   ],
   "source": [
    "#3\n",
    "foo(a)"
   ]
  },
  {
   "cell_type": "code",
   "execution_count": 12,
   "metadata": {},
   "outputs": [
    {
     "name": "stdout",
     "output_type": "stream",
     "text": [
      "()\n",
      "{'a': 1, 'b': 2, 'c': 3}\n"
     ]
    }
   ],
   "source": [
    "#4\n",
    "dic = {'a':1,'b':2,'c':3}\n",
    "foo(**dic)"
   ]
  },
  {
   "cell_type": "code",
   "execution_count": 13,
   "metadata": {},
   "outputs": [
    {
     "name": "stdout",
     "output_type": "stream",
     "text": [
      "({'a': 1, 'b': 2, 'c': 3},)\n",
      "{}\n"
     ]
    }
   ],
   "source": [
    "#4\n",
    "foo(dic)"
   ]
  },
  {
   "cell_type": "code",
   "execution_count": 15,
   "metadata": {},
   "outputs": [
    {
     "name": "stdout",
     "output_type": "stream",
     "text": [
      "()\n",
      "{'a': 1, 'b': 2, 'c': 3, 's': 123}\n"
     ]
    }
   ],
   "source": [
    "#5\n",
    "foo(**dic,s=123)"
   ]
  },
  {
   "cell_type": "markdown",
   "metadata": {},
   "source": [
    "### scope"
   ]
  },
  {
   "cell_type": "code",
   "execution_count": 88,
   "metadata": {},
   "outputs": [
    {
     "name": "stdout",
     "output_type": "stream",
     "text": [
      "28.273500000000002\n"
     ]
    }
   ],
   "source": [
    "#Global 변수를 Local에서 접근은 되지만, 바로 연산에 이용하는 것은 오류 발생시킨다\n",
    "#local 내에서 global 키워드 이용해 전역변수임을 선언한다\n",
    "\n",
    "pi=3.14\n",
    "def circle_area(r):\n",
    "    global pi\n",
    "    pi = pi +0.0015\n",
    "    result =pi*(r**2)\n",
    "    return result\n",
    "\n",
    "if __name__=='__main__':\n",
    "    print(circle_area(3))"
   ]
  },
  {
   "cell_type": "code",
   "execution_count": 89,
   "metadata": {},
   "outputs": [
    {
     "name": "stdout",
     "output_type": "stream",
     "text": [
      "5050\n",
      "20100\n"
     ]
    }
   ],
   "source": [
    "def Sum(n):\n",
    "    if n==1:\n",
    "        return 1\n",
    "    else:\n",
    "        return Sum(n-1)+n\n",
    "    \n",
    "if __name__=='__main__':\n",
    "    print(Sum(100))\n",
    "    print(Sum(200))"
   ]
  },
  {
   "cell_type": "markdown",
   "metadata": {},
   "source": [
    "### main\n",
    "\\__name__은 현재 작업공간의 이름\n",
    "\n",
    "import 한 모듈이면 해당 모듈의 이름을, \n",
    "\n",
    "그렇지 않으면 \\__main__을 돌려준다"
   ]
  },
  {
   "cell_type": "code",
   "execution_count": 66,
   "metadata": {},
   "outputs": [
    {
     "name": "stdout",
     "output_type": "stream",
     "text": [
      "This program is being run by itself\n"
     ]
    }
   ],
   "source": [
    "if __name__ == '__main__':\n",
    "    print('This program is being run by itself')\n",
    "else:\n",
    "    print('I am being imported from another module')\n",
    "    "
   ]
  },
  {
   "cell_type": "code",
   "execution_count": 67,
   "metadata": {},
   "outputs": [
    {
     "name": "stdout",
     "output_type": "stream",
     "text": [
      "Writing NameTest.py\n"
     ]
    }
   ],
   "source": [
    "%%writefile NameTest.py\n",
    "if __name__ == '__main__':\n",
    "    print('This program is being run by itself')\n",
    "else:\n",
    "    print('I am being imported from another module')"
   ]
  },
  {
   "cell_type": "code",
   "execution_count": 68,
   "metadata": {},
   "outputs": [
    {
     "name": "stdout",
     "output_type": "stream",
     "text": [
      "This program is being run by itself\n"
     ]
    }
   ],
   "source": [
    "%run NameTest.py "
   ]
  },
  {
   "cell_type": "code",
   "execution_count": 69,
   "metadata": {},
   "outputs": [
    {
     "name": "stdout",
     "output_type": "stream",
     "text": [
      "I am being imported from another module\n"
     ]
    }
   ],
   "source": [
    "import NameTest"
   ]
  },
  {
   "cell_type": "code",
   "execution_count": 70,
   "metadata": {},
   "outputs": [
    {
     "name": "stdout",
     "output_type": "stream",
     "text": [
      "Writing NameA.py\n"
     ]
    }
   ],
   "source": [
    "%%writefile NameA.py\n",
    "\n",
    "def func():\n",
    "    print('functionA.py야')\n",
    "\n",
    "print('top-level A.py')\n",
    "\n",
    "if __name__ == '__main__':\n",
    "    print('A.py is being run by itself')\n",
    "else:\n",
    "    print('A.py is being imported')"
   ]
  },
  {
   "cell_type": "code",
   "execution_count": 71,
   "metadata": {},
   "outputs": [
    {
     "name": "stdout",
     "output_type": "stream",
     "text": [
      "Writing NameB.py\n"
     ]
    }
   ],
   "source": [
    "%%writefile NameB.py\n",
    "\n",
    "import NameA\n",
    "\n",
    "print('top-level in B.py')\n",
    "NameA.func()\n",
    "\n",
    "if __name__=='__main__':\n",
    "    print('B.py is being run by itself')\n",
    "else:\n",
    "    print('B.py is being imported')"
   ]
  },
  {
   "cell_type": "code",
   "execution_count": 72,
   "metadata": {},
   "outputs": [
    {
     "name": "stdout",
     "output_type": "stream",
     "text": [
      "top-level A.py\n",
      "A.py is being run by itself\n"
     ]
    }
   ],
   "source": [
    "%run NameA.py"
   ]
  },
  {
   "cell_type": "code",
   "execution_count": 73,
   "metadata": {},
   "outputs": [
    {
     "name": "stdout",
     "output_type": "stream",
     "text": [
      "top-level A.py\n",
      "A.py is being imported\n",
      "top-level in B.py\n",
      "functionA.py야\n",
      "B.py is being run by itself\n"
     ]
    }
   ],
   "source": [
    "%run NameB.py"
   ]
  },
  {
   "cell_type": "code",
   "execution_count": 90,
   "metadata": {},
   "outputs": [
    {
     "name": "stdout",
     "output_type": "stream",
     "text": [
      "Variable            Type         Data/Info\n",
      "------------------------------------------\n",
      "E                   enumerate    <enumerate object at 0x000001973A28C120>\n",
      "EL                  list         n=3\n",
      "L                   list         n=3\n",
      "NameA               module       <module 'NameA' from 'C:\\<...>esktop\\\\TEST1\\\\NameA.py'>\n",
      "NameTest            module       <module 'NameTest' from '<...>top\\\\TEST1\\\\NameTest.py'>\n",
      "Sum                 function     <function Sum at 0x000001973A29FEA0>\n",
      "add5                function     <function add5 at 0x000001973A20A6A8>\n",
      "circle_area         function     <function circle_area at 0x000001973A20AA60>\n",
      "colors              list         n=4\n",
      "d                   int          3\n",
      "dic                 dict         n=3\n",
      "fibo                function     <function fibo at 0x000001973A29F840>\n",
      "func                function     <function func at 0x000001973A29FD08>\n",
      "i                   tuple        n=2\n",
      "len_sorted_colors   list         n=4\n",
      "math                module       <module 'math' (built-in)>\n",
      "num                 list         n=5\n",
      "pi                  float        3.1415\n"
     ]
    }
   ],
   "source": [
    "%whos"
   ]
  },
  {
   "cell_type": "markdown",
   "metadata": {},
   "source": [
    "### Generator"
   ]
  },
  {
   "cell_type": "code",
   "execution_count": 98,
   "metadata": {},
   "outputs": [
    {
     "name": "stdout",
     "output_type": "stream",
     "text": [
      "0\n",
      "1\n",
      "1\n",
      "2\n",
      "3\n",
      "5\n",
      "8\n",
      "13\n",
      "\n",
      "let's try enumerate!! \n",
      "0 0\n",
      "1 1\n",
      "2 1\n",
      "3 2\n",
      "4 3\n",
      "5 5\n",
      "6 8\n",
      "7 13\n",
      "8 21\n",
      "9 34\n",
      "10 55\n",
      "11 89\n",
      "12 144\n",
      "13 233\n",
      "14 377\n",
      "15 610\n",
      "16 987\n",
      "17 1597\n",
      "18 2584\n",
      "19 4181\n"
     ]
    }
   ],
   "source": [
    "def Fibonacci():\n",
    "    a,b=0,1\n",
    "    while 1:\n",
    "        yield a         # yield : 함수로 iter를 만들어줌 iter Generator\n",
    "        a,b = b, a+b\n",
    "\n",
    "\n",
    "for i in Fibonacci():\n",
    "    if i<20:\n",
    "        print(i)\n",
    "    else:\n",
    "        break\n",
    "print(\"\\nlet's try enumerate!! \")\n",
    "for i, ret in enumerate(Fibonacci()): #enumerate: iterator for (idx,val) \n",
    "    if i<20: print(i, ret)\n",
    "    else:\n",
    "        break\n",
    "        "
   ]
  },
  {
   "cell_type": "code",
   "execution_count": 99,
   "metadata": {},
   "outputs": [
    {
     "name": "stdout",
     "output_type": "stream",
     "text": [
      "f\n",
      "l\n",
      "o\n",
      "g\n"
     ]
    }
   ],
   "source": [
    "def reverse2(data):\n",
    "    for i in range(len(data)-1,-1,-1):\n",
    "        yield data[i]\n",
    "\n",
    "for char in reverse2('golf'):\n",
    "    print(char) #반환 후에도 함수가 종료안됨"
   ]
  },
  {
   "cell_type": "code",
   "execution_count": 100,
   "metadata": {},
   "outputs": [
    {
     "name": "stdout",
     "output_type": "stream",
     "text": [
      "<generator object Test at 0x000001973A26C468>\n",
      "start Test()\n",
      "0\n",
      "2\n",
      "4\n",
      "6\n",
      "8\n"
     ]
    }
   ],
   "source": [
    "def Test():\n",
    "    print('start Test()')\n",
    "    for x in range(5):\n",
    "        yield x+x\n",
    "        \n",
    "a = Test() #Test() 는 generator\n",
    "print(a)\n",
    "for i in a:\n",
    "    print(i)"
   ]
  },
  {
   "cell_type": "code",
   "execution_count": 101,
   "metadata": {},
   "outputs": [
    {
     "name": "stdout",
     "output_type": "stream",
     "text": [
      "start Test2()\n",
      "0\n",
      "2\n",
      "4\n",
      "6\n",
      "8\n"
     ]
    }
   ],
   "source": [
    "def Test2():\n",
    "    print('start Test2()')\n",
    "    for x in range(5):\n",
    "        yield x+x\n",
    "a=Test2()\n",
    "\n",
    "for i in range(5):\n",
    "    print(next(a))\n",
    "    "
   ]
  },
  {
   "cell_type": "code",
   "execution_count": 4,
   "metadata": {},
   "outputs": [],
   "source": [
    "a = (x for x in range(11)) # tuple의 comprehension은 generater"
   ]
  },
  {
   "cell_type": "code",
   "execution_count": 8,
   "metadata": {},
   "outputs": [
    {
     "data": {
      "text/plain": [
       "4"
      ]
     },
     "execution_count": 8,
     "metadata": {},
     "output_type": "execute_result"
    }
   ],
   "source": [
    "next(a) #lazy evaluation\n",
    "a.__next__()"
   ]
  },
  {
   "cell_type": "markdown",
   "metadata": {},
   "source": [
    "### lambda"
   ]
  },
  {
   "cell_type": "code",
   "execution_count": 102,
   "metadata": {},
   "outputs": [
    {
     "name": "stdout",
     "output_type": "stream",
     "text": [
      "28.26\n",
      "28.274328\n"
     ]
    }
   ],
   "source": [
    "if __name__=='__main__':\n",
    "    circle_area = lambda r,pi:pi*r**2\n",
    "    print(circle_area(3,3.14))\n",
    "    print(circle_area(3,3.141592))"
   ]
  },
  {
   "cell_type": "code",
   "execution_count": 103,
   "metadata": {},
   "outputs": [
    {
     "name": "stdout",
     "output_type": "stream",
     "text": [
      "Area with low precision:  28.3\n",
      "Area with high precision:  28.26\n"
     ]
    }
   ],
   "source": [
    "def circle_area(r, print_format):\n",
    "    area = 3.14*r**2\n",
    "    print_format(area)\n",
    "    \n",
    "if __name__=='__main__':\n",
    "    circle_area(3, lambda x:print('Area with low precision: ',round(x,1)))\n",
    "    circle_area(3, lambda x:print('Area with high precision: ',round(x,2)))"
   ]
  },
  {
   "cell_type": "code",
   "execution_count": 104,
   "metadata": {},
   "outputs": [
    {
     "name": "stdout",
     "output_type": "stream",
     "text": [
      "3 5 5 4 1 4 1 4 "
     ]
    }
   ],
   "source": [
    "import random\n",
    "\n",
    "A = iter(lambda :random.randint(0,5) , 2) # iter(callable, sentinel) \n",
    "for a in A:\n",
    "    print(a,end=' ')"
   ]
  },
  {
   "cell_type": "code",
   "execution_count": 105,
   "metadata": {},
   "outputs": [
    {
     "name": "stdout",
     "output_type": "stream",
     "text": [
      "0\n",
      "1\n",
      "1\n",
      "3\n",
      "5\n",
      "3\n",
      "0\n",
      "4\n"
     ]
    }
   ],
   "source": [
    "import random\n",
    "\n",
    "it = iter( (lambda :random.randint(0,5) ), 2)\n",
    "#it = iter(random.randint(0,5) , 2) \n",
    "#-> random.randint(0,5) 자체는 callable 아님\n",
    "while(1):\n",
    "    i = next(it,-1) #next 없을경우 -1 return\n",
    "    if(i==-1):\n",
    "        break\n",
    "    else:\n",
    "        print(i)"
   ]
  },
  {
   "cell_type": "markdown",
   "metadata": {},
   "source": [
    "### Exception handling"
   ]
  },
  {
   "cell_type": "code",
   "execution_count": 106,
   "metadata": {},
   "outputs": [
    {
     "name": "stdout",
     "output_type": "stream",
     "text": [
      "나눗셈 연산입니다\n",
      "1.5\n",
      "ZeroDivisionError가 발생했습니다\n",
      "나눗셈 연산입니다\n",
      "None\n",
      "ZeroDivisionError 이외의 예외가 발생했습니다\n",
      "나눗셈 연산입니다\n",
      "None\n"
     ]
    }
   ],
   "source": [
    "def divide(m,n):\n",
    "    try:\n",
    "        result = m/n\n",
    "        return result\n",
    "    except ZeroDivisionError:\n",
    "        print(\"ZeroDivisionError가 발생했습니다\")\n",
    "    except:\n",
    "        print(\"ZeroDivisionError 이외의 예외가 발생했습니다\")\n",
    "    #else:\n",
    "    #   return result\n",
    "    finally:\n",
    "        print(\"나눗셈 연산입니다\")\n",
    "        \n",
    "if __name__==\"__main__\":\n",
    "    res = divide(3,2)\n",
    "    print(res)\n",
    "    res = divide(3,0)\n",
    "    print(res)\n",
    "    res = divide(None,2)\n",
    "    print(res)\n",
    "    "
   ]
  },
  {
   "cell_type": "code",
   "execution_count": 108,
   "metadata": {},
   "outputs": [
    {
     "ename": "TypeError",
     "evalue": "타입오류",
     "output_type": "error",
     "traceback": [
      "\u001b[1;31m---------------------------------------------------------------------------\u001b[0m",
      "\u001b[1;31mTypeError\u001b[0m                                 Traceback (most recent call last)",
      "\u001b[1;32m<ipython-input-108-3abe02b672ad>\u001b[0m in \u001b[0;36m<module>\u001b[1;34m()\u001b[0m\n\u001b[1;32m----> 1\u001b[1;33m \u001b[1;32mraise\u001b[0m \u001b[0mTypeError\u001b[0m\u001b[1;33m(\u001b[0m\u001b[1;34m\"타입오류\"\u001b[0m\u001b[1;33m)\u001b[0m\u001b[1;33m\u001b[0m\u001b[0m\n\u001b[0m",
      "\u001b[1;31mTypeError\u001b[0m: 타입오류"
     ]
    }
   ],
   "source": [
    "raise TypeError(\"타입오류\")"
   ]
  },
  {
   "cell_type": "code",
   "execution_count": 110,
   "metadata": {},
   "outputs": [
    {
     "name": "stdout",
     "output_type": "stream",
     "text": [
      "Enter age : -14\n"
     ]
    },
    {
     "ename": "ValueError",
     "evalue": "-14 is not a valid age",
     "output_type": "error",
     "traceback": [
      "\u001b[1;31m---------------------------------------------------------------------------\u001b[0m",
      "\u001b[1;31mValueError\u001b[0m                                Traceback (most recent call last)",
      "\u001b[1;32m<ipython-input-110-207ff1de9066>\u001b[0m in \u001b[0;36m<module>\u001b[1;34m()\u001b[0m\n\u001b[0;32m      5\u001b[0m         \u001b[1;32mraise\u001b[0m \u001b[0mmy_error\u001b[0m\u001b[1;33m\u001b[0m\u001b[0m\n\u001b[0;32m      6\u001b[0m     \u001b[1;32mreturn\u001b[0m \u001b[0mage\u001b[0m\u001b[1;33m\u001b[0m\u001b[0m\n\u001b[1;32m----> 7\u001b[1;33m \u001b[0mprint\u001b[0m\u001b[1;33m(\u001b[0m\u001b[0mget_age\u001b[0m\u001b[1;33m(\u001b[0m\u001b[1;33m)\u001b[0m\u001b[1;33m)\u001b[0m\u001b[1;33m\u001b[0m\u001b[0m\n\u001b[0m",
      "\u001b[1;32m<ipython-input-110-207ff1de9066>\u001b[0m in \u001b[0;36mget_age\u001b[1;34m()\u001b[0m\n\u001b[0;32m      3\u001b[0m     \u001b[1;32mif\u001b[0m \u001b[0mage\u001b[0m\u001b[1;33m<\u001b[0m\u001b[1;36m0\u001b[0m\u001b[1;33m:\u001b[0m\u001b[1;33m\u001b[0m\u001b[0m\n\u001b[0;32m      4\u001b[0m         \u001b[0mmy_error\u001b[0m \u001b[1;33m=\u001b[0m \u001b[0mValueError\u001b[0m\u001b[1;33m(\u001b[0m\u001b[1;34m\"{} is not a valid age\"\u001b[0m\u001b[1;33m.\u001b[0m\u001b[0mformat\u001b[0m\u001b[1;33m(\u001b[0m\u001b[0mage\u001b[0m\u001b[1;33m)\u001b[0m\u001b[1;33m)\u001b[0m\u001b[1;33m\u001b[0m\u001b[0m\n\u001b[1;32m----> 5\u001b[1;33m         \u001b[1;32mraise\u001b[0m \u001b[0mmy_error\u001b[0m\u001b[1;33m\u001b[0m\u001b[0m\n\u001b[0m\u001b[0;32m      6\u001b[0m     \u001b[1;32mreturn\u001b[0m \u001b[0mage\u001b[0m\u001b[1;33m\u001b[0m\u001b[0m\n\u001b[0;32m      7\u001b[0m \u001b[0mprint\u001b[0m\u001b[1;33m(\u001b[0m\u001b[0mget_age\u001b[0m\u001b[1;33m(\u001b[0m\u001b[1;33m)\u001b[0m\u001b[1;33m)\u001b[0m\u001b[1;33m\u001b[0m\u001b[0m\n",
      "\u001b[1;31mValueError\u001b[0m: -14 is not a valid age"
     ]
    }
   ],
   "source": [
    "def get_age():\n",
    "    age = int(input(\"Enter age : \"))\n",
    "    if age<0:\n",
    "        my_error = ValueError(\"{} is not a valid age\".format(age))\n",
    "        raise my_error\n",
    "    return age\n",
    "print(get_age())"
   ]
  },
  {
   "cell_type": "code",
   "execution_count": 111,
   "metadata": {},
   "outputs": [
    {
     "name": "stdout",
     "output_type": "stream",
     "text": [
      "('타입 오류입니다. 이것은 예제입니다',)\n"
     ]
    }
   ],
   "source": [
    "try:\n",
    "    raise TypeError(\"타입 오류입니다. 이것은 예제입니다\")\n",
    "except TypeError as e:\n",
    "    print(e.args)"
   ]
  },
  {
   "cell_type": "code",
   "execution_count": 113,
   "metadata": {},
   "outputs": [
    {
     "name": "stdout",
     "output_type": "stream",
     "text": [
      "나이를 입력해주세요 :251\n",
      "250세 넘으셨나요\n"
     ]
    }
   ],
   "source": [
    "class AgeException(Exception):\n",
    "    def __init__(self,msg):\n",
    "        self._message = msg\n",
    "        \n",
    "def input_age():\n",
    "    age = int(input(\"나이를 입력해주세요 :\"))\n",
    "    if age<0:\n",
    "        raise AgeException(\"나이는 음수안됩니다\")\n",
    "    elif age>250:\n",
    "        raise AgeException(\"250세 넘으셨나요\")\n",
    "    else:\n",
    "        return age\n",
    "        \n",
    "if __name__==\"__main__\":\n",
    "    try:\n",
    "        age = input_age()\n",
    "        print(\"나이는 {}입니다\".format(age))\n",
    "    except AgeException as e:\n",
    "        print(e.args[0])"
   ]
  },
  {
   "cell_type": "code",
   "execution_count": 114,
   "metadata": {},
   "outputs": [
    {
     "name": "stdout",
     "output_type": "stream",
     "text": [
      "Enter score : 102\n",
      "점수는 0점에서 100점 사이의 값이어야 합니다.\n",
      "\n",
      "Enter score : 99\n",
      "점수는 99 점입니다\n",
      "\n"
     ]
    }
   ],
   "source": [
    "class ScoreError(Exception):\n",
    "    def __init__(self,msg):\n",
    "        self.msg = msg\n",
    "    \n",
    "def input_score():\n",
    "    s = int(input(\"Enter score : \"))\n",
    "    if not 0<=s<=100:\n",
    "        err = ScoreError(\"점수는 0점에서 100점 사이의 값이어야 합니다.\\n\")\n",
    "        raise err\n",
    "    return s\n",
    "    \n",
    "    \n",
    "if __name__==\"__main__\":\n",
    "    while(True):\n",
    "        try:\n",
    "            score = input_score()\n",
    "            print(\"점수는 %d 점입니다\\n\" % score)\n",
    "            break\n",
    "        except ScoreError as e:\n",
    "            print(e.args[0])\n",
    "        "
   ]
  },
  {
   "cell_type": "code",
   "execution_count": null,
   "metadata": {},
   "outputs": [],
   "source": []
  }
 ],
 "metadata": {
  "kernelspec": {
   "display_name": "Python 3",
   "language": "python",
   "name": "python3"
  },
  "language_info": {
   "codemirror_mode": {
    "name": "ipython",
    "version": 3
   },
   "file_extension": ".py",
   "mimetype": "text/x-python",
   "name": "python",
   "nbconvert_exporter": "python",
   "pygments_lexer": "ipython3",
   "version": "3.6.4"
  }
 },
 "nbformat": 4,
 "nbformat_minor": 2
}
