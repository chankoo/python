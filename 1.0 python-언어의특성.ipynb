{
 "cells": [
  {
   "cell_type": "markdown",
   "metadata": {},
   "source": [
    "내용 계속 업데이트 하자\n",
    "\n",
    "https://namu.wiki/w/Python"
   ]
  },
  {
   "cell_type": "markdown",
   "metadata": {},
   "source": [
    "## 인터프리터 언어\n",
    "\n",
    "- 소스코드를 직접 실행 (line by line)\n",
    "- 빌드 없기에 디버깅이 편함\n",
    "- 기계어를 직접 실행하지 않기에 컴파일 언어보다 느림\n",
    "- pure python은 JIT 하지 않음\n",
    "\n",
    "> #### JIT(Just In Time) 컴파일\n",
    "- 런타임(line by line)에 즉석으로 컴파일 하는 방식\n",
    "- 보통 인터프리터 방식 언어 구현들이 성능 향상 목적으로 도입하는 경우 많음\n",
    "- JIT 컴파일러는 같은 코드를 매번 해석하는 대신 처음 실행될 때 인터프리트를 하면서 자주 쓰이는 코드를 캐싱\n",
    "- 이후에는 캐싱된 코드를 가져다 쓰기 때문에 인터프리터의 느린 실행 속도를 개선 가능 "
   ]
  },
  {
   "cell_type": "markdown",
   "metadata": {},
   "source": [
    "## 동적 타입 언어\n",
    "\n",
    "- 다른 언어에서 컴파일 과정 중 수행하는 작업을 런타임에 수행하는 고급언어\n",
    "- 즉, 런타임에 코드 추가, 타입 시스템 변경 등을 수행\n",
    "\n",
    "> eval 함수"
   ]
  },
  {
   "cell_type": "markdown",
   "metadata": {},
   "source": [
    "## 함수형 패러다임\n",
    "\n",
    "![](https://user-images.githubusercontent.com/38183218/54104534-9cf6d400-4413-11e9-84a2-d17508527928.PNG)\n",
    "\n",
    "[어떤 프로그래밍 언어들이 함수형인가](https://medium.com/@jooyunghan/%EC%96%B4%EB%96%A4-%ED%94%84%EB%A1%9C%EA%B7%B8%EB%9E%98%EB%B0%8D-%EC%96%B8%EC%96%B4%EB%93%A4%EC%9D%B4-%ED%95%A8%EC%88%98%ED%98%95%EC%9D%B8%EA%B0%80-fec1e941c47f)\n",
    "\n",
    "- __부작용__ 없는 프로그래밍을 지원하고 장려하는 언어\n",
    ">- 부작용(side-effect): 숨겨진 출력, 부원인(side-cause): 숨겨진 입력\n",
    ">- 가능한 부작용을 제거하고, 그렇지 못하는 곳은 철저히 제어 할 수있도록 적극적으로 돕는 언어\n",
    ">- \"부작용은 복잡성이고, 복잡성은 버그이며, 버그는 악마이다\"\n",
    ">- 코드 조각이 필요로 하는 것과 코드 조각이 유발하게 될 결과를 숨기지 않는 명확한(부원인, 부작용 없는) 프로그래밍\n",
    "\n",
    "- pure function\n",
    "> - 모든 입력과 출력이 __선언__ 된 함수\n",
    "> - 동일한 입력에는 항상 같은 값을 반환\n",
    "> - 함수의 실행은 프로그램의 실행에 영향을 미치지 않음\n",
    "\n",
    "- Immutability\n",
    "> - 불변성 데이터 : 함수형 프로그래밍에서는 데이터가 변할 수 없음\n",
    "> - 데이터 수정이 필요한 경우 원본 데이터 구조 변경 없이 원본의 복사본을 만들어 작업을 진행\n",
    "\n",
    "- 인자와 속성을 수정하는 것이 아니라 새로운 state를 리턴하는 방식을 선호\n",
    "\n",
    "- 파이썬은 함수형 패러다임을 일부 지원\n",
    "    >- lambda expresstions\n",
    "    >- nested function definitions\n",
    "    >- comprehensions\n",
    "    >- map, filter, reduce\n",
    "\n"
   ]
  },
  {
   "cell_type": "code",
   "execution_count": null,
   "metadata": {},
   "outputs": [],
   "source": []
  },
  {
   "cell_type": "code",
   "execution_count": null,
   "metadata": {},
   "outputs": [],
   "source": []
  },
  {
   "cell_type": "code",
   "execution_count": null,
   "metadata": {},
   "outputs": [],
   "source": []
  },
  {
   "cell_type": "code",
   "execution_count": null,
   "metadata": {},
   "outputs": [],
   "source": []
  },
  {
   "cell_type": "code",
   "execution_count": null,
   "metadata": {},
   "outputs": [],
   "source": []
  }
 ],
 "metadata": {
  "kernelspec": {
   "display_name": "Python 3",
   "language": "python",
   "name": "python3"
  },
  "language_info": {
   "codemirror_mode": {
    "name": "ipython",
    "version": 3
   },
   "file_extension": ".py",
   "mimetype": "text/x-python",
   "name": "python",
   "nbconvert_exporter": "python",
   "pygments_lexer": "ipython3",
   "version": "3.6.4"
  }
 },
 "nbformat": 4,
 "nbformat_minor": 2
}
