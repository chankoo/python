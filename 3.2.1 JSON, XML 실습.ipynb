{
 "cells": [
  {
   "cell_type": "markdown",
   "metadata": {},
   "source": [
    "### 관광코스별 관광지 상세 날씨 정보\n",
    "\n",
    "https://www.data.go.kr/dataset/15007098/openapi.do \n",
    "\n",
    "데이터 포맷 :XML\n",
    "\n",
    "1. 동네예보 조회\t관광지별 동네예보 정보조회\n",
    "2. 기상지수 예보 조회\t관광지별 기상지수예보 정보 조회"
   ]
  },
  {
   "cell_type": "code",
   "execution_count": 10,
   "metadata": {},
   "outputs": [],
   "source": [
    "from lxml import etree\n",
    "import urllib\n",
    "import requests"
   ]
  },
  {
   "cell_type": "code",
   "execution_count": 2,
   "metadata": {},
   "outputs": [],
   "source": [
    "url = \"http://newsky2.kma.go.kr/service/TourSpotInfoService/SpotShrtData?\""
   ]
  },
  {
   "cell_type": "code",
   "execution_count": 3,
   "metadata": {},
   "outputs": [],
   "source": [
    "pars = {'serviceKey':'TG%2FEJr%2F47wQsd1jC33zgwMs%2By4F85D9ICCh32kI99AmRf4rm4ZxYtcdx%2FLIcEr8jPz3ifS0bDmbhBA%2F9vGdMYQ%3D%3D',\n",
    "          'CURRENT_DATE':'2018032301', #조회시작 시간\n",
    "        'HOUR':24, #CURRENT_DATE부터 24시간 후까지의 자료 호출\n",
    "          'COURSE_ID':1, #관광 코스 아이디\n",
    "          'pageNo':1,\n",
    "          'startPage':1,\n",
    "          'numOfRows':10,\n",
    "          'pageSize':10,\n",
    "          \n",
    "         }"
   ]
  },
  {
   "cell_type": "code",
   "execution_count": 14,
   "metadata": {},
   "outputs": [],
   "source": [
    "resp = requests.get(url, pars)"
   ]
  },
  {
   "cell_type": "code",
   "execution_count": 15,
   "metadata": {},
   "outputs": [
    {
     "data": {
      "text/plain": [
       "'<?xml version=\"1.0\" encoding=\"UTF-8\" standalone=\"yes\"?><response><header><resultCode>0000</resultCode><resultMsg>OK</resultMsg></header><body><items><item><areaId>4792031001</areaId><courseAreaId>4700000000</courseAreaId><courseAreaName>경상북도</courseAreaName><courseId>1</courseId><courseName>남호고택에서의 하룻밤</courseName><pop>10</pop><rhm>65</rhm><sky>2</sky><spotAreaId>104</spotAreaId><spotAreaName>봉화</spotAreaName><spotName>(봉화)계서당(성이성 생가)</spotName><th3>6</th3><thema>문화/예술</thema><tm>2018-03-25 00:00</tm><wd>345</wd><ws>1.1</ws></item><item><areaId>4792031004</areaId><courseAreaId>4700000000</courseAreaId><courseAreaName>경상북도</courseAreaName><courseId>1</courseId><courseName>남호고택에서의 하룻밤</courseName><pop>10</pop><rhm>75</rhm><sky>2</sky><spotAreaId>102</spotAreaId><spotAreaName>봉화</spotAreaName><spotName>(봉화)춘양목 송이마을</spotName><th3>3</th3><thema>종교/역사/전통</thema><tm>2018-03-25 00:00</tm><wd>318</wd><ws>1.5</ws></item><item><areaId>4792031004</areaId><courseAreaId>4700000000</courseAreaId><courseAreaName>경상북도</courseAreaName><courseId>1</courseId><courseName>남호고택에서의 하룻밤</courseName><pop>10</pop><rhm>75</rhm><sky>2</sky><spotAreaId>102</spotAreaId><spotAreaName>봉화</spotAreaName><spotName>(봉화)춘양목 송이마을</spotName><th3>3</th3><thema>자연/힐링</thema><tm>2018-03-25 00:00</tm><wd>318</wd><ws>1.5</ws></item><item><areaId>4792031004</areaId><courseAreaId>4700000000</courseAreaId><courseAreaName>경상북도</courseAreaName><courseId>1</courseId><courseName>남호고택에서의 하룻밤</courseName><pop>10</pop><rhm>75</rhm><sky>2</sky><spotAreaId>102</spotAreaId><spotAreaName>봉화</spotAreaName><spotName>(봉화)춘양목 송이마을</spotName><th3>3</th3><thema>체험/학습/산업</thema><tm>2018-03-25 00:00</tm><wd>318</wd><ws>1.5</ws></item><item><areaId>4792031002</areaId><courseAreaId>4700000000</courseAreaId><courseAreaName>경상북도</courseAreaName><courseId>1</courseId><courseName>남호고택에서의 하룻밤</courseName><pop>10</pop><rhm>70</rhm><sky>2</sky><spotAreaId>103</spotAreaId><spotAreaName>봉화</spotAreaName><spotName>(봉화)지림사</spotName><th3>5</th3><thema>문화/예술</thema><tm>2018-03-25 00:00</tm><wd>350</wd><ws>1.1</ws></item><item><areaId>4792031002</areaId><courseAreaId>4700000000</courseAreaId><courseAreaName>경상북도</courseAreaName><courseId>1</courseId><courseName>남호고택에서의 하룻밤</courseName><pop>10</pop><rhm>70</rhm><sky>2</sky><spotAreaId>103</spotAreaId><spotAreaName>봉화</spotAreaName><spotName>(봉화)지림사</spotName><th3>5</th3><thema>종교/역사/전통</thema><tm>2018-03-25 00:00</tm><wd>350</wd><ws>1.1</ws></item><item><areaId>4792031002</areaId><courseAreaId>4700000000</courseAreaId><courseAreaName>경상북도</courseAreaName><courseId>1</courseId><courseName>남호고택에서의 하룻밤</courseName><pop>10</pop><rhm>70</rhm><sky>2</sky><spotAreaId>103</spotAreaId><spotAreaName>봉화</spotAreaName><spotName>(봉화)지림사</spotName><th3>5</th3><thema>자연/힐링</thema><tm>2018-03-25 00:00</tm><wd>350</wd><ws>1.1</ws></item><item><areaId>4792031002</areaId><courseAreaId>4700000000</courseAreaId><courseAreaName>경상북도</courseAreaName><courseId>1</courseId><courseName>남호고택에서의 하룻밤</courseName><pop>10</pop><rhm>70</rhm><sky>2</sky><spotAreaId>103</spotAreaId><spotAreaName>봉화</spotAreaName><spotName>(봉화)지림사</spotName><th3>5</th3><thema>체험/학습/산업</thema><tm>2018-03-25 00:00</tm><wd>350</wd><ws>1.1</ws></item><item><areaId>4792031004</areaId><courseAreaId>4700000000</courseAreaId><courseAreaName>경상북도</courseAreaName><courseId>1</courseId><courseName>남호고택에서의 하룻밤</courseName><pop>10</pop><rhm>75</rhm><sky>2</sky><spotAreaId>102</spotAreaId><spotAreaName>봉화</spotAreaName><spotName>(봉화)춘양목 송이마을</spotName><th3>3</th3><thema>문화/예술</thema><tm>2018-03-25 00:00</tm><wd>318</wd><ws>1.5</ws></item><item><areaId>4792031001</areaId><courseAreaId>4700000000</courseAreaId><courseAreaName>경상북도</courseAreaName><courseId>1</courseId><courseName>남호고택에서의 하룻밤</courseName><pop>10</pop><rhm>65</rhm><sky>2</sky><spotAreaId>104</spotAreaId><spotAreaName>봉화</spotAreaName><spotName>(봉화)계서당(성이성 생가)</spotName><th3>6</th3><thema>종교/역사/전통</thema><tm>2018-03-25 00:00</tm><wd>345</wd><ws>1.1</ws></item></items><numOfRows>10</numOfRows><pageNo>1</pageNo><totalCount>256</totalCount></body></response>'"
      ]
     },
     "execution_count": 15,
     "metadata": {},
     "output_type": "execute_result"
    }
   ],
   "source": [
    "resp.text"
   ]
  },
  {
   "cell_type": "code",
   "execution_count": 17,
   "metadata": {},
   "outputs": [],
   "source": [
    "apiEle = etree.fromstring(resp.content)"
   ]
  },
  {
   "cell_type": "code",
   "execution_count": 18,
   "metadata": {},
   "outputs": [],
   "source": [
    "apiTree = etree.ElementTree(apiEle)"
   ]
  },
  {
   "cell_type": "code",
   "execution_count": 19,
   "metadata": {},
   "outputs": [],
   "source": [
    "rootNode = apiTree.getroot()"
   ]
  },
  {
   "cell_type": "code",
   "execution_count": 23,
   "metadata": {},
   "outputs": [
    {
     "name": "stdout",
     "output_type": "stream",
     "text": [
      "<response>\n",
      "  <header>\n",
      "    <resultCode>0000</resultCode>\n",
      "    <resultMsg>OK</resultMsg>\n",
      "  </header>\n",
      "  <body>\n",
      "    <items>\n",
      "      <item>\n",
      "        <areaId>4792031001</areaId>\n",
      "        <courseAreaId>4700000000</courseAreaId>\n",
      "        <courseAreaName>경상북도</courseAreaName>\n",
      "        <courseId>1</courseId>\n",
      "        <courseName>남호고택에서의 하룻밤</courseName>\n",
      "        <pop>10</pop>\n",
      "        <rhm>65</rhm>\n",
      "        <sky>2</sky>\n",
      "        <spotAreaId>104</spotAreaId>\n",
      "        <spotAreaName>봉화</spotAreaName>\n",
      "        <spotName>(봉화)계서당(성이성 생가)</spotName>\n",
      "        <th3>6</th3>\n",
      "        <thema>문화/예술</thema>\n",
      "        <tm>2018-03-25 00:00</tm>\n",
      "        <wd>345</wd>\n",
      "        <ws>1.1</ws>\n",
      "      </item>\n",
      "      <item>\n",
      "        <areaId>4792031004</areaId>\n",
      "        <courseAreaId>4700000000</courseAreaId>\n",
      "        <courseAreaName>경상북도</courseAreaName>\n",
      "        <courseId>1</courseId>\n",
      "        <courseName>남호고택에서의 하룻밤</courseName>\n",
      "        <pop>10</pop>\n",
      "        <rhm>75</rhm>\n",
      "        <sky>2</sky>\n",
      "        <spotAreaId>102</spotAreaId>\n",
      "        <spotAreaName>봉화</spotAreaName>\n",
      "        <spotName>(봉화)춘양목 송이마을</spotName>\n",
      "        <th3>3</th3>\n",
      "        <thema>종교/역사/전통</thema>\n",
      "        <tm>2018-03-25 00:00</tm>\n",
      "        <wd>318</wd>\n",
      "        <ws>1.5</ws>\n",
      "      </item>\n",
      "      <item>\n",
      "        <areaId>4792031004</areaId>\n",
      "        <courseAreaId>4700000000</courseAreaId>\n",
      "        <courseAreaName>경상북도</courseAreaName>\n",
      "        <courseId>1</courseId>\n",
      "        <courseName>남호고택에서의 하룻밤</courseName>\n",
      "        <pop>10</pop>\n",
      "        <rhm>75</rhm>\n",
      "        <sky>2</sky>\n",
      "        <spotAreaId>102</spotAreaId>\n",
      "        <spotAreaName>봉화</spotAreaName>\n",
      "        <spotName>(봉화)춘양목 송이마을</spotName>\n",
      "        <th3>3</th3>\n",
      "        <thema>자연/힐링</thema>\n",
      "        <tm>2018-03-25 00:00</tm>\n",
      "        <wd>318</wd>\n",
      "        <ws>1.5</ws>\n",
      "      </item>\n",
      "      <item>\n",
      "        <areaId>4792031004</areaId>\n",
      "        <courseAreaId>4700000000</courseAreaId>\n",
      "        <courseAreaName>경상북도</courseAreaName>\n",
      "        <courseId>1</courseId>\n",
      "        <courseName>남호고택에서의 하룻밤</courseName>\n",
      "        <pop>10</pop>\n",
      "        <rhm>75</rhm>\n",
      "        <sky>2</sky>\n",
      "        <spotAreaId>102</spotAreaId>\n",
      "        <spotAreaName>봉화</spotAreaName>\n",
      "        <spotName>(봉화)춘양목 송이마을</spotName>\n",
      "        <th3>3</th3>\n",
      "        <thema>체험/학습/산업</thema>\n",
      "        <tm>2018-03-25 00:00</tm>\n",
      "        <wd>318</wd>\n",
      "        <ws>1.5</ws>\n",
      "      </item>\n",
      "      <item>\n",
      "        <areaId>4792031002</areaId>\n",
      "        <courseAreaId>4700000000</courseAreaId>\n",
      "        <courseAreaName>경상북도</courseAreaName>\n",
      "        <courseId>1</courseId>\n",
      "        <courseName>남호고택에서의 하룻밤</courseName>\n",
      "        <pop>10</pop>\n",
      "        <rhm>70</rhm>\n",
      "        <sky>2</sky>\n",
      "        <spotAreaId>103</spotAreaId>\n",
      "        <spotAreaName>봉화</spotAreaName>\n",
      "        <spotName>(봉화)지림사</spotName>\n",
      "        <th3>5</th3>\n",
      "        <thema>문화/예술</thema>\n",
      "        <tm>2018-03-25 00:00</tm>\n",
      "        <wd>350</wd>\n",
      "        <ws>1.1</ws>\n",
      "      </item>\n",
      "      <item>\n",
      "        <areaId>4792031002</areaId>\n",
      "        <courseAreaId>4700000000</courseAreaId>\n",
      "        <courseAreaName>경상북도</courseAreaName>\n",
      "        <courseId>1</courseId>\n",
      "        <courseName>남호고택에서의 하룻밤</courseName>\n",
      "        <pop>10</pop>\n",
      "        <rhm>70</rhm>\n",
      "        <sky>2</sky>\n",
      "        <spotAreaId>103</spotAreaId>\n",
      "        <spotAreaName>봉화</spotAreaName>\n",
      "        <spotName>(봉화)지림사</spotName>\n",
      "        <th3>5</th3>\n",
      "        <thema>종교/역사/전통</thema>\n",
      "        <tm>2018-03-25 00:00</tm>\n",
      "        <wd>350</wd>\n",
      "        <ws>1.1</ws>\n",
      "      </item>\n",
      "      <item>\n",
      "        <areaId>4792031002</areaId>\n",
      "        <courseAreaId>4700000000</courseAreaId>\n",
      "        <courseAreaName>경상북도</courseAreaName>\n",
      "        <courseId>1</courseId>\n",
      "        <courseName>남호고택에서의 하룻밤</courseName>\n",
      "        <pop>10</pop>\n",
      "        <rhm>70</rhm>\n",
      "        <sky>2</sky>\n",
      "        <spotAreaId>103</spotAreaId>\n",
      "        <spotAreaName>봉화</spotAreaName>\n",
      "        <spotName>(봉화)지림사</spotName>\n",
      "        <th3>5</th3>\n",
      "        <thema>자연/힐링</thema>\n",
      "        <tm>2018-03-25 00:00</tm>\n",
      "        <wd>350</wd>\n",
      "        <ws>1.1</ws>\n",
      "      </item>\n",
      "      <item>\n",
      "        <areaId>4792031002</areaId>\n",
      "        <courseAreaId>4700000000</courseAreaId>\n",
      "        <courseAreaName>경상북도</courseAreaName>\n",
      "        <courseId>1</courseId>\n",
      "        <courseName>남호고택에서의 하룻밤</courseName>\n",
      "        <pop>10</pop>\n",
      "        <rhm>70</rhm>\n",
      "        <sky>2</sky>\n",
      "        <spotAreaId>103</spotAreaId>\n",
      "        <spotAreaName>봉화</spotAreaName>\n",
      "        <spotName>(봉화)지림사</spotName>\n",
      "        <th3>5</th3>\n",
      "        <thema>체험/학습/산업</thema>\n",
      "        <tm>2018-03-25 00:00</tm>\n",
      "        <wd>350</wd>\n",
      "        <ws>1.1</ws>\n",
      "      </item>\n",
      "      <item>\n",
      "        <areaId>4792031004</areaId>\n",
      "        <courseAreaId>4700000000</courseAreaId>\n",
      "        <courseAreaName>경상북도</courseAreaName>\n",
      "        <courseId>1</courseId>\n",
      "        <courseName>남호고택에서의 하룻밤</courseName>\n",
      "        <pop>10</pop>\n",
      "        <rhm>75</rhm>\n",
      "        <sky>2</sky>\n",
      "        <spotAreaId>102</spotAreaId>\n",
      "        <spotAreaName>봉화</spotAreaName>\n",
      "        <spotName>(봉화)춘양목 송이마을</spotName>\n",
      "        <th3>3</th3>\n",
      "        <thema>문화/예술</thema>\n",
      "        <tm>2018-03-25 00:00</tm>\n",
      "        <wd>318</wd>\n",
      "        <ws>1.5</ws>\n",
      "      </item>\n",
      "      <item>\n",
      "        <areaId>4792031001</areaId>\n",
      "        <courseAreaId>4700000000</courseAreaId>\n",
      "        <courseAreaName>경상북도</courseAreaName>\n",
      "        <courseId>1</courseId>\n",
      "        <courseName>남호고택에서의 하룻밤</courseName>\n",
      "        <pop>10</pop>\n",
      "        <rhm>65</rhm>\n",
      "        <sky>2</sky>\n",
      "        <spotAreaId>104</spotAreaId>\n",
      "        <spotAreaName>봉화</spotAreaName>\n",
      "        <spotName>(봉화)계서당(성이성 생가)</spotName>\n",
      "        <th3>6</th3>\n",
      "        <thema>종교/역사/전통</thema>\n",
      "        <tm>2018-03-25 00:00</tm>\n",
      "        <wd>345</wd>\n",
      "        <ws>1.1</ws>\n",
      "      </item>\n",
      "    </items>\n",
      "    <numOfRows>10</numOfRows>\n",
      "    <pageNo>1</pageNo>\n",
      "    <totalCount>256</totalCount>\n",
      "  </body>\n",
      "</response>\n"
     ]
    }
   ],
   "source": [
    "etree.dump(rootNode)"
   ]
  },
  {
   "cell_type": "code",
   "execution_count": 29,
   "metadata": {},
   "outputs": [],
   "source": [
    "spots = rootNode.findall(\".//spotName\")"
   ]
  },
  {
   "cell_type": "code",
   "execution_count": 31,
   "metadata": {},
   "outputs": [
    {
     "name": "stdout",
     "output_type": "stream",
     "text": [
      "(봉화)계서당(성이성 생가)\n",
      "(봉화)춘양목 송이마을\n",
      "(봉화)춘양목 송이마을\n",
      "(봉화)춘양목 송이마을\n",
      "(봉화)지림사\n",
      "(봉화)지림사\n",
      "(봉화)지림사\n",
      "(봉화)지림사\n",
      "(봉화)춘양목 송이마을\n",
      "(봉화)계서당(성이성 생가)\n"
     ]
    }
   ],
   "source": [
    "for spot in spots:\n",
    "    print(spot.text)"
   ]
  },
  {
   "cell_type": "code",
   "execution_count": 34,
   "metadata": {},
   "outputs": [],
   "source": [
    "spots = rootNode.cssselect(\"item > wd\")"
   ]
  },
  {
   "cell_type": "code",
   "execution_count": 36,
   "metadata": {},
   "outputs": [
    {
     "name": "stdout",
     "output_type": "stream",
     "text": [
      "wd 345\n",
      "wd 318\n",
      "wd 318\n",
      "wd 318\n",
      "wd 350\n",
      "wd 350\n",
      "wd 350\n",
      "wd 350\n",
      "wd 318\n",
      "wd 345\n"
     ]
    }
   ],
   "source": [
    "for spot in spots:\n",
    "    print(spot.tag, spot.text)"
   ]
  },
  {
   "cell_type": "code",
   "execution_count": null,
   "metadata": {},
   "outputs": [],
   "source": []
  }
 ],
 "metadata": {
  "kernelspec": {
   "display_name": "Python 3",
   "language": "python",
   "name": "python3"
  },
  "language_info": {
   "codemirror_mode": {
    "name": "ipython",
    "version": 3
   },
   "file_extension": ".py",
   "mimetype": "text/x-python",
   "name": "python",
   "nbconvert_exporter": "python",
   "pygments_lexer": "ipython3",
   "version": "3.6.4"
  }
 },
 "nbformat": 4,
 "nbformat_minor": 2
}
