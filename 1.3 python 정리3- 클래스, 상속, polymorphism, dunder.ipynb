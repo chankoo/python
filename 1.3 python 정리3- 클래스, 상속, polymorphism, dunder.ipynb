{
 "cells": [
  {
   "cell_type": "markdown",
   "metadata": {},
   "source": [
    "\n",
    "- 클래스 \n",
    "- 데코레이터\n",
    "- 상속\n",
    "- 클래스,스태틱 메소드\n",
    "- Polymorphism\n",
    "- dunder\n",
    "- namedtuple, OrderedDict"
   ]
  },
  {
   "cell_type": "markdown",
   "metadata": {},
   "source": [
    "### 클래스"
   ]
  },
  {
   "cell_type": "code",
   "execution_count": 2,
   "metadata": {},
   "outputs": [],
   "source": [
    "class Radio:\n",
    "    def __init__(self):\n",
    "        print('Radio is created')\n",
    "    def turn_on(self):\n",
    "        print('Turn_on the radio')\n",
    "    def turn_off(self):\n",
    "        print('Turn_off the radio')"
   ]
  },
  {
   "cell_type": "code",
   "execution_count": 3,
   "metadata": {},
   "outputs": [
    {
     "name": "stdout",
     "output_type": "stream",
     "text": [
      "자동차가 생성되었습니다.\n",
      "Radio is created\n",
      "자동차 출발합니다\n",
      "speed :  20\n",
      "Turn_on the radio\n",
      "자동차 가속합니다\n",
      "speed :  50\n",
      "Turn_off the radio\n",
      "자동차 정지합니다\n",
      "speed :  0\n"
     ]
    }
   ],
   "source": [
    "class Car:\n",
    "    def __init__(self):  # 첫번째 인자로 항상 인스턴스를 전달한다\n",
    "        self._speed = 0\n",
    "        print('자동차가 생성되었습니다.')\n",
    "        self._radio = Radio()\n",
    "    def get_speed(self):\n",
    "        return self._speed\n",
    "    def start(self):\n",
    "        self._speed = 20\n",
    "        print('자동차 출발합니다')\n",
    "    def accelerate(self,x):\n",
    "        self._speed += x\n",
    "        print('자동차 가속합니다')\n",
    "    def stop(self):\n",
    "        self._speed = 0\n",
    "        print('자동차 정지합니다')\n",
    "    def turn_on_radio(self):\n",
    "        self._radio.turn_on()\n",
    "    def turn_off_radio(self):\n",
    "        self._radio.turn_off()\n",
    "    \n",
    "if __name__=='__main__':\n",
    "    myCar = Car()\n",
    "    myCar.start()\n",
    "    print('speed : ',myCar.get_speed())\n",
    "    myCar.turn_on_radio()\n",
    "    myCar.accelerate(30)\n",
    "    print('speed : ',myCar.get_speed())\n",
    "    myCar.turn_off_radio()\n",
    "    myCar.stop()\n",
    "    print('speed : ',myCar.get_speed())"
   ]
  },
  {
   "cell_type": "code",
   "execution_count": 4,
   "metadata": {},
   "outputs": [],
   "source": [
    "class Foo:\n",
    "    def func1():\n",
    "        print('Func 1')\n",
    "    def func2(self):\n",
    "        print(id(self))\n",
    "        print('func 2')"
   ]
  },
  {
   "cell_type": "code",
   "execution_count": 5,
   "metadata": {},
   "outputs": [
    {
     "name": "stdout",
     "output_type": "stream",
     "text": [
      "3052950246232\n",
      "func 2\n"
     ]
    }
   ],
   "source": [
    "f = Foo()\n",
    "f.func2()"
   ]
  },
  {
   "cell_type": "code",
   "execution_count": 6,
   "metadata": {},
   "outputs": [
    {
     "ename": "TypeError",
     "evalue": "func1() takes 0 positional arguments but 1 was given",
     "output_type": "error",
     "traceback": [
      "\u001b[1;31m---------------------------------------------------------------------------\u001b[0m",
      "\u001b[1;31mTypeError\u001b[0m                                 Traceback (most recent call last)",
      "\u001b[1;32m<ipython-input-6-e2cad6b50858>\u001b[0m in \u001b[0;36m<module>\u001b[1;34m()\u001b[0m\n\u001b[1;32m----> 1\u001b[1;33m \u001b[0mf\u001b[0m\u001b[1;33m.\u001b[0m\u001b[0mfunc1\u001b[0m\u001b[1;33m(\u001b[0m\u001b[1;33m)\u001b[0m  \u001b[1;31m# self!\u001b[0m\u001b[1;33m\u001b[0m\u001b[0m\n\u001b[0m",
      "\u001b[1;31mTypeError\u001b[0m: func1() takes 0 positional arguments but 1 was given"
     ]
    }
   ],
   "source": [
    "f.func1()  # self!"
   ]
  },
  {
   "cell_type": "code",
   "execution_count": 7,
   "metadata": {},
   "outputs": [
    {
     "name": "stdout",
     "output_type": "stream",
     "text": [
      "Func 1\n"
     ]
    }
   ],
   "source": [
    "Foo.func1() #클래스에서 바로 메소드 호출, 메소드 정의에 self없는 경우 "
   ]
  },
  {
   "cell_type": "code",
   "execution_count": 8,
   "metadata": {},
   "outputs": [
    {
     "ename": "TypeError",
     "evalue": "func2() missing 1 required positional argument: 'self'",
     "output_type": "error",
     "traceback": [
      "\u001b[1;31m---------------------------------------------------------------------------\u001b[0m",
      "\u001b[1;31mTypeError\u001b[0m                                 Traceback (most recent call last)",
      "\u001b[1;32m<ipython-input-8-650844b588e9>\u001b[0m in \u001b[0;36m<module>\u001b[1;34m()\u001b[0m\n\u001b[1;32m----> 1\u001b[1;33m \u001b[0mFoo\u001b[0m\u001b[1;33m.\u001b[0m\u001b[0mfunc2\u001b[0m\u001b[1;33m(\u001b[0m\u001b[1;33m)\u001b[0m \u001b[1;31m#self에 넣을 인스턴스 없으므로 에러\u001b[0m\u001b[1;33m\u001b[0m\u001b[0m\n\u001b[0m",
      "\u001b[1;31mTypeError\u001b[0m: func2() missing 1 required positional argument: 'self'"
     ]
    }
   ],
   "source": [
    "Foo.func2() #self에 넣을 인스턴스 없으므로 에러"
   ]
  },
  {
   "cell_type": "code",
   "execution_count": 9,
   "metadata": {},
   "outputs": [
    {
     "name": "stdout",
     "output_type": "stream",
     "text": [
      "3052950260984\n",
      "func 2\n"
     ]
    }
   ],
   "source": [
    "f1 = Foo()\n",
    "Foo.func2(f1)"
   ]
  },
  {
   "cell_type": "code",
   "execution_count": 17,
   "metadata": {},
   "outputs": [],
   "source": [
    "class Account:\n",
    "    numAccounts = 0\n",
    "    def __init__(self, name):\n",
    "        self.name = name\n",
    "        Account.numAccounts +=1\n",
    "    def __del__(self):\n",
    "        Account.numAccounts -=1"
   ]
  },
  {
   "cell_type": "code",
   "execution_count": 18,
   "metadata": {},
   "outputs": [
    {
     "data": {
      "text/plain": [
       "'kim'"
      ]
     },
     "execution_count": 18,
     "metadata": {},
     "output_type": "execute_result"
    }
   ],
   "source": [
    "kim = Account('kim')\n",
    "kim.name"
   ]
  },
  {
   "cell_type": "code",
   "execution_count": 19,
   "metadata": {},
   "outputs": [
    {
     "data": {
      "text/plain": [
       "1"
      ]
     },
     "execution_count": 19,
     "metadata": {},
     "output_type": "execute_result"
    }
   ],
   "source": [
    "kim.numAccounts"
   ]
  },
  {
   "cell_type": "code",
   "execution_count": null,
   "metadata": {},
   "outputs": [],
   "source": []
  },
  {
   "cell_type": "markdown",
   "metadata": {},
   "source": [
    "### 데코레이터\n",
    "descriptor"
   ]
  },
  {
   "cell_type": "code",
   "execution_count": 20,
   "metadata": {},
   "outputs": [
    {
     "name": "stdout",
     "output_type": "stream",
     "text": [
      "2000\n",
      "0\n",
      "red\n",
      "black\n"
     ]
    }
   ],
   "source": [
    "class Car:\n",
    "    def __init__(self):          #Car 객체는 attribute로 _price , _speed,_color를 갖는다\n",
    "        self._price = 2000\n",
    "        self._speed = 0\n",
    "        self.__color = 'red'\n",
    "        \n",
    "    @property                # Car 객체는 property로 price, speed, color를 갖는다\n",
    "    def price(self):\n",
    "        return self._price\n",
    "    @price.setter\n",
    "    def price(self,price):\n",
    "        self._price = price\n",
    "    @property\n",
    "    def speed(self):\n",
    "        return self._speed\n",
    "    @speed.setter\n",
    "    def speed(self,speed):\n",
    "        self._speed = speed\n",
    "    @property\n",
    "    def color(self):\n",
    "        return self.__color\n",
    "    @color.setter\n",
    "    def color(self,color):\n",
    "        self.__color = color\n",
    "        \n",
    "if __name__=='__main__':\n",
    "    my_car = Car()\n",
    "    print(my_car.price)\n",
    "    print(my_car.speed)\n",
    "    print(my_car.color)\n",
    "    my_car.color = 'black'\n",
    "    print(my_car.color)"
   ]
  },
  {
   "cell_type": "code",
   "execution_count": 139,
   "metadata": {},
   "outputs": [],
   "source": [
    "class A:\n",
    "    a = ['a','b','c']\n",
    "    @property\n",
    "    def x(self):\n",
    "        return self.a"
   ]
  },
  {
   "cell_type": "code",
   "execution_count": 143,
   "metadata": {},
   "outputs": [
    {
     "data": {
      "text/plain": [
       "True"
      ]
     },
     "execution_count": 143,
     "metadata": {},
     "output_type": "execute_result"
    }
   ],
   "source": [
    "callable(A)"
   ]
  },
  {
   "cell_type": "code",
   "execution_count": 141,
   "metadata": {},
   "outputs": [
    {
     "data": {
      "text/plain": [
       "False"
      ]
     },
     "execution_count": 141,
     "metadata": {},
     "output_type": "execute_result"
    }
   ],
   "source": [
    "callable(A().x)"
   ]
  },
  {
   "cell_type": "code",
   "execution_count": 140,
   "metadata": {},
   "outputs": [
    {
     "data": {
      "text/plain": [
       "['a', 'b', 'c']"
      ]
     },
     "execution_count": 140,
     "metadata": {},
     "output_type": "execute_result"
    }
   ],
   "source": [
    "A().x"
   ]
  },
  {
   "cell_type": "code",
   "execution_count": 142,
   "metadata": {},
   "outputs": [
    {
     "ename": "AttributeError",
     "evalue": "'A' object has no attribute '__call__'",
     "output_type": "error",
     "traceback": [
      "\u001b[1;31m---------------------------------------------------------------------------\u001b[0m",
      "\u001b[1;31mAttributeError\u001b[0m                            Traceback (most recent call last)",
      "\u001b[1;32m<ipython-input-142-cfcbafade96a>\u001b[0m in \u001b[0;36m<module>\u001b[1;34m()\u001b[0m\n\u001b[1;32m----> 1\u001b[1;33m \u001b[0mA\u001b[0m\u001b[1;33m(\u001b[0m\u001b[1;33m)\u001b[0m\u001b[1;33m.\u001b[0m\u001b[0m__call__\u001b[0m\u001b[1;33m(\u001b[0m\u001b[1;33m)\u001b[0m\u001b[1;33m\u001b[0m\u001b[0m\n\u001b[0m",
      "\u001b[1;31mAttributeError\u001b[0m: 'A' object has no attribute '__call__'"
     ]
    }
   ],
   "source": [
    "A().__call__()"
   ]
  },
  {
   "cell_type": "code",
   "execution_count": 21,
   "metadata": {},
   "outputs": [
    {
     "name": "stdout",
     "output_type": "stream",
     "text": [
      "Program start\n",
      "Begin my_function\n",
      "hello world\n",
      "End my_function\n"
     ]
    }
   ],
   "source": [
    " def verbose(func):\n",
    "        def new_func():\n",
    "            print('Begin',func.__name__)\n",
    "            func()\n",
    "            print('End',func.__name__)\n",
    "        return new_func\n",
    "\n",
    "@verbose\n",
    "def my_function():\n",
    "    print('hello world')\n",
    "\n",
    "print('Program start')\n",
    "my_function()"
   ]
  },
  {
   "cell_type": "code",
   "execution_count": 22,
   "metadata": {},
   "outputs": [
    {
     "name": "stdout",
     "output_type": "stream",
     "text": [
      "Program start\n",
      "\n",
      "Begin my_function\n",
      "hello world\n",
      "End my_function\n",
      "\n",
      "Begin your_function\n",
      "hello, A\n",
      "End your_function\n",
      "\n",
      "Begin our_function\n",
      "hello, everybody we are BOAZ\n",
      "End our_function\n"
     ]
    }
   ],
   "source": [
    " def verbose(func):  #기존함수 수정않고 새로운 부가적 기능 추가할때 유용\n",
    "        def new_func(*args,**kwargs): # 함수를 parameter로 받을수있고 함수리턴가능하기에\n",
    "            print('\\nBegin',func.__name__)\n",
    "            func(*args,**kwargs)\n",
    "            print('End',func.__name__)\n",
    "        return new_func\n",
    "\n",
    "@verbose\n",
    "def my_function():\n",
    "    print('hello world')\n",
    "\n",
    "@verbose\n",
    "def your_function(yourname):\n",
    "    print('hello, %s' % yourname)\n",
    "    \n",
    "@verbose\n",
    "def our_function(ourname):\n",
    "    print('hello, everybody we are %s' % ourname)\n",
    "\n",
    "print('Program start')\n",
    "my_function()\n",
    "your_function('A')\n",
    "our_function('BOAZ')"
   ]
  },
  {
   "cell_type": "code",
   "execution_count": 23,
   "metadata": {},
   "outputs": [
    {
     "name": "stdout",
     "output_type": "stream",
     "text": [
      "Initializing Verbose\n",
      "Initializing Verbose\n",
      "\n",
      "Program strart\n",
      "\n",
      "Begin my_function\n",
      "hello,Mickey\n",
      "End my_function\n",
      "\n",
      "Begin my_function\n",
      "hello,Minnie\n",
      "End my_function\n",
      "\n",
      "Begin my_function2\n",
      "helloDonald\n",
      "your age is 30\n",
      "End my_function2\n"
     ]
    }
   ],
   "source": [
    "class Verbose:\n",
    "    def __init__(self,f):\n",
    "        print(\"Initializing Verbose\")\n",
    "        self.func = f\n",
    "    def __call__(self, *args, **kwargs):\n",
    "        print('\\nBegin',self.func.__name__)\n",
    "        self.func(*args, **kwargs)\n",
    "        print('End',self.func.__name__)\n",
    "        \n",
    "@Verbose                                 # Verbose 어떤식으로 기능? Verbose의 객체는 무엇?\n",
    "def my_function(name):\n",
    "    print('hello,%s' % name)\n",
    "\n",
    "@Verbose\n",
    "def my_function2(name,age=30):\n",
    "    print('hello%s' % name)\n",
    "    print('your age is %d' % age)\n",
    "    \n",
    "    \n",
    "print('\\nProgram strart')\n",
    "my_function('Mickey')\n",
    "my_function('Minnie')\n",
    "my_function2('Donald')"
   ]
  },
  {
   "cell_type": "code",
   "execution_count": 24,
   "metadata": {},
   "outputs": [
    {
     "name": "stdout",
     "output_type": "stream",
     "text": [
      "1 2 3 4 5 6 7 8 9 10 11 12 13 14 15 16 17 18 19 20 21 22 23 24 25 26 27 28 29 30 31 32 33 34 35 36 37 38 39 40 41 42 43 44 45 46 47 48 49 50 51 52 53 54 55 56 57 58 59 60 61 62 63 64 65 66 67 68 69 70 71 72 73 74 75 76 77 78 79 80 81 82 83 84 85 86 87 88 89 90 91 92 93 94 95 96 97 98 99 100 \n",
      " 0.0029914379119873047\n",
      "101 102 103 104 105 106 107 108 109 110 111 112 113 114 115 116 117 118 119 120 121 122 123 124 125 126 127 128 129 130 131 132 133 134 135 136 137 138 139 140 141 142 143 144 145 146 147 148 149 150 151 152 153 154 155 156 157 158 159 160 161 162 163 164 165 166 167 168 169 170 171 172 173 174 175 176 177 178 179 180 181 182 183 184 185 186 187 188 189 190 191 192 193 194 195 196 197 198 199 200 201 202 \n",
      " 0.0029947757720947266\n"
     ]
    }
   ],
   "source": [
    "def checkTime(func):\n",
    "    import time\n",
    "    def newFunc(*args,**kwargs):\n",
    "        start =time.time()\n",
    "        func(*args, **kwargs)\n",
    "        end = time.time()\n",
    "        print('\\n', end -start)\n",
    "    return newFunc\n",
    "\n",
    "@checkTime\n",
    "def aFunc(start=1,end=101):\n",
    "    for i in range(start,end):\n",
    "        print(i,end=' ')\n",
    "        \n",
    "@checkTime\n",
    "def bFunc(start,end):\n",
    "    for i in range(start,end+1):\n",
    "        print(i, end=' ')\n",
    "        \n",
    "aFunc()\n",
    "bFunc(101,202)"
   ]
  },
  {
   "cell_type": "markdown",
   "metadata": {},
   "source": [
    "### 상속"
   ]
  },
  {
   "cell_type": "code",
   "execution_count": 44,
   "metadata": {},
   "outputs": [
    {
     "name": "stdout",
     "output_type": "stream",
     "text": [
      "열심히 일합니다\n",
      "이름은 김철수이고, 나이는 18살 입니다.\n",
      "급여는 3000000원이고, 입사일은 160301입니다\n"
     ]
    }
   ],
   "source": [
    "class Person:\n",
    "    def __init__(self,name,age,gender):\n",
    "        self.name = name\n",
    "        self.age = age\n",
    "        self.gender = gender\n",
    "    def aboutMe(self):\n",
    "        print('이름은 %s이고, 나이는 %d살 입니다.' % (self.name, self.age))\n",
    "\n",
    "class Employee(Person):\n",
    "    def __init__(self,name,age,gender,salary,hiredate):\n",
    "        Person.__init__(self,name,age,gender)\n",
    "        self.salary = salary\n",
    "        self.hiredate = hiredate\n",
    "    def doWork(self):\n",
    "        print('열심히 일합니다')\n",
    "    def aboutMe(self):\n",
    "        Person.aboutMe(self)\n",
    "        print('급여는 %d원이고, 입사일은 %s입니다' % (self.salary,self.hiredate))\n",
    "        \n",
    "emp1 = Employee('김철수',18,'남',3000000,'160301')\n",
    "emp1.doWork()\n",
    "emp1.aboutMe()"
   ]
  },
  {
   "cell_type": "code",
   "execution_count": 45,
   "metadata": {},
   "outputs": [
    {
     "name": "stdout",
     "output_type": "stream",
     "text": [
      "pi: 3.14\n",
      "rad: 3 area: 28.26\n",
      "rad: 3 circumference: 18.84\n"
     ]
    }
   ],
   "source": [
    "class Circle():\n",
    "    PI = 3.14\n",
    "    def __init__(self,radius):\n",
    "        self._radius = radius\n",
    "        \n",
    "    @property\n",
    "    def radius(self):\n",
    "        return self._radius\n",
    "    def get_area(self):\n",
    "        area = Circle.PI*(self._radius **2)\n",
    "        return round(area,2)\n",
    "    def get_circumference(self):\n",
    "        circumference = 2 * self.PI * self._radius # self.PI 가능하지만 되도록 클래스이름 사용\n",
    "        return round(circumference,2)\n",
    "    \n",
    "if __name__ ==\"__main__\":\n",
    "    circle1 = Circle(3)\n",
    "    print(\"pi:\",Circle.PI)\n",
    "    print(\"rad:\",circle1.radius,\"area:\",circle1.get_area())\n",
    "    print(\"rad:\",circle1.radius,\"circumference:\",circle1.get_circumference())"
   ]
  },
  {
   "cell_type": "markdown",
   "metadata": {},
   "source": [
    "### 메소드\n",
    "classmethod, staticmethod"
   ]
  },
  {
   "cell_type": "code",
   "execution_count": 46,
   "metadata": {},
   "outputs": [
    {
     "name": "stdout",
     "output_type": "stream",
     "text": [
      "8\n"
     ]
    }
   ],
   "source": [
    "class Times():\n",
    "    factor  = 1\n",
    "    @classmethod\n",
    "    def mul(cls,x):\n",
    "        return cls.factor*x\n",
    "    \n",
    "class TwoTimes(Times):\n",
    "    factor = 2\n",
    "    \n",
    "x = TwoTimes.mul(4)\n",
    "print(x)"
   ]
  },
  {
   "cell_type": "code",
   "execution_count": 47,
   "metadata": {},
   "outputs": [
    {
     "name": "stdout",
     "output_type": "stream",
     "text": [
      "staticmethod called\n",
      "28.26\n"
     ]
    }
   ],
   "source": [
    "class CircleCal():\n",
    "    __PI = 3.14\n",
    "    \n",
    "    @classmethod\n",
    "    def calculate_area(cls,rad):\n",
    "        print(\"classmethod called\")\n",
    "        area = cls.__PI*rad**2\n",
    "        return round(area,2)\n",
    "    \n",
    "    @staticmethod\n",
    "    def calculate_area(rad):\n",
    "        print(\"staticmethod called\")\n",
    "        area = CircleCal.__PI*rad**2\n",
    "        return round(area,2)\n",
    "    \n",
    "if __name__ == \"__main__\":\n",
    "    print(CircleCal.calculate_area(3))"
   ]
  },
  {
   "cell_type": "code",
   "execution_count": 48,
   "metadata": {},
   "outputs": [
    {
     "name": "stdout",
     "output_type": "stream",
     "text": [
      "2018년 4월 4일 입니다\n",
      "2018년 7월 6일 입니다\n"
     ]
    }
   ],
   "source": [
    "import time\n",
    "class Date:\n",
    "    def __init__(self,year,month,day):\n",
    "        self.year = year\n",
    "        self.month = month\n",
    "        self.day = day\n",
    "        \n",
    "    @staticmethod\n",
    "    def now():\n",
    "        t = time.localtime()\n",
    "        return Date(t.tm_year,t.tm_mon,t.tm_mday)\n",
    "        \n",
    "a= Date(2018,4,4)\n",
    "print(\"{}년 {}월 {}일 입니다\".format(a.year,a.month,a.day))\n",
    "b = Date.now()\n",
    "print(\"{}년 {}월 {}일 입니다\".format(b.year,b.month,b.day))"
   ]
  },
  {
   "cell_type": "code",
   "execution_count": 49,
   "metadata": {},
   "outputs": [
    {
     "name": "stdout",
     "output_type": "stream",
     "text": [
      "True\n",
      "2\n"
     ]
    }
   ],
   "source": [
    "class Rectangle:\n",
    "    count = 0\n",
    "    def __init__(self,width,height):\n",
    "        self.width = width\n",
    "        self.height = height\n",
    "        Rectangle.count +=1\n",
    "        \n",
    "    def calcArea(self):\n",
    "        area = self.width * self.height\n",
    "        return area\n",
    "    \n",
    "    @staticmethod\n",
    "    def isSquare(recWidth,recHeight):\n",
    "        return recWidth==recHeight\n",
    "    @classmethod\n",
    "    def printCount(cls):\n",
    "        print(cls.count)\n",
    "        \n",
    "print(Rectangle.isSquare(5,5))\n",
    "r1 = Rectangle(5,5)\n",
    "r2 = Rectangle(2,5)\n",
    "r1.printCount()  # count가 클래스변수이므로"
   ]
  },
  {
   "cell_type": "code",
   "execution_count": 50,
   "metadata": {},
   "outputs": [
    {
     "name": "stdout",
     "output_type": "stream",
     "text": [
      "area :  6\n",
      "width : 10\n",
      "3\n",
      "3\n"
     ]
    }
   ],
   "source": [
    "r3 = Rectangle(2,3)\n",
    "print(\"area : \",r3.calcArea())\n",
    "\n",
    "r3.width = 10\n",
    "print(\"width :\",r3.width)\n",
    "\n",
    "print(Rectangle.count)\n",
    "print(r3.count)"
   ]
  },
  {
   "cell_type": "code",
   "execution_count": 51,
   "metadata": {},
   "outputs": [
    {
     "name": "stdout",
     "output_type": "stream",
     "text": [
      "50\n"
     ]
    }
   ],
   "source": [
    "Rectangle.count =50\n",
    "r3.count = 10 # r3객체에 추가된 인스턴스 변수를 사용, 변경\n",
    "print(Rectangle.count) "
   ]
  },
  {
   "cell_type": "markdown",
   "metadata": {},
   "source": [
    "### Polymorphism \n",
    ":상속 안받더라도 다형성\n",
    "\n",
    "***덕 타이핑*** \n",
    " (\"오리처럼 보이고 오리처럼 꽥꽥댄다면, 그것은 오리다.\") 특정한 형 대신에 인터페이스를 강조함으로써, 잘 설계된 코드는 다형적인 치환을 허락함으로써 유연성을 개선할 수 있습니다. 속성과 메소드 존재에 의해 객체의 적합성이 결정된다.\n",
    "\n",
    "***EAFP***\n",
    "허락보다는 용서를 구하기가 쉽다 (Easier to ask for forgiveness than permission). 이 흔히 볼 수 있는 파이썬 코딩 스타일은, 올바른 키나 어트리뷰트의 존재를 가정하고, 그 가정이 틀리면 예외를 잡습니다."
   ]
  },
  {
   "cell_type": "code",
   "execution_count": 25,
   "metadata": {},
   "outputs": [
    {
     "name": "stdout",
     "output_type": "stream",
     "text": [
      "Parrot can fly\n",
      "Penguin can't fly\n"
     ]
    }
   ],
   "source": [
    "class Parrot:\n",
    "\n",
    "    def fly(self):\n",
    "        print(\"Parrot can fly\")\n",
    "    \n",
    "    def swim(self):\n",
    "        print(\"Parrot can't swim\")\n",
    "\n",
    "class Penguin:\n",
    "\n",
    "    def fly(self):\n",
    "        print(\"Penguin can't fly\")\n",
    "    \n",
    "    def swim(self):\n",
    "        print(\"Penguin can swim\")\n",
    "\n",
    "# common interface\n",
    "def flying_test(bird):\n",
    "    bird.fly()\n",
    "\n",
    "#instantiate objects\n",
    "blu = Parrot()\n",
    "peggy = Penguin()\n",
    "\n",
    "# passing the object\n",
    "flying_test(blu)\n",
    "flying_test(peggy)"
   ]
  },
  {
   "cell_type": "code",
   "execution_count": 26,
   "metadata": {},
   "outputs": [],
   "source": [
    "class Polygon:\n",
    "    def __init__(self, no_of_sides):\n",
    "        self.n = no_of_sides\n",
    "        self.sides = [0 for i in range(no_of_sides)]\n",
    "\n",
    "    def inputSides(self):\n",
    "        self.sides = [float(input(\"Enter side \"+str(i+1)+\" : \")) for i in range(self.n)]\n",
    "\n",
    "    def dispSides(self):\n",
    "        for i in range(self.n):\n",
    "            print(\"Side\",i+1,\"is\",self.sides[i])"
   ]
  },
  {
   "cell_type": "code",
   "execution_count": 35,
   "metadata": {},
   "outputs": [],
   "source": [
    "penta = Polygon(5)"
   ]
  },
  {
   "cell_type": "code",
   "execution_count": 36,
   "metadata": {},
   "outputs": [
    {
     "name": "stdout",
     "output_type": "stream",
     "text": [
      "Enter side 1 : 1\n",
      "Enter side 2 : 2\n",
      "Enter side 3 : 3\n",
      "Enter side 4 : 4\n",
      "Enter side 5 : 5\n"
     ]
    }
   ],
   "source": [
    "penta.inputSides()"
   ]
  },
  {
   "cell_type": "code",
   "execution_count": 37,
   "metadata": {},
   "outputs": [
    {
     "name": "stdout",
     "output_type": "stream",
     "text": [
      "Side 1 is 1.0\n",
      "Side 2 is 2.0\n",
      "Side 3 is 3.0\n",
      "Side 4 is 4.0\n",
      "Side 5 is 5.0\n"
     ]
    }
   ],
   "source": [
    "penta.dispSides()"
   ]
  },
  {
   "cell_type": "code",
   "execution_count": 38,
   "metadata": {},
   "outputs": [],
   "source": [
    "class Triangle(Polygon):\n",
    "    def __init__(self):\n",
    "        Polygon.__init__(self,3) # super().__init__(3)\n",
    "\n",
    "    def findArea(self):\n",
    "        a, b, c = self.sides\n",
    "        # calculate the semi-perimeter\n",
    "        s = (a + b + c) / 2\n",
    "        area = (s*(s-a)*(s-b)*(s-c)) ** 0.5\n",
    "        print('The area of the triangle is %0.2f' %area)"
   ]
  },
  {
   "cell_type": "code",
   "execution_count": 41,
   "metadata": {},
   "outputs": [
    {
     "name": "stdout",
     "output_type": "stream",
     "text": [
      "Enter side 1 : 5\n",
      "Enter side 2 : 3\n",
      "Enter side 3 : 4\n",
      "The area of the triangle is 6.00\n"
     ]
    }
   ],
   "source": [
    "tri = Triangle()\n",
    "tri.inputSides()\n",
    "tri.findArea()"
   ]
  },
  {
   "cell_type": "code",
   "execution_count": 42,
   "metadata": {},
   "outputs": [
    {
     "name": "stdout",
     "output_type": "stream",
     "text": [
      "True\n",
      "True\n",
      "True\n"
     ]
    }
   ],
   "source": [
    "#Predicate function\n",
    "\n",
    "# Output: True\n",
    "print(issubclass(list,object))\n",
    "\n",
    "# Output: True\n",
    "print(isinstance(5.5,object))\n",
    "\n",
    "# Output: True\n",
    "print(isinstance(\"Hello\",object))"
   ]
  },
  {
   "cell_type": "code",
   "execution_count": 43,
   "metadata": {},
   "outputs": [
    {
     "name": "stdout",
     "output_type": "stream",
     "text": [
      "[<class '__main__.M'>, <class '__main__.B'>, <class '__main__.A'>, <class '__main__.X'>, <class '__main__.Y'>, <class '__main__.Z'>, <class 'object'>]\n"
     ]
    }
   ],
   "source": [
    "class X: pass\n",
    "class Y: pass\n",
    "class Z: pass\n",
    "\n",
    "class A(X,Y): pass\n",
    "class B(Y,Z): pass\n",
    "\n",
    "class M(B,A,Z): pass\n",
    "\n",
    "# Output:\n",
    "# [<class '__main__.M'>, <class '__main__.B'>,\n",
    "# <class '__main__.A'>, <class '__main__.X'>,\n",
    "# <class '__main__.Y'>, <class '__main__.Z'>,\n",
    "# <class 'object'>]\n",
    "\n",
    "print(M.mro()) #왼쪽에서 오른쪽으로 진행하며, 직접상속받는 클래스 우선, 중복으로 상속되는 경우는 뒤로 미룸"
   ]
  },
  {
   "cell_type": "markdown",
   "metadata": {},
   "source": [
    "### dunder"
   ]
  },
  {
   "cell_type": "code",
   "execution_count": 55,
   "metadata": {},
   "outputs": [],
   "source": [
    "class Point:\n",
    "    def __init__(self, x = 0, y = 0):\n",
    "        self.x = x\n",
    "        self.y = y"
   ]
  },
  {
   "cell_type": "code",
   "execution_count": 56,
   "metadata": {},
   "outputs": [],
   "source": [
    "class Point:\n",
    "    def __init__(self, x = 0, y = 0):\n",
    "        self.x = x\n",
    "        self.y = y\n",
    "    \n",
    "    def __str__(self): #print시 호출\n",
    "        return \"({0},{1})\".format(self.x,self.y)\n",
    "    \n",
    "    def __repr__(self): #out 찍을때 호출\n",
    "        return \"({0},{1})\".format(self.x,self.y)"
   ]
  },
  {
   "cell_type": "code",
   "execution_count": 57,
   "metadata": {},
   "outputs": [],
   "source": [
    "class Point:\n",
    "    def __init__(self, x = 0, y = 0):\n",
    "        self.x = x\n",
    "        self.y = y\n",
    "    \n",
    "    def __str__(self):\n",
    "        return \"({0},{1})\".format(self.x,self.y)\n",
    "    \n",
    "    def __add__(self,other):\n",
    "        x = self.x + other.x\n",
    "        y = self.y + other.y\n",
    "        return Point(x,y)"
   ]
  },
  {
   "cell_type": "code",
   "execution_count": 58,
   "metadata": {},
   "outputs": [],
   "source": [
    "class Point:\n",
    "    def __init__(self, x = 0, y = 0):\n",
    "        self.x = x\n",
    "        self.y = y\n",
    "    \n",
    "    def __str__(self):\n",
    "        return \"({0},{1})\".format(self.x,self.y)\n",
    "    \n",
    "    def __lt__(self,other):\n",
    "        self_mag = (self.x ** 2) + (self.y ** 2)\n",
    "        other_mag = (other.x ** 2) + (other.y ** 2)\n",
    "        return self_mag < other_mag"
   ]
  },
  {
   "cell_type": "code",
   "execution_count": 102,
   "metadata": {},
   "outputs": [],
   "source": [
    "class MyInt(int):\n",
    "    def __init__(self,num):\n",
    "        self.num = num\n",
    "    def __add__(self,other): #연산자 오버로딩\n",
    "        super().__add__(other)\n",
    "        print('This is add')\n",
    "        return self.num + other\n",
    "    def __sub__(self,other):\n",
    "        super().__sub__(other)\n",
    "        print('This is sub')\n",
    "        return self.num - other"
   ]
  },
  {
   "cell_type": "code",
   "execution_count": 105,
   "metadata": {},
   "outputs": [],
   "source": [
    "a = MyInt(5)\n",
    "b = MyInt(3)"
   ]
  },
  {
   "cell_type": "code",
   "execution_count": 106,
   "metadata": {},
   "outputs": [
    {
     "name": "stdout",
     "output_type": "stream",
     "text": [
      "This is add\n"
     ]
    },
    {
     "data": {
      "text/plain": [
       "8"
      ]
     },
     "execution_count": 106,
     "metadata": {},
     "output_type": "execute_result"
    }
   ],
   "source": [
    "a.__add__(b)"
   ]
  },
  {
   "cell_type": "code",
   "execution_count": 114,
   "metadata": {},
   "outputs": [
    {
     "name": "stdout",
     "output_type": "stream",
     "text": [
      "This is add\n"
     ]
    },
    {
     "data": {
      "text/plain": [
       "8"
      ]
     },
     "execution_count": 114,
     "metadata": {},
     "output_type": "execute_result"
    }
   ],
   "source": [
    "a+b"
   ]
  },
  {
   "cell_type": "markdown",
   "metadata": {},
   "source": [
    "### Standard Libraries"
   ]
  },
  {
   "cell_type": "code",
   "execution_count": 116,
   "metadata": {},
   "outputs": [
    {
     "name": "stdout",
     "output_type": "stream",
     "text": [
      "Writing test.py\n"
     ]
    }
   ],
   "source": [
    "%%writefile test.py\n",
    "aa = 0\n",
    "_aa = 1\n",
    "__aa = 2"
   ]
  },
  {
   "cell_type": "code",
   "execution_count": 117,
   "metadata": {},
   "outputs": [],
   "source": [
    "import test"
   ]
  },
  {
   "cell_type": "code",
   "execution_count": 121,
   "metadata": {},
   "outputs": [
    {
     "data": {
      "text/plain": [
       "0"
      ]
     },
     "execution_count": 121,
     "metadata": {},
     "output_type": "execute_result"
    }
   ],
   "source": [
    "test.aa # import에 대한 접근제한존재,%whos에 표현안됨"
   ]
  },
  {
   "cell_type": "code",
   "execution_count": 126,
   "metadata": {},
   "outputs": [
    {
     "data": {
      "text/plain": [
       "1"
      ]
     },
     "execution_count": 126,
     "metadata": {},
     "output_type": "execute_result"
    }
   ],
   "source": [
    "test._aa #그러나 사실 접근가능"
   ]
  },
  {
   "cell_type": "code",
   "execution_count": 123,
   "metadata": {},
   "outputs": [
    {
     "data": {
      "text/plain": [
       "['',\n",
       " 'C:\\\\Users\\\\Chankoo\\\\Anaconda3\\\\python36.zip',\n",
       " 'C:\\\\Users\\\\Chankoo\\\\Anaconda3\\\\DLLs',\n",
       " 'C:\\\\Users\\\\Chankoo\\\\Anaconda3\\\\lib',\n",
       " 'C:\\\\Users\\\\Chankoo\\\\Anaconda3',\n",
       " 'C:\\\\Users\\\\Chankoo\\\\Anaconda3\\\\lib\\\\site-packages',\n",
       " 'C:\\\\Users\\\\Chankoo\\\\Anaconda3\\\\lib\\\\site-packages\\\\win32',\n",
       " 'C:\\\\Users\\\\Chankoo\\\\Anaconda3\\\\lib\\\\site-packages\\\\win32\\\\lib',\n",
       " 'C:\\\\Users\\\\Chankoo\\\\Anaconda3\\\\lib\\\\site-packages\\\\Pythonwin',\n",
       " 'C:\\\\Users\\\\Chankoo\\\\Anaconda3\\\\lib\\\\site-packages\\\\IPython\\\\extensions',\n",
       " 'C:\\\\Users\\\\Chankoo\\\\.ipython']"
      ]
     },
     "execution_count": 123,
     "metadata": {},
     "output_type": "execute_result"
    }
   ],
   "source": [
    "import sys\n",
    "sys.path #  ''은 현재위치 의미"
   ]
  },
  {
   "cell_type": "code",
   "execution_count": 127,
   "metadata": {},
   "outputs": [
    {
     "data": {
      "text/plain": [
       "'test'"
      ]
     },
     "execution_count": 127,
     "metadata": {},
     "output_type": "execute_result"
    }
   ],
   "source": [
    "test.__name__"
   ]
  },
  {
   "cell_type": "code",
   "execution_count": 128,
   "metadata": {},
   "outputs": [
    {
     "data": {
      "text/plain": [
       "'C:\\\\Users\\\\Chankoo\\\\Desktop\\\\빅데이터청년인재\\\\test.py'"
      ]
     },
     "execution_count": 128,
     "metadata": {},
     "output_type": "execute_result"
    }
   ],
   "source": [
    "test.__file__"
   ]
  },
  {
   "cell_type": "code",
   "execution_count": null,
   "metadata": {},
   "outputs": [],
   "source": []
  }
 ],
 "metadata": {
  "kernelspec": {
   "display_name": "Python 3",
   "language": "python",
   "name": "python3"
  },
  "language_info": {
   "codemirror_mode": {
    "name": "ipython",
    "version": 3
   },
   "file_extension": ".py",
   "mimetype": "text/x-python",
   "name": "python",
   "nbconvert_exporter": "python",
   "pygments_lexer": "ipython3",
   "version": "3.6.4"
  }
 },
 "nbformat": 4,
 "nbformat_minor": 2
}
