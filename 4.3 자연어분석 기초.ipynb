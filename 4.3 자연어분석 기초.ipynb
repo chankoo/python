{
 "cells": [
  {
   "cell_type": "markdown",
   "metadata": {},
   "source": [
    "### 자연어 분석\n",
    "\n",
    "- 형태소 분석\n",
    "- 구문 분석\n",
    "- 의미 분석\n",
    "- 담화 분석 : 최종적 포맷, 자연어를 기계에 인식, 현재 구현엔 한계\n",
    "\n",
    "담화는 문장과 문장의 관계로 이루어지고, 문장은 어절로 구성, 어절은 단어로 구성된다. 단어는 다시 형태소로 쪼갤 수 있으며 의미를 가진 최소 문법 단위가 된다."
   ]
  },
  {
   "cell_type": "markdown",
   "metadata": {},
   "source": [
    "#### 응용 기술\n",
    "- 검색엔진: 단어의 가중치 기반으로 해서 사용자 의도에 따른 결과 리턴\n",
    "- 온라인 광고: 검색기록 기반 키워드 도출해 광고와 연계, 키워드 광고시장 생각보다 규모 크다\n",
    "- 자동번역: 딥러닝 통해 문장을 통째로 번역하는 추세(형태소분석없이)\n",
    "- 감성분석: sns 데이터 통해 실시간 여론조사의 의미\n",
    "- 음성인식\n",
    "- 맞춤법 검사"
   ]
  },
  {
   "cell_type": "markdown",
   "metadata": {},
   "source": [
    "![77](https://user-images.githubusercontent.com/38183218/42988127-72118de2-8c36-11e8-926a-c52ba889a241.PNG)\n",
    "![78](https://user-images.githubusercontent.com/38183218/42988129-723cd592-8c36-11e8-83af-c981ebfb02c2.PNG)"
   ]
  },
  {
   "cell_type": "markdown",
   "metadata": {},
   "source": [
    "### KoNLPy"
   ]
  },
  {
   "cell_type": "code",
   "execution_count": 4,
   "metadata": {},
   "outputs": [],
   "source": [
    "import konlpy\n",
    "from konlpy.corpus import kolaw, kobill\n",
    "from konlpy.tag import Hannanum, Kkma, Twitter\n",
    "from matplotlib import pyplot as plt"
   ]
  },
  {
   "cell_type": "code",
   "execution_count": 5,
   "metadata": {},
   "outputs": [
    {
     "data": {
      "text/plain": [
       "['constitution.txt']"
      ]
     },
     "execution_count": 5,
     "metadata": {},
     "output_type": "execute_result"
    }
   ],
   "source": [
    "kolaw.fileids()"
   ]
  },
  {
   "cell_type": "code",
   "execution_count": 14,
   "metadata": {},
   "outputs": [],
   "source": [
    "law_corpus = kolaw.open('constitution.txt').read()"
   ]
  },
  {
   "cell_type": "code",
   "execution_count": 15,
   "metadata": {},
   "outputs": [
    {
     "data": {
      "text/plain": [
       "357"
      ]
     },
     "execution_count": 15,
     "metadata": {},
     "output_type": "execute_result"
    }
   ],
   "source": [
    "law_corpus = law_corpus.split('\\n')\n",
    "len(law_corpus)"
   ]
  },
  {
   "cell_type": "code",
   "execution_count": 16,
   "metadata": {},
   "outputs": [
    {
     "name": "stdout",
     "output_type": "stream",
     "text": [
      "['대한민국헌법', '', '유구한 역사와 전통에 빛나는 우리 대한국민은 3·1운동으로 건립된 대한민국임시정부의 법통과 불의에 항거한 4·19민주이념을 계승하고, 조국의 민주개혁과 평화적 통일의 사명에 입각하여 정의·인도와 동포애로써 민족의 단결을 공고히 하고, 모든 사회적 폐습과 불의를 타파하며, 자율과 조화를 바탕으로 자유민주적 기본질서를 더욱 확고히 하여 정치·경제·사회·문화의 모든 영역에 있어서 각인의 기회를 균등히 하고, 능력을 최고도로 발휘하게 하며, 자유와 권리에 따르는 책임과 의무를 완수하게 하여, 안으로는 국민생활의 균등한 향상을 기하고 밖으로는 항구적인 세계평화와 인류공영에 이바지함으로써 우리들과 우리들의 자손의 안전과 자유와 행복을 영원히 확보할 것을 다짐하면서 1948년 7월 12일에 제정되고 8차에 걸쳐 개정된 헌법을 이제 국회의 의결을 거쳐 국민투표에 의하여 개정한다.']\n"
     ]
    }
   ],
   "source": [
    "print(law_corpus[:3])"
   ]
  },
  {
   "cell_type": "code",
   "execution_count": null,
   "metadata": {},
   "outputs": [],
   "source": []
  },
  {
   "cell_type": "code",
   "execution_count": 9,
   "metadata": {},
   "outputs": [],
   "source": [
    "h = Hannanum()"
   ]
  },
  {
   "cell_type": "code",
   "execution_count": 17,
   "metadata": {},
   "outputs": [],
   "source": [
    "law_text = law_corpus[2]"
   ]
  },
  {
   "cell_type": "code",
   "execution_count": 18,
   "metadata": {},
   "outputs": [
    {
     "data": {
      "text/plain": [
       "{'E': '어미',\n",
       " 'EC': '연결 어미',\n",
       " 'EF': '종결 어미',\n",
       " 'EP': '선어말어미',\n",
       " 'ET': '전성 어미',\n",
       " 'F': '외국어',\n",
       " 'I': '독립언',\n",
       " 'II': '감탄사',\n",
       " 'J': '관계언',\n",
       " 'JC': '격조사',\n",
       " 'JP': '서술격 조사',\n",
       " 'JX': '보조사',\n",
       " 'M': '수식언',\n",
       " 'MA': '부사',\n",
       " 'MM': '관형사',\n",
       " 'N': '체언',\n",
       " 'NB': '의존명사',\n",
       " 'NC': '보통명사',\n",
       " 'NN': '수사',\n",
       " 'NP': '대명사',\n",
       " 'NQ': '고유명사',\n",
       " 'P': '용언',\n",
       " 'PA': '형용사',\n",
       " 'PV': '동사',\n",
       " 'PX': '보조 용언',\n",
       " 'S': '기호',\n",
       " 'X': '접사',\n",
       " 'XP': '접두사',\n",
       " 'XS': '접미사'}"
      ]
     },
     "execution_count": 18,
     "metadata": {},
     "output_type": "execute_result"
    }
   ],
   "source": [
    "h.tagset #pos tagging에 사용한 tag set"
   ]
  },
  {
   "cell_type": "code",
   "execution_count": 19,
   "metadata": {},
   "outputs": [
    {
     "data": {
      "text/plain": [
       "[[[('유구', 'ncps'), ('한', 'ncn')],\n",
       "  [('유구', 'ncps'), ('하', 'xsms'), ('ㄴ', 'etm')]],\n",
       " [[('역사', 'ncn'), ('와', 'jcj')], [('역사', 'ncn'), ('와', 'jct')]],\n",
       " [[('전통', 'ncn'), ('에', 'jca')],\n",
       "  [('전', 'xp'), ('통', 'ncn'), ('에', 'jca')],\n",
       "  [('절', 'pvg'), ('ㄴ', 'etm'), ('통', 'nbn'), ('에', 'jca')]],\n",
       " [[('빛나', 'pvg'), ('는', 'etm')],\n",
       "  [('빛', 'ncn'), ('나', 'jxc'), ('는', 'jxc')],\n",
       "  [('빛나', 'pvg'), ('아', 'ecs'), ('는', 'jxc')],\n",
       "  [('빛나', 'pvg'), ('아', 'ef'), ('는', 'etm')]],\n",
       " [[('우리', 'npp')]]]"
      ]
     },
     "execution_count": 19,
     "metadata": {},
     "output_type": "execute_result"
    }
   ],
   "source": [
    "h.analyze(law_text)[:5] #어절에 대한 형태소 분석의 후보군을 제시"
   ]
  },
  {
   "cell_type": "code",
   "execution_count": 20,
   "metadata": {},
   "outputs": [],
   "source": [
    "law_textSplt = law_text.split()"
   ]
  },
  {
   "cell_type": "code",
   "execution_count": 21,
   "metadata": {},
   "outputs": [],
   "source": [
    "candidates = h.analyze(law_text)"
   ]
  },
  {
   "cell_type": "code",
   "execution_count": 22,
   "metadata": {},
   "outputs": [
    {
     "name": "stdout",
     "output_type": "stream",
     "text": [
      "유구한\n",
      "     [('유구', 'ncps'), ('한', 'ncn')]\n",
      "     [('유구', 'ncps'), ('하', 'xsms'), ('ㄴ', 'etm')]\n",
      "역사와\n",
      "     [('역사', 'ncn'), ('와', 'jcj')]\n",
      "     [('역사', 'ncn'), ('와', 'jct')]\n",
      "전통에\n",
      "     [('전통', 'ncn'), ('에', 'jca')]\n",
      "     [('전', 'xp'), ('통', 'ncn'), ('에', 'jca')]\n",
      "     [('절', 'pvg'), ('ㄴ', 'etm'), ('통', 'nbn'), ('에', 'jca')]\n",
      "빛나는\n",
      "     [('빛나', 'pvg'), ('는', 'etm')]\n",
      "     [('빛', 'ncn'), ('나', 'jxc'), ('는', 'jxc')]\n",
      "     [('빛나', 'pvg'), ('아', 'ecs'), ('는', 'jxc')]\n",
      "     [('빛나', 'pvg'), ('아', 'ef'), ('는', 'etm')]\n",
      "우리\n",
      "     [('우리', 'npp')]\n"
     ]
    }
   ],
   "source": [
    "#어절에 맞는 candidates를 출력해보자\n",
    "for i,t in enumerate(law_textSplt[:5]):\n",
    "        print(t)\n",
    "        for c in candidates[i]:\n",
    "            print(\"    \",c)\n",
    "            "
   ]
  },
  {
   "cell_type": "code",
   "execution_count": 23,
   "metadata": {},
   "outputs": [
    {
     "data": {
      "text/plain": [
       "[('유구', 'N'),\n",
       " ('하', 'X'),\n",
       " ('ㄴ', 'E'),\n",
       " ('역사', 'N'),\n",
       " ('와', 'J'),\n",
       " ('전통', 'N'),\n",
       " ('에', 'J'),\n",
       " ('빛', 'N'),\n",
       " ('나는', 'J'),\n",
       " ('우리', 'N')]"
      ]
     },
     "execution_count": 23,
     "metadata": {},
     "output_type": "execute_result"
    }
   ],
   "source": [
    "h.pos(law_text)[:10] #결정된 pos tag"
   ]
  },
  {
   "cell_type": "code",
   "execution_count": 24,
   "metadata": {},
   "outputs": [
    {
     "data": {
      "text/plain": [
       "['유구', '역사', '전통', '빛', '우리', '대한국민', '3·1운동', '건립', '대한민국임시정부', '법통']"
      ]
     },
     "execution_count": 24,
     "metadata": {},
     "output_type": "execute_result"
    }
   ],
   "source": [
    "h.nouns(law_text)[:10] #키워드로 주로 명사"
   ]
  },
  {
   "cell_type": "code",
   "execution_count": null,
   "metadata": {},
   "outputs": [],
   "source": []
  },
  {
   "cell_type": "code",
   "execution_count": 25,
   "metadata": {},
   "outputs": [],
   "source": [
    "k = Kkma()"
   ]
  },
  {
   "cell_type": "code",
   "execution_count": 26,
   "metadata": {},
   "outputs": [
    {
     "data": {
      "text/plain": [
       "['유구한 역사와 전통에 빛나는 우리 대한 국민은 3·1 운동으로 건립된 대한민국 임시정부의 법통과 불의에 항거한 4·19 민주이념을 계승하고, 조국의 민주개혁과 평화적 통일의 사명에 입각하여 정의· 인도와 동포애로써 민족의 단결을 공고히 하고, 모든 사회적 폐습과 불의를 타파하며, 자율과 조화를 바탕으로 자유 민주적 기본질서를 더욱 확고히 하여 정치· 경제· 사회· 문화의 모든 영역에 있어서 각인의 기회를 균등 히 하고, 능력을 최고도로 발휘하게 하며, 자유와 권리에 따르는 책임과 의무를 완수하게 하여, 안으로는 국민생활의 균등한 향상을 기하고 밖으로는 항구적인 세계평화와 인류 공영에 이바지함으로써 우리들과 우리들의 자손의 안전과 자유와 행복을 영원히 확보할 것을 다짐하면서 1948년 7월 12일에 제정되고 8차에 걸쳐 개정된 헌법을 이제 국회의 의결을 거쳐 국민투표에 의하여 개정한다.',\n",
       " '안녕하세요.',\n",
       " '반갑습니다.']"
      ]
     },
     "execution_count": 26,
     "metadata": {},
     "output_type": "execute_result"
    }
   ],
   "source": [
    "k.sentences(law_text+\"안녕하세요.\"+\"반갑습니다.\") #문장단위로 잘라줌"
   ]
  },
  {
   "cell_type": "code",
   "execution_count": 27,
   "metadata": {},
   "outputs": [
    {
     "data": {
      "text/plain": [
       "['유구', '역사', '전통', '우리', '국민', '3', '1', '1운동', '운동', '건립']"
      ]
     },
     "execution_count": 27,
     "metadata": {},
     "output_type": "execute_result"
    }
   ],
   "source": [
    "k.nouns(law_text)[:10]"
   ]
  },
  {
   "cell_type": "code",
   "execution_count": null,
   "metadata": {},
   "outputs": [],
   "source": []
  },
  {
   "cell_type": "code",
   "execution_count": 28,
   "metadata": {},
   "outputs": [],
   "source": [
    "t = Twitter()"
   ]
  },
  {
   "cell_type": "code",
   "execution_count": 29,
   "metadata": {},
   "outputs": [
    {
     "data": {
      "text/plain": [
       "{'Adjective': '형용사',\n",
       " 'Adverb': '부사',\n",
       " 'Alpha': '알파벳',\n",
       " 'Conjunction': '접속사',\n",
       " 'Determiner': '관형사',\n",
       " 'Eomi': '어미',\n",
       " 'Exclamation': '감탄사',\n",
       " 'Foreign': '외국어, 한자 및 기타기호',\n",
       " 'Hashtag': '트위터 해쉬태그',\n",
       " 'Josa': '조사',\n",
       " 'KoreanParticle': '(ex: ㅋㅋ)',\n",
       " 'Noun': '명사',\n",
       " 'Number': '숫자',\n",
       " 'PreEomi': '선어말어미',\n",
       " 'Punctuation': '구두점',\n",
       " 'ScreenName': '트위터 아이디',\n",
       " 'Suffix': '접미사',\n",
       " 'Unknown': '미등록어',\n",
       " 'Verb': '동사'}"
      ]
     },
     "execution_count": 29,
     "metadata": {},
     "output_type": "execute_result"
    }
   ],
   "source": [
    "t.tagset"
   ]
  },
  {
   "cell_type": "code",
   "execution_count": 30,
   "metadata": {},
   "outputs": [
    {
     "data": {
      "text/plain": [
       "[('유구', 'Noun'),\n",
       " ('한', 'Josa'),\n",
       " ('역사', 'Noun'),\n",
       " ('와', 'Josa'),\n",
       " ('전통', 'Noun'),\n",
       " ('에', 'Josa'),\n",
       " ('빛나는', 'Verb'),\n",
       " ('우리', 'Noun'),\n",
       " ('대한', 'Noun'),\n",
       " ('국민', 'Noun')]"
      ]
     },
     "execution_count": 30,
     "metadata": {},
     "output_type": "execute_result"
    }
   ],
   "source": [
    "t.pos(law_text)[:10]"
   ]
  },
  {
   "cell_type": "markdown",
   "metadata": {},
   "source": [
    "#### Heap's law"
   ]
  },
  {
   "cell_type": "code",
   "execution_count": 31,
   "metadata": {},
   "outputs": [
    {
     "data": {
      "text/plain": [
       "3779"
      ]
     },
     "execution_count": 31,
     "metadata": {},
     "output_type": "execute_result"
    }
   ],
   "source": [
    "law_corpusStr = ''.join(law_corpus)\n",
    "law_nounList = t.nouns(law_corpusStr)\n",
    "len(law_nounList)"
   ]
  },
  {
   "cell_type": "code",
   "execution_count": 33,
   "metadata": {},
   "outputs": [],
   "source": [
    "global_unique = []; global_unique_count=[]"
   ]
  },
  {
   "cell_type": "code",
   "execution_count": 34,
   "metadata": {},
   "outputs": [],
   "source": [
    "for row in law_corpus:\n",
    "    terms = t.nouns(row)\n",
    "    unique = set(terms)\n",
    "    if len(unique)>0:\n",
    "        global_unique += list(unique)\n",
    "    global_unique = list(set(global_unique))\n",
    "    global_unique_count.append(len(global_unique)) "
   ]
  },
  {
   "cell_type": "code",
   "execution_count": 35,
   "metadata": {},
   "outputs": [
    {
     "data": {
      "text/plain": [
       "[<matplotlib.lines.Line2D at 0x1e1a0832c88>]"
      ]
     },
     "execution_count": 35,
     "metadata": {},
     "output_type": "execute_result"
    },
    {
     "data": {
      "image/png": "[encoded data removed]",
      "text/plain": [
       "<matplotlib.figure.Figure at 0x1e1a092c160>"
      ]
     },
     "metadata": {},
     "output_type": "display_data"
    }
   ],
   "source": [
    "plt.plot(global_unique_count)"
   ]
  },
  {
   "cell_type": "markdown",
   "metadata": {},
   "source": [
    "### NLTK: Natural Language Toolkit"
   ]
  },
  {
   "cell_type": "code",
   "execution_count": 39,
   "metadata": {},
   "outputs": [],
   "source": [
    "import nltk\n",
    "from nltk.corpus import gutenberg\n",
    "from nltk.tokenize import sent_tokenize, word_tokenize, regexp_tokenize\n",
    "from matplotlib import font_manager, rc"
   ]
  },
  {
   "cell_type": "code",
   "execution_count": 92,
   "metadata": {},
   "outputs": [
    {
     "data": {
      "text/plain": [
       "['austen-emma.txt',\n",
       " 'austen-persuasion.txt',\n",
       " 'austen-sense.txt',\n",
       " 'bible-kjv.txt',\n",
       " 'blake-poems.txt',\n",
       " 'bryant-stories.txt',\n",
       " 'burgess-busterbrown.txt',\n",
       " 'carroll-alice.txt',\n",
       " 'chesterton-ball.txt',\n",
       " 'chesterton-brown.txt',\n",
       " 'chesterton-thursday.txt',\n",
       " 'edgeworth-parents.txt',\n",
       " 'melville-moby_dick.txt',\n",
       " 'milton-paradise.txt',\n",
       " 'shakespeare-caesar.txt',\n",
       " 'shakespeare-hamlet.txt',\n",
       " 'shakespeare-macbeth.txt',\n",
       " 'whitman-leaves.txt']"
      ]
     },
     "execution_count": 92,
     "metadata": {},
     "output_type": "execute_result"
    }
   ],
   "source": [
    "files = gutenberg.fileids()\n",
    "files"
   ]
  },
  {
   "cell_type": "code",
   "execution_count": 40,
   "metadata": {},
   "outputs": [
    {
     "data": {
      "text/plain": [
       "\"[Emma by Jane Austen 1816]\\n\\nVOLUME I\\n\\nCHAPTER I\\n\\n\\nEmma Woodhouse, handsome, clever, and rich, with a comfortable home\\nand happy disposition, seemed to unite some of the best blessings\\nof existence; and had lived nearly twenty-one years in the world\\nwith very little to distress or vex her.\\n\\nShe was the youngest of the two daughters of a most affectionate,\\nindulgent father; and had, in consequence of her sister's marriage,\\nbeen mistress of his house from a very early period.  Her mother\\nhad died too long ago for her to have more than an indistinct\\nremembrance of her caresses; and her place had been supplied\\nby an excellent woman as governess, who had fallen little short\\nof a mother in affection.\\n\\nSixteen years had Miss Taylor been in Mr. Woodhouse's family,\\nless as a governess than a friend, very fond of both daughters,\\nbut particularly of Emma.  Between _them_ it was more the intimacy\\nof sisters.  Even before Miss Taylor had ceased to hold the nominal\\noffice of governess, the mildness o\""
      ]
     },
     "execution_count": 40,
     "metadata": {},
     "output_type": "execute_result"
    }
   ],
   "source": [
    "emma = gutenberg.open(\"austen-emma.txt\").read()\n",
    "emma[:1000]"
   ]
  },
  {
   "cell_type": "code",
   "execution_count": 41,
   "metadata": {},
   "outputs": [],
   "source": [
    "emma_sents = sent_tokenize(emma) #문장단위로 토큰화"
   ]
  },
  {
   "cell_type": "code",
   "execution_count": 42,
   "metadata": {},
   "outputs": [
    {
     "data": {
      "text/plain": [
       "7493"
      ]
     },
     "execution_count": 42,
     "metadata": {},
     "output_type": "execute_result"
    }
   ],
   "source": [
    "len(emma_sents)"
   ]
  },
  {
   "cell_type": "code",
   "execution_count": 43,
   "metadata": {},
   "outputs": [
    {
     "name": "stdout",
     "output_type": "stream",
     "text": [
      "She was the youngest of the two daughters of a most affectionate,\n",
      "indulgent father; and had, in consequence of her sister's marriage,\n",
      "been mistress of his house from a very early period.\n"
     ]
    }
   ],
   "source": [
    "print(emma_sents[1])"
   ]
  },
  {
   "cell_type": "code",
   "execution_count": 44,
   "metadata": {},
   "outputs": [
    {
     "data": {
      "text/plain": [
       "['She',\n",
       " 'was',\n",
       " 'the',\n",
       " 'youngest',\n",
       " 'of',\n",
       " 'the',\n",
       " 'two',\n",
       " 'daughters',\n",
       " 'of',\n",
       " 'a',\n",
       " 'most',\n",
       " 'affectionate',\n",
       " ',',\n",
       " 'indulgent',\n",
       " 'father',\n",
       " ';',\n",
       " 'and',\n",
       " 'had',\n",
       " ',',\n",
       " 'in',\n",
       " 'consequence',\n",
       " 'of',\n",
       " 'her',\n",
       " 'sister',\n",
       " \"'s\",\n",
       " 'marriage',\n",
       " ',',\n",
       " 'been',\n",
       " 'mistress',\n",
       " 'of',\n",
       " 'his',\n",
       " 'house',\n",
       " 'from',\n",
       " 'a',\n",
       " 'very',\n",
       " 'early',\n",
       " 'period',\n",
       " '.']"
      ]
     },
     "execution_count": 44,
     "metadata": {},
     "output_type": "execute_result"
    }
   ],
   "source": [
    "emma_words = word_tokenize(emma_sents[1]) #단어단위 토큰화\n",
    "emma_words"
   ]
  },
  {
   "cell_type": "code",
   "execution_count": 45,
   "metadata": {},
   "outputs": [],
   "source": [
    "p = r\"([a-zA-Z0-9]+)+\" #한글 단어 처리하고싶으면 [가-히]"
   ]
  },
  {
   "cell_type": "code",
   "execution_count": 46,
   "metadata": {},
   "outputs": [
    {
     "data": {
      "text/plain": [
       "['She',\n",
       " 'was',\n",
       " 'the',\n",
       " 'youngest',\n",
       " 'of',\n",
       " 'the',\n",
       " 'two',\n",
       " 'daughters',\n",
       " 'of',\n",
       " 'a',\n",
       " 'most',\n",
       " 'affectionate',\n",
       " 'indulgent',\n",
       " 'father',\n",
       " 'and',\n",
       " 'had',\n",
       " 'in',\n",
       " 'consequence',\n",
       " 'of',\n",
       " 'her',\n",
       " 'sister',\n",
       " 's',\n",
       " 'marriage',\n",
       " 'been',\n",
       " 'mistress',\n",
       " 'of',\n",
       " 'his',\n",
       " 'house',\n",
       " 'from',\n",
       " 'a',\n",
       " 'very',\n",
       " 'early',\n",
       " 'period']"
      ]
     },
     "execution_count": 46,
     "metadata": {},
     "output_type": "execute_result"
    }
   ],
   "source": [
    "emma_retokens = regexp_tokenize(emma_sents[1], p) #정규식을 이용한 단어 토큰화\n",
    "emma_retokens"
   ]
  },
  {
   "cell_type": "code",
   "execution_count": 47,
   "metadata": {},
   "outputs": [],
   "source": [
    "emma_text = nltk.Text(emma_retokens)"
   ]
  },
  {
   "cell_type": "code",
   "execution_count": 48,
   "metadata": {},
   "outputs": [
    {
     "data": {
      "text/plain": [
       "FreqDist({'She': 1,\n",
       "          'a': 2,\n",
       "          'affectionate': 1,\n",
       "          'and': 1,\n",
       "          'been': 1,\n",
       "          'consequence': 1,\n",
       "          'daughters': 1,\n",
       "          'early': 1,\n",
       "          'father': 1,\n",
       "          'from': 1,\n",
       "          'had': 1,\n",
       "          'her': 1,\n",
       "          'his': 1,\n",
       "          'house': 1,\n",
       "          'in': 1,\n",
       "          'indulgent': 1,\n",
       "          'marriage': 1,\n",
       "          'mistress': 1,\n",
       "          'most': 1,\n",
       "          'of': 4,\n",
       "          'period': 1,\n",
       "          's': 1,\n",
       "          'sister': 1,\n",
       "          'the': 2,\n",
       "          'two': 1,\n",
       "          'very': 1,\n",
       "          'was': 1,\n",
       "          'youngest': 1})"
      ]
     },
     "execution_count": 48,
     "metadata": {},
     "output_type": "execute_result"
    }
   ],
   "source": [
    "emma_text.vocab() #freq dic 을 반환"
   ]
  },
  {
   "cell_type": "markdown",
   "metadata": {},
   "source": [
    "### 한글에 nltk적용"
   ]
  },
  {
   "cell_type": "code",
   "execution_count": 49,
   "metadata": {},
   "outputs": [],
   "source": [
    "law_corpus = kolaw.open(kolaw.fileids()[0]).read()"
   ]
  },
  {
   "cell_type": "code",
   "execution_count": 50,
   "metadata": {},
   "outputs": [],
   "source": [
    "kotokens = k.morphs(law_corpus) #tag 없이 형태소 구분 결과만 가져오는 morphs"
   ]
  },
  {
   "cell_type": "code",
   "execution_count": 51,
   "metadata": {},
   "outputs": [
    {
     "data": {
      "text/plain": [
       "10053"
      ]
     },
     "execution_count": 51,
     "metadata": {},
     "output_type": "execute_result"
    }
   ],
   "source": [
    "len(kotokens)"
   ]
  },
  {
   "cell_type": "code",
   "execution_count": 52,
   "metadata": {},
   "outputs": [],
   "source": [
    "kotext = nltk.Text(kotokens) #한글 토큰을 nltk로 분석하겠다"
   ]
  },
  {
   "cell_type": "code",
   "execution_count": 54,
   "metadata": {},
   "outputs": [
    {
     "data": {
      "text/plain": [
       "['의', '하', '.', '에', '는', 'ㄴ다', 'ㄴ', '을', '은', '이', '저', '여', '·', 'ㄹ', '조']"
      ]
     },
     "execution_count": 54,
     "metadata": {},
     "output_type": "execute_result"
    }
   ],
   "source": [
    "# 한글 단어의 freq를 뽑아준다\n",
    "# val인 freq 내림차순으로 정렬했다 15개만추출\n",
    "sorted(kotext.vocab(), key = lambda k: kotext.vocab()[k], reverse=True )[:15]\n"
   ]
  },
  {
   "cell_type": "code",
   "execution_count": 55,
   "metadata": {},
   "outputs": [],
   "source": [
    "#한글폰트 지정필요\n",
    "font = font_manager.FontProperties(fname=\"C:\\\\WINDOWS\\\\Fonts\\\\NanumSquareL.ttf\").get_name()"
   ]
  },
  {
   "cell_type": "code",
   "execution_count": 56,
   "metadata": {},
   "outputs": [],
   "source": [
    "rc(\"font\", family=font)"
   ]
  },
  {
   "cell_type": "code",
   "execution_count": 57,
   "metadata": {},
   "outputs": [
    {
     "data": {
      "text/plain": [
       "nltk.text.Text"
      ]
     },
     "execution_count": 57,
     "metadata": {},
     "output_type": "execute_result"
    }
   ],
   "source": [
    "type(kotext) #nltk.text.Text 에 대해 plotting 가능"
   ]
  },
  {
   "cell_type": "code",
   "execution_count": 167,
   "metadata": {},
   "outputs": [
    {
     "data": {
      "image/png": "[encoded data removed]",
      "text/plain": [
       "<matplotlib.figure.Figure at 0x26c8ecef668>"
      ]
     },
     "metadata": {},
     "output_type": "display_data"
    }
   ],
   "source": [
    "kotext.plot() #counts 가 급격히 감소함을 알수있다"
   ]
  },
  {
   "cell_type": "code",
   "execution_count": 160,
   "metadata": {},
   "outputs": [
    {
     "data": {
      "text/plain": [
       "69"
      ]
     },
     "execution_count": 160,
     "metadata": {},
     "output_type": "execute_result"
    }
   ],
   "source": [
    "kotext.count('헌법')"
   ]
  },
  {
   "cell_type": "code",
   "execution_count": 170,
   "metadata": {},
   "outputs": [
    {
     "data": {
      "image/png": "[encoded data removed]",
      "text/plain": [
       "<matplotlib.figure.Figure at 0x26c8d4a1978>"
      ]
     },
     "metadata": {},
     "output_type": "display_data"
    }
   ],
   "source": [
    "# 단어의 분포\n",
    "kotext.dispersion_plot(['대한민국','헌법','자유','평등'])"
   ]
  },
  {
   "cell_type": "code",
   "execution_count": 175,
   "metadata": {},
   "outputs": [],
   "source": [
    "kobillList = [kobill.open(i).read() for i in kobill.fileids()]"
   ]
  },
  {
   "cell_type": "code",
   "execution_count": 183,
   "metadata": {},
   "outputs": [],
   "source": [
    "bill_nouns = [k.nouns(i) for i in kobillList]"
   ]
  },
  {
   "cell_type": "code",
   "execution_count": 180,
   "metadata": {},
   "outputs": [],
   "source": [
    "bill_nouns_total = []\n",
    "for el in bill_nouns:\n",
    "    bill_nouns_total.extend(el)"
   ]
  },
  {
   "cell_type": "code",
   "execution_count": 181,
   "metadata": {},
   "outputs": [],
   "source": [
    "bill_nouns_total_text = nltk.Text(bill_nouns_total)"
   ]
  },
  {
   "cell_type": "code",
   "execution_count": 182,
   "metadata": {},
   "outputs": [
    {
     "data": {
      "image/png": "[encoded data removed]",
      "text/plain": [
       "<matplotlib.figure.Figure at 0x26c90128eb8>"
      ]
     },
     "metadata": {},
     "output_type": "display_data"
    }
   ],
   "source": [
    "bill_nouns_total_text.plot()"
   ]
  },
  {
   "cell_type": "code",
   "execution_count": 185,
   "metadata": {},
   "outputs": [
    {
     "data": {
      "image/png": "[encoded data removed]",
      "text/plain": [
       "<matplotlib.figure.Figure at 0x26c900a2ba8>"
      ]
     },
     "metadata": {},
     "output_type": "display_data"
    }
   ],
   "source": [
    "bill_nouns_total_text.dispersion_plot(['국가','국민','국회'])"
   ]
  },
  {
   "cell_type": "code",
   "execution_count": 186,
   "metadata": {},
   "outputs": [
    {
     "name": "stdout",
     "output_type": "stream",
     "text": [
      "Displaying 3 of 3 matches:\n",
      " 과정 이수 실정 4 4년 년 저 간호 필요성 선진 각국 경향 고려 국민 의료 서비스 제공 대통령령 일정 기준 충족 간호과 과 수업 수업연한\n",
      " 제안이유 이유 현행법 입법 입법예고 예고 행정예고 정책 결정 과정 국민 여의 절차 규정 하나 실제 집행 평가 단계 근본 근본적인 적인 참여\n",
      "주요 주요내용 내용 특수 특수전 전 연합 연합훈련 연습 유사시 우리 국민 보호 보호임 임 파견규모 규모 150 150명 명 이내 파견지역 아\n"
     ]
    }
   ],
   "source": [
    "# 위치찾기\n",
    "bill_nouns_total_text.concordance(\"국민\",lines=10)"
   ]
  },
  {
   "cell_type": "code",
   "execution_count": 195,
   "metadata": {},
   "outputs": [
    {
     "name": "stdout",
     "output_type": "stream",
     "text": [
      "저 국가 법관 법원 대통령 대한민국 정부 조국 국회 공무원 재판 타인 판결 근로 여자 국회의원 법률안 법령 농지 운동\n"
     ]
    }
   ],
   "source": [
    "# 유사 분포 단어 찾기(의미정보아님) 함께 많이 나온 단어(공기정보)\n",
    "\n",
    "kotext.similar(\"국민\")"
   ]
  },
  {
   "cell_type": "code",
   "execution_count": null,
   "metadata": {},
   "outputs": [],
   "source": []
  },
  {
   "cell_type": "markdown",
   "metadata": {},
   "source": [
    "### Ngrams"
   ]
  },
  {
   "cell_type": "code",
   "execution_count": 1,
   "metadata": {},
   "outputs": [],
   "source": [
    "def ngrams(source, n=2):\n",
    "    tokens = source.split()\n",
    "    \n",
    "    result =[]\n",
    "    for i in range(len(tokens)):\n",
    "        grams.append(tokens[i:i+n])\n",
    "        \n",
    "    return result"
   ]
  },
  {
   "cell_type": "code",
   "execution_count": 66,
   "metadata": {},
   "outputs": [
    {
     "data": {
      "text/plain": [
       "[['가', '나'], ['나', '다'], ['다', '라'], ['라']]"
      ]
     },
     "execution_count": 66,
     "metadata": {},
     "output_type": "execute_result"
    }
   ],
   "source": [
    "ngrams(\"가 나 다 라\")"
   ]
  },
  {
   "cell_type": "markdown",
   "metadata": {},
   "source": [
    "### 불용어처리"
   ]
  },
  {
   "cell_type": "code",
   "execution_count": 58,
   "metadata": {},
   "outputs": [],
   "source": [
    "# 비속어 처리\n",
    "stopwords = ['시발','씨발'] "
   ]
  },
  {
   "cell_type": "code",
   "execution_count": null,
   "metadata": {},
   "outputs": [],
   "source": [
    "# 시~발련아^^ 어떻게 처리할것인가"
   ]
  },
  {
   "cell_type": "code",
   "execution_count": 70,
   "metadata": {},
   "outputs": [],
   "source": [
    "import re"
   ]
  },
  {
   "cell_type": "code",
   "execution_count": 74,
   "metadata": {},
   "outputs": [
    {
     "name": "stdout",
     "output_type": "stream",
     "text": [
      "제거 전:  시~발련아^^\n",
      "제거 후: 시발련아\n",
      "제거 전:  시1발련아^^\n",
      "제거 후: 시발련아\n",
      "제거 전:  시!@#%발@##련아^^\n",
      "제거 후: 시발련아\n"
     ]
    }
   ],
   "source": [
    "rowString = \"시~발련아^^ 시1발련아^^ 시!@#%발@##련아^^\"\n",
    "\n",
    "for src in rowString.split():\n",
    "    print(\"제거 전: \", src)\n",
    "    src = re.sub(\"[^ㄱ-ㅎ|ㅏ-ㅣ|가-힝]\",\"\",src)\n",
    "    print(\"제거 후:\",src)"
   ]
  },
  {
   "cell_type": "markdown",
   "metadata": {},
   "source": [
    "### 연어(Collocation)"
   ]
  },
  {
   "cell_type": "code",
   "execution_count": 88,
   "metadata": {},
   "outputs": [],
   "source": [
    "from nltk.corpus import gutenberg\n",
    "import nltk\n",
    "from nltk import regexp_tokenize, Text\n",
    "from konlpy.corpus import kolaw\n",
    "from konlpy.tag import Kkma\n",
    "from collections import Counter\n",
    "from wordcloud import WordCloud\n",
    "from PIL import Image\n",
    "import matplotlib.pyplot as plt\n",
    "%matplotlib inline\n",
    "import numpy as np"
   ]
  },
  {
   "cell_type": "code",
   "execution_count": 2,
   "metadata": {},
   "outputs": [],
   "source": [
    "emma = gutenberg.open('austen-emma.txt').read()"
   ]
  },
  {
   "cell_type": "code",
   "execution_count": 4,
   "metadata": {},
   "outputs": [],
   "source": [
    "pat = r\"([a-zA-Z0-9]+)+\""
   ]
  },
  {
   "cell_type": "code",
   "execution_count": 5,
   "metadata": {},
   "outputs": [],
   "source": [
    "tokens = regexp_tokenize(emma, pat)"
   ]
  },
  {
   "cell_type": "code",
   "execution_count": 6,
   "metadata": {},
   "outputs": [
    {
     "data": {
      "text/plain": [
       "161980"
      ]
     },
     "execution_count": 6,
     "metadata": {},
     "output_type": "execute_result"
    }
   ],
   "source": [
    "len(tokens)"
   ]
  },
  {
   "cell_type": "code",
   "execution_count": 9,
   "metadata": {},
   "outputs": [
    {
     "data": {
      "text/plain": [
       "nltk.text.Text"
      ]
     },
     "execution_count": 9,
     "metadata": {},
     "output_type": "execute_result"
    }
   ],
   "source": [
    "en = Text(tokens);type(en)"
   ]
  },
  {
   "cell_type": "code",
   "execution_count": 12,
   "metadata": {},
   "outputs": [
    {
     "data": {
      "text/plain": [
       "['constitution.txt']"
      ]
     },
     "execution_count": 12,
     "metadata": {},
     "output_type": "execute_result"
    }
   ],
   "source": [
    "kolaw.fileids()"
   ]
  },
  {
   "cell_type": "code",
   "execution_count": 13,
   "metadata": {},
   "outputs": [],
   "source": [
    "kocon = kolaw.open('constitution.txt').read()"
   ]
  },
  {
   "cell_type": "code",
   "execution_count": 15,
   "metadata": {},
   "outputs": [],
   "source": [
    "kkma = Kkma()"
   ]
  },
  {
   "cell_type": "code",
   "execution_count": 16,
   "metadata": {},
   "outputs": [],
   "source": [
    "kotokens = kkma.morphs(kocon)"
   ]
  },
  {
   "cell_type": "code",
   "execution_count": 17,
   "metadata": {},
   "outputs": [
    {
     "data": {
      "text/plain": [
       "10053"
      ]
     },
     "execution_count": 17,
     "metadata": {},
     "output_type": "execute_result"
    }
   ],
   "source": [
    "len(kotokens)"
   ]
  },
  {
   "cell_type": "code",
   "execution_count": 18,
   "metadata": {},
   "outputs": [],
   "source": [
    "ko = Text(kotokens)"
   ]
  },
  {
   "cell_type": "markdown",
   "metadata": {},
   "source": [
    "![116](https://user-images.githubusercontent.com/38183218/43496364-0157f0dc-9578-11e8-91e1-ccdfcc6ab1bd.PNG)"
   ]
  },
  {
   "cell_type": "code",
   "execution_count": 24,
   "metadata": {},
   "outputs": [],
   "source": [
    "sen1 = 'The little yellow dog barked at the Persian cat.'\n",
    "sen2 = \"내 친구는 잠을 많이 잔다.\""
   ]
  },
  {
   "cell_type": "code",
   "execution_count": 25,
   "metadata": {},
   "outputs": [
    {
     "data": {
      "text/plain": [
       "['The', 'little', 'yellow', 'dog', 'barked', 'at', 'the', 'Persian', 'cat.']"
      ]
     },
     "execution_count": 25,
     "metadata": {},
     "output_type": "execute_result"
    }
   ],
   "source": [
    "sen1.split()"
   ]
  },
  {
   "cell_type": "code",
   "execution_count": 29,
   "metadata": {},
   "outputs": [],
   "source": [
    "en_tags = nltk.pos_tag(sen1.split())"
   ]
  },
  {
   "cell_type": "code",
   "execution_count": 30,
   "metadata": {},
   "outputs": [],
   "source": [
    "ko_tags = kkma.pos(sen2)"
   ]
  },
  {
   "cell_type": "markdown",
   "metadata": {},
   "source": [
    "parser를 정의해서 쓸수있다"
   ]
  },
  {
   "cell_type": "code",
   "execution_count": 31,
   "metadata": {},
   "outputs": [],
   "source": [
    "enParser = nltk.RegexpParser(\"NP: {<DT>?<JJ>*<NN.*>*}\")"
   ]
  },
  {
   "cell_type": "code",
   "execution_count": 34,
   "metadata": {},
   "outputs": [],
   "source": [
    "tree = enParser.parse(en_tags)"
   ]
  },
  {
   "cell_type": "code",
   "execution_count": 35,
   "metadata": {},
   "outputs": [],
   "source": [
    "tree.draw()"
   ]
  },
  {
   "cell_type": "code",
   "execution_count": 40,
   "metadata": {},
   "outputs": [],
   "source": [
    "koParser = nltk.RegexpParser(\"\"\"\n",
    "    NP: {<N.*>*<N.*>?}\n",
    "    OP: {<N.*>*<JKO>*}\n",
    "    VP: {<M.*>*<V.*>*<E.*>*}\n",
    "\"\"\")"
   ]
  },
  {
   "cell_type": "markdown",
   "metadata": {},
   "source": [
    "트리구조로 돌려준다"
   ]
  },
  {
   "cell_type": "code",
   "execution_count": 41,
   "metadata": {},
   "outputs": [],
   "source": [
    "tree = koParser.parse(ko_tags)\n",
    "tree.draw()"
   ]
  },
  {
   "cell_type": "code",
   "execution_count": 49,
   "metadata": {},
   "outputs": [
    {
     "name": "stdout",
     "output_type": "stream",
     "text": [
      "[('많이', 'MAG'), ('자', 'VV'), ('ㄴ다', 'EFN')]\n"
     ]
    }
   ],
   "source": [
    "for subtree in tree.subtrees():\n",
    "    if subtree.label() == 'VP':\n",
    "        print(list(subtree))\n",
    "        "
   ]
  },
  {
   "cell_type": "markdown",
   "metadata": {},
   "source": [
    "nltk.collocations로 연어 바로 본다\n",
    "![117](https://user-images.githubusercontent.com/38183218/43497301-6f6c817e-957c-11e8-8fa5-483ce2207f73.PNG)"
   ]
  },
  {
   "cell_type": "code",
   "execution_count": 51,
   "metadata": {},
   "outputs": [
    {
     "name": "stdout",
     "output_type": "stream",
     "text": [
      "Mrs Weston; Frank Churchill; Miss Woodhouse; Mrs Elton; Miss Bates;\n",
      "Jane Fairfax; Miss Fairfax; every thing; young man; every body; great\n",
      "deal; Mrs Goddard; dare say; Maple Grove; John Knightley; Miss Taylor;\n",
      "Miss Smith; Robert Martin; Colonel Campbell; Box Hill\n"
     ]
    }
   ],
   "source": [
    "en.collocations()"
   ]
  },
  {
   "cell_type": "code",
   "execution_count": 53,
   "metadata": {},
   "outputs": [
    {
     "name": "stdout",
     "output_type": "stream",
     "text": [
      "정치적 중립성; 재판소 재판관; 대법원장 대법관; 대통령 국무총리; 그러하 아니하\n"
     ]
    }
   ],
   "source": [
    "ko.collocations(window_size=3)"
   ]
  },
  {
   "cell_type": "markdown",
   "metadata": {},
   "source": [
    "### PMI\n",
    "![118](https://user-images.githubusercontent.com/38183218/43497339-9f7f41ee-957c-11e8-854b-f65604319ff0.PNG)"
   ]
  },
  {
   "cell_type": "code",
   "execution_count": 54,
   "metadata": {},
   "outputs": [],
   "source": [
    "measures = nltk.collocations.BigramAssocMeasures()"
   ]
  },
  {
   "cell_type": "code",
   "execution_count": 60,
   "metadata": {},
   "outputs": [],
   "source": [
    "ko_tagged = kkma.pos(kocon)"
   ]
  },
  {
   "cell_type": "code",
   "execution_count": 61,
   "metadata": {},
   "outputs": [],
   "source": [
    "finder = nltk.collocations.BigramCollocationFinder.from_words(ko_tagged)"
   ]
  },
  {
   "cell_type": "code",
   "execution_count": 63,
   "metadata": {},
   "outputs": [
    {
     "name": "stdout",
     "output_type": "stream",
     "text": [
      "(('가부', 'NNG'), ('동수', 'NNG'))\n",
      "(('강제', 'NNG'), ('노역', 'NNG'))\n",
      "(('경자', 'NNG'), ('유전', 'NNG'))\n",
      "(('고', 'ECS'), ('채취', 'NNG'))\n",
      "(('공무', 'NNG'), ('담임', 'NNG'))\n",
      "(('공중', 'NNG'), ('도덕', 'NNG'))\n",
      "(('과반', 'NNG'), ('수가', 'NNG'))\n",
      "(('교전', 'NNG'), ('상태', 'NNG'))\n",
      "(('그러', 'VV'), ('나', 'ECE'))\n",
      "(('기본적', 'NNG'), ('인권', 'NNG'))\n"
     ]
    }
   ],
   "source": [
    "for row in finder.nbest(measures.pmi, 10): # collocation을 pmi 기준으로 찾겠다\n",
    "    print(row)"
   ]
  },
  {
   "cell_type": "code",
   "execution_count": 66,
   "metadata": {},
   "outputs": [],
   "source": [
    "tags = [t for (w, t) in ko_tagged]"
   ]
  },
  {
   "cell_type": "code",
   "execution_count": 67,
   "metadata": {},
   "outputs": [],
   "source": [
    "words = [w for (w, t) in ko_tagged]"
   ]
  },
  {
   "cell_type": "code",
   "execution_count": 70,
   "metadata": {},
   "outputs": [
    {
     "name": "stdout",
     "output_type": "stream",
     "text": [
      "('XR', 'XSA')\n",
      "('JKC', 'VCN')\n",
      "('EPT', 'EPT')\n",
      "('VCN', 'ECD')\n",
      "('ECD', 'VX')\n"
     ]
    }
   ],
   "source": [
    "finder = nltk.collocations.BigramCollocationFinder.from_words(tags)\n",
    "\n",
    "for row in finder.nbest(measures.pmi,5):\n",
    "    print(row) #refer kkma.tagset"
   ]
  },
  {
   "cell_type": "code",
   "execution_count": 72,
   "metadata": {},
   "outputs": [
    {
     "name": "stdout",
     "output_type": "stream",
     "text": [
      "('가부', '동수')\n",
      "('강제', '노역')\n",
      "('경자', '유전')\n",
      "('공무', '담임')\n",
      "('공중', '도덕')\n",
      "('과반', '수가')\n",
      "('교전', '상태')\n",
      "('기본적', '인권')\n",
      "('노인과', '청소년')\n",
      "('다수', '표')\n"
     ]
    }
   ],
   "source": [
    "finder = nltk.collocations.BigramCollocationFinder.from_words(words)\n",
    "\n",
    "for row in finder.nbest(measures.pmi,10):\n",
    "    print(row) # 앞의것과 1음절 쌍이 사라진 차이"
   ]
  },
  {
   "cell_type": "markdown",
   "metadata": {},
   "source": [
    "### 워드클라우드"
   ]
  },
  {
   "cell_type": "code",
   "execution_count": null,
   "metadata": {},
   "outputs": [],
   "source": [
    "# for k,v in ko.vocab().items(): #freqDist를 반환\n",
    "#     print(k,v)"
   ]
  },
  {
   "cell_type": "markdown",
   "metadata": {},
   "source": [
    "vocab말고 Counter 이용해보았다"
   ]
  },
  {
   "cell_type": "code",
   "execution_count": 99,
   "metadata": {},
   "outputs": [],
   "source": [
    "ko_nouns = [k for (k,v) in kkma.pos(kocon) if v.startswith('NN')] # kkma.nouns 잘안먹는이유??"
   ]
  },
  {
   "cell_type": "code",
   "execution_count": 100,
   "metadata": {},
   "outputs": [],
   "source": [
    "ko_nouns_count = Counter(ko_nouns)"
   ]
  },
  {
   "cell_type": "code",
   "execution_count": 101,
   "metadata": {},
   "outputs": [
    {
     "data": {
      "text/plain": [
       "[('법률', 121),\n",
       " ('수', 88),\n",
       " ('대통령', 84),\n",
       " ('국가', 73),\n",
       " ('헌법', 69),\n",
       " ('국민', 69),\n",
       " ('조', 58),\n",
       " ('국회', 55),\n",
       " ('때', 55),\n",
       " ('회의', 42)]"
      ]
     },
     "execution_count": 101,
     "metadata": {},
     "output_type": "execute_result"
    }
   ],
   "source": [
    "ko_nouns_count.most_common(10)"
   ]
  },
  {
   "cell_type": "code",
   "execution_count": 105,
   "metadata": {},
   "outputs": [
    {
     "data": {
      "text/plain": [
       "(-0.5, 841.5, 485.5, -0.5)"
      ]
     },
     "execution_count": 105,
     "metadata": {},
     "output_type": "execute_result"
    },
    {
     "data": {
      "image/png": "[encoded data removed]",
      "text/plain": [
       "<matplotlib.figure.Figure at 0x1dac4954748>"
      ]
     },
     "metadata": {},
     "output_type": "display_data"
    }
   ],
   "source": [
    "font_path = 'C:\\\\WINDOWS\\\\Fonts\\\\NanumSquareL.ttf'\n",
    "court_mask=np.array(Image.open(\"court.jpg\"))\n",
    "\n",
    "cloud = WordCloud(font_path=font_path,background_color='white',mask=court_mask,max_words=500).generate_from_frequencies(ko_nouns_count)\n",
    "plt.figure(figsize=(14,14))\n",
    "plt.imshow(cloud,interpolation='bilinear')\n",
    "plt.axis('off')"
   ]
  },
  {
   "cell_type": "code",
   "execution_count": null,
   "metadata": {},
   "outputs": [],
   "source": []
  }
 ],
 "metadata": {
  "kernelspec": {
   "display_name": "Python 3",
   "language": "python",
   "name": "python3"
  },
  "language_info": {
   "codemirror_mode": {
    "name": "ipython",
    "version": 3
   },
   "file_extension": ".py",
   "mimetype": "text/x-python",
   "name": "python",
   "nbconvert_exporter": "python",
   "pygments_lexer": "ipython3",
   "version": "3.6.4"
  }
 },
 "nbformat": 4,
 "nbformat_minor": 2
}
