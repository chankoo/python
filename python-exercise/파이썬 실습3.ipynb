{
 "cells": [
  {
   "cell_type": "markdown",
   "metadata": {},
   "source": [
    "### E82:Taxi Fare\n",
    "\n",
    "base \\$4, \\$0.25 per 140 meters"
   ]
  },
  {
   "cell_type": "code",
   "execution_count": 82,
   "metadata": {},
   "outputs": [
    {
     "name": "stdout",
     "output_type": "stream",
     "text": [
      "6.25 6.5\n"
     ]
    }
   ],
   "source": [
    "def taxi_fare(dst:float)->float:\n",
    "        base = 4\n",
    "        adding  = 0.25\n",
    "        total = base + int(dst/0.14)*adding\n",
    "        return total\n",
    "        \n",
    "        \n",
    "        \n",
    "if __name__=='__main__':\n",
    "    print(taxi_fare(1.4), taxi_fare(1.5))"
   ]
  },
  {
   "cell_type": "markdown",
   "metadata": {},
   "source": [
    "### E84:Median of Three Values\n"
   ]
  },
  {
   "cell_type": "code",
   "execution_count": 83,
   "metadata": {},
   "outputs": [
    {
     "name": "stdout",
     "output_type": "stream",
     "text": [
      "Enter a number:145\n",
      "Enter a number:24.5\n",
      "Enter a number:23\n",
      "24.5\n"
     ]
    }
   ],
   "source": [
    "def find_median(n1,n2,n3):\n",
    "    lst = [n1,n2,n3]\n",
    "    return sorted(lst)[1]\n",
    "\n",
    "if __name__=='__main__':\n",
    "    n1 = float(input('Enter a number:'))\n",
    "    n2 = float(input('Enter a number:'))\n",
    "    n3 = float(input('Enter a number:'))\n",
    "    \n",
    "    print(find_median(n1,n2,n3))"
   ]
  },
  {
   "cell_type": "markdown",
   "metadata": {},
   "source": [
    "### E85:Convert an Integer to its Ordinal Number"
   ]
  },
  {
   "cell_type": "code",
   "execution_count": 84,
   "metadata": {},
   "outputs": [],
   "source": [
    "pass  "
   ]
  },
  {
   "cell_type": "markdown",
   "metadata": {},
   "source": [
    "### E88:Is it a Valid Triangle?"
   ]
  },
  {
   "cell_type": "code",
   "execution_count": 9,
   "metadata": {},
   "outputs": [
    {
     "name": "stdout",
     "output_type": "stream",
     "text": [
      "Enter 3 positive numbers with spaces:6 2 2\n",
      "False\n"
     ]
    }
   ],
   "source": [
    "def is_triangle(n1,n2,n3)->bool:\n",
    "    lst = sorted([n1,n2,n3])\n",
    "    if lst[2]>=sum(lst[:2]):\n",
    "        return False\n",
    "    else: return True\n",
    "    \n",
    "if __name__=='__main__':\n",
    "    nums = [float(n) for n in input('Enter 3 positive numbers with spaces:').split()]\n",
    "    print(is_triangle(nums[0],nums[1],nums[2]))"
   ]
  },
  {
   "cell_type": "markdown",
   "metadata": {},
   "source": [
    "### E89:Capitalize It\n",
    "do capitalize\n",
    "\n",
    "1. the first character in the sentence\n",
    "\n",
    "2. if a character is both preceded and followed by a space\n",
    "\n",
    "3. the first non-space charater after a '.', '!', or '?'"
   ]
  },
  {
   "cell_type": "code",
   "execution_count": 17,
   "metadata": {},
   "outputs": [
    {
     "name": "stdout",
     "output_type": "stream",
     "text": [
      "Enter a string need to be capitalized:\n",
      "what time do i have to be there? what's the address?\n",
      "What time do I have to be there? What's the address?\n"
     ]
    }
   ],
   "source": [
    "def capitalize(string:str)->str:\n",
    "    lst = string.split()\n",
    "    lst[0] = lst[0][0].upper()+lst[0][1:]\n",
    "    for i,s in enumerate(lst):\n",
    "        if len(s)==1:\n",
    "            lst[i] = s.upper()\n",
    "        elif s[-1] in ['.','!','?'] and (i+1)<len(lst):\n",
    "            lst[i+1] = lst[i+1][0].upper() + lst[i+1][1:]\n",
    "    return ' '.join(lst)\n",
    "    \n",
    "if __name__=='__main__':\n",
    "    print(capitalize(input('Enter a string need to be capitalized:\\n')))"
   ]
  },
  {
   "cell_type": "markdown",
   "metadata": {},
   "source": [
    "### E90:Does a String Repersent an Integer?"
   ]
  },
  {
   "cell_type": "code",
   "execution_count": 86,
   "metadata": {},
   "outputs": [
    {
     "name": "stdout",
     "output_type": "stream",
     "text": [
      "Enter a string you want to check out:+123\n",
      "True\n"
     ]
    }
   ],
   "source": [
    "class MyException(Exception):\n",
    "        def __init__(self,msg):\n",
    "            self._message = msg\n",
    "            \n",
    "def is_integer(string:str)->bool:\n",
    "    string = string.strip()\n",
    "    if len(string)<1:\n",
    "        return False\n",
    "    \n",
    "    digits = [str(d) for d in range(10)]\n",
    "    \n",
    "    for s in string[1:]:\n",
    "        if s not in digits:\n",
    "            return False\n",
    "    if string[0] not in digits + ['+', '-']:\n",
    "        return False\n",
    "    \n",
    "    return True\n",
    "    \n",
    "\n",
    "if __name__=='__main__':\n",
    "    print(is_integer(input('Enter a string you want to check out:')))\n",
    "else:\n",
    "    raise MyException('This function should be called in main program')"
   ]
  },
  {
   "cell_type": "markdown",
   "metadata": {},
   "source": [
    "### E92:Is a Number Prime?\n",
    "A prime num is an integer grater than 1 that is only divisible by one and itself."
   ]
  },
  {
   "cell_type": "code",
   "execution_count": 52,
   "metadata": {},
   "outputs": [
    {
     "name": "stdout",
     "output_type": "stream",
     "text": [
      "Enter a int you want to check out:1299827\n",
      "True\n"
     ]
    }
   ],
   "source": [
    "def is_prime(n:int)->bool:\n",
    "    if n>9:\n",
    "        for denum in [2,3,5,7,9]:\n",
    "            if n%denum == 0:\n",
    "                return False\n",
    "    for i in range(2,n):\n",
    "        if n%i == 0:\n",
    "            return False\n",
    "    return True\n",
    "    \n",
    "    \n",
    "if __name__=='__main__':\n",
    "    print(is_prime(int(input('Enter a int you want to check out:'))))"
   ]
  },
  {
   "cell_type": "markdown",
   "metadata": {},
   "source": [
    "### E93:Next Prime"
   ]
  },
  {
   "cell_type": "code",
   "execution_count": 57,
   "metadata": {},
   "outputs": [
    {
     "name": "stdout",
     "output_type": "stream",
     "text": [
      "Enter a int after that you want to find out prime number:\n",
      "1299827\n",
      "The next prime number is 1299833\n"
     ]
    }
   ],
   "source": [
    "def next_prime(n:int)->int:\n",
    "    num = n+1\n",
    "    while True:\n",
    "        if is_prime(num):\n",
    "            return num\n",
    "        num += 1\n",
    "    \n",
    "    \n",
    "if __name__=='__main__':\n",
    "    print('The next prime number is',next_prime(int(input('Enter a int after that you want to find out prime number:\\n'))))"
   ]
  },
  {
   "cell_type": "markdown",
   "metadata": {},
   "source": [
    "### E96:Check a Password\n",
    "Determine whether password good or not\n",
    "\n",
    "A good pw would be a one that if it\n",
    "\n",
    "1. is at least 8 chars long\n",
    "2. contains at least one uppercase and lowercase letter\n",
    "3. contains at least one number"
   ]
  },
  {
   "cell_type": "code",
   "execution_count": 71,
   "metadata": {},
   "outputs": [
    {
     "name": "stdout",
     "output_type": "stream",
     "text": [
      "Enter your password: \n",
      "Chankoo12\n",
      "This pw is good one\n"
     ]
    }
   ],
   "source": [
    "def check_pw(string:str)->bool:\n",
    "    if len(string)<8:\n",
    "        return False\n",
    "    \n",
    "    lwFlag = False\n",
    "    upFlag = False\n",
    "    numFlag = False\n",
    "    \n",
    "    for s in string:\n",
    "        if lwFlag and upFlag and numFlag: # good pw일 조건\n",
    "            return True \n",
    "        if lwFlag==False and ord(s) in range(97,123):\n",
    "            lwFlag = True\n",
    "        elif upFlag==False and ord(s) in range(65,91):\n",
    "            upFlag = True\n",
    "        elif numFlag==False and ord(s) in range(48,58):\n",
    "            numFlag = True\n",
    "    return False \n",
    "\n",
    "if __name__=='__main__':\n",
    "    if check_pw(input('Enter your password: \\n')):\n",
    "        print('This pw is good one')\n",
    "    else:\n",
    "        print('This pw is not good one')"
   ]
  },
  {
   "cell_type": "code",
   "execution_count": null,
   "metadata": {},
   "outputs": [],
   "source": []
  }
 ],
 "metadata": {
  "kernelspec": {
   "display_name": "Python 3",
   "language": "python",
   "name": "python3"
  },
  "language_info": {
   "codemirror_mode": {
    "name": "ipython",
    "version": 3
   },
   "file_extension": ".py",
   "mimetype": "text/x-python",
   "name": "python",
   "nbconvert_exporter": "python",
   "pygments_lexer": "ipython3",
   "version": "3.6.4"
  }
 },
 "nbformat": 4,
 "nbformat_minor": 2
}
