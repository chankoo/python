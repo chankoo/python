{
 "cells": [
  {
   "cell_type": "code",
   "execution_count": 139,
   "metadata": {},
   "outputs": [],
   "source": [
    "from collections import deque,Counter"
   ]
  },
  {
   "cell_type": "code",
   "execution_count": 179,
   "metadata": {},
   "outputs": [],
   "source": [
    "def to_infix(data:str):\n",
    "    c = Counter(data)\n",
    "    most_count = c.most_common(1)[0][1]\n",
    "    if  c['('] != c[')'] or c['['] != c[']']: # (),[] 짝이 맞지 않다면\n",
    "        print(\"!!!!\")\n",
    "        return 0\n",
    "    for par in data:\n",
    "#         print(lst)\n",
    "#         print(par)\n",
    "        if par in lpar:\n",
    "            lst.append(par)\n",
    "        else:\n",
    "            if par==']':\n",
    "                if lst[-1] in rpar:\n",
    "                    lst.extend(['*','3',']'])\n",
    "                elif lst[-1] =='[':\n",
    "                    lst.extend(['3',']'])\n",
    "                else:\n",
    "                    return 0\n",
    "            elif par==')':\n",
    "                if lst[-1] in rpar:\n",
    "                    lst.extend(['*','2',')'])\n",
    "                elif lst[-1] == '(':\n",
    "                    lst.extend(['2',')'])\n",
    "                else:\n",
    "                    return 0\n",
    "    res = ''.join(lst)\n",
    "    res = res.replace('[','(').replace(']',')')\n",
    "    res = res.replace(')(','+')\n",
    "    \n",
    "    return res"
   ]
  },
  {
   "cell_type": "markdown",
   "metadata": {},
   "source": [
    "참고: [초보몽키의 개발공부로그.강의노트 21. 자료구조 - stack을 이용한 후위표기법 계산기 만들기](# 참고 https://wayhome25.github.io/cs/2017/04/18/cs-22/)"
   ]
  },
  {
   "cell_type": "code",
   "execution_count": 163,
   "metadata": {},
   "outputs": [],
   "source": [
    "# 참고 https://wayhome25.github.io/cs/2017/04/18/cs-22/\n",
    "class Calculator:\n",
    "    def __init__(self,infix):\n",
    "        self.infix = infix\n",
    "        self.postfix = None\n",
    "        \n",
    "    def get_weight(self, oprt):\n",
    "        if oprt == '*' or oprt == '/':\n",
    "            return 9\n",
    "        elif oprt == '+' or oprt == '-':\n",
    "            return 7\n",
    "        elif oprt == '(':\n",
    "            return 5\n",
    "        else:\n",
    "            return -1\n",
    "    \n",
    "    def to_postfix(self):\n",
    "        \n",
    "        oprt_stack = [] # 연산자 저장위한 스택\n",
    "        exp_q = deque() # 후위표현식 저장위한 큐\n",
    "        for ch in self.infix:\n",
    "#             print(\"oprt_stack:\",oprt_stack)\n",
    "#             print(\"exp_q:\",exp_q)\n",
    "#             print(\"This:\",ch,'\\n\\n')\n",
    "            if ch=='(':\n",
    "                oprt_stack.append(ch)\n",
    "            elif ch==')':\n",
    "                while oprt_stack!=[]:\n",
    "                    poped = oprt_stack.pop()\n",
    "                    if poped =='(':\n",
    "                        break\n",
    "                    exp_q.append(poped)\n",
    "\n",
    "            elif ch in [str(el) for el in range(10)]: # 숫자들어온 경우\n",
    "                exp_q.append(ch)\n",
    "                \n",
    "            else: # 연산자 들어온경우\n",
    "                if oprt_stack == []:\n",
    "                    oprt_stack.append(ch)\n",
    "                elif self.get_weight(ch) > self.get_weight(oprt_stack[-1]): # 들어온 연산자의 가중치가 높을때\n",
    "                    oprt_stack.append(ch)\n",
    "                else: # 들어온 연산자의 가중치가 낮거나 같을때\n",
    "                    while oprt_stack!=[] and self.get_weight(ch) <= self.get_weight(oprt_stack[-1]):\n",
    "                        exp_q.append(oprt_stack.pop())\n",
    "                    oprt_stack.append(ch)\n",
    "        \n",
    "        while oprt_stack !=[]:\n",
    "            exp_q.append(oprt_stack.pop())\n",
    "        self.postfix = ''.join(exp_q)\n",
    "        \n",
    "    def calc_two_oprd(self, oprd1, oprd2, oprt):\n",
    "        if oprt == '+':\n",
    "            return oprd1 + oprd2\n",
    "        elif oprt == '-':\n",
    "            return oprd1 - oprd2\n",
    "        elif oprt == '*':\n",
    "            return oprd1 * oprd2\n",
    "        elif oprt == '/':\n",
    "            return oprd1 // oprd2\n",
    "\n",
    "    def calc_postfix(self):\n",
    "        oprd_stack = [] # 피연산자 저장위한 스택\n",
    "        for ch in self.postfix:\n",
    "            if ch in [str(el) for el in range(10)]: # ch가 숫자\n",
    "                oprd_stack.append(int(ch))\n",
    "            else: # ch가 연산자\n",
    "                oprd2 = oprd_stack.pop()\n",
    "                oprd1 = oprd_stack.pop()\n",
    "                oprd_stack.append(self.calc_two_oprd(oprd1,oprd2,ch))\n",
    "\n",
    "        return oprd_stack.pop()"
   ]
  },
  {
   "cell_type": "code",
   "execution_count": 167,
   "metadata": {},
   "outputs": [
    {
     "name": "stdout",
     "output_type": "stream",
     "text": [
      "([][][(([]))])\n",
      "0\n"
     ]
    }
   ],
   "source": [
    "if __name__==\"__main__\":\n",
    "    data = input()\n",
    "    lst = []\n",
    "    rpar = [']',')']\n",
    "    lpar = ['[','(']\n",
    "    \n",
    "    infix = to_infix(data)\n",
    "    \n",
    "    calc = Calculator(infix)\n",
    "    try:\n",
    "        calc.to_postfix()\n",
    "        print(calc.calc_postfix())\n",
    "    except Exception:\n",
    "        print(0)"
   ]
  },
  {
   "cell_type": "code",
   "execution_count": null,
   "metadata": {},
   "outputs": [],
   "source": []
  }
 ],
 "metadata": {
  "kernelspec": {
   "display_name": "Python 3",
   "language": "python",
   "name": "python3"
  },
  "language_info": {
   "codemirror_mode": {
    "name": "ipython",
    "version": 3
   },
   "file_extension": ".py",
   "mimetype": "text/x-python",
   "name": "python",
   "nbconvert_exporter": "python",
   "pygments_lexer": "ipython3",
   "version": "3.6.4"
  }
 },
 "nbformat": 4,
 "nbformat_minor": 2
}
