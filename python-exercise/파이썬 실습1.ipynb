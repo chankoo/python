{
 "cells": [
  {
   "cell_type": "markdown",
   "metadata": {},
   "source": [
    "### E105:Reverse Order"
   ]
  },
  {
   "cell_type": "code",
   "execution_count": 2,
   "metadata": {},
   "outputs": [
    {
     "name": "stdout",
     "output_type": "stream",
     "text": [
      "Enter a int: 1\n",
      "Enter a int: 2\n",
      "Enter a int: 3\n",
      "Enter a int: 4\n",
      "Enter a int: 5\n",
      "Enter a int: 0\n",
      "5\n",
      "4\n",
      "3\n",
      "2\n",
      "1\n"
     ]
    }
   ],
   "source": [
    "lst =[]\n",
    "while True:\n",
    "    n = int(input('Enter a int: '))\n",
    "    if n==0:\n",
    "        break\n",
    "    lst.append(n)\n",
    "\n",
    "for el in sorted(lst, reverse=True):\n",
    "    print(el)"
   ]
  },
  {
   "cell_type": "markdown",
   "metadata": {},
   "source": [
    "### E107:Avoiding Duplicates"
   ]
  },
  {
   "cell_type": "code",
   "execution_count": 4,
   "metadata": {},
   "outputs": [
    {
     "name": "stdout",
     "output_type": "stream",
     "text": [
      "Enter a string: hi\n",
      "Enter a string: hell\n",
      "Enter a string: hi\n",
      "Enter a string: hello\n",
      "Enter a string: gk\n",
      "Enter a string: fk\n",
      "Enter a string: dk\n",
      "Enter a string: gk\n",
      "Enter a string: \n",
      "hi\n",
      "hell\n",
      "hello\n",
      "gk\n",
      "fk\n",
      "dk\n"
     ]
    }
   ],
   "source": [
    "lst =[]\n",
    "while True:\n",
    "    s = input('Enter a string: ')\n",
    "    if s=='':\n",
    "        break\n",
    "    elif s in lst:\n",
    "        continue\n",
    "    lst.append(s)\n",
    "\n",
    "for el in lst:\n",
    "    print(el)"
   ]
  },
  {
   "cell_type": "markdown",
   "metadata": {},
   "source": [
    "### E108:Negatives, Zeros and Positives\n",
    "음수, 0, 양수 순으로 한줄에 출력하라\n",
    "그러면서 입력순서는 유지해야한다\n",
    "\n",
    "예를 들어,\n",
    "\n",
    "input: 3, -4, 1, 0, -1, 0, -2\n",
    "\n",
    "output: -4, -1, -2, 0, 0, 3, 1"
   ]
  },
  {
   "cell_type": "code",
   "execution_count": 8,
   "metadata": {},
   "outputs": [
    {
     "name": "stdout",
     "output_type": "stream",
     "text": [
      "Enter a int: 24\n",
      "Enter a int: 2\n",
      "Enter a int: 5\n",
      "Enter a int: -3\n",
      "Enter a int: -4\n",
      "Enter a int: 0\n",
      "Enter a int: 2\n",
      "Enter a int: -2\n",
      "Enter a int: 0\n",
      "Enter a int: \n",
      "-3 -4 -2 0 0 24 2 5 2 "
     ]
    }
   ],
   "source": [
    "lst =[]\n",
    "while True:\n",
    "    n = input('Enter a int: ')\n",
    "    if n=='':\n",
    "        break\n",
    "    lst.append(int(n))\n",
    "\n",
    "lst2 =[neg for neg in lst if neg<0]\n",
    "lst2.extend([zero for zero in lst if zero==0])\n",
    "lst2.extend([pos for pos in lst if pos>0])\n",
    "\n",
    "for el in lst2:\n",
    "    print(el,end=' ')"
   ]
  },
  {
   "cell_type": "markdown",
   "metadata": {},
   "source": [
    "### E110:Perfect Numbers\n",
    "Find perfect number for example,\n",
    "28 is a perfect number since sum of divisors is equal to the number.\n",
    "\n",
    "1+2+4+7+14 = 28"
   ]
  },
  {
   "cell_type": "code",
   "execution_count": 18,
   "metadata": {},
   "outputs": [
    {
     "name": "stdout",
     "output_type": "stream",
     "text": [
      "6\n",
      "28\n",
      "496\n",
      "8128\n"
     ]
    }
   ],
   "source": [
    "def is_perfect(n:int)->bool:\n",
    "    divisors = []\n",
    "    for i in range(1,n):\n",
    "        if n%i==0:\n",
    "            divisors.append(i)\n",
    "    if sum(divisors)==n:\n",
    "        return True\n",
    "    return False\n",
    "\n",
    "if __name__=='__main__':\n",
    "    for i in range(1,10001):\n",
    "        if is_perfect(i):\n",
    "            print(i)"
   ]
  },
  {
   "cell_type": "markdown",
   "metadata": {},
   "source": [
    "### E113:Formatting a List"
   ]
  },
  {
   "cell_type": "code",
   "execution_count": 34,
   "metadata": {},
   "outputs": [
    {
     "name": "stdout",
     "output_type": "stream",
     "text": [
      "Enter a string: apples\n",
      "Enter a string: oranges\n",
      "Enter a string: bananas\n",
      "Enter a string: lemons\n",
      "Enter a string: \n",
      "apples, oranges, bananas and lemons\n"
     ]
    }
   ],
   "source": [
    "def formatting(lst:list)->str:\n",
    "    if len(lst)==1:\n",
    "        return lst[0]\n",
    "    else:\n",
    "        return ', '.join(lst[:-1])+' and '+lst[-1]\n",
    "    \n",
    "if __name__=='__main__':\n",
    "    lst = []\n",
    "    while True:\n",
    "        s = input('Enter a string: ')\n",
    "        if s=='':\n",
    "            break\n",
    "        lst.append(s)\n",
    "            \n",
    "    print(formatting(lst))"
   ]
  },
  {
   "cell_type": "markdown",
   "metadata": {},
   "source": [
    "### E114:Random Lottery Number"
   ]
  },
  {
   "cell_type": "code",
   "execution_count": 20,
   "metadata": {},
   "outputs": [
    {
     "name": "stdout",
     "output_type": "stream",
     "text": [
      "[1, 4, 22, 27, 33, 38]\n"
     ]
    }
   ],
   "source": [
    "import random\n",
    "lst = []\n",
    "while len(lst)!=6:\n",
    "    n = random.randint(1,49)\n",
    "    if n in lst:\n",
    "        continue\n",
    "    else:\n",
    "        lst.append(n)\n",
    "print(sorted(lst))"
   ]
  },
  {
   "cell_type": "markdown",
   "metadata": {},
   "source": [
    "### E134:Unique Characters"
   ]
  },
  {
   "cell_type": "code",
   "execution_count": 22,
   "metadata": {},
   "outputs": [
    {
     "name": "stdout",
     "output_type": "stream",
     "text": [
      "Enter a string: zzz\n",
      "zzz has a 1 character\n"
     ]
    }
   ],
   "source": [
    "s = input('Enter a string: ')\n",
    "n = len(set(s))\n",
    "if n>1:\n",
    "    print(s,'has',n,'characters')\n",
    "else:\n",
    "    print(s,'has a',n,'character')"
   ]
  },
  {
   "cell_type": "markdown",
   "metadata": {},
   "source": [
    "### E135:Anagrams"
   ]
  },
  {
   "cell_type": "code",
   "execution_count": 25,
   "metadata": {},
   "outputs": [
    {
     "name": "stdout",
     "output_type": "stream",
     "text": [
      "Enter a string: live\n",
      "Enter a string: evil\n",
      "Are two strings anagram?\n",
      "True\n"
     ]
    }
   ],
   "source": [
    "def to_reverse(string:str)->str:\n",
    "    restring = ''\n",
    "    for s in string:\n",
    "        restring = s+restring\n",
    "    return restring\n",
    "    \n",
    "if __name__=='__main__':\n",
    "    s1 = input('Enter a string: ')\n",
    "    s2 = input('Enter a string: ')\n",
    "    print('Are two strings anagram?')\n",
    "    if to_reverse(s1)==s2:\n",
    "        print(True)\n",
    "    else:\n",
    "        print(False)"
   ]
  },
  {
   "cell_type": "code",
   "execution_count": null,
   "metadata": {},
   "outputs": [],
   "source": []
  },
  {
   "cell_type": "code",
   "execution_count": null,
   "metadata": {},
   "outputs": [],
   "source": []
  }
 ],
 "metadata": {
  "kernelspec": {
   "display_name": "Python 3",
   "language": "python",
   "name": "python3"
  },
  "language_info": {
   "codemirror_mode": {
    "name": "ipython",
    "version": 3
   },
   "file_extension": ".py",
   "mimetype": "text/x-python",
   "name": "python",
   "nbconvert_exporter": "python",
   "pygments_lexer": "ipython3",
   "version": "3.6.4"
  }
 },
 "nbformat": 4,
 "nbformat_minor": 2
}
