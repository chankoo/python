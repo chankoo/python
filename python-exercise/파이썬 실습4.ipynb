{
 "cells": [
  {
   "cell_type": "markdown",
   "metadata": {},
   "source": [
    "### E129:Two Dice Simulation\n",
    "Simulating total sum of two dices"
   ]
  },
  {
   "cell_type": "code",
   "execution_count": 15,
   "metadata": {},
   "outputs": [
    {
     "name": "stdout",
     "output_type": "stream",
     "text": [
      "Total Simulated(%) Expected(%)\n",
      "    2       3.90      2.78\n",
      "    3       5.20      5.56\n",
      "    4       9.40      8.33\n",
      "    5       9.60     11.11\n",
      "    6      14.90     13.89\n",
      "    7      16.70     16.67\n",
      "    8      12.70     13.89\n",
      "    9      11.80     11.11\n",
      "   10       8.80      8.33\n",
      "   11       4.40      5.56\n",
      "   12       2.60      2.78\n"
     ]
    }
   ],
   "source": [
    "def rolling()->int:\n",
    "    import random\n",
    "    total = random.randint(1,6) +  random.randint(1,6)\n",
    "    return total\n",
    "    \n",
    "        \n",
    "if __name__=='__main__':\n",
    "    dic_total = {}.fromkeys(range(2,13),0)\n",
    "    expected = [2.78,5.56,8.33,11.11,13.89,16.67,13.89,11.11,8.33,5.56,2.78]\n",
    "    for i in range(1,1001):\n",
    "        dic_total[rolling()] += 1\n",
    "        \n",
    "    print('Total Simulated(%) Expected(%)')\n",
    "    for key,freq in dic_total.items():\n",
    "        print('%5d %10.2f %9.2f' % (key, freq/10, expected[key-2]))\n"
   ]
  },
  {
   "cell_type": "markdown",
   "metadata": {},
   "source": [
    "### E130:Text Messaging\n",
    "Text to key pad"
   ]
  },
  {
   "cell_type": "code",
   "execution_count": 18,
   "metadata": {},
   "outputs": [
    {
     "data": {
      "text/plain": [
       "{0: [' '],\n",
       " 1: ['.', ',', '?', '!', ':'],\n",
       " 2: ['A', 'B', 'C'],\n",
       " 3: ['D', 'E', 'F'],\n",
       " 4: ['G', 'H', 'I'],\n",
       " 5: ['J', 'K', 'L'],\n",
       " 6: ['M', 'N', 'O'],\n",
       " 7: ['P', 'Q', 'R', 'S'],\n",
       " 8: ['T', 'U', 'V'],\n",
       " 9: ['W', 'X', 'Y', 'Z']}"
      ]
     },
     "execution_count": 18,
     "metadata": {},
     "output_type": "execute_result"
    }
   ],
   "source": [
    "numToSyms = dict()\n",
    "numToSyms[1] = ['.',',','?','!',':']\n",
    "numToSyms[2] = ['A','B','C']\n",
    "numToSyms[3] = ['D','E','F']\n",
    "numToSyms[4] = ['G','H','I']\n",
    "numToSyms[5]= ['J','K','L']\n",
    "numToSyms[6] = ['M','N','O']\n",
    "numToSyms[7] = ['P','Q','R','S']\n",
    "numToSyms[8] = ['T','U','V']\n",
    "numToSyms[9] = ['W','X','Y','Z']\n",
    "numToSyms[0] = [' ']\n",
    "numToSyms"
   ]
  },
  {
   "cell_type": "code",
   "execution_count": 24,
   "metadata": {},
   "outputs": [
    {
     "name": "stdout",
     "output_type": "stream",
     "text": [
      "Enter your message: Hello, World!\n",
      "4433555555666110966677755531111\n"
     ]
    }
   ],
   "source": [
    "if __name__=='__main__':\n",
    "    msg = input('Enter your message: ')\n",
    "    msg = msg.upper()\n",
    "    out = ''\n",
    "    for s in msg:\n",
    "        for key in numToSyms:\n",
    "            if s in numToSyms[key]:\n",
    "                for i,val in enumerate(numToSyms[key]):\n",
    "                    if s==val:\n",
    "                        out = out+(i+1)*str(key)\n",
    "    print(out)"
   ]
  },
  {
   "cell_type": "markdown",
   "metadata": {},
   "source": [
    "### E131:Morse Code\n",
    "text to Morse code"
   ]
  },
  {
   "cell_type": "code",
   "execution_count": 38,
   "metadata": {},
   "outputs": [
    {
     "data": {
      "text/plain": [
       "{0: '-----',\n",
       " 1: '.----',\n",
       " 2: '..---',\n",
       " 3: '...--',\n",
       " 4: '....-',\n",
       " 5: '.....',\n",
       " 6: '-....',\n",
       " 7: '--...',\n",
       " 8: '---..',\n",
       " 9: '----.',\n",
       " 'A': '.-',\n",
       " 'B': '-...',\n",
       " 'C': '-.-.',\n",
       " 'D': '-..',\n",
       " 'E': '.',\n",
       " 'F': '..-.',\n",
       " 'G': '--.',\n",
       " 'H': '....',\n",
       " 'I': '..',\n",
       " 'J': '.---',\n",
       " 'K': '-.-',\n",
       " 'L': '.-..',\n",
       " 'M': '--',\n",
       " 'N': '-.',\n",
       " 'O': '---',\n",
       " 'P': '.--.',\n",
       " 'Q': '--.-',\n",
       " 'R': '.-.',\n",
       " 'S': '...',\n",
       " 'T': '-',\n",
       " 'U': '..-',\n",
       " 'V': '...-',\n",
       " 'W': '.--',\n",
       " 'X': '-..-',\n",
       " 'Y': '-.--',\n",
       " 'Z': '--..'}"
      ]
     },
     "execution_count": 38,
     "metadata": {},
     "output_type": "execute_result"
    }
   ],
   "source": [
    "letters = [chr(l) for l in range(65,91)] + [i for i in range(10)]\n",
    "codes = ['.-','-...','-.-.','-..','.','..-.','--.','....','..','.---','-.-','.-..','--',\n",
    "         '-.','---','.--.','--.-','.-.','...','-','..-','...-','.--','-..-','-.--','--..','-----',\n",
    "        '.----','..---','...--','....-','.....','-....','--...','---..','----.']\n",
    "mors = dict()\n",
    "\n",
    "for i,letter in enumerate(letters):\n",
    "    mors[letter] = codes[i]\n",
    "mors"
   ]
  },
  {
   "cell_type": "code",
   "execution_count": 42,
   "metadata": {},
   "outputs": [
    {
     "name": "stdout",
     "output_type": "stream",
     "text": [
      "Enter your message: Hello, World!\n",
      " .... . .-.. .-.. --- .-- --- .-. .-.. -..\n"
     ]
    }
   ],
   "source": [
    "if __name__=='__main__':\n",
    "    msg = input('Enter your message: ')\n",
    "    msg = msg.upper()\n",
    "    out = ''\n",
    "    \n",
    "    for s in msg:\n",
    "        if s in mors:\n",
    "            out = out+' '+ mors[s]\n",
    "    print(out)"
   ]
  },
  {
   "cell_type": "markdown",
   "metadata": {},
   "source": [
    "### E132:Postal Codes"
   ]
  },
  {
   "cell_type": "code",
   "execution_count": 46,
   "metadata": {},
   "outputs": [
    {
     "data": {
      "text/plain": [
       "{'A': 'Newfoundland',\n",
       " 'B': 'Nova Scotia',\n",
       " 'C': 'Prince Edward Island',\n",
       " 'E': 'New Brunswick',\n",
       " 'G': 'Quebec',\n",
       " 'H': 'Quebec',\n",
       " 'J': 'Quebec',\n",
       " 'K': 'Ontario',\n",
       " 'L': 'Ontario',\n",
       " 'M': 'Ontario',\n",
       " 'N': 'Ontario',\n",
       " 'P': 'Ontario',\n",
       " 'R': 'Manitoba',\n",
       " 'S': 'Saskatchewan',\n",
       " 'T': 'Alberta',\n",
       " 'V': 'British Columbia',\n",
       " 'X': 'Nunavut or Northwest Territories',\n",
       " 'Y': 'Yukon'}"
      ]
     },
     "execution_count": 46,
     "metadata": {},
     "output_type": "execute_result"
    }
   ],
   "source": [
    "first_postal = {}\n",
    "provinces = ['Newfoundland','Nova Scotia','Prince Edward Island',None,'New Brunswick',\n",
    "            None, 'Quebec','Quebec',None,'Quebec','Ontario','Ontario','Ontario','Ontario',None,'Ontario',\n",
    "            None,'Manitoba','Saskatchewan','Alberta',None,'British Columbia',None,'Nunavut or Northwest Territories','Yukon',None]\n",
    "chars = [chr(a) for a in range(65,91)]\n",
    "\n",
    "for i,prov in enumerate(provinces):\n",
    "    if prov:\n",
    "        first_postal[chars[i]] = prov\n",
    "first_postal"
   ]
  },
  {
   "cell_type": "code",
   "execution_count": 49,
   "metadata": {},
   "outputs": [
    {
     "name": "stdout",
     "output_type": "stream",
     "text": [
      "Enter your postal code: T2N 1N4\n",
      "The postal code is for a urban address in Alberta\n"
     ]
    }
   ],
   "source": [
    "if __name__=='__main__':\n",
    "    try:\n",
    "        pos = input('Enter your postal code: ')\n",
    "        if pos[1]=='0':\n",
    "            print('The postal code is for a rural address', end=' ')\n",
    "        else:\n",
    "            print('The postal code is for a urban address', end=' ')\n",
    "        print('in %s' % first_postal[pos[0]])\n",
    "    except KeyError as ke:\n",
    "        print('Invalid input')"
   ]
  },
  {
   "cell_type": "code",
   "execution_count": null,
   "metadata": {},
   "outputs": [],
   "source": []
  }
 ],
 "metadata": {
  "kernelspec": {
   "display_name": "Python 3",
   "language": "python",
   "name": "python3"
  },
  "language_info": {
   "codemirror_mode": {
    "name": "ipython",
    "version": 3
   },
   "file_extension": ".py",
   "mimetype": "text/x-python",
   "name": "python",
   "nbconvert_exporter": "python",
   "pygments_lexer": "ipython3",
   "version": "3.6.4"
  }
 },
 "nbformat": 4,
 "nbformat_minor": 2
}
