{
 "cells": [
  {
   "cell_type": "markdown",
   "metadata": {},
   "source": [
    "### E61:Average"
   ]
  },
  {
   "cell_type": "code",
   "execution_count": 5,
   "metadata": {},
   "outputs": [
    {
     "name": "stdout",
     "output_type": "stream",
     "text": [
      "Enter a int: 1\n",
      "Enter a int: 3\n",
      "Enter a int: 5\n",
      "Enter a int: 3\n",
      "Enter a int: 0\n",
      "3.0\n"
     ]
    }
   ],
   "source": [
    "lst=[]\n",
    "while True:\n",
    "    n = int(input('Enter a int: '))\n",
    "    if n==0:\n",
    "        break\n",
    "    lst.append(n)\n",
    "\n",
    "try:\n",
    "    print(sum(lst)/len(lst))\n",
    "except ZeroDivisionError:\n",
    "    print('You must enter at least one integer!')\n",
    "    "
   ]
  },
  {
   "cell_type": "markdown",
   "metadata": {},
   "source": [
    "### E63 Temperature Conversion Table\n",
    "T(°F) = T(°C) × 1.8 + 32"
   ]
  },
  {
   "cell_type": "code",
   "execution_count": 8,
   "metadata": {},
   "outputs": [],
   "source": [
    "C = [c for c in range(0,101,10)]\n",
    "F = [c*1.8+32 for c in C]"
   ]
  },
  {
   "cell_type": "code",
   "execution_count": 19,
   "metadata": {},
   "outputs": [
    {
     "name": "stdout",
     "output_type": "stream",
     "text": [
      "Celsius   Fahrenheit\n",
      "    0           32.0\n",
      "   10           50.0\n",
      "   20           68.0\n",
      "   30           86.0\n",
      "   40           104.0\n",
      "   50           122.0\n",
      "   60           140.0\n",
      "   70           158.0\n",
      "   80           176.0\n",
      "   90           194.0\n",
      "  100           212.0\n"
     ]
    }
   ],
   "source": [
    "print('Celsius   Fahrenheit')\n",
    "for i in range(11):\n",
    "    print('%5d           %3.1f' % (C[i],F[i]))\n",
    "    "
   ]
  },
  {
   "cell_type": "markdown",
   "metadata": {},
   "source": [
    "### E66: Compute a Grade Point Average"
   ]
  },
  {
   "cell_type": "code",
   "execution_count": 98,
   "metadata": {},
   "outputs": [
    {
     "name": "stdout",
     "output_type": "stream",
     "text": [
      "Enter a grade: A+\n",
      "Enter a grade: B+\n",
      "Enter a grade: C\n",
      "Enter a grade: D+\n",
      "Enter a grade: \n",
      "2.725\n"
     ]
    }
   ],
   "source": [
    "\n",
    "def grading(s:str):\n",
    "    if s=='A+':\n",
    "        return 4.3\n",
    "    elif s=='A':\n",
    "        return 4.0\n",
    "    elif s=='A-':\n",
    "        return 3.7\n",
    "    if s=='B+':\n",
    "        return 3.3\n",
    "    elif s=='B':\n",
    "        return 3.0\n",
    "    elif s=='B-':\n",
    "        return 2.7\n",
    "    if s=='C+':\n",
    "        return 2.3\n",
    "    elif s=='C':\n",
    "        return 2.0\n",
    "    elif s=='C-':\n",
    "        return 1.7\n",
    "    if s=='D+':\n",
    "        return 1.3\n",
    "    elif s=='D':\n",
    "        return 1.0\n",
    "    elif s=='F':\n",
    "        return 0\n",
    "    else:\n",
    "        print(\"Input Error!\")\n",
    "        return\n",
    "        \n",
    "        \n",
    "if __name__=='__main__':\n",
    "    grades = []\n",
    "    while True:\n",
    "        grade = input(\"Enter a grade: \")\n",
    "        if grade=='':\n",
    "            break\n",
    "        grades.append(grade)\n",
    "    G = [grading(s) for s in grades]\n",
    "    try:\n",
    "        print(sum(G)/len(G))\n",
    "    except ZeroDivisionError:\n",
    "        print('You must enter at least one grade!')\n",
    "    except Exception:\n",
    "        print('Confirm your input!!')"
   ]
  },
  {
   "cell_type": "markdown",
   "metadata": {},
   "source": [
    "### E67: Admission Price\n",
    "who <= 2 : no charge\n",
    "\n",
    "who 3 to 12 : 14\n",
    "\n",
    "who >= 65 : 18\n",
    "\n",
    "else : 23"
   ]
  },
  {
   "cell_type": "code",
   "execution_count": 23,
   "metadata": {},
   "outputs": [
    {
     "name": "stdout",
     "output_type": "stream",
     "text": [
      "Enter a age: 45\n",
      "Enter a age: 2\n",
      "Enter a age: 4\n",
      "Enter a age: 99\n",
      "Enter a age: 67\n",
      "Enter a age: \n",
      "The total cost would be $ 73\n"
     ]
    }
   ],
   "source": [
    "guests = []\n",
    "while True:\n",
    "    a = input('Enter a age: ')\n",
    "    if a=='':\n",
    "        break\n",
    "    guests.append(int(a))\n",
    "\n",
    "total=0\n",
    "for age in guests:\n",
    "    if age<=2:\n",
    "        continue\n",
    "    elif 2<age and age<13:\n",
    "        total +=14\n",
    "    elif age>=65:\n",
    "        total+=18\n",
    "    else:\n",
    "        total+=23\n",
    "print('The total cost would be','$',total)"
   ]
  },
  {
   "cell_type": "markdown",
   "metadata": {},
   "source": [
    "### E72: Is a String a Palindrome?\n",
    "ex) anna, civic, level, hannah"
   ]
  },
  {
   "cell_type": "code",
   "execution_count": 38,
   "metadata": {},
   "outputs": [
    {
     "name": "stdout",
     "output_type": "stream",
     "text": [
      "Enter a string: hannah\n",
      "The string is a Palindrome!\n"
     ]
    }
   ],
   "source": [
    "def is_palindrome(s:str):\n",
    "    pnt = int(len(s)/2)\n",
    "    idx=0\n",
    "    while idx<pnt:\n",
    "        if(s[idx]!=s[-(idx+1)]):\n",
    "            print('The string is not Palindrome!')\n",
    "            return\n",
    "        idx+=1\n",
    "    print('The string is a Palindrome!')\n",
    "\n",
    "if __name__=='__main__':\n",
    "    s = input('Enter a string: ')\n",
    "    is_palindrome(s)\n"
   ]
  },
  {
   "cell_type": "markdown",
   "metadata": {},
   "source": [
    "### E74: Multiplication Table"
   ]
  },
  {
   "cell_type": "code",
   "execution_count": 53,
   "metadata": {},
   "outputs": [
    {
     "name": "stdout",
     "output_type": "stream",
     "text": [
      "  1   2   3   4   5   6   7   8   9  10 \n",
      "  2   4   6   8  10  12  14  16  18  20 \n",
      "  3   6   9  12  15  18  21  24  27  30 \n",
      "  4   8  12  16  20  24  28  32  36  40 \n",
      "  5  10  15  20  25  30  35  40  45  50 \n",
      "  6  12  18  24  30  36  42  48  54  60 \n",
      "  7  14  21  28  35  42  49  56  63  70 \n",
      "  8  16  24  32  40  48  56  64  72  80 \n",
      "  9  18  27  36  45  54  63  72  81  90 \n",
      " 10  20  30  40  50  60  70  80  90 100 \n"
     ]
    }
   ],
   "source": [
    "for i in range(0,11):\n",
    "    for j in range(0,11):\n",
    "        if i==0:\n",
    "            print()\n",
    "        print('%3d' % (i*j),end=' ')\n",
    "    print()"
   ]
  },
  {
   "cell_type": "markdown",
   "metadata": {},
   "source": [
    "### E75: Greatest Common Divisor"
   ]
  },
  {
   "cell_type": "code",
   "execution_count": 58,
   "metadata": {},
   "outputs": [
    {
     "name": "stdout",
     "output_type": "stream",
     "text": [
      "Enter a firsts postive integer: 10\n",
      "Enter a second postive integer: 24\n",
      "GCD is 2\n"
     ]
    }
   ],
   "source": [
    "m = int(input('Enter a firsts postive integer: '))\n",
    "n = int(input('Enter a second postive integer: '))\n",
    "d = min((m,n))\n",
    "\n",
    "while d>1:\n",
    "    if m%d==0 and n%d==0:\n",
    "        print('GCD is',d)\n",
    "        break\n",
    "    d-=1\n",
    "if d==1:\n",
    "    print('GCD is just 1')"
   ]
  },
  {
   "cell_type": "markdown",
   "metadata": {},
   "source": [
    "### E77: Binary to Decimal"
   ]
  },
  {
   "cell_type": "code",
   "execution_count": 90,
   "metadata": {},
   "outputs": [
    {
     "name": "stdout",
     "output_type": "stream",
     "text": [
      "Enter a binary num: 1100\n",
      "12\n"
     ]
    }
   ],
   "source": [
    "B = input('Enter a binary num: ')\n",
    "\n",
    "def binToDec(B:str):\n",
    "    lst=[]\n",
    "    for b in B:\n",
    "        if int(b)>1:\n",
    "            print('Input Error')\n",
    "            return\n",
    "        lst.append(int(b))\n",
    "        \n",
    "    lst.reverse()\n",
    "    D=0\n",
    "    for i,b in enumerate(lst):\n",
    "        d = b*2**i\n",
    "        D+=d\n",
    "    print(D)\n",
    "        \n",
    "if __name__=='__main__':\n",
    "    binToDec(B)"
   ]
  },
  {
   "cell_type": "markdown",
   "metadata": {},
   "source": [
    "### E78: Decimal to Binary"
   ]
  },
  {
   "cell_type": "code",
   "execution_count": 93,
   "metadata": {},
   "outputs": [
    {
     "name": "stdout",
     "output_type": "stream",
     "text": [
      "Enter a integer: 12\n",
      "1100\n"
     ]
    }
   ],
   "source": [
    "result = ''\n",
    "q = int(input('Enter a integer: '))\n",
    "while q!=0:\n",
    "    r = q%2\n",
    "    result = str(r)+result\n",
    "    q = int(q/2)\n",
    "print(result)"
   ]
  },
  {
   "cell_type": "code",
   "execution_count": null,
   "metadata": {},
   "outputs": [],
   "source": []
  }
 ],
 "metadata": {
  "kernelspec": {
   "display_name": "Python 3",
   "language": "python",
   "name": "python3"
  },
  "language_info": {
   "codemirror_mode": {
    "name": "ipython",
    "version": 3
   },
   "file_extension": ".py",
   "mimetype": "text/x-python",
   "name": "python",
   "nbconvert_exporter": "python",
   "pygments_lexer": "ipython3",
   "version": "3.6.4"
  }
 },
 "nbformat": 4,
 "nbformat_minor": 2
}
