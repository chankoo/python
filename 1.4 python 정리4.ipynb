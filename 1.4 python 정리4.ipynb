{
 "cells": [
  {
   "cell_type": "markdown",
   "metadata": {},
   "source": [
    "- 파일 입출력\n",
    "    - 텍스트\n",
    "    - csv\n",
    "    - pickle\n",
    "    - glob, os\n",
    "- RE\n",
    "\n"
   ]
  },
  {
   "cell_type": "markdown",
   "metadata": {},
   "source": [
    "### basics"
   ]
  },
  {
   "cell_type": "markdown",
   "metadata": {},
   "source": [
    "#### flat file \n",
    "\n",
    "data files that contain records with no structured relationships between the records and there's also no structure for indexing. (txt, csv, tsv)\n",
    "- text\n",
    "  - the new line character (\\n) is default EOL terminator.\n",
    "- binary\n",
    "  - no EOL character"
   ]
  },
  {
   "cell_type": "markdown",
   "metadata": {},
   "source": [
    "#### open(file, mode='r', buffering=-1, encoding=None, errors=None, newline=None, closefd=True, opener=None) "
   ]
  },
  {
   "cell_type": "code",
   "execution_count": 13,
   "metadata": {},
   "outputs": [],
   "source": [
    "fp = open(\"hello.txt\",'w',encoding='utf-8') #열고자 하는 파일의 인코딩이 utf-8이다\n",
    "fp.write(\"hello\")\n",
    "fp.write(\"Hi\")\n",
    "fp.write(\"안녕\")\n",
    "\n",
    "fp.close()\n",
    "\n",
    "#dir(fp)  \n",
    "#enter, exit 있으므로, with과 함께\n",
    "#iter, next 있으므로 iterator, 반복문가능\n"
   ]
  },
  {
   "cell_type": "code",
   "execution_count": 15,
   "metadata": {},
   "outputs": [
    {
     "name": "stdout",
     "output_type": "stream",
     "text": [
      "helloHi안녕\n"
     ]
    }
   ],
   "source": [
    "fp2 = open(\"hello.txt\",'r',encoding='utf-8')\n",
    "for i in fp2:\n",
    "    print(i)"
   ]
  },
  {
   "cell_type": "code",
   "execution_count": 1,
   "metadata": {},
   "outputs": [
    {
     "data": {
      "text/plain": [
       "'UTF-8'"
      ]
     },
     "execution_count": 1,
     "metadata": {},
     "output_type": "execute_result"
    }
   ],
   "source": [
    "import sys\n",
    "sys.stdout.encoding"
   ]
  },
  {
   "cell_type": "code",
   "execution_count": null,
   "metadata": {},
   "outputs": [],
   "source": []
  },
  {
   "cell_type": "markdown",
   "metadata": {},
   "source": [
    "#### 텍스트 입출력"
   ]
  },
  {
   "cell_type": "code",
   "execution_count": 2,
   "metadata": {},
   "outputs": [
    {
     "name": "stdout",
     "output_type": "stream",
     "text": [
      "Hello World!\n",
      "99\n",
      "파이썬\n",
      "\n"
     ]
    }
   ],
   "source": [
    "if __name__==\"__main__\":\n",
    "    fp = open(\"hello.txt\",\"wt\",encoding = \"cp949\")\n",
    "    fp.write(\"Hello World!\\n\")\n",
    "    fp.write(\"%d\\n\" % 99)\n",
    "    fp.write(\"파이썬\\n\")\n",
    "    fp.close()\n",
    "    \n",
    "    with open(\"hello.txt\",'rt') as f:\n",
    "        print(f.read())"
   ]
  },
  {
   "cell_type": "code",
   "execution_count": 5,
   "metadata": {},
   "outputs": [
    {
     "name": "stdout",
     "output_type": "stream",
     "text": [
      "Hello World!\n",
      "99\n",
      "파이썬\n",
      "\n",
      "\n",
      "\n",
      "Hello World!\n",
      "99\n",
      "파이썬\n"
     ]
    }
   ],
   "source": [
    "with open(\"hello.txt\",'rt') as f:\n",
    "    for i in range(6):\n",
    "        line = f.readline()\n",
    "        print(line.strip()) #시작과 끝의 공백문자 제거한다 즉,\\n 제거한다\n",
    "\n",
    "with open(\"hello.txt\",'rt') as f:\n",
    "    for l in f:  #이렇게 읽어도 된다 유용함\n",
    "        print(l,end='')\n"
   ]
  },
  {
   "cell_type": "code",
   "execution_count": 8,
   "metadata": {},
   "outputs": [
    {
     "name": "stdout",
     "output_type": "stream",
     "text": [
      "['Hello World!\\n', '99\\n', '파이썬\\n']\n"
     ]
    }
   ],
   "source": [
    "with open(\"hello.txt\",'rt') as f:\n",
    "    lines = f.readlines()\n",
    "    print(lines) "
   ]
  },
  {
   "cell_type": "code",
   "execution_count": 9,
   "metadata": {},
   "outputs": [
    {
     "data": {
      "text/plain": [
       "'Hello World!\\n99\\n파이썬\\n'"
      ]
     },
     "execution_count": 9,
     "metadata": {},
     "output_type": "execute_result"
    }
   ],
   "source": [
    "''.join(lines)"
   ]
  },
  {
   "cell_type": "markdown",
   "metadata": {},
   "source": [
    "#### CSV 입출력"
   ]
  },
  {
   "cell_type": "code",
   "execution_count": 11,
   "metadata": {},
   "outputs": [],
   "source": [
    "import csv"
   ]
  },
  {
   "cell_type": "code",
   "execution_count": 20,
   "metadata": {},
   "outputs": [],
   "source": [
    "fp = open(\"test.csv\", 'w', newline='', encoding='cp949')"
   ]
  },
  {
   "cell_type": "code",
   "execution_count": 21,
   "metadata": {},
   "outputs": [],
   "source": [
    "wr = csv.writer(fp) # writer 객체 생성"
   ]
  },
  {
   "cell_type": "code",
   "execution_count": 22,
   "metadata": {},
   "outputs": [],
   "source": [
    "for el in [[1,2,3], {'a':123,'b':353}, \"CSV test\"]:\n",
    "    wr.writerow(el)"
   ]
  },
  {
   "cell_type": "code",
   "execution_count": 24,
   "metadata": {},
   "outputs": [],
   "source": [
    "fp.close()"
   ]
  },
  {
   "cell_type": "markdown",
   "metadata": {},
   "source": [
    "csv.reader() 함수는 Iterator 타입인 reader 객체를 리턴하므로 for 루프를 돌며 한 라인씩 가져온다. 이때 리턴되는 각 라인은 컬럼들을 나열한 리스트(list) 타입이다."
   ]
  },
  {
   "cell_type": "code",
   "execution_count": 25,
   "metadata": {},
   "outputs": [
    {
     "name": "stdout",
     "output_type": "stream",
     "text": [
      "['1', '2', '3']\n",
      "['a', 'b']\n",
      "['C', 'S', 'V', ' ', 't', 'e', 's', 't']\n"
     ]
    }
   ],
   "source": [
    "with open(\"test.csv\", 'r') as fp:\n",
    "    rd = csv.reader(fp) #reader 객체 생성\n",
    "    for line in rd:\n",
    "        print(line)"
   ]
  },
  {
   "cell_type": "markdown",
   "metadata": {},
   "source": [
    "#### 직렬/역직렬화\n",
    "\n",
    "파이썬 데이터를 파일에 직접 쓰고 읽게한다. \n",
    "\n",
    "pickle 모듈을 통해 제공\n",
    "\n",
    "파이썬 객체를 직렬화 하여 자료구조를 그대로 저장하고 다시 불러오게함\n",
    "\n",
    "pandas, tensorflow 등에 기본적으로 활용\n",
    "\n",
    "dump,load : 파일포인터 필요\n",
    "\n",
    "dumps, loads: 파일포인터 불필요"
   ]
  },
  {
   "cell_type": "code",
   "execution_count": 17,
   "metadata": {},
   "outputs": [],
   "source": [
    "import pickle #json 과 비슷"
   ]
  },
  {
   "cell_type": "markdown",
   "metadata": {},
   "source": [
    "| 메서드 \t| 설명 \t|\n",
    "|-----------------------------\t|-----------------------------\t|\n",
    "| pickle.load(파일객체) \t| 파일에서 파이썬 객체를 읽음 \t|\n",
    "| pickle.dump(객체, 파일객체) \t| 파일에 파이썬 객체를 저장 \t|"
   ]
  },
  {
   "cell_type": "code",
   "execution_count": 22,
   "metadata": {},
   "outputs": [
    {
     "name": "stdout",
     "output_type": "stream",
     "text": [
      "b'\\x80\\x03]q\\x00(X\\x0f\\x00\\x00\\x00write blog postq\\x01X\\x0e\\x00\\x00\\x00reply to emailq\\x02X\\x0e\\x00\\x00\\x00read in a bookq\\x03e.'\n"
     ]
    }
   ],
   "source": [
    "todo = ['write blog post', 'reply to email', 'read in a book']\n",
    "pickled_data = pickle.dumps(todo)\n",
    "print(pickled_data)\n"
   ]
  },
  {
   "cell_type": "code",
   "execution_count": 24,
   "metadata": {},
   "outputs": [
    {
     "data": {
      "text/plain": [
       "{'confidence': 0.73, 'encoding': 'Windows-1252', 'language': ''}"
      ]
     },
     "execution_count": 24,
     "metadata": {},
     "output_type": "execute_result"
    }
   ],
   "source": [
    "import chardet\n",
    "chardet.detect(pickled_data) "
   ]
  },
  {
   "cell_type": "code",
   "execution_count": 23,
   "metadata": {},
   "outputs": [
    {
     "data": {
      "text/plain": [
       "['write blog post', 'reply to email', 'read in a book']"
      ]
     },
     "execution_count": 23,
     "metadata": {},
     "output_type": "execute_result"
    }
   ],
   "source": [
    "restored_data = pickle.loads(pickled_data)\n",
    "restored_data"
   ]
  },
  {
   "cell_type": "code",
   "execution_count": 28,
   "metadata": {},
   "outputs": [],
   "source": [
    "if __name__==\"__main__\":\n",
    "    fp = open(\"binary.dat\",\"wb\")\n",
    "    pickle.dump(1,fp)\n",
    "    pickle.dump(3.14,fp)\n",
    "    pickle.dump(\"안녕 !\",fp)\n",
    "    pickle.dump([1,2,3],fp)\n",
    "    pickle.dump((11,22,33),fp)\n",
    "    pickle.dump({\"line\":0,\"rectangle\":1,\"triangle\":2},fp)\n",
    "    fp.close()"
   ]
  },
  {
   "cell_type": "code",
   "execution_count": 29,
   "metadata": {},
   "outputs": [
    {
     "name": "stdout",
     "output_type": "stream",
     "text": [
      "1\n",
      "3.14\n",
      "안녕 !\n",
      "[1, 2, 3]\n",
      "(11, 22, 33)\n",
      "{'line': 0, 'rectangle': 1, 'triangle': 2}\n"
     ]
    }
   ],
   "source": [
    "if __name__==\"__main__\":\n",
    "    #binary.dat 파일은 load()로 역직렬화 해야 볼수있다\n",
    "    fp = open(\"binary.dat\",\"rb\")\n",
    "    for line in range(6):\n",
    "        data = pickle.load(fp)  #load는 한줄씩만 역직렬화\n",
    "        print(data)\n",
    "    fp.close()"
   ]
  },
  {
   "cell_type": "code",
   "execution_count": 19,
   "metadata": {},
   "outputs": [],
   "source": [
    "name = '문근영'\n",
    "scores = {'korean': 90, 'english': 95, 'mathematics': 85, 'science': 82}"
   ]
  },
  {
   "cell_type": "code",
   "execution_count": 20,
   "metadata": {},
   "outputs": [],
   "source": [
    "with open('moon.pickle', 'wb') as file:    # 확장자 마음대로\n",
    "    pickle.dump(name, file)\n",
    "    pickle.dump(scores, file)"
   ]
  },
  {
   "cell_type": "code",
   "execution_count": 21,
   "metadata": {},
   "outputs": [
    {
     "name": "stdout",
     "output_type": "stream",
     "text": [
      "{'korean': 90, 'english': 95, 'mathematics': 85, 'science': 82}\n",
      "문근영\n"
     ]
    }
   ],
   "source": [
    "with open('moon.pickle', 'rb') as file:    \n",
    "    scores = pickle.load(file)\n",
    "    name = pickle.load(file)\n",
    "    print(name)\n",
    "    print(scores)"
   ]
  },
  {
   "cell_type": "markdown",
   "metadata": {},
   "source": [
    "#### glob\n",
    "파일의 목록을 쉽게얻는다"
   ]
  },
  {
   "cell_type": "code",
   "execution_count": 32,
   "metadata": {},
   "outputs": [],
   "source": [
    "import glob\n",
    "import os.path\n",
    "flist = glob.glob(\"*.ipynb\")"
   ]
  },
  {
   "cell_type": "code",
   "execution_count": 33,
   "metadata": {},
   "outputs": [
    {
     "name": "stdout",
     "output_type": "stream",
     "text": [
      "1.1 python정리.ipynb\n",
      "1.2 python정리2.ipynb\n",
      "1.2.1 python Functional Thinking.ipynb\n",
      "1.2.2 python Iterable VS Iterator VS Generator.ipynb\n",
      "1.3 python 정리3.ipynb\n",
      "1.4 python 정리4.ipynb\n",
      "2.1 SQLite.ipynb\n",
      "2.2 SQL Alchemy.ipynb\n",
      "2.3 MongoDB.ipynb\n",
      "Untitled.ipynb\n"
     ]
    }
   ],
   "source": [
    "for f in flist:\n",
    "    if(os.path.isdir(f)):\n",
    "        print(\"<DIR>\",end=' ')\n",
    "    print(f)"
   ]
  },
  {
   "cell_type": "code",
   "execution_count": 34,
   "metadata": {},
   "outputs": [
    {
     "data": {
      "text/plain": [
       "'nt'"
      ]
     },
     "execution_count": 34,
     "metadata": {},
     "output_type": "execute_result"
    }
   ],
   "source": [
    "import os\n",
    "os.name"
   ]
  },
  {
   "cell_type": "code",
   "execution_count": 36,
   "metadata": {},
   "outputs": [
    {
     "data": {
      "text/plain": [
       "'C:\\\\Users\\\\Chankoo\\\\Desktop\\\\GitHub\\\\python'"
      ]
     },
     "execution_count": 36,
     "metadata": {},
     "output_type": "execute_result"
    }
   ],
   "source": [
    "os.getcwd()"
   ]
  },
  {
   "cell_type": "code",
   "execution_count": null,
   "metadata": {},
   "outputs": [],
   "source": [
    "os.chdir(\"c:\\\\somewhere\") #작업경로를 새경로로 바꾼다"
   ]
  },
  {
   "cell_type": "code",
   "execution_count": null,
   "metadata": {},
   "outputs": [],
   "source": [
    "os.path.join(os.getcwd(),\"test\") #주어진 경로들을 합해서 하나의 경로만듦"
   ]
  },
  {
   "cell_type": "code",
   "execution_count": 37,
   "metadata": {},
   "outputs": [
    {
     "data": {
      "text/plain": [
       "['.git',\n",
       " '.gitignore',\n",
       " '.ipynb_checkpoints',\n",
       " '1.1 python정리.ipynb',\n",
       " '1.2 python정리2.ipynb',\n",
       " '1.2.1 python Functional Thinking.ipynb',\n",
       " '1.2.2 python Iterable VS Iterator VS Generator.ipynb',\n",
       " '1.3 python 정리3.ipynb',\n",
       " '1.4 python 정리4.ipynb',\n",
       " '2.1 SQLite.ipynb',\n",
       " '2.2 SQL Alchemy.ipynb',\n",
       " '2.3 MongoDB.ipynb',\n",
       " '2.3.1 Mongo Practice1',\n",
       " 'alchemy_core_test.db',\n",
       " 'Alchemy_ORM.db',\n",
       " 'binary.dat',\n",
       " 'hello.txt',\n",
       " 'README.md',\n",
       " 'test.csv',\n",
       " 'Untitled.ipynb']"
      ]
     },
     "execution_count": 37,
     "metadata": {},
     "output_type": "execute_result"
    }
   ],
   "source": [
    "os.listdir()"
   ]
  },
  {
   "cell_type": "markdown",
   "metadata": {},
   "source": [
    "### RE\n",
    "\n",
    "- 보통 p = re.complie() 로 패턴을 만들어 사용\n",
    "- 패턴을 data에서 찾으려면  p.findall(data) ->리스트로 반환\n",
    "- 패턴을 다른 패턴으로 수정하려면 p.sub('수정할string',data)\n",
    "- 패턴을 찾아 matchObj 만들고 싶으면 p.match(data) 혹은 p.search(data)\n",
    "- matchObj(=m)에 대해 m.group(), m.span(), m.start()등 사용가능"
   ]
  },
  {
   "cell_type": "code",
   "execution_count": 38,
   "metadata": {},
   "outputs": [],
   "source": [
    "import re"
   ]
  },
  {
   "cell_type": "code",
   "execution_count": 39,
   "metadata": {},
   "outputs": [],
   "source": [
    "data = \"\"\"\n",
    "'dog dot','do don't','dumb-dumb','no match','dumb-dumb'\n",
    "\"\"\""
   ]
  },
  {
   "cell_type": "code",
   "execution_count": 40,
   "metadata": {},
   "outputs": [
    {
     "data": {
      "text/plain": [
       "[('dog', 'dot'), ('do', 'don'), ('dumb', 'dumb'), ('dumb', 'dumb')]"
      ]
     },
     "execution_count": 40,
     "metadata": {},
     "output_type": "execute_result"
    }
   ],
   "source": [
    "p = re.compile(\"(d\\w+)\\W(d\\w+)\")\n",
    "p.findall(data)"
   ]
  },
  {
   "cell_type": "code",
   "execution_count": 41,
   "metadata": {},
   "outputs": [
    {
     "data": {
      "text/plain": [
       "['dog dot', 'do don', 'dumb-dumb', 'dumb-dumb']"
      ]
     },
     "execution_count": 41,
     "metadata": {},
     "output_type": "execute_result"
    }
   ],
   "source": [
    "p = re.compile(\"d\\w+\\Wd\\w+\")\n",
    "p.findall(data)"
   ]
  },
  {
   "cell_type": "code",
   "execution_count": 42,
   "metadata": {},
   "outputs": [
    {
     "name": "stdout",
     "output_type": "stream",
     "text": [
      "<_sre.SRE_Match object; span=(5, 11), match='Python'>\n",
      "None\n",
      "<_sre.SRE_Match object; span=(5, 11), match='Python'>\n"
     ]
    }
   ],
   "source": [
    "print(re.search(\"Python(?=!)\",\"Wow! Python!\"))\n",
    "print(re.search(\"Python(?!!)\",\"Wow! Python!\"))\n",
    "print(re.search(\"Python(?=&)\",\"Wow! Python&\"))"
   ]
  },
  {
   "cell_type": "code",
   "execution_count": 43,
   "metadata": {},
   "outputs": [
    {
     "name": "stdout",
     "output_type": "stream",
     "text": [
      "<_sre.SRE_Match object; span=(3, 8), match='class'>\n",
      "None\n",
      "None\n"
     ]
    }
   ],
   "source": [
    "p = re.compile(r\"\\bclass\\b\")\n",
    "print(p.search(\"no class at all\"))\n",
    "print(p.search(\"the declassified algorithm\"))\n",
    "print(p.search(\"one subclass is\"))"
   ]
  },
  {
   "cell_type": "code",
   "execution_count": 44,
   "metadata": {},
   "outputs": [
    {
     "data": {
      "text/plain": [
       "'problem1'"
      ]
     },
     "execution_count": 44,
     "metadata": {},
     "output_type": "execute_result"
    }
   ],
   "source": [
    "result = re.search('\\w+(?=:)',\"problem1:Solve the EQ1\")\n",
    "result.group()"
   ]
  },
  {
   "cell_type": "code",
   "execution_count": 45,
   "metadata": {},
   "outputs": [
    {
     "data": {
      "text/plain": [
       "'Solve'"
      ]
     },
     "execution_count": 45,
     "metadata": {},
     "output_type": "execute_result"
    }
   ],
   "source": [
    "result = re.search('(?<=:)\\w+',\"problem1:Solve the EQ1\")\n",
    "result.group()"
   ]
  },
  {
   "cell_type": "code",
   "execution_count": 49,
   "metadata": {},
   "outputs": [],
   "source": [
    "data = \"\"\"\n",
    "<HEAD>\n",
    "<Title>Chankoo's</Title>\n",
    "<\\HEAD>\n",
    "\"\"\""
   ]
  },
  {
   "cell_type": "code",
   "execution_count": 50,
   "metadata": {},
   "outputs": [
    {
     "name": "stdout",
     "output_type": "stream",
     "text": [
      "[\"Chankoo's\"]\n"
     ]
    }
   ],
   "source": [
    "p = re.compile(\"(?<=<TITLE>).*(?=</TITLE>)\",re.I)\n",
    "#print(p.search(data))\n",
    "print(p.findall(data))"
   ]
  },
  {
   "cell_type": "code",
   "execution_count": 51,
   "metadata": {},
   "outputs": [
    {
     "name": "stdout",
     "output_type": "stream",
     "text": [
      "[\"Chankoo's\"]\n"
     ]
    }
   ],
   "source": [
    "p = re.compile(\"(?imx)(?<=<TITLE>).*(?=</TITLE>)\")\n",
    "\n",
    "print(p.findall(data))"
   ]
  },
  {
   "cell_type": "code",
   "execution_count": 52,
   "metadata": {},
   "outputs": [],
   "source": [
    "data = \"\"\"\n",
    "'foo.bar','autoexec.bat','sendmail.cf','checksum.exe'\n",
    "\"\"\""
   ]
  },
  {
   "cell_type": "code",
   "execution_count": 53,
   "metadata": {},
   "outputs": [
    {
     "data": {
      "text/plain": [
       "['foo.bar', 'sendmail.cf', 'checksum.exe']"
      ]
     },
     "execution_count": 53,
     "metadata": {},
     "output_type": "execute_result"
    }
   ],
   "source": [
    "p = re.compile('\\w+[.](?!bat)\\w+')\n",
    "p.findall(data)"
   ]
  },
  {
   "cell_type": "code",
   "execution_count": 54,
   "metadata": {},
   "outputs": [
    {
     "data": {
      "text/plain": [
       "['foo.bar', 'sendmail.cf']"
      ]
     },
     "execution_count": 54,
     "metadata": {},
     "output_type": "execute_result"
    }
   ],
   "source": [
    "p = re.compile('\\w+[.](?!bat|exe)\\w+')\n",
    "p.findall(data)"
   ]
  },
  {
   "cell_type": "code",
   "execution_count": 55,
   "metadata": {},
   "outputs": [
    {
     "name": "stdout",
     "output_type": "stream",
     "text": [
      "<_sre.SRE_Match object; span=(0, 3), match='aab'>\n"
     ]
    }
   ],
   "source": [
    "dp = re.compile(\"a.b\")\n",
    "print(dp.match(\"aab\"))"
   ]
  },
  {
   "cell_type": "code",
   "execution_count": 56,
   "metadata": {},
   "outputs": [
    {
     "name": "stdout",
     "output_type": "stream",
     "text": [
      "None\n",
      "<_sre.SRE_Match object; span=(0, 3), match='a b'>\n",
      "None\n"
     ]
    }
   ],
   "source": [
    "print(dp.match(\"ab\"))\n",
    "print(dp.search(\"a b\"))\n",
    "print(dp.match(\"avgb\")) # .은 오직 하나랑 매치"
   ]
  },
  {
   "cell_type": "code",
   "execution_count": 57,
   "metadata": {},
   "outputs": [
    {
     "name": "stdout",
     "output_type": "stream",
     "text": [
      "<_sre.SRE_Match object; span=(0, 9), match='ABCABCABC'>\n"
     ]
    }
   ],
   "source": [
    "p = re.compile(\"(ABC)+\")\n",
    "m = p.search(\"ABCABCABC OK?\")\n",
    "print(m)"
   ]
  },
  {
   "cell_type": "code",
   "execution_count": 58,
   "metadata": {},
   "outputs": [
    {
     "name": "stdout",
     "output_type": "stream",
     "text": [
      "ABCABCABC\n",
      "ABC\n"
     ]
    }
   ],
   "source": [
    "print(m.group(0))\n",
    "print(m.group(1))"
   ]
  },
  {
   "cell_type": "code",
   "execution_count": 59,
   "metadata": {},
   "outputs": [],
   "source": [
    "p = re.compile(r\"(\\w+)\\s((\\d+)[-]\\d+[-]\\d+)\")\n",
    "m = p.search(\"Seo 010-1234-5678\")"
   ]
  },
  {
   "cell_type": "code",
   "execution_count": 60,
   "metadata": {},
   "outputs": [
    {
     "name": "stdout",
     "output_type": "stream",
     "text": [
      "Seo 010-1234-5678\n",
      "이름: Seo\n",
      "전화번호: 010-1234-5678\n",
      "국번: 010\n"
     ]
    }
   ],
   "source": [
    "print(m.group(0)) #매치된 전체 문자열\n",
    "print(\"이름:\",m.group(1)) \n",
    "print(\"전화번호:\",m.group(2))\n",
    "print(\"국번:\",m.group(3))"
   ]
  },
  {
   "cell_type": "code",
   "execution_count": 61,
   "metadata": {},
   "outputs": [
    {
     "data": {
      "text/plain": [
       "'the the'"
      ]
     },
     "execution_count": 61,
     "metadata": {},
     "output_type": "execute_result"
    }
   ],
   "source": [
    "p = re.compile(r\"(\\b\\w+)\\s+\\1\")\n",
    "p.search(\"Paris in the the spring\").group()"
   ]
  },
  {
   "cell_type": "code",
   "execution_count": 62,
   "metadata": {},
   "outputs": [
    {
     "data": {
      "text/plain": [
       "'the'"
      ]
     },
     "execution_count": 62,
     "metadata": {},
     "output_type": "execute_result"
    }
   ],
   "source": [
    "p = re.compile(r\"(?P<word>\\b\\w+)\\s+(?P=word)\")\n",
    "p.search(\"Paris in the the spring\").group(\"word\")"
   ]
  },
  {
   "cell_type": "code",
   "execution_count": 63,
   "metadata": {},
   "outputs": [
    {
     "name": "stdout",
     "output_type": "stream",
     "text": [
      "Seo\n",
      "010-3149-3103\n",
      "Seo\n",
      "010-3149-3103\n"
     ]
    }
   ],
   "source": [
    "p = re.compile(r\"(?P<name>\\w+)\\s(?P<TelNum>(\\d+)[-]\\d+[-]\\d+)\")\n",
    "m = p.search(\"Seo 010-3149-3103\")\n",
    "print(m.group(\"name\"))\n",
    "print(m.group(\"TelNum\"))\n",
    "print(m.group(1))\n",
    "print(m.group(2))"
   ]
  },
  {
   "cell_type": "code",
   "execution_count": 64,
   "metadata": {},
   "outputs": [
    {
     "name": "stdout",
     "output_type": "stream",
     "text": [
      "None\n",
      "<_sre.SRE_Match object; span=(2, 8), match='python'>\n"
     ]
    }
   ],
   "source": [
    "p = re.compile('[a-z]+')\n",
    "print(p.match(\"1 python\"))\n",
    "print(p.search(\"1 python\")) #match와 search차이\n",
    "#match는 패턴과 똑같이 match되어야 보여줌 \n",
    "# search는 패턴을 찾아서 보여줌\n",
    "\n"
   ]
  },
  {
   "cell_type": "code",
   "execution_count": 65,
   "metadata": {},
   "outputs": [],
   "source": [
    "line = \"Cats are smarter than dogs\""
   ]
  },
  {
   "cell_type": "code",
   "execution_count": 66,
   "metadata": {},
   "outputs": [
    {
     "name": "stdout",
     "output_type": "stream",
     "text": [
      "matchOBJ.group() Cats are smarter than dogs\n",
      "matchOBJ.group(1) Cats\n",
      "matchOBJ.group(2) smarter\n",
      "matchOBJ.group(3) than dogs\n"
     ]
    }
   ],
   "source": [
    "matchOBJ = re.match(r\"(.*) are (.*?) (.*)\",line,re.M|re.I)\n",
    "if matchOBJ:\n",
    "    print(\"matchOBJ.group()\",matchOBJ.group())\n",
    "    print(\"matchOBJ.group(1)\",matchOBJ.group(1))\n",
    "    print(\"matchOBJ.group(2)\",matchOBJ.group(2))\n",
    "    print(\"matchOBJ.group(3)\",matchOBJ.group(3))\n",
    "else:\n",
    "    print(\"No match\")"
   ]
  },
  {
   "cell_type": "code",
   "execution_count": 67,
   "metadata": {},
   "outputs": [
    {
     "name": "stdout",
     "output_type": "stream",
     "text": [
      "matchOBJ.group() Cats are smarter than dogs\n",
      "matchOBJ.group(1) Cats\n",
      "matchOBJ.group(2) smarter than\n",
      "matchOBJ.group(3) dogs\n"
     ]
    }
   ],
   "source": [
    "matchOBJ = re.match(r\"(.*) are (.*) (.*)\",line,re.M|re.I)\n",
    "if matchOBJ:\n",
    "    print(\"matchOBJ.group()\",matchOBJ.group())\n",
    "    print(\"matchOBJ.group(1)\",matchOBJ.group(1))\n",
    "    print(\"matchOBJ.group(2)\",matchOBJ.group(2))\n",
    "    print(\"matchOBJ.group(3)\",matchOBJ.group(3))\n",
    "else:\n",
    "    print(\"No match\")"
   ]
  },
  {
   "cell_type": "code",
   "execution_count": 68,
   "metadata": {},
   "outputs": [
    {
     "name": "stdout",
     "output_type": "stream",
     "text": [
      "matchOBJ.group() Cats are smarter than dogs\n",
      "matchOBJ.group(1) Cats\n",
      "matchOBJ.group(2) smarter than dogs\n"
     ]
    }
   ],
   "source": [
    "matchOBJ = re.match(r\"(.*) are (.*)\",line,re.M|re.I)\n",
    "if matchOBJ:\n",
    "    print(\"matchOBJ.group()\",matchOBJ.group())\n",
    "    print(\"matchOBJ.group(1)\",matchOBJ.group(1))\n",
    "    print(\"matchOBJ.group(2)\",matchOBJ.group(2))\n",
    "    \n",
    "else:\n",
    "    print(\"No match\")"
   ]
  },
  {
   "cell_type": "code",
   "execution_count": 69,
   "metadata": {},
   "outputs": [
    {
     "name": "stdout",
     "output_type": "stream",
     "text": [
      "matchOBJ.group() Cats are smarter than dogs\n",
      "matchOBJ.group(1) Cats\n",
      "matchOBJ.group(2) smarter\n",
      "matchOBJ.group(3) than\n",
      "matchOBJ.group(4) dogs\n"
     ]
    }
   ],
   "source": [
    "matchOBJ = re.match(r\"(.*) are (.*?) (.*?) (.*?$)\",line,re.M|re.I)\n",
    "if matchOBJ:\n",
    "    print(\"matchOBJ.group()\",matchOBJ.group())\n",
    "    print(\"matchOBJ.group(1)\",matchOBJ.group(1))\n",
    "    print(\"matchOBJ.group(2)\",matchOBJ.group(2))\n",
    "    print(\"matchOBJ.group(3)\",matchOBJ.group(3))\n",
    "    print(\"matchOBJ.group(4)\",matchOBJ.group(4))\n",
    "    \n",
    "else:\n",
    "    print(\"No match\")"
   ]
  },
  {
   "cell_type": "code",
   "execution_count": 70,
   "metadata": {},
   "outputs": [
    {
     "name": "stdout",
     "output_type": "stream",
     "text": [
      "matchOBJ.group() Cats are smarter than \n",
      "matchOBJ.group(1) Cats\n",
      "matchOBJ.group(2) smarter\n",
      "matchOBJ.group(3) than\n",
      "matchOBJ.group(4) \n"
     ]
    }
   ],
   "source": [
    "matchOBJ = re.match(r\"(.*) are (.*?) (.*?) (.*?)\",line,re.M|re.I)\n",
    "if matchOBJ:\n",
    "    print(\"matchOBJ.group()\",matchOBJ.group())\n",
    "    print(\"matchOBJ.group(1)\",matchOBJ.group(1))\n",
    "    print(\"matchOBJ.group(2)\",matchOBJ.group(2))\n",
    "    print(\"matchOBJ.group(3)\",matchOBJ.group(3))\n",
    "    print(\"matchOBJ.group(4)\",matchOBJ.group(4)) #??\n",
    "    \n",
    "else:\n",
    "    print(\"No match\")"
   ]
  },
  {
   "cell_type": "code",
   "execution_count": 71,
   "metadata": {},
   "outputs": [
    {
     "name": "stdout",
     "output_type": "stream",
     "text": [
      "Phone Number:  010-1234-1234 \n",
      "Phone Number:  01012341234\n"
     ]
    }
   ],
   "source": [
    "phone = \"010-1234-1234 #This is phone num\"\n",
    "num = re.sub(r\"#.*\",\"\",phone)\n",
    "print(\"Phone Number: \",num)\n",
    "num = re.sub(r\"\\D\",\"\",phone)\n",
    "print(\"Phone Number: \",num)"
   ]
  },
  {
   "cell_type": "code",
   "execution_count": 72,
   "metadata": {},
   "outputs": [
    {
     "data": {
      "text/plain": [
       "'colour socks and colour socks'"
      ]
     },
     "execution_count": 72,
     "metadata": {},
     "output_type": "execute_result"
    }
   ],
   "source": [
    "p = re.compile(\"(blue|white|red)\")\n",
    "p.sub(\"colour\",\"blue socks and red socks\")"
   ]
  },
  {
   "cell_type": "code",
   "execution_count": 73,
   "metadata": {},
   "outputs": [
    {
     "data": {
      "text/plain": [
       "('colour socks and colour socks', 2)"
      ]
     },
     "execution_count": 73,
     "metadata": {},
     "output_type": "execute_result"
    }
   ],
   "source": [
    "p.subn('colour',\"blue socks and red socks\")"
   ]
  },
  {
   "cell_type": "code",
   "execution_count": 74,
   "metadata": {},
   "outputs": [
    {
     "data": {
      "text/plain": [
       "'colour socks and red socks'"
      ]
     },
     "execution_count": 74,
     "metadata": {},
     "output_type": "execute_result"
    }
   ],
   "source": [
    "p.sub(\"colour\",\"blue socks and red socks\", count =1)"
   ]
  },
  {
   "cell_type": "code",
   "execution_count": 75,
   "metadata": {},
   "outputs": [
    {
     "data": {
      "text/plain": [
       "('colour socks and red socks', 1)"
      ]
     },
     "execution_count": 75,
     "metadata": {},
     "output_type": "execute_result"
    }
   ],
   "source": [
    "p.subn('colour',\"blue socks and red socks\",count=1)"
   ]
  },
  {
   "cell_type": "code",
   "execution_count": 76,
   "metadata": {},
   "outputs": [
    {
     "name": "stdout",
     "output_type": "stream",
     "text": [
      "010-1234-5678 Seo\n"
     ]
    }
   ],
   "source": [
    "p = re.compile(r\"(?P<name>\\w+)\\s(?P<phone>(\\d+)[-]\\d+[-]\\d+)\")\n",
    "m = p.sub(\"\\g<phone> \\g<name>\",\"Seo 010-1234-5678\")\n",
    "print(m)"
   ]
  },
  {
   "cell_type": "code",
   "execution_count": 77,
   "metadata": {},
   "outputs": [
    {
     "name": "stdout",
     "output_type": "stream",
     "text": [
      "010-124-1231    Seo\n"
     ]
    }
   ],
   "source": [
    "print(p.sub(r\"\\g<2>    \\g<1>\",\"Seo 010-124-1231\"))"
   ]
  },
  {
   "cell_type": "code",
   "execution_count": 78,
   "metadata": {},
   "outputs": [
    {
     "name": "stdout",
     "output_type": "stream",
     "text": [
      "32\n"
     ]
    }
   ],
   "source": [
    "#non-greedy 문자 '?' -> 가능한 가장 최소한의 반복을 수행하도록 도와주는 역할\n",
    "s = r\"<html><head><title>Title<\\title>\"\n",
    "print(len(s))"
   ]
  },
  {
   "cell_type": "code",
   "execution_count": 79,
   "metadata": {},
   "outputs": [
    {
     "name": "stdout",
     "output_type": "stream",
     "text": [
      "(0, 32)\n",
      "<html><head><title>Title<\\title>\n"
     ]
    }
   ],
   "source": [
    "print(re.match('<.*>',s).span())\n",
    "print(re.match('<.*>',s).group())"
   ]
  },
  {
   "cell_type": "code",
   "execution_count": 80,
   "metadata": {},
   "outputs": [
    {
     "name": "stdout",
     "output_type": "stream",
     "text": [
      "(0, 6)\n",
      "<html>\n"
     ]
    }
   ],
   "source": [
    "print(re.match('<.*?>',s).span())\n",
    "print(re.match('<.*?>',s).group())"
   ]
  },
  {
   "cell_type": "code",
   "execution_count": 81,
   "metadata": {},
   "outputs": [
    {
     "data": {
      "text/plain": [
       "'Please, square the following numbers, 9 49 121 169 289 361.'"
      ]
     },
     "execution_count": 81,
     "metadata": {},
     "output_type": "execute_result"
    }
   ],
   "source": [
    "def sqaurerepl(match):\n",
    "    value = int(match.group())\n",
    "    return str(value**2)\n",
    "p = re.compile(r'\\d+')\n",
    "p.sub(sqaurerepl,\"Please, square the following numbers, 3 7 11 13 17 19.\")"
   ]
  },
  {
   "cell_type": "code",
   "execution_count": 82,
   "metadata": {},
   "outputs": [
    {
     "data": {
      "text/plain": [
       "'\\nake'"
      ]
     },
     "execution_count": 82,
     "metadata": {},
     "output_type": "execute_result"
    }
   ],
   "source": [
    "ss = re.compile(\".ake\",re.S)\n",
    "rr = ss.match(\"\\nake\")\n",
    "rr.group()"
   ]
  },
  {
   "cell_type": "code",
   "execution_count": 83,
   "metadata": {},
   "outputs": [
    {
     "data": {
      "text/plain": [
       "'Python'"
      ]
     },
     "execution_count": 83,
     "metadata": {},
     "output_type": "execute_result"
    }
   ],
   "source": [
    "II = re.compile('[a-z]+',re.I)\n",
    "ii = II.match('Python')\n",
    "ii.group()"
   ]
  },
  {
   "cell_type": "code",
   "execution_count": 85,
   "metadata": {},
   "outputs": [],
   "source": [
    " data = \"\"\"Hello World\n",
    "... Hello Dahl\n",
    "... Hello Moon\"\"\""
   ]
  },
  {
   "cell_type": "code",
   "execution_count": 86,
   "metadata": {},
   "outputs": [
    {
     "data": {
      "text/plain": [
       "['Hello World', 'Hello Dahl', 'Hello Moon']"
      ]
     },
     "execution_count": 86,
     "metadata": {},
     "output_type": "execute_result"
    }
   ],
   "source": [
    "MM = re.compile('^Hello\\s\\w+',re.M)\n",
    "MM.findall(data)\n",
    "#'^' 메타 문자는 Hello라는 문자열이 사용된 첫번째 라인만 매치시키지만\n",
    "#re.Multiline 옵션으로 메타문자가 문자열 전체 아니라 각 라인의 처음이라는 의미갖게됨\n"
   ]
  },
  {
   "cell_type": "code",
   "execution_count": 87,
   "metadata": {},
   "outputs": [],
   "source": [
    "charref = re.compile(r'&[#](0[0-7]+|[0-9]+|x[0-9a-fA-F]+);')"
   ]
  },
  {
   "cell_type": "code",
   "execution_count": 88,
   "metadata": {},
   "outputs": [],
   "source": [
    "charref = re.compile(r\"\"\"\n",
    "&[#] # Start of a numeric entity reference\n",
    "(\n",
    "0[0-7]+ # Octal form\n",
    "| [0-9]+ # Decimal form\n",
    "| x[0-9a-fA-F]+ # Hexadecimal form\n",
    ")\n",
    "; # Trailing semicolon\n",
    "\"\"\", re.VERBOSE)"
   ]
  },
  {
   "cell_type": "code",
   "execution_count": 89,
   "metadata": {},
   "outputs": [
    {
     "name": "stdout",
     "output_type": "stream",
     "text": [
      "&#106;\n"
     ]
    }
   ],
   "source": [
    "cr = charref.match(\"&#106;\")\n",
    "if (cr is not None):\n",
    "    print(cr.group())\n",
    "else:\n",
    "    print(cr)"
   ]
  },
  {
   "cell_type": "code",
   "execution_count": 90,
   "metadata": {},
   "outputs": [
    {
     "name": "stdout",
     "output_type": "stream",
     "text": [
      "<callable_iterator object at 0x0000022967118550>\n",
      "<_sre.SRE_Match object; span=(0, 4), match='life'>\n",
      "<_sre.SRE_Match object; span=(5, 7), match='is'>\n",
      "<_sre.SRE_Match object; span=(8, 11), match='too'>\n",
      "<_sre.SRE_Match object; span=(12, 17), match='short'>\n"
     ]
    }
   ],
   "source": [
    "p = re.compile('[a-z]+')\n",
    "result = p.finditer(\"life is too short\")\n",
    "print(result)\n",
    "for r in result:\n",
    "    print(r)\n"
   ]
  },
  {
   "cell_type": "code",
   "execution_count": null,
   "metadata": {},
   "outputs": [],
   "source": []
  },
  {
   "cell_type": "code",
   "execution_count": 91,
   "metadata": {},
   "outputs": [],
   "source": [
    "#실습1\n",
    "data = \"\"\"\n",
    "ABC01: $23.45\n",
    "HGG42: $5.01\n",
    "CFXE1: $889.00\n",
    "XTC99: $69.89\n",
    "Total items found: 4\n",
    "\"\"\""
   ]
  },
  {
   "cell_type": "code",
   "execution_count": 92,
   "metadata": {},
   "outputs": [
    {
     "data": {
      "text/plain": [
       "['$23.45', '$5.01', '$889.00', '$69.89']"
      ]
     },
     "execution_count": 92,
     "metadata": {},
     "output_type": "execute_result"
    }
   ],
   "source": [
    "p = re.compile(r\"\\$\\d+[.]\\d+\")\n",
    "p.findall(data)\n"
   ]
  },
  {
   "cell_type": "code",
   "execution_count": 93,
   "metadata": {},
   "outputs": [
    {
     "name": "stdout",
     "output_type": "stream",
     "text": [
      "<_sre.SRE_Match object; span=(8, 14), match='$23.45'>\n"
     ]
    }
   ],
   "source": [
    "p = re.compile(r\"\\$\\d+[.]\\d+\")\n",
    "mObj = p.search(data)\n",
    "if mObj==None:\n",
    "    print(\"Not found\")\n",
    "else:\n",
    "    print(mObj)"
   ]
  },
  {
   "cell_type": "code",
   "execution_count": 94,
   "metadata": {},
   "outputs": [],
   "source": [
    "#실습2\n",
    "data = \"\"\"\n",
    "I paid $30 for 100 apples,\n",
    "50 oranges, and 60 pears.\n",
    "I saved $5 on this order.\n",
    "\"\"\""
   ]
  },
  {
   "cell_type": "code",
   "execution_count": 95,
   "metadata": {},
   "outputs": [
    {
     "name": "stdout",
     "output_type": "stream",
     "text": [
      "가격을 나타내는 숫자들\n",
      "30\n",
      "5\n",
      "수량을 나타내는 숫자들\n",
      "100\n",
      "50\n",
      "60\n"
     ]
    }
   ],
   "source": [
    "p1 = re.compile(r\"\\$\\d+\")\n",
    "p2 = re.compile(r\"\\s\\d+\")\n",
    "\n",
    "prices = p1.findall(data)\n",
    "quants = p2.findall(data)\n",
    "print(\"가격을 나타내는 숫자들\")\n",
    "for p in prices:\n",
    "    print(int(p[1:]))\n",
    "print(\"수량을 나타내는 숫자들\")\n",
    "for q in quants:\n",
    "    print(int(q))"
   ]
  }
 ],
 "metadata": {
  "kernelspec": {
   "display_name": "Python 3",
   "language": "python",
   "name": "python3"
  },
  "language_info": {
   "codemirror_mode": {
    "name": "ipython",
    "version": 3
   },
   "file_extension": ".py",
   "mimetype": "text/x-python",
   "name": "python",
   "nbconvert_exporter": "python",
   "pygments_lexer": "ipython3",
   "version": "3.6.4"
  }
 },
 "nbformat": 4,
 "nbformat_minor": 2
}
