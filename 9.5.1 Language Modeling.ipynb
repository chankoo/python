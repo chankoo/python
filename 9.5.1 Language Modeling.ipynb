{
 "cells": [
  {
   "cell_type": "code",
   "execution_count": 1,
   "metadata": {},
   "outputs": [],
   "source": [
    "%load_ext autoreload\n",
    "%autoreload 2\n",
    "%matplotlib inline"
   ]
  },
  {
   "cell_type": "code",
   "execution_count": 2,
   "metadata": {},
   "outputs": [
    {
     "name": "stdout",
     "output_type": "stream",
     "text": [
      "100,000\n"
     ]
    }
   ],
   "source": [
    "sentences = open(\"europarl-10_sample.en\", \"rt\", encoding=\"utf8\").readlines()\n",
    "print(\"{:,}\".format(len(sentences)))"
   ]
  },
  {
   "cell_type": "code",
   "execution_count": 5,
   "metadata": {},
   "outputs": [
    {
     "name": "stdout",
     "output_type": "stream",
     "text": [
      "[nltk_data] Downloading package perluniprops to\n",
      "[nltk_data]     C:\\Users\\Chankoo\\AppData\\Roaming\\nltk_data...\n",
      "[nltk_data]   Unzipping misc\\perluniprops.zip.\n"
     ]
    },
    {
     "data": {
      "text/plain": [
       "True"
      ]
     },
     "execution_count": 5,
     "metadata": {},
     "output_type": "execute_result"
    }
   ],
   "source": [
    "import nltk\n",
    "nltk.download('perluniprops')\n",
    "nltk.download('nonbreaking_prefixes')"
   ]
  },
  {
   "cell_type": "code",
   "execution_count": 6,
   "metadata": {},
   "outputs": [],
   "source": [
    "import torch\n",
    "import torch.nn as nn\n",
    "import torch.nn.functional as F\n",
    "\n",
    "from nltk.tokenize.moses import MosesTokenizer\n",
    "from torch.utils.data import Dataset, DataLoader\n",
    "from collections import Counter\n",
    "\n",
    "from time import time"
   ]
  },
  {
   "cell_type": "markdown",
   "metadata": {},
   "source": [
    "## Vocabulary 생성\n",
    "### Parameters\n",
    "- **corpus**: vocabulary 만들 때 사용할 문장\n",
    "- **max_size**: 최대 vocabulary 크기\n",
    "- **lang**: 사용할 언어\n",
    "\n",
    "### Special tokens\n",
    "- **PAD**: 문장길이를 맞춰주기 위한 토큰\n",
    "- **EOS**: 문장의 마지막을 의미하는 토큰\n",
    "- **UNK**: vocabulary에 존재하지 않는 단어를 의미하는 토큰"
   ]
  },
  {
   "cell_type": "code",
   "execution_count": 9,
   "metadata": {},
   "outputs": [],
   "source": [
    "class Vocabulary(object):\n",
    "    def __init__(self, corpus: list, max_size=10000, lang='en'):\n",
    "        self.special_tokens = {\n",
    "            0: '<PAD>',\n",
    "            1: '<EOS>',\n",
    "            2: '<UNK>'\n",
    "        }\n",
    "        \n",
    "        self.dictionary = {}\n",
    "        self.dictionary.update(self.special_tokens)\n",
    "        self.reversed_dictionary = {}\n",
    "        \n",
    "        self.max_size = max_size\n",
    "        self.tokenizer = MosesTokenizer(lang)\n",
    "        \n",
    "        self._build(corpus)\n",
    "        \n",
    "    def _build(self, sentences):\n",
    "        counter = Counter()\n",
    "        \n",
    "        for sentence in sentences:\n",
    "            sentence = sentence.strip()\n",
    "            words = self.tokenizer.tokenize(sentence)\n",
    "            counter.update(words)\n",
    "        \n",
    "        len_special_tokens = len(self.special_tokens)\n",
    "        for i, (word, counter) in enumerate(counter.most_common(self.max_size - len_special_tokens)):\n",
    "            self.dictionary[i+len_special_tokens] = word\n",
    "        \n",
    "        self.reversed_dictionary = dict(zip(self.dictionary.values(), self.dictionary.keys()))\n",
    "    \n",
    "    def to_vector(self, words: list):\n",
    "        vector = []\n",
    "        for word in words:\n",
    "            # if the word doesn't exist, it returns index of '<UNK>'\n",
    "            index = self.reversed_dictionary.get(word, 2)\n",
    "            vector.append(index)\n",
    "        return  vector\n",
    "    \n",
    "    def to_string(self, vector: list):\n",
    "        words = []\n",
    "        for index in vector:\n",
    "            word = self.dictionary[index]\n",
    "            words.append(word)\n",
    "            \n",
    "        return words\n",
    "    \n",
    "vocab = Vocabulary(sentences)"
   ]
  },
  {
   "cell_type": "code",
   "execution_count": 10,
   "metadata": {},
   "outputs": [
    {
     "name": "stdout",
     "output_type": "stream",
     "text": [
      "[(0, '<PAD>'), (1, '<EOS>'), (2, '<UNK>'), (3, '.'), (4, 'is'), (5, 'the'), (6, 'to'), (7, 'The'), (8, ','), (9, 'I')]\n",
      "[('<PAD>', 0), ('<EOS>', 1), ('<UNK>', 2), ('.', 3), ('is', 4), ('the', 5), ('to', 6), ('The', 7), (',', 8), ('I', 9)]\n"
     ]
    }
   ],
   "source": [
    "print(list(vocab.dictionary.items())[:10])\n",
    "print(list(vocab.reversed_dictionary.items())[:10])"
   ]
  },
  {
   "cell_type": "markdown",
   "metadata": {},
   "source": [
    "## 데이터 로딩을 위한 dataset class 생성\n",
    "- torch.utils.data 모듈 안에 있는 **Dataset** 클래스를 상속\n",
    "- 모든 문장 뒤에는 문장의 끝을 알리는 **EOS(End of Sentence)** 토큰을 추가\n",
    "- 문장 내의 단어들을 해당하는 **index**로 변환\n",
    "\n",
    "### Parameters\n",
    "- **corpus**: train 시 사용할 문장\n",
    "- **vocab**: 만들어 놓은 vocabulary\n",
    "- **lang**: 사용할 언어"
   ]
  },
  {
   "cell_type": "code",
   "execution_count": 11,
   "metadata": {},
   "outputs": [],
   "source": [
    "class SequenceDataset(Dataset):\n",
    "    def __init__(self, corpus: list, vocab: Vocabulary, lang='en'):\n",
    "        super(SequenceDataset, self).__init__()\n",
    "        self.vocab = vocab\n",
    "        self.corpus = corpus\n",
    "        self.tokenizer = MosesTokenizer(lang)\n",
    "    \n",
    "    def __getitem__(self, item):\n",
    "        source_sent = self.corpus[item].strip()\n",
    "        source_sent = self.tokenizer.tokenize(source_sent)\n",
    "        \n",
    "        source_sent.append('<EOS>')\n",
    "        source_sent = self.vocab.to_vector(source_sent)\n",
    "        \n",
    "        return source_sent\n",
    "    \n",
    "    def __len__(self):\n",
    "        return len(self.corpus)\n",
    "    \n"
   ]
  },
  {
   "cell_type": "markdown",
   "metadata": {},
   "source": [
    "## collate_fn\n",
    "- **dataloader**에 사용되는 함수\n",
    "- 서로 다른 길이를 가진 문장들이 같은 길이를 갖도록 PAD 토큰 추가"
   ]
  },
  {
   "cell_type": "code",
   "execution_count": 12,
   "metadata": {},
   "outputs": [],
   "source": [
    "def collate_fn(source):\n",
    "    max_src = max([len(s) for s in source])\n",
    "    \n",
    "    for s in source:\n",
    "        s += [vocab.reversed_dictionary['<PAD>']] * (max_src - len(s))\n",
    "        \n",
    "    return source\n",
    "    "
   ]
  },
  {
   "cell_type": "markdown",
   "metadata": {},
   "source": [
    "## Language Model 클래스\n",
    "- *'나는 학교에 간다'* 문장이 존재\n",
    "- **'나는'** 이 입력으로 주어지면 **'학교에'**를 예측\n",
    "- **'학교에'**가 주어지면 **'간다'**를 예측\n",
    "\n",
    "### Paramters\n",
    "- **vocab_size**: 최대 vocabulary 크기를 의미\n",
    "- **embed_size**: 하나의 단어를 vector 형태로 변환할 때, vector의 크기를 의미\n",
    "- **hidden_size**: RNN(Recurrent Neural Network)를 계산할 시, 사용하는 matrix의 크기를 의미\n",
    "- **num_layers**: RNN의 layer 수"
   ]
  },
  {
   "cell_type": "code",
   "execution_count": 13,
   "metadata": {},
   "outputs": [],
   "source": [
    "class LM(nn.Module):\n",
    "    def __init__(self, vocab_size, embed_size, hidden_size, num_layers):\n",
    "        super(LM, self).__init__()\n",
    "        self.hidden_size = hidden_size\n",
    "        \n",
    "        self.embed = nn.Embedding(vocab_size, embed_size, padding_idx=vocab.reversed_dictionary['<PAD>'])\n",
    "        self.rnn = nn.GRU(embed_size, hidden_size, num_layers, batch_first=True)\n",
    "        self.linear = nn.Linear(hidden_size, vocab_size)\n",
    "      \n",
    "    def forward(self, x, h):\n",
    "        #x.shape = batchsize x sequence length x vocab size\n",
    "        x = self.embed(x)\n",
    "        #x.shape = batchsize x sequence length x embeded size\n",
    "        \n",
    "        out, h = self.rnn(x, h)\n",
    "        out = out.reshape(-1, self.hidden_size)\n",
    "        out = self.linear(out)\n",
    "        return out, h\n",
    "    \n",
    "    def predict(self, x, h):\n",
    "        seq_len = x.shape[1]\n",
    "        x = self.embed(x)\n",
    "\n",
    "        out, h = self.rnn(x, h)\n",
    "        out = out[:, :-1].reshape(-1, self.hidden_size)\n",
    "        out = self.linear(out)\n",
    "        out = F.softmax(out, dim=1).argmax(dim=1)\n",
    "        return out"
   ]
  },
  {
   "cell_type": "code",
   "execution_count": 14,
   "metadata": {},
   "outputs": [],
   "source": [
    "vocab_size = 10000\n",
    "embed_size = 128\n",
    "hidden_size = 512\n",
    "num_layers = 1\n",
    "\n",
    "LM_model = LM(vocab_size, embed_size, hidden_size, num_layers)"
   ]
  },
  {
   "cell_type": "code",
   "execution_count": 15,
   "metadata": {},
   "outputs": [
    {
     "name": "stdout",
     "output_type": "stream",
     "text": [
      "Step:       0 Loss: 64.468842\n",
      "Step:      10 Loss: 39.141621\n",
      "Step:      20 Loss: 26.681957\n",
      "Step:      30 Loss: 24.786127\n",
      "Step:      40 Loss: 18.379395\n",
      "Step:      50 Loss: 15.402044\n",
      "Step:      60 Loss: 15.963209\n",
      "Step:      70 Loss: 12.279917\n",
      "Step:      80 Loss: 17.347952\n",
      "Step:      90 Loss: 11.721835\n",
      "Step:     100 Loss: 8.945443\n",
      "Step:     110 Loss: 8.908700\n",
      "Step:     120 Loss: 8.429061\n",
      "Step:     130 Loss: 5.869609\n",
      "Step:     140 Loss: 5.861592\n",
      "Step:     150 Loss: 6.861679\n",
      "Step:     160 Loss: 5.978749\n",
      "Step:     170 Loss: 4.370531\n",
      "Step:     180 Loss: 5.703103\n",
      "Step:     190 Loss: 6.271022\n",
      "Step:     200 Loss: 3.485357\n",
      "Step:     210 Loss: 3.499555\n",
      "Step:     220 Loss: 6.591218\n",
      "Step:     230 Loss: 5.113854\n",
      "Time: 69.27584052085876\n"
     ]
    }
   ],
   "source": [
    "batch_size = 32\n",
    "dataset = SequenceDataset(sentences, vocab)\n",
    "dataloader = DataLoader(dataset, batch_size=batch_size, shuffle=True, num_workers=0, collate_fn=collate_fn)\n",
    "\n",
    "criterion = nn.CrossEntropyLoss(ignore_index=vocab.reversed_dictionary['<PAD>'], reduction='sum')\n",
    "optimizer = torch.optim.Adam(LM_model.parameters(), lr=0.002)\n",
    "\n",
    "start = time()\n",
    "for step, s in enumerate(dataloader):\n",
    "    s = torch.tensor(s, dtype=torch.long, requires_grad=False)\n",
    "    h = torch.zeros(num_layers, batch_size, hidden_size, requires_grad=False)\n",
    "    outputs, _ = LM_model(s[:, :-1], h)\n",
    "    targets = s[:, :-1].reshape(-1, )\n",
    "\n",
    "    loss = criterion(outputs, targets) / batch_size\n",
    "    LM_model.zero_grad()\n",
    "    loss.backward()\n",
    "    nn.utils.clip_grad_norm_(LM_model.parameters(), max_norm=0.5) # gradient vanishing 방지\n",
    "    optimizer.step()\n",
    "\n",
    "    if step % 10 == 0:\n",
    "        print(\"Step: {:7} Loss: {:.6f}\".format(step, loss))\n",
    "    \n",
    "    if loss <= 3.0:\n",
    "        break\n",
    "print(\"Time: {}\".format(time() - start))"
   ]
  },
  {
   "cell_type": "code",
   "execution_count": 16,
   "metadata": {},
   "outputs": [
    {
     "name": "stdout",
     "output_type": "stream",
     "text": [
      "Original: But they were betrayed . <EOS> <PAD> <PAD> <PAD> <PAD>\n",
      "Predicted: But they were May . <EOS> basic . <EOS> .\n",
      "\n",
      "Original: The next item is the vote . <EOS> <PAD> <PAD>\n",
      "Predicted: The next item is the vote . <EOS> basic we\n",
      "\n",
      "Original: We must support innovation . <EOS> <PAD> <PAD> <PAD> <PAD>\n",
      "Predicted: We must support innovation . <EOS> basic <EOS> <EOS> <EOS>\n",
      "\n",
      "Original: Then it is one for Parliament to deal with .\n",
      "Predicted: Then it is one for Parliament to deal with .\n",
      "\n",
      "Original: This can be put down to one simple reason .\n",
      "Predicted: This can be put down to one simple reason .\n",
      "\n",
      "Original: This is unfair , as Mr Haarder also said .\n",
      "Predicted: This is unfair , as Mr Busquin also said .\n",
      "\n",
      "Original: A divided Europe can have no part in this .\n",
      "Predicted: A divided Europe can have no part in this .\n",
      "\n",
      "Original: . <EOS> <PAD> <PAD> <PAD> <PAD> <PAD> <PAD> <PAD> <PAD>\n",
      "Predicted: . <EOS> basic <EOS> <EOS> . <EOS> <EOS> <EOS> <EOS>\n",
      "\n",
      "Original: We have therefore voted against the report . <EOS> <PAD>\n",
      "Predicted: We have therefore voted against the report . <EOS> basic\n",
      "\n",
      "Original: The exchange of information could be rationalised . <EOS> <PAD>\n",
      "Predicted: The exchange of information could be matters . <EOS> basic\n",
      "\n",
      "Original: Only a dream , of course , Madam President !\n",
      "Predicted: Only a dream , of course , Madam President !\n",
      "\n",
      "Original: Thank you , Commissioner Bolkestein . <EOS> <PAD> <PAD> <PAD>\n",
      "Predicted: Thank you , Commissioner Bolkestein . <EOS> basic we <EOS>\n",
      "\n",
      "Original: The British Conservatives today abstained on this report . <EOS>\n",
      "Predicted: The British Conservatives today abstained on this report . <EOS>\n",
      "\n",
      "Original: What could the Council have to hide ? <EOS> <PAD>\n",
      "Predicted: What could the Council have to hide ? <EOS> basic\n",
      "\n",
      "Original: . <EOS> <PAD> <PAD> <PAD> <PAD> <PAD> <PAD> <PAD> <PAD>\n",
      "Predicted: . <EOS> basic <EOS> <EOS> . <EOS> <EOS> <EOS> <EOS>\n",
      "\n",
      "Original: We shall now proceed to the vote . <EOS> <PAD>\n",
      "Predicted: We shall now proceed to the vote . <EOS> basic\n",
      "\n",
      "Original: . <EOS> <PAD> <PAD> <PAD> <PAD> <PAD> <PAD> <PAD> <PAD>\n",
      "Predicted: . <EOS> basic <EOS> <EOS> . <EOS> <EOS> <EOS> <EOS>\n",
      "\n",
      "Original: And why <UNK> , you might ask ? <EOS> <PAD>\n",
      "Predicted: And why <UNK> , you might ask ? <EOS> Bank\n",
      "\n",
      "Original: Europe has done no such thing . <EOS> <PAD> <PAD>\n",
      "Predicted: Europe has done no such thing . <EOS> basic we\n",
      "\n",
      "Original: The memory of European cinema is being lost . <EOS>\n",
      "Predicted: The ’ of European I is being lost . <EOS>\n",
      "\n",
      "Original: I therefore agree with the Council ’ s position .\n",
      "Predicted: I therefore agree with the Council ’ s position .\n",
      "\n",
      "Original: What action has it taken ? <EOS> <PAD> <PAD> <PAD>\n",
      "Predicted: What action has it taken ? <EOS> Bank we <EOS>\n",
      "\n",
      "Original: You are right , we cannot remain insensitive . <EOS>\n",
      "Predicted: You are right , we cannot remain insensitive . <EOS>\n",
      "\n",
      "Original: Who is talking about human rights ? <EOS> <PAD> <PAD>\n",
      "Predicted: Who is talking about human rights ? <EOS> Bank we\n",
      "\n",
      "Original: That is how development proceeds . <EOS> <PAD> <PAD> <PAD>\n",
      "Predicted: That is how development proceeds . <EOS> basic we <EOS>\n",
      "\n",
      "Original: I do not wish to engage in ideological debate .\n",
      "Predicted: I do not wish to engage in Thank debate .\n",
      "\n",
      "Original: The <UNK> revolution was also <UNK> . <EOS> <PAD> <PAD>\n",
      "Predicted: The <UNK> revolution was also <UNK> . <EOS> Bank we\n",
      "\n",
      "Original: The <UNK> Round made limited <UNK> into agricultural protection .\n",
      "Predicted: The <UNK> committee made limited <UNK> into agricultural protection .\n",
      "\n",
      "Original: I wish to add some points . <EOS> <PAD> <PAD>\n",
      "Predicted: I wish to add some points . <EOS> basic <EOS>\n",
      "\n",
      "Original: Is there any opposition ? <EOS> <PAD> <PAD> <PAD> <PAD>\n",
      "Predicted: Is there any opposition ? <EOS> Bank we we we\n",
      "\n",
      "Original: The debate is closed . <EOS> <PAD> <PAD> <PAD> <PAD>\n",
      "Predicted: The debate is closed . <EOS> basic . <EOS> .\n",
      "\n",
      "Original: These are all political measures . <EOS> <PAD> <PAD> <PAD>\n",
      "Predicted: These are all political measures . <EOS> basic <EOS> <EOS>\n",
      "\n"
     ]
    }
   ],
   "source": [
    "results = LM_model.predict(s, h)\n",
    "results = results.chunk(batch_size)\n",
    "\n",
    "for ori, pred in zip(s[:, :-1], results):\n",
    "    ori = ori.cpu().numpy()\n",
    "    pred = pred.cpu().numpy()\n",
    "    \n",
    "    ori = vocab.to_string(ori)\n",
    "    pred = vocab.to_string(pred)\n",
    "    \n",
    "    print(\"Original: {}\".format(\" \".join(ori)))\n",
    "    print(\"Predicted: {}\".format(\" \".join(pred)))\n",
    "    print()"
   ]
  },
  {
   "cell_type": "code",
   "execution_count": null,
   "metadata": {},
   "outputs": [],
   "source": []
  }
 ],
 "metadata": {
  "kernelspec": {
   "display_name": "Python 3",
   "language": "python",
   "name": "python3"
  },
  "language_info": {
   "codemirror_mode": {
    "name": "ipython",
    "version": 3
   },
   "file_extension": ".py",
   "mimetype": "text/x-python",
   "name": "python",
   "nbconvert_exporter": "python",
   "pygments_lexer": "ipython3",
   "version": "3.6.4"
  }
 },
 "nbformat": 4,
 "nbformat_minor": 2
}
