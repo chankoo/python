{
 "cells": [
  {
   "cell_type": "markdown",
   "metadata": {},
   "source": [
    "## 문자와 인코딩\n",
    "\n",
    "ref: https://datascienceschool.net/view-notebook/250c1869eab54157827adf54c5e9f064/\n",
    "\n",
    "파이썬 뿐 아니라 모든 컴퓨터에서 문자는 2진 숫자의 열 즉, 바이트 열(byte sequence)로 바뀌어 저장된다. \n",
    "\n",
    "이를 인코딩(encoding)이라고 하며 어떤 글자를 어떤 숫자로 바꿀지에 대한 규칙을 인코딩 방식이라고 한다.\n",
    "\n",
    "가장 기본이 되는 인코딩 방식은 아스키(ASCII) 방식이다.\n",
    "\n",
    "http://www.asciitable.com/\n",
    "\n",
    "한글의 경우 과거에는 EUC-KR 방식이 많이 사용되기도 했으나 최근에는 CP949 방식이 더 많이 사용된다.\n",
    "\n",
    "http://www.kreativekorp.com/charset/encoding.php?name=CP949\n",
    "\n",
    "### 유니코드\n",
    "인코딩 방식이 글자마다 혹은 회사마다 다르기 때문에 발생하는 문제를 해결하고자 유니코드라는 것이 만들어졌다. 유니코드에서는 다음과 같은 표준을 정했다.\n",
    "\n",
    "유니코드 코드 포인트 (unicode code point)\n",
    "\n",
    "유니코드 인코딩 (UTF-8, UTF-16, UTF-32, ...)\n",
    "\n",
    "유니코드 코드 포인트(code point) 또는 코드 포지션(code position)은 최대 4바이트의 숫자로 전 세계 모든 글자를 대응시킨 것이다. \n",
    "\n",
    "파이썬 내부에서 문자를 메모리에 저장할 때 주로 사용된다(파이썬 3.3부터는 PEP 393에 의해 바뀌었다).\n",
    "\n",
    "유니코드 인코딩은 실제로 유니코드 문자를 바이트 열로 바꾸어 파일 등에 저장할 때 사용되는 방식으로 영문 알파벳에 대해 ASCII 인코딩 방식과 호환하며 크기, 정렬 등의 문제를 고려하여 설계되었다. \n",
    "\n",
    "과거의 EUC-KR, CP949 등은 한글이라는 문자에 대해 저장할 값을 지정하는 방식이지만, 유니코드 인코딩 방식은 유니코드 코드 포인트에 대해 저장할 값을 지정하는 방식이므로 유니코드 코드 포인트를 가지는 모든 글자를 하나의 방식으로 저장할 수 있다.\n",
    "\n",
    "UTF-8은 현재 가장 많이 사용되는 유니코드 인코딩 방식의 하나이다.\n",
    "\n",
    "### 파이썬의 문자열 자료형\n",
    "파이썬 3에서는 기본 문자열의 자료형이 유니코드이며 자료형의 이름은 str 이다. \n",
    "\n",
    "그리고 바이트열로 저장하기 위한 bytearray 자료형도 지원한다. 다음과 같은 명령으로 바이트 열로 상호 변환할 수 있다.\n",
    "\n",
    "1. bytearray 명령어로 유니코드를 바이트열로 변환\n",
    "2. b 접두사를 이용한 바이트열 리터럴(literal) 생성\n",
    "\n",
    "\n",
    "### 인코딩과 디코딩\n",
    "유니코드를 바이트 열로 변환할 때는 인코드 encode 메서드를, 바이트 열을 유니코드로 변환할 때는 디코드 decode 메서드를 사용한다. \n",
    "\n",
    "그런데 인코딩할 때는 출력 장치(콘솔, 주피터 노트북)가 어떤 인코딩을 지원하는지를 미리 알고 있어야 한다. \n",
    "\n",
    "만약 출력 장치가 지원하지 않는 방식으로 인코딩하면 화면에는 이상한 글자만 보이게 된다."
   ]
  },
  {
   "cell_type": "markdown",
   "metadata": {},
   "source": [
    "## 파이썬 3에서의 한글 처리\n",
    "\n",
    "ref: https://soooprmx.com/archives/4912\n",
    "\n",
    "파이썬 3에서 문자열은 모두 유니코드 문자열로 처리된다. \n",
    "\n",
    "이에 비해 파이썬 2는 문자열을 실질적으로는 소스코드 혹은 콘솔입력등에서 받아들인 인코딩된 문자열데이터를 디코딩한 바이트스트림(바이트 배열)을 사용하여 저장했다.\n",
    "\n",
    "뭐가 바뀌었는지 기술적으로 이해가 힘들 수 있으니 간단하게 설명하자면 다음과 같이 생각하면 된다.\n",
    "\n",
    "1. __문자열은 인코딩이 안된 유니코드 문자열이다 __\n",
    "2. __모든 입출력에 대해서는 필수적으로 인코딩이 필요하다.__\n",
    "\n",
    "예를 들어 텍스트 파일을 읽어들이는 경우에, 파이썬 2에서는 텍스트 파일을 그냥 읽어서 그 내용을 미리 알고 있는 인코딩 종류를 사용하여 디코드해서 사용해야 했다.\n",
    "\n",
    " \n",
    "#### python 2.7에서 한글 파일 읽는 법 (한글 파일은 UTF-8로 인코딩되었다고 가정)\n",
    "\n",
    "f = open('myfile.txt', 'r')\n",
    "\n",
    "content = f.read() # content는 인코딩된 그대로의 바이트 스트림\n",
    "\n",
    "text = content.decode('utf8') # 바이트배열을 디코딩하여 문자열데이터로 변환\n",
    "\n",
    "print(text)\n",
    "\n",
    "하지만 파이썬3에서는 기본적으로 인코딩을 명시해야 한다. (생략하는 경우 기본적으로 utf8이다)\n",
    "\n",
    "#### 파이썬 3에서 한글 텍스트 파일 읽기\n",
    "\n",
    "f = open('myfile.txt', 'r', encoding='utf8')\n",
    "\n",
    "text = f.read() # 읽어들이면서 지정된 인코딩을 이용하여 문자열 데이터로 변환한다.\n",
    "\n",
    "print(text)\n",
    " \n",
    "\n",
    "파이썬3에서의 한글 등의 문자 처리는 덕분에 매우 쉬워졌다. 다음의 규칙만 지키면 된다.\n",
    "\n",
    "1. __소스 코드 작성시에는 인코딩을 명시할 것__\n",
    "2. __외부로부터 문자열을 받아들이거나 읽어야 하는 경우에는 보통 미리 인코딩을 제시하고, 항상 ‘문자열을 읽는다’라고 생각한다.__\n",
    "3. __반대로 문자열을 외부로 쏴주거나 파일에 쓸 때에도 핸들러를 생성하는 시점에 인코딩을 결정하고, 그대로 쓰면 된다.__"
   ]
  },
  {
   "cell_type": "markdown",
   "metadata": {},
   "source": [
    "#### 더 알아보기: 한글 인코딩의 이해 1편: 한글 인코딩의 역사와 유니코드\n",
    "https://d2.naver.com/helloworld/19187"
   ]
  },
  {
   "cell_type": "markdown",
   "metadata": {},
   "source": [
    "### 현재 실행환경의 인코딩 방식 알아보기"
   ]
  },
  {
   "cell_type": "code",
   "execution_count": 4,
   "metadata": {},
   "outputs": [],
   "source": [
    "import sys"
   ]
  },
  {
   "cell_type": "code",
   "execution_count": 6,
   "metadata": {},
   "outputs": [
    {
     "data": {
      "text/plain": [
       "'3.6.4 |Anaconda, Inc.| (default, Jan 16 2018, 10:22:32) [MSC v.1900 64 bit (AMD64)]'"
      ]
     },
     "execution_count": 6,
     "metadata": {},
     "output_type": "execute_result"
    }
   ],
   "source": [
    "sys.version"
   ]
  },
  {
   "cell_type": "code",
   "execution_count": 9,
   "metadata": {},
   "outputs": [
    {
     "data": {
      "text/plain": [
       "'utf-8'"
      ]
     },
     "execution_count": 9,
     "metadata": {},
     "output_type": "execute_result"
    }
   ],
   "source": [
    "sys.getdefaultencoding()"
   ]
  },
  {
   "cell_type": "code",
   "execution_count": 12,
   "metadata": {},
   "outputs": [
    {
     "data": {
      "text/plain": [
       "'cp949'"
      ]
     },
     "execution_count": 12,
     "metadata": {},
     "output_type": "execute_result"
    }
   ],
   "source": [
    "sys.stdin.encoding #cp949로 되어있다"
   ]
  },
  {
   "cell_type": "code",
   "execution_count": 13,
   "metadata": {},
   "outputs": [
    {
     "data": {
      "text/plain": [
       "'UTF-8'"
      ]
     },
     "execution_count": 13,
     "metadata": {},
     "output_type": "execute_result"
    }
   ],
   "source": [
    "sys.stdout.encoding"
   ]
  },
  {
   "cell_type": "markdown",
   "metadata": {},
   "source": [
    "### stdin??\n",
    "\n",
    "ref:https://soooprmx.com/archives/8242\n",
    "\n",
    "파이썬에서 프로그램이 사용자로부터 입력을 받는 방법 중에 가장 대표적인 것은 input() 함수이다. \n",
    "\n",
    "이 함수는 키보드로부터 한 줄의 문자열을 입력받아, 그 내용을 리턴한다는 동작을 수행한다.\n",
    "\n",
    "그런데 왜 이 함수의 이름이 keyboard 따위가 아니라 input일까? \n",
    "\n",
    "이 함수의 동작의 의미를 보다 엄밀하게 따져보도록 하자. 실제로 이 함수의 뜻은 다음과 같다.\n",
    "\n",
    "*input(prompt=None, /)*\n",
    "\n",
    " *Read a string from standard input. The trailing newline is stripped.*\n",
    " \n",
    " 먼저 “키보드”가 아니라 표준입력으로부터 문자열을 입력받는다. \n",
    " \n",
    " 그리고 문자열 끝의 개행은 제거된다는 이야기다. 실제로 동작은 다음과 같이 일어난다.\n",
    "\n",
    "1. input()이 호출되면, 인자로 주어진 프롬프트 문자열을 화면에 출력하고, 프로그램은 사용자의 입력을 기다린다.\n",
    "2. 콘솔 환경의 표준입력은 다름 아닌 키보드이다.\n",
    "3. 사용자가 키를 하나씩 누르기 시작하면 버퍼에 눌려진 키에 대응하는 데이터가 들어간다.\n",
    "4. enter키를 누르면 개행문자(newline, \\n)이 입력된다. 개행문자를 받게되면 버퍼의 입력이 종료된것으로 간주한다.\n",
    "5. __입력된 문자열은 해당 시스템의 콘솔 입출력 인코딩을 사용하여 디코드되어 유니코드 문자열로 변환된다.__\n",
    "6. input() 함수는 변환된 문자열 값을 반환하면서 종료한다.\n",
    "\n",
    "표준입력은 데이터가 흘러들어올 수도꼭지 같은 것이다. \n",
    "\n",
    "그 너머에 연결된 입력 장치가 무엇이든 간에, 프로그램은 이 수도꼭지에서 물이 콸콸 흘러나오기를 기다렸다가 그 데이터를 이용할 수 있는 것이다. \n",
    "\n",
    "표준입력의 반대편에 연결될 수 있는 장치에는 다음과 같은 것들이 있을 수 있다.\n",
    "\n",
    "- 키보드: 엔터키를 누를 때까지 입력된 글자들을 모아서 문자열로 보낼 수 있다.\n",
    "- 파일 : 파일의 내용을 프로그램에서 읽을 수 있다.\n",
    "- 네트워크 스트림 : 네트워크를 통해서 다른 곳에서부터 전송된 데이터를 받는다.\n",
    "- 바코드 리더: 바코드리더기가 읽어낸 숫자들을 프로그램이 받을 수 있다. 물론 일반 가정에서 바코드리더를 PC에 연결해 쓸 일은 없겠지만….\n",
    "- 다른 프로그램의 출력: 파이프(‘|‘)를 사용하여 다른 프로그램의 출력을 현재 프로그램의 표준 입력에 연결할 수 있다.\n",
    "\n",
    "표준 입력과 마찬가지로 프로그램의 출력 역시, “표준 출력”을 통해서 흘러나간다. \n",
    "\n",
    "콘솔 환경에서 표준 출력은 콘솔 창으로 연결되어 있어서 print() 함수를 사용해서 문자열을 출력하면 표준출력으로 문자열이 흘러나가서 화면에 출력되는 것이다."
   ]
  },
  {
   "cell_type": "markdown",
   "metadata": {},
   "source": [
    "#### 간단 예제"
   ]
  },
  {
   "cell_type": "code",
   "execution_count": 14,
   "metadata": {},
   "outputs": [
    {
     "data": {
      "text/plain": [
       "'한글'"
      ]
     },
     "execution_count": 14,
     "metadata": {},
     "output_type": "execute_result"
    }
   ],
   "source": [
    "a = '한글'\n",
    "a"
   ]
  },
  {
   "cell_type": "code",
   "execution_count": 15,
   "metadata": {},
   "outputs": [
    {
     "data": {
      "text/plain": [
       "str"
      ]
     },
     "execution_count": 15,
     "metadata": {},
     "output_type": "execute_result"
    }
   ],
   "source": [
    "type(a) # a는 유니코드, 즉 str이다"
   ]
  },
  {
   "cell_type": "code",
   "execution_count": 16,
   "metadata": {},
   "outputs": [
    {
     "data": {
      "text/plain": [
       "b'\\xed\\x95\\x9c\\xea\\xb8\\x80'"
      ]
     },
     "execution_count": 16,
     "metadata": {},
     "output_type": "execute_result"
    }
   ],
   "source": [
    "b = a.encode() # 기본적으로 utf-8로 인코딩된다\n",
    "b"
   ]
  },
  {
   "cell_type": "code",
   "execution_count": 17,
   "metadata": {},
   "outputs": [
    {
     "data": {
      "text/plain": [
       "bytes"
      ]
     },
     "execution_count": 17,
     "metadata": {},
     "output_type": "execute_result"
    }
   ],
   "source": [
    "type(b) # b는 인코딩되었다 즉, bytes이다"
   ]
  },
  {
   "cell_type": "code",
   "execution_count": 18,
   "metadata": {},
   "outputs": [
    {
     "data": {
      "text/plain": [
       "'한글'"
      ]
     },
     "execution_count": 18,
     "metadata": {},
     "output_type": "execute_result"
    }
   ],
   "source": [
    "b.decode() # 다시 decode하면 당연히 원래의 str이 찍힌다"
   ]
  },
  {
   "cell_type": "code",
   "execution_count": 19,
   "metadata": {},
   "outputs": [
    {
     "ename": "UnicodeDecodeError",
     "evalue": "'cp949' codec can't decode byte 0xed in position 0: illegal multibyte sequence",
     "output_type": "error",
     "traceback": [
      "\u001b[1;31m---------------------------------------------------------------------------\u001b[0m",
      "\u001b[1;31mUnicodeDecodeError\u001b[0m                        Traceback (most recent call last)",
      "\u001b[1;32m<ipython-input-19-0847fb375ad9>\u001b[0m in \u001b[0;36m<module>\u001b[1;34m()\u001b[0m\n\u001b[1;32m----> 1\u001b[1;33m \u001b[0mb\u001b[0m\u001b[1;33m.\u001b[0m\u001b[0mdecode\u001b[0m\u001b[1;33m(\u001b[0m\u001b[1;34m'cp949'\u001b[0m\u001b[1;33m)\u001b[0m\u001b[1;33m\u001b[0m\u001b[0m\n\u001b[0m",
      "\u001b[1;31mUnicodeDecodeError\u001b[0m: 'cp949' codec can't decode byte 0xed in position 0: illegal multibyte sequence"
     ]
    }
   ],
   "source": [
    "b.decode('cp949') # utf-8로 인코딩했으므로 cp949로 디코드할 수 없다"
   ]
  },
  {
   "cell_type": "code",
   "execution_count": null,
   "metadata": {},
   "outputs": [],
   "source": []
  },
  {
   "cell_type": "code",
   "execution_count": null,
   "metadata": {},
   "outputs": [],
   "source": []
  },
  {
   "cell_type": "code",
   "execution_count": null,
   "metadata": {},
   "outputs": [],
   "source": []
  },
  {
   "cell_type": "code",
   "execution_count": 1,
   "metadata": {},
   "outputs": [],
   "source": [
    "import base64 #7bits"
   ]
  },
  {
   "cell_type": "code",
   "execution_count": 6,
   "metadata": {},
   "outputs": [
    {
     "ename": "FileNotFoundError",
     "evalue": "[Errno 2] No such file or directory: 'app contest.png'",
     "output_type": "error",
     "traceback": [
      "\u001b[1;31m---------------------------------------------------------------------------\u001b[0m",
      "\u001b[1;31mFileNotFoundError\u001b[0m                         Traceback (most recent call last)",
      "\u001b[1;32m<ipython-input-6-e3ad9fc7d544>\u001b[0m in \u001b[0;36m<module>\u001b[1;34m()\u001b[0m\n\u001b[1;32m----> 1\u001b[1;33m \u001b[0mdata\u001b[0m \u001b[1;33m=\u001b[0m \u001b[0mopen\u001b[0m\u001b[1;33m(\u001b[0m\u001b[1;34m'app contest.png'\u001b[0m\u001b[1;33m,\u001b[0m \u001b[1;34m'rb'\u001b[0m\u001b[1;33m)\u001b[0m\u001b[1;33m\u001b[0m\u001b[0m\n\u001b[0m",
      "\u001b[1;31mFileNotFoundError\u001b[0m: [Errno 2] No such file or directory: 'app contest.png'"
     ]
    }
   ],
   "source": [
    "data = open('app contest.png', 'rb')"
   ]
  },
  {
   "cell_type": "code",
   "execution_count": null,
   "metadata": {},
   "outputs": [],
   "source": [
    "data = base64.encode('서울시 앱 공모전.9.30.png')"
   ]
  },
  {
   "cell_type": "code",
   "execution_count": 7,
   "metadata": {},
   "outputs": [
    {
     "data": {
      "text/plain": [
       "'Base16, Base32, Base64 (RFC 3548), Base85 and Ascii85 data encodings'"
      ]
     },
     "execution_count": 7,
     "metadata": {},
     "output_type": "execute_result"
    }
   ],
   "source": [
    "base64.__"
   ]
  },
  {
   "cell_type": "code",
   "execution_count": null,
   "metadata": {},
   "outputs": [],
   "source": []
  },
  {
   "cell_type": "code",
   "execution_count": 3,
   "metadata": {},
   "outputs": [
    {
     "data": {
      "text/plain": [
       "['ArithmeticError',\n",
       " 'AssertionError',\n",
       " 'AttributeError',\n",
       " 'BaseException',\n",
       " 'BlockingIOError',\n",
       " 'BrokenPipeError',\n",
       " 'BufferError',\n",
       " 'BytesWarning',\n",
       " 'ChildProcessError',\n",
       " 'ConnectionAbortedError',\n",
       " 'ConnectionError',\n",
       " 'ConnectionRefusedError',\n",
       " 'ConnectionResetError',\n",
       " 'DeprecationWarning',\n",
       " 'EOFError',\n",
       " 'Ellipsis',\n",
       " 'EnvironmentError',\n",
       " 'Exception',\n",
       " 'False',\n",
       " 'FileExistsError',\n",
       " 'FileNotFoundError',\n",
       " 'FloatingPointError',\n",
       " 'FutureWarning',\n",
       " 'GeneratorExit',\n",
       " 'IOError',\n",
       " 'ImportError',\n",
       " 'ImportWarning',\n",
       " 'IndentationError',\n",
       " 'IndexError',\n",
       " 'InterruptedError',\n",
       " 'IsADirectoryError',\n",
       " 'KeyError',\n",
       " 'KeyboardInterrupt',\n",
       " 'LookupError',\n",
       " 'MemoryError',\n",
       " 'ModuleNotFoundError',\n",
       " 'NameError',\n",
       " 'None',\n",
       " 'NotADirectoryError',\n",
       " 'NotImplemented',\n",
       " 'NotImplementedError',\n",
       " 'OSError',\n",
       " 'OverflowError',\n",
       " 'PendingDeprecationWarning',\n",
       " 'PermissionError',\n",
       " 'ProcessLookupError',\n",
       " 'RecursionError',\n",
       " 'ReferenceError',\n",
       " 'ResourceWarning',\n",
       " 'RuntimeError',\n",
       " 'RuntimeWarning',\n",
       " 'StopAsyncIteration',\n",
       " 'StopIteration',\n",
       " 'SyntaxError',\n",
       " 'SyntaxWarning',\n",
       " 'SystemError',\n",
       " 'SystemExit',\n",
       " 'TabError',\n",
       " 'TimeoutError',\n",
       " 'True',\n",
       " 'TypeError',\n",
       " 'UnboundLocalError',\n",
       " 'UnicodeDecodeError',\n",
       " 'UnicodeEncodeError',\n",
       " 'UnicodeError',\n",
       " 'UnicodeTranslateError',\n",
       " 'UnicodeWarning',\n",
       " 'UserWarning',\n",
       " 'ValueError',\n",
       " 'Warning',\n",
       " 'WindowsError',\n",
       " 'ZeroDivisionError',\n",
       " '__IPYTHON__',\n",
       " '__build_class__',\n",
       " '__debug__',\n",
       " '__doc__',\n",
       " '__import__',\n",
       " '__loader__',\n",
       " '__name__',\n",
       " '__package__',\n",
       " '__spec__',\n",
       " 'abs',\n",
       " 'all',\n",
       " 'any',\n",
       " 'ascii',\n",
       " 'bin',\n",
       " 'bool',\n",
       " 'bytearray',\n",
       " 'bytes',\n",
       " 'callable',\n",
       " 'chr',\n",
       " 'classmethod',\n",
       " 'compile',\n",
       " 'complex',\n",
       " 'copyright',\n",
       " 'credits',\n",
       " 'delattr',\n",
       " 'dict',\n",
       " 'dir',\n",
       " 'display',\n",
       " 'divmod',\n",
       " 'enumerate',\n",
       " 'eval',\n",
       " 'exec',\n",
       " 'filter',\n",
       " 'float',\n",
       " 'format',\n",
       " 'frozenset',\n",
       " 'get_ipython',\n",
       " 'getattr',\n",
       " 'globals',\n",
       " 'hasattr',\n",
       " 'hash',\n",
       " 'help',\n",
       " 'hex',\n",
       " 'id',\n",
       " 'input',\n",
       " 'int',\n",
       " 'isinstance',\n",
       " 'issubclass',\n",
       " 'iter',\n",
       " 'len',\n",
       " 'license',\n",
       " 'list',\n",
       " 'locals',\n",
       " 'map',\n",
       " 'max',\n",
       " 'memoryview',\n",
       " 'min',\n",
       " 'next',\n",
       " 'object',\n",
       " 'oct',\n",
       " 'open',\n",
       " 'ord',\n",
       " 'pow',\n",
       " 'print',\n",
       " 'property',\n",
       " 'range',\n",
       " 'repr',\n",
       " 'reversed',\n",
       " 'round',\n",
       " 'set',\n",
       " 'setattr',\n",
       " 'slice',\n",
       " 'sorted',\n",
       " 'staticmethod',\n",
       " 'str',\n",
       " 'sum',\n",
       " 'super',\n",
       " 'tuple',\n",
       " 'type',\n",
       " 'vars',\n",
       " 'zip']"
      ]
     },
     "execution_count": 3,
     "metadata": {},
     "output_type": "execute_result"
    }
   ],
   "source": [
    "dir(__builtins__)"
   ]
  },
  {
   "cell_type": "code",
   "execution_count": null,
   "metadata": {},
   "outputs": [],
   "source": []
  }
 ],
 "metadata": {
  "kernelspec": {
   "display_name": "Python 3",
   "language": "python",
   "name": "python3"
  },
  "language_info": {
   "codemirror_mode": {
    "name": "ipython",
    "version": 3
   },
   "file_extension": ".py",
   "mimetype": "text/x-python",
   "name": "python",
   "nbconvert_exporter": "python",
   "pygments_lexer": "ipython3",
   "version": "3.6.4"
  }
 },
 "nbformat": 4,
 "nbformat_minor": 2
}
