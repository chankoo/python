{
 "cells": [
  {
   "cell_type": "markdown",
   "metadata": {},
   "source": [
    "#### 크롤링시 조심\n",
    "1. 컨텐츠에 지적재산권이 있는지\n",
    "2. 크롤링이 사이트에 부담을 주는지\n",
    "3. 사이트 이용방침을 위반하지 않는지\n",
    "4. 사용자의 민감한 정보를 가져오지 않는지\n",
    "5. 가져온 컨텐츠를 적합한 사용표준하에 사용하는지"
   ]
  },
  {
   "cell_type": "markdown",
   "metadata": {},
   "source": [
    "#### robots.txt\n",
    "\n",
    "crawler 같은 bot의 접근을 제어하기 위한 규약\n",
    "\n",
    "https://www.google.co.kr/robots.txt\n",
    "\n",
    "Disallow: /search\n",
    "\n",
    "Allow: /search/about\n",
    "Allow: /search/static\n",
    "..."
   ]
  },
  {
   "cell_type": "markdown",
   "metadata": {},
   "source": [
    "#### 사용된 웹 기술 확인"
   ]
  },
  {
   "cell_type": "code",
   "execution_count": 12,
   "metadata": {},
   "outputs": [
    {
     "name": "stdout",
     "output_type": "stream",
     "text": [
      "{'web-servers': ['Google Web Server']}\n",
      "{}\n",
      "{'web-servers': ['Nginx'], 'font-scripts': ['Google Font API'], 'ecommerce': ['WooCommerce'], 'cms': ['WordPress'], 'programming-languages': ['PHP'], 'blogs': ['PHP', 'WordPress']}\n"
     ]
    }
   ],
   "source": [
    "import builtwith\n",
    "\n",
    "print(builtwith.parse('https://www.google.com')) #정상적 접근아님\n",
    "print(builtwith.parse('https://www.naver.com'))\n",
    "print(builtwith.parse('https://www.wordpress.com'))"
   ]
  },
  {
   "cell_type": "markdown",
   "metadata": {},
   "source": [
    "#### 웹사이트 소유자 확인"
   ]
  },
  {
   "cell_type": "code",
   "execution_count": 13,
   "metadata": {},
   "outputs": [
    {
     "name": "stdout",
     "output_type": "stream",
     "text": [
      "{\n",
      "  \"domain_name\": [\n",
      "    \"NAVER.COM\",\n",
      "    \"naver.com\"\n",
      "  ],\n",
      "  \"registrar\": \"Gabia, Inc.\",\n",
      "  \"whois_server\": \"whois.gabia.com\",\n",
      "  \"referral_url\": null,\n",
      "  \"updated_date\": [\n",
      "    \"2016-08-05 06:37:57\",\n",
      "    \"2018-02-28 11:27:15\"\n",
      "  ],\n",
      "  \"creation_date\": [\n",
      "    \"1997-09-12 04:00:00\",\n",
      "    \"1997-09-12 00:00:00\"\n",
      "  ],\n",
      "  \"expiration_date\": [\n",
      "    \"2023-09-11 04:00:00\",\n",
      "    \"2023-09-11 00:00:00\"\n",
      "  ],\n",
      "  \"name_servers\": [\n",
      "    \"NS1.NAVER.COM\",\n",
      "    \"NS2.NAVER.COM\",\n",
      "    \"ns1.naver.com\",\n",
      "    \"ns2.naver.com\"\n",
      "  ],\n",
      "  \"status\": [\n",
      "    \"clientDeleteProhibited https://icann.org/epp#clientDeleteProhibited\",\n",
      "    \"clientTransferProhibited https://icann.org/epp#clientTransferProhibited\",\n",
      "    \"clientUpdateProhibited https://icann.org/epp#clientUpdateProhibited\",\n",
      "    \"ok https://icann.org/epp#ok\"\n",
      "  ],\n",
      "  \"emails\": [\n",
      "    \"white.4818@navercorp.com\",\n",
      "    \"dl_ssl@navercorp.com\",\n",
      "    \"abuse@gabia.com\"\n",
      "  ],\n",
      "  \"dnssec\": \"unsigned\",\n",
      "  \"name\": \"NAVER Corp.\",\n",
      "  \"org\": \"NAVER Corp.\",\n",
      "  \"address\": \"6 Buljung-ro, Bundang-gu, Seongnam-si, Gyeonggi-do, 463-867, Korea\",\n",
      "  \"city\": \"Gyeonggi\",\n",
      "  \"state\": null,\n",
      "  \"zipcode\": \"463463\",\n",
      "  \"country\": \"KR\"\n",
      "}\n",
      "{\n",
      "  \"domain_name\": \"sogang.ac.kr\",\n",
      "  \"registrant_org\": \"Sogang University\",\n",
      "  \"registrant_address\": \"sogang university, 35 Baekbeom-ro Mapo-gu, Seoul, KR\",\n",
      "  \"registrant_zip\": \"04107\",\n",
      "  \"admin_name\": \"Sogang University\",\n",
      "  \"admin_email\": \"webadmin@sogang.ac.kr\",\n",
      "  \"admin_phone\": \"02-705-4775\",\n",
      "  \"creation_date\": \"1993-07-27 00:00:00\",\n",
      "  \"updated_date\": \"2017-09-06 00:00:00\",\n",
      "  \"expiration_date\": \"2018-10-15 00:00:00\",\n",
      "  \"registrar\": \"Inames Co., Ltd.(http://www.inames.co.kr)\",\n",
      "  \"name_servers\": \"ccs.sogang.ac.kr\"\n",
      "}\n"
     ]
    }
   ],
   "source": [
    "import whois\n",
    "\n",
    "print(whois.whois(\"naver.com\"))\n",
    "print(whois.whois(\"sogang.ac.kr\"))"
   ]
  },
  {
   "cell_type": "markdown",
   "metadata": {},
   "source": [
    "#### 웹사이트 다운로드"
   ]
  },
  {
   "cell_type": "code",
   "execution_count": 1,
   "metadata": {},
   "outputs": [],
   "source": [
    "import urllib\n",
    "from urllib.request import urlopen"
   ]
  },
  {
   "cell_type": "markdown",
   "metadata": {},
   "source": [
    "![](https://user-images.githubusercontent.com/38183218/42746165-7451e354-8911-11e8-93de-8822f34665ca.PNG)\n",
    "![](https://user-images.githubusercontent.com/38183218/42746166-7477cb14-8911-11e8-81da-1a53595e2c68.PNG)"
   ]
  },
  {
   "cell_type": "code",
   "execution_count": 2,
   "metadata": {},
   "outputs": [],
   "source": [
    "resp = urlopen(\"https://python.org\") # url을 열어 웹의 내용을 받아오겠다는 request"
   ]
  },
  {
   "cell_type": "code",
   "execution_count": 3,
   "metadata": {},
   "outputs": [],
   "source": [
    "html = resp.read() #들어있는 html을 읽어옴 바이트로"
   ]
  },
  {
   "cell_type": "code",
   "execution_count": 4,
   "metadata": {},
   "outputs": [
    {
     "data": {
      "text/plain": [
       "'<!doctype html>\\n<!--[if lt IE 7]>   <html class=\"no-js ie6 lt-ie7 lt-ie8 lt-ie9\">   <![endif]-->\\n<!--[if IE 7]>      <html class=\"no-js ie7 lt-ie8 lt-ie9\">          <![endif]-->\\n<!--[if IE 8]>      <html class=\"no-js ie8 lt-ie9\">                 <![endif]-->\\n<!--[if gt IE 8]><!--><html class=\"no-js\" lang=\"en\" dir=\"ltr\">  <!--<![endif]-->\\n\\n<head>\\n    <meta charset=\"utf-8\">\\n    <meta http-equiv=\"X-UA-Compatible\" content=\"IE=edge\">\\n\\n    <link rel=\"prefetch\" href=\"//ajax.googleapis.com/ajax/libs/jquery/1.8.2/jquery.min.js\">\\n\\n    <meta name=\"application-name\" content=\"Python.org\">\\n    <meta name=\"msapplication-tooltip\" content=\"The official home of the Python Programming Language\">\\n    <meta name=\"apple-mobile-web-app-title\" content=\"Python.org\">\\n    <meta name=\"apple-mobile-web-app-capable\" content=\"yes\">\\n    <meta name=\"apple-mobile-web-app-status-bar-style\" content=\"black\">\\n\\n    <meta name=\"viewport\" content=\"width=device-width, initial-scale=1.0\">\\n    <meta name=\"HandheldFriendly\" conte'"
      ]
     },
     "execution_count": 4,
     "metadata": {},
     "output_type": "execute_result"
    }
   ],
   "source": [
    "html.decode('utf-8')[:1000] #디코드한 결과는 str"
   ]
  },
  {
   "cell_type": "markdown",
   "metadata": {},
   "source": [
    "![](https://user-images.githubusercontent.com/38183218/42746167-749c5eb6-8911-11e8-959b-1ab9cbdc10e1.PNG)\n",
    "![](https://user-images.githubusercontent.com/38183218/42746168-74d641bc-8911-11e8-8239-711beb7ec91a.PNG)"
   ]
  },
  {
   "cell_type": "code",
   "execution_count": 24,
   "metadata": {},
   "outputs": [],
   "source": [
    "# 쿼리 포함한 url(search에 던지는 url)\n",
    "#  HTTP Error 403: Forbidden\n",
    "# resp = urlopen(\"https://www.google.co.kr/search?q=%EC%B9%B4%EC%9D%B4%EC%8A%A4%ED%8A%B8+%EB%A7%90%EB%AD%89%EC%B9%98&sa=X&ved=0ahUKEwjSj_Ky4KLcAhWRFogKHZZ0C_kQ1QIIuQEoBg&biw=1536&bih=759\")\n",
    "# resp = urlopen(\"https://search.naver.com/search.naver?where=nexearch&sm=top_hty&fbm=1&ie=utf8&query=%EB%A7%90%EB%AD%89%EC%B9%98\")"
   ]
  },
  {
   "cell_type": "markdown",
   "metadata": {},
   "source": [
    "#### Headers\n",
    "![](https://user-images.githubusercontent.com/38183218/42746171-754a7096-8911-11e8-9c69-92cae978ca05.PNG)"
   ]
  },
  {
   "cell_type": "code",
   "execution_count": 8,
   "metadata": {},
   "outputs": [
    {
     "name": "stdout",
     "output_type": "stream",
     "text": [
      "503 Service Unavailable Date: Fri, 20 Jul 2018 08:56:54 GMT\n",
      "Pragma: no-cache\n",
      "Expires: Fri, 01 Jan 1990 00:00:00 GMT\n",
      "Cache-Control: no-store, no-cache, must-revalidate\n",
      "Content-Type: text/html\n",
      "Server: HTTP server (unknown)\n",
      "Content-Length: 2966\n",
      "X-XSS-Protection: 1; mode=block\n",
      "X-Frame-Options: SAMEORIGIN\n",
      "Alt-Svc: quic=\":443\"; ma=2592000; v=\"44,43,39,35\"\n",
      "Connection: close\n",
      "\n",
      "\n"
     ]
    }
   ],
   "source": [
    "from urllib.error import HTTPError\n",
    "\n",
    "try:\n",
    "    urlopen(\"https://www.google.co.kr/search?q=%EC%B9%B4%EC%9D%B4%EC%8A%A4%ED%8A%B8+%EB%A7%90%EB%AD%89%EC%B9%98&sa=X&ved=0ahUKEwjSj_Ky4KLcAhWRFogKHZZ0C_kQ1QIIuQEoBg&biw=1536&bih=759\")\n",
    "except HTTPError as e:\n",
    "    print(e.code, e.reason, e.headers)"
   ]
  },
  {
   "cell_type": "markdown",
   "metadata": {},
   "source": [
    "#### 예제\n",
    "![](https://user-images.githubusercontent.com/38183218/42746175-75ca183c-8911-11e8-8042-6d23d0c85304.PNG)"
   ]
  },
  {
   "cell_type": "code",
   "execution_count": 5,
   "metadata": {},
   "outputs": [],
   "source": [
    "from urllib.request import Request"
   ]
  },
  {
   "cell_type": "code",
   "execution_count": 6,
   "metadata": {},
   "outputs": [],
   "source": [
    "def download(url, agent = \"python bot\", num_retries=2):\n",
    "    headers = {'User-agent':agent}\n",
    "    req = Request(url, headers = headers)\n",
    "                 \n",
    "    try:\n",
    "        resp = urlopen(req)\n",
    "        \n",
    "    except HTTPError as e:\n",
    "        resp = None\n",
    "        print(e.code,e.reason,e.headers)\n",
    "        \n",
    "        if 500<=e.code<600 and num_retries>0:\n",
    "            return download(url, num_retries = num_retries - 1) #재귀적으로 retry\n",
    "   \n",
    "    \n",
    "    \n",
    "    return resp\n",
    "                 "
   ]
  },
  {
   "cell_type": "code",
   "execution_count": 9,
   "metadata": {},
   "outputs": [
    {
     "name": "stdout",
     "output_type": "stream",
     "text": [
      "403 Forbidden Date: Fri, 20 Jul 2018 08:56:59 GMT\n",
      "Content-Type: text/html; charset=UTF-8\n",
      "Transfer-Encoding: chunked\n",
      "Connection: close\n",
      "Vary: Accept-Encoding\n",
      "Set-Cookie: page_uid=T1bB2wpySEsssavpjnCsssssthK-248293; path=/; domain=.naver.com\n",
      "Set-Cookie: _naver_usersession_=GPWoj1S3QJueUdrVkom8DQ==; path=/; expires=Fri, 20-Jul-18 09:01:59 GMT; domain=.naver.com\n",
      "X-Frame-Options: SAMEORIGIN\n",
      "X-XSS-Protection: 1; report=/p/er/post/xss\n",
      "Cache-Control: no-cache, no-store, must-revalidate, max-age=0\n",
      "Pragma: no-cache\n",
      "Vary: Accept-Encoding\n",
      "\n",
      "\n"
     ]
    }
   ],
   "source": [
    "url = \"https://search.naver.com/search.naver?where=nexearch&sm=top_hty&fbm=1&ie=utf8&query=%EB%A7%90%EB%AD%89%EC%B9%98\"\n",
    "download(url)"
   ]
  },
  {
   "cell_type": "markdown",
   "metadata": {},
   "source": [
    "header의 agent정보를 사용자로 바꿔주면 403에러 해결"
   ]
  },
  {
   "cell_type": "code",
   "execution_count": 10,
   "metadata": {},
   "outputs": [
    {
     "data": {
      "text/plain": [
       "http.client.HTTPResponse"
      ]
     },
     "execution_count": 10,
     "metadata": {},
     "output_type": "execute_result"
    }
   ],
   "source": [
    "user = \"Mozilla/5.0 (Windows NT 10.0; Win64; x64) AppleWebKit/537.36 (KHTML, like Gecko) Chrome/67.0.3396.99 Safari/537.36\"\n",
    "resp = download( url, agent = user)\n",
    "type(resp)"
   ]
  },
  {
   "cell_type": "code",
   "execution_count": 11,
   "metadata": {},
   "outputs": [
    {
     "data": {
      "text/plain": [
       "'<!doctype html> <html lang=\"ko\"> <head> <meta charset=\"utf-8\"> <meta name=\"referrer\" content=\"always\">  <meta name=\"format-detection\" content=\"telephone=no,address=no,email=no\"> <meta name=\"viewport\" content=\"width=device-width,initial-scale=1.0,maximum-scale=2.0\"> <meta property=\"og:title\" content=\"말뭉치 : 네이버 통합검색\"/> <meta property=\"og:image\" content=\"https://ssl.pstatic.net/sstatic/search/common/og_v3.png\"> <meta property=\"og:description\" content=\"\\'말뭉치\\'의 네이버 통합검색 결과입니다.\"> <meta name=\"description\" lang=\"ko\" content=\"\\'말뭉치\\'의 네이버 통합검색 결과입니다.\"> <title>말뭉치 : 네이버 통합검색</title> <link rel=\"shortcut icon\" href=\"https://ssl.pstatic.net/sstatic/search/favicon/favicon_140327.ico\">  <link rel=\"search\" type=\"application/opensearchdescription+xml\" href=\"https://ssl.pstatic.net/sstatic/search/opensearch-description.https.xml\" title=\"Naver\" /><link rel=\"stylesheet\" type=\"text/css\" href=\"https://ssl.pstatic.net/sstatic/search/pc/css/search1_180712.css\"> <link rel=\"stylesheet\" type=\"text/css\" href=\"https:'"
      ]
     },
     "execution_count": 11,
     "metadata": {},
     "output_type": "execute_result"
    }
   ],
   "source": [
    "resp.read().decode(\"utf-8\")[:1000]"
   ]
  },
  {
   "cell_type": "markdown",
   "metadata": {},
   "source": [
    "![](https://user-images.githubusercontent.com/38183218/42746176-75f20716-8911-11e8-8732-ac8ea6479de4.PNG)\n",
    "\n",
    "- requests 이용\n",
    "    - 훨씬더 abstract 하고 사용편함, 짧은 코드\n",
    "    - get 방식/ post 방식\n",
    "        - get: 파라미터를 url에 붙여서 넘김, 편하지만 데이터타입과 인코딩등 한계 있음 \n",
    "        - post: url과 데이터를 분리해서 넘김, 넘길때 데이터를 실제로 받아옴, 많은 양의 데이터를 넘길때 등 사용\n",
    "        \n",
    "http://docs.python-requests.org/en/master/user/quickstart/"
   ]
  },
  {
   "cell_type": "code",
   "execution_count": 12,
   "metadata": {},
   "outputs": [],
   "source": [
    "import requests"
   ]
  },
  {
   "cell_type": "code",
   "execution_count": 13,
   "metadata": {},
   "outputs": [],
   "source": [
    "def download2(url, agent = \"python bot\", num_retries=2):\n",
    "    headers = {'User-agent':agent}\n",
    "    resp = requests.request(\"get\", url, headers = headers)\n",
    "    \n",
    "    if 500<resp.status_code<600 and num_retries>0:\n",
    "        print(resp.status_code, resp.reason)\n",
    "        return download(url, num_retries=num_retries - 1)\n",
    "\n",
    "    return resp"
   ]
  },
  {
   "cell_type": "code",
   "execution_count": 14,
   "metadata": {},
   "outputs": [],
   "source": [
    "user = \"Mozilla/5.0 (Windows NT 10.0; Win64; x64) AppleWebKit/537.36 (KHTML, like Gecko) Chrome/67.0.3396.99 Safari/537.36\"\n",
    "html = download2( url, agent = user)"
   ]
  },
  {
   "cell_type": "code",
   "execution_count": 15,
   "metadata": {},
   "outputs": [
    {
     "data": {
      "text/plain": [
       "'<!doctype html> <html lang=\"ko\"> <head> <meta charset=\"utf-8\"> <meta name=\"referrer\" content=\"always\">  <meta name=\"format-detection\" content=\"telephone=no,address=no,email=no\"> <meta name=\"viewport\" content=\"width=device-width,initial-scale=1.0,maximum-scale=2.0\"> <meta property=\"og:title\" content=\"말뭉치 : 네이버 통합검색\"/> <meta property=\"og:image\" content=\"https://ssl.pstatic.net/sstatic/search/common/og_v3.png\"> <meta property=\"og:description\" content=\"\\'말뭉치\\'의 네이버 통합검색 결과입니다.\"> <meta name=\"description\" lang=\"ko\" content=\"\\'말뭉치\\'의 네이버 통합검색 결과입니다.\"> <title>말뭉치 : 네이버 통합검색</title> <link rel=\"shortcut icon\" href=\"https://ssl.pstatic.net/sstatic/search/favicon/favicon_140327.ico\">  <link rel=\"search\" type=\"application/opensearchdescription+xml\" href=\"https://ssl.pstatic.net/sstatic/search/opensearch-description.https.xml\" title=\"Naver\" /><link rel=\"stylesheet\" type=\"text/css\" href=\"https://ssl.pstatic.net/sstatic/search/pc/css/search1_180712.css\"> <link rel=\"stylesheet\" type=\"text/css\" href=\"https:'"
      ]
     },
     "execution_count": 15,
     "metadata": {},
     "output_type": "execute_result"
    }
   ],
   "source": [
    "html.text[:1000]"
   ]
  },
  {
   "cell_type": "code",
   "execution_count": 49,
   "metadata": {},
   "outputs": [
    {
     "data": {
      "text/plain": [
       "'UTF-8'"
      ]
     },
     "execution_count": 49,
     "metadata": {},
     "output_type": "execute_result"
    }
   ],
   "source": [
    "html.encoding"
   ]
  },
  {
   "cell_type": "markdown",
   "metadata": {},
   "source": [
    "![](https://user-images.githubusercontent.com/38183218/42746173-756e4944-8911-11e8-91e8-81bd0a6920fd.PNG)"
   ]
  },
  {
   "cell_type": "code",
   "execution_count": 16,
   "metadata": {},
   "outputs": [],
   "source": [
    "from urllib import parse"
   ]
  },
  {
   "cell_type": "code",
   "execution_count": 51,
   "metadata": {},
   "outputs": [
    {
     "data": {
      "text/plain": [
       "'%ED%95%9C%EA%B8%80'"
      ]
     },
     "execution_count": 51,
     "metadata": {},
     "output_type": "execute_result"
    }
   ],
   "source": [
    "parse.quote(\"한글\") #hex bytes로 바꿔줌, 한글을 url에 들어갈 쿼리문으로 바꾸는 역할"
   ]
  },
  {
   "cell_type": "code",
   "execution_count": 17,
   "metadata": {},
   "outputs": [
    {
     "data": {
      "text/plain": [
       "'https://search.naver.com/search.naver?where=nexearch&sm=top_hty&fbm=1&ie=utf8&query=%EB%A7%90%EB%AD%89%EC%B9%98'"
      ]
     },
     "execution_count": 17,
     "metadata": {},
     "output_type": "execute_result"
    }
   ],
   "source": [
    "url = \"https://search.naver.com/search.naver?where=nexearch&sm=top_hty&fbm=1&ie=utf8\\\n",
    "&query=\"\n",
    "url = url + parse.quote(\"말뭉치\")\n",
    "url"
   ]
  },
  {
   "cell_type": "code",
   "execution_count": 18,
   "metadata": {},
   "outputs": [
    {
     "data": {
      "text/plain": [
       "'Mozilla/5.0 (Windows NT 10.0; Win64; x64) AppleWebKit/537.36 (KHTML, like Gecko) Chrome/67.0.3396.99 Safari/537.36'"
      ]
     },
     "execution_count": 18,
     "metadata": {},
     "output_type": "execute_result"
    }
   ],
   "source": [
    "user"
   ]
  },
  {
   "cell_type": "code",
   "execution_count": 19,
   "metadata": {},
   "outputs": [
    {
     "data": {
      "text/plain": [
       "'<!doctype html> <html lang=\"ko\"> <head> <meta charset=\"utf-8\"> <meta name=\"referrer\" content=\"always\">  <meta name=\"format-detection\" content=\"telephone=no,address=no,email=no\"> <meta name=\"viewport\" content=\"width=device-width,initial-scale=1.0,maximum-scale=2.0\"> <meta property=\"og:title\" content=\"말뭉치 : 네이버 통합검색\"/> <meta property=\"og:image\" content=\"https://ssl.pstatic.net/sstatic/search/common/og_v3.png\"> <meta property=\"og:description\" content=\"\\'말뭉치\\'의 네이버 통합검색 결과입니다.\"> <meta name=\"description\" lang=\"ko\" content=\"\\'말뭉치\\'의 네이버 통합검색 결과입니다.\"> <title>말뭉치 : 네이버 통합검색</title> <link rel=\"shortcut icon\" href=\"https://ssl.pstatic.net/sstatic/search/favicon/favicon_140327.ico\">  <link rel=\"search\" type=\"application/opensearchdescription+xml\" href=\"https://ssl.pstatic.net/sstatic/search/opensearch-description.https.xml\" title=\"Naver\" /><link rel=\"stylesheet\" type=\"text/css\" href=\"https://ssl.pstatic.net/sstatic/search/pc/css/search1_180712.css\"> <link rel=\"stylesheet\" type=\"text/css\" href=\"https:'"
      ]
     },
     "execution_count": 19,
     "metadata": {},
     "output_type": "execute_result"
    }
   ],
   "source": [
    "html = download2(url, agent = user)\n",
    "html.text[:1000]"
   ]
  },
  {
   "cell_type": "markdown",
   "metadata": {},
   "source": [
    "#### 예제 post-json"
   ]
  },
  {
   "cell_type": "code",
   "execution_count": 20,
   "metadata": {},
   "outputs": [],
   "source": [
    "import json"
   ]
  },
  {
   "cell_type": "code",
   "execution_count": 21,
   "metadata": {},
   "outputs": [],
   "source": [
    "params = {\n",
    "        \"where\":\"nexearch\",\n",
    "        \"sm\":\"top_hty\",\n",
    "        \"fbm\":1,\n",
    "        \"ie\":\"utf8\",\n",
    "        \"query\":parse.quote(\"고려대\")\n",
    "         }"
   ]
  },
  {
   "cell_type": "code",
   "execution_count": 22,
   "metadata": {},
   "outputs": [
    {
     "data": {
      "text/plain": [
       "{'fbm': 1,\n",
       " 'ie': 'utf8',\n",
       " 'query': '%EA%B3%A0%EB%A0%A4%EB%8C%80',\n",
       " 'sm': 'top_hty',\n",
       " 'where': 'nexearch'}"
      ]
     },
     "execution_count": 22,
     "metadata": {},
     "output_type": "execute_result"
    }
   ],
   "source": [
    "params"
   ]
  },
  {
   "cell_type": "code",
   "execution_count": 23,
   "metadata": {},
   "outputs": [
    {
     "data": {
      "text/plain": [
       "'{\"where\": \"nexearch\", \"sm\": \"top_hty\", \"fbm\": 1, \"ie\": \"utf8\", \"query\": \"%EA%B3%A0%EB%A0%A4%EB%8C%80\"}'"
      ]
     },
     "execution_count": 23,
     "metadata": {},
     "output_type": "execute_result"
    }
   ],
   "source": [
    "jsonParams = json.dumps(params)\n",
    "jsonParams #to str"
   ]
  },
  {
   "cell_type": "code",
   "execution_count": 24,
   "metadata": {},
   "outputs": [],
   "source": [
    "def downloadJson(url, agent=\"python bot\", num_retries=2):\n",
    "    headers = {'User-agent':agent}\n",
    "    resp = requests.post(url, json=jsonParams, headers=headers)\n",
    "    \n",
    "    if 500<resp.status_code<600 and num_retries>0:\n",
    "        print(resp.status_code, resp.reason)\n",
    "        return download(url, num_retries=num_retries - 1)\n",
    "    \n",
    "    return resp"
   ]
  },
  {
   "cell_type": "code",
   "execution_count": 25,
   "metadata": {},
   "outputs": [
    {
     "data": {
      "text/plain": [
       "'{\"args\":{},\"data\":\"\\\\\"{\\\\\\\\\\\\\"where\\\\\\\\\\\\\": \\\\\\\\\\\\\"nexearch\\\\\\\\\\\\\", \\\\\\\\\\\\\"sm\\\\\\\\\\\\\": \\\\\\\\\\\\\"top_hty\\\\\\\\\\\\\", \\\\\\\\\\\\\"fbm\\\\\\\\\\\\\": 1, \\\\\\\\\\\\\"ie\\\\\\\\\\\\\": \\\\\\\\\\\\\"utf8\\\\\\\\\\\\\", \\\\\\\\\\\\\"query\\\\\\\\\\\\\": \\\\\\\\\\\\\"%EA%B3%A0%EB%A0%A4%EB%8C%80\\\\\\\\\\\\\"}\\\\\"\",\"files\":{},\"form\":{},\"headers\":{\"Accept\":\"*/*\",\"Accept-Encoding\":\"gzip, deflate\",\"Connection\":\"close\",\"Content-Length\":\"122\",\"Content-Type\":\"application/json\",\"Host\":\"httpbin.org\",\"User-Agent\":\"Mozilla/5.0 (Windows NT 10.0; Win64; x64) AppleWebKit/537.36 (KHTML, like Gecko) Chrome/67.0.3396.99 Safari/537.36\"},\"json\":\"{\\\\\"where\\\\\": \\\\\"nexearch\\\\\", \\\\\"sm\\\\\": \\\\\"top_hty\\\\\", \\\\\"fbm\\\\\": 1, \\\\\"ie\\\\\": \\\\\"utf8\\\\\", \\\\\"query\\\\\": \\\\\"%EA%B3%A0%EB%A0%A4%EB%8C%80\\\\\"}\",\"origin\":\"163.152.3.138\",\"url\":\"http://httpbin.org/post\"}\\n'"
      ]
     },
     "execution_count": 25,
     "metadata": {},
     "output_type": "execute_result"
    }
   ],
   "source": [
    "html = downloadJson(\"http://httpbin.org/post\",agent=user)\n",
    "html.text"
   ]
  },
  {
   "cell_type": "markdown",
   "metadata": {},
   "source": [
    "#### get방식"
   ]
  },
  {
   "cell_type": "code",
   "execution_count": 26,
   "metadata": {},
   "outputs": [],
   "source": [
    "def downloadGet(url, agent=\"python bot\", num_retries=2):\n",
    "    headers = {'User-agent':agent}\n",
    "    resp = requests.get(url, headers=headers)\n",
    "    \n",
    "    if 500<resp.status_code<600 and num_retries>0:\n",
    "        print(resp.status_code, resp.reason)\n",
    "        return download(url, num_retries=num_retries - 1)\n",
    "    \n",
    "    return resp"
   ]
  },
  {
   "cell_type": "code",
   "execution_count": 27,
   "metadata": {
    "scrolled": false
   },
   "outputs": [
    {
     "data": {
      "text/plain": [
       "'<!doctype html> <html lang=\"ko\"> <head> <meta charset=\"utf-8\"> <meta name=\"referrer\" content=\"always\">  <meta name=\"format-detection\" content=\"telephone=no,address=no,email=no\"> <meta name=\"viewport\" content=\"width=device-width,initial-scale=1.0,maximum-scale=2.0\"> <meta property=\"og:title\" content=\"말뭉치 : 네이버 통합검색\"/> <meta property=\"og:image\" content=\"https://ssl.pstatic.net/sstatic/search/common/og_v3.png\"> <meta property=\"og:description\" content=\"\\'말뭉치\\'의 네이버 통합검색 결과입니다.\"> <meta name=\"description\" lang=\"ko\" content=\"\\'말뭉치\\'의 네이버 통합검색 결과입니다.\"> <title>말뭉치 : 네이버 통합검색</title> <link rel=\"shortcut icon\" href=\"https://ssl.pstatic.net/sstatic/search/favicon/favicon_140327.ico\">  <link rel=\"search\" type=\"application/opensearchdescription+xml\" href=\"https://ssl.pstatic.net/sstatic/search/opensearch-description.https.xml\" title=\"Naver\" /><link rel=\"stylesheet\" type=\"text/css\" href=\"https://ssl.pstatic.net/sstatic/search/pc/css/search1_180712.css\"> <link rel=\"stylesheet\" type=\"text/css\" href=\"https:'"
      ]
     },
     "execution_count": 27,
     "metadata": {},
     "output_type": "execute_result"
    }
   ],
   "source": [
    "downloadGet(url, agent=user).text[:1000]"
   ]
  },
  {
   "cell_type": "markdown",
   "metadata": {},
   "source": [
    "### Crawling"
   ]
  },
  {
   "cell_type": "markdown",
   "metadata": {},
   "source": [
    "![](https://user-images.githubusercontent.com/38183218/42746174-759b921e-8911-11e8-9370-972934728d01.PNG)"
   ]
  },
  {
   "cell_type": "markdown",
   "metadata": {},
   "source": [
    "#### BeautifulSoup\n",
    "\n",
    "BS is a parsing library while Scrapy is a Web-spider or web scraper framework"
   ]
  },
  {
   "cell_type": "code",
   "execution_count": 28,
   "metadata": {},
   "outputs": [],
   "source": [
    "from bs4 import BeautifulSoup"
   ]
  },
  {
   "cell_type": "markdown",
   "metadata": {},
   "source": [
    "![](https://user-images.githubusercontent.com/38183218/42746169-74fdd07e-8911-11e8-9dd1-90f8a57783d6.PNG)"
   ]
  },
  {
   "cell_type": "code",
   "execution_count": 64,
   "metadata": {},
   "outputs": [],
   "source": [
    "html = \"\"\"\n",
    "    <html>\n",
    "        <head></head>\n",
    "        <body>\n",
    "            <div id=\"wrap\">\n",
    "                <p class=\"content\">\n",
    "                    <a href=\"_blank\">Click</a>\n",
    "                </p>\n",
    "            </div>\n",
    "        </body>\n",
    "    </html>\n",
    "\"\"\""
   ]
  },
  {
   "cell_type": "code",
   "execution_count": 65,
   "metadata": {},
   "outputs": [],
   "source": [
    "doc = BeautifulSoup(html,\"lxml\") #dom tree로 가져옴"
   ]
  },
  {
   "cell_type": "code",
   "execution_count": 66,
   "metadata": {},
   "outputs": [
    {
     "data": {
      "text/plain": [
       "<div id=\"wrap\">\n",
       "<p class=\"content\">\n",
       "<a href=\"_blank\">Click</a>\n",
       "</p>\n",
       "</div>"
      ]
     },
     "execution_count": 66,
     "metadata": {},
     "output_type": "execute_result"
    }
   ],
   "source": [
    "doc.div"
   ]
  },
  {
   "cell_type": "code",
   "execution_count": 67,
   "metadata": {},
   "outputs": [
    {
     "data": {
      "text/plain": [
       "'_blank'"
      ]
     },
     "execution_count": 67,
     "metadata": {},
     "output_type": "execute_result"
    }
   ],
   "source": [
    "doc.a[\"href\"] "
   ]
  },
  {
   "cell_type": "code",
   "execution_count": 68,
   "metadata": {},
   "outputs": [
    {
     "data": {
      "text/plain": [
       "{'href': '_blank'}"
      ]
     },
     "execution_count": 68,
     "metadata": {},
     "output_type": "execute_result"
    }
   ],
   "source": [
    "doc.a.attrs"
   ]
  },
  {
   "cell_type": "markdown",
   "metadata": {},
   "source": [
    "![](https://user-images.githubusercontent.com/38183218/42746170-7524bc20-8911-11e8-9b98-1fe3ff01a525.PNG)"
   ]
  },
  {
   "cell_type": "code",
   "execution_count": 126,
   "metadata": {},
   "outputs": [
    {
     "data": {
      "text/plain": [
       "'\\n    <html>\\n        <head></head>\\n        <body>\\n            <div id=\"wrap\">\\n                <p class=\"content\">\\n                    <a href=\"_blank\">Click</a>\\n                </p>\\n            </div>\\n        </body>\\n    </html>\\n    \\n'"
      ]
     },
     "execution_count": 126,
     "metadata": {},
     "output_type": "execute_result"
    }
   ],
   "source": [
    "html"
   ]
  },
  {
   "cell_type": "code",
   "execution_count": 29,
   "metadata": {},
   "outputs": [],
   "source": [
    "soup = BeautifulSoup(downloadGet(url, agent=user).text, \"lxml\")"
   ]
  },
  {
   "cell_type": "code",
   "execution_count": 129,
   "metadata": {},
   "outputs": [
    {
     "data": {
      "text/plain": [
       "bs4.BeautifulSoup"
      ]
     },
     "execution_count": 129,
     "metadata": {},
     "output_type": "execute_result"
    }
   ],
   "source": [
    "type(soup)"
   ]
  },
  {
   "cell_type": "code",
   "execution_count": 130,
   "metadata": {},
   "outputs": [
    {
     "data": {
      "text/plain": [
       "<a href=\"#lnb\"><span>메뉴 영역으로 바로가기</span></a>"
      ]
     },
     "execution_count": 130,
     "metadata": {},
     "output_type": "execute_result"
    }
   ],
   "source": [
    "soup.find('a')"
   ]
  },
  {
   "cell_type": "code",
   "execution_count": 30,
   "metadata": {},
   "outputs": [],
   "source": [
    "a_list = soup.find_all('a')"
   ]
  },
  {
   "cell_type": "code",
   "execution_count": 136,
   "metadata": {},
   "outputs": [
    {
     "data": {
      "text/plain": [
       "384"
      ]
     },
     "execution_count": 136,
     "metadata": {},
     "output_type": "execute_result"
    }
   ],
   "source": [
    "len(a_list)"
   ]
  },
  {
   "cell_type": "code",
   "execution_count": 33,
   "metadata": {},
   "outputs": [
    {
     "name": "stdout",
     "output_type": "stream",
     "text": [
      "#lnb\n",
      "#content\n",
      "http://www.naver.com\n",
      "#\n",
      "#\n",
      "https://help.naver.com/support/alias/search/word/word_16.naver\n",
      "#\n",
      "#\n",
      "https://nid.naver.com/nidlogin.login?url=https%3A%2F%2Fsearch.naver.com%2Fsearch.naver%3Fwhere%3Dnexearch%26sm%3Dtop_hty%26fbm%3D1%26ie%3Dutf8%26query%3D%25EB%25A7%2590%25EB%25AD%2589%25EC%25B9%2598\n",
      "https://help.naver.com/support/alias/search/word/word_16.naver\n",
      "https://help.naver.com/support/alias/search/word/word_21.naver\n",
      "https://help.naver.com/support/alias/search/word/word_17.naver\n",
      "https://help.naver.com/support/alias/search/word/word_18.naver\n",
      "javascript:;\n",
      "javascript:;\n"
     ]
    }
   ],
   "source": [
    "for row in a_list[:15]:\n",
    "    print(row.attrs[\"href\"])"
   ]
  },
  {
   "cell_type": "code",
   "execution_count": 34,
   "metadata": {},
   "outputs": [],
   "source": [
    "params = {\n",
    "    }\n",
    "\n",
    "url = \"http://www.ppomppu.co.kr/zboard/zboard.php?id=freeboard\""
   ]
  },
  {
   "cell_type": "code",
   "execution_count": 35,
   "metadata": {},
   "outputs": [],
   "source": [
    "html = downloadGet(url, agent=user)"
   ]
  },
  {
   "cell_type": "code",
   "execution_count": 71,
   "metadata": {},
   "outputs": [
    {
     "data": {
      "text/plain": [
       "'euc-kr'"
      ]
     },
     "execution_count": 71,
     "metadata": {},
     "output_type": "execute_result"
    }
   ],
   "source": [
    "html.encoding"
   ]
  },
  {
   "cell_type": "code",
   "execution_count": 72,
   "metadata": {},
   "outputs": [
    {
     "data": {
      "text/plain": [
       "str"
      ]
     },
     "execution_count": 72,
     "metadata": {},
     "output_type": "execute_result"
    }
   ],
   "source": [
    "type(html.text)\n",
    "# 디코딩 필요"
   ]
  },
  {
   "cell_type": "code",
   "execution_count": 36,
   "metadata": {},
   "outputs": [
    {
     "data": {
      "text/plain": [
       "'\\x1f�\\x08\\x00\\x00\\x00\\x00\\x00\\x00\\x03�}�w\\x1b蘭�櫃Z�\\x7f8L[d�妖�#��霽�\\x05�-勖�J낫F蘆�X�QgFv\\\\히\\x7f1\\x01z�bd,����\\x14?d���r�\\t�4!�4물r\\ti�鉦�}fF\\x1a��,�11J\\x0cv��}蟄g�}>g�}��9x�CG\\x0e\\x1d携�\\x0f��\\x12��\\'\\x7f鎚c�\\x0f\\x11�j���}�n\\x7f僚C�?�筑��\\x11㎄A�J� �\\n/\\nl�n\\x7f�\\t�0aE�\\r無娠嘶q�M�F�G\\x7fi?���XX�hU\\x0c%mA%�x;\\x0f�\\x1d��c��O�SX�別蓬鉥��9$\\n\\n\\'(練\\x131�!\\x01���Q���\\x1d�\\x0e�@��dN�p��uTb��\\x11��\\x02\\x12\\x1fネ�\\x04;팜遞V<��\\x08W�E@����O誘\\x1e�\\x1e\\x12�1V帥\\x11c좍\\x0f{멘\\x08험�\\x046�y\\x186��E�@唾�G\\x1e\\x7f振_�CGlU�AN�\\x1a�j��皓蔔U�￦캡(\\x05e\\x03\\x15Ptv\\x1e션j� \\x1c尸��()\\x06�q>��=An�\\x0fpV衒\\x00�\\x05hJ6b�\\x03l���g\\x1c Q�\\x16�G���2\\'爛,童3좼\\x07��J#�b\\rr�\\x0c\\x13�\\x18�3���~V+���\\x14��\\x18\\')\\x13\\x1eF\\x1c\\x19授���x\\x06��탔볍�- �F%;%��<P懸X絅r8�\\x1c=�~[L\\x18�\"jq\\x07m8\\x1f����j\\x01�W\"�\\x17/\\x10+�_효�xwai�x規�@3\\x1e�措(\\tK\\\\�c�t\\x0b\\x01\\'�6\"�#\\x11���2(\\x18EG�?�F鰕��\\tQ\\x11�{\\n���H\\\\�c�綺�0�)\\x16���y,�kY솎.�\\x0c�e苛�JkpC�\\x04S�6p�NK�P�1\\x0f�f읾�p9�T藝5��dm!頭��!r脯屍.�\\x17��T��c�\\x10�C�U\\x07�|_�^-l�6焦+a>0�\\x17O�>�X랜�9`�\\x00A滄�賚�~���稱�|X�\\x00\\x0b非�~\\x1f��\\x06餞�曹 \\t`D\\t�\\x15�]￡���T1\\x0f�cHb�?�<�\\x03\\x01�)b<\\x10�n�F�x��t\\r�N�8슘�\\x18孼\\x1cc%支�_�<�곤W�|����遁팟�F��_�Z\\'o���\\x0f?F�\\x00}#老�<X�u�\\x01u\\x05�z�O\\x1c>ddk�\\x0b|�\\x1e��\\x1f?꾸\\x18Q.*�)�T�낢�\\\\��勃ĸⓑ\\x1a돔ρ4z�T\\x014J�\\x02um�醜�P�\\n膺�Q@�\\x1a?u��：披�e\\x05��z�?孝��-될����]w`���佛\\x189�R�v�=!��\\\\��G\\x14룻��xw���孀9i쯔�9�6�\\rF�]g\\x1d�G$\\x00\\x1a+�w��\\x04�$F\\x00jF��\"0o��&<�A�\\x15\\x08�\\x00(\\x1d0\\x1a\\x0cT�Bp�A-�%�\\x1a\\x0e�1%.q�n�\\x06肩攝�$�+\\x14\\x17\\x02\\x18\\x17v�\\x07�\\x03���\\x03�\\x01�'"
      ]
     },
     "execution_count": 36,
     "metadata": {},
     "output_type": "execute_result"
    }
   ],
   "source": [
    "html.text[:1000] #깨짐"
   ]
  },
  {
   "cell_type": "code",
   "execution_count": 150,
   "metadata": {},
   "outputs": [
    {
     "data": {
      "text/plain": [
       "bytes"
      ]
     },
     "execution_count": 150,
     "metadata": {},
     "output_type": "execute_result"
    }
   ],
   "source": [
    "type(html.content)"
   ]
  },
  {
   "cell_type": "code",
   "execution_count": 151,
   "metadata": {},
   "outputs": [],
   "source": [
    "#urllib로 만들었던 download를 써보자"
   ]
  },
  {
   "cell_type": "code",
   "execution_count": 38,
   "metadata": {},
   "outputs": [],
   "source": [
    "html = download(url, agent=user)"
   ]
  },
  {
   "cell_type": "code",
   "execution_count": 75,
   "metadata": {},
   "outputs": [
    {
     "data": {
      "text/plain": [
       "http.client.HTTPResponse"
      ]
     },
     "execution_count": 75,
     "metadata": {},
     "output_type": "execute_result"
    }
   ],
   "source": [
    "type(html) #HTTPResponse 객체"
   ]
  },
  {
   "cell_type": "code",
   "execution_count": 39,
   "metadata": {},
   "outputs": [
    {
     "data": {
      "text/plain": [
       "bytes"
      ]
     },
     "execution_count": 39,
     "metadata": {},
     "output_type": "execute_result"
    }
   ],
   "source": [
    "html = html.read()\n",
    "type(html)"
   ]
  },
  {
   "cell_type": "code",
   "execution_count": 40,
   "metadata": {},
   "outputs": [],
   "source": [
    "html = html.decode(\"euc-kr\") "
   ]
  },
  {
   "cell_type": "code",
   "execution_count": 41,
   "metadata": {},
   "outputs": [
    {
     "name": "stdout",
     "output_type": "stream",
     "text": [
      "<class 'str'>\n"
     ]
    },
    {
     "data": {
      "text/plain": [
       "'<!DOCTYPE html PUBLIC \"-//W3C//DTD XHTML 1.0 Transitional//EN\" \"http://www.w3.org/TR/xhtml1/DTD/xhtml1-transitional.dtd\">\\n<html>\\n<head>\\n<meta http-equiv=\"Content-Type\" content=\"text/html; charset=euc-kr\" />\\n<meta http-equiv=\"Content-Script-Type\" content=\"text/javascript\" />\\n<meta http-equiv=\"Content-Style-Type\" content=\"text/css\" />\\n<meta http-equiv=\"X-UA-Compatible\" content=\"IE=edge\">\\n<meta name=\"author\" content=\"PPOMPPU CO.\">\\n<meta name=\"description\" content=\"뽐뿌\">\\n<meta name=\"keywords\" content=\"\">\\n\\n\\n<!--\\n<meta name=\"viewport\" content=\"width=device-width, initial-scale=1.0, minimum-scale=1.0, user-scalable=yes, target-densitydpi=device-dpi\" />\\n-->\\n\\n\\n<meta property=\"og:image\" content=\"http://www.ppomppu.co.kr/images/icon_app_20160427.png\" />\\n\\n<meta property=\"og:site_name\" content=\"뽐뿌\" />\\n\\n<title>뽐뿌 - 자유게시판</title><!--<link href=\\'http://fonts.googleapis.com/css?family=Noto+Sans\\' rel=\\'stylesheet\\' type=\\'text/css\\'>-->\\n\\n<link rel=\"stylesheet\" type=\"text/css\" href=\"//www.ppomppu.co.kr/css/st'"
      ]
     },
     "execution_count": 41,
     "metadata": {},
     "output_type": "execute_result"
    }
   ],
   "source": [
    "print(type(html))\n",
    "html[:1000]"
   ]
  },
  {
   "cell_type": "code",
   "execution_count": 42,
   "metadata": {},
   "outputs": [],
   "source": [
    "html2 = html.encode(\"utf-8\").decode(\"utf-8\") #utf-8로 인코딩 후 다시 디코딩"
   ]
  },
  {
   "cell_type": "code",
   "execution_count": 43,
   "metadata": {},
   "outputs": [
    {
     "data": {
      "text/plain": [
       "'<!DOCTYPE html PUBLIC \"-//W3C//DTD XHTML 1.0 Transitional//EN\" \"http://www.w3.org/TR/xhtml1/DTD/xhtml1-transitional.dtd\">\\n<html>\\n<head>\\n<meta http-equiv=\"Content-Type\" content=\"text/html; charset=euc-kr\" />\\n<meta http-equiv=\"Content-Script-Type\" content=\"text/javascript\" />\\n<meta http-equiv=\"Content-Style-Type\" content=\"text/css\" />\\n<meta http-equiv=\"X-UA-Compatible\" content=\"IE=edge\">\\n<meta name=\"author\" content=\"PPOMPPU CO.\">\\n<meta name=\"description\" content=\"뽐뿌\">\\n<meta name=\"keywords\" content=\"\">\\n\\n\\n<!--\\n<meta name=\"viewport\" content=\"width=device-width, initial-scale=1.0, minimum-scale=1.0, user-scalable=yes, target-densitydpi=device-dpi\" />\\n-->\\n\\n\\n<meta property=\"og:image\" content=\"http://www.ppomppu.co.kr/images/icon_app_20160427.png\" />\\n\\n<meta property=\"og:site_name\" content=\"뽐뿌\" />\\n\\n<title>뽐뿌 - 자유게시판</title><!--<link href=\\'http://fonts.googleapis.com/css?family=Noto+Sans\\' rel=\\'stylesheet\\' type=\\'text/css\\'>-->\\n\\n<link rel=\"stylesheet\" type=\"text/css\" href=\"//www.ppomppu.co.kr/css/st'"
      ]
     },
     "execution_count": 43,
     "metadata": {},
     "output_type": "execute_result"
    }
   ],
   "source": [
    "type(html2)\n",
    "html2[:1000]"
   ]
  },
  {
   "cell_type": "code",
   "execution_count": 51,
   "metadata": {},
   "outputs": [
    {
     "data": {
      "text/plain": [
       "'html PUBLIC \"-//W3C//DTD XHTML 1.0 Transitional//EN\" \"http://www.w3.org/TR/xhtml1/DTD/xhtml1-transitional.dtd\"'"
      ]
     },
     "execution_count": 51,
     "metadata": {},
     "output_type": "execute_result"
    }
   ],
   "source": [
    "text1 = BeautifulSoup(html, \"lxml\")\n",
    "text1.contents[0]#원래 깨지던 문서를 BeautifulSoup가 자동으로 인코딩,디코딩"
   ]
  },
  {
   "cell_type": "code",
   "execution_count": 52,
   "metadata": {},
   "outputs": [],
   "source": [
    "a_lst1 = text1.find_all('a')"
   ]
  },
  {
   "cell_type": "code",
   "execution_count": 53,
   "metadata": {},
   "outputs": [
    {
     "name": "stdout",
     "output_type": "stream",
     "text": [
      "{'rel': ['#tab1-contents'], 'class': ['tab']}\n",
      "{'rel': ['#tab2-contents'], 'class': ['tab']}\n",
      "{'href': 'http://www.ppomppu.co.kr/zboard/zboard.php?id=ppomppu'}\n",
      "{'href': 'http://www.ppomppu.co.kr/zboard/zboard.php?id=event'}\n",
      "{'href': 'http://www.ppomppu.co.kr/zboard/zboard.php?id=buy'}\n",
      "{'href': 'http://www.ppomppu.co.kr/zboard/zboard.php?id=help'}\n",
      "{'href': 'http://www.ppomppu.co.kr/zboard/zboard.php?id=freeboard'}\n",
      "{'href': 'http://www.ppomppu.co.kr/zboard/zboard.php?id=etc_info'}\n",
      "{'href': 'http://www.ppomppu.co.kr/zboard/zboard.php?id=free_picture'}\n",
      "{'href': 'http://www.ppomppu.co.kr/zboard/zboard.php?id=news2'}\n",
      "{'href': 'http://www.ppomppu.co.kr/zboard/zboard.php?id=review'}\n",
      "{'href': 'http://www.ppomppu.co.kr/recent_main_article.php?type=market'}\n",
      "{'href': 'http://www.ppomppu.co.kr/myinfo/env.php?cmd=env', 'target': '_blank'}\n",
      "{'href': 'http://www.ppomppu.co.kr/myinfo/member_bookmark.php', 'target': '_blank'}\n",
      "{'href': 'http://www.ppomppu.co.kr/index.php', 'class': ['logo-sm']}\n"
     ]
    }
   ],
   "source": [
    "for row in a_lst1[:15]:\n",
    "    print(row.attrs)"
   ]
  },
  {
   "cell_type": "code",
   "execution_count": 55,
   "metadata": {},
   "outputs": [
    {
     "data": {
      "text/plain": [
       "'html PUBLIC \"-//W3C//DTD XHTML 1.0 Transitional//EN\" \"http://www.w3.org/TR/xhtml1/DTD/xhtml1-transitional.dtd\"'"
      ]
     },
     "execution_count": 55,
     "metadata": {},
     "output_type": "execute_result"
    }
   ],
   "source": [
    "text2 = BeautifulSoup(html2, \"lxml\")\n",
    "text2.contents[0]"
   ]
  },
  {
   "cell_type": "markdown",
   "metadata": {},
   "source": [
    "#### CSS selector"
   ]
  },
  {
   "cell_type": "code",
   "execution_count": 57,
   "metadata": {},
   "outputs": [
    {
     "name": "stdout",
     "output_type": "stream",
     "text": [
      "9\n"
     ]
    }
   ],
   "source": [
    "rows = text1.select(\"li > div\")\n",
    "print(len(rows))"
   ]
  },
  {
   "cell_type": "code",
   "execution_count": 59,
   "metadata": {},
   "outputs": [
    {
     "name": "stdout",
     "output_type": "stream",
     "text": [
      "<div class=\"sub-menu\">\n",
      "<ul>\n",
      "<li class=\"strong\"><i class=\"caret\"></i><a href=\"http://www.ppomppu.co.kr/zboard/zboard.php?id=ppomppu\">뽐뿌게시판</a></li>\n",
      "<li><a href=\"http://www.ppomppu.co.kr/zboard/zboard.php?id=ppomppu2\">휴대폰뽐뿌</a></li>\n",
      "<li><a href=\"http://www.ppomppu.co.kr/zboard/zboard.php?id=ppomppu4\">해외뽐뿌</a></li>\n",
      "<li><a href=\"http://www.ppomppu.co.kr/zboard/zboard.php?id=ppomppu3\">MD뽐뿌</a></li>\n",
      "<li><a href=\"http://www.ppomppu.co.kr/zboard/zboard.php?id=ppomppu5\">오프라인뽐뿌</a></li>\n",
      "<li><a href=\"http://www.ppomppu.co.kr/zboard/zboard.php?id=ppomppu7\">뷰티뽐뿌</a></li>\n",
      "<li><a href=\"http://www.ppomppu.co.kr/zboard/zboard.php?id=ppomppu6\">업체뽐뿌</a></li>\n",
      "<li class=\"divider\"><a href=\"http://www.ppomppu.co.kr/zboard/zboard.php?id=pmarket\">업체게시판</a></li>\n",
      "<li><a href=\"http://www.ppomppu.co.kr/zboard/zboard.php?id=pmarket2\">휴대폰업체</a></li>\n",
      "<li><a href=\"http://www.ppomppu.co.kr/zboard/zboard.php?id=pmarket3\">통신업체</a></li>\n",
      "<li><a href=\"http://www.ppomppu.co.kr/zboard/zboard.php?id=card_market\">카드업체</a></li>\n",
      "<li><a href=\"http://www.ppomppu.co.kr/zboard/zboard.php?id=pmarket7\">렌탈업체</a></li>\n",
      "<li><a href=\"http://www.ppomppu.co.kr/books/index.php\">책가격비교</a></li>\n",
      "<li class=\"divider strong\"><a href=\"http://www.ppomppu.co.kr/hot.php\">HOT게시글</a></li>\n",
      "<li><a href=\"http://www.ppomppu.co.kr/hot_comment.php\">HOT코멘트</a></li>\n",
      "</ul>\n",
      "</div>\n",
      "<div class=\"sub-menu\">\n",
      "<ul>\n",
      "<li class=\"strong\"><i class=\"caret\"></i><a href=\"http://www.ppomppu.co.kr/zboard/zboard.php?id=event\">이벤트게시판</a></li>\n",
      "<li><a href=\"http://www.ppomppu.co.kr/zboard/zboard.php?id=coupon\">쿠폰게시판</a></li>\n",
      "<li><a href=\"http://www.ppomppu.co.kr/zboard/zboard.php?id=mobile\">모바일이벤트</a></li>\n",
      "<li><a href=\"http://www.ppomppu.co.kr/zboard/zboard.php?id=experience\">체험단모집</a></li>\n",
      "<li><a href=\"http://www.ppomppu.co.kr/zboard/zboard.php?id=wcoupon\">다운로드 쿠폰</a></li>\n",
      "<li class=\"divider\"><a href=\"http://www.ppomppu.co.kr/zboard/zboard.php?id=wow\">참여/리뷰</a></li>\n",
      "<li class=\"divider strong\"><a href=\"http://www.ppomppu.co.kr/zboard/zboard.php?id=event_ppomppu\">뽐뿌이벤트</a></li>\n",
      "<!--<li class=\"\"><a href=\"http://www.ppomppu.co.kr/zboard/zboard.php?id=event_jr\">뽐뿌이벤트 응모</a></li>-->\n",
      "</ul>\n",
      "</div>\n"
     ]
    }
   ],
   "source": [
    "for row in rows[:2]:\n",
    "    print(row)"
   ]
  },
  {
   "cell_type": "markdown",
   "metadata": {},
   "source": [
    "#### Collecting Links\n"
   ]
  },
  {
   "cell_type": "markdown",
   "metadata": {},
   "source": [
    "![46](https://user-images.githubusercontent.com/38183218/42806141-a9c51362-89e8-11e8-8e86-0aaceaa9da69.PNG)"
   ]
  },
  {
   "cell_type": "code",
   "execution_count": 66,
   "metadata": {},
   "outputs": [],
   "source": [
    "def getUrls(url, params=None, num_retries=2):\n",
    "    headers = {\"User-agent\":\"Mozilla/5.0 (Windows NT 10.0; Win64; x64) AppleWebKit/537.36 (KHTML, like Gecko) Chrome/67.0.3396.99 Safari/537.36\"}\n",
    "    resp = requests.get(url, params=params, headers=headers)\n",
    "    \n",
    "    if 500<=resp.status_code < 600 and num_retries>0:\n",
    "        print(\"error: \", resp.status_code, resp.reason)\n",
    "        return getUrls(url=url, params=params, num_retries=num_retries-1)\n",
    "    \n",
    "    html = BeautifulSoup(resp.content, \"lxml\")\n",
    "    links = html.select(\"h3.r > a\")\n",
    "    \n",
    "    return [link[\"href\"] for link in links if link.has_attr(\"href\") == True]"
   ]
  },
  {
   "cell_type": "code",
   "execution_count": 99,
   "metadata": {},
   "outputs": [
    {
     "name": "stdout",
     "output_type": "stream",
     "text": [
      "['http://www.hancom.com/downLoad.downPU.do', 'https://www.hancom.com/product/productWindowsMain.do', 'https://namu.wiki/w/%ED%95%9C%EA%B8%80', 'https://namu.wiki/w/%ED%95%9C%EC%BB%B4%EC%98%A4%ED%94%BC%EC%8A%A4%20%ED%95%9C%EA%B8%80', 'https://ko.wikipedia.org/wiki/%ED%95%9C%EA%B8%80', 'https://ko.wikibooks.org/wiki/%ED%95%9C%EA%B5%AD%EC%96%B4_%EC%9E%85%EB%AC%B8/%ED%95%9C%EA%B8%80_%EC%9E%90%EB%AA%A8', 'https://www.korean.go.kr/hangeul/principle/001.html', 'http://www.kocca.kr/cop/bbs/view/B0000137/1833364.do?menuNo=200827&noticevent=Y']\n"
     ]
    }
   ],
   "source": [
    "seed = \"https://www.google.com/search\"\n",
    "params = {\n",
    "    \"q\":\"한글\",\n",
    "    \"ie\":\"utf-8\"\n",
    "}\n",
    "urlList = getUrls(seed,params)\n",
    "print(urlList)"
   ]
  },
  {
   "cell_type": "code",
   "execution_count": 60,
   "metadata": {},
   "outputs": [],
   "source": [
    "def getUrlsWithSelector(url, params=None, select=\"a\", num_retries=2):\n",
    "    headers = {\"User-agent\":\"Mozilla/5.0 (Windows NT 10.0; Win64; x64) AppleWebKit/537.36 (KHTML, like Gecko) Chrome/67.0.3396.99 Safari/537.36\"}\n",
    "    \n",
    "    resp = requests.get(url, params=params, headers=headers)\n",
    "    \n",
    "    if 500<=resp.status_code < 600 and num_retries>0:\n",
    "        print(\"error: \", resp.status_code, resp.reason)\n",
    "        return getUrls(url=url, params=params, num_retries=num_retries-1)\n",
    "    \n",
    "    html = BeautifulSoup(resp.content, \"lxml\")\n",
    "    links = html.select(select)\n",
    "    \n",
    "    return [link.get(\"href\") for link in links if link.has_attr(\"href\") == True]"
   ]
  },
  {
   "cell_type": "code",
   "execution_count": 64,
   "metadata": {},
   "outputs": [],
   "source": [
    "def checkUrl(url):\n",
    "    dest = parse.urlparse(url)\n",
    "    \n",
    "    if len(dest.scheme) > 0 and dest.scheme in ['http','https']:\n",
    "        return True\n",
    "    else:\n",
    "        return False"
   ]
  },
  {
   "cell_type": "code",
   "execution_count": 61,
   "metadata": {},
   "outputs": [],
   "source": [
    "seed = \"https://www.naver.com\"\n",
    "params = {\n",
    "    \"query\":\"말뭉치\",\n",
    "    \"ie\":\"utf-8\"\n",
    "}"
   ]
  },
  {
   "cell_type": "code",
   "execution_count": 62,
   "metadata": {},
   "outputs": [],
   "source": [
    "queue = getUrlsWithSelector(seed,params, \"a\")\n",
    "result = []"
   ]
  },
  {
   "cell_type": "code",
   "execution_count": 68,
   "metadata": {},
   "outputs": [],
   "source": [
    "##queue 에서 링크를 출력한다\n",
    "\n",
    "# while queue:\n",
    "#     url = queue.pop()\n",
    "#     while checkUrl(url) is False:\n",
    "#         url = queue.pop()\n",
    "        \n",
    "#     urlList = getUrls(url)\n",
    "    \n",
    "#     result.append(url)\n",
    "#     result.extend(urlList)\n",
    "    \n",
    "#     print(url, len(urlList), end=\"\\n\")"
   ]
  },
  {
   "cell_type": "code",
   "execution_count": 69,
   "metadata": {},
   "outputs": [],
   "source": [
    "headers = {\"User-agent\":\"Mozilla/5.0 (Windows NT 10.0; Win64; x64) AppleWebKit/537.36 (KHTML, like Gecko) Chrome/67.0.3396.99 Safari/537.36\"}\n",
    "resp = requests.get(seed, params=params, headers=headers)"
   ]
  },
  {
   "cell_type": "code",
   "execution_count": 70,
   "metadata": {},
   "outputs": [],
   "source": [
    "html = BeautifulSoup(resp.content, \"lxml\")"
   ]
  },
  {
   "cell_type": "code",
   "execution_count": 71,
   "metadata": {},
   "outputs": [
    {
     "data": {
      "text/plain": [
       "[<a href=\"#news_cast\" onclick=\"document.getElementById('news_cast2').tabIndex = -1;document.getElementById('news_cast2').focus();return false;\"><span>뉴스스탠드 바로가기</span></a>,\n",
       " <a href=\"#themecast\" onclick=\"document.getElementById('themecast').tabIndex = -1;document.getElementById('themecast').focus();return false;\"><span>주제별캐스트 바로가기</span></a>,\n",
       " <a href=\"#time_square\" onclick=\"document.getElementById('time_square').tabIndex = -1;document.getElementById('time_square').focus();return false;\"><span>타임스퀘어 바로가기</span></a>,\n",
       " <a href=\"#shp_cst\" onclick=\"document.getElementById('shp_cst').tabIndex = -1;document.getElementById('shp_cst').focus();return false;\"><span>쇼핑캐스트 바로가기</span></a>,\n",
       " <a href=\"#account\" onclick=\"document.getElementById('account').tabIndex = -1;document.getElementById('account').focus();return false;\"><span>로그인 바로가기</span></a>,\n",
       " <a data-clk=\"top.logo\" href=\"/\"><span class=\"naver_logo\">네이버</span></a>,\n",
       " <a class=\"al_favorite\" data-clk=\"top.mkhome\" href=\"http://help.naver.com/support/alias/contents2/naverhome/naverhome_1.naver\">네이버를 시작페이지로<span class=\"al_ico_link\"></span></a>,\n",
       " <a class=\"al_jr\" data-clk=\"top.jrnaver\" href=\"http://jr.naver.com\"><span class=\"blind\">쥬니어네이버</span><span class=\"al_ico\"></span></a>,\n",
       " <a class=\"al_happybean\" data-clk=\"top.happybean\" href=\"http://happybean.naver.com/main/SectionMain.nhn\"><span class=\"blind\">해피빈</span><span class=\"al_ico\"></span></a>,\n",
       " <a class=\"btn_arw _btn_arw fold\" href=\"javascript:;\" role=\"button\" tabindex=\"2\"><span class=\"blind _text\">자동완성 펼치기</span><span class=\"ico_arr\"></span></a>,\n",
       " <a class=\"btn_keyboard\" data-clk=\"sch.ime\" href=\"javascript:;\" id=\"ke_kbd_btn\" onclick=\"nx_ime_load(this)\" role=\"button\"><span class=\"blind\">한글 입력기</span><span class=\"ico_keyboard\"></span></a>,\n",
       " <a href=\"#\" onclick=\"return false;\">@txt@</a>,\n",
       " <a class=\"spat ico_info\" href=\"https://help.naver.com/support/alias/search/word/word_16.naver\" onclick=\"__atcmpCR(event, this, 'plus.help', '','','');\" target=\"_blank\"><span class=\"blind\">도움말 보기</span></a>,\n",
       " <a class=\"btn_turnon active\" href=\"#\" onclick=\"__atcmpCR(event, this, 'plus.use', '','','');\">ON<span class=\"blind\">선택됨</span></a>,\n",
       " <a class=\"btn_turnoff\" href=\"#\" onclick=\"__atcmpCR(event, this, 'plus.unuse', '','','');\">OFF</a>]"
      ]
     },
     "execution_count": 71,
     "metadata": {},
     "output_type": "execute_result"
    }
   ],
   "source": [
    "html.select(\"a\")[:15]"
   ]
  },
  {
   "cell_type": "markdown",
   "metadata": {},
   "source": [
    "#### Crawling vs Scraping\n",
    "![55](https://user-images.githubusercontent.com/38183218/42806142-a9fae76c-89e8-11e8-955c-d60bdd3d58d9.PNG)"
   ]
  },
  {
   "cell_type": "code",
   "execution_count": null,
   "metadata": {},
   "outputs": [],
   "source": []
  },
  {
   "cell_type": "code",
   "execution_count": null,
   "metadata": {},
   "outputs": [],
   "source": []
  }
 ],
 "metadata": {
  "kernelspec": {
   "display_name": "Python 3",
   "language": "python",
   "name": "python3"
  },
  "language_info": {
   "codemirror_mode": {
    "name": "ipython",
    "version": 3
   },
   "file_extension": ".py",
   "mimetype": "text/x-python",
   "name": "python",
   "nbconvert_exporter": "python",
   "pygments_lexer": "ipython3",
   "version": "3.6.4"
  }
 },
 "nbformat": 4,
 "nbformat_minor": 2
}
