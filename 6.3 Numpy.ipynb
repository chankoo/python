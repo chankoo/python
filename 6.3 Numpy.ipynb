{
 "cells": [
  {
   "cell_type": "code",
   "execution_count": 1,
   "metadata": {},
   "outputs": [],
   "source": [
    "import numpy as np"
   ]
  },
  {
   "cell_type": "markdown",
   "metadata": {},
   "source": [
    "### Why Numpy?\n",
    "1. 데이터 저장 방식!\n",
    "2. 데이터 접근 방식!\n",
    "3. 벡터화된 연산의 결과물!"
   ]
  },
  {
   "cell_type": "markdown",
   "metadata": {},
   "source": [
    "#### 자료구조\n",
    "- vectorization\n",
    "    - R, Matlab, Numpy 등\n",
    "    - 벡터화하여 계산\n",
    "    - 배열(행렬)을 활용한 효율적인 계산, 반복문을 명시적으로 제거해 속도빠름\n",
    "    - 실제코딩의 양을 줄이고, 병렬계산이 가능하기에 multi core 활용가능(그러나 numpy는 싱글코어에만 최적화, gpu 지원x)\n",
    "    \n",
    "- 메모리 접근\n",
    "    - 파이썬의 리스트는 연결리스트로 구현(포인터의 배열, 객체가 메모리에 흩어져있음-> 속도느림)\n",
    "    - 넘파이의 ND어레이는 메모리에 연속적으로 구현\n",
    "\n",
    "<img width=\"619\" alt=\"1\" src=\"https://user-images.githubusercontent.com/38183218/44324235-015e4000-a490-11e8-9b47-868fa68999fc.png\">\n",
    "<img width=\"600\" alt=\"2\" src=\"https://user-images.githubusercontent.com/38183218/44324236-015e4000-a490-11e8-9287-b441b44179b7.png\">\n",
    "\n",
    "![1](https://user-images.githubusercontent.com/38183218/44341256-4f8c3700-a4c2-11e8-8cd1-6583bdf34f0c.PNG)"
   ]
  },
  {
   "cell_type": "markdown",
   "metadata": {},
   "source": [
    "#### 인터페이스\n",
    "- scipy, matplotlib, pandas, scikit-learn, statsmodels 같은 라이브러리 간의 공통 인터페이스\n",
    "- Tensorflow 는 numpy의 ndarray 기능에 약간의 추가적인 기능 + 자동미분 + GPU지원 추가\n",
    "\n",
    "#### 편함\n",
    "- broadcasting\n",
    "- univertial function"
   ]
  },
  {
   "cell_type": "markdown",
   "metadata": {},
   "source": [
    "#### 유니버설 함수\n",
    "unfunc라고 불리는 유니버설 함수는 ndarray 안에 있는 데이터 원소 별로 연산을 수행하는 함수\n",
    "\n",
    "일종의 래퍼 함수(wrapper function)로 간단하게 다른 함수에 약간의 기능을 덧씌워 사용하는 함수\n",
    "\n",
    "여기에서는 ndarray를 감싸 특정 연산을 고속으로 수행하주는 함수라고 보면 된다\n",
    "\n",
    "=> 즉, ndarry에 안에 있는 데이터의 각 원소별로 연산을 수행하는 함수"
   ]
  },
  {
   "cell_type": "markdown",
   "metadata": {},
   "source": [
    " ## 1. 1 NUMPY ndarray : 다차원 배열 객체\n",
    "![2](https://user-images.githubusercontent.com/38183218/44341392-bc9fcc80-a4c2-11e8-9fbb-019c324bdb4b.PNG)\n",
    " ### 1.1.1 ndarray 생성\n",
    " \n",
    " #### 배열 생성 함수\n",
    " \n",
    "- __np.arrary__ : 입력된 데이터를 ndarray로 변환. dtype을 명시하면 자료형을 설정할 수 있다.\n",
    "- __np.asarray__ : 입력 데이터를 ndarray로 변환하나 이미 ndarray일 경우에는 새로 메모리에 ndarray가 생성되지는 않는다.\n",
    "- __np.arange__ : range 함수와 유사하나 ndarray를 반환한다. 자료형 Default는 float64이다.\n",
    "- __np.ones__ : 전달인자로 전달한 dtype과 모양(행,렬)으로 배열을 생성하고 모든 내용을 1로 초기화하여 ndarray로 반환한다.\n",
    "- __np.zeroes__ : ones와 같으나 초기값이 0이다.\n",
    "- __np.empty__ : ones와 zeros와 비슷하나 값을 초기화하지 않는다.\n"
   ]
  },
  {
   "cell_type": "markdown",
   "metadata": {},
   "source": [
    " ### 1.1.2 ndarray의 자료형"
   ]
  },
  {
   "cell_type": "code",
   "execution_count": 2,
   "metadata": {},
   "outputs": [],
   "source": [
    "data = np.array([\n",
    "        [1,2,3],\n",
    "        [4,5,6],\n",
    "        [7,8,9]\n",
    "                ])"
   ]
  },
  {
   "cell_type": "code",
   "execution_count": 3,
   "metadata": {},
   "outputs": [
    {
     "data": {
      "text/plain": [
       "(3, 3)"
      ]
     },
     "execution_count": 3,
     "metadata": {},
     "output_type": "execute_result"
    }
   ],
   "source": [
    "data.shape"
   ]
  },
  {
   "cell_type": "code",
   "execution_count": 4,
   "metadata": {},
   "outputs": [
    {
     "data": {
      "text/plain": [
       "dtype('int32')"
      ]
     },
     "execution_count": 4,
     "metadata": {},
     "output_type": "execute_result"
    }
   ],
   "source": [
    "data.dtype # array는 생성될 때 적절한 자료형을 선택,"
   ]
  },
  {
   "cell_type": "code",
   "execution_count": 5,
   "metadata": {},
   "outputs": [
    {
     "data": {
      "text/plain": [
       "array([[1, 2, 3],\n",
       "       [4, 5, 6],\n",
       "       [7, 8, 9]], dtype=int64)"
      ]
     },
     "execution_count": 5,
     "metadata": {},
     "output_type": "execute_result"
    }
   ],
   "source": [
    "data.astype(np.int64)"
   ]
  },
  {
   "cell_type": "code",
   "execution_count": 6,
   "metadata": {},
   "outputs": [],
   "source": [
    "numeric_strings = np.array(['1.25','-9.6','42'], dtype = np.string_) # array를 설정할 때부터 dtype을 통해 형태를 지정할 수 있다."
   ]
  },
  {
   "cell_type": "code",
   "execution_count": 7,
   "metadata": {},
   "outputs": [
    {
     "data": {
      "text/plain": [
       "array([b'1.25', b'-9.6', b'42'], dtype='|S4')"
      ]
     },
     "execution_count": 7,
     "metadata": {},
     "output_type": "execute_result"
    }
   ],
   "source": [
    "numeric_strings"
   ]
  },
  {
   "cell_type": "markdown",
   "metadata": {},
   "source": [
    "### 1.1.3 배열과 스칼라 간의 연산\n",
    "#### Broadcasting"
   ]
  },
  {
   "cell_type": "code",
   "execution_count": 8,
   "metadata": {},
   "outputs": [
    {
     "data": {
      "text/plain": [
       "array([[ 1,  4,  9],\n",
       "       [16, 25, 36],\n",
       "       [49, 64, 81]])"
      ]
     },
     "execution_count": 8,
     "metadata": {},
     "output_type": "execute_result"
    }
   ],
   "source": [
    "data*data # 배열의 연산은 사칙연산의 기호를 그대로 사용하면 된다."
   ]
  },
  {
   "cell_type": "markdown",
   "metadata": {},
   "source": [
    "### 1.1.4 색인과 슬라이싱 기초"
   ]
  },
  {
   "cell_type": "code",
   "execution_count": 9,
   "metadata": {},
   "outputs": [
    {
     "data": {
      "text/plain": [
       "array([0, 1, 2, 3, 4, 5, 6, 7, 8, 9])"
      ]
     },
     "execution_count": 9,
     "metadata": {},
     "output_type": "execute_result"
    }
   ],
   "source": [
    "arr = np.arange(10)\n",
    "arr"
   ]
  },
  {
   "cell_type": "code",
   "execution_count": 11,
   "metadata": {},
   "outputs": [
    {
     "data": {
      "text/plain": [
       "array([5, 6, 7])"
      ]
     },
     "execution_count": 11,
     "metadata": {},
     "output_type": "execute_result"
    }
   ],
   "source": [
    "arr[5:8] # 1차원 배열의 인덱싱은 파이썬의 리스트와 유사하게 동작"
   ]
  },
  {
   "cell_type": "code",
   "execution_count": 12,
   "metadata": {},
   "outputs": [
    {
     "data": {
      "text/plain": [
       "array([  0,   1,   2,   3,   4, 100, 100, 100,   8,   9])"
      ]
     },
     "execution_count": 12,
     "metadata": {},
     "output_type": "execute_result"
    }
   ],
   "source": [
    "arr[5:8] = 100\n",
    "# 배열의 인덱싱 값을 수정하면 원본 배열에 바로 반영\n",
    "arr"
   ]
  },
  {
   "cell_type": "code",
   "execution_count": 13,
   "metadata": {},
   "outputs": [
    {
     "data": {
      "text/plain": [
       "array([1, 2, 3])"
      ]
     },
     "execution_count": 13,
     "metadata": {},
     "output_type": "execute_result"
    }
   ],
   "source": [
    "data[0] # 2차원 배열에서 배열의 색인은 값이 아닌, 1차원 배열이다."
   ]
  },
  {
   "cell_type": "code",
   "execution_count": 14,
   "metadata": {},
   "outputs": [
    {
     "data": {
      "text/plain": [
       "True"
      ]
     },
     "execution_count": 14,
     "metadata": {},
     "output_type": "execute_result"
    }
   ],
   "source": [
    "data[0][2] == data[0,2] # 2차원 배열의 인덱싱"
   ]
  },
  {
   "cell_type": "markdown",
   "metadata": {},
   "source": [
    "### 1.1.7 배열 전치와 축 바꾸기"
   ]
  },
  {
   "cell_type": "code",
   "execution_count": 15,
   "metadata": {},
   "outputs": [
    {
     "data": {
      "text/plain": [
       "array([[1, 4, 7],\n",
       "       [2, 5, 8],\n",
       "       [3, 6, 9]])"
      ]
     },
     "execution_count": 15,
     "metadata": {},
     "output_type": "execute_result"
    }
   ],
   "source": [
    "data.T"
   ]
  },
  {
   "cell_type": "code",
   "execution_count": 17,
   "metadata": {},
   "outputs": [
    {
     "data": {
      "text/plain": [
       "array([[1, 4, 7],\n",
       "       [2, 5, 8],\n",
       "       [3, 6, 9]])"
      ]
     },
     "execution_count": 17,
     "metadata": {},
     "output_type": "execute_result"
    }
   ],
   "source": [
    "data.transpose(1,0) #data.T와 결과는 같다.(axis0=행 axis1=열이라고 할 때, axis0, axis1이 서로 바뀌게 된다.)"
   ]
  },
  {
   "cell_type": "code",
   "execution_count": 18,
   "metadata": {},
   "outputs": [
    {
     "data": {
      "text/plain": [
       "array([[ 66,  78,  90],\n",
       "       [ 78,  93, 108],\n",
       "       [ 90, 108, 126]])"
      ]
     },
     "execution_count": 18,
     "metadata": {},
     "output_type": "execute_result"
    }
   ],
   "source": [
    "np.dot(data.T,data) # np.dot()은 행렬의 곱을 계산해준다."
   ]
  },
  {
   "cell_type": "markdown",
   "metadata": {},
   "source": [
    "### 1.2 유니버설 함수"
   ]
  },
  {
   "cell_type": "code",
   "execution_count": 19,
   "metadata": {},
   "outputs": [
    {
     "data": {
      "text/plain": [
       "array([[1.        , 1.41421356, 1.73205081],\n",
       "       [2.        , 2.23606798, 2.44948974],\n",
       "       [2.64575131, 2.82842712, 3.        ]])"
      ]
     },
     "execution_count": 19,
     "metadata": {},
     "output_type": "execute_result"
    }
   ],
   "source": [
    "np.sqrt(data)"
   ]
  },
  {
   "cell_type": "code",
   "execution_count": 20,
   "metadata": {},
   "outputs": [
    {
     "data": {
      "text/plain": [
       "array([[2.71828183e+00, 7.38905610e+00, 2.00855369e+01],\n",
       "       [5.45981500e+01, 1.48413159e+02, 4.03428793e+02],\n",
       "       [1.09663316e+03, 2.98095799e+03, 8.10308393e+03]])"
      ]
     },
     "execution_count": 20,
     "metadata": {},
     "output_type": "execute_result"
    }
   ],
   "source": [
    "np.exp(data)"
   ]
  },
  {
   "cell_type": "code",
   "execution_count": 21,
   "metadata": {},
   "outputs": [],
   "source": [
    "x = np.random.randn(8)\n",
    "y = np.random.randn(8)"
   ]
  },
  {
   "cell_type": "code",
   "execution_count": 22,
   "metadata": {},
   "outputs": [
    {
     "data": {
      "text/plain": [
       "array([ 0.20146238,  1.14360214,  1.26548017, -0.99735921,  0.52144585,\n",
       "        0.11591747,  0.10779347,  2.49857522])"
      ]
     },
     "execution_count": 22,
     "metadata": {},
     "output_type": "execute_result"
    }
   ],
   "source": [
    "np.maximum(x, y)"
   ]
  },
  {
   "cell_type": "markdown",
   "metadata": {},
   "source": [
    "### 1.3 배열을 사용한 데이터 처리\n",
    "#### NumPy 배열을 사용하면 반복문을 작성하지 않고 간결한 배열연산을 통해 데이터 처리 작업이 가능\n",
    "#### <벡터화> : 배열연산을 사용해 반복문을 명시적으로 제거하는 방법\n",
    "#### 일반적으로 벡터화 된 배열에 대해 산술연산을 순수 파이썬 연산에 비해 빠름"
   ]
  },
  {
   "cell_type": "markdown",
   "metadata": {},
   "source": [
    "#### 1.3.1 배열 연산으로 조건절 표현하기"
   ]
  },
  {
   "cell_type": "code",
   "execution_count": 24,
   "metadata": {},
   "outputs": [
    {
     "name": "stdout",
     "output_type": "stream",
     "text": [
      "[1.1 2.2 1.3 1.4 2.5]\n"
     ]
    }
   ],
   "source": [
    "xarr = np.array([1.1, 1.2, 1.3, 1.4, 1.5])\n",
    "yarr = np.array([2.1, 2.2, 2.3, 2.4, 2.5])\n",
    "cond = np.array([True, False, True, True, False])\n",
    "\n",
    "result = np.where(cond, xarr, yarr) # Cond가 True이면 xarr에서, False이면 yarr에서 값을 취함\n",
    "print (result)"
   ]
  },
  {
   "cell_type": "code",
   "execution_count": 25,
   "metadata": {},
   "outputs": [
    {
     "data": {
      "text/plain": [
       "array([[ 2,  2, -2, -2],\n",
       "       [ 2,  2, -2,  2],\n",
       "       [-2, -2, -2, -2],\n",
       "       [-2,  2,  2, -2]])"
      ]
     },
     "execution_count": 25,
     "metadata": {},
     "output_type": "execute_result"
    }
   ],
   "source": [
    "arr = np.random.randn(4, 4)\n",
    "np.where(arr > 0, 2, -2)"
   ]
  },
  {
   "cell_type": "code",
   "execution_count": 26,
   "metadata": {},
   "outputs": [
    {
     "data": {
      "text/plain": [
       "array([[ 2.        ,  2.        , -0.99915027, -1.35628458],\n",
       "       [ 2.        ,  2.        , -0.97804843,  2.        ],\n",
       "       [-0.52595398, -0.85020274, -1.21556016, -0.35706252],\n",
       "       [-1.16846719,  2.        ,  2.        , -0.0619127 ]])"
      ]
     },
     "execution_count": 26,
     "metadata": {},
     "output_type": "execute_result"
    }
   ],
   "source": [
    "np.where(arr > 0, 2, arr)"
   ]
  },
  {
   "cell_type": "markdown",
   "metadata": {},
   "source": [
    "### 1.3.3 불리언 배열을 위한 메서드 "
   ]
  },
  {
   "cell_type": "code",
   "execution_count": 33,
   "metadata": {},
   "outputs": [
    {
     "data": {
      "text/plain": [
       "array([[ 1.40065029,  1.46287576, -0.99915027, -1.35628458],\n",
       "       [ 0.21494003,  0.36707092, -0.97804843,  0.76327613],\n",
       "       [-0.52595398, -0.85020274, -1.21556016, -0.35706252],\n",
       "       [-1.16846719,  0.73298724,  0.09569474, -0.0619127 ]])"
      ]
     },
     "execution_count": 33,
     "metadata": {},
     "output_type": "execute_result"
    }
   ],
   "source": [
    "arr"
   ]
  },
  {
   "cell_type": "code",
   "execution_count": 32,
   "metadata": {},
   "outputs": [
    {
     "data": {
      "text/plain": [
       "7"
      ]
     },
     "execution_count": 32,
     "metadata": {},
     "output_type": "execute_result"
    }
   ],
   "source": [
    "(arr>0).sum()"
   ]
  },
  {
   "cell_type": "code",
   "execution_count": 34,
   "metadata": {},
   "outputs": [],
   "source": [
    "bools = np.array([False, False, True, False])"
   ]
  },
  {
   "cell_type": "code",
   "execution_count": 35,
   "metadata": {},
   "outputs": [
    {
     "data": {
      "text/plain": [
       "True"
      ]
     },
     "execution_count": 35,
     "metadata": {},
     "output_type": "execute_result"
    }
   ],
   "source": [
    "bools.any()"
   ]
  },
  {
   "cell_type": "code",
   "execution_count": 36,
   "metadata": {},
   "outputs": [
    {
     "data": {
      "text/plain": [
       "False"
      ]
     },
     "execution_count": 36,
     "metadata": {},
     "output_type": "execute_result"
    }
   ],
   "source": [
    "bools.all()"
   ]
  },
  {
   "cell_type": "markdown",
   "metadata": {},
   "source": [
    "### 1.3.4 정렬"
   ]
  },
  {
   "cell_type": "code",
   "execution_count": 37,
   "metadata": {},
   "outputs": [
    {
     "data": {
      "text/plain": [
       "array([ 0.49794229,  0.11292962, -1.08532888, -1.37618108,  0.83503095,\n",
       "       -0.07719525,  0.98162579,  0.46099161])"
      ]
     },
     "execution_count": 37,
     "metadata": {},
     "output_type": "execute_result"
    }
   ],
   "source": [
    "arr = np.random.randn(8)\n",
    "arr"
   ]
  },
  {
   "cell_type": "code",
   "execution_count": 38,
   "metadata": {},
   "outputs": [],
   "source": [
    "arr.sort() #다차원 배열의 정렬은 sort 메서드에 넘긴 축의 값에 따라 1차원 부분 정렬(오름차순)"
   ]
  },
  {
   "cell_type": "code",
   "execution_count": 39,
   "metadata": {},
   "outputs": [
    {
     "data": {
      "text/plain": [
       "array([-1.37618108, -1.08532888, -0.07719525,  0.11292962,  0.46099161,\n",
       "        0.49794229,  0.83503095,  0.98162579])"
      ]
     },
     "execution_count": 39,
     "metadata": {},
     "output_type": "execute_result"
    }
   ],
   "source": [
    "arr"
   ]
  },
  {
   "cell_type": "code",
   "execution_count": 40,
   "metadata": {},
   "outputs": [
    {
     "data": {
      "text/plain": [
       "array([[-0.33112212,  0.9038282 ,  0.10736887],\n",
       "       [-0.06150863, -1.71030769,  1.93999104],\n",
       "       [-0.28309398,  0.37935712,  0.05463613],\n",
       "       [ 0.94058494,  0.88486031,  2.06496353],\n",
       "       [-0.89406546,  0.10609183,  0.63509583]])"
      ]
     },
     "execution_count": 40,
     "metadata": {},
     "output_type": "execute_result"
    }
   ],
   "source": [
    "arr = np.random.randn(5, 3) #5행 3열의 배열(5x3행렬) arr 생성\n",
    "arr"
   ]
  },
  {
   "cell_type": "code",
   "execution_count": 41,
   "metadata": {},
   "outputs": [
    {
     "data": {
      "text/plain": [
       "array([[-0.33112212,  0.10736887,  0.9038282 ],\n",
       "       [-1.71030769, -0.06150863,  1.93999104],\n",
       "       [-0.28309398,  0.05463613,  0.37935712],\n",
       "       [ 0.88486031,  0.94058494,  2.06496353],\n",
       "       [-0.89406546,  0.10609183,  0.63509583]])"
      ]
     },
     "execution_count": 41,
     "metadata": {},
     "output_type": "execute_result"
    }
   ],
   "source": [
    "arr.sort(1) #row.sort 각 행의 원소들을 오름차순으로 정렬\n",
    "arr"
   ]
  },
  {
   "cell_type": "code",
   "execution_count": 42,
   "metadata": {},
   "outputs": [
    {
     "data": {
      "text/plain": [
       "array([[-1.71030769, -0.06150863,  0.37935712],\n",
       "       [-0.89406546,  0.05463613,  0.63509583],\n",
       "       [-0.33112212,  0.10609183,  0.9038282 ],\n",
       "       [-0.28309398,  0.10736887,  1.93999104],\n",
       "       [ 0.88486031,  0.94058494,  2.06496353]])"
      ]
     },
     "execution_count": 42,
     "metadata": {},
     "output_type": "execute_result"
    }
   ],
   "source": [
    "arr.sort(0) #column.sort 각 열의 원소들을 오름차순으로 정렬\n",
    "arr"
   ]
  },
  {
   "cell_type": "markdown",
   "metadata": {},
   "source": [
    "### 1.3.5 집합 함수"
   ]
  },
  {
   "cell_type": "code",
   "execution_count": 43,
   "metadata": {},
   "outputs": [
    {
     "data": {
      "text/plain": [
       "array(['소현', '지연', '용협', '연식'], dtype='<U2')"
      ]
     },
     "execution_count": 43,
     "metadata": {},
     "output_type": "execute_result"
    }
   ],
   "source": [
    "names = np.array(['소현', '지연', '용협', '연식'])\n",
    "names"
   ]
  },
  {
   "cell_type": "code",
   "execution_count": 44,
   "metadata": {},
   "outputs": [
    {
     "data": {
      "text/plain": [
       "array(['소현', '연식', '용협', '지연'], dtype='<U2')"
      ]
     },
     "execution_count": 44,
     "metadata": {},
     "output_type": "execute_result"
    }
   ],
   "source": [
    "np.unique(names) #배열 내에 같은 이름이 중복되어 있다면 중복을 제거한 다음 불러온다.(가장 자주 사용될 수 있다.)"
   ]
  },
  {
   "cell_type": "markdown",
   "metadata": {},
   "source": [
    "### Numpy에서 사용되는 배열 집합 함수 정리\n",
    "#### Method\t                       Comment\n",
    "- unique(x)\t        배열 x에서 중복된 원소를 제거한 후 정렬하여 반환한다.\n",
    "- intersect1d(x, y)\t배열 x와 y에 공통적으로 존재하는 원소를 정렬하여 반환한다.\n",
    "- union1d(x, y)\t    두 배열의 합집합을 반환한다.\n",
    "- in1d(x, y)\t    x의 원소 중 y의 원소를 포함하는지를 나타내는 불리언 배열을 반환한다.\n",
    "- setdiff1d(x, y)\tx와 y의 차집합을 반환한다.\n",
    "- setxor1d(x, y)\t한 배열에는 포함되지만 두 배열 모두에는 포함되지 않는 원소들의 집합인 대칭차집합을 반환한다."
   ]
  },
  {
   "cell_type": "code",
   "execution_count": 45,
   "metadata": {},
   "outputs": [],
   "source": [
    "# 배열은 기본적으로 압축되지 않은 raw 바이너리 형식의 '.npy'파일로 저장됨.\n",
    "np.save('some_array', arr)"
   ]
  },
  {
   "cell_type": "code",
   "execution_count": 46,
   "metadata": {},
   "outputs": [
    {
     "data": {
      "text/plain": [
       "array([[-1.71030769, -0.06150863,  0.37935712],\n",
       "       [-0.89406546,  0.05463613,  0.63509583],\n",
       "       [-0.33112212,  0.10609183,  0.9038282 ],\n",
       "       [-0.28309398,  0.10736887,  1.93999104],\n",
       "       [ 0.88486031,  0.94058494,  2.06496353]])"
      ]
     },
     "execution_count": 46,
     "metadata": {},
     "output_type": "execute_result"
    }
   ],
   "source": [
    "np.load('some_array.npy') #'.npy'파일로 저장된 배열은 np.load로 불러올 수 있다."
   ]
  },
  {
   "cell_type": "markdown",
   "metadata": {},
   "source": [
    "### 1.5 선형대수"
   ]
  },
  {
   "cell_type": "markdown",
   "metadata": {},
   "source": [
    "#### 자주 사용되는 numpy.linalg functions\n",
    "- diag : 정사각 행렬의 대각/비대각 원소를 1차원 배열로 반환하거나 1차원 배열을 대각선 원소로 하고, 나머지는 0으로 채운 단위 행렬을 반환한다.\n",
    "- dot : 행렬곱셈\n",
    "- trace : 행렬의 대각선 원소의 합 계산\n",
    "- det : 행렬식 계산\n",
    "- eig : 정사각 행렬의 고유값과 고유벡터를 계산\n",
    "- inv : 정사각 행렬의 역행렬 계산\n",
    "- pinv : 행렬의 무어-벨로즈 유사역원 역행렬을 구한다\n",
    "- qr : QR 분해 계산\n",
    "- svd : 특이값 분해(SVD)를 계산\n",
    "- solve : A가 정사각 행렬일 때, Ax= b를 만족하는 x 구하기\n",
    "- lstsq : y=xb를 만족하는 최소제곱해를 구함"
   ]
  },
  {
   "cell_type": "code",
   "execution_count": null,
   "metadata": {},
   "outputs": [],
   "source": []
  }
 ],
 "metadata": {
  "kernelspec": {
   "display_name": "Python 3",
   "language": "python",
   "name": "python3"
  },
  "language_info": {
   "codemirror_mode": {
    "name": "ipython",
    "version": 3
   },
   "file_extension": ".py",
   "mimetype": "text/x-python",
   "name": "python",
   "nbconvert_exporter": "python",
   "pygments_lexer": "ipython3",
   "version": "3.6.4"
  }
 },
 "nbformat": 4,
 "nbformat_minor": 2
}
