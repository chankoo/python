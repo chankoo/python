{
 "cells": [
  {
   "cell_type": "markdown",
   "metadata": {},
   "source": [
    "### Dynamic Language"
   ]
  },
  {
   "cell_type": "markdown",
   "metadata": {},
   "source": [
    "#### First Order\n",
    "함수도 데이터(객체)에 해당, 복사가능\n"
   ]
  },
  {
   "cell_type": "code",
   "execution_count": 1,
   "metadata": {},
   "outputs": [
    {
     "name": "stdout",
     "output_type": "stream",
     "text": [
      "Hi i am a function\n",
      "None\n"
     ]
    }
   ],
   "source": [
    "def hello(x):\n",
    "    print('Hi i am a function')\n",
    "    \n",
    "firs = hello\n",
    "print(firs(12)) # None?? hello의 리턴값이 없으므로 일종의 side effect -> 항상 리턴값 만들어라"
   ]
  },
  {
   "cell_type": "code",
   "execution_count": 2,
   "metadata": {},
   "outputs": [
    {
     "name": "stdout",
     "output_type": "stream",
     "text": [
      "Hi i am a function\n"
     ]
    }
   ],
   "source": [
    "firs(12)"
   ]
  },
  {
   "cell_type": "code",
   "execution_count": 3,
   "metadata": {},
   "outputs": [
    {
     "name": "stdout",
     "output_type": "stream",
     "text": [
      "Hi I'm print\n"
     ]
    }
   ],
   "source": [
    "Ankit = print\n",
    "Ankit(\"Hi I'm print\")"
   ]
  },
  {
   "cell_type": "code",
   "execution_count": 4,
   "metadata": {},
   "outputs": [
    {
     "name": "stdout",
     "output_type": "stream",
     "text": [
      "Hi i am a function\n",
      "None\n"
     ]
    }
   ],
   "source": [
    "del hello # 함수정의를 삭제해도 복사된 firs 객체는 메모리에 존재\n",
    "print(firs(12))"
   ]
  },
  {
   "cell_type": "code",
   "execution_count": 6,
   "metadata": {},
   "outputs": [],
   "source": [
    "def hello(x):\n",
    "    print('Hi i am a function')\n",
    "    return 1"
   ]
  },
  {
   "cell_type": "code",
   "execution_count": 9,
   "metadata": {},
   "outputs": [
    {
     "name": "stdout",
     "output_type": "stream",
     "text": [
      "Hi i am a function\n"
     ]
    },
    {
     "ename": "TypeError",
     "evalue": "'int' object is not callable",
     "output_type": "error",
     "traceback": [
      "\u001b[1;31m---------------------------------------------------------------------------\u001b[0m",
      "\u001b[1;31mTypeError\u001b[0m                                 Traceback (most recent call last)",
      "\u001b[1;32m<ipython-input-9-4ed646452ff6>\u001b[0m in \u001b[0;36m<module>\u001b[1;34m()\u001b[0m\n\u001b[0;32m      1\u001b[0m \u001b[0mfirs\u001b[0m \u001b[1;33m=\u001b[0m \u001b[0mhello\u001b[0m\u001b[1;33m(\u001b[0m\u001b[1;36m1\u001b[0m\u001b[1;33m)\u001b[0m\u001b[1;33m\u001b[0m\u001b[0m\n\u001b[1;32m----> 2\u001b[1;33m \u001b[0mprint\u001b[0m\u001b[1;33m(\u001b[0m\u001b[0mfirs\u001b[0m\u001b[1;33m(\u001b[0m\u001b[1;36m12\u001b[0m\u001b[1;33m)\u001b[0m\u001b[1;33m)\u001b[0m\u001b[1;33m\u001b[0m\u001b[0m\n\u001b[0m",
      "\u001b[1;31mTypeError\u001b[0m: 'int' object is not callable"
     ]
    }
   ],
   "source": [
    "firs = hello(1) # 함수가 아니라 리턴값을 받아오면\n",
    "print(firs(12))"
   ]
  },
  {
   "cell_type": "code",
   "execution_count": 13,
   "metadata": {},
   "outputs": [
    {
     "data": {
      "text/plain": [
       "False"
      ]
     },
     "execution_count": 13,
     "metadata": {},
     "output_type": "execute_result"
    }
   ],
   "source": [
    "callable(firs) # callable 하지않음"
   ]
  },
  {
   "cell_type": "code",
   "execution_count": 14,
   "metadata": {},
   "outputs": [],
   "source": [
    "def hello(x):\n",
    "    print('Hi i am a function')\n",
    "    return hello # 함수의 리턴값으로 함수인 자기자신"
   ]
  },
  {
   "cell_type": "code",
   "execution_count": 16,
   "metadata": {},
   "outputs": [
    {
     "name": "stdout",
     "output_type": "stream",
     "text": [
      "Hi i am a function\n"
     ]
    }
   ],
   "source": [
    "firs = hello(1)"
   ]
  },
  {
   "cell_type": "code",
   "execution_count": 17,
   "metadata": {},
   "outputs": [
    {
     "name": "stdout",
     "output_type": "stream",
     "text": [
      "Hi i am a function\n",
      "<function hello at 0x00000224F0FCE2F0>\n"
     ]
    }
   ],
   "source": [
    "print(firs(12))"
   ]
  },
  {
   "cell_type": "code",
   "execution_count": 19,
   "metadata": {},
   "outputs": [
    {
     "name": "stdout",
     "output_type": "stream",
     "text": [
      "Hi i am a function\n",
      "Hi i am a function\n",
      "Hi i am a function\n"
     ]
    },
    {
     "data": {
      "text/plain": [
       "<function __main__.hello>"
      ]
     },
     "execution_count": 19,
     "metadata": {},
     "output_type": "execute_result"
    }
   ],
   "source": [
    "hello(1)(2)(3)"
   ]
  },
  {
   "cell_type": "code",
   "execution_count": null,
   "metadata": {},
   "outputs": [],
   "source": []
  },
  {
   "cell_type": "code",
   "execution_count": 23,
   "metadata": {},
   "outputs": [],
   "source": [
    "def bye():\n",
    "    print('look')\n",
    "    \n",
    "def hello(fun):\n",
    "    print('hello')\n",
    "    print('This is my real fun', fun.__name__)\n",
    "    fun()"
   ]
  },
  {
   "cell_type": "code",
   "execution_count": 24,
   "metadata": {},
   "outputs": [
    {
     "name": "stdout",
     "output_type": "stream",
     "text": [
      "hello\n",
      "This is my real fun bye\n",
      "look\n"
     ]
    }
   ],
   "source": [
    "hello(bye)"
   ]
  },
  {
   "cell_type": "code",
   "execution_count": 25,
   "metadata": {},
   "outputs": [
    {
     "name": "stdout",
     "output_type": "stream",
     "text": [
      "hello\n",
      "This is my real fun bye\n",
      "look\n",
      "None\n"
     ]
    }
   ],
   "source": [
    "print(hello(bye))"
   ]
  },
  {
   "cell_type": "markdown",
   "metadata": {},
   "source": [
    "함수 콜해서 리스트의 원소로 넣기도 가능\n",
    "\n",
    "이 과정에서 return이 미뤄지는 일종의 lazy evaluation\n",
    "\n",
    "-> 디버깅시 print 쓰는게 한계있다"
   ]
  },
  {
   "cell_type": "code",
   "execution_count": 26,
   "metadata": {},
   "outputs": [
    {
     "name": "stdout",
     "output_type": "stream",
     "text": [
      "look\n",
      "hello\n",
      "oh 12\n",
      "0\n",
      "0\n",
      "0\n"
     ]
    }
   ],
   "source": [
    "def f1():\n",
    "    print('look')\n",
    "    return 0\n",
    "def f2():\n",
    "    print('hello')\n",
    "    return 0\n",
    "def f3(r):\n",
    "    print('oh', r)\n",
    "    return 0\n",
    "\n",
    "fs = [f1(),f2(),f3(12)]\n",
    "\n",
    "for f in fs:\n",
    "    print(f)"
   ]
  },
  {
   "cell_type": "markdown",
   "metadata": {},
   "source": [
    "### closure:\n",
    "\n",
    "__내부함수를 반환하는 외부함수__ 구조\n",
    "\n",
    "->동적 함수생성을 가능하게 한다"
   ]
  },
  {
   "cell_type": "code",
   "execution_count": 35,
   "metadata": {},
   "outputs": [
    {
     "name": "stdout",
     "output_type": "stream",
     "text": [
      "12\n",
      "This is bye's return\n"
     ]
    }
   ],
   "source": [
    "def hello(x):\n",
    "    x=12\n",
    "    def bye():\n",
    "        print(x)\n",
    "        return 'This is bye\\'s return'\n",
    "    return bye \n",
    "\n",
    "er = hello(13)\n",
    "print(er())"
   ]
  },
  {
   "cell_type": "code",
   "execution_count": 37,
   "metadata": {},
   "outputs": [
    {
     "name": "stdout",
     "output_type": "stream",
     "text": [
      "ankit\n",
      "ANKIT\n"
     ]
    }
   ],
   "source": [
    "def hello(x):\n",
    "    def by():\n",
    "        print(x)\n",
    "        return x.upper()\n",
    "    return by\n",
    "\n",
    "print(hello('ankit')())"
   ]
  },
  {
   "cell_type": "code",
   "execution_count": 39,
   "metadata": {},
   "outputs": [
    {
     "name": "stdout",
     "output_type": "stream",
     "text": [
      "True\n"
     ]
    },
    {
     "data": {
      "text/plain": [
       "4"
      ]
     },
     "execution_count": 39,
     "metadata": {},
     "output_type": "execute_result"
    }
   ],
   "source": [
    "def funcwrapper(y):\n",
    "    def addone(x):\n",
    "        return x + y +1\n",
    "    return addone\n",
    "\n",
    "print(callable(funcwrapper(1))) # funcwrapper(1)이라는 함수가 생성된다\n",
    "funcwrapper(1)(2)"
   ]
  },
  {
   "cell_type": "markdown",
   "metadata": {},
   "source": [
    "데코레이터가 붙은 함수의 인자로 밑에 정의된 함수를 넣는다"
   ]
  },
  {
   "cell_type": "code",
   "execution_count": 40,
   "metadata": {},
   "outputs": [
    {
     "name": "stdout",
     "output_type": "stream",
     "text": [
      "before dec\n",
      "hk 1\n",
      "after dec\n"
     ]
    }
   ],
   "source": [
    "def hello(func):\n",
    "    def bye(x):\n",
    "        print('before dec')\n",
    "        func(x)\n",
    "        print('after dec')\n",
    "    return bye\n",
    "\n",
    "@hello\n",
    "def hi(sa):\n",
    "    print('hk', sa)\n",
    "    \n",
    "hi(1)"
   ]
  },
  {
   "cell_type": "code",
   "execution_count": null,
   "metadata": {},
   "outputs": [],
   "source": [
    "def hello(func):\n",
    "    def wrapper(x):\n",
    "        print(\"This is stuff before dec\")\n",
    "        func(x)\n",
    "        print(\"This is stuff after dec\")\n",
    "    return wrapper\n",
    "\n",
    "@hello\n"
   ]
  },
  {
   "cell_type": "markdown",
   "metadata": {},
   "source": [
    "3층구조 데코레이터 -> 데코레이터의 인자를 받는다( @app.route('/') )"
   ]
  },
  {
   "cell_type": "code",
   "execution_count": 58,
   "metadata": {},
   "outputs": [
    {
     "name": "stdout",
     "output_type": "stream",
     "text": [
      "This is stuff before dec\n",
      "this is new function passed par is: 30\n",
      "This is stuff after dec\n"
     ]
    }
   ],
   "source": [
    "def extrafun(hi):\n",
    "    def decorator(func):\n",
    "        def wrapper(x):\n",
    "            print(\"This is stuff before dec\")\n",
    "            func(x)\n",
    "            print(\"This is stuff after dec\")\n",
    "        return wrapper\n",
    "    return decorator\n",
    "\n",
    "@extrafun(1)\n",
    "def newfunc(c):\n",
    "    print(\"this is new function\", 'passed par is:',c)\n",
    "\n",
    "newfunc(30)"
   ]
  },
  {
   "cell_type": "code",
   "execution_count": null,
   "metadata": {},
   "outputs": [],
   "source": []
  }
 ],
 "metadata": {
  "kernelspec": {
   "display_name": "Python 3",
   "language": "python",
   "name": "python3"
  },
  "language_info": {
   "codemirror_mode": {
    "name": "ipython",
    "version": 3
   },
   "file_extension": ".py",
   "mimetype": "text/x-python",
   "name": "python",
   "nbconvert_exporter": "python",
   "pygments_lexer": "ipython3",
   "version": "3.6.4"
  }
 },
 "nbformat": 4,
 "nbformat_minor": 2
}
