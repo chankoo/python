{
 "cells": [
  {
   "cell_type": "markdown",
   "metadata": {},
   "source": [
    "### IDX: decorator를 이해하기 위해서는..\n",
    "- 동적 타입 언어\n",
    "- First Class Function\n",
    "- Closure\n"
   ]
  },
  {
   "cell_type": "markdown",
   "metadata": {},
   "source": [
    "### Dynamic Programming Language(동적 타입 언어)\n",
    "\n",
    "다른 언어에서 컴파일 과정 중 수행하는 작업을 런타임에 수행하는 고급언어.\n",
    "\n",
    "즉, 런타임에 코드 추가, 타입 시스템 변경 등을 수행한다\n",
    "\n",
    ">*파이썬은 [JIT 컴파일](https://namu.wiki/w/JIT)  하지 않는 dynamic interpreter 언어*\n"
   ]
  },
  {
   "cell_type": "markdown",
   "metadata": {},
   "source": [
    "### First Class Function \n",
    "- 프로그래밍 언어가 함수(function)를 일급 객체(first-class citizen)으로 취급하는 것을 의미\n",
    "- 함수도 데이터(객체)에 해당\n",
    "    - 함수를 변수에 __할당__ 하거나 데이터 구조안에 저장 가능\n",
    "    - 함수를 __매개변수__ 로써 다른 함수에 전달 가능\n",
    "    - 함수를 결과값으로  __리턴__ 하는 함수 정의 가능\n",
    "    - __동적__ 으로 프로퍼티 할당 가능\n",
    "    "
   ]
  },
  {
   "cell_type": "markdown",
   "metadata": {},
   "source": [
    "함수 hello를 정의 한 뒤 변수에 할당해보자"
   ]
  },
  {
   "cell_type": "code",
   "execution_count": 2,
   "metadata": {},
   "outputs": [
    {
     "name": "stdout",
     "output_type": "stream",
     "text": [
      "True\n"
     ]
    }
   ],
   "source": [
    "def hello(x):\n",
    "    print('Hi i am a function')\n",
    "    \n",
    "firs = hello\n",
    "print(id(firs) == id(hello))"
   ]
  },
  {
   "cell_type": "markdown",
   "metadata": {},
   "source": [
    "동일한 주소값에 저장된 함수 객체가 firs 와 hello에 할당됨을 알 수 있다\n",
    "\n",
    "따라서 firs로도 호출이 가능하다"
   ]
  },
  {
   "cell_type": "code",
   "execution_count": 7,
   "metadata": {},
   "outputs": [
    {
     "name": "stdout",
     "output_type": "stream",
     "text": [
      "True\n",
      "Hi i am a function\n"
     ]
    }
   ],
   "source": [
    "print(callable(firs))\n",
    "firs(12)"
   ]
  },
  {
   "cell_type": "markdown",
   "metadata": {},
   "source": [
    "내장함수도 마찬가지이다"
   ]
  },
  {
   "cell_type": "code",
   "execution_count": 3,
   "metadata": {},
   "outputs": [
    {
     "name": "stdout",
     "output_type": "stream",
     "text": [
      "Hi I'm print\n"
     ]
    }
   ],
   "source": [
    "Ankit = print\n",
    "Ankit(\"Hi I'm print\")"
   ]
  },
  {
   "cell_type": "markdown",
   "metadata": {},
   "source": [
    "함수 호출해서 리스트의 원소로 넣기도 가능\n",
    "\n",
    "이 과정에서 return이 미뤄지는 일종의 lazy evaluation 발생\n"
   ]
  },
  {
   "cell_type": "code",
   "execution_count": 26,
   "metadata": {},
   "outputs": [
    {
     "name": "stdout",
     "output_type": "stream",
     "text": [
      "look\n",
      "hello\n",
      "oh 12\n",
      "0\n",
      "0\n",
      "0\n"
     ]
    }
   ],
   "source": [
    "def f1():\n",
    "    print('look')\n",
    "    return 0\n",
    "def f2():\n",
    "    print('hello')\n",
    "    return 0\n",
    "def f3(r):\n",
    "    print('oh', r)\n",
    "    return 0\n",
    "\n",
    "fs = [f1(),f2(),f3(12)]\n",
    "\n",
    "for f in fs:\n",
    "    print(f)"
   ]
  },
  {
   "cell_type": "code",
   "execution_count": null,
   "metadata": {},
   "outputs": [],
   "source": []
  },
  {
   "cell_type": "markdown",
   "metadata": {},
   "source": [
    "또한 함수의 인자로 다른 함수를 갖는 함수를 정의 할 수 있다\n",
    "\n",
    "매개변수로 add_two 함수를 갖는 calculate 함수의 실행 결과를 살펴보자"
   ]
  },
  {
   "cell_type": "code",
   "execution_count": 11,
   "metadata": {},
   "outputs": [
    {
     "name": "stdout",
     "output_type": "stream",
     "text": [
      "calculation: add_two\n",
      "result: 14\n"
     ]
    }
   ],
   "source": [
    "def add_two(a, b):\n",
    "    return a + b\n",
    "\n",
    "def calculate(func, arg1, arg2):\n",
    "    print('calculation:', func.__name__)\n",
    "    print('result:', func(arg1, arg2))\n",
    "\n",
    "calculate(add_two, 4, 10)"
   ]
  },
  {
   "cell_type": "code",
   "execution_count": null,
   "metadata": {},
   "outputs": [],
   "source": []
  },
  {
   "cell_type": "markdown",
   "metadata": {},
   "source": [
    "다른 함수를 리턴하는 함수의 정의 역시 가능하다\n",
    "\n",
    "hi 함수를 결과값으로 내어놓은 hello 함수를 정의해보자"
   ]
  },
  {
   "cell_type": "code",
   "execution_count": 18,
   "metadata": {},
   "outputs": [
    {
     "name": "stdout",
     "output_type": "stream",
     "text": [
      "hello\n"
     ]
    },
    {
     "data": {
      "text/plain": [
       "<function __main__.hi>"
      ]
     },
     "execution_count": 18,
     "metadata": {},
     "output_type": "execute_result"
    }
   ],
   "source": [
    "def hi(x):\n",
    "    print('hi')\n",
    "    return\n",
    "\n",
    "def hello(x):\n",
    "    print('hello')\n",
    "    return hi\n",
    "\n",
    "hello(1)"
   ]
  },
  {
   "cell_type": "markdown",
   "metadata": {},
   "source": [
    "함수의 결과 값으로 __함수 자신__ 을 내어놓는 함수는 어떨까"
   ]
  },
  {
   "cell_type": "code",
   "execution_count": 19,
   "metadata": {},
   "outputs": [],
   "source": [
    "def hello(x):\n",
    "    print('Hi i am a function')\n",
    "    return hello"
   ]
  },
  {
   "cell_type": "code",
   "execution_count": 20,
   "metadata": {},
   "outputs": [
    {
     "name": "stdout",
     "output_type": "stream",
     "text": [
      "Hi i am a function\n"
     ]
    },
    {
     "data": {
      "text/plain": [
       "<function __main__.hello>"
      ]
     },
     "execution_count": 20,
     "metadata": {},
     "output_type": "execute_result"
    }
   ],
   "source": [
    "hello(1)"
   ]
  },
  {
   "cell_type": "code",
   "execution_count": 22,
   "metadata": {},
   "outputs": [
    {
     "name": "stdout",
     "output_type": "stream",
     "text": [
      "Hi i am a function\n",
      "Hi i am a function\n",
      "Hi i am a function\n"
     ]
    },
    {
     "data": {
      "text/plain": [
       "<function __main__.hello>"
      ]
     },
     "execution_count": 22,
     "metadata": {},
     "output_type": "execute_result"
    }
   ],
   "source": [
    "hello(1)(2)(3) # 이런식으로 사용 가능하다"
   ]
  },
  {
   "cell_type": "code",
   "execution_count": null,
   "metadata": {},
   "outputs": [],
   "source": []
  },
  {
   "cell_type": "markdown",
   "metadata": {},
   "source": [
    "### closure\n",
    "- first class function을 지원하는 언어의 네임 바인딩 기술\n",
    "- __내부함수를 반환하는 외부함수__ 구조\n",
    "- 내부 함수를 둘러싼 환경을 계속 유지하다가 해당 내부 함수가 호출될때 다시 꺼내서 사용하는 함수\n",
    "\n",
    "-> 동적 함수생성을 가능하게 한다"
   ]
  },
  {
   "cell_type": "code",
   "execution_count": 40,
   "metadata": {},
   "outputs": [
    {
     "name": "stdout",
     "output_type": "stream",
     "text": [
      "1\n"
     ]
    }
   ],
   "source": [
    "def outer():\n",
    "    x = 1\n",
    "    def inner():\n",
    "        print(x)\n",
    "    return inner\n",
    "\n",
    "foo = outer()\n",
    "foo()"
   ]
  },
  {
   "cell_type": "markdown",
   "metadata": {},
   "source": [
    "[참고 블로그](https://khanrc.tistory.com/entry/decorator%EC%99%80-closure)\n",
    "\n",
    "foo는 outer의 리턴값인 inner를 받은 함수이다\n",
    "\n",
    "inner안에서 사용되는 x가 외부에 있기에 foo를 호출하는 시점에서는 x가 존재하지 않아야 한다\n",
    "\n",
    "그런데 위와 같이 잘 실행된다. 이것이 __function closure__ 이다\n",
    "\n",
    "function closure는 inner 함수가 정의 될때 그 함수를 감싸고 있는 namespace가 어떻게 생겼는지 기억한다는 의미다"
   ]
  },
  {
   "cell_type": "markdown",
   "metadata": {},
   "source": [
    "foo.\\_\\_closure\\_\\_로 foo 함수를 감싸고 있는 scope의 변수들을 볼 수 있다"
   ]
  },
  {
   "cell_type": "code",
   "execution_count": 49,
   "metadata": {},
   "outputs": [
    {
     "name": "stdout",
     "output_type": "stream",
     "text": [
      "inner\n",
      "(<cell at 0x000001A1C1DE8A38: int object at 0x0000000075FA6DE0>,)\n"
     ]
    }
   ],
   "source": [
    "print(foo.__name__)\n",
    "print(foo.__closure__)"
   ]
  },
  {
   "cell_type": "markdown",
   "metadata": {},
   "source": [
    "이는 어떠한 함수를 객체로 받을때 그 함수를 감싸는 scope의 변수들 또한 같이 가져간다는 의미다. 따라서 아래와 같이 기능한다"
   ]
  },
  {
   "cell_type": "code",
   "execution_count": 54,
   "metadata": {},
   "outputs": [],
   "source": [
    "def outer(x):\n",
    "    def inner():\n",
    "        print(x)\n",
    "    return inner\n",
    "\n",
    "print1 = outer(1)\n",
    "print2 = outer(2)"
   ]
  },
  {
   "cell_type": "code",
   "execution_count": 55,
   "metadata": {},
   "outputs": [
    {
     "name": "stdout",
     "output_type": "stream",
     "text": [
      "1\n"
     ]
    }
   ],
   "source": [
    "print1()"
   ]
  },
  {
   "cell_type": "code",
   "execution_count": 56,
   "metadata": {},
   "outputs": [
    {
     "name": "stdout",
     "output_type": "stream",
     "text": [
      "2\n"
     ]
    }
   ],
   "source": [
    "print2()"
   ]
  },
  {
   "cell_type": "code",
   "execution_count": null,
   "metadata": {},
   "outputs": [],
   "source": []
  },
  {
   "cell_type": "markdown",
   "metadata": {},
   "source": [
    "## decorator\n",
    "\n",
    "데코레이터는 __함수를 인자로 받아 꾸며주는__ 기능을 한다.\n",
    "\n",
    "즉, 함수를 __래핑__ 하는 기능이라 할 수 있다\n",
    "\n",
    "-> 데코레이터가 붙은 함수의 인자로 데코레이터 아래에 정의된 함수를 넣는다"
   ]
  },
  {
   "cell_type": "markdown",
   "metadata": {},
   "source": [
    "function closure 개념을 가지고 함수를 꾸며주는 함수를 정의해보자\n",
    "\n",
    "func을 인자로 받아 func의 앞뒤로 꾸며주는 closure를 정의한다"
   ]
  },
  {
   "cell_type": "code",
   "execution_count": 67,
   "metadata": {},
   "outputs": [
    {
     "name": "stdout",
     "output_type": "stream",
     "text": [
      "without closure:\n",
      "this is func in which 1 is passed\n",
      "----------------------------\n",
      "with closure:\n",
      "before func\n",
      "this is func in which 1 is passed\n",
      "after func\n"
     ]
    }
   ],
   "source": [
    "def verbose(func):\n",
    "    def new_func(x):\n",
    "        print('before func')\n",
    "        func(x)\n",
    "        print('after func')\n",
    "    return new_func\n",
    "\n",
    "def my_func(x):\n",
    "    print('this is func in which {} is passed'.format(x))\n",
    "\n",
    "print('without closure:')\n",
    "my_func(1)\n",
    "print('----------------------------')\n",
    "print('with closure:')\n",
    "verbose(my_func)(1)"
   ]
  },
  {
   "cell_type": "markdown",
   "metadata": {},
   "source": [
    "함수를 꾸며주는 구조의 closure를 데코레이터 기호로 표시할 수 있다"
   ]
  },
  {
   "cell_type": "code",
   "execution_count": 68,
   "metadata": {},
   "outputs": [
    {
     "name": "stdout",
     "output_type": "stream",
     "text": [
      "before func\n",
      "this is func in which 1 is passed\n",
      "after func\n"
     ]
    }
   ],
   "source": [
    "def verbose(func):\n",
    "    def new_func(x):\n",
    "        print('before func')\n",
    "        func(x)\n",
    "        print('after func')\n",
    "    return new_func\n",
    "\n",
    "@verbose\n",
    "def my_func(x):\n",
    "    print('this is func in which {} is passed'.format(x))\n",
    "    \n",
    "my_func(1)"
   ]
  },
  {
   "cell_type": "code",
   "execution_count": null,
   "metadata": {},
   "outputs": [],
   "source": []
  },
  {
   "cell_type": "markdown",
   "metadata": {},
   "source": [
    "3층구조 데코레이터 -> 데코레이터의 인자를 받는다( @app.route('/') )"
   ]
  },
  {
   "cell_type": "code",
   "execution_count": 58,
   "metadata": {},
   "outputs": [
    {
     "name": "stdout",
     "output_type": "stream",
     "text": [
      "This is stuff before dec\n",
      "this is new function passed par is: 30\n",
      "This is stuff after dec\n"
     ]
    }
   ],
   "source": [
    "def extrafun(hi):\n",
    "    def decorator(func):\n",
    "        def wrapper(x):\n",
    "            print(\"This is stuff before dec\")\n",
    "            func(x)\n",
    "            print(\"This is stuff after dec\")\n",
    "        return wrapper\n",
    "    return decorator\n",
    "\n",
    "@extrafun(1)\n",
    "def newfunc(c):\n",
    "    print(\"this is new function\", 'passed par is:',c)\n",
    "\n",
    "newfunc(30)"
   ]
  },
  {
   "cell_type": "code",
   "execution_count": null,
   "metadata": {},
   "outputs": [],
   "source": []
  }
 ],
 "metadata": {
  "kernelspec": {
   "display_name": "Python 3",
   "language": "python",
   "name": "python3"
  },
  "language_info": {
   "codemirror_mode": {
    "name": "ipython",
    "version": 3
   },
   "file_extension": ".py",
   "mimetype": "text/x-python",
   "name": "python",
   "nbconvert_exporter": "python",
   "pygments_lexer": "ipython3",
   "version": "3.6.4"
  }
 },
 "nbformat": 4,
 "nbformat_minor": 2
}
