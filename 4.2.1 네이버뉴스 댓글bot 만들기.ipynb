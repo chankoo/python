{
 "cells": [
  {
   "cell_type": "code",
   "execution_count": 1,
   "metadata": {},
   "outputs": [],
   "source": [
    "from bs4 import BeautifulSoup\n",
    "from selenium import webdriver\n",
    "import json\n",
    "from selenium.common.exceptions import NoSuchElementException"
   ]
  },
  {
   "cell_type": "code",
   "execution_count": 2,
   "metadata": {},
   "outputs": [],
   "source": [
    "# 로그인을 위해 json 파일로 저장한 id와 pwd를 불러온다\n",
    "with open(\"accountNaver.json\", 'r') as f:\n",
    "    account = json.load(f)"
   ]
  },
  {
   "cell_type": "code",
   "execution_count": 9,
   "metadata": {},
   "outputs": [],
   "source": [
    "#크롬 브라우저를 이용하여 webdriver 객체를 만든다\n",
    "driver_path = 'chromedriver.exe'\n",
    "driver =webdriver.Chrome(driver_path)"
   ]
  },
  {
   "cell_type": "code",
   "execution_count": 10,
   "metadata": {},
   "outputs": [],
   "source": [
    "#driver 객체를 통해  url에 request한다\n",
    "driver.get(\"https://www.naver.com\")"
   ]
  },
  {
   "cell_type": "code",
   "execution_count": 11,
   "metadata": {},
   "outputs": [],
   "source": [
    "# 로그인 form의 id와 password에 json으로 불러온 계정정보를 send한다\n",
    "driver.find_element_by_id('id').send_keys(account['id'])\n",
    "driver.find_element_by_id('pw').send_keys(account['pwd'])"
   ]
  },
  {
   "cell_type": "code",
   "execution_count": 12,
   "metadata": {},
   "outputs": [],
   "source": [
    "# 로그인 버튼을 찾아 클릭한다\n",
    "driver.find_element_by_css_selector(\".btn_login > input\").click()"
   ]
  },
  {
   "cell_type": "markdown",
   "metadata": {},
   "source": [
    "로그인이 되었는데\n",
    "\n",
    "네이버가 새로운 기기로 인식하여 기기 등록이 필요한 경우가 있다\n",
    "\n",
    "이 상황을 위한 예외처리가 필요하다"
   ]
  },
  {
   "cell_type": "code",
   "execution_count": 8,
   "metadata": {},
   "outputs": [],
   "source": [
    "#driver.find_element_by_css_selector(\".btn_upload > a\").click() #기기등록\n",
    "#driver.find_element_by_css_selector(\".btn_maintain > a\").click() #로그인유지"
   ]
  },
  {
   "cell_type": "code",
   "execution_count": 13,
   "metadata": {},
   "outputs": [],
   "source": [
    "#네이버 뉴스로 이동\n",
    "driver.get(\"https://news.naver.com/\")"
   ]
  },
  {
   "cell_type": "code",
   "execution_count": 20,
   "metadata": {},
   "outputs": [],
   "source": [
    "#가장 많이 본 정치 뉴스를 선택\n",
    "driver.find_element_by_id(\"right.ranking_tab_100\").click()"
   ]
  },
  {
   "cell_type": "code",
   "execution_count": 33,
   "metadata": {},
   "outputs": [],
   "source": [
    "#뉴스로 연결되는 링크를 가져온다\n",
    "aList = driver.find_elements_by_css_selector(\".section_list_ranking > li > a\")"
   ]
  },
  {
   "cell_type": "code",
   "execution_count": 34,
   "metadata": {},
   "outputs": [
    {
     "name": "stdout",
     "output_type": "stream",
     "text": [
      "해병대 \"영결식 등 장례절차 유가족 의견 따를 것\"\n",
      "김병준, 文정부 \"국가주의\" 언급에 한병도 \"안 맞는 표현\"\n",
      "청와대, 성폭력 무고죄 수사중단 “헌법 위반 아니다”\n",
      "장제원, 강원랜드 수사외압 불기소 결론에 法장관 질타\n",
      "검찰, 김무성 딸 시아버지 회사 허위 취업 의혹 수사(종합)\n",
      "국방부, 軍 정치개입 양심선언 장교 파면처분 취소\n",
      "법무부 장관에 호통친 이은재 \"왜 다들 민변 출신이냐?\"\n",
      "민주 당권주자 대진표 완성…이해찬은 '장고중'\n",
      "<구멍난 대북제재>작년 北석탄 싣고 韓 들어왔던 배 2척 이후로도 22차례 자유롭게 ‘들락날락’\n",
      "최재성·김두관, 민주당 대표 경선 출마 선언\n"
     ]
    }
   ],
   "source": [
    "#뉴스 기사 제목은 다음과 같다\n",
    "for a in aList:\n",
    "     if len(a.text)>1:\n",
    "        print(a.text)"
   ]
  },
  {
   "cell_type": "code",
   "execution_count": 35,
   "metadata": {},
   "outputs": [],
   "source": [
    "# 첫번째 기사를 선택한다\n",
    "aList[0].click()"
   ]
  },
  {
   "cell_type": "code",
   "execution_count": 39,
   "metadata": {},
   "outputs": [],
   "source": [
    "# 네이버 뉴스 댓글창으로 이동\n",
    "driver.find_element_by_class_name(\"simplecmt_link_text\").click()"
   ]
  },
  {
   "cell_type": "code",
   "execution_count": 42,
   "metadata": {},
   "outputs": [],
   "source": [
    "# 작성위해 댓글란에 댓글 내용 send\n",
    "driver.find_element_by_class_name(\"u_cbox_text\").send_keys(\"댓글\")"
   ]
  },
  {
   "cell_type": "code",
   "execution_count": 43,
   "metadata": {},
   "outputs": [],
   "source": [
    "# 등록 버튼 클릭\n",
    "driver.find_element_by_class_name(\"u_cbox_btn_upload\").click()"
   ]
  },
  {
   "cell_type": "markdown",
   "metadata": {},
   "source": [
    "![1](https://user-images.githubusercontent.com/38183218/42927139-7d67aabe-8b6e-11e8-8bf3-c52724d57332.PNG)\n",
    "\n",
    "댓글이 등록되었다!"
   ]
  },
  {
   "cell_type": "code",
   "execution_count": 122,
   "metadata": {},
   "outputs": [],
   "source": [
    "\n",
    "# #함수로 만들어보자\n",
    "# def naver_comment_bot(jsonFileName:str,section:str,comment:str):\n",
    "#     try: \n",
    "#         with open(jsonFileName+\".json\", 'r') as f:\n",
    "#             account = json.load(f)\n",
    "    \n",
    "#         driver_path = 'chromedriver.exe'\n",
    "#         driver =webdriver.Chrome(driver_path)\n",
    "#         driver.get(\"https://www.naver.com\")\n",
    "        \n",
    "#         driver.find_element_by_id('id').send_keys(account['id'])\n",
    "#         driver.find_element_by_id('pw').send_keys(account['pwd'])\n",
    "#         driver.find_element_by_css_selector(\".btn_login > input\").click()\n",
    "        \n",
    "#         # 기기등록이 필요한 경우 활성화\n",
    "#         #driver.find_element_by_css_selector(\".btn_upload > a\").click() \n",
    "#         #driver.find_element_by_css_selector(\".btn_maintain > a\").click()\n",
    "\n",
    "#         driver.get(\"https://news.naver.com/\")\n",
    "        \n",
    "#         #뉴스 섹션을 선택하게 하였다\n",
    "#         sections = ['정치','경제','사회','생활/문화','세계','IT/과학']\n",
    "#         if section in sections:\n",
    "#             driver.find_element_by_id(\"right.ranking_tab_10\"+str(sections.index(section))).click()\n",
    "            \n",
    "#         else:\n",
    "#             print(\"section을 다시 확인하세요\")\n",
    "#             return\n",
    "        \n",
    "#         #가장 많이 본 뉴스 top10 리스트\n",
    "#         aList = driver.find_elements_by_css_selector(\".section_list_ranking > li > a\")\n",
    "            \n",
    "        \n",
    "#         #주어진 기사 리스트를 돌며 모든 기사에 같은댓글을 남긴다\n",
    "#         for a in aList:\n",
    "#             if len(a.text)>1:\n",
    "#                 a.click()\n",
    "#                 driver.implicitly_wait(1)# click 후 로딩 시간 걸리므로 wait넣어준다\n",
    "                    \n",
    "#             # 네이버 댓글창으로 이동 이라는 버튼이 존재할 경우 클릭해야한다\n",
    "#             try:\n",
    "#                 driver.find_element_by_class_name(\"simplecmt_link_text\").click()\n",
    "#                 driver.implicitly_wait(1)\n",
    "                \n",
    "#                 driver.find_element_by_class_name(\"u_cbox_text\").send_keys(comment)\n",
    "#                 driver.find_element_by_class_name(\"u_cbox_btn_upload\").click()\n",
    "            \n",
    "#             except NoSuchElementException as e0:\n",
    "#                 driver.find_element_by_class_name(\"u_cbox_text\").send_keys(comment)\n",
    "#                 driver.find_element_by_class_name(\"u_cbox_btn_upload\").click()\n",
    "#                 continue\n",
    "                \n",
    "#     except FileNotFoundError as e1:\n",
    "#         print(\"필요한 파일을 확인하세요\")\n",
    "    \n",
    "#     except NoSuchElementException as e3:\n",
    "#         print(e3)\n",
    "\n",
    "#     except Exception as e:\n",
    "#         print(e)"
   ]
  },
  {
   "cell_type": "code",
   "execution_count": null,
   "metadata": {},
   "outputs": [],
   "source": []
  }
 ],
 "metadata": {
  "kernelspec": {
   "display_name": "Python 3",
   "language": "python",
   "name": "python3"
  },
  "language_info": {
   "codemirror_mode": {
    "name": "ipython",
    "version": 3
   },
   "file_extension": ".py",
   "mimetype": "text/x-python",
   "name": "python",
   "nbconvert_exporter": "python",
   "pygments_lexer": "ipython3",
   "version": "3.6.4"
  }
 },
 "nbformat": 4,
 "nbformat_minor": 2
}
