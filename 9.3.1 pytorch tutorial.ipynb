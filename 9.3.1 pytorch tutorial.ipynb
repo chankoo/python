{
 "cells": [
  {
   "cell_type": "code",
   "execution_count": 1,
   "metadata": {},
   "outputs": [
    {
     "name": "stdout",
     "output_type": "stream",
     "text": [
      "python version :  3.6.4 |Anaconda, Inc.| (default, Jan 16 2018, 10:22:32) [MSC v.1900 64 bit (AMD64)]\n",
      "numpy version :  1.14.0\n",
      "matplotlib version : 2.1.2\n",
      "pytorch version :  0.4.1\n",
      "Cuda :  False\n"
     ]
    }
   ],
   "source": [
    "import os\n",
    "import sys\n",
    "import timeit\n",
    "import torch\n",
    "import torch.nn as nn\n",
    "import torch.nn.functional as F\n",
    "import torchvision\n",
    "import torchvision.transforms as transforms\n",
    "import numpy as np\n",
    "import matplotlib as mpl\n",
    "import matplotlib.pyplot as plt\n",
    "\n",
    "%matplotlib inline\n",
    "\n",
    "#plt.rc('text', usetex = True)\n",
    "mpl.rcParams[\"font.family\"] = \"serif\"\n",
    "mpl.rcParams[\"font.size\"] = \"15\"\n",
    "\n",
    "print('python version : ', sys.version)\n",
    "print('numpy version : ', np.version.version)\n",
    "print('matplotlib version :', mpl.__version__)\n",
    "print('pytorch version : ', torch.__version__)\n",
    "print('Cuda : ', torch.cuda.is_available())"
   ]
  },
  {
   "cell_type": "code",
   "execution_count": 2,
   "metadata": {},
   "outputs": [],
   "source": [
    "batchSize = 512\n",
    "learningRate = 0.01\n",
    "epochNum = 5 #gpu 못쓰는 경우 5로 설정해주자\n",
    "device = torch.device('cuda' if torch.cuda.is_available() else 'cpu')"
   ]
  },
  {
   "cell_type": "code",
   "execution_count": 3,
   "metadata": {},
   "outputs": [
    {
     "name": "stdout",
     "output_type": "stream",
     "text": [
      "Downloading http://yann.lecun.com/exdb/mnist/train-images-idx3-ubyte.gz\n",
      "Downloading http://yann.lecun.com/exdb/mnist/train-labels-idx1-ubyte.gz\n",
      "Downloading http://yann.lecun.com/exdb/mnist/t10k-images-idx3-ubyte.gz\n",
      "Downloading http://yann.lecun.com/exdb/mnist/t10k-labels-idx1-ubyte.gz\n",
      "Processing...\n",
      "Done!\n",
      "[info] batchSize :  512\n",
      "[info] # of train batch :  118\n",
      "[info] # of test batch :  20\n"
     ]
    }
   ],
   "source": [
    "# 학습 데이터\n",
    "# root      : ./data/mnist 라는 경로에 데이터를 저장\n",
    "# train     : 학습 데이터를 의미\n",
    "# download  : 지정한 경로에 데이터를 다운로드 함\n",
    "# transform : 데이터를 주어진 방법으로 변환함 (28 * 28 사이즈로 잘라내기 -> 텐서로 변환)\n",
    "dataTrain = torchvision.datasets.MNIST(root = './data/mnist',\n",
    "                                         train = True,\n",
    "                                         download = True,\n",
    "                                         transform = transforms.Compose([\n",
    "                                                        transforms.CenterCrop(28),\n",
    "                                                        transforms.ToTensor()]))\n",
    "\n",
    "# 테스트 데이터\n",
    "# root      : ./data/mnist 라는 경로에 데이터를 저장\n",
    "# train     : 테스트 데이터를 의미\n",
    "# download  : 지정한 경로에 데이터를 다운로드 함\n",
    "# transform : 데이터를 주어진 방법으로 변환함 (28 * 28 사이즈로 잘라내기 -> 텐서로 변환)\n",
    "dataTest = torchvision.datasets.MNIST(root = './data/mnist',\n",
    "                                         train = False,\n",
    "                                         download = True,\n",
    "                                         transform = transforms.Compose([\n",
    "                                                        transforms.CenterCrop(28),\n",
    "                                                        transforms.ToTensor()]))\n",
    "\n",
    "# 학습 데이터 로더\n",
    "# dataset    : 학습 데이터를 불러옴\n",
    "# batch_size : 위에서 지정한 batchSize 만큼 데이터를 불러옴\n",
    "# shuffle    : 랜덤한 순서로 데이터를 불러옴\n",
    "trainLoader = torch.utils.data.DataLoader(dataset = dataTrain, \n",
    "                                         batch_size = batchSize, \n",
    "                                         shuffle = True)\n",
    "\n",
    "# 테스트 데이터 로더\n",
    "# dataset    : 테스트 데이터를 불러옴\n",
    "# batch_size : 위에서 지정한 batchSize 만큼 데이터를 불러옴\n",
    "# shuffle    : 일정한 순서로 데이터를 불러옴\n",
    "testLoader = torch.utils.data.DataLoader(dataset = dataTest, \n",
    "                                         batch_size = batchSize, \n",
    "                                         shuffle = False)\n",
    "\n",
    "print('[info] batchSize : ', batchSize)\n",
    "print('[info] # of train batch : ', len(trainLoader))\n",
    "print('[info] # of test batch : ', len(testLoader))"
   ]
  },
  {
   "cell_type": "code",
   "execution_count": 4,
   "metadata": {},
   "outputs": [
    {
     "data": {
      "image/png": "[encoded data removed]",
      "text/plain": [
       "<matplotlib.figure.Figure at 0x1bba6a46240>"
      ]
     },
     "metadata": {},
     "output_type": "display_data"
    },
    {
     "data": {
      "image/png": "[encoded data removed]",
      "text/plain": [
       "<matplotlib.figure.Figure at 0x1bbb3002f98>"
      ]
     },
     "metadata": {},
     "output_type": "display_data"
    },
    {
     "data": {
      "image/png": "[encoded data removed]",
      "text/plain": [
       "<matplotlib.figure.Figure at 0x1bbb3145f28>"
      ]
     },
     "metadata": {},
     "output_type": "display_data"
    }
   ],
   "source": [
    "def showImages(image, row):\n",
    "  \n",
    "  for _ in range(row):    \n",
    "    idx = np.random.choice(100, 6)     # 0 ~ 99 의 정수 중 6 개를 임의로 선택\n",
    "    images =image.numpy()[idx]         # 선택된 index 에 해당하는 이미지를 가져옴\n",
    "    \n",
    "    plt.figure(figsize = (15, 90))     # 세로 길이 15, 가로 길이 15 * 6 의 화면 생성\n",
    "    \n",
    "    for i in range(161, 167):    \n",
    "    \n",
    "        plt.subplot(i)\n",
    "        plt.imshow(images[i - 161])\n",
    "        plt.xticks([])\n",
    "        plt.yticks([])    \n",
    "    \n",
    "    plt.show()  \n",
    "\n",
    "for i, (image, labels) in enumerate(trainLoader): \n",
    "    showImages(image.squeeze(), 3)\n",
    "    break"
   ]
  },
  {
   "cell_type": "markdown",
   "metadata": {},
   "source": [
    "모델을 구현합니다.\n",
    "\n",
    "모델은 hidden layer 가 2 개인 fully connected neural network 입니다.\n",
    "\n",
    "hidden layer 의 노드 수는 각각 128 개, 64 개 이며, activation function 은 sigmoid 입니다."
   ]
  },
  {
   "cell_type": "code",
   "execution_count": 7,
   "metadata": {},
   "outputs": [],
   "source": [
    "class NeuralNetwork(nn.Module):                   # 모델 클래스를 선언\n",
    "  \n",
    "    def __init__(self):\n",
    "        super(NeuralNetwork, self).__init__()        # nn.Module 을 비롯해 상위 클래스의 생성자를 호출 (문법입니다)\n",
    "\n",
    "        self.hiddenLayer1 = nn.Linear(28 * 28, 128)  # 28 * 28 = 784 픽셀 (차원) 의 데이터를 받아 128 차원 벡터로 출력하는 레이어\n",
    "        self.hiddenLayer2 = nn.Linear(128, 64)       # 128 차원의 데이터를 받아 64 차원 벡터로 출력하는 레이어\n",
    "        self.outputLayer = nn.Linear(64, 10)         # 64 차원의 데이터를 받아 10 차원 벡터로 출력하는 레이어\n",
    "        self.sigmoid = nn.Sigmoid()                  # sigmoid activation function\n",
    "\n",
    "    def forward(self, x):                          # 데이터를 받아 예측 결과를 출력하는 메소드 \n",
    "    \n",
    "        z2 = self.hiddenLayer1(x)                    # 첫 번째 hidden layer 를 통과한 결과\n",
    "        a2 = self.sigmoid(z2)                        # 위의 값을 sigmoid 에 통과한 결과\n",
    "\n",
    "        z3 = self.hiddenLayer2(a2)                   # 두 번째 hidden layer 를 통과한 결과\n",
    "        a3 = self.sigmoid(z3)                        # 위의 값을 sigmoid 에 통과한 결과\n",
    "\n",
    "        z4 = self.outputLayer(a3)                    # 마지막 layer 를 통과한 결과\n",
    "        y = self.sigmoid(z4)                         # 위의 값을 sigmoid 에 통과한 결과 (최종 출력)\n",
    "\n",
    "        return y"
   ]
  },
  {
   "cell_type": "code",
   "execution_count": 8,
   "metadata": {},
   "outputs": [
    {
     "name": "stdout",
     "output_type": "stream",
     "text": [
      "Test Accuracy of the model on the 10000 test images: 9.82 %\n"
     ]
    }
   ],
   "source": [
    "model = NeuralNetwork().to(device)                      # 모델을 생성하고 GPU 로 전송\n",
    "\n",
    "model.eval()                                            # 모델을 테스트 모드로 전환 (학습 때와 테스트 때의 forward 기능이 달라야 하는 경우가 존재합니다, 이후에 배울 예정입니다.)\n",
    "\n",
    "with torch.no_grad():                                   # Gradient 계산 x (테스트할 때에는 gradient 가 필요 없으므로 메모리 절약을 위해 gradient 계산을 하지 않습니다.)\n",
    "\n",
    "    correct = 0\n",
    "    total = 0\n",
    "\n",
    "    for images, labels in testLoader:\n",
    "    \n",
    "        images = images.reshape(-1, 28 * 28).to(device)     # 가로 28, 세로 28 의 2 차원 MNIST 이미지를 784 차원의 1 차원 벡터로 변환하고 GPU 로 전송\n",
    "        labels = labels.to(device)                          # MNIST 데이터의 정답, GPU 로 전송\n",
    "\n",
    "        outputs = model(images)                             # MNIST 이미지가 모델을 통과하고 나온 결과 (classification 결과입니다.)\n",
    "        _, predicted = torch.max(outputs.data, 1)           # classification 결과와 정답을 비교해 맞은 갯수를 셈 (sigmoid output 의 값이 가장 큰 것이 예측된 class 입니다.)\n",
    "\n",
    "        total += labels.size(0)\n",
    "        correct += (predicted == labels).sum().item()\n",
    "\n",
    "    print('Test Accuracy of the model on the 10000 test images: {} %'.format(100 * correct / total))"
   ]
  },
  {
   "cell_type": "code",
   "execution_count": 9,
   "metadata": {},
   "outputs": [
    {
     "name": "stdout",
     "output_type": "stream",
     "text": [
      "Epoch [1/5], Step [100/118] Loss: 1.5622\n",
      "Epoch [2/5], Step [100/118] Loss: 1.5329\n",
      "Epoch [3/5], Step [100/118] Loss: 1.4984\n",
      "Epoch [4/5], Step [100/118] Loss: 1.4948\n",
      "Epoch [5/5], Step [100/118] Loss: 1.4799\n"
     ]
    }
   ],
   "source": [
    "model.train()                                                          # 모델을 학습 모드로 전환 (학습 때와 테스트 때의 forward 기능이 달라야 하는 경우가 존재합니다, 이후에 배울 예정입니다.)\n",
    "\n",
    "costFunction = nn.CrossEntropyLoss()                                   # Cross entropy 를 cost function 으로 사용\n",
    "optimizer = torch.optim.Adam(model.parameters(), lr = learningRate)    # Adam 이라는 optimizer 를 사용 (이후에 배울 예정)\n",
    "\n",
    "totalStep = len(trainLoader)\n",
    "\n",
    "for epoch in range(epochNum):\n",
    "  \n",
    "    for idx, (images, labels) in enumerate(trainLoader):\n",
    "      \n",
    "        images = images.reshape(-1, 28 * 28).to(device)                 # 가로 28, 세로 28 의 2 차원 MNIST 이미지를 784 차원의 1 차원 벡터로 변환하고 GPU 로 전송\n",
    "        labels = labels.to(device)                                      # MNIST 데이터의 정답, GPU 로 전송\n",
    "        \n",
    "        # Forward pass\n",
    "        outputs = model(images)                                         # MNIST 이미지가 모델을 통과하고 나온 결과 (classification 결과입니다.)\n",
    "        loss = costFunction(outputs, labels)                            # Classification 결과와 실제 정답을 비교해 cost function 값을 계산\n",
    "        \n",
    "        # Backward and optimize\n",
    "        optimizer.zero_grad()                                           # gradient 값을 초기화 (pyTorch 에서는 gradient 를 계산할 때마다 값이 누적됩니다.)\n",
    "        loss.backward()                                                 # cost function 값을 토대로 gradient 를 계산\n",
    "        optimizer.step()                                                # 계산한 gradient 값으로 모델의 파라미터를 업데이트\n",
    "        \n",
    "        if (idx + 1) % 100 == 0:\n",
    "            \n",
    "            print(\"Epoch [{}/{}], Step [{}/{}] Loss: {:.4f}\".format(epoch + 1, epochNum, idx + 1, totalStep, loss.item()))"
   ]
  },
  {
   "cell_type": "code",
   "execution_count": 10,
   "metadata": {},
   "outputs": [
    {
     "name": "stdout",
     "output_type": "stream",
     "text": [
      "Test Accuracy of the model on the 10000 test images: 96.59 %\n"
     ]
    }
   ],
   "source": [
    "model.eval()                                            # 모델을 테스트 모드로 전환 (학습 때와 테스트 때의 forward 기능이 달라야 하는 경우가 존재합니다, 이후에 배울 예정입니다.)\n",
    "\n",
    "with torch.no_grad():                                   # Gradient 계산 x (테스트할 때에는 gradient 가 필요 없으므로 메모리 절약을 위해 gradient 계산을 하지 않습니다.)\n",
    "\n",
    "    correct = 0\n",
    "    total = 0\n",
    "  \n",
    "    for images, labels in testLoader:\n",
    "    \n",
    "        images = images.reshape(-1, 28 * 28).to(device)     # 가로 28, 세로 28 의 2 차원 MNIST 이미지를 784 차원의 1 차원 벡터로 변환하고 GPU 로 전송\n",
    "        labels = labels.to(device)                          # MNIST 데이터의 정답, GPU 로 전송\n",
    "\n",
    "        outputs = model(images)                             # MNIST 이미지가 모델을 통과하고 나온 결과 (classification 결과입니다.)\n",
    "        _, predicted = torch.max(outputs.data, 1)           # classification 결과와 정답을 비교해 맞은 갯수를 셈 (sigmoid output 의 값이 가장 큰 것이 예측된 class 입니다.)\n",
    "\n",
    "        total += labels.size(0)\n",
    "        correct += (predicted == labels).sum().item()\n",
    "    \n",
    "    print('Test Accuracy of the model on the 10000 test images: {} %'.format(100 * correct / total))"
   ]
  },
  {
   "cell_type": "code",
   "execution_count": null,
   "metadata": {},
   "outputs": [],
   "source": []
  }
 ],
 "metadata": {
  "kernelspec": {
   "display_name": "Python 3",
   "language": "python",
   "name": "python3"
  },
  "language_info": {
   "codemirror_mode": {
    "name": "ipython",
    "version": 3
   },
   "file_extension": ".py",
   "mimetype": "text/x-python",
   "name": "python",
   "nbconvert_exporter": "python",
   "pygments_lexer": "ipython3",
   "version": "3.6.4"
  }
 },
 "nbformat": 4,
 "nbformat_minor": 2
}
