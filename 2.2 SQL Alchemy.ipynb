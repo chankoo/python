{
 "cells": [
  {
   "cell_type": "markdown",
   "metadata": {},
   "source": [
    "18.07.10\n",
    "\n",
    "- ORM 개념\n",
    "- SQL Alchemy\n",
    "- SQLAlchemy ORM\n"
   ]
  },
  {
   "cell_type": "markdown",
   "metadata": {},
   "source": [
    "### ORM 개념"
   ]
  },
  {
   "attachments": {},
   "cell_type": "markdown",
   "metadata": {},
   "source": [
    "![121](https://user-images.githubusercontent.com/38183218/42989109-d2e467c2-8c39-11e8-90dd-53e6f5bcc914.png)"
   ]
  },
  {
   "cell_type": "markdown",
   "metadata": {},
   "source": [
    "#### What is ORM?\n",
    "- ORM stands Object Relational Mapping\n",
    "- Programming technique for converting data between incompatible type systems using object-oriented programming languages \n",
    "\n",
    "클래스와 테이블의 매핑\n",
    "\n",
    "복잡하게 sql쓰지말고 클래스가지고 작업하라 ORM이 엮어서 알아서 해준다, DBMS를 대신하는 프로그래밍 테크닉. 그러나 RDB는 밑에 반드시 존재해야"
   ]
  },
  {
   "cell_type": "markdown",
   "metadata": {},
   "source": [
    "#### Why use ORM?\n",
    "- Mismatch between the object model and the relational database\n",
    "    - RDBSs represent data in tabular format\n",
    "    - Object-Oriented languages represent data as an interconnected graph of objects\n",
    "- ORM frees the programmer from dealing with simple repetitive database queries\n",
    "- Automatically mapping the database to business objects\n",
    "- Programmers focus more on business problems and less with data storage\n",
    "- The mapping process can aid in data verification and security before reaching the database\n",
    "- ORM can provide a caching layer above the database\n",
    "\n",
    "sql 사용시 테이블 간 관계보다 DB처리에 cost가 많이 드는 경향\n",
    "\n",
    "#### Disadvantages\n",
    "Potentially increasing processing overhead\n"
   ]
  },
  {
   "cell_type": "markdown",
   "metadata": {},
   "source": [
    "#### ORM in Python\n",
    "- ORM allows a developer to write Python code instead of SQL to create, read, update and delete\n",
    "    - Developers can use the programming language they are comfortable with to work with a database instead of writing SQL statements or stored procedures\n",
    "- ORMs make it theoretically possible to switch an application between various relational databases\n",
    "    - In practice however, it's best to use the same database for local development as is used in production\n"
   ]
  },
  {
   "attachments": {},
   "cell_type": "markdown",
   "metadata": {},
   "source": [
    "#### ORMs\n",
    "![129](https://user-images.githubusercontent.com/38183218/42989110-d30d08b2-8c39-11e8-933e-34a56d0fcd61.png)"
   ]
  },
  {
   "attachments": {},
   "cell_type": "markdown",
   "metadata": {},
   "source": [
    "#### SQLAlchemy architecture\n",
    "![132](https://user-images.githubusercontent.com/38183218/42989112-d330e0f2-8c39-11e8-9e68-f0dc4618a244.png)"
   ]
  },
  {
   "attachments": {},
   "cell_type": "markdown",
   "metadata": {},
   "source": [
    "#### SQLAlchemy CORE\n",
    "![133](https://user-images.githubusercontent.com/38183218/42989113-d3538fd0-8c39-11e8-82f0-ae0a290aac8f.png)\n",
    "\n",
    "- Engine\n",
    "\n",
    "starting point for any SQLAlchemy application\n",
    "a registry which provides connectivity to a particular database server\n"
   ]
  },
  {
   "cell_type": "markdown",
   "metadata": {},
   "source": [
    "엔진은 두가지로 구성\n",
    "- Dialect\n",
    "    - communicate with various types of DBAPI implementations and databases\n",
    "    - interprets generic SQL and database commands in terms of specific - DBAPI and database backend\n",
    "        - Firebird, Microsoft SQL Server, MySQL, Oracle, PostgreSQL, SQLite, Sybase\n",
    "\n",
    "- Connection Pool\n",
    "\n",
    "    - holds a collection of database connections in memory for fast re-use"
   ]
  },
  {
   "cell_type": "code",
   "execution_count": 50,
   "metadata": {},
   "outputs": [],
   "source": [
    "import sqlalchemy"
   ]
  },
  {
   "cell_type": "code",
   "execution_count": 51,
   "metadata": {},
   "outputs": [
    {
     "data": {
      "text/plain": [
       "'1.2.1'"
      ]
     },
     "execution_count": 51,
     "metadata": {},
     "output_type": "execute_result"
    }
   ],
   "source": [
    "sqlalchemy.__version__"
   ]
  },
  {
   "cell_type": "code",
   "execution_count": 2,
   "metadata": {},
   "outputs": [],
   "source": [
    "from sqlalchemy import create_engine"
   ]
  },
  {
   "cell_type": "code",
   "execution_count": 51,
   "metadata": {},
   "outputs": [],
   "source": [
    "# sqlite://<nohostname>/<path>\n",
    "engine = create_engine(\"sqlite:///alchemy_core_test.db\", echo=False) #파일db이기에 호스트없음"
   ]
  },
  {
   "cell_type": "code",
   "execution_count": 52,
   "metadata": {},
   "outputs": [
    {
     "name": "stdout",
     "output_type": "stream",
     "text": [
      "Engine(sqlite:///alchemy_core_test.db)\n"
     ]
    }
   ],
   "source": [
    "print(engine)\n",
    "\n",
    "#Lazy connecting\n",
    "#The echo flag is a shortcut to setting up SQLAlchemy logging"
   ]
  },
  {
   "cell_type": "code",
   "execution_count": 5,
   "metadata": {},
   "outputs": [],
   "source": [
    "from sqlalchemy import MetaData"
   ]
  },
  {
   "cell_type": "code",
   "execution_count": 53,
   "metadata": {},
   "outputs": [
    {
     "name": "stdout",
     "output_type": "stream",
     "text": [
      "MetaData(bind=None)\n"
     ]
    }
   ],
   "source": [
    "metadata = MetaData()\n",
    "print(metadata)"
   ]
  },
  {
   "cell_type": "code",
   "execution_count": 7,
   "metadata": {},
   "outputs": [],
   "source": [
    "from sqlalchemy import Table, Column, Integer, String, MetaData, ForeignKey"
   ]
  },
  {
   "cell_type": "code",
   "execution_count": 26,
   "metadata": {},
   "outputs": [],
   "source": [
    "metadata = MetaData()\n",
    "\n",
    "users = Table('users', metadata,\n",
    "             Column('id',Integer,primary_key=True),\n",
    "              Column('name',String),\n",
    "              Column('fullname',String)\n",
    "             )\n",
    "address = Table('address',metadata,\n",
    "               Column('id',Integer,primary_key=True),\n",
    "                Column('user_id',None,ForeignKey('users.id')),\n",
    "              Column('email_address',String, nullable=False)\n",
    "               )\n",
    "\n",
    "metadata.create_all(engine)\n"
   ]
  },
  {
   "cell_type": "code",
   "execution_count": 27,
   "metadata": {},
   "outputs": [
    {
     "name": "stdout",
     "output_type": "stream",
     "text": [
      "users\n",
      "address\n"
     ]
    }
   ],
   "source": [
    "for row in metadata.tables:\n",
    "    print(row)"
   ]
  },
  {
   "cell_type": "code",
   "execution_count": 63,
   "metadata": {},
   "outputs": [
    {
     "data": {
      "text/plain": [
       "<sqlalchemy.sql.dml.Insert object at 0x000001A1008D2908>"
      ]
     },
     "execution_count": 63,
     "metadata": {},
     "output_type": "execute_result"
    }
   ],
   "source": [
    "users.insert() #Insert객체를 반환"
   ]
  },
  {
   "cell_type": "code",
   "execution_count": 64,
   "metadata": {},
   "outputs": [
    {
     "name": "stdout",
     "output_type": "stream",
     "text": [
      "INSERT INTO users (id, name, fullname) VALUES (:id, :name, :fullname)\n"
     ]
    }
   ],
   "source": [
    "print(users.insert()) # sql문의 형태"
   ]
  },
  {
   "cell_type": "code",
   "execution_count": 31,
   "metadata": {},
   "outputs": [
    {
     "name": "stdout",
     "output_type": "stream",
     "text": [
      "INSERT INTO users (name, fullname) VALUES (:name, :fullname)\n"
     ]
    }
   ],
   "source": [
    "insert = users.insert().values(name='kim', fullname='Anonymous, Kim')\n",
    "print(insert)"
   ]
  },
  {
   "cell_type": "code",
   "execution_count": 32,
   "metadata": {},
   "outputs": [
    {
     "data": {
      "text/plain": [
       "<sqlalchemy.sql.compiler.StrSQLCompiler at 0x219b1ce6cf8>"
      ]
     },
     "execution_count": 32,
     "metadata": {},
     "output_type": "execute_result"
    }
   ],
   "source": [
    "insert.compile()"
   ]
  },
  {
   "cell_type": "code",
   "execution_count": 33,
   "metadata": {},
   "outputs": [
    {
     "data": {
      "text/plain": [
       "{'fullname': 'Anonymous, Kim', 'name': 'kim'}"
      ]
     },
     "execution_count": 33,
     "metadata": {},
     "output_type": "execute_result"
    }
   ],
   "source": [
    "insert.compile().params"
   ]
  },
  {
   "cell_type": "code",
   "execution_count": 34,
   "metadata": {},
   "outputs": [
    {
     "data": {
      "text/plain": [
       "<sqlalchemy.sql.dml.Insert object at 0x00000219B1CCBC18>"
      ]
     },
     "execution_count": 34,
     "metadata": {},
     "output_type": "execute_result"
    }
   ],
   "source": [
    "insert"
   ]
  },
  {
   "cell_type": "code",
   "execution_count": 35,
   "metadata": {},
   "outputs": [],
   "source": [
    "insert.bind = engine #binding option에 create된 engine을 주어 바인딩"
   ]
  },
  {
   "cell_type": "markdown",
   "metadata": {},
   "source": [
    "- Connection\n",
    "\n",
    "    - Provides high-level functionality for a wrapped DB-API connection\n",
    "    - Provides execution support for string-based SQL statements as well as ClauseElement, Compiled and DefaultGenerator objects"
   ]
  },
  {
   "cell_type": "code",
   "execution_count": 54,
   "metadata": {},
   "outputs": [],
   "source": [
    "conn = engine.connect() #엔진통해 실제 db와 연동"
   ]
  },
  {
   "cell_type": "markdown",
   "metadata": {},
   "source": [
    "- execute\n",
    "\n",
    "    - Executes a SQL statement construct and returns a ResultProxy\n"
   ]
  },
  {
   "cell_type": "code",
   "execution_count": 36,
   "metadata": {},
   "outputs": [],
   "source": [
    "result  = conn.execute(insert) #실제 db에 insert"
   ]
  },
  {
   "cell_type": "code",
   "execution_count": 128,
   "metadata": {},
   "outputs": [
    {
     "data": {
      "text/plain": [
       "[1]"
      ]
     },
     "execution_count": 128,
     "metadata": {},
     "output_type": "execute_result"
    }
   ],
   "source": [
    "result.inserted_primary_key"
   ]
  },
  {
   "cell_type": "code",
   "execution_count": 129,
   "metadata": {},
   "outputs": [
    {
     "data": {
      "text/plain": [
       "<sqlalchemy.engine.result.ResultProxy at 0x1a100fc27b8>"
      ]
     },
     "execution_count": 129,
     "metadata": {},
     "output_type": "execute_result"
    }
   ],
   "source": [
    "conn.execute(insert, name='lee', fullname='Unknown, Lee')\n",
    "#이렇게 insert가능 (이미 insert는 연동된 객체이므로)"
   ]
  },
  {
   "cell_type": "code",
   "execution_count": 130,
   "metadata": {},
   "outputs": [
    {
     "data": {
      "text/plain": [
       "<sqlalchemy.engine.result.ResultProxy at 0x1a100fcf7f0>"
      ]
     },
     "execution_count": 130,
     "metadata": {},
     "output_type": "execute_result"
    }
   ],
   "source": [
    "conn.execute(address.insert(), [\n",
    "    {'user_id':1,'email_address':'anonymous.kim@test.com'},\n",
    "    {'user_id':2,'email_address':'unknown.lee@test.com'}\n",
    "])"
   ]
  },
  {
   "cell_type": "code",
   "execution_count": 8,
   "metadata": {},
   "outputs": [],
   "source": [
    "from sqlalchemy.sql import select"
   ]
  },
  {
   "cell_type": "code",
   "execution_count": 37,
   "metadata": {},
   "outputs": [],
   "source": [
    "query = select([users])"
   ]
  },
  {
   "cell_type": "code",
   "execution_count": 38,
   "metadata": {},
   "outputs": [
    {
     "name": "stdout",
     "output_type": "stream",
     "text": [
      "SELECT users.id, users.name, users.fullname \n",
      "FROM users\n"
     ]
    }
   ],
   "source": [
    "print(query)"
   ]
  },
  {
   "cell_type": "code",
   "execution_count": 131,
   "metadata": {},
   "outputs": [],
   "source": [
    "result = conn.execute(query)"
   ]
  },
  {
   "cell_type": "code",
   "execution_count": 132,
   "metadata": {},
   "outputs": [
    {
     "name": "stdout",
     "output_type": "stream",
     "text": [
      "(1, 'kim', 'Anonymous, Kim')\n",
      "(2, 'lee', 'Unknown, Lee')\n"
     ]
    }
   ],
   "source": [
    "for row in result:\n",
    "    print(row) #row의 타입은 <class 'sqlalchemy.engine.result.RowProxy'>"
   ]
  },
  {
   "cell_type": "markdown",
   "metadata": {},
   "source": [
    "- ResultProxy\n",
    "\n",
    "    - Wraps a DB-API cursor object to provide easier access to row columns"
   ]
  },
  {
   "cell_type": "code",
   "execution_count": 133,
   "metadata": {},
   "outputs": [],
   "source": [
    "result = conn.execute(select([users.c.name, users.c.fullname])) \n",
    "#instance인 column을 특정해 가져옴"
   ]
  },
  {
   "cell_type": "code",
   "execution_count": 96,
   "metadata": {},
   "outputs": [
    {
     "name": "stdout",
     "output_type": "stream",
     "text": [
      "('kim', 'Anonymous, Kim')\n",
      "('lee', 'Unknown, Lee')\n"
     ]
    }
   ],
   "source": [
    "for row in result:\n",
    "    print(row)"
   ]
  },
  {
   "cell_type": "markdown",
   "metadata": {},
   "source": [
    "#### Selecting"
   ]
  },
  {
   "cell_type": "code",
   "execution_count": 9,
   "metadata": {},
   "outputs": [],
   "source": [
    "from sqlalchemy import and_, or_, not_"
   ]
  },
  {
   "cell_type": "code",
   "execution_count": 98,
   "metadata": {},
   "outputs": [
    {
     "name": "stdout",
     "output_type": "stream",
     "text": [
      "users.id = address.user_id\n"
     ]
    }
   ],
   "source": [
    "print(users.c.id == address.c.user_id) #실제 만들어지는 sql문"
   ]
  },
  {
   "cell_type": "code",
   "execution_count": 101,
   "metadata": {},
   "outputs": [
    {
     "data": {
      "text/plain": [
       "<sqlalchemy.sql.elements.BooleanClauseList object at 0x000001A101C7ED30>"
      ]
     },
     "execution_count": 101,
     "metadata": {},
     "output_type": "execute_result"
    }
   ],
   "source": [
    "or_(users.c.id == address.c.user_id, users.c.id ==1)"
   ]
  },
  {
   "cell_type": "code",
   "execution_count": 102,
   "metadata": {},
   "outputs": [
    {
     "name": "stdout",
     "output_type": "stream",
     "text": [
      "users.id = address.user_id OR users.id = :id_1\n"
     ]
    }
   ],
   "source": [
    "print(or_(users.c.id == address.c.user_id, users.c.id ==1))"
   ]
  },
  {
   "cell_type": "code",
   "execution_count": 103,
   "metadata": {},
   "outputs": [
    {
     "name": "stdout",
     "output_type": "stream",
     "text": [
      "users.id = (address.user_id OR users.id)\n"
     ]
    }
   ],
   "source": [
    "print((users.c.id == address.c.user_id | users.c.id ==1)) \n",
    "#사실 or_객체 없이도 파이썬 문법으로 가능"
   ]
  },
  {
   "cell_type": "code",
   "execution_count": 134,
   "metadata": {},
   "outputs": [
    {
     "name": "stdout",
     "output_type": "stream",
     "text": [
      "(1, 'kim', 'Anonymous, Kim')\n"
     ]
    }
   ],
   "source": [
    "result = conn.execute(select([users]).where(users.c.id==1))\n",
    "for row in result:\n",
    "    print(row)"
   ]
  },
  {
   "cell_type": "code",
   "execution_count": 135,
   "metadata": {},
   "outputs": [
    {
     "name": "stdout",
     "output_type": "stream",
     "text": [
      "(1, 'kim', 'Anonymous, Kim', 1, 1, 'anonymous.kim@test.com')\n",
      "(2, 'lee', 'Unknown, Lee', 2, 2, 'unknown.lee@test.com')\n"
     ]
    }
   ],
   "source": [
    "result = conn.execute(select([users, address]).where(users.c.id==address.c.user_id))\n",
    "for row in result:\n",
    "    print(row)"
   ]
  },
  {
   "cell_type": "code",
   "execution_count": 136,
   "metadata": {},
   "outputs": [
    {
     "name": "stdout",
     "output_type": "stream",
     "text": [
      "(1, 'kim', 'Anonymous, Kim')\n"
     ]
    }
   ],
   "source": [
    "result = conn.execute(select([users]).where(users.c.name.like('k%')))\n",
    "for row in result:\n",
    "    print(row)"
   ]
  },
  {
   "cell_type": "code",
   "execution_count": 139,
   "metadata": {},
   "outputs": [
    {
     "name": "stdout",
     "output_type": "stream",
     "text": [
      "SELECT users.id, users.name, users.fullname \n",
      "FROM users, address \n",
      "WHERE users.name LIKE :name_1 AND users.id = address.user_id\n",
      "(1, 'kim', 'Anonymous, Kim')\n"
     ]
    }
   ],
   "source": [
    "result = conn.execute(select([users]).where(users.c.name.like('k%')).where(users.c.id==address.c.user_id))\n",
    "print(select([users]).where(users.c.name.like('k%')).where(users.c.id==address.c.user_id)) #where절이 and로 묶임\n",
    "for row in result:\n",
    "    print(row)"
   ]
  },
  {
   "attachments": {
    "image.png": {
     "image/png": "[encoded data removed]"
    }
   },
   "cell_type": "markdown",
   "metadata": {},
   "source": [
    "#### Join\n",
    "![image.png](attachment:image.png)\n",
    "Return a Join from this FromClause to another FromClause"
   ]
  },
  {
   "cell_type": "code",
   "execution_count": 10,
   "metadata": {},
   "outputs": [],
   "source": [
    "from sqlalchemy import join"
   ]
  },
  {
   "cell_type": "code",
   "execution_count": 141,
   "metadata": {},
   "outputs": [
    {
     "name": "stdout",
     "output_type": "stream",
     "text": [
      "users JOIN address ON users.id = address.user_id\n",
      "users JOIN address ON users.id = address.user_id\n"
     ]
    }
   ],
   "source": [
    "print(users.join(address)) # on 없이도 PK, FK따라 알아서 해석\n",
    "\n",
    "print(users.join(address, users.c.id == address.c.user_id)) #직접써도됨"
   ]
  },
  {
   "cell_type": "code",
   "execution_count": 142,
   "metadata": {},
   "outputs": [],
   "source": [
    "query = select([users.c.id, users.c.fullname, address.c.email_address])\\\n",
    "                .select_from(users.join(address))"
   ]
  },
  {
   "cell_type": "code",
   "execution_count": 143,
   "metadata": {},
   "outputs": [
    {
     "name": "stdout",
     "output_type": "stream",
     "text": [
      "(1, 'Anonymous, Kim', 'anonymous.kim@test.com')\n",
      "(2, 'Unknown, Lee', 'unknown.lee@test.com')\n"
     ]
    }
   ],
   "source": [
    "result = conn.execute(query).fetchall()\n",
    "for row in result:\n",
    "    print(row)"
   ]
  },
  {
   "cell_type": "markdown",
   "metadata": {},
   "source": [
    "### 예제"
   ]
  },
  {
   "cell_type": "code",
   "execution_count": 55,
   "metadata": {},
   "outputs": [],
   "source": [
    "artist = Table('Artist', metadata,\n",
    "                Column('id', Integer, primary_key = True),\n",
    "                Column('name',String,nullable=False))\n",
    "\n",
    "album = Table('Album',metadata,\n",
    "             Column('id',Integer,primary_key=True),\n",
    "              Column('title', String, nullable = False),\n",
    "              Column('artist_id',Integer, ForeignKey('Artist.id')))\n",
    "\n",
    "genre = Table('Genre', metadata,\n",
    "                Column('id', Integer, primary_key = True),\n",
    "                Column('name',String,nullable=False))\n",
    "\n",
    "track = Table('Track',metadata,\n",
    "             Column('id',Integer,primary_key=True),\n",
    "              Column('title', String, nullable = False),\n",
    "              Column('length',Integer, nullable = False),\n",
    "              Column('rating',Integer, nullable = False),\n",
    "              Column('count',Integer, nullable = False),\n",
    "              Column('album_id',Integer, ForeignKey('Album.id')),\n",
    "              Column('genre_id',Integer, ForeignKey('Genre.id')))\n",
    "              \n",
    "metadata.create_all(engine)"
   ]
  },
  {
   "cell_type": "code",
   "execution_count": 40,
   "metadata": {},
   "outputs": [
    {
     "name": "stdout",
     "output_type": "stream",
     "text": [
      "users\n",
      "address\n",
      "Artist\n",
      "Album\n",
      "Genre\n",
      "Track\n"
     ]
    }
   ],
   "source": [
    "tables = metadata.tables\n",
    "for table in tables:\n",
    "    print(table)"
   ]
  },
  {
   "cell_type": "code",
   "execution_count": 41,
   "metadata": {},
   "outputs": [
    {
     "name": "stdout",
     "output_type": "stream",
     "text": [
      "Album\n",
      "Artist\n",
      "Genre\n",
      "Track\n",
      "address\n",
      "users\n"
     ]
    }
   ],
   "source": [
    "for table in engine.table_names():\n",
    "    print(table)"
   ]
  },
  {
   "cell_type": "code",
   "execution_count": 42,
   "metadata": {},
   "outputs": [],
   "source": [
    "users.drop(engine)\n",
    "address.drop(engine)\n",
    "#불필요한 테이블은 drop, binding 한 engine 알려주면 끝\n",
    "# 그러나 metadata엔 클래스로 살아있음"
   ]
  },
  {
   "cell_type": "code",
   "execution_count": 56,
   "metadata": {},
   "outputs": [
    {
     "data": {
      "text/plain": [
       "<sqlalchemy.engine.result.ResultProxy at 0x219b1d3db70>"
      ]
     },
     "execution_count": 56,
     "metadata": {},
     "output_type": "execute_result"
    }
   ],
   "source": [
    "conn.execute(artist.insert(),[\n",
    "    {'name':'Led Zepplin'},\n",
    "    {'name':'AC/DC'}\n",
    "])\n",
    "conn.execute(album.insert(),[\n",
    "    {'title':'IV', 'artist_id':2},\n",
    "    {'title':'Who Made Who', 'artist_id':2}\n",
    "])\n",
    "conn.execute(genre.insert(),[\n",
    "    {'name':'Rock'},\n",
    "    {'name':'Metal'}\n",
    "])\n",
    "conn.execute(track.insert(),[\n",
    "    {'title':'Black Dog','rating':5,'length':297,'count':0,'album_id':1, 'genre_id':1},\n",
    "    {'title':'Stairway','rating':5,'length':482,'count':0,'album_id':1, 'genre_id':1},\n",
    "    {'title':'About to rock','rating':5,'length':313,'count':0,'album_id':2, 'genre_id':2},\n",
    "    {'title':'Who Made Who','rating':5,'length':297,'count':0,'album_id':2, 'genre_id':2},\n",
    "])"
   ]
  },
  {
   "cell_type": "code",
   "execution_count": 44,
   "metadata": {},
   "outputs": [
    {
     "name": "stdout",
     "output_type": "stream",
     "text": [
      "(1, 'Black Dog', 297, 5, 0, 1, 1)\n",
      "(2, 'Stairway', 482, 5, 0, 1, 1)\n"
     ]
    }
   ],
   "source": [
    "trackResult  = conn.execute(select([track])\n",
    "                           .where(\n",
    "                               and_(track.c.album_id==1, track.c.genre_id==1)\n",
    "                           )\n",
    "                        )\n",
    "for row in trackResult:\n",
    "    print(row)"
   ]
  },
  {
   "cell_type": "code",
   "execution_count": 154,
   "metadata": {},
   "outputs": [
    {
     "name": "stdout",
     "output_type": "stream",
     "text": [
      "(1, 'Black Dog', 297, 5, 0, 1, 1)\n",
      "(2, 'Stairway', 482, 5, 0, 1, 1)\n"
     ]
    }
   ],
   "source": [
    "result = conn.execute(track.select().where(track.c.album_id==1)) \n",
    "#track에 내장한 select로 부른경우\n",
    "for row in result:\n",
    "    print(row)"
   ]
  },
  {
   "cell_type": "code",
   "execution_count": 15,
   "metadata": {},
   "outputs": [],
   "source": [
    "from sqlalchemy import update"
   ]
  },
  {
   "cell_type": "code",
   "execution_count": 17,
   "metadata": {},
   "outputs": [
    {
     "data": {
      "text/plain": [
       "<sqlalchemy.engine.result.ResultProxy at 0x219b1ca8470>"
      ]
     },
     "execution_count": 17,
     "metadata": {},
     "output_type": "execute_result"
    }
   ],
   "source": [
    "conn.execute(track.update().values(genre_id=3).where(track.c.id==1))"
   ]
  },
  {
   "cell_type": "code",
   "execution_count": 158,
   "metadata": {},
   "outputs": [
    {
     "name": "stdout",
     "output_type": "stream",
     "text": [
      "\"Track\" JOIN \"Album\" ON \"Album\".id = \"Track\".album_id\n"
     ]
    }
   ],
   "source": [
    "print(track.join(album))"
   ]
  },
  {
   "cell_type": "code",
   "execution_count": 161,
   "metadata": {},
   "outputs": [
    {
     "name": "stdout",
     "output_type": "stream",
     "text": [
      "(1, 'Black Dog', 297, 5, 0, 1, 3)\n",
      "(2, 'Stairway', 482, 5, 0, 1, 1)\n",
      "(3, 'About to rock', 313, 5, 0, 2, 1)\n",
      "(4, 'Who Made Who', 297, 5, 0, 2, 2)\n"
     ]
    }
   ],
   "source": [
    "result = conn.execute(track.select().select_from(track.join(album)))\n",
    "for row in result:\n",
    "    print(row)"
   ]
  },
  {
   "cell_type": "code",
   "execution_count": 163,
   "metadata": {
    "scrolled": true
   },
   "outputs": [
    {
     "name": "stdout",
     "output_type": "stream",
     "text": [
      "('Black Dog', 'IV')\n",
      "('Stairway', 'IV')\n",
      "('About to rock', 'Who Made Who')\n",
      "('Who Made Who', 'Who Made Who')\n"
     ]
    }
   ],
   "source": [
    "result = conn.execute(select([track.c.title, album.c.title]).select_from(track.join(album)))\n",
    "for row in result:\n",
    "    print(row)"
   ]
  },
  {
   "cell_type": "code",
   "execution_count": 165,
   "metadata": {},
   "outputs": [
    {
     "name": "stdout",
     "output_type": "stream",
     "text": [
      "\"Track\" JOIN \"Album\" ON \"Album\".id = \"Track\".album_id JOIN \"Genre\" ON \"Genre\".id = \"Track\".genre_id\n"
     ]
    }
   ],
   "source": [
    "print(track.join(album).join(genre).join(artist)) #join으로 연결하면됨"
   ]
  },
  {
   "cell_type": "code",
   "execution_count": 18,
   "metadata": {},
   "outputs": [
    {
     "name": "stdout",
     "output_type": "stream",
     "text": [
      "(3, 'About to rock', 313, 5, 0, 2, 2)\n",
      "(4, 'Who Made Who', 297, 5, 0, 2, 2)\n"
     ]
    }
   ],
   "source": [
    "result = conn.execute(track.\n",
    "                      select()\n",
    "                     .select_from(track.join(album).join(genre).join(artist))\n",
    "                     .where(\n",
    "                         and_(\n",
    "                                 genre.c.id==2,\n",
    "                                 artist.c.id ==2\n",
    "                             )\n",
    "                         )\n",
    "                     )\n",
    "for row in result:\n",
    "    print(row)"
   ]
  },
  {
   "cell_type": "code",
   "execution_count": 69,
   "metadata": {},
   "outputs": [
    {
     "name": "stdout",
     "output_type": "stream",
     "text": [
      "Album\n",
      "Artist\n",
      "Genre\n",
      "Track\n"
     ]
    }
   ],
   "source": [
    "# open db\n",
    "engine = create_engine(\"sqlite:///alchemy_core_test.db\", echo =False)\n",
    "\n",
    "metadata = MetaData(bind=engine) \n",
    "metadata.reflect(bind=engine) #Load all available table definitions from the database.\n",
    "\n",
    "for row in metadata.tables:\n",
    "    print(row)"
   ]
  },
  {
   "cell_type": "code",
   "execution_count": 66,
   "metadata": {},
   "outputs": [],
   "source": [
    "tables = metadata.tables \n",
    "album = metadata.tables['Album']\n",
    "track =  metadata.tables['Track']\n"
   ]
  },
  {
   "cell_type": "code",
   "execution_count": 67,
   "metadata": {},
   "outputs": [
    {
     "data": {
      "text/plain": [
       "Table('Track', MetaData(bind=Engine(sqlite:///alchemy_core_test.db)), Column('id', INTEGER(), table=<Track>, primary_key=True, nullable=False), Column('title', VARCHAR(), table=<Track>, nullable=False), Column('length', INTEGER(), table=<Track>, nullable=False), Column('rating', INTEGER(), table=<Track>, nullable=False), Column('count', INTEGER(), table=<Track>, nullable=False), Column('album_id', INTEGER(), ForeignKey('Album.id'), table=<Track>), Column('genre_id', INTEGER(), ForeignKey('Genre.id'), table=<Track>), schema=None)"
      ]
     },
     "execution_count": 67,
     "metadata": {},
     "output_type": "execute_result"
    }
   ],
   "source": [
    "track"
   ]
  },
  {
   "cell_type": "code",
   "execution_count": 73,
   "metadata": {},
   "outputs": [
    {
     "name": "stdout",
     "output_type": "stream",
     "text": [
      "(1, 'Black Dog', 297, 5, 0, 1, 1)\n",
      "(2, 'Stairway', 482, 5, 0, 1, 1)\n",
      "(3, 'About to rock', 313, 5, 0, 2, 2)\n",
      "(4, 'Who Made Who', 297, 5, 0, 2, 2)\n"
     ]
    }
   ],
   "source": [
    "conn = engine.connect()\n",
    "with conn:\n",
    "    for row in conn.execute(track.select()).fetchall():\n",
    "        print(row)"
   ]
  },
  {
   "cell_type": "code",
   "execution_count": 71,
   "metadata": {},
   "outputs": [],
   "source": [
    "metadata.clear()"
   ]
  },
  {
   "cell_type": "code",
   "execution_count": null,
   "metadata": {},
   "outputs": [],
   "source": []
  },
  {
   "cell_type": "markdown",
   "metadata": {},
   "source": [
    "### SQLAlchemy ORM"
   ]
  },
  {
   "cell_type": "code",
   "execution_count": 123,
   "metadata": {},
   "outputs": [],
   "source": [
    "from sqlalchemy import create_engine\n",
    "engine = create_engine(\"sqlite:///Alchemy_ORM.db\",echo=True)"
   ]
  },
  {
   "cell_type": "code",
   "execution_count": 124,
   "metadata": {},
   "outputs": [],
   "source": [
    "from sqlalchemy.ext.declarative import declarative_base\n",
    "Base = declarative_base() #base는 metadata와 유사"
   ]
  },
  {
   "cell_type": "code",
   "execution_count": 78,
   "metadata": {},
   "outputs": [],
   "source": [
    "from sqlalchemy import Column, Integer, String, ForeignKey"
   ]
  },
  {
   "cell_type": "code",
   "execution_count": 125,
   "metadata": {},
   "outputs": [],
   "source": [
    "class Artist(Base):\n",
    "    __tablename__ = 'artist'\n",
    "    \n",
    "    _id = Column(Integer, primary_key=True)\n",
    "    name = Column(String)\n",
    "    \n",
    "    def __repr__(self):\n",
    "        return (\"<Table artist(name= '%s' )>\" % (self.name))\n",
    "    \n",
    "class Album(Base):\n",
    "    __tablename__ = 'album'\n",
    "    \n",
    "    _id = Column(Integer, primary_key=True)\n",
    "    title = Column(String)\n",
    "    artist_id = Column(Integer, ForeignKey('artist._id'))\n",
    "    \n",
    "class Genre(Base):\n",
    "    __tablename__ = 'genre'\n",
    "    \n",
    "    _id = Column(Integer, primary_key=True)\n",
    "    name = Column(String)\n",
    "    \n",
    "class Track(Base):\n",
    "    __tablename__ = 'track'\n",
    "    \n",
    "    _id = Column(Integer, primary_key=True)\n",
    "    title = Column(String)\n",
    "    album_id = Column(Integer, ForeignKey('album._id'))\n",
    "    genre_id = Column(Integer, ForeignKey('genre._id'))\n",
    "    "
   ]
  },
  {
   "cell_type": "code",
   "execution_count": 126,
   "metadata": {},
   "outputs": [
    {
     "name": "stdout",
     "output_type": "stream",
     "text": [
      "2018-07-10 17:27:11,717 INFO sqlalchemy.engine.base.Engine SELECT CAST('test plain returns' AS VARCHAR(60)) AS anon_1\n",
      "2018-07-10 17:27:11,719 INFO sqlalchemy.engine.base.Engine ()\n",
      "2018-07-10 17:27:11,721 INFO sqlalchemy.engine.base.Engine SELECT CAST('test unicode returns' AS VARCHAR(60)) AS anon_1\n",
      "2018-07-10 17:27:11,723 INFO sqlalchemy.engine.base.Engine ()\n",
      "2018-07-10 17:27:11,726 INFO sqlalchemy.engine.base.Engine PRAGMA table_info(\"artist\")\n",
      "2018-07-10 17:27:11,727 INFO sqlalchemy.engine.base.Engine ()\n",
      "2018-07-10 17:27:11,730 INFO sqlalchemy.engine.base.Engine PRAGMA table_info(\"album\")\n",
      "2018-07-10 17:27:11,731 INFO sqlalchemy.engine.base.Engine ()\n",
      "2018-07-10 17:27:11,733 INFO sqlalchemy.engine.base.Engine PRAGMA table_info(\"genre\")\n",
      "2018-07-10 17:27:11,735 INFO sqlalchemy.engine.base.Engine ()\n",
      "2018-07-10 17:27:11,737 INFO sqlalchemy.engine.base.Engine PRAGMA table_info(\"track\")\n",
      "2018-07-10 17:27:11,738 INFO sqlalchemy.engine.base.Engine ()\n",
      "2018-07-10 17:27:11,740 INFO sqlalchemy.engine.base.Engine \n",
      "CREATE TABLE artist (\n",
      "\t_id INTEGER NOT NULL, \n",
      "\tname VARCHAR, \n",
      "\tPRIMARY KEY (_id)\n",
      ")\n",
      "\n",
      "\n",
      "2018-07-10 17:27:11,742 INFO sqlalchemy.engine.base.Engine ()\n",
      "2018-07-10 17:27:11,774 INFO sqlalchemy.engine.base.Engine COMMIT\n",
      "2018-07-10 17:27:11,776 INFO sqlalchemy.engine.base.Engine \n",
      "CREATE TABLE genre (\n",
      "\t_id INTEGER NOT NULL, \n",
      "\tname VARCHAR, \n",
      "\tPRIMARY KEY (_id)\n",
      ")\n",
      "\n",
      "\n",
      "2018-07-10 17:27:11,777 INFO sqlalchemy.engine.base.Engine ()\n",
      "2018-07-10 17:27:11,786 INFO sqlalchemy.engine.base.Engine COMMIT\n",
      "2018-07-10 17:27:11,788 INFO sqlalchemy.engine.base.Engine \n",
      "CREATE TABLE album (\n",
      "\t_id INTEGER NOT NULL, \n",
      "\ttitle VARCHAR, \n",
      "\tartist_id INTEGER, \n",
      "\tPRIMARY KEY (_id), \n",
      "\tFOREIGN KEY(artist_id) REFERENCES artist (_id)\n",
      ")\n",
      "\n",
      "\n",
      "2018-07-10 17:27:11,790 INFO sqlalchemy.engine.base.Engine ()\n",
      "2018-07-10 17:27:11,800 INFO sqlalchemy.engine.base.Engine COMMIT\n",
      "2018-07-10 17:27:11,802 INFO sqlalchemy.engine.base.Engine \n",
      "CREATE TABLE track (\n",
      "\t_id INTEGER NOT NULL, \n",
      "\ttitle VARCHAR, \n",
      "\talbum_id INTEGER, \n",
      "\tgenre_id INTEGER, \n",
      "\tPRIMARY KEY (_id), \n",
      "\tFOREIGN KEY(album_id) REFERENCES album (_id), \n",
      "\tFOREIGN KEY(genre_id) REFERENCES genre (_id)\n",
      ")\n",
      "\n",
      "\n",
      "2018-07-10 17:27:11,803 INFO sqlalchemy.engine.base.Engine ()\n",
      "2018-07-10 17:27:11,819 INFO sqlalchemy.engine.base.Engine COMMIT\n"
     ]
    }
   ],
   "source": [
    "Base.metadata.create_all(engine)\n",
    "#class 선언해 넘겨줬는데 테이블 생성"
   ]
  },
  {
   "cell_type": "code",
   "execution_count": 127,
   "metadata": {},
   "outputs": [],
   "source": [
    "artist1 = Artist(name=\"Led Zeppline\")\n",
    "artist2 = Artist(name=\"AC/DC\")"
   ]
  },
  {
   "cell_type": "code",
   "execution_count": 128,
   "metadata": {},
   "outputs": [
    {
     "data": {
      "text/plain": [
       "<Table artist(name= 'Led Zeppline' )>"
      ]
     },
     "execution_count": 128,
     "metadata": {},
     "output_type": "execute_result"
    }
   ],
   "source": [
    "artist1 #메모리에 존재하는 상태, db에 넣어줘야함"
   ]
  },
  {
   "cell_type": "code",
   "execution_count": 91,
   "metadata": {},
   "outputs": [],
   "source": [
    "from sqlalchemy.orm import sessionmaker"
   ]
  },
  {
   "cell_type": "code",
   "execution_count": 129,
   "metadata": {},
   "outputs": [],
   "source": [
    "Session = sessionmaker(bind=engine) #세션을 통해 엔진이 바인딩"
   ]
  },
  {
   "cell_type": "code",
   "execution_count": 130,
   "metadata": {},
   "outputs": [],
   "source": [
    "session = Session()"
   ]
  },
  {
   "cell_type": "code",
   "execution_count": 131,
   "metadata": {},
   "outputs": [],
   "source": [
    "session.add_all((artist1, artist2)) \n",
    "# 엔진이 내부적으로 객체를 디비에 넣음"
   ]
  },
  {
   "cell_type": "code",
   "execution_count": 132,
   "metadata": {},
   "outputs": [
    {
     "name": "stdout",
     "output_type": "stream",
     "text": [
      "2018-07-10 17:27:39,242 INFO sqlalchemy.engine.base.Engine BEGIN (implicit)\n",
      "2018-07-10 17:27:39,244 INFO sqlalchemy.engine.base.Engine INSERT INTO artist (name) VALUES (?)\n",
      "2018-07-10 17:27:39,246 INFO sqlalchemy.engine.base.Engine ('Led Zeppline',)\n",
      "2018-07-10 17:27:39,250 INFO sqlalchemy.engine.base.Engine INSERT INTO artist (name) VALUES (?)\n",
      "2018-07-10 17:27:39,251 INFO sqlalchemy.engine.base.Engine ('AC/DC',)\n",
      "2018-07-10 17:27:39,253 INFO sqlalchemy.engine.base.Engine COMMIT\n"
     ]
    }
   ],
   "source": [
    "session.commit()"
   ]
  },
  {
   "cell_type": "code",
   "execution_count": 133,
   "metadata": {},
   "outputs": [],
   "source": [
    "artist1.name = 'Led Zeppline Jr'"
   ]
  },
  {
   "cell_type": "code",
   "execution_count": 134,
   "metadata": {},
   "outputs": [
    {
     "data": {
      "text/plain": [
       "IdentitySet([<Table artist(name= 'Led Zeppline Jr' )>])"
      ]
     },
     "execution_count": 134,
     "metadata": {},
     "output_type": "execute_result"
    }
   ],
   "source": [
    "session.dirty # 메모리상의 값을 track해 db와 동기화 여부 파악"
   ]
  },
  {
   "cell_type": "code",
   "execution_count": 135,
   "metadata": {},
   "outputs": [],
   "source": [
    "session.add_all([\n",
    "    Album(title='1', artist_id = 1),\n",
    "    Album(title='2', artist_id = 2)\n",
    "])"
   ]
  },
  {
   "cell_type": "code",
   "execution_count": 136,
   "metadata": {},
   "outputs": [
    {
     "data": {
      "text/plain": [
       "IdentitySet([<__main__.Album object at 0x00000219B423EDD8>, <__main__.Album object at 0x00000219B423EB38>])"
      ]
     },
     "execution_count": 136,
     "metadata": {},
     "output_type": "execute_result"
    }
   ],
   "source": [
    "session.new"
   ]
  },
  {
   "cell_type": "code",
   "execution_count": 137,
   "metadata": {},
   "outputs": [
    {
     "name": "stdout",
     "output_type": "stream",
     "text": [
      "2018-07-10 17:27:58,499 INFO sqlalchemy.engine.base.Engine BEGIN (implicit)\n",
      "2018-07-10 17:27:58,501 INFO sqlalchemy.engine.base.Engine INSERT INTO album (title, artist_id) VALUES (?, ?)\n",
      "2018-07-10 17:27:58,503 INFO sqlalchemy.engine.base.Engine ('1', 1)\n",
      "2018-07-10 17:27:58,507 INFO sqlalchemy.engine.base.Engine INSERT INTO album (title, artist_id) VALUES (?, ?)\n",
      "2018-07-10 17:27:58,508 INFO sqlalchemy.engine.base.Engine ('2', 2)\n",
      "2018-07-10 17:27:58,511 INFO sqlalchemy.engine.base.Engine SELECT artist._id AS artist__id \n",
      "FROM artist \n",
      "WHERE artist._id = ?\n",
      "2018-07-10 17:27:58,512 INFO sqlalchemy.engine.base.Engine (1,)\n",
      "2018-07-10 17:27:58,515 INFO sqlalchemy.engine.base.Engine UPDATE artist SET name=? WHERE artist._id = ?\n",
      "2018-07-10 17:27:58,516 INFO sqlalchemy.engine.base.Engine ('Led Zeppline Jr', 1)\n",
      "2018-07-10 17:27:58,518 INFO sqlalchemy.engine.base.Engine COMMIT\n"
     ]
    }
   ],
   "source": [
    "session.commit()"
   ]
  },
  {
   "cell_type": "code",
   "execution_count": 138,
   "metadata": {},
   "outputs": [],
   "source": [
    "session.add_all([\n",
    "    Genre(name = 'Rock'),\n",
    "    Genre(name = 'Metal')\n",
    "])"
   ]
  },
  {
   "cell_type": "code",
   "execution_count": 139,
   "metadata": {},
   "outputs": [
    {
     "name": "stdout",
     "output_type": "stream",
     "text": [
      "2018-07-10 17:29:26,259 INFO sqlalchemy.engine.base.Engine BEGIN (implicit)\n",
      "2018-07-10 17:29:26,262 INFO sqlalchemy.engine.base.Engine INSERT INTO genre (name) VALUES (?)\n",
      "2018-07-10 17:29:26,263 INFO sqlalchemy.engine.base.Engine ('Rock',)\n",
      "2018-07-10 17:29:26,278 INFO sqlalchemy.engine.base.Engine INSERT INTO genre (name) VALUES (?)\n",
      "2018-07-10 17:29:26,279 INFO sqlalchemy.engine.base.Engine ('Metal',)\n",
      "2018-07-10 17:29:26,281 INFO sqlalchemy.engine.base.Engine COMMIT\n"
     ]
    }
   ],
   "source": [
    "session.commit()"
   ]
  },
  {
   "cell_type": "code",
   "execution_count": 145,
   "metadata": {},
   "outputs": [],
   "source": [
    "session.add_all([\n",
    "    Track(title = '1-1', album_id=1, genre_id = 1),\n",
    "    Track(title = '2-1', album_id=2, genre_id = 2)\n",
    "])"
   ]
  },
  {
   "cell_type": "code",
   "execution_count": 147,
   "metadata": {},
   "outputs": [
    {
     "name": "stdout",
     "output_type": "stream",
     "text": [
      "2018-07-10 17:31:48,363 INFO sqlalchemy.engine.base.Engine BEGIN (implicit)\n",
      "2018-07-10 17:31:48,366 INFO sqlalchemy.engine.base.Engine INSERT INTO track (title, album_id, genre_id) VALUES (?, ?, ?)\n",
      "2018-07-10 17:31:48,367 INFO sqlalchemy.engine.base.Engine ('1-1', 1, 1)\n",
      "2018-07-10 17:31:48,372 INFO sqlalchemy.engine.base.Engine INSERT INTO track (title, album_id, genre_id) VALUES (?, ?, ?)\n",
      "2018-07-10 17:31:48,373 INFO sqlalchemy.engine.base.Engine ('2-1', 2, 2)\n",
      "2018-07-10 17:31:48,375 INFO sqlalchemy.engine.base.Engine INSERT INTO track (title, album_id, genre_id) VALUES (?, ?, ?)\n",
      "2018-07-10 17:31:48,376 INFO sqlalchemy.engine.base.Engine ('1-1', 1, 1)\n",
      "2018-07-10 17:31:48,377 INFO sqlalchemy.engine.base.Engine INSERT INTO track (title, album_id, genre_id) VALUES (?, ?, ?)\n",
      "2018-07-10 17:31:48,378 INFO sqlalchemy.engine.base.Engine ('2-1', 2, 2)\n",
      "2018-07-10 17:31:48,380 INFO sqlalchemy.engine.base.Engine COMMIT\n"
     ]
    }
   ],
   "source": [
    "session.commit()"
   ]
  },
  {
   "cell_type": "code",
   "execution_count": 152,
   "metadata": {},
   "outputs": [
    {
     "name": "stdout",
     "output_type": "stream",
     "text": [
      "2018-07-10 17:35:23,893 INFO sqlalchemy.engine.base.Engine SELECT artist._id AS artist__id, artist.name AS artist_name \n",
      "FROM artist \n",
      "WHERE artist._id = ?\n",
      "2018-07-10 17:35:23,895 INFO sqlalchemy.engine.base.Engine (1,)\n",
      "Led Zeppline Jr\n"
     ]
    }
   ],
   "source": [
    "for row in session.query(Artist).filter(Artist._id==1):\n",
    "    print(row.name)"
   ]
  },
  {
   "cell_type": "code",
   "execution_count": null,
   "metadata": {},
   "outputs": [],
   "source": []
  },
  {
   "cell_type": "code",
   "execution_count": 1,
   "metadata": {},
   "outputs": [],
   "source": [
    "#18.07.12\n",
    "from sqlalchemy import create_engine"
   ]
  },
  {
   "cell_type": "code",
   "execution_count": 2,
   "metadata": {},
   "outputs": [],
   "source": [
    "engine  = create_engine(\"sqlite:///Alchemy_ORM.db\",echo=True)"
   ]
  },
  {
   "cell_type": "markdown",
   "metadata": {},
   "source": [
    "#### automap"
   ]
  },
  {
   "cell_type": "code",
   "execution_count": 12,
   "metadata": {},
   "outputs": [],
   "source": [
    "from sqlalchemy.ext.automap import automap_base\n",
    "#reflect과정 필요\n",
    "# 앞서 declarative_base 로 비어있는 Base를 생성했던 것과 달리\n",
    "#자동으로 데이터를 받아와  Base 객체에 매핑"
   ]
  },
  {
   "cell_type": "code",
   "execution_count": 13,
   "metadata": {},
   "outputs": [],
   "source": [
    "Base = automap_base()"
   ]
  },
  {
   "cell_type": "code",
   "execution_count": 14,
   "metadata": {},
   "outputs": [
    {
     "name": "stdout",
     "output_type": "stream",
     "text": [
      "2018-07-12 10:52:57,259 INFO sqlalchemy.engine.base.Engine SELECT CAST('test plain returns' AS VARCHAR(60)) AS anon_1\n",
      "2018-07-12 10:52:57,273 INFO sqlalchemy.engine.base.Engine ()\n",
      "2018-07-12 10:52:57,275 INFO sqlalchemy.engine.base.Engine SELECT CAST('test unicode returns' AS VARCHAR(60)) AS anon_1\n",
      "2018-07-12 10:52:57,276 INFO sqlalchemy.engine.base.Engine ()\n",
      "2018-07-12 10:52:57,279 INFO sqlalchemy.engine.base.Engine SELECT name FROM sqlite_master WHERE type='table' ORDER BY name\n",
      "2018-07-12 10:52:57,281 INFO sqlalchemy.engine.base.Engine ()\n",
      "2018-07-12 10:52:57,285 INFO sqlalchemy.engine.base.Engine PRAGMA table_info(\"album\")\n",
      "2018-07-12 10:52:57,286 INFO sqlalchemy.engine.base.Engine ()\n",
      "2018-07-12 10:52:57,290 INFO sqlalchemy.engine.base.Engine SELECT sql FROM  (SELECT * FROM sqlite_master UNION ALL   SELECT * FROM sqlite_temp_master) WHERE name = 'album' AND type = 'table'\n",
      "2018-07-12 10:52:57,290 INFO sqlalchemy.engine.base.Engine ()\n",
      "2018-07-12 10:52:57,293 INFO sqlalchemy.engine.base.Engine PRAGMA foreign_key_list(\"album\")\n",
      "2018-07-12 10:52:57,296 INFO sqlalchemy.engine.base.Engine ()\n",
      "2018-07-12 10:52:57,298 INFO sqlalchemy.engine.base.Engine SELECT sql FROM  (SELECT * FROM sqlite_master UNION ALL   SELECT * FROM sqlite_temp_master) WHERE name = 'album' AND type = 'table'\n",
      "2018-07-12 10:52:57,298 INFO sqlalchemy.engine.base.Engine ()\n",
      "2018-07-12 10:52:57,306 INFO sqlalchemy.engine.base.Engine PRAGMA table_info(\"artist\")\n",
      "2018-07-12 10:52:57,307 INFO sqlalchemy.engine.base.Engine ()\n",
      "2018-07-12 10:52:57,310 INFO sqlalchemy.engine.base.Engine SELECT sql FROM  (SELECT * FROM sqlite_master UNION ALL   SELECT * FROM sqlite_temp_master) WHERE name = 'artist' AND type = 'table'\n",
      "2018-07-12 10:52:57,311 INFO sqlalchemy.engine.base.Engine ()\n",
      "2018-07-12 10:52:57,315 INFO sqlalchemy.engine.base.Engine PRAGMA foreign_key_list(\"artist\")\n",
      "2018-07-12 10:52:57,315 INFO sqlalchemy.engine.base.Engine ()\n",
      "2018-07-12 10:52:57,317 INFO sqlalchemy.engine.base.Engine SELECT sql FROM  (SELECT * FROM sqlite_master UNION ALL   SELECT * FROM sqlite_temp_master) WHERE name = 'artist' AND type = 'table'\n",
      "2018-07-12 10:52:57,319 INFO sqlalchemy.engine.base.Engine ()\n",
      "2018-07-12 10:52:57,321 INFO sqlalchemy.engine.base.Engine PRAGMA index_list(\"artist\")\n",
      "2018-07-12 10:52:57,322 INFO sqlalchemy.engine.base.Engine ()\n",
      "2018-07-12 10:52:57,324 INFO sqlalchemy.engine.base.Engine PRAGMA index_list(\"artist\")\n",
      "2018-07-12 10:52:57,326 INFO sqlalchemy.engine.base.Engine ()\n",
      "2018-07-12 10:52:57,328 INFO sqlalchemy.engine.base.Engine SELECT sql FROM  (SELECT * FROM sqlite_master UNION ALL   SELECT * FROM sqlite_temp_master) WHERE name = 'artist' AND type = 'table'\n",
      "2018-07-12 10:52:57,329 INFO sqlalchemy.engine.base.Engine ()\n",
      "2018-07-12 10:52:57,336 INFO sqlalchemy.engine.base.Engine PRAGMA index_list(\"album\")\n",
      "2018-07-12 10:52:57,337 INFO sqlalchemy.engine.base.Engine ()\n",
      "2018-07-12 10:52:57,339 INFO sqlalchemy.engine.base.Engine PRAGMA index_list(\"album\")\n",
      "2018-07-12 10:52:57,340 INFO sqlalchemy.engine.base.Engine ()\n",
      "2018-07-12 10:52:57,342 INFO sqlalchemy.engine.base.Engine SELECT sql FROM  (SELECT * FROM sqlite_master UNION ALL   SELECT * FROM sqlite_temp_master) WHERE name = 'album' AND type = 'table'\n",
      "2018-07-12 10:52:57,343 INFO sqlalchemy.engine.base.Engine ()\n",
      "2018-07-12 10:52:57,346 INFO sqlalchemy.engine.base.Engine PRAGMA table_info(\"genre\")\n",
      "2018-07-12 10:52:57,347 INFO sqlalchemy.engine.base.Engine ()\n",
      "2018-07-12 10:52:57,350 INFO sqlalchemy.engine.base.Engine SELECT sql FROM  (SELECT * FROM sqlite_master UNION ALL   SELECT * FROM sqlite_temp_master) WHERE name = 'genre' AND type = 'table'\n",
      "2018-07-12 10:52:57,351 INFO sqlalchemy.engine.base.Engine ()\n",
      "2018-07-12 10:52:57,353 INFO sqlalchemy.engine.base.Engine PRAGMA foreign_key_list(\"genre\")\n",
      "2018-07-12 10:52:57,355 INFO sqlalchemy.engine.base.Engine ()\n",
      "2018-07-12 10:52:57,356 INFO sqlalchemy.engine.base.Engine SELECT sql FROM  (SELECT * FROM sqlite_master UNION ALL   SELECT * FROM sqlite_temp_master) WHERE name = 'genre' AND type = 'table'\n",
      "2018-07-12 10:52:57,358 INFO sqlalchemy.engine.base.Engine ()\n",
      "2018-07-12 10:52:57,360 INFO sqlalchemy.engine.base.Engine PRAGMA index_list(\"genre\")\n",
      "2018-07-12 10:52:57,361 INFO sqlalchemy.engine.base.Engine ()\n",
      "2018-07-12 10:52:57,363 INFO sqlalchemy.engine.base.Engine PRAGMA index_list(\"genre\")\n",
      "2018-07-12 10:52:57,365 INFO sqlalchemy.engine.base.Engine ()\n",
      "2018-07-12 10:52:57,368 INFO sqlalchemy.engine.base.Engine SELECT sql FROM  (SELECT * FROM sqlite_master UNION ALL   SELECT * FROM sqlite_temp_master) WHERE name = 'genre' AND type = 'table'\n",
      "2018-07-12 10:52:57,369 INFO sqlalchemy.engine.base.Engine ()\n",
      "2018-07-12 10:52:57,372 INFO sqlalchemy.engine.base.Engine PRAGMA table_info(\"track\")\n",
      "2018-07-12 10:52:57,374 INFO sqlalchemy.engine.base.Engine ()\n",
      "2018-07-12 10:52:57,376 INFO sqlalchemy.engine.base.Engine SELECT sql FROM  (SELECT * FROM sqlite_master UNION ALL   SELECT * FROM sqlite_temp_master) WHERE name = 'track' AND type = 'table'\n",
      "2018-07-12 10:52:57,378 INFO sqlalchemy.engine.base.Engine ()\n",
      "2018-07-12 10:52:57,380 INFO sqlalchemy.engine.base.Engine PRAGMA foreign_key_list(\"track\")\n",
      "2018-07-12 10:52:57,382 INFO sqlalchemy.engine.base.Engine ()\n",
      "2018-07-12 10:52:57,384 INFO sqlalchemy.engine.base.Engine SELECT sql FROM  (SELECT * FROM sqlite_master UNION ALL   SELECT * FROM sqlite_temp_master) WHERE name = 'track' AND type = 'table'\n",
      "2018-07-12 10:52:57,385 INFO sqlalchemy.engine.base.Engine ()\n",
      "2018-07-12 10:52:57,388 INFO sqlalchemy.engine.base.Engine PRAGMA index_list(\"track\")\n",
      "2018-07-12 10:52:57,390 INFO sqlalchemy.engine.base.Engine ()\n",
      "2018-07-12 10:52:57,391 INFO sqlalchemy.engine.base.Engine PRAGMA index_list(\"track\")\n",
      "2018-07-12 10:52:57,392 INFO sqlalchemy.engine.base.Engine ()\n",
      "2018-07-12 10:52:57,394 INFO sqlalchemy.engine.base.Engine SELECT sql FROM  (SELECT * FROM sqlite_master UNION ALL   SELECT * FROM sqlite_temp_master) WHERE name = 'track' AND type = 'table'\n",
      "2018-07-12 10:52:57,396 INFO sqlalchemy.engine.base.Engine ()\n"
     ]
    }
   ],
   "source": [
    "Base.prepare(engine,reflect=True)"
   ]
  },
  {
   "cell_type": "code",
   "execution_count": 15,
   "metadata": {},
   "outputs": [],
   "source": [
    "from sqlalchemy.orm import sessionmaker"
   ]
  },
  {
   "cell_type": "code",
   "execution_count": 16,
   "metadata": {},
   "outputs": [],
   "source": [
    "Session = sessionmaker(bind=engine)\n",
    "#세션은 db에 쓸 때만 필요"
   ]
  },
  {
   "cell_type": "code",
   "execution_count": 17,
   "metadata": {},
   "outputs": [],
   "source": [
    "session = Session()"
   ]
  },
  {
   "cell_type": "code",
   "execution_count": 18,
   "metadata": {},
   "outputs": [],
   "source": [
    "artist = Base.classes.artist"
   ]
  },
  {
   "cell_type": "code",
   "execution_count": 19,
   "metadata": {},
   "outputs": [
    {
     "data": {
      "text/plain": [
       "sqlalchemy.ext.automap.artist"
      ]
     },
     "execution_count": 19,
     "metadata": {},
     "output_type": "execute_result"
    }
   ],
   "source": [
    "artist #클래스 자체가 아니라 클래스를 오토맵으로 감싼 형태"
   ]
  },
  {
   "cell_type": "code",
   "execution_count": 20,
   "metadata": {},
   "outputs": [
    {
     "data": {
      "text/plain": [
       "<sqlalchemy.orm.attributes.InstrumentedAttribute at 0x2bd49cfd678>"
      ]
     },
     "execution_count": 20,
     "metadata": {},
     "output_type": "execute_result"
    }
   ],
   "source": [
    "artist.name"
   ]
  },
  {
   "cell_type": "code",
   "execution_count": 21,
   "metadata": {},
   "outputs": [],
   "source": [
    "result = session.query(artist)"
   ]
  },
  {
   "cell_type": "code",
   "execution_count": 22,
   "metadata": {},
   "outputs": [
    {
     "data": {
      "text/plain": [
       "sqlalchemy.orm.query.Query"
      ]
     },
     "execution_count": 22,
     "metadata": {},
     "output_type": "execute_result"
    }
   ],
   "source": [
    "type(result) #automap 이용했기에 바로 출력안되는 객체"
   ]
  },
  {
   "cell_type": "code",
   "execution_count": 17,
   "metadata": {},
   "outputs": [
    {
     "name": "stdout",
     "output_type": "stream",
     "text": [
      "2018-07-12 10:30:19,074 INFO sqlalchemy.engine.base.Engine SELECT artist._id AS artist__id, artist.name AS artist_name \n",
      "FROM artist\n",
      "2018-07-12 10:30:19,076 INFO sqlalchemy.engine.base.Engine ()\n",
      "<class 'sqlalchemy.ext.automap.artist'>\n",
      "1 Led Zeppline Jr\n",
      "<class 'sqlalchemy.ext.automap.artist'>\n",
      "2 AC/DC\n"
     ]
    }
   ],
   "source": [
    "for row in result:\n",
    "    print(type(row))\n",
    "    print(row._id, row.name) #클래스 어트리뷰트 접근하듯이 "
   ]
  },
  {
   "cell_type": "markdown",
   "metadata": {},
   "source": [
    "### Relationship\n",
    "\n",
    "    - db의 relationship을 클래스에 알려주는 작업\n",
    "\n",
    "    - relationship\n",
    "        - Provide a relationship between two mapped classes\n",
    "        - This corresponds to a parent-child or associative table relationship\n",
    "\n",
    "    - back_populates / backref\n",
    "        - indicates the string name of a property to be placed on the related mapper’s class that will handle this relationship in the other direction\n",
    "\n",
    "    - uselist\n",
    "        - a boolean that indicates if this property should be loaded as a list or a scalar\n",
    "        - N:N 관계가 기본, uselist 옵션으로 조정"
   ]
  },
  {
   "cell_type": "code",
   "execution_count": 25,
   "metadata": {},
   "outputs": [],
   "source": [
    "#커널 재시작 필요\n",
    "from sqlalchemy.orm import relationship\n",
    "from sqlalchemy import create_engine\n",
    "from sqlalchemy import Column, Integer, String, ForeignKey\n",
    "from sqlalchemy.ext.declarative import declarative_base"
   ]
  },
  {
   "cell_type": "code",
   "execution_count": 26,
   "metadata": {},
   "outputs": [],
   "source": [
    "Base = declarative_base() # 앞서 정의한 아래 클래스들 사용위해 declarative_base"
   ]
  },
  {
   "cell_type": "code",
   "execution_count": 27,
   "metadata": {},
   "outputs": [],
   "source": [
    "class Artist(Base):\n",
    "    __tablename__ = 'artist'\n",
    "    \n",
    "    _id = Column(Integer, primary_key=True)\n",
    "    name = Column(String)\n",
    "    #relationship 객체 추가\n",
    "    album = relationship('Album', back_populates='artist')\n",
    "    \n",
    "    def __repr__(self):\n",
    "        return (\"<Table artist(name= '%s' )>\" % (self.name))\n",
    "    \n",
    "class Album(Base):\n",
    "    __tablename__ = 'album'\n",
    "    \n",
    "    _id = Column(Integer, primary_key=True)\n",
    "    title = Column(String)\n",
    "    artist_id = Column(Integer, ForeignKey('artist._id'))\n",
    "    #\n",
    "    artist = relationship(\"Artist\", back_populates='album', uselist = False)\n",
    "    #Artist 클래스와 관계가 있고 역으로 추적하면 album을 만날수있다\n",
    "    \n",
    "class Genre(Base):\n",
    "    __tablename__ = 'genre'\n",
    "    \n",
    "    _id = Column(Integer, primary_key=True)\n",
    "    name = Column(String)\n",
    "    \n",
    "class Track(Base):\n",
    "    __tablename__ = 'track'\n",
    "    \n",
    "    _id = Column(Integer, primary_key=True)\n",
    "    title = Column(String)\n",
    "    album_id = Column(Integer, ForeignKey('album._id'))\n",
    "    genre_id = Column(Integer, ForeignKey('genre._id'))\n",
    "    "
   ]
  },
  {
   "cell_type": "code",
   "execution_count": 28,
   "metadata": {},
   "outputs": [],
   "source": [
    "artist1 = Artist(name='Led Zeppline' )"
   ]
  },
  {
   "cell_type": "code",
   "execution_count": 29,
   "metadata": {},
   "outputs": [],
   "source": [
    "artist1.album = [Album(title='IV'), Album(title=\"Who who\")]"
   ]
  },
  {
   "cell_type": "code",
   "execution_count": 32,
   "metadata": {},
   "outputs": [
    {
     "name": "stdout",
     "output_type": "stream",
     "text": [
      "Led Zeppline IV Who who\n"
     ]
    }
   ],
   "source": [
    "print( artist1.name, artist1.album[0].title, artist1.album[1].title)\n",
    "# artisit1 Led Zepplin이 album IV ,Who who 와 관계있는데\n",
    "# artisit1의 어트리뷰트로 직접 album 리스트를 갖는 모양\n",
    "# 클래스 딴의 이야기"
   ]
  },
  {
   "cell_type": "code",
   "execution_count": 33,
   "metadata": {},
   "outputs": [],
   "source": [
    "artist1.album[0].title = 'test' #그냥 수정도 가능"
   ]
  },
  {
   "cell_type": "code",
   "execution_count": 35,
   "metadata": {},
   "outputs": [
    {
     "name": "stdout",
     "output_type": "stream",
     "text": [
      "test\n"
     ]
    }
   ],
   "source": [
    "print(  artist1.album[0].title)"
   ]
  },
  {
   "cell_type": "code",
   "execution_count": 37,
   "metadata": {},
   "outputs": [],
   "source": [
    "session = Session()"
   ]
  },
  {
   "cell_type": "code",
   "execution_count": 38,
   "metadata": {},
   "outputs": [],
   "source": [
    "session.add(artist1)"
   ]
  },
  {
   "cell_type": "code",
   "execution_count": 40,
   "metadata": {},
   "outputs": [
    {
     "name": "stdout",
     "output_type": "stream",
     "text": [
      "2018-07-12 11:00:37,868 INFO sqlalchemy.engine.base.Engine BEGIN (implicit)\n",
      "2018-07-12 11:00:37,871 INFO sqlalchemy.engine.base.Engine INSERT INTO artist (name) VALUES (?)\n",
      "2018-07-12 11:00:37,873 INFO sqlalchemy.engine.base.Engine ('Led Zeppline',)\n",
      "2018-07-12 11:00:37,878 INFO sqlalchemy.engine.base.Engine INSERT INTO album (title, artist_id) VALUES (?, ?)\n",
      "2018-07-12 11:00:37,880 INFO sqlalchemy.engine.base.Engine ('test', 3)\n",
      "2018-07-12 11:00:37,882 INFO sqlalchemy.engine.base.Engine INSERT INTO album (title, artist_id) VALUES (?, ?)\n",
      "2018-07-12 11:00:37,883 INFO sqlalchemy.engine.base.Engine ('Who who', 3)\n",
      "2018-07-12 11:00:37,885 INFO sqlalchemy.engine.base.Engine COMMIT\n"
     ]
    }
   ],
   "source": [
    "session.commit()"
   ]
  }
 ],
 "metadata": {
  "kernelspec": {
   "display_name": "Python 3",
   "language": "python",
   "name": "python3"
  },
  "language_info": {
   "codemirror_mode": {
    "name": "ipython",
    "version": 3
   },
   "file_extension": ".py",
   "mimetype": "text/x-python",
   "name": "python",
   "nbconvert_exporter": "python",
   "pygments_lexer": "ipython3",
   "version": "3.6.4"
  }
 },
 "nbformat": 4,
 "nbformat_minor": 2
}
