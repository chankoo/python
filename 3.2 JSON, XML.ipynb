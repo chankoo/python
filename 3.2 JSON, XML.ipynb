{
 "cells": [
  {
   "attachments": {},
   "cell_type": "markdown",
   "metadata": {},
   "source": [
    "![278](https://user-images.githubusercontent.com/38183218/42991353-3b76aaf6-8c40-11e8-971a-f78e09250692.png)"
   ]
  },
  {
   "cell_type": "markdown",
   "metadata": {},
   "source": [
    "일반적으로 서버에서 클라이언트로 데이터를 보낼 때 사용하는 양식. 클라이언트가 사용하는 언어에 관계 없이 통일된 데이터를 주고받을 수 있도록, 일정한 패턴을 지닌 문자열을 생성해 내보내면 클라이언트는 그를 해석해 데이터를 자기만의 방식으로 온전히 저장, 표시할 수 있게 된다."
   ]
  },
  {
   "cell_type": "markdown",
   "metadata": {},
   "source": [
    "- What is JSON?\n",
    "    - JSON stands for ___JavaScript Object Notation___\n",
    "    - JS Object is simillar with dictionary\n",
    "    - Designed for ___human-readable data___ interchange\n",
    "    - Extended from the JavaScript scripting language\n",
    "    - JSON Internet Media type is application/json, extention is .json\n",
    "    \n",
    "- Why use JSON?\n",
    "    - Used for serializing and transmitting structured data over network connection 직렬화, 전송"
   ]
  },
  {
   "attachments": {},
   "cell_type": "markdown",
   "metadata": {},
   "source": [
    "- Characteristics\n",
    "    - Easy to read and write\n",
    "    - Programming Language independent\n",
    "    - A lightweight text-based interchange format 키 밸류만 보내서 경량화됨\n",
    "\n",
    "![279](https://user-images.githubusercontent.com/38183218/42991354-3b9b0824-8c40-11e8-9218-4594043ccb5f.png)"
   ]
  },
  {
   "attachments": {},
   "cell_type": "markdown",
   "metadata": {},
   "source": [
    "![282](https://user-images.githubusercontent.com/38183218/42991355-3bbf15a2-8c40-11e8-8c36-2f8c550f6a14.png)"
   ]
  },
  {
   "attachments": {},
   "cell_type": "markdown",
   "metadata": {},
   "source": [
    "- JSON Concept\n",
    "\n",
    "![284](https://user-images.githubusercontent.com/38183218/42991356-3be1c656-8c40-11e8-91aa-c08bed11d02b.png)\n",
    "\n",
    "    - JSON Object\n",
    "        - name, value pairs\n",
    "    - JSON Array\n",
    "        - Ordered collections\n"
   ]
  },
  {
   "attachments": {},
   "cell_type": "markdown",
   "metadata": {},
   "source": [
    "![285](https://user-images.githubusercontent.com/38183218/42991357-3c04fd60-8c40-11e8-9659-97814f402812.jpg)"
   ]
  },
  {
   "attachments": {},
   "cell_type": "markdown",
   "metadata": {},
   "source": [
    "- JSON Hierarchy\n",
    "\n",
    "![286](https://user-images.githubusercontent.com/38183218/42991358-3c28a4cc-8c40-11e8-8fd5-2e672f234d86.png)"
   ]
  },
  {
   "attachments": {},
   "cell_type": "markdown",
   "metadata": {},
   "source": [
    "- JSON with Python\n",
    "![297](https://user-images.githubusercontent.com/38183218/42991359-3c4ec260-8c40-11e8-85c1-675da9315f01.png)"
   ]
  },
  {
   "cell_type": "code",
   "execution_count": 1,
   "metadata": {},
   "outputs": [],
   "source": [
    "import json"
   ]
  },
  {
   "cell_type": "markdown",
   "metadata": {},
   "source": [
    "- Encoding\n",
    "    - dump, dumps # 인자에 fp 유무가 차이점\n",
    "   \n",
    "- Decoding\n",
    "    - load, loads #역시 인자에 fp유무가 차이\n"
   ]
  },
  {
   "attachments": {},
   "cell_type": "markdown",
   "metadata": {},
   "source": [
    "![298](https://user-images.githubusercontent.com/38183218/42991360-3c948a52-8c40-11e8-8726-8c7c70b13d71.png)\n",
    "\n",
    "대부분 1:1로 매핑가능"
   ]
  },
  {
   "cell_type": "code",
   "execution_count": 3,
   "metadata": {},
   "outputs": [],
   "source": [
    "name = (\"Kim\", \"Lee\", \"Park\")\n",
    "age = [30,28,31]\n",
    "person = {\"name\":\"Kim\", \"age\":30, \"car\":False}"
   ]
  },
  {
   "cell_type": "markdown",
   "metadata": {},
   "source": [
    "Serialize _obj_ to a JSON formatted str using this __conversion table__. The arguments have the same meaning as in __dump()__."
   ]
  },
  {
   "cell_type": "code",
   "execution_count": 4,
   "metadata": {},
   "outputs": [],
   "source": [
    "nameStr = json.dumps(name)\n",
    "ageStr = json.dumps(age)\n",
    "personStr = json.dumps(person, indent= \"    \")"
   ]
  },
  {
   "cell_type": "code",
   "execution_count": 10,
   "metadata": {},
   "outputs": [
    {
     "data": {
      "text/plain": [
       "str"
      ]
     },
     "execution_count": 10,
     "metadata": {},
     "output_type": "execute_result"
    }
   ],
   "source": [
    "type(nameStr)"
   ]
  },
  {
   "cell_type": "code",
   "execution_count": 8,
   "metadata": {},
   "outputs": [
    {
     "name": "stdout",
     "output_type": "stream",
     "text": [
      "{\n",
      "    \"name\": \"Kim\",\n",
      "    \"age\": 30,\n",
      "    \"car\": false\n",
      "}\n"
     ]
    }
   ],
   "source": [
    "print(personStr)"
   ]
  },
  {
   "cell_type": "code",
   "execution_count": 11,
   "metadata": {},
   "outputs": [
    {
     "name": "stdout",
     "output_type": "stream",
     "text": [
      "[\"\\uae40\", \"\\uc774\", \"\\ubc15\"]\n"
     ]
    }
   ],
   "source": [
    "kname = ('김','이','박')\n",
    "knameStr = json.dumps(kname) #유니코드의 바이트화\n",
    "print(knameStr)"
   ]
  },
  {
   "cell_type": "code",
   "execution_count": 12,
   "metadata": {},
   "outputs": [
    {
     "name": "stdout",
     "output_type": "stream",
     "text": [
      "[\"김\", \"이\", \"박\"]\n"
     ]
    }
   ],
   "source": [
    "knameStr = json.dumps(kname, ensure_ascii = False) \n",
    "print(knameStr) #바이트화 안하면 그대로 찍힘"
   ]
  },
  {
   "cell_type": "code",
   "execution_count": 14,
   "metadata": {},
   "outputs": [],
   "source": [
    "personObj = json.loads(personStr)"
   ]
  },
  {
   "cell_type": "code",
   "execution_count": 15,
   "metadata": {},
   "outputs": [
    {
     "data": {
      "text/plain": [
       "dict"
      ]
     },
     "execution_count": 15,
     "metadata": {},
     "output_type": "execute_result"
    }
   ],
   "source": [
    "type(personObj)"
   ]
  },
  {
   "cell_type": "markdown",
   "metadata": {},
   "source": [
    "- 파일에 dump"
   ]
  },
  {
   "cell_type": "code",
   "execution_count": 16,
   "metadata": {},
   "outputs": [
    {
     "data": {
      "text/plain": [
       "{'age': 30, 'car': ['레이', '모닝'], 'name': 'Kim'}"
      ]
     },
     "execution_count": 16,
     "metadata": {},
     "output_type": "execute_result"
    }
   ],
   "source": [
    "personObj['car'] = ['레이','모닝']\n",
    "personObj"
   ]
  },
  {
   "cell_type": "code",
   "execution_count": 17,
   "metadata": {},
   "outputs": [],
   "source": [
    "with open(\"test.json\", 'w') as fp:\n",
    "    json.dump(personObj, fp)"
   ]
  },
  {
   "cell_type": "code",
   "execution_count": 18,
   "metadata": {},
   "outputs": [],
   "source": [
    "with open('test.json','r') as fp:\n",
    "    loadObj = json.load(fp) "
   ]
  },
  {
   "cell_type": "code",
   "execution_count": 19,
   "metadata": {},
   "outputs": [
    {
     "data": {
      "text/plain": [
       "{'age': 30, 'car': ['레이', '모닝'], 'name': 'Kim'}"
      ]
     },
     "execution_count": 19,
     "metadata": {},
     "output_type": "execute_result"
    }
   ],
   "source": [
    "loadObj #유니코드도 잘읽어옴"
   ]
  },
  {
   "cell_type": "code",
   "execution_count": 5,
   "metadata": {},
   "outputs": [],
   "source": [
    "import json\n",
    "import urllib.request\n",
    "\n",
    "url = \"https://jsonplaceholder.typicode.com/posts/1\""
   ]
  },
  {
   "cell_type": "code",
   "execution_count": 37,
   "metadata": {},
   "outputs": [
    {
     "name": "stdout",
     "output_type": "stream",
     "text": [
      "<class 'http.client.HTTPResponse'>\n"
     ]
    }
   ],
   "source": [
    "resq = urllib.request.urlopen(url,)\n",
    "print(type(resq))"
   ]
  },
  {
   "cell_type": "code",
   "execution_count": 28,
   "metadata": {},
   "outputs": [
    {
     "name": "stdout",
     "output_type": "stream",
     "text": [
      "<class 'bytes'>\n"
     ]
    },
    {
     "data": {
      "text/plain": [
       "b'{\\n  \"userId\": 1,\\n  \"id\": 1,\\n  \"title\": \"sunt aut facere repellat provident occaecati excepturi optio reprehenderit\",\\n  \"body\": \"quia et suscipit\\\\nsuscipit recusandae consequuntur expedita et cum\\\\nreprehenderit molestiae ut ut quas totam\\\\nnostrum rerum est autem sunt rem eveniet architecto\"\\n}'"
      ]
     },
     "execution_count": 28,
     "metadata": {},
     "output_type": "execute_result"
    }
   ],
   "source": [
    "text = resq.read() \n",
    "print(type(text))#바이트단위로 받아옴\n",
    "text"
   ]
  },
  {
   "cell_type": "code",
   "execution_count": 29,
   "metadata": {},
   "outputs": [],
   "source": [
    "textStr = text.decode(\"utf-8\")"
   ]
  },
  {
   "cell_type": "code",
   "execution_count": 33,
   "metadata": {},
   "outputs": [
    {
     "name": "stdout",
     "output_type": "stream",
     "text": [
      "<class 'dict'>\n",
      "{'userId': 1, 'id': 1, 'title': 'sunt aut facere repellat provident occaecati excepturi optio reprehenderit', 'body': 'quia et suscipit\\nsuscipit recusandae consequuntur expedita et cum\\nreprehenderit molestiae ut ut quas totam\\nnostrum rerum est autem sunt rem eveniet architecto'}\n"
     ]
    }
   ],
   "source": [
    "respObj = json.loads(textStr)\n",
    "print(type(respObj))\n",
    "print(respObj)"
   ]
  },
  {
   "cell_type": "code",
   "execution_count": 34,
   "metadata": {},
   "outputs": [
    {
     "data": {
      "text/plain": [
       "'sunt aut facere repellat provident occaecati excepturi optio reprehenderit'"
      ]
     },
     "execution_count": 34,
     "metadata": {},
     "output_type": "execute_result"
    }
   ],
   "source": [
    "respObj['title']"
   ]
  },
  {
   "cell_type": "code",
   "execution_count": 36,
   "metadata": {},
   "outputs": [
    {
     "name": "stdout",
     "output_type": "stream",
     "text": [
      "userId 1\n",
      "<class 'int'>\n",
      "id 1\n",
      "<class 'int'>\n",
      "title sunt aut facere repellat provident occaecati excepturi optio reprehenderit\n",
      "<class 'str'>\n",
      "body quia et suscipit\n",
      "suscipit recusandae consequuntur expedita et cum\n",
      "reprehenderit molestiae ut ut quas totam\n",
      "nostrum rerum est autem sunt rem eveniet architecto\n",
      "<class 'str'>\n"
     ]
    }
   ],
   "source": [
    "for k,v in respObj.items():\n",
    "    print(k,v)\n",
    "    print(type(v)) #밸류 객체의 타입은 아직 모르니 주의 필요(nested 됐을 가능성)"
   ]
  },
  {
   "cell_type": "markdown",
   "metadata": {},
   "source": [
    "#### 예제\n",
    "한국환경공단_대기오염정보 조회 서비스\n",
    "\n",
    "시도별 실시간 측정정보 조회\n",
    "\n",
    "https://www.data.go.kr/dataset/15000581/openapi.do"
   ]
  },
  {
   "cell_type": "code",
   "execution_count": 62,
   "metadata": {},
   "outputs": [],
   "source": [
    "import json\n",
    "import urllib.request\n",
    "import urllib.parse"
   ]
  },
  {
   "cell_type": "code",
   "execution_count": 60,
   "metadata": {},
   "outputs": [],
   "source": [
    "url = \"http://openapi.airkorea.or.kr/openapi/services/rest/ArpltnInforInqireSvc/getCtprvnRltmMesureDnsty?\""
   ]
  },
  {
   "cell_type": "code",
   "execution_count": 61,
   "metadata": {},
   "outputs": [
    {
     "data": {
      "text/plain": [
       "'http://openapi.airkorea.or.kr/openapi/services/rest/ArpltnInforInqireSvc/getCtprvnRltmMesureDnsty?'"
      ]
     },
     "execution_count": 61,
     "metadata": {},
     "output_type": "execute_result"
    }
   ],
   "source": [
    "url"
   ]
  },
  {
   "cell_type": "code",
   "execution_count": 115,
   "metadata": {},
   "outputs": [],
   "source": [
    "params = {\n",
    "    'serviceKey' : \"TG%2FEJr%2F47wQsd1jC33zgwMs%2By4F85D9ICCh32kI99AmRf4rm4ZxYtcdx%2FLIcEr8jPz3ifS0bDmbhBA%2F9vGdMYQ%3D%3D\",\n",
    "    'numOfRows' :10,\n",
    "    'pageSize' :10,\n",
    "    'pageNo' :1,\n",
    "    'startPage':1,\n",
    "    'sidoName':None,\n",
    "    'ver':'1.3',\n",
    "    '_returnType':'json'\n",
    "}"
   ]
  },
  {
   "cell_type": "code",
   "execution_count": 116,
   "metadata": {},
   "outputs": [],
   "source": [
    "params['sidoName'] = '서울'\n",
    "# 서울, 부산, 대구, 인천, 광주, 대전, 울산, 경기, 강원, 충북, 충남, 전북, 전남, 경북, 경남, 제주, 세종"
   ]
  },
  {
   "cell_type": "code",
   "execution_count": 117,
   "metadata": {},
   "outputs": [
    {
     "data": {
      "text/plain": [
       "{'_returnType': 'json',\n",
       " 'numOfRows': 10,\n",
       " 'pageNo': 1,\n",
       " 'pageSize': 10,\n",
       " 'serviceKey': 'TG%2FEJr%2F47wQsd1jC33zgwMs%2By4F85D9ICCh32kI99AmRf4rm4ZxYtcdx%2FLIcEr8jPz3ifS0bDmbhBA%2F9vGdMYQ%3D%3D',\n",
       " 'sidoName': '서울',\n",
       " 'startPage': 1,\n",
       " 'ver': '1.3'}"
      ]
     },
     "execution_count": 117,
     "metadata": {},
     "output_type": "execute_result"
    }
   ],
   "source": [
    "params"
   ]
  },
  {
   "cell_type": "code",
   "execution_count": 128,
   "metadata": {},
   "outputs": [],
   "source": [
    "# 서비스키는 우선 unquote 해줘야 이후에 알맞은 값이 나옴\n",
    "# 아니면 SERVICE KEY IS NOT REGISTERED ERROR.\n",
    "params['serviceKey']  = urllib.parse.unquote(params['serviceKey']) "
   ]
  },
  {
   "cell_type": "code",
   "execution_count": 129,
   "metadata": {},
   "outputs": [],
   "source": [
    "paramUrl = urllib.parse.urlencode(params) #parms을 짤라서 url(스트링)으로 변환"
   ]
  },
  {
   "cell_type": "code",
   "execution_count": 130,
   "metadata": {
    "scrolled": true
   },
   "outputs": [
    {
     "name": "stdout",
     "output_type": "stream",
     "text": [
      "<class 'str'>\n"
     ]
    },
    {
     "data": {
      "text/plain": [
       "'serviceKey=TG%2FEJr%2F47wQsd1jC33zgwMs%2By4F85D9ICCh32kI99AmRf4rm4ZxYtcdx%2FLIcEr8jPz3ifS0bDmbhBA%2F9vGdMYQ%3D%3D&numOfRows=10&pageSize=10&pageNo=1&startPage=1&sidoName=%EC%84%9C%EC%9A%B8&ver=1.3&_returnType=json'"
      ]
     },
     "execution_count": 130,
     "metadata": {},
     "output_type": "execute_result"
    }
   ],
   "source": [
    "print(type(paramUrl)) #결과는 str\n",
    "paramUrl"
   ]
  },
  {
   "cell_type": "code",
   "execution_count": 131,
   "metadata": {},
   "outputs": [],
   "source": [
    "paramBytes = paramUrl.encode(\"utf-8\") #request에 str 전달불가, bytes타입으로 바꿔줘야 "
   ]
  },
  {
   "cell_type": "code",
   "execution_count": 132,
   "metadata": {},
   "outputs": [
    {
     "data": {
      "text/plain": [
       "b'serviceKey=TG%2FEJr%2F47wQsd1jC33zgwMs%2By4F85D9ICCh32kI99AmRf4rm4ZxYtcdx%2FLIcEr8jPz3ifS0bDmbhBA%2F9vGdMYQ%3D%3D&numOfRows=10&pageSize=10&pageNo=1&startPage=1&sidoName=%EC%84%9C%EC%9A%B8&ver=1.3&_returnType=json'"
      ]
     },
     "execution_count": 132,
     "metadata": {},
     "output_type": "execute_result"
    }
   ],
   "source": [
    "paramBytes"
   ]
  },
  {
   "cell_type": "code",
   "execution_count": 133,
   "metadata": {},
   "outputs": [
    {
     "data": {
      "text/plain": [
       "<urllib.request.Request at 0x16c3d71b6d8>"
      ]
     },
     "execution_count": 133,
     "metadata": {},
     "output_type": "execute_result"
    }
   ],
   "source": [
    "req = urllib.request.Request(url, data=paramBytes) #paramBytes인자로 Request 객체만든다\n",
    "req"
   ]
  },
  {
   "cell_type": "code",
   "execution_count": 134,
   "metadata": {},
   "outputs": [
    {
     "data": {
      "text/plain": [
       "http.client.HTTPResponse"
      ]
     },
     "execution_count": 134,
     "metadata": {},
     "output_type": "execute_result"
    }
   ],
   "source": [
    "res = urllib.request.urlopen(req)\n",
    "type(res)"
   ]
  },
  {
   "cell_type": "code",
   "execution_count": 135,
   "metadata": {},
   "outputs": [],
   "source": [
    "result = res.read()"
   ]
  },
  {
   "cell_type": "code",
   "execution_count": 136,
   "metadata": {},
   "outputs": [
    {
     "data": {
      "text/plain": [
       "b'{\"list\":[{\"_returnType\":\"json\",\"coGrade\":\"1\",\"coValue\":\"0.3\",\"dataTerm\":\"\",\"dataTime\":\"2018-07-13 16:00\",\"khaiGrade\":\"2\",\"khaiValue\":\"53\",\"mangName\":\"\\xeb\\x8f\\x84\\xec\\x8b\\x9c\\xeb\\x8c\\x80\\xea\\xb8\\xb0\",\"no2Grade\":\"1\",\"no2Value\":\"0.017\",\"numOfRows\":\"10\",\"o3Grade\":\"2\",\"o3Value\":\"0.034\",\"pageNo\":\"1\",\"pm10Grade\":\"1\",\"pm10Grade1h\":\"1\",\"pm10Value\":\"17\",\"pm10Value24\":\"20\",\"pm25Grade\":\"1\",\"pm25Grade1h\":\"1\",\"pm25Value\":\"11\",\"pm25Value24\":\"12\",\"resultCode\":\"\",\"resultMsg\":\"\",\"rnum\":0,\"serviceKey\":\"\",\"sidoName\":\"\",\"so2Grade\":\"1\",\"so2Value\":\"0.004\",\"stationCode\":\"\",\"stationName\":\"\\xec\\xa4\\x91\\xea\\xb5\\xac\",\"totalCount\":\"\",\"ver\":\"\"},{\"_returnType\":\"json\",\"coGrade\":\"1\",\"coValue\":\"0.5\",\"dataTerm\":\"\",\"dataTime\":\"2018-07-13 16:00\",\"khaiGrade\":\"2\",\"khaiValue\":\"66\",\"mangName\":\"\\xeb\\x8f\\x84\\xeb\\xa1\\x9c\\xeb\\xb3\\x80\\xeb\\x8c\\x80\\xea\\xb8\\xb0\",\"no2Grade\":\"2\",\"no2Value\":\"0.040\",\"numOfRows\":\"10\",\"o3Grade\":\"1\",\"o3Value\":\"0.025\",\"pageNo\":\"1\",\"pm10Grade\":\"2\",\"pm10Grade1h\":\"2\",\"pm10Value\":\"31\",\"pm10Value24\":\"32\",\"pm25Grade\":\"1\",\"pm25Grade1h\":\"1\",\"pm25Value\":\"15\",\"pm25Value24\":\"13\",\"resultCode\":\"\",\"resultMsg\":\"\",\"rnum\":0,\"serviceKey\":\"\",\"sidoName\":\"\",\"so2Grade\":\"1\",\"so2Value\":\"0.005\",\"stationCode\":\"\",\"stationName\":\"\\xed\\x95\\x9c\\xea\\xb0\\x95\\xeb\\x8c\\x80\\xeb\\xa1\\x9c\",\"totalCount\":\"\",\"ver\":\"\"},{\"_returnType\":\"json\",\"coGrade\":\"1\",\"coValue\":\"0.4\",\"dataTerm\":\"\",\"dataTime\":\"2018-07-13 16:00\",\"khaiGrade\":\"2\",\"khaiValue\":\"51\",\"mangName\":\"\\xeb\\x8f\\x84\\xec\\x8b\\x9c\\xeb\\x8c\\x80\\xea\\xb8\\xb0\",\"no2Grade\":\"1\",\"no2Value\":\"0.023\",\"numOfRows\":\"10\",\"o3Grade\":\"1\",\"o3Value\":\"0.028\",\"pageNo\":\"1\",\"pm10Grade\":\"1\",\"pm10Grade1h\":\"1\",\"pm10Value\":\"18\",\"pm10Value24\":\"19\",\"pm25Grade\":\"2\",\"pm25Grade1h\":\"1\",\"pm25Value\":\"14\",\"pm25Value24\":\"16\",\"resultCode\":\"\",\"resultMsg\":\"\",\"rnum\":0,\"serviceKey\":\"\",\"sidoName\":\"\",\"so2Grade\":\"\",\"so2Value\":\"-\",\"stationCode\":\"\",\"stationName\":\"\\xec\\xa2\\x85\\xeb\\xa1\\x9c\\xea\\xb5\\xac\",\"totalCount\":\"\",\"ver\":\"\"},{\"_returnType\":\"json\",\"coGrade\":\"1\",\"coValue\":\"0.5\",\"dataTerm\":\"\",\"dataTime\":\"2018-07-13 16:00\",\"khaiGrade\":\"2\",\"khaiValue\":\"66\",\"mangName\":\"\\xeb\\x8f\\x84\\xeb\\xa1\\x9c\\xeb\\xb3\\x80\\xeb\\x8c\\x80\\xea\\xb8\\xb0\",\"no2Grade\":\"2\",\"no2Value\":\"0.040\",\"numOfRows\":\"10\",\"o3Grade\":\"1\",\"o3Value\":\"0.029\",\"pageNo\":\"1\",\"pm10Grade\":\"1\",\"pm10Grade1h\":\"1\",\"pm10Value\":\"20\",\"pm10Value24\":\"23\",\"pm25Grade\":\"2\",\"pm25Grade1h\":\"\",\"pm25Value\":\"-\",\"pm25Value24\":\"18\",\"resultCode\":\"\",\"resultMsg\":\"\",\"rnum\":0,\"serviceKey\":\"\",\"sidoName\":\"\",\"so2Grade\":\"1\",\"so2Value\":\"0.006\",\"stationCode\":\"\",\"stationName\":\"\\xec\\xb2\\xad\\xea\\xb3\\x84\\xec\\xb2\\x9c\\xeb\\xa1\\x9c\",\"totalCount\":\"\",\"ver\":\"\"},{\"_returnType\":\"json\",\"coGrade\":\"1\",\"coValue\":\"0.4\",\"dataTerm\":\"\",\"dataTime\":\"2018-07-13 16:00\",\"khaiGrade\":\"1\",\"khaiValue\":\"47\",\"mangName\":\"\\xeb\\x8f\\x84\\xeb\\xa1\\x9c\\xeb\\xb3\\x80\\xeb\\x8c\\x80\\xea\\xb8\\xb0\",\"no2Grade\":\"1\",\"no2Value\":\"0.028\",\"numOfRows\":\"10\",\"o3Grade\":\"1\",\"o3Value\":\"0.025\",\"pageNo\":\"1\",\"pm10Grade\":\"1\",\"pm10Grade1h\":\"1\",\"pm10Value\":\"16\",\"pm10Value24\":\"20\",\"pm25Grade\":\"1\",\"pm25Grade1h\":\"1\",\"pm25Value\":\"10\",\"pm25Value24\":\"12\",\"resultCode\":\"\",\"resultMsg\":\"\",\"rnum\":0,\"serviceKey\":\"\",\"sidoName\":\"\",\"so2Grade\":\"1\",\"so2Value\":\"0.003\",\"stationCode\":\"\",\"stationName\":\"\\xec\\xa2\\x85\\xeb\\xa1\\x9c\",\"totalCount\":\"\",\"ver\":\"\"},{\"_returnType\":\"json\",\"coGrade\":\"1\",\"coValue\":\"0.3\",\"dataTerm\":\"\",\"dataTime\":\"2018-07-13 16:00\",\"khaiGrade\":\"2\",\"khaiValue\":\"58\",\"mangName\":\"\\xeb\\x8f\\x84\\xec\\x8b\\x9c\\xeb\\x8c\\x80\\xea\\xb8\\xb0\",\"no2Grade\":\"1\",\"no2Value\":\"0.023\",\"numOfRows\":\"10\",\"o3Grade\":\"2\",\"o3Value\":\"0.039\",\"pageNo\":\"1\",\"pm10Grade\":\"1\",\"pm10Grade1h\":\"1\",\"pm10Value\":\"16\",\"pm10Value24\":\"17\",\"pm25Grade\":\"1\",\"pm25Grade1h\":\"1\",\"pm25Value\":\"12\",\"pm25Value24\":\"11\",\"resultCode\":\"\",\"resultMsg\":\"\",\"rnum\":0,\"serviceKey\":\"\",\"sidoName\":\"\",\"so2Grade\":\"1\",\"so2Value\":\"0.003\",\"stationCode\":\"\",\"stationName\":\"\\xec\\x9a\\xa9\\xec\\x82\\xb0\\xea\\xb5\\xac\",\"totalCount\":\"\",\"ver\":\"\"},{\"_returnType\":\"json\",\"coGrade\":\"1\",\"coValue\":\"0.6\",\"dataTerm\":\"\",\"dataTime\":\"2018-07-13 16:00\",\"khaiGrade\":\"2\",\"khaiValue\":\"56\",\"mangName\":\"\\xeb\\x8f\\x84\\xec\\x8b\\x9c\\xeb\\x8c\\x80\\xea\\xb8\\xb0\",\"no2Grade\":\"1\",\"no2Value\":\"0.013\",\"numOfRows\":\"10\",\"o3Grade\":\"2\",\"o3Value\":\"0.037\",\"pageNo\":\"1\",\"pm10Grade\":\"1\",\"pm10Grade1h\":\"1\",\"pm10Value\":\"18\",\"pm10Value24\":\"19\",\"pm25Grade\":\"1\",\"pm25Grade1h\":\"1\",\"pm25Value\":\"12\",\"pm25Value24\":\"12\",\"resultCode\":\"\",\"resultMsg\":\"\",\"rnum\":0,\"serviceKey\":\"\",\"sidoName\":\"\",\"so2Grade\":\"1\",\"so2Value\":\"0.006\",\"stationCode\":\"\",\"stationName\":\"\\xea\\xb4\\x91\\xec\\xa7\\x84\\xea\\xb5\\xac\",\"totalCount\":\"\",\"ver\":\"\"},{\"_returnType\":\"json\",\"coGrade\":\"1\",\"coValue\":\"0.3\",\"dataTerm\":\"\",\"dataTime\":\"2018-07-13 16:00\",\"khaiGrade\":\"1\",\"khaiValue\":\"47\",\"mangName\":\"\\xeb\\x8f\\x84\\xec\\x8b\\x9c\\xeb\\x8c\\x80\\xea\\xb8\\xb0\",\"no2Grade\":\"1\",\"no2Value\":\"0.014\",\"numOfRows\":\"10\",\"o3Grade\":\"1\",\"o3Value\":\"0.028\",\"pageNo\":\"1\",\"pm10Grade\":\"1\",\"pm10Grade1h\":\"1\",\"pm10Value\":\"19\",\"pm10Value24\":\"19\",\"pm25Grade\":\"1\",\"pm25Grade1h\":\"2\",\"pm25Value\":\"18\",\"pm25Value24\":\"13\",\"resultCode\":\"\",\"resultMsg\":\"\",\"rnum\":0,\"serviceKey\":\"\",\"sidoName\":\"\",\"so2Grade\":\"1\",\"so2Value\":\"0.005\",\"stationCode\":\"\",\"stationName\":\"\\xec\\x84\\xb1\\xeb\\x8f\\x99\\xea\\xb5\\xac\",\"totalCount\":\"\",\"ver\":\"\"},{\"_returnType\":\"json\",\"coGrade\":\"1\",\"coValue\":\"0.4\",\"dataTerm\":\"\",\"dataTime\":\"2018-07-13 16:00\",\"khaiGrade\":\"3\",\"khaiValue\":\"120\",\"mangName\":\"\\xeb\\x8f\\x84\\xeb\\xa1\\x9c\\xeb\\xb3\\x80\\xeb\\x8c\\x80\\xea\\xb8\\xb0\",\"no2Grade\":\"3\",\"no2Value\":\"0.079\",\"numOfRows\":\"10\",\"o3Grade\":\"1\",\"o3Value\":\"0.014\",\"pageNo\":\"1\",\"pm10Grade\":\"1\",\"pm10Grade1h\":\"1\",\"pm10Value\":\"23\",\"pm10Value24\":\"22\",\"pm25Grade\":\"1\",\"pm25Grade1h\":\"1\",\"pm25Value\":\"11\",\"pm25Value24\":\"12\",\"resultCode\":\"\",\"resultMsg\":\"\",\"rnum\":0,\"serviceKey\":\"\",\"sidoName\":\"\",\"so2Grade\":\"1\",\"so2Value\":\"0.003\",\"stationCode\":\"\",\"stationName\":\"\\xea\\xb0\\x95\\xeb\\xb3\\x80\\xeb\\xb6\\x81\\xeb\\xa1\\x9c\",\"totalCount\":\"\",\"ver\":\"\"},{\"_returnType\":\"json\",\"coGrade\":\"1\",\"coValue\":\"0.3\",\"dataTerm\":\"\",\"dataTime\":\"2018-07-13 16:00\",\"khaiGrade\":\"1\",\"khaiValue\":\"47\",\"mangName\":\"\\xeb\\x8f\\x84\\xec\\x8b\\x9c\\xeb\\x8c\\x80\\xea\\xb8\\xb0\",\"no2Grade\":\"1\",\"no2Value\":\"0.017\",\"numOfRows\":\"10\",\"o3Grade\":\"1\",\"o3Value\":\"0.028\",\"pageNo\":\"1\",\"pm10Grade\":\"1\",\"pm10Grade1h\":\"1\",\"pm10Value\":\"14\",\"pm10Value24\":\"14\",\"pm25Grade\":\"1\",\"pm25Grade1h\":\"1\",\"pm25Value\":\"12\",\"pm25Value24\":\"11\",\"resultCode\":\"\",\"resultMsg\":\"\",\"rnum\":0,\"serviceKey\":\"\",\"sidoName\":\"\",\"so2Grade\":\"1\",\"so2Value\":\"0.006\",\"stationCode\":\"\",\"stationName\":\"\\xec\\xa4\\x91\\xeb\\x9e\\x91\\xea\\xb5\\xac\",\"totalCount\":\"\",\"ver\":\"\"}],\"parm\":{\"_returnType\":\"json\",\"coGrade\":\"\",\"coValue\":\"\",\"dataTerm\":\"\",\"dataTime\":\"\",\"khaiGrade\":\"\",\"khaiValue\":\"\",\"mangName\":\"\",\"no2Grade\":\"\",\"no2Value\":\"\",\"numOfRows\":\"10\",\"o3Grade\":\"\",\"o3Value\":\"\",\"pageNo\":\"1\",\"pm10Grade\":\"\",\"pm10Grade1h\":\"\",\"pm10Value\":\"\",\"pm10Value24\":\"\",\"pm25Grade\":\"\",\"pm25Grade1h\":\"\",\"pm25Value\":\"\",\"pm25Value24\":\"\",\"resultCode\":\"\",\"resultMsg\":\"\",\"rnum\":0,\"serviceKey\":\"TG/EJr/47wQsd1jC33zgwMs+y4F85D9ICCh32kI99AmRf4rm4ZxYtcdx/LIcEr8jPz3ifS0bDmbhBA/9vGdMYQ==\",\"sidoName\":\"\\xec\\x84\\x9c\\xec\\x9a\\xb8\",\"so2Grade\":\"\",\"so2Value\":\"\",\"stationCode\":\"\",\"stationName\":\"\",\"totalCount\":\"\",\"ver\":\"1.3\"},\"ArpltnInforInqireSvcVo\":{\"_returnType\":\"json\",\"coGrade\":\"\",\"coValue\":\"\",\"dataTerm\":\"\",\"dataTime\":\"\",\"khaiGrade\":\"\",\"khaiValue\":\"\",\"mangName\":\"\",\"no2Grade\":\"\",\"no2Value\":\"\",\"numOfRows\":\"10\",\"o3Grade\":\"\",\"o3Value\":\"\",\"pageNo\":\"1\",\"pm10Grade\":\"\",\"pm10Grade1h\":\"\",\"pm10Value\":\"\",\"pm10Value24\":\"\",\"pm25Grade\":\"\",\"pm25Grade1h\":\"\",\"pm25Value\":\"\",\"pm25Value24\":\"\",\"resultCode\":\"\",\"resultMsg\":\"\",\"rnum\":0,\"serviceKey\":\"TG/EJr/47wQsd1jC33zgwMs+y4F85D9ICCh32kI99AmRf4rm4ZxYtcdx/LIcEr8jPz3ifS0bDmbhBA/9vGdMYQ==\",\"sidoName\":\"\\xec\\x84\\x9c\\xec\\x9a\\xb8\",\"so2Grade\":\"\",\"so2Value\":\"\",\"stationCode\":\"\",\"stationName\":\"\",\"totalCount\":\"\",\"ver\":\"1.3\"},\"totalCount\":39}'"
      ]
     },
     "execution_count": 136,
     "metadata": {},
     "output_type": "execute_result"
    }
   ],
   "source": [
    "result "
   ]
  },
  {
   "cell_type": "code",
   "execution_count": 125,
   "metadata": {},
   "outputs": [
    {
     "data": {
      "text/plain": [
       "bytes"
      ]
     },
     "execution_count": 125,
     "metadata": {},
     "output_type": "execute_result"
    }
   ],
   "source": [
    "type(result)"
   ]
  },
  {
   "cell_type": "code",
   "execution_count": 126,
   "metadata": {},
   "outputs": [
    {
     "data": {
      "text/plain": [
       "str"
      ]
     },
     "execution_count": 126,
     "metadata": {},
     "output_type": "execute_result"
    }
   ],
   "source": [
    "resultStr = result.decode(\"utf-8\") #다시 str으로 디코드 해줘야\n",
    "type(resultStr)"
   ]
  },
  {
   "cell_type": "code",
   "execution_count": 127,
   "metadata": {},
   "outputs": [
    {
     "name": "stdout",
     "output_type": "stream",
     "text": [
      "list [{'_returnType': 'json', 'coGrade': '1', 'coValue': '0.3', 'dataTerm': '', 'dataTime': '2018-07-13 16:00', 'khaiGrade': '2', 'khaiValue': '53', 'mangName': '도시대기', 'no2Grade': '1', 'no2Value': '0.017', 'numOfRows': '10', 'o3Grade': '2', 'o3Value': '0.034', 'pageNo': '1', 'pm10Grade': '1', 'pm10Grade1h': '1', 'pm10Value': '17', 'pm10Value24': '20', 'pm25Grade': '1', 'pm25Grade1h': '1', 'pm25Value': '11', 'pm25Value24': '12', 'resultCode': '', 'resultMsg': '', 'rnum': 0, 'serviceKey': '', 'sidoName': '', 'so2Grade': '1', 'so2Value': '0.004', 'stationCode': '', 'stationName': '중구', 'totalCount': '', 'ver': ''}, {'_returnType': 'json', 'coGrade': '1', 'coValue': '0.5', 'dataTerm': '', 'dataTime': '2018-07-13 16:00', 'khaiGrade': '2', 'khaiValue': '66', 'mangName': '도로변대기', 'no2Grade': '2', 'no2Value': '0.040', 'numOfRows': '10', 'o3Grade': '1', 'o3Value': '0.025', 'pageNo': '1', 'pm10Grade': '2', 'pm10Grade1h': '2', 'pm10Value': '31', 'pm10Value24': '32', 'pm25Grade': '1', 'pm25Grade1h': '1', 'pm25Value': '15', 'pm25Value24': '13', 'resultCode': '', 'resultMsg': '', 'rnum': 0, 'serviceKey': '', 'sidoName': '', 'so2Grade': '1', 'so2Value': '0.005', 'stationCode': '', 'stationName': '한강대로', 'totalCount': '', 'ver': ''}, {'_returnType': 'json', 'coGrade': '1', 'coValue': '0.4', 'dataTerm': '', 'dataTime': '2018-07-13 16:00', 'khaiGrade': '2', 'khaiValue': '51', 'mangName': '도시대기', 'no2Grade': '1', 'no2Value': '0.023', 'numOfRows': '10', 'o3Grade': '1', 'o3Value': '0.028', 'pageNo': '1', 'pm10Grade': '1', 'pm10Grade1h': '1', 'pm10Value': '18', 'pm10Value24': '19', 'pm25Grade': '2', 'pm25Grade1h': '1', 'pm25Value': '14', 'pm25Value24': '16', 'resultCode': '', 'resultMsg': '', 'rnum': 0, 'serviceKey': '', 'sidoName': '', 'so2Grade': '', 'so2Value': '-', 'stationCode': '', 'stationName': '종로구', 'totalCount': '', 'ver': ''}, {'_returnType': 'json', 'coGrade': '1', 'coValue': '0.5', 'dataTerm': '', 'dataTime': '2018-07-13 16:00', 'khaiGrade': '2', 'khaiValue': '66', 'mangName': '도로변대기', 'no2Grade': '2', 'no2Value': '0.040', 'numOfRows': '10', 'o3Grade': '1', 'o3Value': '0.029', 'pageNo': '1', 'pm10Grade': '1', 'pm10Grade1h': '1', 'pm10Value': '20', 'pm10Value24': '23', 'pm25Grade': '2', 'pm25Grade1h': '', 'pm25Value': '-', 'pm25Value24': '18', 'resultCode': '', 'resultMsg': '', 'rnum': 0, 'serviceKey': '', 'sidoName': '', 'so2Grade': '1', 'so2Value': '0.006', 'stationCode': '', 'stationName': '청계천로', 'totalCount': '', 'ver': ''}, {'_returnType': 'json', 'coGrade': '1', 'coValue': '0.3', 'dataTerm': '', 'dataTime': '2018-07-13 15:00', 'khaiGrade': '1', 'khaiValue': '43', 'mangName': '도로변대기', 'no2Grade': '1', 'no2Value': '0.020', 'numOfRows': '10', 'o3Grade': '1', 'o3Value': '0.019', 'pageNo': '1', 'pm10Grade': '1', 'pm10Grade1h': '1', 'pm10Value': '13', 'pm10Value24': '21', 'pm25Grade': '1', 'pm25Grade1h': '1', 'pm25Value': '11', 'pm25Value24': '13', 'resultCode': '', 'resultMsg': '', 'rnum': 0, 'serviceKey': '', 'sidoName': '', 'so2Grade': '1', 'so2Value': '0.003', 'stationCode': '', 'stationName': '종로', 'totalCount': '', 'ver': ''}, {'_returnType': 'json', 'coGrade': '1', 'coValue': '0.3', 'dataTerm': '', 'dataTime': '2018-07-13 16:00', 'khaiGrade': '2', 'khaiValue': '58', 'mangName': '도시대기', 'no2Grade': '1', 'no2Value': '0.023', 'numOfRows': '10', 'o3Grade': '2', 'o3Value': '0.039', 'pageNo': '1', 'pm10Grade': '1', 'pm10Grade1h': '1', 'pm10Value': '16', 'pm10Value24': '17', 'pm25Grade': '1', 'pm25Grade1h': '1', 'pm25Value': '12', 'pm25Value24': '11', 'resultCode': '', 'resultMsg': '', 'rnum': 0, 'serviceKey': '', 'sidoName': '', 'so2Grade': '1', 'so2Value': '0.003', 'stationCode': '', 'stationName': '용산구', 'totalCount': '', 'ver': ''}, {'_returnType': 'json', 'coGrade': '1', 'coValue': '0.6', 'dataTerm': '', 'dataTime': '2018-07-13 16:00', 'khaiGrade': '2', 'khaiValue': '56', 'mangName': '도시대기', 'no2Grade': '1', 'no2Value': '0.013', 'numOfRows': '10', 'o3Grade': '2', 'o3Value': '0.037', 'pageNo': '1', 'pm10Grade': '1', 'pm10Grade1h': '1', 'pm10Value': '18', 'pm10Value24': '19', 'pm25Grade': '1', 'pm25Grade1h': '1', 'pm25Value': '12', 'pm25Value24': '12', 'resultCode': '', 'resultMsg': '', 'rnum': 0, 'serviceKey': '', 'sidoName': '', 'so2Grade': '1', 'so2Value': '0.006', 'stationCode': '', 'stationName': '광진구', 'totalCount': '', 'ver': ''}, {'_returnType': 'json', 'coGrade': '1', 'coValue': '0.3', 'dataTerm': '', 'dataTime': '2018-07-13 16:00', 'khaiGrade': '1', 'khaiValue': '47', 'mangName': '도시대기', 'no2Grade': '1', 'no2Value': '0.014', 'numOfRows': '10', 'o3Grade': '1', 'o3Value': '0.028', 'pageNo': '1', 'pm10Grade': '1', 'pm10Grade1h': '1', 'pm10Value': '19', 'pm10Value24': '19', 'pm25Grade': '1', 'pm25Grade1h': '2', 'pm25Value': '18', 'pm25Value24': '13', 'resultCode': '', 'resultMsg': '', 'rnum': 0, 'serviceKey': '', 'sidoName': '', 'so2Grade': '1', 'so2Value': '0.005', 'stationCode': '', 'stationName': '성동구', 'totalCount': '', 'ver': ''}, {'_returnType': 'json', 'coGrade': '1', 'coValue': '0.4', 'dataTerm': '', 'dataTime': '2018-07-13 15:00', 'khaiGrade': '2', 'khaiValue': '98', 'mangName': '도로변대기', 'no2Grade': '2', 'no2Value': '0.059', 'numOfRows': '10', 'o3Grade': '1', 'o3Value': '0.011', 'pageNo': '1', 'pm10Grade': '1', 'pm10Grade1h': '1', 'pm10Value': '17', 'pm10Value24': '22', 'pm25Grade': '1', 'pm25Grade1h': '1', 'pm25Value': '11', 'pm25Value24': '12', 'resultCode': '', 'resultMsg': '', 'rnum': 0, 'serviceKey': '', 'sidoName': '', 'so2Grade': '1', 'so2Value': '0.003', 'stationCode': '', 'stationName': '강변북로', 'totalCount': '', 'ver': ''}, {'_returnType': 'json', 'coGrade': '1', 'coValue': '0.3', 'dataTerm': '', 'dataTime': '2018-07-13 16:00', 'khaiGrade': '1', 'khaiValue': '47', 'mangName': '도시대기', 'no2Grade': '1', 'no2Value': '0.017', 'numOfRows': '10', 'o3Grade': '1', 'o3Value': '0.028', 'pageNo': '1', 'pm10Grade': '1', 'pm10Grade1h': '1', 'pm10Value': '14', 'pm10Value24': '14', 'pm25Grade': '1', 'pm25Grade1h': '1', 'pm25Value': '12', 'pm25Value24': '11', 'resultCode': '', 'resultMsg': '', 'rnum': 0, 'serviceKey': '', 'sidoName': '', 'so2Grade': '1', 'so2Value': '0.006', 'stationCode': '', 'stationName': '중랑구', 'totalCount': '', 'ver': ''}]\n",
      "parm {'_returnType': 'json', 'coGrade': '', 'coValue': '', 'dataTerm': '', 'dataTime': '', 'khaiGrade': '', 'khaiValue': '', 'mangName': '', 'no2Grade': '', 'no2Value': '', 'numOfRows': '10', 'o3Grade': '', 'o3Value': '', 'pageNo': '1', 'pm10Grade': '', 'pm10Grade1h': '', 'pm10Value': '', 'pm10Value24': '', 'pm25Grade': '', 'pm25Grade1h': '', 'pm25Value': '', 'pm25Value24': '', 'resultCode': '', 'resultMsg': '', 'rnum': 0, 'serviceKey': 'TG/EJr/47wQsd1jC33zgwMs+y4F85D9ICCh32kI99AmRf4rm4ZxYtcdx/LIcEr8jPz3ifS0bDmbhBA/9vGdMYQ==', 'sidoName': '서울', 'so2Grade': '', 'so2Value': '', 'stationCode': '', 'stationName': '', 'totalCount': '', 'ver': '1.3'}\n",
      "ArpltnInforInqireSvcVo {'_returnType': 'json', 'coGrade': '', 'coValue': '', 'dataTerm': '', 'dataTime': '', 'khaiGrade': '', 'khaiValue': '', 'mangName': '', 'no2Grade': '', 'no2Value': '', 'numOfRows': '10', 'o3Grade': '', 'o3Value': '', 'pageNo': '1', 'pm10Grade': '', 'pm10Grade1h': '', 'pm10Value': '', 'pm10Value24': '', 'pm25Grade': '', 'pm25Grade1h': '', 'pm25Value': '', 'pm25Value24': '', 'resultCode': '', 'resultMsg': '', 'rnum': 0, 'serviceKey': 'TG/EJr/47wQsd1jC33zgwMs+y4F85D9ICCh32kI99AmRf4rm4ZxYtcdx/LIcEr8jPz3ifS0bDmbhBA/9vGdMYQ==', 'sidoName': '서울', 'so2Grade': '', 'so2Value': '', 'stationCode': '', 'stationName': '', 'totalCount': '', 'ver': '1.3'}\n",
      "totalCount 39\n"
     ]
    }
   ],
   "source": [
    "resultObj = json.loads(resultStr) #json인 resultStr을 파이썬 오브젝트(dict)로 로드\n",
    "\n",
    "for k,v in resultObj.items():\n",
    "    print(k,v)"
   ]
  },
  {
   "cell_type": "markdown",
   "metadata": {},
   "source": [
    "### XML"
   ]
  },
  {
   "attachments": {},
   "cell_type": "markdown",
   "metadata": {},
   "source": [
    "![306](https://user-images.githubusercontent.com/38183218/42991361-3cba77e4-8c40-11e8-9229-e16ebe8faae3.png)\n",
    "\n",
    "- What is XML?\n",
    "    - 완벽하게 사람이 볼수있는 마크업 언어\n",
    "    - 원하는 태그달아 관리\n",
    "    - XML stands for eXtensible Markup Language\n",
    "    - Designed to store and transport data\n",
    "    - Designed to be both human- and machine-readable\n",
    "    - XML is a W3C Recommendation\n"
   ]
  },
  {
   "cell_type": "markdown",
   "metadata": {},
   "source": [
    "- Why use XML?\n",
    "    - json과 마찬가지로 스트링이기에 바이트화해서 주고받기 가능\n",
    "    - Universally accepted standard way of structuring data\n",
    "    - Provides a well-defined structure for communication\n",
    "    - Software- and hardware-independent tool for storing and transporting data"
   ]
  },
  {
   "cell_type": "markdown",
   "metadata": {},
   "source": [
    "- Characteristics\n",
    "    - ___Text-based (Unicode)___\n",
    "        - more readable, easier to document, easier to debug\n",
    "    - ___No predefined tags___\n",
    "        - the author must define both the tags and the document structure\n",
    "    - Extensible\n",
    "        - supporting rich structure, like objects or hierarchies or relationships \n",
    "        - most XML applications will work as expected even if new data is added (or removed).\n",
    "    - Validity\n",
    "        - supporting validation and well-formed properties\n",
    "        - validation 제공하기에 엄격하게 지켜야하는 장단점\n",
    "        - Well-formed Doc\n",
    "        - DTD(Doc type Definition) 명시 잘해줘야"
   ]
  },
  {
   "attachments": {},
   "cell_type": "markdown",
   "metadata": {},
   "source": [
    "![312](https://user-images.githubusercontent.com/38183218/42991362-3ce12312-8c40-11e8-8232-86b4b196ed8c.jpg)"
   ]
  },
  {
   "attachments": {},
   "cell_type": "markdown",
   "metadata": {},
   "source": [
    "- XML vs JSON\n",
    "\n",
    "![314](https://user-images.githubusercontent.com/38183218/42991363-3d04ac1a-8c40-11e8-8206-ecb8721e274f.png)"
   ]
  },
  {
   "attachments": {},
   "cell_type": "markdown",
   "metadata": {},
   "source": [
    "- Syntax\n",
    "![315](https://user-images.githubusercontent.com/38183218/42991364-3d7b0cb6-8c40-11e8-8802-886762ff2ce0.png)"
   ]
  },
  {
   "attachments": {},
   "cell_type": "markdown",
   "metadata": {},
   "source": [
    "- DOM\n",
    "    - The DOM defines a standard for accessing and manipulating documents\n",
    "        - A standard object model for XML\n",
    "        - A standard programming interface for XML\n",
    "        - Platform- and language-independent\n",
    "        - A W3C standard\n",
    "\n",
    "![317](https://user-images.githubusercontent.com/38183218/42991365-3d9e6ec2-8c40-11e8-84c3-60b34f03094b.gif)"
   ]
  },
  {
   "attachments": {},
   "cell_type": "markdown",
   "metadata": {},
   "source": [
    "- XPath\n",
    "    - XPath is a major element in the XSLT standard.\n",
    "    - XPath can be used to navigate through elements and attributes in an XML document\n",
    "    - Xpath를 통해 돔트리의 특정 노드에 접근 가능해 매우 중요하다\n",
    "    \n",
    "![329](https://user-images.githubusercontent.com/38183218/42991366-3dc25d32-8c40-11e8-84e2-ebf42c5f0a25.png)"
   ]
  },
  {
   "attachments": {},
   "cell_type": "markdown",
   "metadata": {},
   "source": [
    "- Syntax\n",
    "\n",
    "![330](https://user-images.githubusercontent.com/38183218/42991368-3de6d950-8c40-11e8-8a4b-9d5910d60e6b.png)\n",
    "![330](https://user-images.githubusercontent.com/38183218/42991369-3e0b549c-8c40-11e8-8379-e599f4fc2371.png)"
   ]
  },
  {
   "attachments": {},
   "cell_type": "markdown",
   "metadata": {},
   "source": [
    "#### XML with Python\n",
    "![333](https://user-images.githubusercontent.com/38183218/42991370-3e30135e-8c40-11e8-9990-74bc1cad924c.png)"
   ]
  },
  {
   "cell_type": "code",
   "execution_count": 1,
   "metadata": {},
   "outputs": [],
   "source": [
    "#import xml.etree.ElementTree as et\n",
    "from lxml import etree #어차피 lxml쓴다"
   ]
  },
  {
   "cell_type": "markdown",
   "metadata": {},
   "source": [
    "##### lxml\n",
    "C기반 -> 속도빠르다"
   ]
  },
  {
   "attachments": {},
   "cell_type": "markdown",
   "metadata": {},
   "source": [
    "- Element\n",
    "\n",
    "![334](https://user-images.githubusercontent.com/38183218/42991373-3e53de2e-8c40-11e8-94d7-108e4a96f702.png)"
   ]
  },
  {
   "cell_type": "code",
   "execution_count": 138,
   "metadata": {},
   "outputs": [],
   "source": [
    "bookStore = etree.Element(\"bookstore\") #root 노드에 해당"
   ]
  },
  {
   "cell_type": "code",
   "execution_count": 139,
   "metadata": {},
   "outputs": [],
   "source": [
    "#subElement 생성\n",
    "book1 = etree.SubElement(bookStore, 'book')\n",
    "book2 = etree.SubElement(bookStore, 'book', attrib = {\"category\":\"children\"} )"
   ]
  },
  {
   "cell_type": "code",
   "execution_count": 141,
   "metadata": {},
   "outputs": [],
   "source": [
    "book1.attrib['category'] = \"cooking\""
   ]
  },
  {
   "cell_type": "code",
   "execution_count": 146,
   "metadata": {},
   "outputs": [
    {
     "name": "stdout",
     "output_type": "stream",
     "text": [
      "<bookstore>\n",
      "  <book category=\"cooking\"/>\n",
      "  <book category=\"children\"/>\n",
      "</bookstore>\n"
     ]
    }
   ],
   "source": [
    "etree.dump(bookStore) #Element를 표준출력으로 써줌"
   ]
  },
  {
   "cell_type": "code",
   "execution_count": 147,
   "metadata": {},
   "outputs": [],
   "source": [
    "title1 = etree.Element(\"title\", lang = \"en\") #title 태그에 lang이라는 옵션\n",
    "title1.text = \"Harry Porter\""
   ]
  },
  {
   "cell_type": "code",
   "execution_count": 148,
   "metadata": {},
   "outputs": [
    {
     "name": "stdout",
     "output_type": "stream",
     "text": [
      "<title lang=\"en\">Harry Porter</title>\n"
     ]
    }
   ],
   "source": [
    "etree.dump(title1)"
   ]
  },
  {
   "cell_type": "code",
   "execution_count": 149,
   "metadata": {},
   "outputs": [],
   "source": [
    "book2.append(title1)"
   ]
  },
  {
   "cell_type": "code",
   "execution_count": 151,
   "metadata": {},
   "outputs": [
    {
     "data": {
      "text/plain": [
       "<Element title at 0x16c3dd7bf48>"
      ]
     },
     "execution_count": 151,
     "metadata": {},
     "output_type": "execute_result"
    }
   ],
   "source": [
    "etree.SubElement(book1,\"title\", attrib={\"lang\":title1.get(\"lang\")})"
   ]
  },
  {
   "cell_type": "code",
   "execution_count": 152,
   "metadata": {},
   "outputs": [
    {
     "name": "stdout",
     "output_type": "stream",
     "text": [
      "<bookstore>\n",
      "  <book category=\"cooking\">\n",
      "    <title lang=\"en\"/>\n",
      "  </book>\n",
      "  <book category=\"children\">\n",
      "    <title lang=\"en\">Harry Porter</title>\n",
      "  </book>\n",
      "</bookstore>\n"
     ]
    }
   ],
   "source": [
    "etree.dump(bookStore)"
   ]
  },
  {
   "cell_type": "code",
   "execution_count": 161,
   "metadata": {},
   "outputs": [],
   "source": [
    "xmlByte = etree.tostring(bookStore, encoding = \"utf-8\", xml_declaration =True)"
   ]
  },
  {
   "cell_type": "code",
   "execution_count": 162,
   "metadata": {},
   "outputs": [
    {
     "data": {
      "text/plain": [
       "bytes"
      ]
     },
     "execution_count": 162,
     "metadata": {},
     "output_type": "execute_result"
    }
   ],
   "source": [
    "type(xmlByte)"
   ]
  },
  {
   "cell_type": "code",
   "execution_count": 163,
   "metadata": {},
   "outputs": [
    {
     "name": "stdout",
     "output_type": "stream",
     "text": [
      "b'<?xml version=\\'1.0\\' encoding=\\'utf-8\\'?>\\n<bookstore><book category=\"cooking\"><title lang=\"en\"/></book><book category=\"children\"><title lang=\"en\">Harry Porter</title></book></bookstore>'\n"
     ]
    }
   ],
   "source": [
    "print(xmlByte)"
   ]
  },
  {
   "cell_type": "code",
   "execution_count": 169,
   "metadata": {},
   "outputs": [],
   "source": [
    "# 스트링(bytes를 포함)에서  Elment로 역변환\n",
    "tmp = etree.fromstring(xmlByte)"
   ]
  },
  {
   "cell_type": "code",
   "execution_count": 165,
   "metadata": {},
   "outputs": [
    {
     "data": {
      "text/plain": [
       "<Element bookstore at 0x16c3df35888>"
      ]
     },
     "execution_count": 165,
     "metadata": {},
     "output_type": "execute_result"
    }
   ],
   "source": [
    "tmp"
   ]
  },
  {
   "cell_type": "code",
   "execution_count": 168,
   "metadata": {},
   "outputs": [
    {
     "name": "stdout",
     "output_type": "stream",
     "text": [
      "<bookstore>\n",
      "  <book category=\"cooking\">\n",
      "    <title lang=\"en\"/>\n",
      "  </book>\n",
      "  <book category=\"children\">\n",
      "    <title lang=\"en\">Harry Porter</title>\n",
      "  </book>\n",
      "</bookstore>\n"
     ]
    }
   ],
   "source": [
    "etree.dump(tmp) "
   ]
  },
  {
   "cell_type": "code",
   "execution_count": 170,
   "metadata": {},
   "outputs": [],
   "source": [
    "tree = etree.ElementTree(tmp)"
   ]
  },
  {
   "cell_type": "code",
   "execution_count": 173,
   "metadata": {},
   "outputs": [],
   "source": [
    "root = tree.getroot()"
   ]
  },
  {
   "cell_type": "code",
   "execution_count": 174,
   "metadata": {},
   "outputs": [
    {
     "data": {
      "text/plain": [
       "'bookstore'"
      ]
     },
     "execution_count": 174,
     "metadata": {},
     "output_type": "execute_result"
    }
   ],
   "source": [
    "root.tag"
   ]
  },
  {
   "cell_type": "code",
   "execution_count": 181,
   "metadata": {},
   "outputs": [
    {
     "name": "stdout",
     "output_type": "stream",
     "text": [
      "1.0\n",
      "utf-8\n"
     ]
    }
   ],
   "source": [
    "print(tree.docinfo.xml_version)\n",
    "print(tree.docinfo.encoding)"
   ]
  },
  {
   "cell_type": "code",
   "execution_count": 182,
   "metadata": {},
   "outputs": [],
   "source": [
    "children = root.getchildren()"
   ]
  },
  {
   "cell_type": "code",
   "execution_count": 183,
   "metadata": {},
   "outputs": [
    {
     "name": "stdout",
     "output_type": "stream",
     "text": [
      "book cooking\n",
      "book children\n"
     ]
    }
   ],
   "source": [
    "for child in children:\n",
    "    print(child.tag, child.get(\"category\"))"
   ]
  },
  {
   "cell_type": "markdown",
   "metadata": {},
   "source": [
    "#### 예제"
   ]
  },
  {
   "cell_type": "code",
   "execution_count": 6,
   "metadata": {},
   "outputs": [],
   "source": [
    "url = \"http://openapi.airkorea.or.kr/openapi/services/rest/ArpltnInforInqireSvc/getCtprvnRltmMesureDnsty?\""
   ]
  },
  {
   "cell_type": "code",
   "execution_count": 21,
   "metadata": {},
   "outputs": [],
   "source": [
    "params = {\n",
    "    'serviceKey' : \"TG%2FEJr%2F47wQsd1jC33zgwMs%2By4F85D9ICCh32kI99AmRf4rm4ZxYtcdx%2FLIcEr8jPz3ifS0bDmbhBA%2F9vGdMYQ%3D%3D\",\n",
    "    'numOfRows' :10,\n",
    "    'pageSize' :10,\n",
    "    'pageNo' :1,\n",
    "    'startPage':1,\n",
    "    'sidoName':None,\n",
    "    'ver':'1.3',\n",
    "    #'_returnType':'json'\n",
    "}\n",
    "\n",
    "params['sidoName'] = '서울'\n",
    "\n",
    "params['serviceKey']  = urllib.parse.unquote(params['serviceKey']) \n",
    "\n",
    "paramUrl = urllib.parse.urlencode(params) #parms을 짤라서 url(스트링)으로 변환\n",
    "\n",
    "paramBytes = paramUrl.encode(\"utf-8\") #request에 str 전달불가, bytes타입으로 바꿔줘야 "
   ]
  },
  {
   "cell_type": "code",
   "execution_count": 8,
   "metadata": {},
   "outputs": [
    {
     "data": {
      "text/plain": [
       "bytes"
      ]
     },
     "execution_count": 8,
     "metadata": {},
     "output_type": "execute_result"
    }
   ],
   "source": [
    "req = urllib.request.Request(url, data=paramBytes) #paramBytes인자로 Request 객체만든다\n",
    "res = urllib.request.urlopen(req)\n",
    "result = res.read()\n",
    "type(result)"
   ]
  },
  {
   "cell_type": "code",
   "execution_count": 9,
   "metadata": {},
   "outputs": [
    {
     "data": {
      "text/plain": [
       "lxml.etree._Element"
      ]
     },
     "execution_count": 9,
     "metadata": {},
     "output_type": "execute_result"
    }
   ],
   "source": [
    "apiEle = etree.fromstring(result)\n",
    "type(apiEle)"
   ]
  },
  {
   "cell_type": "code",
   "execution_count": 10,
   "metadata": {},
   "outputs": [],
   "source": [
    "apiTree = etree.ElementTree(apiEle)"
   ]
  },
  {
   "cell_type": "code",
   "execution_count": 11,
   "metadata": {},
   "outputs": [],
   "source": [
    "rootNode = apiTree.getroot()"
   ]
  },
  {
   "cell_type": "code",
   "execution_count": 12,
   "metadata": {},
   "outputs": [],
   "source": [
    "nodeList = rootNode.findall(\".//pm10Value\") #Xpath 이용 접근"
   ]
  },
  {
   "cell_type": "code",
   "execution_count": 13,
   "metadata": {},
   "outputs": [
    {
     "data": {
      "text/plain": [
       "list"
      ]
     },
     "execution_count": 13,
     "metadata": {},
     "output_type": "execute_result"
    }
   ],
   "source": [
    "type(nodeList)"
   ]
  },
  {
   "cell_type": "code",
   "execution_count": 14,
   "metadata": {},
   "outputs": [
    {
     "name": "stdout",
     "output_type": "stream",
     "text": [
      "<Element item at 0x28c93e0e548>\n",
      "pm10Value 17\n",
      "<Element item at 0x28c93e0e208>\n",
      "pm10Value 40\n",
      "<Element item at 0x28c93d4f348>\n",
      "pm10Value 20\n",
      "<Element item at 0x28c93e0e908>\n",
      "pm10Value 16\n",
      "<Element item at 0x28c93e0ee48>\n",
      "pm10Value 20\n",
      "<Element item at 0x28c93e0ee88>\n",
      "pm10Value 16\n",
      "<Element item at 0x28c93e0eec8>\n",
      "pm10Value 25\n",
      "<Element item at 0x28c93e0ef08>\n",
      "pm10Value 29\n",
      "<Element item at 0x28c93e0ef48>\n",
      "pm10Value 35\n",
      "<Element item at 0x28c93e0ef88>\n",
      "pm10Value 11\n"
     ]
    }
   ],
   "source": [
    "for node in nodeList:\n",
    "    print(node.getparent())\n",
    "    print(node.tag, node.text)"
   ]
  },
  {
   "cell_type": "code",
   "execution_count": 19,
   "metadata": {},
   "outputs": [],
   "source": [
    "items = rootNode.cssselect('item > pm10Value') #css selector를 통한 접근, BS등에서 자주사용됨"
   ]
  },
  {
   "cell_type": "code",
   "execution_count": 20,
   "metadata": {},
   "outputs": [
    {
     "name": "stdout",
     "output_type": "stream",
     "text": [
      "pm10Value 17\n",
      "pm10Value 40\n",
      "pm10Value 20\n",
      "pm10Value 16\n",
      "pm10Value 20\n",
      "pm10Value 16\n",
      "pm10Value 25\n",
      "pm10Value 29\n",
      "pm10Value 35\n",
      "pm10Value 11\n"
     ]
    }
   ],
   "source": [
    "for row in items:\n",
    "    print(row.tag, row.text)"
   ]
  },
  {
   "cell_type": "code",
   "execution_count": null,
   "metadata": {},
   "outputs": [],
   "source": []
  }
 ],
 "metadata": {
  "kernelspec": {
   "display_name": "Python 3",
   "language": "python",
   "name": "python3"
  },
  "language_info": {
   "codemirror_mode": {
    "name": "ipython",
    "version": 3
   },
   "file_extension": ".py",
   "mimetype": "text/x-python",
   "name": "python",
   "nbconvert_exporter": "python",
   "pygments_lexer": "ipython3",
   "version": "3.6.4"
  }
 },
 "nbformat": 4,
 "nbformat_minor": 2
}
