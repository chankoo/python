{
 "cells": [
  {
   "cell_type": "markdown",
   "metadata": {},
   "source": [
    "18.07.09\n",
    "- sqllite\n",
    "    - basic\n",
    "    - Join\n",
    "    - dump"
   ]
  },
  {
   "attachments": {},
   "cell_type": "markdown",
   "metadata": {},
   "source": [
    "![56](https://user-images.githubusercontent.com/38183218/42988895-3a7f514a-8c39-11e8-8dfd-f295cfe459cb.png)"
   ]
  },
  {
   "cell_type": "code",
   "execution_count": 1,
   "metadata": {},
   "outputs": [],
   "source": [
    "import sqlite3"
   ]
  },
  {
   "attachments": {},
   "cell_type": "markdown",
   "metadata": {},
   "source": [
    "- What is SQLite?\n",
    "    - Open Source Database(Free)\n",
    "    - Serverless(Direct I/O)\n",
    "    - Self-contained(Embedded)\n",
    "    - Single Disk File(Cross-platform)\n",
    "    - Zero-configuration(No setup, No server)\n",
    "    - Supports RDBMS Features(ACID, SQL Syntax, Transactions, etc)\n",
    "\n",
    "    - 가볍고 직접 입출력(파일형태로 제공해 언어와 붙이는 커넥터 필요없다)\n",
    "    - 파일 하나당 데이터베이스 하나\n",
    "    - 파일 입출력하니까 사용자 개념 필요 없음\n",
    "    - RDBMS의 대부분 기능 제공\n",
    "    - 심지어 파이썬에 내장"
   ]
  },
  {
   "cell_type": "code",
   "execution_count": 3,
   "metadata": {},
   "outputs": [
    {
     "data": {
      "text/plain": [
       "'2.6.0'"
      ]
     },
     "execution_count": 3,
     "metadata": {},
     "output_type": "execute_result"
    }
   ],
   "source": [
    "sqlite3.version #Version of this module"
   ]
  },
  {
   "cell_type": "code",
   "execution_count": 4,
   "metadata": {},
   "outputs": [
    {
     "data": {
      "text/plain": [
       "'3.21.0'"
      ]
     },
     "execution_count": 4,
     "metadata": {},
     "output_type": "execute_result"
    }
   ],
   "source": [
    "sqlite3.sqlite_version #Version of run time SQLite "
   ]
  },
  {
   "cell_type": "code",
   "execution_count": 3,
   "metadata": {},
   "outputs": [],
   "source": [
    "conn = sqlite3.connect(':memory:')  #메모리로 작업"
   ]
  },
  {
   "cell_type": "code",
   "execution_count": 4,
   "metadata": {},
   "outputs": [
    {
     "data": {
      "text/plain": [
       "<sqlite3.Connection at 0x1ced61919d0>"
      ]
     },
     "execution_count": 4,
     "metadata": {},
     "output_type": "execute_result"
    }
   ],
   "source": [
    "conn #여기까지 과정이 너무 simple함"
   ]
  },
  {
   "cell_type": "code",
   "execution_count": 5,
   "metadata": {},
   "outputs": [],
   "source": [
    "cur = conn.cursor()"
   ]
  },
  {
   "attachments": {},
   "cell_type": "markdown",
   "metadata": {},
   "source": [
    "![78](https://user-images.githubusercontent.com/38183218/42988896-3aa30248-8c39-11e8-9bf3-9da1ec500ce7.png)"
   ]
  },
  {
   "cell_type": "code",
   "execution_count": 18,
   "metadata": {},
   "outputs": [
    {
     "data": {
      "text/plain": [
       "sqlite3.Cursor"
      ]
     },
     "execution_count": 18,
     "metadata": {},
     "output_type": "execute_result"
    }
   ],
   "source": [
    "type(cur) #execute, executemany, executescript, fetch"
   ]
  },
  {
   "attachments": {},
   "cell_type": "markdown",
   "metadata": {},
   "source": [
    "__Data type of SQLite__ -> 간편하지만 porting 시 문제\n",
    "![79](https://user-images.githubusercontent.com/38183218/42988898-3ac74b12-8c39-11e8-9c70-4b828c78acfa.png)"
   ]
  },
  {
   "cell_type": "code",
   "execution_count": 7,
   "metadata": {},
   "outputs": [
    {
     "data": {
      "text/plain": [
       "<sqlite3.Cursor at 0x1ced8b63810>"
      ]
     },
     "execution_count": 7,
     "metadata": {},
     "output_type": "execute_result"
    }
   ],
   "source": [
    "cur.execute('create table people (name_last, age)')"
   ]
  },
  {
   "cell_type": "code",
   "execution_count": 11,
   "metadata": {},
   "outputs": [],
   "source": [
    "who = 'Yeltsin'\n",
    "age = 72"
   ]
  },
  {
   "cell_type": "markdown",
   "metadata": {},
   "source": [
    "- excute\n",
    "- excutemany\n",
    "- excutescript\n",
    "\n",
    "- fetchone\n",
    "- fetchmany\n",
    "- fetchall\n"
   ]
  },
  {
   "cell_type": "code",
   "execution_count": 13,
   "metadata": {},
   "outputs": [
    {
     "data": {
      "text/plain": [
       "<sqlite3.Cursor at 0x1a262250ea0>"
      ]
     },
     "execution_count": 13,
     "metadata": {},
     "output_type": "execute_result"
    }
   ],
   "source": [
    "#This is the qmark style:\n",
    "cur.execute('insert into people values (?, ?)', (who, age))"
   ]
  },
  {
   "cell_type": "code",
   "execution_count": 14,
   "metadata": {},
   "outputs": [
    {
     "data": {
      "text/plain": [
       "<sqlite3.Cursor at 0x1a262250ea0>"
      ]
     },
     "execution_count": 14,
     "metadata": {},
     "output_type": "execute_result"
    }
   ],
   "source": [
    "#While this is the named style:\n",
    "cur.execute('select * from people where name_last=:who and age=:age', {'who':who,'age':age})"
   ]
  },
  {
   "cell_type": "code",
   "execution_count": 16,
   "metadata": {},
   "outputs": [
    {
     "name": "stdout",
     "output_type": "stream",
     "text": [
      "('Yeltsin', 72)\n"
     ]
    }
   ],
   "source": [
    "print(cur.fetchone()) #데이터의 한 row를 pop"
   ]
  },
  {
   "cell_type": "code",
   "execution_count": 17,
   "metadata": {},
   "outputs": [
    {
     "name": "stdout",
     "output_type": "stream",
     "text": [
      "None\n"
     ]
    }
   ],
   "source": [
    "print(cur.fetchone())"
   ]
  },
  {
   "cell_type": "code",
   "execution_count": 18,
   "metadata": {},
   "outputs": [
    {
     "data": {
      "text/plain": [
       "<sqlite3.Cursor at 0x1ced8b63810>"
      ]
     },
     "execution_count": 18,
     "metadata": {},
     "output_type": "execute_result"
    }
   ],
   "source": [
    "sql = 'insert into people values (?, ?)'\n",
    "curData = [('A', 1), ('B', 2), ('C', 3)]\n",
    "\n",
    "cur.executemany(sql, curData)"
   ]
  },
  {
   "cell_type": "code",
   "execution_count": 19,
   "metadata": {},
   "outputs": [
    {
     "name": "stdout",
     "output_type": "stream",
     "text": [
      "[('A', 1), ('B', 2), ('C', 3), ('A', 1), ('B', 2), ('C', 3), ('A', 1), ('B', 2), ('C', 3), ('A', 1), ('B', 2), ('C', 3), ('A', 1), ('B', 2), ('C', 3)]\n"
     ]
    }
   ],
   "source": [
    "cur.execute('select * from people')\n",
    "print(cur.fetchall())"
   ]
  },
  {
   "cell_type": "code",
   "execution_count": 14,
   "metadata": {},
   "outputs": [
    {
     "data": {
      "text/plain": [
       "<sqlite3.Cursor at 0x1ced8b63810>"
      ]
     },
     "execution_count": 14,
     "metadata": {},
     "output_type": "execute_result"
    }
   ],
   "source": [
    "cur.executescript(\n",
    "\"\"\"\n",
    "    create table person(\n",
    "        first_name text primary key,\n",
    "        last_name text not null\n",
    "    );\n",
    "    \n",
    "    insert into person values('name', 'kim');\n",
    "\"\"\")\n",
    "#select 는 쓰지말자"
   ]
  },
  {
   "cell_type": "code",
   "execution_count": 15,
   "metadata": {},
   "outputs": [
    {
     "name": "stdout",
     "output_type": "stream",
     "text": [
      "[('name', 'kim')]\n"
     ]
    }
   ],
   "source": [
    "cur.execute('select * from person')\n",
    "print(cur.fetchall())"
   ]
  },
  {
   "cell_type": "code",
   "execution_count": 20,
   "metadata": {},
   "outputs": [],
   "source": [
    "conn.close()"
   ]
  },
  {
   "cell_type": "code",
   "execution_count": 21,
   "metadata": {},
   "outputs": [],
   "source": [
    "conn = sqlite3.connect(\"test.db\") #db하나 통째로 파일로 제공"
   ]
  },
  {
   "cell_type": "code",
   "execution_count": 24,
   "metadata": {},
   "outputs": [
    {
     "name": "stdout",
     "output_type": "stream",
     "text": [
      "Opened db successfully\n",
      "Table created successfully\n"
     ]
    }
   ],
   "source": [
    "conn = sqlite3.connect('create.db')\n",
    "print('Opened db successfully')\n",
    " \n",
    "conn.execute('''\n",
    "    create table company(\n",
    "        ID INT PRIMARY KEY NOT NULL,\n",
    "        NAME TEXT NOT NULL,\n",
    "        AGE INT NOT NULL,\n",
    "        ADDRESS CHAR(50),\n",
    "        SALARY REAL);\n",
    "''')\n",
    "print('Table created successfully')"
   ]
  },
  {
   "cell_type": "code",
   "execution_count": 25,
   "metadata": {},
   "outputs": [
    {
     "data": {
      "text/plain": [
       "<sqlite3.Cursor at 0x1ced8cd9500>"
      ]
     },
     "execution_count": 25,
     "metadata": {},
     "output_type": "execute_result"
    }
   ],
   "source": [
    "conn.execute(\n",
    "\"\"\"\n",
    "INSERT INTO company VALUES (1, 'Paul', 32, 'California', 20000.00);\"\"\")\n"
   ]
  },
  {
   "cell_type": "code",
   "execution_count": 26,
   "metadata": {},
   "outputs": [
    {
     "data": {
      "text/plain": [
       "<sqlite3.Cursor at 0x1ced8cd9110>"
      ]
     },
     "execution_count": 26,
     "metadata": {},
     "output_type": "execute_result"
    }
   ],
   "source": [
    "conn.execute('INSERT INTO company VALUES (:id, :name, :age, :address, :salary)',\n",
    "            {'id':2, 'name':'Allen', 'age':25, 'address':'Texas', 'salary':15000.00})"
   ]
  },
  {
   "cell_type": "code",
   "execution_count": 27,
   "metadata": {},
   "outputs": [
    {
     "data": {
      "text/plain": [
       "<sqlite3.Cursor at 0x1ced8cd95e0>"
      ]
     },
     "execution_count": 27,
     "metadata": {},
     "output_type": "execute_result"
    }
   ],
   "source": [
    "data = [(3, 'Teddy', 23, 'Norway', 200000.00),\n",
    "       (4,'Mark',25,'Rich-mond',65000.00)]\n",
    "conn.executemany(\"insert into company values (?,?,?,?,?)\",data)"
   ]
  },
  {
   "cell_type": "code",
   "execution_count": 28,
   "metadata": {},
   "outputs": [
    {
     "data": {
      "text/plain": [
       "<sqlite3.Cursor at 0x1ced8cd9650>"
      ]
     },
     "execution_count": 28,
     "metadata": {},
     "output_type": "execute_result"
    }
   ],
   "source": [
    "conn.executescript(\"\"\"\n",
    "    insert into company values (5, 'Mark1',25,'Rich-mond', 65000.00);\n",
    "    insert into company values (6, 'Mark2',25,'Rich-mond',65000.00);\n",
    "\"\"\")"
   ]
  },
  {
   "cell_type": "code",
   "execution_count": 29,
   "metadata": {},
   "outputs": [],
   "source": [
    "conn.commit()"
   ]
  },
  {
   "cell_type": "code",
   "execution_count": 36,
   "metadata": {},
   "outputs": [],
   "source": [
    "temp = conn.execute('select * from company')"
   ]
  },
  {
   "cell_type": "code",
   "execution_count": 37,
   "metadata": {},
   "outputs": [
    {
     "data": {
      "text/plain": [
       "sqlite3.Cursor"
      ]
     },
     "execution_count": 37,
     "metadata": {},
     "output_type": "execute_result"
    }
   ],
   "source": [
    "type(temp) #cursor 직접 받지않아도 conn이 자동적으로 cursor 가져옴"
   ]
  },
  {
   "cell_type": "code",
   "execution_count": 38,
   "metadata": {},
   "outputs": [
    {
     "name": "stdout",
     "output_type": "stream",
     "text": [
      "(1, 'Paul', 32, 'California', 20000.0)\n",
      "(2, 'Allen', 25, 'Texas', 15000.0)\n",
      "(3, 'Teddy', 23, 'Norway', 200000.0)\n",
      "(4, 'Mark', 25, 'Rich-mond', 65000.0)\n",
      "(5, 'Mark1', 25, 'Rich-mond', 65000.0)\n",
      "(6, 'Mark2', 25, 'Rich-mond', 65000.0)\n"
     ]
    }
   ],
   "source": [
    "for row in temp: #숨겨진 fetchone\n",
    "    print(row)"
   ]
  },
  {
   "cell_type": "code",
   "execution_count": 39,
   "metadata": {},
   "outputs": [],
   "source": [
    "cid = 1\n",
    "conn.execute('update company set SALARY = 25000.00 where ID = :id',\n",
    "             {'id':cid})\n",
    "conn.commit()"
   ]
  },
  {
   "cell_type": "code",
   "execution_count": 42,
   "metadata": {},
   "outputs": [],
   "source": [
    "conn.execute('delete from company where id=2')\n",
    "conn.commit()"
   ]
  },
  {
   "cell_type": "markdown",
   "metadata": {},
   "source": [
    "### 예제"
   ]
  },
  {
   "cell_type": "code",
   "execution_count": 1,
   "metadata": {},
   "outputs": [],
   "source": [
    "import sqlite3 as sql"
   ]
  },
  {
   "cell_type": "code",
   "execution_count": 2,
   "metadata": {},
   "outputs": [
    {
     "name": "stdout",
     "output_type": "stream",
     "text": [
      "SQLite Version:  ('3.21.0',)\n"
     ]
    }
   ],
   "source": [
    "con = None\n",
    "\n",
    "try:\n",
    "    con = sql.connect('test.db')\n",
    "    cur  = con.cursor()\n",
    "    cur.execute('SELECT SQLITE_VERSION()')\n",
    "    data = cur.fetchone()\n",
    "    print('SQLite Version: ',data)\n",
    "except Exception as e:\n",
    "    print('Error:',e)\n",
    "finally:\n",
    "    if con:\n",
    "        con.close()"
   ]
  },
  {
   "cell_type": "code",
   "execution_count": 3,
   "metadata": {},
   "outputs": [],
   "source": [
    "con = sql.connect('test.db')\n",
    "cars = [\n",
    "    (1, 'Audi',52642),\n",
    "    (2, 'Mercedes', 57127),\n",
    "    (3, 'Skoda',9000),\n",
    "    (4, 'Volvo',29000),\n",
    "    (5,'Bentley',350000),\n",
    "    (6,'Hummer',41400),\n",
    "    (7, 'Volkswagen',21600)\n",
    "]\n",
    "\n",
    "with con:\n",
    "    cur = con.cursor()\n",
    "    cur.execute('create table Cars (Id INT Primary key, Name TEXT, Price INT)')\n",
    "    cur.executemany('INSERT INTO Cars VALUES (?, ?, ?)', cars)"
   ]
  },
  {
   "cell_type": "code",
   "execution_count": 4,
   "metadata": {},
   "outputs": [
    {
     "name": "stdout",
     "output_type": "stream",
     "text": [
      "The last Id of the inserted row is None\n"
     ]
    }
   ],
   "source": [
    "try:\n",
    "    con = sql.connect('test.db')\n",
    "    cur = con.cursor()\n",
    "    cur.executescript(\"\"\"\n",
    "        drop table if exists Cars;\n",
    "        create table Cars (Id INT Primary key, Name TEXT, Price INT);\n",
    "        insert into Cars values (1,'Audi',52642);\n",
    "        insert into Cars values (2, 'Mercedes', 57127);\n",
    "        insert into Cars values (3, 'Skoda',9000);\n",
    "        insert into Cars values (4, 'Volvo',29000);\n",
    "        insert into Cars values (5,'Bentley',350000);\n",
    "        insert into Cars values (6,'Hummer',41400);\n",
    "        insert into Cars values (7, 'Volkswagen',21600);\n",
    "    \"\"\")\n",
    "    lid = cur.lastrowid\n",
    "    print('The last Id of the inserted row is',lid)\n",
    "    \n",
    "    con.commit()\n",
    "    \n",
    "except Exception as e:\n",
    "    if con:\n",
    "        con.rollback()\n",
    "        \n",
    "    print('Error: ',e)\n",
    "finally:\n",
    "    if con:\n",
    "        con.close()"
   ]
  },
  {
   "cell_type": "code",
   "execution_count": 5,
   "metadata": {},
   "outputs": [
    {
     "name": "stdout",
     "output_type": "stream",
     "text": [
      "1 Audi 52642\n",
      "2 Mercedes 57127\n",
      "3 Skoda 9000\n",
      "4 Volvo 29000\n",
      "5 Bentley 350000\n",
      "6 Hummer 41400\n",
      "7 Volkswagen 21600\n"
     ]
    }
   ],
   "source": [
    "con = sql.connect('test.db')\n",
    "\n",
    "with con:\n",
    "    cur = con.cursor()\n",
    "    cur.execute('select * from Cars')\n",
    "    \n",
    "    while True:\n",
    "        row = cur.fetchone()\n",
    "        if row==None:\n",
    "            break\n",
    "        \n",
    "        print(row[0],row[1],row[2])"
   ]
  },
  {
   "cell_type": "code",
   "execution_count": 6,
   "metadata": {},
   "outputs": [
    {
     "name": "stdout",
     "output_type": "stream",
     "text": [
      "1 Audi 52642\n",
      "2 Mercedes 57127\n",
      "3 Skoda 9000\n",
      "4 Volvo 29000\n",
      "5 Bentley 350000\n",
      "6 Hummer 41400\n",
      "7 Volkswagen 21600\n"
     ]
    }
   ],
   "source": [
    "con = sql.connect('test.db')\n",
    "\n",
    "with con:\n",
    "    con.row_factory = sql.Row\n",
    "    \n",
    "    cur = con.cursor()\n",
    "    cur.execute('select * from Cars')\n",
    "    \n",
    "    rows  = cur.fetchall()\n",
    "    \n",
    "    for row in rows:\n",
    "        print(row['Id'], row['Name'], row['Price'])\n"
   ]
  },
  {
   "cell_type": "code",
   "execution_count": 7,
   "metadata": {},
   "outputs": [
    {
     "name": "stdout",
     "output_type": "stream",
     "text": [
      "Number of rows updated 1\n"
     ]
    }
   ],
   "source": [
    "uId = 1\n",
    "uPrice = 62300\n",
    "\n",
    "con = sql.connect('test.db')\n",
    "\n",
    "with con:\n",
    "    cur = con.cursor()\n",
    "    cur.execute('UPDATE Cars set Price=? Where Id =?', (uPrice,uId))\n",
    "    print('Number of rows updated',cur.rowcount)"
   ]
  },
  {
   "cell_type": "code",
   "execution_count": 8,
   "metadata": {},
   "outputs": [
    {
     "name": "stdout",
     "output_type": "stream",
     "text": [
      "Volvo 29000\n"
     ]
    }
   ],
   "source": [
    "uId = 4\n",
    "\n",
    "con = sql.connect('test.db')\n",
    "\n",
    "with con:\n",
    "    cur = con.cursor()\n",
    "    cur.execute('SELECT Name, Price FROM Cars WHERE Id=:Id',{'Id':uId})\n",
    "    row = cur.fetchone()\n",
    "    print(row[0], row[1])"
   ]
  },
  {
   "cell_type": "code",
   "execution_count": null,
   "metadata": {},
   "outputs": [],
   "source": []
  },
  {
   "cell_type": "code",
   "execution_count": 2,
   "metadata": {},
   "outputs": [],
   "source": [
    "import sqlite3 as sql"
   ]
  },
  {
   "cell_type": "code",
   "execution_count": 6,
   "metadata": {},
   "outputs": [],
   "source": [
    "conn = sql.connect('test4.db')"
   ]
  },
  {
   "cell_type": "code",
   "execution_count": 7,
   "metadata": {},
   "outputs": [],
   "source": [
    "cur = conn.cursor() #명시적으로 할당해주는게 우선은 좋음    "
   ]
  },
  {
   "cell_type": "code",
   "execution_count": 8,
   "metadata": {},
   "outputs": [
    {
     "data": {
      "text/plain": [
       "<sqlite3.Cursor at 0x203418e4110>"
      ]
     },
     "execution_count": 8,
     "metadata": {},
     "output_type": "execute_result"
    }
   ],
   "source": [
    "#create tables\n",
    "cur.executescript(\n",
    "    \"\"\"\n",
    "    CREATE table Artist(\n",
    "        id integer primary key autoincrement,\n",
    "        name text\n",
    "    );\n",
    "    CREATE table Genre(\n",
    "        id integer primary key autoincrement,\n",
    "        name text\n",
    "    );\n",
    "    CREATE table Album(\n",
    "        id integer primary key autoincrement,\n",
    "        title text,\n",
    "        artist_id integer\n",
    "    );\n",
    "    CREATE table Track(\n",
    "        id integer primary key autoincrement,\n",
    "        title text,\n",
    "        length integer,\n",
    "        rating integer,\n",
    "        count integer,\n",
    "        album_id integer,\n",
    "        genre_id integer\n",
    "    );\n",
    "    \"\"\"\n",
    ")"
   ]
  },
  {
   "cell_type": "code",
   "execution_count": 9,
   "metadata": {},
   "outputs": [
    {
     "data": {
      "text/plain": [
       "<sqlite3.Cursor at 0x203418e4110>"
      ]
     },
     "execution_count": 9,
     "metadata": {},
     "output_type": "execute_result"
    }
   ],
   "source": [
    "#insert values\n",
    "cur.executescript(\n",
    "    \"\"\"\n",
    "    INSERT into Artist (name) values('Led Zepplin');\n",
    "    INSERT into Artist (name) values('AC/DC');\n",
    "    INSERT into Genre (name) values ('Rock');\n",
    "    INSERT into Genre (name) values ('Metal');\n",
    "    INSERT into Album (title, artist_id) values ('Who Made Who', 2);\n",
    "    INSERT into Album (title, artist_id) values ('IV', 1);\n",
    "    INSERT into Track (title, rating, length, count, album_id, genre_id) values ('Black Dog', 5, 297, 0, 2, 1);\n",
    "    INSERT into Track (title, rating, length, count, album_id, genre_id) values ('Stairway', 5, 482, 0, 2, 1);\n",
    "    INSERT into Track (title, rating, length, count, album_id, genre_id) values ('About to Rock', 5, 313, 0, 1, 2);\n",
    "    INSERT into Track (title, rating, length, count, album_id, genre_id) values ('Who Made Who', 5, 207, 0, 1, 2);\n",
    "    \"\"\"\n",
    ")"
   ]
  },
  {
   "cell_type": "code",
   "execution_count": 10,
   "metadata": {},
   "outputs": [
    {
     "data": {
      "text/plain": [
       "<sqlite3.Cursor at 0x203418e4110>"
      ]
     },
     "execution_count": 10,
     "metadata": {},
     "output_type": "execute_result"
    }
   ],
   "source": [
    "#select \n",
    "cur.execute('SELECT * from Artist')"
   ]
  },
  {
   "cell_type": "code",
   "execution_count": 11,
   "metadata": {},
   "outputs": [
    {
     "data": {
      "text/plain": [
       "list"
      ]
     },
     "execution_count": 11,
     "metadata": {},
     "output_type": "execute_result"
    }
   ],
   "source": [
    "artists = cur.fetchall()\n",
    "type(artists)"
   ]
  },
  {
   "cell_type": "code",
   "execution_count": 12,
   "metadata": {},
   "outputs": [
    {
     "name": "stdout",
     "output_type": "stream",
     "text": [
      "(1, 'Led Zepplin')\n",
      "(2, 'AC/DC')\n"
     ]
    }
   ],
   "source": [
    "for artist in artists:\n",
    "    print(artist)"
   ]
  },
  {
   "cell_type": "markdown",
   "metadata": {},
   "source": [
    "#### CROSS JOIN"
   ]
  },
  {
   "cell_type": "code",
   "execution_count": 13,
   "metadata": {},
   "outputs": [
    {
     "data": {
      "text/plain": [
       "<sqlite3.Cursor at 0x203418e4110>"
      ]
     },
     "execution_count": 13,
     "metadata": {},
     "output_type": "execute_result"
    }
   ],
   "source": [
    "cur.execute('SELECT * from artist, album')\n",
    "# or \n",
    "cur.execute('select * from artist cross join album')\n",
    "# or \n",
    "cur.execute('select * from artist join album') #기본적으로 cross join"
   ]
  },
  {
   "cell_type": "code",
   "execution_count": 14,
   "metadata": {},
   "outputs": [
    {
     "name": "stdout",
     "output_type": "stream",
     "text": [
      "(1, 'Led Zepplin', 1, 'Who Made Who', 2)\n",
      "(1, 'Led Zepplin', 2, 'IV', 1)\n",
      "(2, 'AC/DC', 1, 'Who Made Who', 2)\n",
      "(2, 'AC/DC', 2, 'IV', 1)\n"
     ]
    }
   ],
   "source": [
    "for row in cur.fetchall():\n",
    "    print(row)"
   ]
  },
  {
   "cell_type": "markdown",
   "metadata": {},
   "source": [
    "#### INNER JOIN"
   ]
  },
  {
   "cell_type": "code",
   "execution_count": 15,
   "metadata": {},
   "outputs": [
    {
     "data": {
      "text/plain": [
       "<sqlite3.Cursor at 0x203418e4110>"
      ]
     },
     "execution_count": 15,
     "metadata": {},
     "output_type": "execute_result"
    }
   ],
   "source": [
    "cur.execute('select a.name, ab.title from artist as a join album as ab on a.id=ab.artist_id')"
   ]
  },
  {
   "cell_type": "code",
   "execution_count": 16,
   "metadata": {},
   "outputs": [
    {
     "name": "stdout",
     "output_type": "stream",
     "text": [
      "('AC/DC', 'Who Made Who')\n",
      "('Led Zepplin', 'IV')\n"
     ]
    }
   ],
   "source": [
    "for row in cur.fetchall():\n",
    "    print(row)"
   ]
  },
  {
   "cell_type": "code",
   "execution_count": 17,
   "metadata": {},
   "outputs": [
    {
     "data": {
      "text/plain": [
       "<sqlite3.Cursor at 0x203418e4110>"
      ]
     },
     "execution_count": 17,
     "metadata": {},
     "output_type": "execute_result"
    }
   ],
   "source": [
    "cur.execute('select ab.title, t.title from album as ab join track as t on ab.id=t.album_id')"
   ]
  },
  {
   "cell_type": "code",
   "execution_count": 18,
   "metadata": {},
   "outputs": [
    {
     "name": "stdout",
     "output_type": "stream",
     "text": [
      "('IV', 'Black Dog')\n",
      "('IV', 'Stairway')\n",
      "('Who Made Who', 'About to Rock')\n",
      "('Who Made Who', 'Who Made Who')\n"
     ]
    }
   ],
   "source": [
    "for row in cur.fetchall():\n",
    "    print(row)"
   ]
  },
  {
   "cell_type": "code",
   "execution_count": 19,
   "metadata": {},
   "outputs": [
    {
     "data": {
      "text/plain": [
       "<sqlite3.Cursor at 0x203418e4110>"
      ]
     },
     "execution_count": 19,
     "metadata": {},
     "output_type": "execute_result"
    }
   ],
   "source": [
    "cur.execute('select * from track join album join genre join artist\\\n",
    "                        on track.album_id=album.id and \\\n",
    "                        track.genre_id=genre.id and\\\n",
    "                        album.artist_id=artist.id')"
   ]
  },
  {
   "cell_type": "code",
   "execution_count": 20,
   "metadata": {},
   "outputs": [
    {
     "name": "stdout",
     "output_type": "stream",
     "text": [
      "(1, 'Black Dog', 297, 5, 0, 2, 1, 2, 'IV', 1, 1, 'Rock', 1, 'Led Zepplin')\n",
      "(2, 'Stairway', 482, 5, 0, 2, 1, 2, 'IV', 1, 1, 'Rock', 1, 'Led Zepplin')\n",
      "(3, 'About to Rock', 313, 5, 0, 1, 2, 1, 'Who Made Who', 2, 2, 'Metal', 2, 'AC/DC')\n",
      "(4, 'Who Made Who', 207, 5, 0, 1, 2, 1, 'Who Made Who', 2, 2, 'Metal', 2, 'AC/DC')\n"
     ]
    }
   ],
   "source": [
    "for row in cur.fetchall():\n",
    "    print(row)"
   ]
  },
  {
   "cell_type": "markdown",
   "metadata": {},
   "source": [
    "#### dump"
   ]
  },
  {
   "cell_type": "code",
   "execution_count": 21,
   "metadata": {},
   "outputs": [],
   "source": [
    "with open('dump.sql','w') as f:\n",
    "    for line in conn.iterdump(): \n",
    "        f.write('%s\\n' % line)"
   ]
  },
  {
   "cell_type": "code",
   "execution_count": 22,
   "metadata": {},
   "outputs": [],
   "source": [
    "conn.close()"
   ]
  },
  {
   "cell_type": "code",
   "execution_count": 23,
   "metadata": {},
   "outputs": [
    {
     "name": "stdout",
     "output_type": "stream",
     "text": [
      "BEGIN TRANSACTION;\n",
      "CREATE TABLE Album(\n",
      "        id integer primary key autoincrement,\n",
      "        title text,\n",
      "        artist_id integer\n",
      "    );\n",
      "INSERT INTO \"Album\" VALUES(1,'Who Made Who',2);\n",
      "INSERT INTO \"Album\" VALUES(2,'IV',1);\n",
      "CREATE TABLE Artist(\n",
      "        id integer primary key autoincrement,\n",
      "        name text\n",
      "    );\n",
      "INSERT INTO \"Artist\" VALUES(1,'Led Zepplin');\n",
      "INSERT INTO \"Artist\" VALUES(2,'AC/DC');\n",
      "CREATE TABLE Genre(\n",
      "        id integer primary key autoincrement,\n",
      "        name text\n",
      "    );\n",
      "INSERT INTO \"Genre\" VALUES(1,'Rock');\n",
      "INSERT INTO \"Genre\" VALUES(2,'Metal');\n",
      "CREATE TABLE Track(\n",
      "        id integer primary key autoincrement,\n",
      "        title text,\n",
      "        length integer,\n",
      "        rating integer,\n",
      "        count integer,\n",
      "        album_id integer,\n",
      "        genre_id integer\n",
      "    );\n",
      "INSERT INTO \"Track\" VALUES(1,'Black Dog',297,5,0,2,1);\n",
      "INSERT INTO \"Track\" VALUES(2,'Stairway',482,5,0,2,1);\n",
      "INSERT INTO \"Track\" VALUES(3,'About to Rock',313,5,0,1,2);\n",
      "INSERT INTO \"Track\" VALUES(4,'Who Made Who',207,5,0,1,2);\n",
      "DELETE FROM \"sqlite_sequence\";\n",
      "INSERT INTO \"sqlite_sequence\" VALUES('Artist',2);\n",
      "INSERT INTO \"sqlite_sequence\" VALUES('Genre',2);\n",
      "INSERT INTO \"sqlite_sequence\" VALUES('Album',2);\n",
      "INSERT INTO \"sqlite_sequence\" VALUES('Track',4);\n",
      "COMMIT;\n",
      "\n"
     ]
    }
   ],
   "source": [
    "data = None\n",
    "with open('dump.sql','r') as f:\n",
    "    data = f.read()\n",
    "print(data)"
   ]
  },
  {
   "cell_type": "code",
   "execution_count": 28,
   "metadata": {},
   "outputs": [],
   "source": [
    "conn2 = sql.connect('test5.db')\n",
    "cur = conn2.cursor()"
   ]
  },
  {
   "cell_type": "code",
   "execution_count": 29,
   "metadata": {},
   "outputs": [
    {
     "data": {
      "text/plain": [
       "<sqlite3.Cursor at 0x203418e40a0>"
      ]
     },
     "execution_count": 29,
     "metadata": {},
     "output_type": "execute_result"
    }
   ],
   "source": [
    "cur.executescript(data) #dump문 실행가능"
   ]
  },
  {
   "cell_type": "code",
   "execution_count": 30,
   "metadata": {},
   "outputs": [],
   "source": [
    "conn2.close()"
   ]
  },
  {
   "cell_type": "markdown",
   "metadata": {},
   "source": [
    "#### Left Right Join"
   ]
  },
  {
   "cell_type": "code",
   "execution_count": 31,
   "metadata": {},
   "outputs": [
    {
     "name": "stdout",
     "output_type": "stream",
     "text": [
      "(1, 'Black Dog', 297, 5, 0, 2, 1, 2, 'IV', 1)\n",
      "(2, 'Stairway', 482, 5, 0, 2, 1, 2, 'IV', 1)\n",
      "(3, 'About to Rock', 313, 5, 0, 1, 2, 1, 'Who Made Who', 2)\n",
      "(4, 'Who Made Who', 207, 5, 0, 1, 2, 1, 'Who Made Who', 2)\n",
      "(5, 'nothing', None, None, None, None, None, None, None, None)\n"
     ]
    }
   ],
   "source": [
    "conn = sql.connect('test4.db')\n",
    "with conn:\n",
    "    cur = conn.cursor()\n",
    "    cur.execute('insert into track (title) values (\"nothing\")')\n",
    "    cur.execute('select * from track left join album on track.album_id = album.id')\n",
    "    for row in cur.fetchall():\n",
    "        print(row)"
   ]
  },
  {
   "cell_type": "code",
   "execution_count": 32,
   "metadata": {},
   "outputs": [
    {
     "name": "stdout",
     "output_type": "stream",
     "text": [
      "(1, 'Who Made Who', 2, 3, 'About to Rock', 313, 5, 0, 1, 2)\n",
      "(1, 'Who Made Who', 2, 4, 'Who Made Who', 207, 5, 0, 1, 2)\n",
      "(2, 'IV', 1, 1, 'Black Dog', 297, 5, 0, 2, 1)\n",
      "(2, 'IV', 1, 2, 'Stairway', 482, 5, 0, 2, 1)\n"
     ]
    }
   ],
   "source": [
    "conn = sql.connect('test4.db')\n",
    "\n",
    "with conn:\n",
    "    cur = conn.cursor()\n",
    "    cur.execute('insert into track (title) values (\"nothing\")')\n",
    "    #현재 right join 지원안함\n",
    "    cur.execute('select * from album left join track on track.album_id = album.id')\n",
    "    for row in cur.fetchall():\n",
    "        print(row)"
   ]
  },
  {
   "cell_type": "code",
   "execution_count": null,
   "metadata": {},
   "outputs": [],
   "source": []
  },
  {
   "cell_type": "code",
   "execution_count": null,
   "metadata": {},
   "outputs": [],
   "source": []
  }
 ],
 "metadata": {
  "kernelspec": {
   "display_name": "Python 3",
   "language": "python",
   "name": "python3"
  },
  "language_info": {
   "codemirror_mode": {
    "name": "ipython",
    "version": 3
   },
   "file_extension": ".py",
   "mimetype": "text/x-python",
   "name": "python",
   "nbconvert_exporter": "python",
   "pygments_lexer": "ipython3",
   "version": "3.6.4"
  }
 },
 "nbformat": 4,
 "nbformat_minor": 2
}
