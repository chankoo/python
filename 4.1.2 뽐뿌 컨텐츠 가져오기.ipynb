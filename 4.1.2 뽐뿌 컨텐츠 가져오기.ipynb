{
 "cells": [
  {
   "cell_type": "code",
   "execution_count": 1,
   "metadata": {},
   "outputs": [],
   "source": [
    "import requests\n",
    "import urllib\n",
    "from bs4 import BeautifulSoup"
   ]
  },
  {
   "cell_type": "markdown",
   "metadata": {},
   "source": [
    "### requests 이용 req"
   ]
  },
  {
   "cell_type": "code",
   "execution_count": 2,
   "metadata": {},
   "outputs": [],
   "source": [
    "seed=\"http://www.ppomppu.co.kr/zboard/zboard.php\"\n",
    "params = {\n",
    "    \"id\":\"freeboard\",\n",
    "    \"page\":\"1\"\n",
    "}\n",
    "headers = {\n",
    "    \"User-agent\":\"Mozilla/5.0 (Windows NT 10.0; Win64; x64) AppleWebKit/537.36 (KHTML, like Gecko) Chrome/67.0.3396.99 Safari/537.36\",\n",
    "    \"Accept-Encoding\":None #인코딩 문제 해결 위해\n",
    "}\n",
    "\n",
    "resp = requests.get(seed, params=params, headers=headers)"
   ]
  },
  {
   "cell_type": "markdown",
   "metadata": {},
   "source": [
    "#### 인코딩 문제 해결 위한 headers의 Accept-Encoding\n",
    "\n",
    "Accept-Encoding은 클라이언트가 웹 서버에게 보내는 HTTP Request 메시지에 명세 하는 값으로서 클라이언트가 이 헤더에 명시된 인코딩(압축)을 이해하고 디코딩(압축 해제)을 수행할 수 있다는 것을 서버에 알리는데 사용한다. 즉, 클라이언트가 압축된 컨텐츠를 받아 압축을 해제할 수 있는 압축 알고리즘을 서버에 알리는 용도로 Accept-Encoding 헤더가 사용된다. IE 6.0에서 서버에 보내는 HTTP Request 메시지를 우리의 멋진 유틸리티인 Fiddler로 살짝 디비보면 Accept-Encoding이 다음과 같이 명시 되어 있음을 알 수 있다.\n",
    "\n",
    "\n",
    "Accept-Encoding: gzip, deflate\n",
    "　\n",
    "요 헤더 값이 의미하는 것은 IE가 gzip 그리고 deflate 인코딩, 즉 압축 알고리즘을 이해하므로 웹 서버가 HTTP Response 메시지를 이들 알고리즘 중 하나로 압축해서 보내도 된다는 것을 서버에게 찔러 주는 것이다.\n",
    "\n",
    "웹 서버는 Accept-Encoding의 값을 살펴보고 필요에 따라서 HTTP Response(HTML, CSS, 이미지 등의 결과물)를 압축 할 수 있다. 웹 서버가 HTTP Response를 압축했다면 서버는 결과가 어떤 알고리즘에 의해 인코딩(압축) 되었는가를 Content-Encoding 헤더를 통해 명시한다. 다음은 http://www.goole.co.kr 에서 반환한 HTTP Response 헤더의 내용이다.\n",
    "\n",
    "HTTP/1.1 200 OK\n",
    "Cache-Control: private\n",
    "Content-Type: text/html\n",
    "Content-Encoding: gzip\n",
    "Server: GWS/2.1\n",
    "Content-Length: 1865\n",
    "Date: Thu, 14 Jul 2005 14:21:24 GMT\n",
    "구글은 Content-Encoding 헤더 값에 gzip에 명시하여, 컨텐츠가 gzip 알고리즘에 의해 압축되었음을 브라우저에게 알리고 있다."
   ]
  },
  {
   "cell_type": "code",
   "execution_count": 3,
   "metadata": {},
   "outputs": [
    {
     "data": {
      "text/plain": [
       "'<!DOCTYPE html PUBLIC \"-//W3C//DTD XHTML 1.0 Transitional//EN\" \"http://www.w3.org/TR/xhtml1/DTD/xhtml1-transitional.dtd\">\\n<html>\\n<head>\\n<meta http-equiv=\"Content-Type\" content=\"text/html; charset=euc-kr\" />\\n<meta http-equiv=\"Content-Script-Type\" content=\"text/javascript\" />\\n<meta http-equiv=\"Content-Style-Type\" content=\"text/css\" />\\n<meta http-equiv=\"X-UA-Compatible\" content=\"IE=edge\">\\n<meta name=\"author\" content=\"PPOMPPU CO.\">\\n<meta name=\"description\" content=\"뽐뿌\">\\n<meta name=\"keywords\" content=\"\">\\n\\n\\n<!--\\n<meta name=\"viewport\" content=\"width=device-width, initial-scale=1.0, minimum-scale=1.0, user-scalable=yes, target-densitydpi=device-dpi\" />\\n-->\\n\\n\\n<meta property=\"og:image\" content=\"http://www.ppomppu.co.kr/images/icon_app_20160427.png\" />\\n\\n<meta property=\"og:site_name\" content=\"뽐뿌\" />\\n\\n<title>뽐뿌 - 자유게시판</title><!--<link href=\\'http://fonts.googleapis.com/css?family=Noto+Sans\\' rel=\\'stylesheet\\' type=\\'text/css\\'>-->\\n\\n<link rel=\"stylesheet\" type=\"text/css\" href=\"//www.ppomppu.co.kr/css/st'"
      ]
     },
     "execution_count": 3,
     "metadata": {},
     "output_type": "execute_result"
    }
   ],
   "source": [
    "resp.text [:1000]"
   ]
  },
  {
   "cell_type": "code",
   "execution_count": 4,
   "metadata": {},
   "outputs": [
    {
     "data": {
      "text/plain": [
       "'euc-kr'"
      ]
     },
     "execution_count": 4,
     "metadata": {},
     "output_type": "execute_result"
    }
   ],
   "source": [
    "resp.encoding"
   ]
  },
  {
   "cell_type": "code",
   "execution_count": 25,
   "metadata": {},
   "outputs": [],
   "source": [
    "import chardet #인코딩 문제 해결위한 라이브러리"
   ]
  },
  {
   "cell_type": "code",
   "execution_count": 26,
   "metadata": {},
   "outputs": [
    {
     "data": {
      "text/plain": [
       "{'confidence': 0.99, 'encoding': 'EUC-KR', 'language': 'Korean'}"
      ]
     },
     "execution_count": 26,
     "metadata": {},
     "output_type": "execute_result"
    }
   ],
   "source": [
    "chardet.detect(resp.content) # 인코딩 추정 / bytes 코드가 기본이니까 resp.content"
   ]
  },
  {
   "cell_type": "code",
   "execution_count": 6,
   "metadata": {},
   "outputs": [],
   "source": [
    "en = resp.content"
   ]
  },
  {
   "cell_type": "code",
   "execution_count": 7,
   "metadata": {},
   "outputs": [],
   "source": [
    "en2 = en.decode('euc-kr')"
   ]
  },
  {
   "cell_type": "code",
   "execution_count": 30,
   "metadata": {},
   "outputs": [
    {
     "data": {
      "text/plain": [
       "str"
      ]
     },
     "execution_count": 30,
     "metadata": {},
     "output_type": "execute_result"
    }
   ],
   "source": [
    "type(en2) #디코드 결과 유니코드인 str을 리턴"
   ]
  },
  {
   "cell_type": "code",
   "execution_count": 12,
   "metadata": {},
   "outputs": [],
   "source": [
    "soup = BeautifulSoup(en2,'html.parser')"
   ]
  },
  {
   "cell_type": "code",
   "execution_count": 22,
   "metadata": {},
   "outputs": [
    {
     "data": {
      "text/plain": [
       "[<title>뽐뿌 - 자유게시판</title>]"
      ]
     },
     "execution_count": 22,
     "metadata": {},
     "output_type": "execute_result"
    }
   ],
   "source": [
    "soup.select('head > meta  title')"
   ]
  },
  {
   "cell_type": "code",
   "execution_count": 25,
   "metadata": {},
   "outputs": [
    {
     "data": {
      "text/plain": [
       "[<a href=\"view.php?id=regulation&amp;page=1&amp;divpage=202&amp;no=6\">[필독] 제목에는 특수 문자 사용을 절대 금지합니다.- 2010년 2월 24일</a>,\n",
       " <a href=\"view.php?id=freeboard&amp;page=1&amp;divpage=1112&amp;no=5960925\"><font class=\"list_title\">몰랐는데 전력 누진세 구간 외 슈퍼유저요금이 있네요</font></a>,\n",
       " <a href=\"view.php?id=freeboard&amp;page=1&amp;divpage=1112&amp;no=5960924\"><font class=\"list_title\">생각해보니 지난 대선 민주당 경선에서 이변일어났으면 ㄷㄷㄷ</font></a>,\n",
       " <a href=\"view.php?id=freeboard&amp;page=1&amp;divpage=1112&amp;no=5960923\"><font class=\"list_title\">그알 이큰별 PD가 학부시절 쓴 글</font></a>,\n",
       " <a href=\"view.php?id=freeboard&amp;page=1&amp;divpage=1112&amp;no=5960922\"><font class=\"list_title\">** 현재 투표 이벤트 진행중 (상품혜자) **</font></a>,\n",
       " <a href=\"view.php?id=freeboard&amp;page=1&amp;divpage=1112&amp;no=5960921\"><font class=\"list_title\">스트레이트 오늘부터 다시 방송시작했군요;;</font></a>,\n",
       " <a href=\"view.php?id=freeboard&amp;page=1&amp;divpage=1112&amp;no=5960920\"><font class=\"list_title\">개인적으로 보는 고유진 특징이</font></a>,\n",
       " <a href=\"view.php?id=freeboard&amp;page=1&amp;divpage=1112&amp;no=5960919\"><font class=\"list_title\">히든싱어 이어폰으로 들으니 쉽긴 하네요 ㅋㅋ</font></a>,\n",
       " <a href=\"view.php?id=freeboard&amp;page=1&amp;divpage=1112&amp;no=5960918\"><font class=\"list_title\">히든싱어) 뽐뿌가 남초 사이트가 맞기는 맞군요</font></a>,\n",
       " <a href=\"view.php?id=freeboard&amp;page=1&amp;divpage=1112&amp;no=5960917\"><font class=\"list_title\">G9 캐쉬 1천원은 다 들어오는것 같군요</font></a>,\n",
       " <a href=\"view.php?id=freeboard&amp;page=1&amp;divpage=1112&amp;no=5960916\"><font class=\"list_title\">브레이킹 배드 언제부터 재밋어지나요?</font></a>,\n",
       " <a href=\"view.php?id=freeboard&amp;page=1&amp;divpage=1112&amp;no=5960915\"><font class=\"list_title\">“촛불혁명 일등공신 이재명 구해주세요”..국민청원 등장</font></a>,\n",
       " <a href=\"view.php?id=freeboard&amp;page=1&amp;divpage=1112&amp;no=5960914\"><font class=\"list_title\">저는 ' 입진보 ' 입니다 .</font></a>,\n",
       " <a href=\"view.php?id=freeboard&amp;page=1&amp;divpage=1112&amp;no=5960913\"><font class=\"list_title\">대탈출 좀비 연기가...ㄷㄷ</font></a>,\n",
       " <a href=\"view.php?id=freeboard&amp;page=1&amp;divpage=1112&amp;no=5960912\"><font class=\"list_title\">안방 드레스룸 욕실 흰색 줄눈 뜯어짐 관련</font></a>,\n",
       " <a href=\"view.php?id=freeboard&amp;page=1&amp;divpage=1112&amp;no=5960911\"><font class=\"list_title\">인권변호사 시절 의뢰인 통수친 이재명 ㄷㄷㄷㄷㄷㄷㄷㄷㄷㄷㄷㄷㄷㄷㄷㄷㄷㄷㄷㄷㄷㄷㄷㄷ...</font></a>,\n",
       " <a href=\"view.php?id=freeboard&amp;page=1&amp;divpage=1112&amp;no=5960910\"><font class=\"list_title\">서울 박원순 시장님 대단하시네요</font></a>,\n",
       " <a href=\"view.php?id=freeboard&amp;page=1&amp;divpage=1112&amp;no=5960909\"><font class=\"list_title\">어라... 뽐쿠폰 관련글이 날아갔네요...</font></a>,\n",
       " <a href=\"view.php?id=freeboard&amp;page=1&amp;divpage=1112&amp;no=5960908\"><font class=\"list_title\">서민 교수 \"문빠가 박사모보다 악질이다\" ........</font></a>,\n",
       " <a href=\"view.php?id=freeboard&amp;page=1&amp;divpage=1112&amp;no=5960907\"><font class=\"list_title\">읍장님 그만 까야 할듯요...</font></a>,\n",
       " <a href=\"view.php?id=freeboard&amp;page=1&amp;divpage=1112&amp;no=5960906\"><font class=\"list_title\">오늘 히든싱어 이분땜에 볼만함</font></a>,\n",
       " <a href=\"view.php?id=freeboard&amp;page=1&amp;divpage=1112&amp;no=5960905\"><font class=\"list_title\">혜경궁 관련해서 폰 수색 당한 분 트윗.jpg</font></a>,\n",
       " <a href=\"view.php?id=freeboard&amp;page=1&amp;divpage=1112&amp;no=5960904\"><font class=\"list_title\">위메프 포인트</font></a>,\n",
       " <a href=\"view.php?id=freeboard&amp;page=1&amp;divpage=1112&amp;no=5960903\"><font class=\"list_title\">고유진 행님은 목관리 잘한거 같네요...</font></a>,\n",
       " <a href=\"view.php?id=freeboard&amp;page=1&amp;divpage=1112&amp;no=5960901\"><font class=\"list_title\">낮에 물놀이를 해서 그런가..</font></a>,\n",
       " <a href=\"view.php?id=freeboard&amp;page=1&amp;divpage=1112&amp;no=5960900\"><font class=\"list_title\">히든싱어 문제의 녹색가디건.jpg</font></a>,\n",
       " <a href=\"view.php?id=freeboard&amp;page=1&amp;divpage=1112&amp;no=5960899\"><font class=\"list_title\">3시간전 올라온 이재명 도지사 트윗......</font></a>,\n",
       " <a href=\"view.php?id=freeboard&amp;page=1&amp;divpage=1112&amp;no=5960898\"><font class=\"list_title\">이번 라운드는 1번이 잘하네여ㅛ ㅋㅋ</font></a>,\n",
       " <a href=\"view.php?id=freeboard&amp;page=1&amp;divpage=1112&amp;no=5960897\"><font class=\"list_title\">히든싱어, 고유진(플라워) 검색해보니 놀랍네요</font></a>,\n",
       " <a href=\"view.php?id=freeboard&amp;page=1&amp;divpage=1112&amp;no=5960896\"><font class=\"list_title\">음 이번엔 대박이네요.</font></a>,\n",
       " <a href=\"view.php?id=freeboard&amp;page=1&amp;divpage=1112&amp;no=5960895\"><font class=\"list_title\">3번인듯ㅋ</font></a>]"
      ]
     },
     "execution_count": 25,
     "metadata": {},
     "output_type": "execute_result"
    }
   ],
   "source": [
    "# 태깅이 잘 안되어있는데 링크에 css selector를 이용하여 링크에 해당하는  a태그에 접근가능하다\n",
    "# 클래스 이름이 list_vspace td인 태그의 자식 중 img 태그를 찾고, + 연산자로 그 뒤에 있는 a 태그에 접근한다\n",
    "soup.select('td.list_vspace > img + a')"
   ]
  },
  {
   "cell_type": "code",
   "execution_count": 37,
   "metadata": {},
   "outputs": [],
   "source": [
    "#함수로 만들자\n",
    "# toPage로 해당 페이지까지 for문을 돌며 링크를 수집한다\n",
    "def getLinks(seed, path, toPage):\n",
    "    headers = {\n",
    "    \"User-agent\":\"Mozilla/5.0 (Windows NT 10.0; Win64; x64) AppleWebKit/537.36 (KHTML, like Gecko) Chrome/67.0.3396.99 Safari/537.36\",\n",
    "    \"Accept-Encoding\":None}\n",
    "    links =[]\n",
    "    \n",
    "    for p in range(1,toPage+1):\n",
    "        try:\n",
    "            params = {\n",
    "                \"id\":\"freeboard\",\n",
    "                \"page\":str(p)}\n",
    "            resp = requests.get(seed,params=params,headers=headers)\n",
    "            soup = BeautifulSoup(resp.content.decode('euc-kr'), 'html.parser')\n",
    "            links.extend(html.select(path))\n",
    "            \n",
    "        \n",
    "        except Exception as e:\n",
    "            print(e)\n",
    "            continue\n",
    "        \n",
    "    return [link['href'] for link in links if link.has_attr('href') == True]"
   ]
  },
  {
   "cell_type": "code",
   "execution_count": 35,
   "metadata": {},
   "outputs": [],
   "source": [
    "seed = \"http://www.ppomppu.co.kr/zboard/zboard.php\"\n",
    "path = 'td.list_vspace > img + a'"
   ]
  },
  {
   "cell_type": "code",
   "execution_count": 38,
   "metadata": {},
   "outputs": [
    {
     "name": "stdout",
     "output_type": "stream",
     "text": [
      "'euc_kr' codec can't decode byte 0xb4 in position 65304: illegal multibyte sequence\n",
      "'euc_kr' codec can't decode byte 0x89 in position 76674: illegal multibyte sequence\n"
     ]
    },
    {
     "data": {
      "text/plain": [
       "['view.php?id=regulation&page=1&divpage=202&no=6',\n",
       " 'view.php?id=freeboard&page=1&divpage=1112&no=5960925',\n",
       " 'view.php?id=freeboard&page=1&divpage=1112&no=5960924',\n",
       " 'view.php?id=freeboard&page=1&divpage=1112&no=5960923',\n",
       " 'view.php?id=freeboard&page=1&divpage=1112&no=5960922',\n",
       " 'view.php?id=freeboard&page=1&divpage=1112&no=5960921',\n",
       " 'view.php?id=freeboard&page=1&divpage=1112&no=5960920',\n",
       " 'view.php?id=freeboard&page=1&divpage=1112&no=5960919',\n",
       " 'view.php?id=freeboard&page=1&divpage=1112&no=5960918',\n",
       " 'view.php?id=freeboard&page=1&divpage=1112&no=5960917',\n",
       " 'view.php?id=freeboard&page=1&divpage=1112&no=5960916',\n",
       " 'view.php?id=freeboard&page=1&divpage=1112&no=5960915',\n",
       " 'view.php?id=freeboard&page=1&divpage=1112&no=5960914',\n",
       " 'view.php?id=freeboard&page=1&divpage=1112&no=5960913',\n",
       " 'view.php?id=freeboard&page=1&divpage=1112&no=5960912']"
      ]
     },
     "execution_count": 38,
     "metadata": {},
     "output_type": "execute_result"
    }
   ],
   "source": [
    "# 10 페이지까지의 게시글 링크를 수집하였다 \n",
    "# 게시글 중 2개의 글이 인코딩 문제로 수집되지 못했다\n",
    "getContent(seed,path,10)[:15]"
   ]
  },
  {
   "cell_type": "markdown",
   "metadata": {},
   "source": [
    "### urllib"
   ]
  },
  {
   "cell_type": "code",
   "execution_count": 47,
   "metadata": {},
   "outputs": [],
   "source": [
    "seed=\"http://www.ppomppu.co.kr/zboard/zboard.php?\"\n",
    "params = {\n",
    "    \"id\":\"freeboard\",\n",
    "    \"page\":\"1\"\n",
    "}\n",
    "headers = {\"User-agent\":\"Mozilla/5.0 (Windows NT 10.0; Win64; x64) AppleWebKit/537.36 (KHTML, like Gecko) Chrome/67.0.3396.99 Safari/537.36\"}"
   ]
  },
  {
   "cell_type": "code",
   "execution_count": 48,
   "metadata": {},
   "outputs": [
    {
     "name": "stdout",
     "output_type": "stream",
     "text": [
      "id=freeboard&page=1\n"
     ]
    }
   ],
   "source": [
    "print(urllib.parse.urlencode(params))"
   ]
  },
  {
   "cell_type": "code",
   "execution_count": 49,
   "metadata": {},
   "outputs": [
    {
     "data": {
      "text/plain": [
       "<Request [http://www.ppomppu.co.kr/zboard/zboard.php?id=freeboard&page=1]>"
      ]
     },
     "execution_count": 49,
     "metadata": {},
     "output_type": "execute_result"
    }
   ],
   "source": [
    "req = requests.Request(seed+urllib.parse.urlencode(params), headers=headers)\n",
    "req"
   ]
  },
  {
   "cell_type": "code",
   "execution_count": 52,
   "metadata": {},
   "outputs": [],
   "source": [
    "# 에러남, 가급적 requests를 이용하자\n",
    "# res = urllib.request.urlopen(req).read().decode(\"euc-kr\",'ignore').encode('utf-8')\n",
    "# res"
   ]
  },
  {
   "cell_type": "code",
   "execution_count": null,
   "metadata": {},
   "outputs": [],
   "source": []
  }
 ],
 "metadata": {
  "kernelspec": {
   "display_name": "Python 3",
   "language": "python",
   "name": "python3"
  },
  "language_info": {
   "codemirror_mode": {
    "name": "ipython",
    "version": 3
   },
   "file_extension": ".py",
   "mimetype": "text/x-python",
   "name": "python",
   "nbconvert_exporter": "python",
   "pygments_lexer": "ipython3",
   "version": "3.6.4"
  }
 },
 "nbformat": 4,
 "nbformat_minor": 2
}
