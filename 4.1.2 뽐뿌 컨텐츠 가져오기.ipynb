{
 "cells": [
  {
   "cell_type": "code",
   "execution_count": 1,
   "metadata": {},
   "outputs": [],
   "source": [
    "import requests\n",
    "import urllib\n",
    "from bs4 import BeautifulSoup"
   ]
  },
  {
   "cell_type": "markdown",
   "metadata": {},
   "source": [
    "### requests 이용 req"
   ]
  },
  {
   "cell_type": "code",
   "execution_count": 2,
   "metadata": {},
   "outputs": [],
   "source": [
    "seed=\"http://www.ppomppu.co.kr/zboard/zboard.php\"\n",
    "params = {\n",
    "    \"id\":\"freeboard\",\n",
    "    \"page\":\"1\"\n",
    "}\n",
    "headers = {\n",
    "    \"User-agent\":\"Mozilla/5.0 (Windows NT 10.0; Win64; x64) AppleWebKit/537.36 (KHTML, like Gecko) Chrome/67.0.3396.99 Safari/537.36\",\n",
    "    \"Accept-Encoding\":None #인코딩 문제 해결 위해\n",
    "}\n",
    "\n",
    "resp = requests.get(seed, params=params, headers=headers)"
   ]
  },
  {
   "cell_type": "markdown",
   "metadata": {},
   "source": [
    "Accept-Encoding은 클라이언트가 웹 서버에게 보내는 HTTP Request 메시지에 명세 하는 값으로서 클라이언트가 이 헤더에 명시된 인코딩(압축)을 이해하고 디코딩(압축 해제)을 수행할 수 있다는 것을 서버에 알리는데 사용한다. 즉, 클라이언트가 압축된 컨텐츠를 받아 압축을 해제할 수 있는 압축 알고리즘을 서버에 알리는 용도로 Accept-Encoding 헤더가 사용된다. IE 6.0에서 서버에 보내는 HTTP Request 메시지를 우리의 멋진 유틸리티인 Fiddler로 살짝 디비보면 Accept-Encoding이 다음과 같이 명시 되어 있음을 알 수 있다.\n",
    "\n",
    "\n",
    "Accept-Encoding: gzip, deflate\n",
    "　\n",
    "요 헤더 값이 의미하는 것은 IE가 gzip 그리고 deflate 인코딩, 즉 압축 알고리즘을 이해하므로 웹 서버가 HTTP Response 메시지를 이들 알고리즘 중 하나로 압축해서 보내도 된다는 것을 서버에게 찔러 주는 것이다.\n",
    "\n",
    "웹 서버는 Accept-Encoding의 값을 살펴보고 필요에 따라서 HTTP Response(HTML, CSS, 이미지 등의 결과물)를 압축 할 수 있다. 웹 서버가 HTTP Response를 압축했다면 서버는 결과가 어떤 알고리즘에 의해 인코딩(압축) 되었는가를 Content-Encoding 헤더를 통해 명시한다. 다음은 http://www.goole.co.kr 에서 반환한 HTTP Response 헤더의 내용이다.\n",
    "\n",
    "HTTP/1.1 200 OK\n",
    "Cache-Control: private\n",
    "Content-Type: text/html\n",
    "Content-Encoding: gzip\n",
    "Server: GWS/2.1\n",
    "Content-Length: 1865\n",
    "Date: Thu, 14 Jul 2005 14:21:24 GMT\n",
    "구글은 Content-Encoding 헤더 값에 gzip에 명시하여, 컨텐츠가 gzip 알고리즘에 의해 압축되었음을 브라우저에게 알리고 있다."
   ]
  },
  {
   "cell_type": "code",
   "execution_count": 3,
   "metadata": {},
   "outputs": [
    {
     "data": {
      "text/plain": [
       "'<!DOCTYPE html PUBLIC \"-//W3C//DTD XHTML 1.0 Transitional//EN\" \"http://www.w3.org/TR/xhtml1/DTD/xhtml1-transitional.dtd\">\\n<html>\\n<head>\\n<meta http-equiv=\"Content-Type\" content=\"text/html; charset=euc-kr\" />\\n<meta http-equiv=\"Content-Script-Type\" content=\"text/javascript\" />\\n<meta http-equiv=\"Content-Style-Type\" content=\"text/css\" />\\n<meta http-equiv=\"X-UA-Compatible\" content=\"IE=edge\">\\n<meta name=\"author\" content=\"PPOMPPU CO.\">\\n<meta name=\"description\" content=\"뽐뿌\">\\n<meta name=\"keywords\" content=\"\">\\n\\n\\n<!--\\n<meta name=\"viewport\" content=\"width=device-width, initial-scale=1.0, minimum-scale=1.0, user-scalable=yes, target-densitydpi=device-dpi\" />\\n-->\\n\\n\\n<meta property=\"og:image\" content=\"http://www.ppomppu.co.kr/images/icon_app_20160427.png\" />\\n\\n<meta property=\"og:site_name\" content=\"뽐뿌\" />\\n\\n<title>뽐뿌 - 자유게시판</title><!--<link href=\\'http://fonts.googleapis.com/css?family=Noto+Sans\\' rel=\\'stylesheet\\' type=\\'text/css\\'>-->\\n\\n<link rel=\"stylesheet\" type=\"text/css\" href=\"//www.ppomppu.co.kr/css/st'"
      ]
     },
     "execution_count": 3,
     "metadata": {},
     "output_type": "execute_result"
    }
   ],
   "source": [
    "resp.text [:1000]"
   ]
  },
  {
   "cell_type": "code",
   "execution_count": 4,
   "metadata": {},
   "outputs": [
    {
     "data": {
      "text/plain": [
       "'euc-kr'"
      ]
     },
     "execution_count": 4,
     "metadata": {},
     "output_type": "execute_result"
    }
   ],
   "source": [
    "resp.encoding"
   ]
  },
  {
   "cell_type": "code",
   "execution_count": 25,
   "metadata": {},
   "outputs": [],
   "source": [
    "import chardet #인코딩 문제 해결위한 라이브러리"
   ]
  },
  {
   "cell_type": "code",
   "execution_count": 26,
   "metadata": {},
   "outputs": [
    {
     "data": {
      "text/plain": [
       "{'confidence': 0.99, 'encoding': 'EUC-KR', 'language': 'Korean'}"
      ]
     },
     "execution_count": 26,
     "metadata": {},
     "output_type": "execute_result"
    }
   ],
   "source": [
    "chardet.detect(resp.content) # 인코딩 추정 / bytes 코드가 기본이니까 resp.content"
   ]
  },
  {
   "cell_type": "code",
   "execution_count": 6,
   "metadata": {},
   "outputs": [],
   "source": [
    "en = resp.content"
   ]
  },
  {
   "cell_type": "code",
   "execution_count": 7,
   "metadata": {},
   "outputs": [],
   "source": [
    "en2 = en.decode('euc-kr')"
   ]
  },
  {
   "cell_type": "code",
   "execution_count": 30,
   "metadata": {},
   "outputs": [
    {
     "data": {
      "text/plain": [
       "str"
      ]
     },
     "execution_count": 30,
     "metadata": {},
     "output_type": "execute_result"
    }
   ],
   "source": [
    "type(en2) #디코드 결과 유니코드인 str을 리턴"
   ]
  },
  {
   "cell_type": "code",
   "execution_count": 12,
   "metadata": {},
   "outputs": [],
   "source": [
    "html = BeautifulSoup(en2,'html.parser')"
   ]
  },
  {
   "cell_type": "code",
   "execution_count": 13,
   "metadata": {},
   "outputs": [
    {
     "data": {
      "text/plain": [
       "[]"
      ]
     },
     "execution_count": 13,
     "metadata": {},
     "output_type": "execute_result"
    }
   ],
   "source": [
    "html.select('td.list_space')"
   ]
  },
  {
   "cell_type": "code",
   "execution_count": null,
   "metadata": {},
   "outputs": [],
   "source": []
  },
  {
   "cell_type": "code",
   "execution_count": null,
   "metadata": {},
   "outputs": [],
   "source": []
  },
  {
   "cell_type": "code",
   "execution_count": 21,
   "metadata": {},
   "outputs": [
    {
     "data": {
      "text/plain": [
       "b'<html>\\r\\n<head>\\r\\n<meta http-equiv=\"content-type\" content=\"text/html; charset=euc-kr\">\\r\\n<meta name=\"viewport\" content=\"width=device-width,initial-scale=1\">\\r\\n<title>AI Study</title>\\r\\n<meta name=\"generator\" content=\"Namo WebEditor\">\\r\\n<style><!--\\r\\n.leading200 { line-height:200%; }\\r\\n.leading180 { line-height:180%; }\\r\\n.leading150 { line-height:150%; }\\r\\n.leading100 { line-height:100%; }\\r\\na:link { text-decoration:none; }\\r\\na:hover { color:red; }\\r\\na:visited { text-decoration:none; }\\r\\na:active { text-decoration:none; }\\r\\n-->\\r\\n</style>\\r\\n\\r\\n<meta name=\"namo_guide\" content=\"h456\">\\r\\n</head>\\r\\n\\r\\n<body bgcolor=\"#FFFFDF\" text=\"black\" link=\"blue\" vlink=\"purple\" alink=\"red\">\\r\\n<p style=\"line-height:150%;\"><font\\r\\n             face=\"Times New Roman\"><b><span style=\"font-size:12pt;\">&nbsp;&nbsp;&nbsp;&nbsp;&nbsp;&nbsp;&nbsp;&nbsp;&nbsp;&nbsp;&nbsp;&nbsp;&nbsp;&nbsp;&nbsp;&nbsp;&nbsp;&nbsp;&nbsp;&nbsp;&nbsp;&nbsp;&nbsp;&nbsp;&nbsp;&nbsp;&nbsp;&nbsp;&nbsp;&nbsp;&nbsp;&nbsp;&nbsp;&nbsp;&nbsp;&nbsp;&nbsp;&nbsp;&nbsp;</span></b></font><span style=\"font-size:12pt;\"><b><font face=\"Times New Roman\">&nbsp;&nbsp;</font></b></span><a href=\"http://www.aistudy.com\"><b><span style=\"font-size:12pt;\"><img src=\"images/STUDY.gif\" width=\"342\"\\r\\nheight=\"65\" border=\"0\" align=\"texttop\"></span></b></a><span style=\"font-size:12pt;\"><b><font face=\"Times New Roman\"><a href=\"about.htm\">about</a> \\r\\n&nbsp;</font></b></span></p>\\r\\n<p style=\"line-height:150%;\" align=\"left\"><b><span style=\"font-size:12pt; letter-spacing:-0.38pt;\"><font face=\"Times New Roman\">AI \\r\\n\\xb0\\xf8\\xba\\xce\\xb8\\xa6 \\xc0\\xa7\\xc7\\xd8\\xbc\\xad\\xb4\\xc2 </font></span><font face=\"Times New Roman\"><a href=\"math/mathematics.htm\"><span style=\"font-size:12pt;\">\\xbc\\xf6\\xc7\\xd0</span></a></font><span style=\"font-size:12pt; letter-spacing:-0.38pt;\"><font face=\"Times New Roman\">, \\r\\n\\xc6\\xaf\\xc8\\xf7 </font></span><a href=\"logic/logic.htm\"><font face=\"Times New Roman\"><span style=\"font-size:12pt;\">\\xbc\\xf6\\xb8\\xae\\xb3\\xed\\xb8\\xae\\xc7\\xd0</span></font></a><span style=\"font-size:12pt; letter-spacing:-0.38pt;\"><font face=\"Times New Roman\">&nbsp;\\xbf\\xa1 \\r\\n\\xb4\\xeb\\xc7\\xd1 \\xb1\\xed\\xc0\\xcc\\xc0\\xd6\\xb4\\xc2 \\xc1\\xf6\\xbd\\xc4\\xc0\\xcc \\xc7\\xca\\xbf\\xe4\\xc7\\xcf\\xb4\\xd9. &nbsp;\\xb0\\xfa\\xc7\\xd0 \\xb0\\xf8\\xba\\xce\\xb4\\xc2 \\xb8\\xb9\\xc0\\xcc \\xc7\\xd2\\xbc\\xf6\\xb7\\xcf \\xc1\\xc1\\xc0\\xba\\xb5\\xa5 &nbsp;\\xc6\\xaf\\xc8\\xf7 \\xbb\\xfd\\xb9\\xb0\\xc7\\xd0\\xc0\\xfb &nbsp;\\xc1\\xa2\\xb1\\xd9\\xc0\\xbb\\xc0\\xa7\\xc7\\xd8 </font></span><a href=\"psychology/psychology.htm\"><span style=\"font-size:12pt; letter-spacing:-0.38pt;\"><font face=\"Times New Roman\">\\xbd\\xc9\\xb8\\xae\\xc7\\xd0</font></span></a><span style=\"font-size:12pt; letter-spacing:-0.38pt;\"><font face=\"Times New Roman\">&nbsp;\\xb0\\xfa \\r\\n\\xbd\\xc5\\xb0\\xe6\\xb0\\xe8\\xc5\\xeb\\xc0\\xc7 </font></span><a href=\"physiology/physiology.htm\"><span style=\"font-size:12pt; letter-spacing:-0.38pt;\"><font face=\"Times New Roman\">\\xbb\\xfd\\xb8\\xae\\xc7\\xd0</font></span></a><span style=\"font-size:12pt; letter-spacing:-0.38pt;\"><font face=\"Times New Roman\">&nbsp;\\xc0\\xcc \\r\\n\\xb0\\xf8\\xba\\xce\\xb5\\xc7\\xbe\\xee\\xbe\\xdf \\xc7\\xd1\\xb4\\xd9. &nbsp;\\xc3\\xd6\\xbc\\xd2\\xc7\\xd1<a href=\"program/c.htm\"> C</a>, <a href=\"program/lisp/lisp.htm\">Lisp</a>, <a href=\"program/prolog/prolog.htm\">Prolog</a> \\r\\n\\xbf\\xcd \\xb1\\xe2\\xba\\xbb\\xc0\\xfb\\xc0\\xce \\xb1\\xe2\\xb0\\xe8\\xbe\\xee\\xb8\\xa6 \\xb9\\xe8\\xbf\\xf6\\xbe\\xdf \\xc7\\xcf\\xb8\\xe7, \\xc3\\xd6\\xb1\\xd9\\xbf\\xa1\\xb4\\xc2 <a href=\"program/cpp.htm\">C++</a>, <a href=\"program/java.htm\">Java</a> \\xb8\\xa6 \\xc6\\xf7\\xc7\\xd4\\xbd\\xc3\\xc4\\xd1\\xbe\\xdf \\xc7\\xd2\\xb0\\xcd\\xc0\\xcc\\xb4\\xd9. \\r\\n( <a href=\"pioneer/McCarthy.J.htm\">\\xc1\\xb8 \\xb8\\xc5\\xc4\\xab\\xbd\\xc3</a>)</font></span></b></p>\\r\\n<p align=\"left\" style=\"line-height:150%;\"><B><FONT \\r\\nface=\"Times New Roman\"><span style=\"font-size:12pt;\">Mission \\r\\n&nbsp;&nbsp;&nbsp;&nbsp;&nbsp;&nbsp;&nbsp;</span></font></b><a href=\"ai/ai.htm\"><b><font face=\"Times New Roman\"><span style=\"font-size:12pt;\">&nbsp;&nbsp;&nbsp;&nbsp;AI \\xb6\\xf5 \\r\\n            \\xb9\\xab\\xbe\\xf9\\xc0\\xce\\xb0\\xa1</span></font></b></a><b><a href=\"terms/glossary.htm\"><font face=\"Times New Roman\"><span style=\"font-size:12pt;\">&nbsp;&nbsp;&nbsp;&nbsp;&nbsp;&nbsp;&nbsp;</span></font><span style=\"font-size:12pt;\"><font face=\"Times New Roman\" color=\"red\">Glossary(\\xbf\\xeb\\xbe\\xee)</font></span><font face=\"Times New Roman\"><span style=\"font-size:12pt;\">\\r\\n            </span></font></a><FONT \\r\\nface=\"Times New Roman\"><span style=\"font-size:12pt;\"> &nbsp;&nbsp;&nbsp;&nbsp;&nbsp;</span></font></b><a href=\"history/history.htm\"><b><font face=\"Times New Roman\"><span style=\"font-size:12pt;\">&nbsp;history</span></font></b></a><b><font face=\"Times New Roman\"><a href=\"\\xc0\\xce\\xb0\\xf8\\xc1\\xf6\\xb4\\xc9\\xc0\\xc7%20\\xbf\\xaa\\xbb\\xe7.htm\"><span style=\"font-size:12pt;\"> </span></a><span style=\"font-size:12pt;\">&nbsp;&nbsp;&nbsp;&nbsp;&nbsp;&nbsp;&nbsp;</span></font></b><a href=\"pioneer/pioneers.htm\"><b><font face=\"Times New Roman\"><span style=\"font-size:12pt;\">pioneer(world</span></font></b></a><B><FONT\\r\\n\\r\\nface=\"Times New Roman\"><span style=\"font-size:12pt;\">            , &nbsp;&nbsp; </span><a href=\"pioneer/pioneers_kor.htm\"><span style=\"font-size:12pt;\">korea)</span></a><span style=\"font-size:12pt;\"> &nbsp;&nbsp;&nbsp;&nbsp;&nbsp;</span></font></b>&nbsp;&nbsp;<font\\r\\n             face=\"Times New Roman\"><b><a href=\"lab/lab.htm\"><span style=\"font-size:12pt;\">lab</span></a><span style=\"font-size:12pt;\"> &nbsp;&nbsp;&nbsp;&nbsp;</span><a href=\"life/life.htm\"><span style=\"font-size:12pt;\">&nbsp;life</span></a><span style=\"font-size:12pt;\"> &nbsp;&nbsp;</span><a href=\"ai/branch.htm\"><span style=\"font-size:12pt;\">&nbsp;&nbsp;branch</span></a><span style=\"font-size:12pt;\"> &nbsp;&nbsp;</span></b></font><B><FONT \\r\\nface=\"Times New Roman\"><span style=\"font-size:12pt;\"> &nbsp;&nbsp;</span></font></b><font\\r\\n             face=\"Times New Roman\"><b><a href=\"demo/demo.htm\"><span style=\"font-size:12pt;\">&nbsp;&nbsp;demo</span></a><span style=\"font-size:12pt;\"> &nbsp;&nbsp;</span></b></font><font\\r\\n             face=\"Times New Roman\"><b><span style=\"font-size:12pt;\"> &nbsp;&nbsp;&nbsp;</span></b></font><b><span style=\"font-size:12pt;\"><font face=\"Times New Roman\"><a href=\"default_e.htm\">English</a></font></span></b></p>\\r\\n<p align=\"left\" style=\"line-height:150%;\"><B><FONT \\r\\nface=\"Times New Roman\"><span style=\"font-size:12pt;\">Key word &nbsp;</span></font></b><font\\r\\n             face=\"Times New Roman\"><b><a href=\"philosophy/philosophy.htm\"><span style=\"font-size:12pt;\"> &nbsp;&nbsp;&nbsp;&nbsp;&nbsp;&nbsp;\\xc3\\xb6\\xc7\\xd0</span></a><span style=\"font-size:12pt;\">&nbsp;&nbsp;&nbsp;</span></b></font><a href=\"linguistics/linguistics.htm\"><b><font face=\"Times New Roman\"><span style=\"font-size:12pt;\">\\xbe\\xf0\\xbe\\xee\\xc7\\xd0</span></font></b></a><B><FONT \\r\\nface=\"Times New Roman\"><span style=\"font-size:12pt;\"> &nbsp;&nbsp;</span></font></b><a href=\"robot/robot.htm\"><font face=\"Times New Roman\"><b><span style=\"font-size:12pt;\">\\xb7\\xce\\xba\\xbf</span></b></font></a><font\\r\\n             face=\"Times New Roman\"><b><span style=\"font-size:12pt;\"> &nbsp;&nbsp;</span></b></font><a href=\"game/game.htm\"><b><font face=\"Times New Roman\"><span style=\"font-size:12pt;\">\\xb0\\xd4\\xc0\\xd3</span></font></b></a><B><FONT \\r\\nface=\"Times New Roman\"><span style=\"font-size:12pt;\">   &nbsp;&nbsp;</span><a href=\"neural/neural_network.htm\"><span style=\"font-size:12pt;\">\\xbd\\xc5\\xb0\\xe6\\xb8\\xc1</span></a><span style=\"font-size:12pt;\"> &nbsp;&nbsp;</span><a href=\"fuzzy/fuzzy.htm\"><span style=\"font-size:12pt;\">\\xc6\\xdb\\xc1\\xf6</span></a><span style=\"font-size:12pt;\"> &nbsp;&nbsp;</span><a href=\"pattern/pattern_recognition.htm\"><span style=\"font-size:12pt;\">\\xc6\\xd0\\xc5\\xcf\\xc0\\xce\\xbd\\xc4</span></a><span style=\"font-size:12pt;\"> &nbsp;&nbsp;</span><a href=\"expert/expert_system.htm\"><span style=\"font-size:12pt;\">\\xc0\\xfc\\xb9\\xae\\xb0\\xa1\\xbd\\xc3\\xbd\\xba\\xc5\\xdb</span></a><span\\r\\nstyle=\"font-size:12pt;\">&nbsp;&nbsp;&nbsp;&nbsp;&nbsp;</span><a href=\"reasoning/reasoning.htm\"><span style=\"font-size:12pt;\">\\xc3\\xdf\\xb7\\xd0</span></a><span style=\"font-size:12pt;\"> \\r\\n            &nbsp;&nbsp;</span></font></b><a href=\"problem/problem_solving.htm\"><b><font face=\"Times New Roman\"><span style=\"font-size:12pt;\">\\xb9\\xae\\xc1\\xa6\\xc7\\xd8\\xb0\\xe1</span></font></b></a><B><FONT \\r\\nface=\"Times New Roman\"><span style=\"font-size:12pt;\"> &nbsp;&nbsp;&nbsp;</span></font><a href=\"algorithm/algorithm.htm\"><font face=\"Times New Roman\">\\xbe\\xcb\\xb0\\xed\\xb8\\xae\\xc1\\xf2</font></a><FONT \\r\\nface=\"Times New Roman\"><span style=\"font-size:12pt;\">&nbsp;</span><a href=\"heuristic/heuristic.htm\"><span style=\"font-size:12pt;\">&nbsp;&nbsp;\\xc8\\xde\\xb8\\xae\\xbd\\xba\\xc6\\xbd</span></a><span style=\"font-size:12pt;\"> \\r\\n            &nbsp;<a href=\"computer/computer.htm\">&nbsp;\\xc4\\xc4\\xc7\\xbb\\xc5\\xcd</a> &nbsp;<a href=\"physiology/brain/brain.htm\">\\xb5\\xce\\xb3\\xfa</a> \\r\\n            &nbsp;</span></font></b></p>\\r\\n<p align=\"left\" style=\"line-height:150%;\"><B><span style=\"font-size:12pt;\"><font face=\"Times New Roman\" color=\"red\">Hot Keyword </font></span><a href=\"http://bci.korea.ac.kr/\"><font face=\"Times New Roman\">&nbsp;&nbsp;</font></a><a href=\"demo/alphago.htm\"><font face=\"Times New Roman\">AlphaGo</font></a><span style=\"font-size:12pt;\"><font face=\"Times New Roman\">&nbsp;&nbsp;&nbsp;&nbsp;</font></span><a href=\"learning/machine_learning.htm\"><font face=\"Times New Roman\">\\xb8\\xd3\\xbd\\xc5\\xb7\\xaf\\xb4\\xd7&nbsp;&nbsp;&nbsp;&nbsp;</font></a><a href=\"learning/deep_learning.htm\"><font face=\"Times New Roman\" color=\"blue\">\\xb5\\xf6 \\xb7\\xaf\\xb4\\xd7</font></a><font color=\"blue\"><a href=\"learning/deep_learning.htm\">&nbsp;&nbsp;&nbsp;</a></font></b><SPAN \\r\\nlang=EN-US><b><a href=\"learning/mining/big_data.htm\"><font face=\"Times New Roman\">\\xba\\xf2\\xb5\\xa5\\xc0\\xcc\\xc5\\xcd</font></a></b></SPAN><B><font color=\"blue\"><a href=\"learning/deep_learning.htm\">&nbsp;</a></font><a href=\"learning/machine_learning.htm\"><font face=\"Times New Roman\">&nbsp;&nbsp;</font></a><span style=\"font-size:12pt;\"><font face=\"Times New Roman\">&nbsp;</font></span><a href=\"thought/fourth_industrial_revoluiton.htm\"><font face=\"Times New Roman\">4\\xc2\\xf7 \\xbb\\xea\\xbe\\xf7\\xc7\\xf5\\xb8\\xed</font></a><span style=\"font-size:12pt;\"><font face=\"Times New Roman\">&nbsp;&nbsp;&nbsp;</font></span><a href=\"program/tensorflow.htm\"><font face=\"Times New Roman\">TensorFlow</font></a><font face=\"Times New Roman\"> </font><span style=\"font-size:12pt;\"><font face=\"Times New Roman\">&nbsp;&nbsp;</font></span><a href=\"linguistics/natural/chatbot.htm\"><font face=\"Times New Roman\">&nbsp;Chatbot &nbsp;&nbsp;&nbsp;</font></a><a href=\"program/programming.htm\"><font face=\"Times New Roman\">\\xc7\\xc1\\xb7\\xce\\xb1\\xd7\\xb7\\xa1\\xb9\\xd6</font></a></b></p>\\r\\n<p align=\"left\" style=\"line-height:150%;\"><B><FONT \\r\\nface=\"Times New Roman\"><span style=\"font-size:12pt;\">Site &nbsp;&nbsp;&nbsp;&nbsp;&nbsp;&nbsp;&nbsp;&nbsp;&nbsp;&nbsp;&nbsp;&nbsp;&nbsp;&nbsp;&nbsp;</span></font></b><a href=\"http://aitopics.net/A-ZIndex\"><b><font face=\"Times New Roman\"><span style=\"font-size:12pt;\">&nbsp;&nbsp;&nbsp;</span></font></b></a><b><font face=\"Times New Roman\"><span style=\"font-size:12pt;\"><a href=\"http://www.aaai.org\">AAAI</a></span></font></b><a href=\"http://aitopics.net/A-ZIndex\"><b><font face=\"Times New Roman\"><span style=\"font-size:12pt;\"> &nbsp;&nbsp;&nbsp;&nbsp;            </span></font></b></a><b><font face=\"Times New Roman\"><span style=\"font-size:12pt;\"><a href=\"http://aitopics.org/\">AI \\r\\n            Topics</a> &nbsp;&nbsp;&nbsp;</span></font></b><a href=\"lab/best5.htm\"><b><font face=\"Times New Roman\"><span style=\"font-size:12pt;\">&nbsp;                        </span></font></b></a><B><A \\r\\nhref=\"ai/ai_resource.htm\"><FONT \\r\\nface=\"Times New Roman\"><span style=\"font-size:12pt;\">            \\xbf\\xdc\\xb1\\xb9\\xc7\\xd0\\xc8\\xb8</span></FONT></A><FONT \\r\\nface=\"Times New Roman\"><span style=\"font-size:12pt;\"> \\r\\n            &nbsp;&nbsp;&nbsp;<a href=\"help/society.htm\">\\xc7\\xd0\\xc8\\xb8&nbsp;&nbsp;&nbsp;&nbsp;</a><a href=\"help/event.htm\">event</a></span></font><font color=\"#C00000\"> &nbsp;</font><FONT \\r\\nface=\"Times New Roman\"><span style=\"font-size:12pt;\">&nbsp;.... </span></font></b></p>\\r\\n<p align=\"left\" style=\"line-height:150%;\"><B><FONT \\r\\nface=\"Times New Roman\"><span style=\"font-size:12pt;\">Reference \\r\\n            &nbsp;&nbsp;&nbsp;&nbsp;&nbsp;&nbsp;&nbsp;</span><a href=\"paper/ai_book.htm\"><span style=\"font-size:12pt;\">book</span></a></font></b><B><FONT \\r\\nface=\"Times New Roman\"><span style=\"font-size:12pt;\"> &nbsp;&nbsp;</span></font></b><a href=\"news/news.htm\"><b><font face=\"Times New Roman\"><span style=\"font-size:12pt;\"> &nbsp;&nbsp;news</span></font></b></a><B><FONT \\r\\nface=\"Times New Roman\"><span style=\"font-size:12pt;\"> &nbsp;&nbsp;</span></font><a href=\"art/art.htm\"><font face=\"Times New Roman\"><span style=\"font-size:12pt;\"> \\r\\n            &nbsp;fiction</span></font></a><FONT \\r\\nface=\"Times New Roman\"><span style=\"font-size:12pt;\"> &nbsp;&nbsp;&nbsp;</span></font><a href=\"art/ai_movie.htm\"><font face=\"Times New Roman\">movie</font></a> \\r\\n<FONT \\r\\nface=\"Times New Roman\"><span style=\"font-size:12pt;\">&nbsp;<a href=\"video/ai_video.htm\">&nbsp;video</a>&nbsp;&nbsp;</span></font></b><a href=\"paper/biblio.htm\"><b><font face=\"Times New Roman\"><span style=\"font-size:12pt;\">&nbsp;&nbsp;bibliography</span></font></b></a><a href=\"humor/humor.htm\"><b><font face=\"Times New Roman\"><span style=\"font-size:12pt;\"> \\r\\n            &nbsp;</span></font></b></a><B><FONT \\r\\nface=\"Times New Roman\"><span style=\"font-size:12pt;\"> &nbsp;\\r\\n            ......</span></font></b>            </p>\\r\\n<p style=\"line-height:150%;\"><a href=\"help/help.htm\"><font face=\"Times New Roman\"><b><span style=\"font-size:12pt;\">Help</span></b></font></a><font\\r\\n             face=\"Times New Roman\"><b><span style=\"font-size:12pt;\"> &nbsp;&nbsp;&nbsp;&nbsp;&nbsp;&nbsp;&nbsp;&nbsp;&nbsp;&nbsp;&nbsp;&nbsp;&nbsp;</span></b></font><B><FONT \\r\\nface=\"Times New Roman\"><span style=\"font-size:12pt;\">&nbsp;&nbsp;&nbsp;<a href=\"https://en.wikipedia.org/wiki/Main_Page\">Wikipedia &nbsp;&nbsp;&nbsp;</a><a href=\"https://ko.wikipedia.org/wiki/%EC%9C%84%ED%82%A4%EB%B0%B1%EA%B3%BC:%EB%8C%80%EB%AC%B8\">\\xc0\\xa7\\xc5\\xb0\\xb9\\xe9\\xb0\\xfa</a><a href=\"https://en.wikipedia.org/wiki/Main_Page\">&nbsp;</a></span></font></b><b><font face=\"Times New Roman\"><span style=\"font-size:12pt;\">\\r\\n            </span></font></b><B><FONT \\r\\nface=\"Times New Roman\"><span style=\"font-size:12pt;\">&nbsp;&nbsp;<a href=\"http://www.youtube.com\">&nbsp;YouTube</a> &nbsp;&nbsp;&nbsp;</span></font>\\r\\n<a href=\"http://www.etnews.co.kr\">\\xc0\\xfc\\xc0\\xda\\xbd\\xc5\\xb9\\xae</a> &nbsp;&nbsp;&nbsp;</b><A href=\"http://www.kyobobook.co.kr/\" target=_top><b>\\xb1\\xb3\\xba\\xb8\\xb9\\xae\\xb0\\xed</b></A><B>&nbsp;<FONT \\r\\nface=\"Times New Roman\"><span style=\"font-size:12pt;\">&nbsp;</span></font><span style=\"font-size:12pt;\"> \\r\\n            &nbsp;<a href=\"help/book_store.htm\">\\xbc\\xad\\xc1\\xa1</a> &nbsp;&nbsp;</span><a href=\"help/press.htm\">\\xbe\\xf0\\xb7\\xd0</a><span style=\"font-size:12pt;\"> \\r\\n            &nbsp;&nbsp;&nbsp;</span><FONT \\r\\nface=\"Times New Roman\"><span style=\"font-size:12pt;\"><a href=\"http://dl.nanet.go.kr/index.do\">\\xb1\\xb9\\xc8\\xb8\\xb5\\xb5\\xbc\\xad\\xb0\\xfc\\xb0\\xcb\\xbb\\xf6</a> \\r\\n            &nbsp;..... </span></font></b></p>\\r\\n<center>\\r\\n<FORM method=GET action=\"http://www.google.co.kr/search\">\\r\\n<TABLE bgcolor=\"#DDFFDD\" style=\"line-height:150%;\"><tr><td height=\"41\">\\r\\n\\r\\n                    <p align=\"center\" style=\"line-height:150%;\">\\r\\n<b><span style=\"font-size:12pt;\"><INPUT TYPE=text name=q size=31 maxlength=255 value=\"\">\\r\\n<INPUT TYPE=hidden name=hl value=ko>\\r\\n<INPUT TYPE=hidden name=ie value=euc-kr>\\r\\n<INPUT type=submit name=btnG VALUE=\"\\xb1\\xb8\\xb1\\xdb \\xb0\\xcb\\xbb\\xf6\"></span></b><span style=\"font-size:12pt;\">\\r\\n\\r\\n                    </span><b><span style=\"font-size:12pt;\"><input type=radio name=sitesearch value=\"\" checked>\\r\\n</span><span style=\"font-size:10pt;\"><font face=\"Times New Roman\">www </font>\\xb0\\xcb\\xbb\\xf6\\r\\n<input type=radio name=sitesearch value=\"www.aistudy.com\">\\r\\n                    <font face=\"Times New Roman\">www.aistudy.com</font> \\xb0\\xcb\\xbb\\xf6</span></b>\\r\\n\\r\\n</td></tr></TABLE>\\r\\n</FORM>\\r\\n</center>\\r\\n<p style=\"line-height:150%;\">&nbsp;</p>\\r\\n<p style=\"line-height:150%;\"><b><span style=\"font-size:12pt;\"><font color=\"red\">\\xa1\\xda\\xa1\\xda\\xa1\\xda</font></span><a href=\"http://bci.korea.ac.kr/\">&nbsp;</a><a href=\"http://nacsi.kr/tutorial/tutorial17.html\">&nbsp;</a><a href=\"http://nacsi.kr/tutorial/tutorial20.html\">\\xbd\\xc9\\xc3\\xfe \\xb0\\xad\\xc8\\xad\\xc7\\xd0\\xbd\\xc0\\xc0\\xbb \\xc5\\xeb\\xc7\\xd1 \\xc3\\xaa\\xba\\xbf \\xb1\\xb8\\xc7\\xf6\\xb0\\xfa \\xc0\\xc0\\xbf\\xeb : \\xc7\\xd1\\xb1\\xb9\\xc0\\xce\\xc1\\xf6\\xb0\\xfa\\xc7\\xd0\\xbb\\xea\\xbe\\xf7\\xc7\\xf9\\xc8\\xb8 \\xc0\\xce\\xc1\\xf6\\xb1\\xe2\\xbc\\xfa \\xc6\\xa9\\xc5\\xe4\\xb8\\xae\\xbe\\xf3 20</a> : 2018/03/31, \\xbc\\xad\\xbf\\xef\\xb4\\xeb<span style=\"font-size:12pt;\"> &nbsp;<font color=\"red\">\\xa1\\xda\\xa1\\xda\\xa1\\xda</font></span></b></p>\\r\\n<p style=\"line-height:150%;\"><b><span style=\"font-size:12pt;\"><font color=\"red\">\\xa1\\xda\\xa1\\xda\\xa1\\xda</font></span><a href=\"http://bci.korea.ac.kr/\">&nbsp;</a><a href=\"http://nacsi.kr/tutorial/tutorial17.html\">&nbsp;</a><a href=\"http://mhpark.or.kr/index.php?document_srl=286927\">\\'\\xb9\\xda\\xb9\\xae\\xc8\\xa3 \\xb9\\xda\\xbb\\xe7\\xc0\\xc7 \\xb3\\xfa\\xb0\\xfa\\xc7\\xd0 \\xb0\\xf8\\xba\\xce\\' \\xc3\\xe2\\xb0\\xa3&nbsp;- \\xb9\\xda\\xb9\\xae\\xc8\\xa3\\xc0\\xc7 \\xc0\\xda\\xbf\\xac\\xb0\\xfa\\xc7\\xd0\\xbc\\xbc\\xbb\\xf3</a> <span style=\"font-size:12pt;\">&nbsp;<font color=\"red\">\\xa1\\xda\\xa1\\xda\\xa1\\xda</font></span></b></p>\\r\\n<p style=\"line-height:150%;\">&nbsp;</p>\\r\\n<p style=\"line-height:150%;\"><b><a href=\"http://tv.naver.com/v/1878677\">\\xc6\\xf9 \\xb3\\xeb\\xc0\\xcc\\xb8\\xb8 - \\xc1\\xa4\\xba\\xb8\\xc8\\xad\\xbd\\xc3\\xb4\\xeb 1\\xba\\xce : \\xb0\\xad\\xbf\\xac</a> : <a href=\"http://openlectures.naver.com/contents?contentsId=132102&rid=2934&lectureType=paradigm\">\\xbf\\xad\\xb8\\xb0\\xbf\\xac\\xb4\\xdc</a> : <font face=\"\\xbb\\xf5\\xb1\\xbc\\xb8\\xb2\"><span style=\"font-size:12pt;\"><A \\r\\nhref=\"pioneer/Zhang.BT.htm\">\\xc0\\xe5\\xba\\xb4\\xc5\\xb9</a></span></font>&nbsp;: 2017/07/21</b></p>\\r\\n<p style=\"line-height:150%;\">&nbsp;<iframe src=\\'http://serviceapi.rmcnmv.naver.com/flash/outKeyPlayer.nhn?vid=A759FD74B07D7FECC63DB9F35E9BB7398AFC&outKey=V12407c24b6fba7d69b570911b1a8bfa391d43ecdf82f98b2082e0911b1a8bfa391d4&controlBarMovable=true&jsCallable=true&isAutoPlay=true&skinName=tvcast_white\\' frameborder=\\'no\\' scrolling=\\'no\\' marginwidth=\\'0\\' marginheight=\\'0\\' WIDTH=\\'300\\' HEIGHT=\\'169\\' allowfullscreen></iframe></p>\\r\\n<p style=\"line-height:150%;\"><b><a href=\"https://www.youtube.com/watch?v=8Z2eLTSCuBk&t=2079s\">\\xc0\\xce\\xb0\\xf8\\xc1\\xf6\\xb4\\xc9\\xb0\\xfa \\xb9\\xcc\\xb7\\xa1 - KAIST \\xb0\\xad\\xbf\\xac</a> : <a href=\"https://www.youtube.com/channel/UCEQTSbZJvgkWKiFHirszYZA\">spark</a> : <a href=\"pioneer/Hassabis.D.htm\">Demis Hassabis</a>, 2017/05/27</b></p>\\r\\n<p style=\"line-height:150%;\">&nbsp;<iframe width=\"300\" height=\"169\" src=\"https://www.youtube.com/embed/8Z2eLTSCuBk?rel=0\" frameborder=\"0\" allowfullscreen></iframe></p>\\r\\n<H1 class=\"text-center\"><A title=\"\\xbb\\xf5\\xc3\\xa2\\xc0\\xb8\\xb7\\xce \\xb8\\xde\\xc0\\xcf \\xba\\xb8\\xb1\\xe2\" class=\"newWindow _ccr(rdh.new) _c1(mrCore|popupRead|11667) _stopDefault\" href=\"https://mail.naver.com/?n=1445866174255&amp;v=f#\"></A></H1>\\r\\n<p style=\"line-height:150%;\"><b><a href=\"https://www.youtube.com/watch?v=efWSbITntR0&t=5090s\">\\xb3\\xfa\\xb0\\xfa\\xc7\\xd0\\xc0\\xb8\\xb7\\xce \\xba\\xbb \\xc0\\xce\\xb0\\xf8\\xc1\\xf6\\xb4\\xc9\\xc0\\xc7 \\xc7\\xf6\\xc1\\xd6\\xbc\\xd2\\xbf\\xcd \\xb9\\xcc\\xb7\\xa1 - 1\\xba\\xce</a> : <a href=\"https://www.youtube.com/channel/UCpwh4yRadX0nnGQVqCLdskg\">afoofa Jung</a> : </b><a href=\"pioneer/Park.MH.htm\"><b>\\xb9\\xda\\xb9\\xae\\xc8\\xa3</b></a><b> : 2016/04/07</b></p>\\r\\n<p style=\"line-height:150%;\">&nbsp;<iframe width=\"300\" height=\"169\" src=\"https://www.youtube.com/embed/efWSbITntR0?rel=0\" frameborder=\"0\" allowfullscreen></iframe></p>\\r\\n<DIV class=\"text\">\\r\\n    <P align=\"justify\" style=\"line-height:150%;\">&nbsp;</p>\\r\\n</DIV>\\r\\n<p style=\"line-height:150%;\">\\r\\n\\r\\n\\r\\n&nbsp;</body>\\r\\n\\r\\n</html>'"
      ]
     },
     "execution_count": 21,
     "metadata": {},
     "output_type": "execute_result"
    }
   ],
   "source": [
    "resp = requests.get('http://www.aistudy.co.kr')\n",
    "resp.content\n"
   ]
  },
  {
   "cell_type": "code",
   "execution_count": 22,
   "metadata": {},
   "outputs": [
    {
     "data": {
      "text/plain": [
       "{'confidence': 0.99, 'encoding': 'EUC-KR', 'language': 'Korean'}"
      ]
     },
     "execution_count": 22,
     "metadata": {},
     "output_type": "execute_result"
    }
   ],
   "source": [
    "chardet.detect(resp.content)"
   ]
  },
  {
   "cell_type": "markdown",
   "metadata": {},
   "source": [
    "### urllib"
   ]
  },
  {
   "cell_type": "code",
   "execution_count": 32,
   "metadata": {},
   "outputs": [],
   "source": [
    "seed=\"http://www.ppomppu.co.kr/zboard/zboard.php?\"\n",
    "params = {\n",
    "    \"id\":\"freeboard\",\n",
    "    \"page\":\"1\"\n",
    "}\n",
    "headers = {\"User-agent\":\"Mozilla/5.0 (Windows NT 10.0; Win64; x64) AppleWebKit/537.36 (KHTML, like Gecko) Chrome/67.0.3396.99 Safari/537.36\"}"
   ]
  },
  {
   "cell_type": "code",
   "execution_count": 33,
   "metadata": {},
   "outputs": [
    {
     "name": "stdout",
     "output_type": "stream",
     "text": [
      "id=freeboard&page=1\n"
     ]
    }
   ],
   "source": [
    "print(urllib.parse.urlencode(params))"
   ]
  },
  {
   "cell_type": "code",
   "execution_count": 34,
   "metadata": {},
   "outputs": [
    {
     "data": {
      "text/plain": [
       "<Request [http://www.ppomppu.co.kr/zboard/zboard.php?id=freeboard&page=1]>"
      ]
     },
     "execution_count": 34,
     "metadata": {},
     "output_type": "execute_result"
    }
   ],
   "source": [
    "req = requests.Request(seed+urllib.parse.urlencode(params), headers=headers)\n",
    "req"
   ]
  },
  {
   "cell_type": "code",
   "execution_count": 35,
   "metadata": {},
   "outputs": [
    {
     "ename": "AttributeError",
     "evalue": "'Request' object has no attribute 'type'",
     "output_type": "error",
     "traceback": [
      "\u001b[1;31m---------------------------------------------------------------------------\u001b[0m",
      "\u001b[1;31mAttributeError\u001b[0m                            Traceback (most recent call last)",
      "\u001b[1;32m<ipython-input-35-e11e21afc401>\u001b[0m in \u001b[0;36m<module>\u001b[1;34m()\u001b[0m\n\u001b[1;32m----> 1\u001b[1;33m \u001b[0mres\u001b[0m \u001b[1;33m=\u001b[0m \u001b[0murllib\u001b[0m\u001b[1;33m.\u001b[0m\u001b[0mrequest\u001b[0m\u001b[1;33m.\u001b[0m\u001b[0murlopen\u001b[0m\u001b[1;33m(\u001b[0m\u001b[0mreq\u001b[0m\u001b[1;33m)\u001b[0m\u001b[1;33m\u001b[0m\u001b[0m\n\u001b[0m\u001b[0;32m      2\u001b[0m \u001b[0mres\u001b[0m\u001b[1;33m\u001b[0m\u001b[0m\n",
      "\u001b[1;32m~\\Anaconda3\\lib\\urllib\\request.py\u001b[0m in \u001b[0;36murlopen\u001b[1;34m(url, data, timeout, cafile, capath, cadefault, context)\u001b[0m\n\u001b[0;32m    221\u001b[0m     \u001b[1;32melse\u001b[0m\u001b[1;33m:\u001b[0m\u001b[1;33m\u001b[0m\u001b[0m\n\u001b[0;32m    222\u001b[0m         \u001b[0mopener\u001b[0m \u001b[1;33m=\u001b[0m \u001b[0m_opener\u001b[0m\u001b[1;33m\u001b[0m\u001b[0m\n\u001b[1;32m--> 223\u001b[1;33m     \u001b[1;32mreturn\u001b[0m \u001b[0mopener\u001b[0m\u001b[1;33m.\u001b[0m\u001b[0mopen\u001b[0m\u001b[1;33m(\u001b[0m\u001b[0murl\u001b[0m\u001b[1;33m,\u001b[0m \u001b[0mdata\u001b[0m\u001b[1;33m,\u001b[0m \u001b[0mtimeout\u001b[0m\u001b[1;33m)\u001b[0m\u001b[1;33m\u001b[0m\u001b[0m\n\u001b[0m\u001b[0;32m    224\u001b[0m \u001b[1;33m\u001b[0m\u001b[0m\n\u001b[0;32m    225\u001b[0m \u001b[1;32mdef\u001b[0m \u001b[0minstall_opener\u001b[0m\u001b[1;33m(\u001b[0m\u001b[0mopener\u001b[0m\u001b[1;33m)\u001b[0m\u001b[1;33m:\u001b[0m\u001b[1;33m\u001b[0m\u001b[0m\n",
      "\u001b[1;32m~\\Anaconda3\\lib\\urllib\\request.py\u001b[0m in \u001b[0;36mopen\u001b[1;34m(self, fullurl, data, timeout)\u001b[0m\n\u001b[0;32m    516\u001b[0m \u001b[1;33m\u001b[0m\u001b[0m\n\u001b[0;32m    517\u001b[0m         \u001b[0mreq\u001b[0m\u001b[1;33m.\u001b[0m\u001b[0mtimeout\u001b[0m \u001b[1;33m=\u001b[0m \u001b[0mtimeout\u001b[0m\u001b[1;33m\u001b[0m\u001b[0m\n\u001b[1;32m--> 518\u001b[1;33m         \u001b[0mprotocol\u001b[0m \u001b[1;33m=\u001b[0m \u001b[0mreq\u001b[0m\u001b[1;33m.\u001b[0m\u001b[0mtype\u001b[0m\u001b[1;33m\u001b[0m\u001b[0m\n\u001b[0m\u001b[0;32m    519\u001b[0m \u001b[1;33m\u001b[0m\u001b[0m\n\u001b[0;32m    520\u001b[0m         \u001b[1;31m# pre-process request\u001b[0m\u001b[1;33m\u001b[0m\u001b[1;33m\u001b[0m\u001b[0m\n",
      "\u001b[1;31mAttributeError\u001b[0m: 'Request' object has no attribute 'type'"
     ]
    }
   ],
   "source": [
    "res = urllib.request.urlopen(req)\n",
    "res"
   ]
  },
  {
   "cell_type": "code",
   "execution_count": null,
   "metadata": {},
   "outputs": [],
   "source": []
  },
  {
   "cell_type": "code",
   "execution_count": 72,
   "metadata": {},
   "outputs": [],
   "source": [
    "def bbom_crawler(url,page,select=\"a\",params=None,num_retries=2):\n",
    "    headers = {\"User-agent\":\"Mozilla/5.0 (Windows NT 10.0; Win64; x64) AppleWebKit/537.36 (KHTML, like Gecko) Chrome/67.0.3396.99 Safari/537.36\"}\n",
    "    \n",
    "    resp = requests.request(\"get\", url+str(page), headers=headers)\n",
    "    soup = BeautifulSoup(resp.text, \"html.parser\")\n",
    "    tags = soup.select(select)\n",
    "    \n",
    "    conList = [ [tag.get_text(), tag.get(\"href\")] for tag in tags]\n",
    "\n",
    "    return conList"
   ]
  },
  {
   "cell_type": "code",
   "execution_count": 73,
   "metadata": {},
   "outputs": [],
   "source": [
    "seed=\"http://www.ppomppu.co.kr/zboard/zboard.php?id=freeboard&page=\""
   ]
  },
  {
   "cell_type": "code",
   "execution_count": 77,
   "metadata": {},
   "outputs": [],
   "source": [
    "resp = requests.request(\"get\", seed+str(1), headers={\"User-agent\":\"Mozilla/5.0 (Windows NT 10.0; Win64; x64) AppleWebKit/537.36 (KHTML, like Gecko) Chrome/67.0.3396.99 Safari/537.36\"})"
   ]
  },
  {
   "cell_type": "code",
   "execution_count": 78,
   "metadata": {},
   "outputs": [
    {
     "data": {
      "text/plain": [
       "'\\x1f�\\x08\\x00\\x00\\x00\\x00\\x00\\x00\\x03�}�w\\x1bE��櫃9�?\\x14��里z泛+\\x12_\\x08�e��@fg�drtZR筏먼-�[v<����!0_`02�cI~H�\\x1f�0�f\\x18\\x16\\x08亭$d�L2겟I2L免슘�[j��,旱1N\\x0cvㅾ[偸�u�S�nUu\\x1f븀�g\\x0e\\x1f抗g\\x1f%Q5&�g\\x7f倬�O\\x1c&�憊渙耽徒��G효鷸���$n��\\x1c�YQ�U^\\x12Y쥣|�i�0QU�\\x0f8�ccc�1�C���G�s�@^n,�\\x7f눈����\\x1aa\\x02���\\x0e�챰\\x11�\\'튜,Anv��\\x04?�g\\x0eK▧��煇x�cHX婚gT��鴛��$\\x1cee�S�\\\\\"l\\x1f�\\x19�l쾀弼鎌ks;���\\n슬\\x15\\x0fu\\\\�j�\\x08+J���f��C稚R,槨|H0\\x17|�Q?\\x17\\x19�\\x18��훈8?�&盜$���}����}�g崖3�*�\\x08�i\\rV5拮�n展U�#剖�$G\\x14\\x13\\x15P뉠\\x1f뵉n� \\x1c亮구$�&�1>�F�\\x11n�\\x0fsv偕��\"4%+��0+p~��.\\x12�k�D�|)�p2烋B쐬���ETV\\x1e�T{�Cg\\x18��y�1|ㆆ넴�^TⅨ,�9Y\\x1d�3勒\\x00\\x1fc�股3�]<\\x0e��\\'\\x1ca�1\";)△��2훈�A�健su{z\\x1dqq��㉴\\x1d닯�h�j;j\\x05T^\\x15�\\x00^ v��$�V���Φ�!�v\\x03�xH瑄\\x11\\x12��!�M�m\\x088)�aI\\x1a\\x1686�+�`\\x0c\\x1d攘!6�\\x0b沁�%Uz�y�\\x176\"s�珊�w)Q�SmD\\x05\\x1f倡\\x0c旒\\x05�]4\\x19H��i\\x19�麓�T\\t��m蓆��t�\\x1a�~�M�プ�q�i貫k�i��Bⓖ\\x1d���\\x13�\\x1e�u���R�j�\\x1c梁\\x08?tLs0砒5寓�6iS_�\\x1a暘#!�D�\\x03�觸z�}\\x0e\\x1d\\x10t\\x7f�i-\\x7f\\x19�X9���\\x10퀭�Y�V�\\r\\x05�4/x랜�?&I\\x00#j8�\\x12�\\ne�|l���\\x10;�$\\x0e�S�\\x03:\\x10\\x00�*%�Q�Vl��\\'�nO��x�3z��Q��QV&�\\x07����\\x1e\\r�移\\'\\t孝I�n�\\x0c杻?�恨\\r指��{�IZ\\x06�\\x1b�>最�5X�\\x1aPW0�G慓\\x13��l�N�\\x0f璃陷S�l6F��Iu\\n<_�l.�棹╋~�yこN�li<��4U\\x00�R�@]\\x1bb}7+蹈�\\x06{b\\x16P�팥\\x1fy��a~j{E�a����x揄��叛�@z�i8곡��nk�\\x1c\\x149\\\\상\\x1eW�\\x11n�M\\x08ぷq\\\\a\\x02뼘症\\x0b\\tN\\x1e렌\\x1dn련���w�Y혐a\\x19���匯{!�!K\\x02@�p5_\\x04�m蔯��\\x0e\\x08뼘Q\\x07\\x00�\\x0bF��JQ\\x08�;㉴�\\x0cQ�a6�&dn�m���\\x16�\\x03��t\\x0c%�0��\\x1d|��%u\\rw�]lW��E�⑦q\\x1a�<\\x04��8t\\r���q.и�緘A��|��\\x7f^z�T얼Ed�\\x17\\x1d/便\\x7f^z郵�NG<�D; �K� ZR:Ov���緖�\"7F\\x1e\\x01卷�\\x1cd�0\\x1e�\\x1c|yT���C庾\\x02�1�\\x0e��~Qyx�\\x08;�4�_p珩隆 �`�q1�w�\\'닙�  \\n+\\x03右R�s�\"D�願��$s\\x1dX-�x껙c�\\x17#�XWD\\nS��l�Al]6高Z$fg���x�茴�\\x02�챙�s\\x10�\\r�\\x1d6Mq[\\x17�A\\x04禎牆s�{�n驃�-,I#<��\\x14cy�6@l\\x15�h;Yb!�$@�<pP�#�O(�D�@p�룐0�b\\x0c�wj4맛��\\t �3\\x15�\\x1d��1�\\x08\\x1a\\x10pL��|�U%�\\x01�7^\\x1b4\\x08����~\\x1c\\'MO@ST\\x10�=\\x05�\\x1b曖C\\x1d\\x15\\x0c\\x01\\x19��T��q�s�彙�,�\\'奢\\x17�t\\x00\\x01T��f��l�\\x04�#瘍<G��#��\\x0e咨N�y��\\x1d\\x15紈��/�d\"���hHwg\\'�e;Q��$奕��잊cP�24닻�H��0�\\x08/:\\x1f�i�9nT\\x12\\x12娃��\\x1f~���?\\x12\\r�CL�I3E�J+\\x03��M�(�uQ뚤EI旣hVG�Z�R)�F�M\\x1a�7k\\x14�R#}Bd�(섧F�Re��\\x05\\x0cX!���\\x0c\\ru�\\x15;��산\\x18\\x04\\x01\\x0b\\x18\\x1a0�P8V\\x0eG�¸c�QVHp~�M\\x12m�\\x1aHK\\x1aQ�@\\x7f\\x1b�R겝宗Pa\\x0e�S�\\x1f`\\x0c#0�\\x1b�陌襄:Z\\x19�{\\x12~�[4\\'S�/RlA�I0y�(BH�udn\\x14�\\x00\\x00\\\\S\\x16�%����#\\\\쿤⇔좇劤C�\\x1c諛���忿��絅�[���δ\\'\\x0b澣팸�\\x07\\x7f!�B��p/w낯Q�N\\x16�I�I�K\\x7fC�.臼�~��^K옘�\\x04�S墺\\x0b嫦�:��欠勵k���9[\\'6��\\x00\\x01ㅿ�A4\\x7f�d8�W�\\x0f\\'\\x0eパA��\\x07(�N]藍Hw�?�����\\x16�r40�i\\x05�\\x125�PZ.\\x02V 軸��Xh�A岷叭C_]rUN�㈄\\x7f�_垓�Zj*7_�\\x06F)�Pk[�`�F亡Q�\\x04��R넒O�,谿��G旭���iS乾mW�ne}\\x14N\\x00겸\"��k騁��;��\\r\\x12\\x1c\\x14�� �H����\\x0e�x��TC���渴�類�\\x13쐤�m寄@�r�%����>��m�D(튤\\x1d�FA��@R$癩j8_{뱄G@걺∼軸예�7g�\\x17�[�y}㎌�GK.j�l槐猿Z�\\x00:勖\\x05�j/�K腿�KD\\x0b�\\x1dR�\\x13;\\x18�T\\x109�}\\x1c�h�A\\x1e0P�8��뷔`�g\\x1a勘b0��I\\x16N�\\'�.=톺朱벚\\x1c?\\x1cU�^敗J�\\x10�P�/J]2�嘲崖\\x13�V0i跳k��1��\\x17Y\\x01�\\x05\\x1d6�Z|�h\"\\x00�\\x10��\\x1b및H疎�w\\x16�r\\x17 벧�c;)\\x07$\\x11I,;}[둑�5�\\x03PЛ㈅G����=쉭�d;�璽Vrs,쉈�W�等餞fk�B�\\x1a�M�h\\\\�m{1r>酩�중Z�k댜��7�1��;帖�����ず�\"短�\\x17]�zo\\x19�1%<,�時p\\x14�;�G����;6\\x0ef�N脯b�*O�\\x15�>U�㉲西�\\x05���\\x12�rT�s�\\x0c\\x1a��稿N��\\x03�:�4宵�I�Ħ�p��妃�u鯖^\\nF���]�]#�\\x05��S[��O!)2�DF\\x06[\\x01\\x18�\\x0b7��,适q\\nVN�@윅Fy탕��R\\x06럿(�^츨���6蘆e\\x1b��_�o\\x14~]足�_\\x0f�z掃\\x1b~{饍\\x07옙繰\\x07웡�c:\\x1b�9h|�e��m�55�\\x0b�\\\\\\x0e�\"\\x11\\x0b께��\\x05\\x0e�Oe\\x19-엾570쾀�5\\x05bz�,�Aj�\\x18+�pjｂ�r���拮u��個\\\\Hl]Z(1�r�(\\'4�J�B%�j�bj8��C秊D\\x06�|\\x18s�-\\x17\\x06�W<-��뎬\\x18몬���\\x18�(�\"�(\\t\\x0bБ��1���9�Ng�\\x1f�]��p�쑥뿜\\x14C岐U^\\x1c��XQ雙)K��\\x11\\x13�\\x07�((#�3Fy\\x00\\x0e�$�+}頰�\\x00q{\\\\�\\x13�D\\x1b\"\\x06���_k갊\"xQ�\\x19箔�\\x12\\x1a�z�Mgi��J\\\\`�\\x07x\\x11�5g\\x0f\\tRxdP���棄hBl$짧�\\x1d4\\x0b\\x0b<�l龐�=�\\x08刎杏{aш碇�x輧^_�P\\x11$ 倚�w�|索^�\\r�\\x0ft\\n\\x18ky\\x1d&�\\x00T�Q�|佐�H)I悔�适R�mか\\x13�Y�\\x0c追\\x08�W�}$�\\x04國�P��b��\\x13�E�6�\\x1c\\x12��\\x00雨PQJ�/5\\' �(\\x07碗j濡�BQ�]�m)��!\\x13H}락�J���\\x05c\\t|C�\\x15�<u�e7廊W^k逕�3!饔����_I���jT�do�\\x11\\x1a7��引��\\x05}3?�\\x05데�m\\r\\x02\\x0c汾≫� [7�.\\x08┌\\x08\\x13��槁�:i�`\\x18���T:�b�P\\x1c��@岫劫3wai�\\x1a‥�\\x10�\\\\紋cQ凝C)圃\\x0fk0�稽�ゲ1\\x12逾>=�Vz�\\x1a�t(g\\x02O\\x1cq.]^�a�L-\\x10\\x00;_�]�:용2�\\x08<죔\\x17W�%踊�佚d寀\\x1b�Fa�!�=v�S�檉,�!�9��IX�\\t휭�28�\\x1b���8J\\r\\x12������쑤龜\\x04C\\x02+��P�����U�MBh_\\'���V�n>�w零O\\x17N\\x157┧�]\\x1bW�q丙�mj��a�^g\\x1c��h梱均��0$I#�Q[�媒7厠�c\\\\,케ACYl�\\x03廬-2ち�\\x14O�t�:�(�{\\r>��W�TN\\\\6斬戚����YUF�gqbT!嶼SM�v�\\x1f3\\x1b����Q��o�\\x02�-]�f�4\\x0f梁\\t柰dWb��老�)机멎造D�A%��C\\\\�&�`�*L�t��\\x15�*�)A\\x0f�6�k;���s�孤m�.�菉B�\\x0c臨�k\\x1b\\x1a�Z�4�%��寗�47V�FX��in러�<困�,록對墺朮t杷�,�V�\\x0e\\x12逗��/���\\n\\x12瓮��\\x147v�`\\x0e�\\x1a�*F-)n\\x07�Z쉴裟b�\\x06�81�r\\x13f㎡.3?m\\n���m祿<�ASkl�b�\\x14Q]戇$.�KQe\\tz\\x1at�\\x12��2\\x06��_�8qm=針蝦\\x19찹�/R�W�f4��\\nt3�銖믿n�x/\\x13x���%��\\t曖태�k巷髮B/\\x13�^X��]�}L`綢能�\\x1b�\\x11��㎲�v�1��ⓐ杖���RoD5n�\\x02�\\x1dV./�X.\\x1e�4\\x124�`����롄\\x00�\\x1ff�V念R<N�\\x14Sl\\x1bXz%9��<蝴�t�\"w�{�6쵸��V�i똑f\\x04 Ⅱz�v��-��?=s\\x04샜燾{侶 )\\x18�bta��뫘I懈V�M[�\\x0e4*\\x1am��\\t�]y��\\x0e=ME�\\r�kZ�석�\\x15괏�Go\\x18=n#:l*楔�@��B�%�卵��K\"���纜Y(6&�x\\x01┳�o3墺\\x1b�f粃���8\\'�L1\\x0c����\\x7fJ}��띱�%▤\\x0c[㎺若冠�\\\\$h��D�V 3&�1�3�r�9���\\x0b;Q�\\x05$�鄭��iN拒�\\x1d�5\\x14發*�e�\\x16$�O\\x7f[Re�\\x14|C�m�_l\\x1ap�;\\x07\\\\�bU�ジtu Qu�\\x02�%=\\x1dI�8�����,s��W敭�%�g�직p��@X\\x0beｃ短\\x1b站g\\x7fk�擊χ�mm��$�\\t��g\\x02�\\x04\\x14&�yc�?sW�[�{�d�\\x194�\\x06��)\\x19�叔邇�R���\\x1f�\\x13m\\x01 v\\x13�n���\\x1f㉳콸\\\\�Ljcu� �b�=\\x13�x\\x13�(\\t屛pv!�,�Z�p�\\\\�}���)��\\x04c{���\\x1f���7��V?�!\\x1aWm�광伺2\\x1b』D┧臼��F��\\t낫>X��,모B\\x11級也S�K誡�zs����a6\\x16g�aQ�\\x0c�gW/謁��\\x02�+\\x00冒�\\x05��}F�鼇m8:ⓛXks���b\\x18m\\x05����必�\\n(*n�具&���oC�nMP�\\x11\\x08富e;L}�~�B+��岬3�V\\nko┸��5D�윷㈙蠢�\\x10b騏究�限B\\x1b��@zf�5\\x0b�j3�끗S�-\\x7f떠�4��\\n\\x16윌o�\\x13q}%Ｉ豆��w\\x0f\"�\\x1a�94閻�q�a�\\n\\r튁��\\x19�i-\\x0b��嚬+�{S�이+珌+�Zf�pi%綽6j�]��h����%mホ\\\\��<\\x0bs樂坡�,��._☎�`딴\\x0c�5�Z\\x01^�bL`q\\x15|�S�eガ�-s\\\\J�v璧m�2c�J!~D\\x0b�n%-o\\n.����[�OR\\x7f戒�j�a��\\n_&���a썼X�퓌[�-��\\x00살\\x08�Px\\x18�47gr�!���S�A|R\\x18㎤e���\\x05�����2\\x18�.\\x17옌-\\x01�p�\\x171�\\n��=혭no�P%�?�=�g\\x17였,�-� u鏞��沾l&\\x7f�vZB�0�:w郁��7�/��滿�p\\'TV��\\x12�o:�^��X�1;�8쒜\\x15帖�h�n�6�Wgr\"\\x7f鋸tfE�l\\x18p�\\'�(�K줴�碍�e\\\\嫄Npi�\\x1dfq�I��f���B3��T\\nU\\x17護�E�\\x04C��%>\\x02��f.冠靈�\\\\�R.=�]\\x16�b故�\\x18/R짇�ffr\\x7f^9���NY����N�=l流Jz!�>�:뭄});\\x1dv早\\x02��e.��1\\x00�/\\x14�O�oq�牲���\"�b 돔\\\\�[y�2\\x13���\\x04�~�y�l��쥠%%�\\x04郎�Km�`隘팩�佚��\\x1bN\\x08뭬�z\\x1c\\x1d��!淙��\\x05康?�+Q:\\x03��\\r��VI\\r���\\x0f��\\x00��M�-\\x13\\x1c\\x16�\\x18�輪嵐�꽝�%�@h��譴蝗��,�,�C��/tQ��O�k[3���1�}��괵똘\\x08��w%龍�-\\n\\x15�p\"�R�o;\\x17꽉W2蔞\\x11シ⒥�V�ZN蹂0\\x0b땠�\"I��\\x1dT96�S祁t~\\x1d卵\\x0660E��d&w�Bk�\\x12�了!)\\x1c��c�++A��\\x05�n^��\"\\x0f�h鶯�\\x06v�\\x16퇀r�\\x17�XA�\\x10(YL얗,�e!{���謁�W��鍮蔞��b0\\x03�l髮��,\\x1c)誡A�\\t�E%!높\\x08B6]��u�Uπ\\x08\\x13(�u�h���\\x12읨�\\x16o8���f\\x16[�Bv뭄�x5,a�991wm雀�k�R&콩b瓷�~H쪄�\\x00�}�_햅逍\\'\\x0e?c�\\x1e2�\\x1d5�h��t察V��栢�\\x11$U\\x05뽑��뙈=U\\tE�\\\\X밝,\\x16f�Wn�Y���P\\x10\\x13�gr\\x16NSㄱ!|�\\x06�\\x02�~6뱁\\x01qG�\\x18�\\x12�J7ze�\\x13;Pb�Z�b�頻x\\x08f�,.�Ne�A>\\x04\\'�V\\x07\\x01c\\\\$B#쭝\\x7f��b�DC�B\\x02n�H^��\\x1e�����\\x13!�\\x0f當諒\\x17�\\x06R��\\r�W.[���D%&�P�O}���e���\\x15; �kq\\\\���-,gZ��\\x1d�*�PL�;W����\\t���\\x15��h\\x13e�\\x0b?XW].��1�N\\x7f1艙�u)�\\x08\\'��砂�!I��&侘�\\x17���e���\\x04n�~���uc���#Z�~놜�eB!x押(�Bz�9�YX*Z�H���\\x03�W霓-L\\x7f�pb�\\\\la�b�\"Y��헌?Y�la�\\n�0�S<PX���\\x07\\x01�v坰��\\x18z�\\x11%;s漢�c�V0�)kB㎺[叡�E�.┦�?達C�#�\\x08+茸I湫-��莎�\\x7f\\x18�=~�!�L��3O2\\x01�c��홰!\\x01疫3�.�f��Z�k��%;��uz2�Q�\\x1e�-��0�\\x01�oO}t�Z渽E+D8�\\x1c��\\x10柴�2�s����討dQY\\x1ag\\x11AW~�풩g�\\x17�暮\\x18�F�\\x18�D\\tw�-oㄿ=�Zbk�k�C�$jI�bquY;Xp�G�磬��V�^\\x11��AO9沚���㎝�O[4�H#\\x00-㎫�trv�b�f->F�\\x7f\\n��^{達�aj��yMB\\x1c��Z�Z�%N�\\x12\"]�[\\\\�~\\x1d쭉7-?\\rj瀟�Q\\x1ec�\\x19\\x0b\\r\\x1cK(|\\x18w�-\\x16���f���\\x19x,]���\\x1c<x��<織�[7�\\x00��\\\\�}銶�fNfq\\x13A世s���\\x17�[[\\x00�vVS�\\x03\\x16���e�xQ�d�>�b}鶯貼�U�C/.�\\x10陜x\\x18=:\\x7fk&�v侊\\ttX�J\\x02�e?��n�tT\\na�\\x00{��\\t��!�쳬�\\x14[X6�3���h勅V#�P�ハ�\\x04석\\x07,\\x1c�dN��b7흡�Pn�\\x1b�\\x04�얘.9��2��u=J�釗\\\\6�zFjW�\\x04�d4Ŀ�\\x08=���\\\\|o侊d6�K�陛\\x16�Z&qT\\x12\\x12\\x00粟芩黃%��9�\\x10읍�Y\\x0b\\x03�1I\\x1e��\\x16n�/nC怡�WT\\x12��<f��쯧~�捏+i�a��`?ys딤��뿍\\x04JX\\x7f.k執�uA!絅拙of擄���M\\'J��U훠$L�禮�h�*캇\\tu\\\\{��s苾-F�帆\\\\�~�6兌�PF�L7i��\\x1b��Y�Ua�팀���x��y�vof쥠\\x071�텨e�\\x0b예X\\\\��ct㉵�\\x04Z脈�\\x08�Y洲�歡誥F\"�V梶\\x08-똴w����w4�B\\'|oZ\\x10�U{��30@�/�P잴l^|S�0)��r2\\'rc�P�/=��.^�K�J.R��ws�岬\\x15�_eO���7\\x12^�k劉Nh庄湞Z8運諾묜楫,潼�c�};\\x7f�\\x15}�o攘�TV輩^_怠;*엮Oぢ�\\x05C꼼F�,>�#採貨N��Z�G\\x0b�W\\x1e\\x00�N.\\x1e(c\\x02㎝羊\\x16\\x0bN輻b�甕$\\x049�/M�\\x16��\\x13,�]~��e\"등�O練7\\x0f飜�9*\\x00�*8��z\\x11昞�\\x1f\\x17�\\x07\\x02\\x1a�\\n�\\r�x�\\x03ザ���裸��\\x08��r�]��)紆\\x01�\\'~�報품�끼:��M趣\\x184�#��c6�볼t~壁廛E\\x14��三F����[倨�`��+����삡\\\\��\\x7f�2馝_�Tu�U<}�\\x7f��XT0�L_\\\\萬:�\\x12JY汾��l�r��嗅���\\x132��\\x07�\\x13p뎄y6슛��:蝴N{*�\\x03u�+\\x06jo堧G��言�\\x7f�N�(�n{�5\\x05�\\x16布9�zg륭\\x01�us���FRY�,\\x1c_6w�0Z`�L=���[菉#{�,y~>讚�m��h批����#&d|��^瘡�~\"y靈��aN,����]X9s#�e��V治�)�gT�@v\\x1d�\\x0b�E<{링悠Y{��<M�5屬睹�\\x15睿\\x1b誣nUゅ��fv�;\\x07+/V툴u�W=$�1\\x12拭�\\x14�3�\\x10�\\x13��Ao賚3n��\\x06F\\x12\\x1b�L�\\x0c�B��\\x1b�]\\x15�6�\\x18O�F\\x02¼�T\\x05;���Y\\x10�r\\'Jj�p�c\\x12�sf�\\x15\\x12�=\\x7f6ws�;L3�$�Q��\\x12�*��l�l�/舅B�H釋T�CN��V+℡k�(r3χ\\x16tSe�핵QV�\\n�s:\\x0f�s替#\\x0f\\x1dy�(-;�\\x10i��_���4\\x0c\\x13�p�\\x0b�\\x045U;:��%\\x11，L~�\\x008\\n�\\x11�\\'?�`Pð��6８�\\x18≒>\\n=제\\x13��1���l�`\\x004匈|늪\\x06}%+~�t\\x18\\x1a9�\\rA]욀O\\x18튬6��\\x02\\'�\\x1d\\x0c>Eo硯戚$�쥴��F�5R�p�����\\x053W�)q\\x1d��\\tⅲ�.�T\\x13�H�XA蔬wNV�eⓟ�b畝2�en�쌤�j%퍼�M엷�\\t曦�J?���M�\\x12m��\\x1e�럽6j띳�%j4_風�UU뮨F\\x15�\"뙈j[�tz남찡\\x12�\\x02�;켄�\\x0e\\x06\\x1f\\x15Cf樓>柯�⒀⒮鉛\\x08엊Ц굅��d!���빚�/�_�f:$XX\"�s�\\x05R圃�\\x1f뀀+癲校w�\\x01\\x14.\\x16床]HN����#u��<R�u\\x11<:�逼�\\x14�����J�7�7�\\x17禮�M結I\\x00Q�orZ{�\\x00\\x14臼�t~曆站I��|:�\\x01��/\\x16?.|8?예⒠@z塚{h�V\\x1b�zD]\\x1bv��*���r���\\n��\\x05�\\x0f95�읒�b@�i鎌d6�\\x10\\r�\\x0eA�&�\\t�}율�t�j�T\\x1a����8p恪�,澎�}��塡<\\x06�o*\\x05榴r�\\x0fX�>�c|�>�#Ψi庇紬�a\\x0e.�KPK\\x05)1逵b9B_{����K��h\\x0b(���\\x19�\\x03Ja+�\\x0b\\x15I\\x1e�Kt\\x16>�8\\x03勿��0\\x19�\\x14�P\\x1b\\x04e.쫀\\\\X���耀\\x121Y\\x1a\\x06���s7�\\x13�\\x0f��KM�\\x0f\\x1a<J�h�=6央a\\x14SY\\x19�d\\x7f0$겸Hi��컸당��h呈�]��ㅊ섦士4�f亢��\\n�\\x00@補���M����P��A杰��&�b�a.�(\\x00고�/(@\\rA�R\\x1f��>F\\t�4�sk�f잃o\\x00q\\x17eW]$�d���Γ����K!Og_�w��#.��8\\n慄늣\\nz눌��h�56��頓�\\x08�\\x06\\x03se�;\\r;�g\\x1e{L塗$��눙\\x1e珙��\\x14ㅅo��!m\\x15>漕岱B��샷n湖�\\x7ft떱��#\\x02c\".yw:d���w\\x18쐼�c�\\x05-�\\x10/F:l!!!\\x13:�\\x12�\\x18�2�(hL�3}em믹�1^\\rG�v��.]�\\x17f젠��m�\\x04��P�O:�(�t6\\x0c\\x16P}�*�(�\\x16\\x1b\\x1e\\x19���\\x18귓��m\\x02 �Q璂�q寥A�健r割�A��\\x17;y㎛bH0\\x06�\\x10寞4�j불jW(빳\\x0ee�5��\\x0cXf\\t뒀l5\\x16攘pXw�wS�i嶇0�=u�Dud�E�덫�j�7�h!��~�h俳ヲk����Fx�$e�rT|\\x10}듸N�U`Yw畛Y뷩0�듦���\\x16{仙�\\x18�\\x1a�n6R[�\\x1c�h���\\x18�\\x0e\\r:V�1�\\x11\\x16輻Hi\\x14!�\\x1dHs\\x06�\\x12嚆\\x11n�M\\x08�62�\\'��u�r\\x08籠`\\x18�\\x16\\x00c 磵\\x14��\\x1b�\\x08�*��c�����\\x1cJ��훔佩�E飮)A�������Ю\\x0f�@���A絆\\x1a\\x18��째\\x0c�F\\'\\n�<C!%⑨손�D�[�\\x0f毓C\\x17��N�\\x0e9���.�\\x15렉霑%/�-��z�m\\x13�6���h�x�h*��\"�\\x12f\\x02���9[�^�4�\\x07��~�<Q�N\\x16���j�V��dzN�z�=f�����?��\\x1a3LGI�R\\x18�/�+/y\\x0c\\'\\x04z��~�B�=��l許}�(�}6#캠i1�-pT39��N}관�c4�\\x0f��#�����wI疹仁�\\x1a��4�符@�6�,\\x07�\\x04�a��[\\x19\\x04���a��四�d�2K�(蓮d�\\x7f�g)雹�Ct\"h��\\x00�@\\'hs건�\\x13�$\\t*\\x1f\\x7f굵-.)<�q��!E\\x12\\x12*7\\x08�#p�(\\x14���槻�@\\x7fm��J\\\\`�\\x07�\\x08\\x17�\\x11��\\x115:@<缶��지6�\\x1bR\\x07��\\x1e�*�\\x1b�-ｄ\\x00�N\\x1aU�9A���m\\x08b\\tN\\x1e 廛\\t\\x02J�\\x11r���음8K7\\t\\x00_ち��6\\x0c좋\\x16Pw}�\\x16�s�\\x18>@\\x0fO�\\x07E��p0槨0T\\x12�\\t\\x05윽�U�\\x05�?蓆@�Nn�\\x1b�v�Nx].헵�03H�h蘆x벰On�+NS�8�+�_-�7jr�g城�1�l+����+jP�s0�ho�팍\\x1e\\n(~�P\\x10�\\x00B\\x0b\\x12\\x1b�(�qm\\x0b$臂�}\\x00蛾界)Z�<�\\x15$�\\x0bR9\\rE\\x10�����\\x18>m\\x00\\n3ㅃ�*�J쫠鋏촙=重\\x11進CO?���\\x1e\\x7f冬�*Y룽��\\x08�ex�\\x02芭3�\\x0fE\\x03�\\r�\\x14N渲j��e\\x1c�4d\\x17\\x131��(�g�At� \\\\�3^\\x17|�S��U�U�aI\\x1e�_\\x14\\x18,ㄱ!華�>�K�\\x12�\\x08sD[�\\x04\\x1ar��q>L暑�$\\x0f��胚泉\\\\�W=팹\\x08/�\\x19e\\x04☜G~\\x1a|���?�2��\\x1f~�\\x19\\x04\\x08覲�\\x1b�\\x1a�����∽�]췹㈜�%M�F;�\\x1f�\\x13�c�]�C�\\x0c�\\x11\\x18h�N泉�$�a\\x1f體\\x04h�\\r$뉘�\\x1dJ\\x08:璹Dv4\\x18�T[\\x00���W�lN맘ⁿ�\\x00��R��f\\x04���⑸`A|�)Mt�\\x02\\x08~S����P\\x0e]6�\\x1f�R��\\x1a\\x01\\x02����=`�\\x03\\x1d<JV�;畇\\x1bF諾lSi럴Μ\\'p�包\\x10�h0�N�\\x03\\x0b:�k�t誡_j� �t슥�>-�6勵�\\x06�)y�r_C-看�Km5�L�z\\\\5癎��6KgT섹b�\\x0eF$U[�B\\x170V�(눙��~\\x04\\x05L+eQ>\\x12�D�\\x04v)}��]�\\n�\\x0b�╊��i+�C/�#H�R\\x08,:-�Kc}\\x11ttZ겨\\x16�p\\rT�Np\\rD��f,!2\\r$�\\x06\\x11bZ\\x03:��{\\x08�3��2�\\x1cGL�a�\\x15�.t\\'\\x13�0�r�峰rA�\\x07�J\\x15-��\\x1d�又�\\x16黔L�\\x16\\x03\\t��\\x1aN\\x19�mzぼ╇���\\x17�\\x05�!W％N�\"\\x18p\\x069\\x1d�����&\\x06���\\x12D���!%>h�\\x0b~-�:3M.�\\x0e�4�\\x06��r邏\\x0bt檎潭���RO����\\x187���\\x0bA���\\n\\x17geV�d\\x04K�\\r\\x0e絞티i�稍S��{높�O{V\\x07캑侈�V�뚝�q�ZT�5�不uo�<築b*\\x7fv���-�kkZx5��틂m��磅E�h8suv#�a뜯>略C_�Y畛\\x1f���Q�pz-]\\x0b�6絡��MA옆\\x12�i|�M\\x05���D�1�冽|�m議�|�2�SZ�EC I\\x18�*��\\x14�\\x12��0\\x1cㅓ印AM�(OM\\x0fK�$�m�>���木E\\x12j�\\x12뚝Z�>\\x00�}�8@�i�r��\\x05�\\x0b�티���v\\x19&��h\\\\\\n\\tRxd�1\\x06:F\\x1b�0\\x16�&М�aQ\\x0f&쵭��a�*�Vu-越\\x19m90�輪�e�빡妨����\"�6\\x1cΞ\\x04��p=�B:u�z\\x05j\\x0c%��+�牧�0�1�w謖�i+\\x15�Hb\"Ow�0>\\\\��H|�Y�舞<�>a�G�*�6�t◇\\x13뒬G\\x1f�\\x1dp�6$Hc\\x03Zt3H{R�\"L)片�+���GS�\\x15┗�唵\\x0c녘��{죙\\x0ec愧��俉�]\\x036�S��촛!\\x01n�@\\x03;�=�n\\x1f]N\\x7fp\\x14f\\x16�>W�뿡�c�mmK�JO�?峻�.�ugC��i�\\x00�7��}�Na�>j�Z�\\x0c`��\\x0cV軟��n<ZY_�f�r冷Qj�]J\\rz\\\\\\x1e�\\x1cd\\x02G�井�>Fp㉹Mㅞ�剌驪�\\x0c��財죈�\\x0f㈚d有찢�\\x7f其���j闕y隋��x빈聽q�L�]�l�[j-��見�+y��\\x10�b�k^�繁�t\\x13�w임=擒��癎��\\x11p{�n�幢�i(hVv윳�2nw�伯�g\\x02iLJm�\\x0fh�t�(\\r6F愍\\x1d�`P��k召{\\x7f o\\tXm��U�\\x0e\\x1a寞뻔��㎝W�ve��\\x0f\\x02�,W�h�J7�D�\"@z�\"�\\x01��\\x02\\x1e\\rt纛\\x11귐����\\x1e�ハ[\\x0f =�`j喪�i?X�o\\x00P��邕}jc�\\t柰jf\\x0e�\\x068\\x14V�����n�h:&覓g3g\\x0b�m\\r\\x01�:�X^��\\x1f\\x048Ｙ\\x08��鍛\\x08\\x0f�\\x04�앓��:O苒;uf�\\x15r�\\x08���B\\x16士g�\\x1f�愚s\\x1fL\\x7f��@\\x1c]피拾���l蘆�m흙s�z\\x1d�^脣\\x19僥\\x1d擾l\\ry:囚!o\\x1bE<��`W\\x1f璋1�;�:陸�:���:舊쨘VBA�タ賠咨\\x17\\x0b>\\x0b\\nsa�a\\x01\\x17=[�\\x07\\x7ft驀i��巷���S및\\x17�Hv}叢㎾$�8�\\x16I\\x7f���遐권�\\t娼�\\x10玳�\\x141�n���y@쩠�\\x03\\x01���\\x05�5쳉찢⒞S��\\x17�\\x1f�C�\\x0fR��n�t��狼�ⅸ�┹�釧請33$�\\x0eQc����\\\\>7S包\\x04u�}ネ㎧7R�\\x04��\\x18zcW\\x1dO�As�\\rl�\\x06�Q���K�D剖복f�Zt\\x0e�\\x02^�i�楫再o��합\\x14�\"‥堯瓷\\x12}\\x0fH자} 禁u\\x07��繁r툰\\x14v{\\x1a챤�쁘\\x1b�\\x1e�E�u5�笙杰법\\x02�.\\n곡�\\x06Xw\\x139P�p�\\x00�&v��<h��Y�\\x03\\x12�z\\x0f\\x02힁秤\\x01 ���:\\x7f�o���K3E�O샹x������\\x15��>�N�/\\x16V\\'�?#�$D꽃\\x15�ZL�旋ir弦d�P��\\x07�\\x17V�\\x13�\\x0b\\x0f�\\x13\\x1c�j!\\x0e虹\\x16��\\x07�=M�0\\x12Z�fp뱄\\x06벼b곁@`p�\\x1d��+gr7\\x0b\\x1f�}랫孟i*���본\\x11�B�5H�^\\\\y�繕落�\\x15�S퉈\\x02�}\\x14f{�\\x16f�\\x03祠翎�衾�/W屈P�U�u\\x1f\\x08�蔗\\x03`v狄�tr\"��g住��<冀m�절喙rv=�\\x05I��.諜ロI�zz2uf�\\x12)�<�\\nIg┣�\\x0b\\x0e행薛~\\x01�^+�뱃�笛╂\\x17\\t-\\x05庶n塞\\x18�U�u\\x1d\\x08濟�\\x15�\\x00�o�z>[8U�Q��龕혤利\\x00z�.��{j��n�N�酬請��t�d�\\\\��/�(□�`紡�`�k\\x16l}�&\\x14,]9;\\x18�no��\\x00��;\\x00l�+刀$�껴�#\\x07��\\x06@�:�{7\\x7fv!K2g�_\\'탓e>��\"3\\x17g�]�J陳�\\x7fO�s��F�e�q�.�彦愚S�Hrπ!�~{>�_`�G[_脹-\\x0e�\\x06쇼�p\\x18\\t�_`\\x03p�\\x1b筆\\n�}\\x07\\x02�삼\\x000f�A��\\x1c��\\x1b\\x00竣*�]?]$�KK낀0GfV猖�7�PH~��\\t�\\x0b�v[��u\\r��\\x05Z�\\x0e�v;�]w頹��U�=\\x10潁z\\x0f�9�V�6�x빛|�zG\\x1b\\x1e�\\x01�xN�g�\\x0f6X�\\x16羸P茫G�S�$>[��,�%\\'Rg��|\\x1fj\\x0f��/存π阜�藻�?�ije�\\x12Z��瓦�\\x01�e�>\\x10G�z\\x0f網��!r��\\x0b��巖�=>ea9�6:O�<깔v���\\x06�%&�\\x1f\\x14~E충荳��\\x17��O\\x17N蠱���(~�M纏선��E븜�\\x01WSycJh)\\x0e�t[��8 a��8征{\\'��XH�~��\\\\�p\\x1f�S\\x17��N]\\x14\\x7f?��M��\\x19�9�9w泫�Z�\\x1a>\\x07i�\\x00�v\\x12처�\\t�傳\\x01ws\\x110\\x12Z�쟈秤}:C豈{ \\x0e샘��s\\x18�7꿉�Nfo.|�섣볏�#�#�kt\\x0ec�W���-��X성\\\\ �o/,Ξ��{3��抗�\\x0b珌d�j*�\\x01從�d���/9돋Op碼��p碇�8�WWS�dJh���>+랭\\x1d�\\x08�@\\x1c�唱\\tG12_�\\'s\\x7f�뭏綎\\x10���\\x1f�\\x04!�?\"요�!IU��)∼3���L\\x16N�]�9\\x03;찢��:�fn�텄�Ε5|�(Y�j*M�|5\\x0f�>�y���\\x17d�\\x7fI臻|zv��2s藺]q�%써蹂b?F렁�敖PBkｌ��O�h\\x19�\\x0f�A;塞\\x13 ?�\\x10뿌\\t�텨槁�뻬�#㎝Al����N\\x16V┧�O�\\x1d�?�>|沕�聘\\x05\\\\��랭\\'LPBkO}妾=r�2�\\x1e�#w�;俗G咽曉憮��&�\\x1a\\x1d\\x03�\\x15��dz)\\x7f1y�晏�\\x7f]砲⒀�!滸�d\\x17직�.~I嵬(��?#�cwO-��,���e>w�\\x07�)∴g櫛��[F�\\x03q\\x16�w\\'\\x1c\\x0f��;}#�~����R�\\x0f�c-}�N�d&��姪$uy奄�o�體K��7H���o넹����Vo\\x14\\x7f\\x0f�<�\\x01�f���\\x13$�!⑹B6�*Y咆請\\x0f2�h=槻�\\x1c巫\\x1dq�\\x01O_�\\x10樟�>D{�yr쿠슥\\x1f�e��\\x1d�s|�;訟\\x08L�\\x01\\x7f晫윱攬�|�N�隙�\\x141cㅌ�+\\x16�\\x18y���v�d�냐�\\x01wS�c��瀨F鍼\\r�[F�\\x03q`�w�\\x0e��D卑�o�f�.^\\r\\x0eIr�\\t�\\x15�\\x0f\\x16�6|C�;ニ�Ir�U�옮��\\x19| 殮툰筒q\\x10����Wt��z7�Nh�6d}骨n寐\\x02\\x00\\x1f��|�;�8힙�koiKU?�%�F�?��MM�&練$��r\\x7f�\\'\\x10�/�?%�/\\x16W謖��노\\x04㉿?�n��\\x07d��啞�_�O\\x11�v\\x0e캭룸v騁\\x01OS\\x1b%(∴\\x1b%�D�\\x03\\x12\\x02\\x1f�\\x03y�;笑Gs��/g\\x0f賴�}�^y��N^�:�� ㈚���)\\x16k����Bv6��0W{��{o�\\x02碇m�uG�衾ⓚs7�m\\x19s\\x0f콩;��p覇操便�\\x073녜o\\x17W�\\x1f\\x17앰�wqX���N��享ｋ鈍��R劣l�$\\x7f;[�~=[�?伎�`���7�i蔿��衾�\\x10w傷�:�\\x1e��w=w켸뿜���鹹喀{�\\x1b�j쿠it\\x08O�xI�s�x7Rg휫Τ7f�!珌苾�\\x13ㆀ刷:�d�\\x1dH�}��=�V��Flm蔿\\x13�扱�w�삔o� | N赦�\\t\\'鐫�-Ё�Y\\\\���:�`t�6��4:7wt崔cD��V8�]�\\x17I姪짬d狄膊�h�Y�v8�\\x7fo廚뽄GhR쯩承o�;�z{�>Цe\\x14>\\x10\\'�z��\\x13r�d拯t�`ao��r�W職�\\x04���\\x7f�L�\\x0b�\\x01{\\x0b7\\x17雉\\x0b�z닒q�쌥i�m�i\\x13^��6灑肉뼉�e�=\\x10豫z���q\\x1c�\\x1e�\\x7f\\x0eV旅拏매U2滄��d�\\x0cg���礖�Hh�{�禎\\x1ah\\x19�\\x0e캣��;�\\\\廟�\\t僕4u>u.=�徊`aZ３e�L�Vn�岳_笏滌Sg�떴��O\\x15㎣鍋�$�飡��W�Q2U?>떱\\'|\\x01`샛�D脣~k�₃w���*\\x12�\\x1c��c=w쩝1hr\\x01�\\x159�O^�it�lifqm走�t�\")\\\\龜��Y解�tz�Rre?eS�3dn�^#ps�~��\\x16\\x1f\"s[��u0���\\x03q�х��\"k��D��^_w_�W\\x12��sWW\\'\\x0f曉�z\\x1a\\x1dA[\\\\]]^�$�\\x1f\\x16�\\x03B訛룬\\x03\\x19�獵��O���놂���\\x16�ImL]�/��人�９�xk�g작\\\\4���b믿[�\\x14�CJX軟:\\x180�\\x15�핵QV뽈\\x10�\\x15�\\x13�\\x14�?촹永��贅�\\x18VyI$�\\x01���\\'AV��\\t�樂�6A\\n�x區��S俗 *C\\x1bE輪���y\\x00�\\x1d\\x14j\\x1e`�O���>�cZ\\x07,}�\\x12�y\\x1f�#�y\\x1f)5�}\\x1e\\x1fz)\\\\r3��\\'發\\x01�VP\\x19�19\\x16�\\x7fU6\\x04��\\x03\\r~0�\\x0b\\x03#K\\x18�E�쫘w4�������w�Jc\\x12/\\x0eI죗0T\\x1bG�J\\x14dp\\tT㎗�\\x00�A�\\x01�����T\\x1f�F\\x1fe\\x19���\\x143t�U�\\x11W\\x1f�\\x18U�3\\x01焚椒P戮��4�F���L\\x0b\\x0ch`�\\x05����\\x12�J�J8⊂CBB迪�@�f�h�\\x11k�M\\\\�F��/+p�V\\x015�\\x12\\x0c�E��6`� Z\\x0e貊�:��섣繪M�R티�k猊�R�s���\\x0by��癒\\x05F�z;\\x06Qm��늑�M�\\x02q�\\x08�9죕PYJ���;�ziXQ\\x18\\x1d驪�\\x13둥�\\x19�\\tl配임j9ZH��\\x07�\\t�\\x0108������P\\x06�\\x12��\\x18�\\x13zM�E\\x1b-\\x00!¸\\x02��6薄�津4��Xz�Xzw棺��e吐Y�T깆�9K_\\x15K橡Y�V깆�9鱇*�};g�_킨\\x7f�,缶*�8��\\x05��q�\\x0c�l\\x15�J\\x04\\\\�\\x05\\x10�6?�<평���ei,(#`\\x051��\\x1eH�4Vv梢���\\x02\\x13)�\\x12醬etj凡q\\x0c�m\\x12拭�\\x04�2�HG�#�짹r8�\\x10�F\\x1b�t�l��M�\\x19F�S\\x18余\\x08cLgJ�d����h�L�J%쉰��@읔\\rK�x�\\x08-�^\\x1a�+\\'�=�\\x13�c�\\x1eU�\\x034m �P�aでi�`4�\\x04�[�Ua{WE舡ti&Ⅴ��빵j槻\\x12��>曆岱�\\x10�l\\\\X�h� \\x1a�。A���:{甁�m��8�\\x1cuK)�P0팍$��I屬�w\\x0fd�2���\\x1aQm縣�\\x02�#u:��\\x14�\\x04빠�讖�\\'\\r臥e���ㅏZ����]nD�3��ベ！���\\x07\\x02Tj5��1繪�a)1�\\x1b�N���iMS$&�\\r�\\t존Ν\\x10M\\x0e�Mg멥\\x087�\\x19\\r�QJ_J�⑽�\\x04淸1��r균a\\x0b���*fW\\x1e���h�e礖�s9�b\\x0fc�e渫!項\\x07\\x06�,K�X#0nゼ벴a�\\x16�VcNE\\x10\\x0f\\x1d�\\x1cBWwMs��vU�.k��\\x0e\\x1a\\x11��!V\\x0c�B�\\x16\\x17\\x19V>\\x1eШcリ!���\\x0e�%�\\x06G!T輸��_洛�\\x1a�)\\x06o6����%iX�\\x0c��\\x08��\\x05v|�\\x171#g\\x0f젯ldP應��>\\x10e��~o#\\x11Ve�,����\\\\�u놔x\"d町依衝\\\\喧�\\x1e�伯�+\\x13*�\\x04d>_�뿡依彧�\\x18�\\t*\\x05剿d�채\\x14�C{�\\x11i�a없�K怏�NG<�D;^<�9X��i�\\x12�O-m��5�/6l�@��K�\\x1dh�DL$�?v\\x0f�_A\\x00��rk�+��Y\\x1b눅�\"�=\\x0c+Q)\\x1e\\x07倪놜�皮투�\\x07\\x0bKゥ\\rx����^��\\x10��(遽� Z�j\\x15Ħ P�`{E劉�PB(WnT鄭�N�C\\x1bL\\x13看K)�Mu1�}��`Jㅏ麴c\\x02\\x14�Q�S�u�W越U7�L�w�#b酌\\x1a:����4\\'漣��\\x1e�뾰閭柚\\x06�慌購g\\x7f\\x1a\\x0f?�S戒#�p\\x10��꼬Z�NQYuS�nll\\x0cL>\\x0c�J\\ro�\\x1b逮�僥Cf49<T\\t_f(襤 �����u�\\x18�K�5�r몰a\\x0f\"�x譬�m5竟�g/h茯f�\\x06=�pv爲씨�cd海탤�\\x04I�5w쏜稀趨�.��sz\\x12w�O$?�g�堞l!�r褘=�c��l&}&\\x7f�\\x14?����CN�3L�+�eS����1NQ�\\x1b&\\x1b1k�나&�R\\x1b*�8-F����r\\x00\\x10b��\\x155Ŀ�沒�AK���{밗���炙���ii�㏁\\x13�\\x0c\\x0f��N�^覲x\\'鐸뮈�g�����@���c$엽�&Y�具臨u珣q�\\x04r��\\\\�306�=]\\x10\\'�n��\\x1b�?��\\x0f廠\\'\\'v��닐\\x0f~\\x04暉TF���\\x1a�%(R9�\\x11�nTIAGbzＶ\\x18蠶�\\x18\\x1df��쪼�|�Xl\\x0f,�����2�蕩k�?Z7P룻\\x1ccLuA�q샙�z}V\\x02�\\x1d�\\x1e묑Tv葯�K�ツ杖V����. 燐�Z醵-�K�hg��S>斟#\\x1cy�Q�<h젬\\t�#\\x08�$뻬���8[�]貶w�\\x7fo�C�~�|��開[튄��\\x19�d\\x12쵸.�k���$�|\\\\#3�\\x102\\'�T�~념PF^@\\x04�\\x1f$qI�1m5\\x00�\\x07�T\\x0e3~�$c]u���O\\x0c!~��\\x0e緣j���牆N\\'�v\\x17Y^0tj\\x07bGi�N��Ｂ�;\\x1d�蠻�ぢt�路r\\x07GW��!�a�IG�U총\\x0e�/�\\x13�\\x02{�/��W�\\x10tv�rm��\\x1f��m\\'!�0*���1≥V�\\x1b\\x1by�\\x18B�cy�P�=a留`�\\x0b\\x13%\\x04/瑤�K�0\\x01\\x1bT앍Z\\x1a\\x1aR8듐EU�\\x0f���F�N以,��杖�k=]�.�jT�\\x06r{NV�R�G�*\\'�N�\\x10\\x1b��\\x10;lCБ♠��&愾�t5,�{*UH�\\x12j��JY②3\\t�6��%�9\\x1d}�A��\\x04豌�\\x14���4좼�\\x1d\\x11�O潽駱\\x08�bㅓ6��cw�u�\\x1c�.Cx\\x077�v�h�:�7\\x1e늅z�\\x0c�\\n�!�A윤�\\x1eX�h�w춰�pD���@B�\\x08CH�\\x0f�0?$H��\\x08\\x1d�玭+1#�k這�I�Z�0�l\\x140�\\x10Y#\\x1fT魁\\x1a\\x03lTU�\\x03N�!되�*s�/0��K珌��蒼\\'�K(�\\x03�qY\\x02X�\\x10<w57s�V�5苛\\x02cw(����q&�zcv�p=ws~q禦\\n�7��ZNl\\x1c3촘\\x18\\x17\\x0bqr06\\x1e\\x1c�y�+�[a\\x02右`#}e\\x1f�S_Xs\\x02�x�)s/$8C\\x08f\\x14\\x0b_�>�]X��]＆-f��dn8!規궜�1絲f\\x02珌믓�_%oU6U計��\\x16 ��{�\\x15U�콩@r:�^8�M/M�\\'3_��\\x0e�F�\\r脆�\\x10i.袴�?}>�^{�pj��瓜�s\\x1d��桔��\\tL�J^q\\x16^]泂~�b0�ひ�\\x18\\x17�\\x01�s��⒯\\x0f丘E~#3�/n���\\n�l���s�W�L�p�XU4뭐�4�<,탭縟 晝\\\\=vL=\\x11�\\tu\\x05K-� \\x0f\\x01(Rj\\x050\\x15�����Okj�}.�\\x034闢�\\x03a\\x05<�垓\\x1eQ��蝎0�0�Z�]�&�\"\\x0e m/G?팸as#\\x1fW�멍\\x10�����?닝掩멓t\\x01ß���U팍걍\\r���x\\x1c�J\\x08��種�\\x05,寸(윱\\\\\\x02R��뢍�gh\\x1dV\\x1c0Vp�C�T�&H�-1\\n댕C\\x1d�@� \\x1b�t\\x12�\\x04�/\\x10\\x08�xr�]�v�\\x19c�cp�q頗G����駒響�F\\x10�:堅\\x00.�h��\\x0e91\\x12\\x0b��\\x7fM�WP쐼\\x01\\x00'"
      ]
     },
     "execution_count": 78,
     "metadata": {},
     "output_type": "execute_result"
    }
   ],
   "source": [
    "resp.text"
   ]
  },
  {
   "cell_type": "code",
   "execution_count": 75,
   "metadata": {},
   "outputs": [
    {
     "data": {
      "text/plain": [
       "[]"
      ]
     },
     "execution_count": 75,
     "metadata": {},
     "output_type": "execute_result"
    }
   ],
   "source": [
    "conList = bbom_crawler(seed, 1, \"td.list_vspace img + a\")\n",
    "conList"
   ]
  },
  {
   "cell_type": "code",
   "execution_count": 62,
   "metadata": {},
   "outputs": [
    {
     "data": {
      "text/plain": [
       "['[필독] 제목에는 특수 문자 사용을 절대 금지합니다.- 2010년 2월 24일',\n",
       " '회사에서 잠시 휴식 중..마약깔창아.. 힘을 주렴..ㅠ_ㅠ',\n",
       " '한국에 온 바바라팔빈.jpg',\n",
       " '창문형 에어컨 쓰시는 분들 소음이 어느정도나 되나요 ㅎ',\n",
       " '알랜워커 라는 가수 신기합니다.;;;;',\n",
       " '옥션 냉장고 이름짓기 이벤트, 이디야 기프티콘 왔네요 ㅎㅎ',\n",
       " '문재인 대통령 뇌출혈 유언비어 유포한 기레기 \"내가 뭐 뉴스를 썼나?\".jpg',\n",
       " '옥션 이름짓기 이디야커피왔네요',\n",
       " '초파리 짝짓기 하는거 잡았습니다',\n",
       " '학교에서 겨울 때 장작 받아서 난로 피우던 게 생각나네요',\n",
       " '개고기에 대해 좀 혼란스럽네요',\n",
       " 'ㅡ.,ㅡ 냉방병 걸렷나봐요',\n",
       " '개고기 반대하는 사람들 이유가 주로 뭔가요.',\n",
       " '[펌] 문재인 정부의 경제 상황.jpg',\n",
       " '편의점 수익 구조의 진실',\n",
       " '아 듭다',\n",
       " '예전에 저희때는 학교에 선풍기만 있었어요.',\n",
       " '천안야구장 지을 돈으로 만든거.jpg',\n",
       " '아파트 집앞에 쓰레기 내놓으시는분 계십니까?',\n",
       " '썰전 박형준보다 노회찬이 먼저 하차하게 생겼네요.',\n",
       " '삼계탕 먹으러 왔습니다',\n",
       " '감기 걸렸네요 ㅠㅠ',\n",
       " '임신하고 입덧 안하는 경우도 있나봐요..',\n",
       " '방금 저번 엘지전자 이름 이벤트 기프티콘 들어왔어요',\n",
       " '자동차 보험 삼성화재 --> DB손해보험으로 갈아 타려고 준비 중입니다 ㅎㅎ',\n",
       " '냉방병이 엄청 무섭네요...',\n",
       " '오늘자 개적개.news',\n",
       " '지하철인데 왠할매가 개를 풀어놨네요',\n",
       " '우리나라 외식 영화 비율이 많이 높죠']"
      ]
     },
     "execution_count": 62,
     "metadata": {},
     "output_type": "execute_result"
    }
   ],
   "source": [
    "titles =[tag.get_text() for tag in tags]\n",
    "titles"
   ]
  },
  {
   "cell_type": "code",
   "execution_count": 63,
   "metadata": {},
   "outputs": [
    {
     "data": {
      "text/plain": [
       "['view.php?id=regulation&page=1&divpage=202&no=6',\n",
       " 'view.php?id=freeboard&page=1&divpage=1111&no=5952071',\n",
       " 'view.php?id=freeboard&page=1&divpage=1111&no=5952070',\n",
       " 'view.php?id=freeboard&page=1&divpage=1111&no=5952069',\n",
       " 'view.php?id=freeboard&page=1&divpage=1111&no=5952067',\n",
       " 'view.php?id=freeboard&page=1&divpage=1111&no=5952066',\n",
       " 'view.php?id=freeboard&page=1&divpage=1111&no=5952065',\n",
       " 'view.php?id=freeboard&page=1&divpage=1111&no=5952064',\n",
       " 'view.php?id=freeboard&page=1&divpage=1111&no=5952063',\n",
       " 'view.php?id=freeboard&page=1&divpage=1111&no=5952062',\n",
       " 'view.php?id=freeboard&page=1&divpage=1111&no=5952061',\n",
       " 'view.php?id=freeboard&page=1&divpage=1111&no=5952060',\n",
       " 'view.php?id=freeboard&page=1&divpage=1111&no=5952059',\n",
       " 'view.php?id=freeboard&page=1&divpage=1111&no=5952058',\n",
       " 'view.php?id=freeboard&page=1&divpage=1111&no=5952057',\n",
       " 'view.php?id=freeboard&page=1&divpage=1111&no=5952056',\n",
       " 'view.php?id=freeboard&page=1&divpage=1111&no=5952055',\n",
       " 'view.php?id=freeboard&page=1&divpage=1111&no=5952054',\n",
       " 'view.php?id=freeboard&page=1&divpage=1111&no=5952053',\n",
       " 'view.php?id=freeboard&page=1&divpage=1111&no=5952052',\n",
       " 'view.php?id=freeboard&page=1&divpage=1111&no=5952051',\n",
       " 'view.php?id=freeboard&page=1&divpage=1111&no=5952050',\n",
       " 'view.php?id=freeboard&page=1&divpage=1111&no=5952049',\n",
       " 'view.php?id=freeboard&page=1&divpage=1111&no=5952047',\n",
       " 'view.php?id=freeboard&page=1&divpage=1111&no=5952046',\n",
       " 'view.php?id=freeboard&page=1&divpage=1111&no=5952045',\n",
       " 'view.php?id=freeboard&page=1&divpage=1111&no=5952044',\n",
       " 'view.php?id=freeboard&page=1&divpage=1111&no=5952043',\n",
       " 'view.php?id=freeboard&page=1&divpage=1111&no=5952042']"
      ]
     },
     "execution_count": 63,
     "metadata": {},
     "output_type": "execute_result"
    }
   ],
   "source": [
    "links = [tag.get(\"href\") for tag in tags]\n",
    "links"
   ]
  },
  {
   "cell_type": "code",
   "execution_count": null,
   "metadata": {},
   "outputs": [],
   "source": []
  }
 ],
 "metadata": {
  "kernelspec": {
   "display_name": "Python 3",
   "language": "python",
   "name": "python3"
  },
  "language_info": {
   "codemirror_mode": {
    "name": "ipython",
    "version": 3
   },
   "file_extension": ".py",
   "mimetype": "text/x-python",
   "name": "python",
   "nbconvert_exporter": "python",
   "pygments_lexer": "ipython3",
   "version": "3.6.4"
  }
 },
 "nbformat": 4,
 "nbformat_minor": 2
}
